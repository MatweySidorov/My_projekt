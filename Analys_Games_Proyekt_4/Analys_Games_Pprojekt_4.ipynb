{
 "cells": [
  {
   "cell_type": "markdown",
   "id": "64ab96ee",
   "metadata": {},
   "source": [
    "# Анализ данных о продажах игр"
   ]
  },
  {
   "cell_type": "markdown",
   "id": "a3b224aa",
   "metadata": {},
   "source": [
    "**Цель исследования** — выявить определяющие успешность игры закономерности:\n",
    "\n",
    "**Ход исследования**\n",
    "\n",
    "Данные о продажах игр, оценки пользователей и экспертов, жанры и платформы получены из файла `/datasets/games.csv.`. О качестве данных ничего не известно. Поэтому перед проверкой гипотез понадобится обзор данных. \n",
    "\n",
    "Данные будут проверны  на ошибки и оценено их влияние на исследование. Затем, на этапе предобработки исправляются самые критичные ошибки данных.\n",
    "\n",
    "На основе данных считаются и добавляются новые столбцы.\n",
    " \n",
    "Таким образом, исследование пройдёт в четыре этапа:\n",
    " 1. Обзор данных.\n",
    " 2. Предобработка данных.\n",
    " 3. Добавление новых столцов.\n",
    " 4. Исследовательский анализ\n",
    " 5. Проверка гипотез"
   ]
  },
  {
   "cell_type": "markdown",
   "id": "84a3f851",
   "metadata": {},
   "source": [
    "##  Обзор данных"
   ]
  },
  {
   "cell_type": "code",
   "execution_count": 1,
   "id": "ac226abc",
   "metadata": {},
   "outputs": [],
   "source": [
    "import pandas as pd\n",
    "\n",
    "import numpy as np\n",
    "\n",
    "import random as rd\n",
    "\n",
    "import matplotlib.pyplot as plt\n",
    "\n",
    "from scipy.stats import ttest_ind\n",
    "\n",
    "from math import factorial\n",
    "\n",
    "from scipy import stats as st\n",
    "# импорт библиотек"
   ]
  },
  {
   "cell_type": "code",
   "execution_count": 2,
   "id": "3e9ca0fd",
   "metadata": {},
   "outputs": [],
   "source": [
    "data = pd.read_csv('games.csv')\n"
   ]
  },
  {
   "cell_type": "code",
   "execution_count": 3,
   "id": "03952535",
   "metadata": {},
   "outputs": [
    {
     "data": {
      "text/html": [
       "<div>\n",
       "<style scoped>\n",
       "    .dataframe tbody tr th:only-of-type {\n",
       "        vertical-align: middle;\n",
       "    }\n",
       "\n",
       "    .dataframe tbody tr th {\n",
       "        vertical-align: top;\n",
       "    }\n",
       "\n",
       "    .dataframe thead th {\n",
       "        text-align: right;\n",
       "    }\n",
       "</style>\n",
       "<table border=\"1\" class=\"dataframe\">\n",
       "  <thead>\n",
       "    <tr style=\"text-align: right;\">\n",
       "      <th></th>\n",
       "      <th>Name</th>\n",
       "      <th>Platform</th>\n",
       "      <th>Year_of_Release</th>\n",
       "      <th>Genre</th>\n",
       "      <th>NA_sales</th>\n",
       "      <th>EU_sales</th>\n",
       "      <th>JP_sales</th>\n",
       "      <th>Other_sales</th>\n",
       "      <th>Critic_Score</th>\n",
       "      <th>User_Score</th>\n",
       "      <th>Rating</th>\n",
       "    </tr>\n",
       "  </thead>\n",
       "  <tbody>\n",
       "    <tr>\n",
       "      <th>0</th>\n",
       "      <td>Wii Sports</td>\n",
       "      <td>Wii</td>\n",
       "      <td>2006.0</td>\n",
       "      <td>Sports</td>\n",
       "      <td>41.36</td>\n",
       "      <td>28.96</td>\n",
       "      <td>3.77</td>\n",
       "      <td>8.45</td>\n",
       "      <td>76.0</td>\n",
       "      <td>8</td>\n",
       "      <td>E</td>\n",
       "    </tr>\n",
       "    <tr>\n",
       "      <th>1</th>\n",
       "      <td>Super Mario Bros.</td>\n",
       "      <td>NES</td>\n",
       "      <td>1985.0</td>\n",
       "      <td>Platform</td>\n",
       "      <td>29.08</td>\n",
       "      <td>3.58</td>\n",
       "      <td>6.81</td>\n",
       "      <td>0.77</td>\n",
       "      <td>NaN</td>\n",
       "      <td>NaN</td>\n",
       "      <td>NaN</td>\n",
       "    </tr>\n",
       "    <tr>\n",
       "      <th>2</th>\n",
       "      <td>Mario Kart Wii</td>\n",
       "      <td>Wii</td>\n",
       "      <td>2008.0</td>\n",
       "      <td>Racing</td>\n",
       "      <td>15.68</td>\n",
       "      <td>12.76</td>\n",
       "      <td>3.79</td>\n",
       "      <td>3.29</td>\n",
       "      <td>82.0</td>\n",
       "      <td>8.3</td>\n",
       "      <td>E</td>\n",
       "    </tr>\n",
       "    <tr>\n",
       "      <th>3</th>\n",
       "      <td>Wii Sports Resort</td>\n",
       "      <td>Wii</td>\n",
       "      <td>2009.0</td>\n",
       "      <td>Sports</td>\n",
       "      <td>15.61</td>\n",
       "      <td>10.93</td>\n",
       "      <td>3.28</td>\n",
       "      <td>2.95</td>\n",
       "      <td>80.0</td>\n",
       "      <td>8</td>\n",
       "      <td>E</td>\n",
       "    </tr>\n",
       "    <tr>\n",
       "      <th>4</th>\n",
       "      <td>Pokemon Red/Pokemon Blue</td>\n",
       "      <td>GB</td>\n",
       "      <td>1996.0</td>\n",
       "      <td>Role-Playing</td>\n",
       "      <td>11.27</td>\n",
       "      <td>8.89</td>\n",
       "      <td>10.22</td>\n",
       "      <td>1.00</td>\n",
       "      <td>NaN</td>\n",
       "      <td>NaN</td>\n",
       "      <td>NaN</td>\n",
       "    </tr>\n",
       "  </tbody>\n",
       "</table>\n",
       "</div>"
      ],
      "text/plain": [
       "                       Name Platform  Year_of_Release         Genre  NA_sales  \\\n",
       "0                Wii Sports      Wii           2006.0        Sports     41.36   \n",
       "1         Super Mario Bros.      NES           1985.0      Platform     29.08   \n",
       "2            Mario Kart Wii      Wii           2008.0        Racing     15.68   \n",
       "3         Wii Sports Resort      Wii           2009.0        Sports     15.61   \n",
       "4  Pokemon Red/Pokemon Blue       GB           1996.0  Role-Playing     11.27   \n",
       "\n",
       "   EU_sales  JP_sales  Other_sales  Critic_Score User_Score Rating  \n",
       "0     28.96      3.77         8.45          76.0          8      E  \n",
       "1      3.58      6.81         0.77           NaN        NaN    NaN  \n",
       "2     12.76      3.79         3.29          82.0        8.3      E  \n",
       "3     10.93      3.28         2.95          80.0          8      E  \n",
       "4      8.89     10.22         1.00           NaN        NaN    NaN  "
      ]
     },
     "execution_count": 3,
     "metadata": {},
     "output_type": "execute_result"
    }
   ],
   "source": [
    "data.head()\n",
    "# получение первых 10 строк таблицы data"
   ]
  },
  {
   "cell_type": "code",
   "execution_count": 4,
   "id": "d894b9d4",
   "metadata": {},
   "outputs": [
    {
     "data": {
      "text/html": [
       "<div>\n",
       "<style scoped>\n",
       "    .dataframe tbody tr th:only-of-type {\n",
       "        vertical-align: middle;\n",
       "    }\n",
       "\n",
       "    .dataframe tbody tr th {\n",
       "        vertical-align: top;\n",
       "    }\n",
       "\n",
       "    .dataframe thead th {\n",
       "        text-align: right;\n",
       "    }\n",
       "</style>\n",
       "<table border=\"1\" class=\"dataframe\">\n",
       "  <thead>\n",
       "    <tr style=\"text-align: right;\">\n",
       "      <th></th>\n",
       "      <th>Name</th>\n",
       "      <th>Platform</th>\n",
       "      <th>Year_of_Release</th>\n",
       "      <th>Genre</th>\n",
       "      <th>NA_sales</th>\n",
       "      <th>EU_sales</th>\n",
       "      <th>JP_sales</th>\n",
       "      <th>Other_sales</th>\n",
       "      <th>Critic_Score</th>\n",
       "      <th>User_Score</th>\n",
       "      <th>Rating</th>\n",
       "    </tr>\n",
       "  </thead>\n",
       "  <tbody>\n",
       "    <tr>\n",
       "      <th>16710</th>\n",
       "      <td>Samurai Warriors: Sanada Maru</td>\n",
       "      <td>PS3</td>\n",
       "      <td>2016.0</td>\n",
       "      <td>Action</td>\n",
       "      <td>0.00</td>\n",
       "      <td>0.00</td>\n",
       "      <td>0.01</td>\n",
       "      <td>0.0</td>\n",
       "      <td>NaN</td>\n",
       "      <td>NaN</td>\n",
       "      <td>NaN</td>\n",
       "    </tr>\n",
       "    <tr>\n",
       "      <th>16711</th>\n",
       "      <td>LMA Manager 2007</td>\n",
       "      <td>X360</td>\n",
       "      <td>2006.0</td>\n",
       "      <td>Sports</td>\n",
       "      <td>0.00</td>\n",
       "      <td>0.01</td>\n",
       "      <td>0.00</td>\n",
       "      <td>0.0</td>\n",
       "      <td>NaN</td>\n",
       "      <td>NaN</td>\n",
       "      <td>NaN</td>\n",
       "    </tr>\n",
       "    <tr>\n",
       "      <th>16712</th>\n",
       "      <td>Haitaka no Psychedelica</td>\n",
       "      <td>PSV</td>\n",
       "      <td>2016.0</td>\n",
       "      <td>Adventure</td>\n",
       "      <td>0.00</td>\n",
       "      <td>0.00</td>\n",
       "      <td>0.01</td>\n",
       "      <td>0.0</td>\n",
       "      <td>NaN</td>\n",
       "      <td>NaN</td>\n",
       "      <td>NaN</td>\n",
       "    </tr>\n",
       "    <tr>\n",
       "      <th>16713</th>\n",
       "      <td>Spirits &amp; Spells</td>\n",
       "      <td>GBA</td>\n",
       "      <td>2003.0</td>\n",
       "      <td>Platform</td>\n",
       "      <td>0.01</td>\n",
       "      <td>0.00</td>\n",
       "      <td>0.00</td>\n",
       "      <td>0.0</td>\n",
       "      <td>NaN</td>\n",
       "      <td>NaN</td>\n",
       "      <td>NaN</td>\n",
       "    </tr>\n",
       "    <tr>\n",
       "      <th>16714</th>\n",
       "      <td>Winning Post 8 2016</td>\n",
       "      <td>PSV</td>\n",
       "      <td>2016.0</td>\n",
       "      <td>Simulation</td>\n",
       "      <td>0.00</td>\n",
       "      <td>0.00</td>\n",
       "      <td>0.01</td>\n",
       "      <td>0.0</td>\n",
       "      <td>NaN</td>\n",
       "      <td>NaN</td>\n",
       "      <td>NaN</td>\n",
       "    </tr>\n",
       "  </tbody>\n",
       "</table>\n",
       "</div>"
      ],
      "text/plain": [
       "                                Name Platform  Year_of_Release       Genre  \\\n",
       "16710  Samurai Warriors: Sanada Maru      PS3           2016.0      Action   \n",
       "16711               LMA Manager 2007     X360           2006.0      Sports   \n",
       "16712        Haitaka no Psychedelica      PSV           2016.0   Adventure   \n",
       "16713               Spirits & Spells      GBA           2003.0    Platform   \n",
       "16714            Winning Post 8 2016      PSV           2016.0  Simulation   \n",
       "\n",
       "       NA_sales  EU_sales  JP_sales  Other_sales  Critic_Score User_Score  \\\n",
       "16710      0.00      0.00      0.01          0.0           NaN        NaN   \n",
       "16711      0.00      0.01      0.00          0.0           NaN        NaN   \n",
       "16712      0.00      0.00      0.01          0.0           NaN        NaN   \n",
       "16713      0.01      0.00      0.00          0.0           NaN        NaN   \n",
       "16714      0.00      0.00      0.01          0.0           NaN        NaN   \n",
       "\n",
       "      Rating  \n",
       "16710    NaN  \n",
       "16711    NaN  \n",
       "16712    NaN  \n",
       "16713    NaN  \n",
       "16714    NaN  "
      ]
     },
     "execution_count": 4,
     "metadata": {},
     "output_type": "execute_result"
    }
   ],
   "source": [
    "data.tail()\n",
    "# получение последних 10 строк таблицы data"
   ]
  },
  {
   "cell_type": "code",
   "execution_count": 5,
   "id": "b48fe8fc",
   "metadata": {},
   "outputs": [
    {
     "data": {
      "text/html": [
       "<div>\n",
       "<style scoped>\n",
       "    .dataframe tbody tr th:only-of-type {\n",
       "        vertical-align: middle;\n",
       "    }\n",
       "\n",
       "    .dataframe tbody tr th {\n",
       "        vertical-align: top;\n",
       "    }\n",
       "\n",
       "    .dataframe thead th {\n",
       "        text-align: right;\n",
       "    }\n",
       "</style>\n",
       "<table border=\"1\" class=\"dataframe\">\n",
       "  <thead>\n",
       "    <tr style=\"text-align: right;\">\n",
       "      <th></th>\n",
       "      <th>count</th>\n",
       "      <th>mean</th>\n",
       "      <th>std</th>\n",
       "      <th>min</th>\n",
       "      <th>25%</th>\n",
       "      <th>50%</th>\n",
       "      <th>75%</th>\n",
       "      <th>max</th>\n",
       "    </tr>\n",
       "  </thead>\n",
       "  <tbody>\n",
       "    <tr>\n",
       "      <th>Year_of_Release</th>\n",
       "      <td>16446.0</td>\n",
       "      <td>2006.484616</td>\n",
       "      <td>5.877050</td>\n",
       "      <td>1980.0</td>\n",
       "      <td>2003.0</td>\n",
       "      <td>2007.00</td>\n",
       "      <td>2010.00</td>\n",
       "      <td>2016.00</td>\n",
       "    </tr>\n",
       "    <tr>\n",
       "      <th>NA_sales</th>\n",
       "      <td>16715.0</td>\n",
       "      <td>0.263377</td>\n",
       "      <td>0.813604</td>\n",
       "      <td>0.0</td>\n",
       "      <td>0.0</td>\n",
       "      <td>0.08</td>\n",
       "      <td>0.24</td>\n",
       "      <td>41.36</td>\n",
       "    </tr>\n",
       "    <tr>\n",
       "      <th>EU_sales</th>\n",
       "      <td>16715.0</td>\n",
       "      <td>0.145060</td>\n",
       "      <td>0.503339</td>\n",
       "      <td>0.0</td>\n",
       "      <td>0.0</td>\n",
       "      <td>0.02</td>\n",
       "      <td>0.11</td>\n",
       "      <td>28.96</td>\n",
       "    </tr>\n",
       "    <tr>\n",
       "      <th>JP_sales</th>\n",
       "      <td>16715.0</td>\n",
       "      <td>0.077617</td>\n",
       "      <td>0.308853</td>\n",
       "      <td>0.0</td>\n",
       "      <td>0.0</td>\n",
       "      <td>0.00</td>\n",
       "      <td>0.04</td>\n",
       "      <td>10.22</td>\n",
       "    </tr>\n",
       "    <tr>\n",
       "      <th>Other_sales</th>\n",
       "      <td>16715.0</td>\n",
       "      <td>0.047342</td>\n",
       "      <td>0.186731</td>\n",
       "      <td>0.0</td>\n",
       "      <td>0.0</td>\n",
       "      <td>0.01</td>\n",
       "      <td>0.03</td>\n",
       "      <td>10.57</td>\n",
       "    </tr>\n",
       "    <tr>\n",
       "      <th>Critic_Score</th>\n",
       "      <td>8137.0</td>\n",
       "      <td>68.967679</td>\n",
       "      <td>13.938165</td>\n",
       "      <td>13.0</td>\n",
       "      <td>60.0</td>\n",
       "      <td>71.00</td>\n",
       "      <td>79.00</td>\n",
       "      <td>98.00</td>\n",
       "    </tr>\n",
       "  </tbody>\n",
       "</table>\n",
       "</div>"
      ],
      "text/plain": [
       "                   count         mean        std     min     25%      50%  \\\n",
       "Year_of_Release  16446.0  2006.484616   5.877050  1980.0  2003.0  2007.00   \n",
       "NA_sales         16715.0     0.263377   0.813604     0.0     0.0     0.08   \n",
       "EU_sales         16715.0     0.145060   0.503339     0.0     0.0     0.02   \n",
       "JP_sales         16715.0     0.077617   0.308853     0.0     0.0     0.00   \n",
       "Other_sales      16715.0     0.047342   0.186731     0.0     0.0     0.01   \n",
       "Critic_Score      8137.0    68.967679  13.938165    13.0    60.0    71.00   \n",
       "\n",
       "                     75%      max  \n",
       "Year_of_Release  2010.00  2016.00  \n",
       "NA_sales            0.24    41.36  \n",
       "EU_sales            0.11    28.96  \n",
       "JP_sales            0.04    10.22  \n",
       "Other_sales         0.03    10.57  \n",
       "Critic_Score       79.00    98.00  "
      ]
     },
     "execution_count": 5,
     "metadata": {},
     "output_type": "execute_result"
    }
   ],
   "source": [
    "data.describe().T\n",
    "# получение общей информации о данных в таблице data"
   ]
  },
  {
   "cell_type": "code",
   "execution_count": 6,
   "id": "c4bb9ff4",
   "metadata": {},
   "outputs": [
    {
     "name": "stdout",
     "output_type": "stream",
     "text": [
      "<class 'pandas.core.frame.DataFrame'>\n",
      "RangeIndex: 16715 entries, 0 to 16714\n",
      "Data columns (total 11 columns):\n",
      " #   Column           Non-Null Count  Dtype  \n",
      "---  ------           --------------  -----  \n",
      " 0   Name             16713 non-null  object \n",
      " 1   Platform         16715 non-null  object \n",
      " 2   Year_of_Release  16446 non-null  float64\n",
      " 3   Genre            16713 non-null  object \n",
      " 4   NA_sales         16715 non-null  float64\n",
      " 5   EU_sales         16715 non-null  float64\n",
      " 6   JP_sales         16715 non-null  float64\n",
      " 7   Other_sales      16715 non-null  float64\n",
      " 8   Critic_Score     8137 non-null   float64\n",
      " 9   User_Score       10014 non-null  object \n",
      " 10  Rating           9949 non-null   object \n",
      "dtypes: float64(6), object(5)\n",
      "memory usage: 1.4+ MB\n"
     ]
    }
   ],
   "source": [
    "data.info()\n",
    "# получение общей информации о данных в таблице data"
   ]
  },
  {
   "cell_type": "markdown",
   "id": "0ee889b6",
   "metadata": {},
   "source": [
    "В таблице 11 столбцов. Тип данных в столбцах различается. Присутствует — `float64`(6), `object`(5).\n",
    "\n",
    "Согласно документации к данным:\n",
    "* `Name` — название игры\n",
    "* `Platform` — платформа\n",
    "* `Year_of_Release` — год выпуска\n",
    "* `Genre` — жанр игры\n",
    "* `NA_sales` — продажи в Северной Америке (миллионы проданных копий)\n",
    "* `EU_sales` — продажи в Европе (миллионы проданных копий)\n",
    "* `JP_sales` — продажи в Японии (миллионы проданных копий)\n",
    "* `Other_sales` — продажи в других странах (миллионы проданных копий)\n",
    "* `Critic_Score` — оценка критиков (максимум 100)\n",
    "* `User_Score` — оценка пользователей (максимум 10)\n",
    "* `Rating` — рейтинг от организации ESRB (англ. Entertainment Software Rating Board).\n",
    "\n",
    "В названиях колонок выявлено нарушение стиля.\n",
    "\n",
    "Количество значений в столбцах различается. Значит, в данных есть пропущенные значения."
   ]
  },
  {
   "cell_type": "markdown",
   "id": "f04b8d3b",
   "metadata": {},
   "source": [
    "**Вывод**\n",
    "\n",
    "Предварительно можно утверждать, что, данных достаточно для исследовательского анализа. Но встречаются пропуски в данных, некоторые из котрох можно исправить.\n",
    "\n",
    "Чтобы двигаться дальше, нужно устранить проблемы в данных."
   ]
  },
  {
   "cell_type": "markdown",
   "id": "db312d34",
   "metadata": {},
   "source": [
    "## Предобработка данных"
   ]
  },
  {
   "cell_type": "markdown",
   "id": "26e1469c",
   "metadata": {},
   "source": [
    "### Исправление названий столбцов"
   ]
  },
  {
   "cell_type": "code",
   "execution_count": 7,
   "id": "457c7483",
   "metadata": {},
   "outputs": [
    {
     "data": {
      "text/html": [
       "<div>\n",
       "<style scoped>\n",
       "    .dataframe tbody tr th:only-of-type {\n",
       "        vertical-align: middle;\n",
       "    }\n",
       "\n",
       "    .dataframe tbody tr th {\n",
       "        vertical-align: top;\n",
       "    }\n",
       "\n",
       "    .dataframe thead th {\n",
       "        text-align: right;\n",
       "    }\n",
       "</style>\n",
       "<table border=\"1\" class=\"dataframe\">\n",
       "  <thead>\n",
       "    <tr style=\"text-align: right;\">\n",
       "      <th></th>\n",
       "      <th>Name</th>\n",
       "      <th>Platform</th>\n",
       "      <th>Year_of_Release</th>\n",
       "      <th>Genre</th>\n",
       "      <th>NA_sales</th>\n",
       "      <th>EU_sales</th>\n",
       "      <th>JP_sales</th>\n",
       "      <th>Other_sales</th>\n",
       "      <th>Critic_Score</th>\n",
       "      <th>User_Score</th>\n",
       "      <th>Rating</th>\n",
       "    </tr>\n",
       "  </thead>\n",
       "  <tbody>\n",
       "    <tr>\n",
       "      <th>0</th>\n",
       "      <td>Wii Sports</td>\n",
       "      <td>Wii</td>\n",
       "      <td>2006.0</td>\n",
       "      <td>Sports</td>\n",
       "      <td>41.36</td>\n",
       "      <td>28.96</td>\n",
       "      <td>3.77</td>\n",
       "      <td>8.45</td>\n",
       "      <td>76.0</td>\n",
       "      <td>8</td>\n",
       "      <td>E</td>\n",
       "    </tr>\n",
       "    <tr>\n",
       "      <th>1</th>\n",
       "      <td>Super Mario Bros.</td>\n",
       "      <td>NES</td>\n",
       "      <td>1985.0</td>\n",
       "      <td>Platform</td>\n",
       "      <td>29.08</td>\n",
       "      <td>3.58</td>\n",
       "      <td>6.81</td>\n",
       "      <td>0.77</td>\n",
       "      <td>NaN</td>\n",
       "      <td>NaN</td>\n",
       "      <td>NaN</td>\n",
       "    </tr>\n",
       "    <tr>\n",
       "      <th>2</th>\n",
       "      <td>Mario Kart Wii</td>\n",
       "      <td>Wii</td>\n",
       "      <td>2008.0</td>\n",
       "      <td>Racing</td>\n",
       "      <td>15.68</td>\n",
       "      <td>12.76</td>\n",
       "      <td>3.79</td>\n",
       "      <td>3.29</td>\n",
       "      <td>82.0</td>\n",
       "      <td>8.3</td>\n",
       "      <td>E</td>\n",
       "    </tr>\n",
       "    <tr>\n",
       "      <th>3</th>\n",
       "      <td>Wii Sports Resort</td>\n",
       "      <td>Wii</td>\n",
       "      <td>2009.0</td>\n",
       "      <td>Sports</td>\n",
       "      <td>15.61</td>\n",
       "      <td>10.93</td>\n",
       "      <td>3.28</td>\n",
       "      <td>2.95</td>\n",
       "      <td>80.0</td>\n",
       "      <td>8</td>\n",
       "      <td>E</td>\n",
       "    </tr>\n",
       "    <tr>\n",
       "      <th>4</th>\n",
       "      <td>Pokemon Red/Pokemon Blue</td>\n",
       "      <td>GB</td>\n",
       "      <td>1996.0</td>\n",
       "      <td>Role-Playing</td>\n",
       "      <td>11.27</td>\n",
       "      <td>8.89</td>\n",
       "      <td>10.22</td>\n",
       "      <td>1.00</td>\n",
       "      <td>NaN</td>\n",
       "      <td>NaN</td>\n",
       "      <td>NaN</td>\n",
       "    </tr>\n",
       "  </tbody>\n",
       "</table>\n",
       "</div>"
      ],
      "text/plain": [
       "                       Name Platform  Year_of_Release         Genre  NA_sales  \\\n",
       "0                Wii Sports      Wii           2006.0        Sports     41.36   \n",
       "1         Super Mario Bros.      NES           1985.0      Platform     29.08   \n",
       "2            Mario Kart Wii      Wii           2008.0        Racing     15.68   \n",
       "3         Wii Sports Resort      Wii           2009.0        Sports     15.61   \n",
       "4  Pokemon Red/Pokemon Blue       GB           1996.0  Role-Playing     11.27   \n",
       "\n",
       "   EU_sales  JP_sales  Other_sales  Critic_Score User_Score Rating  \n",
       "0     28.96      3.77         8.45          76.0          8      E  \n",
       "1      3.58      6.81         0.77           NaN        NaN    NaN  \n",
       "2     12.76      3.79         3.29          82.0        8.3      E  \n",
       "3     10.93      3.28         2.95          80.0          8      E  \n",
       "4      8.89     10.22         1.00           NaN        NaN    NaN  "
      ]
     },
     "execution_count": 7,
     "metadata": {},
     "output_type": "execute_result"
    }
   ],
   "source": [
    "data.head()"
   ]
  },
  {
   "cell_type": "code",
   "execution_count": 8,
   "id": "3992efe5",
   "metadata": {},
   "outputs": [],
   "source": [
    "data.columns = [col.lower() for col in data.columns]\n",
    "# приводим названия столбцов к нижнему регистру через цикл"
   ]
  },
  {
   "cell_type": "code",
   "execution_count": 9,
   "id": "8c5bff73",
   "metadata": {},
   "outputs": [
    {
     "data": {
      "text/plain": [
       "Index(['name', 'platform', 'year_of_release', 'genre', 'na_sales', 'eu_sales',\n",
       "       'jp_sales', 'other_sales', 'critic_score', 'user_score', 'rating'],\n",
       "      dtype='object')"
      ]
     },
     "execution_count": 9,
     "metadata": {},
     "output_type": "execute_result"
    }
   ],
   "source": [
    "data.columns\n",
    "# проверка"
   ]
  },
  {
   "cell_type": "markdown",
   "id": "027e2c9f",
   "metadata": {},
   "source": [
    "### Преобразовние данных в нужные типы"
   ]
  },
  {
   "cell_type": "code",
   "execution_count": 10,
   "id": "9fbfe439",
   "metadata": {},
   "outputs": [
    {
     "data": {
      "text/html": [
       "<div>\n",
       "<style scoped>\n",
       "    .dataframe tbody tr th:only-of-type {\n",
       "        vertical-align: middle;\n",
       "    }\n",
       "\n",
       "    .dataframe tbody tr th {\n",
       "        vertical-align: top;\n",
       "    }\n",
       "\n",
       "    .dataframe thead th {\n",
       "        text-align: right;\n",
       "    }\n",
       "</style>\n",
       "<table border=\"1\" class=\"dataframe\">\n",
       "  <thead>\n",
       "    <tr style=\"text-align: right;\">\n",
       "      <th></th>\n",
       "      <th>name</th>\n",
       "      <th>platform</th>\n",
       "      <th>year_of_release</th>\n",
       "      <th>genre</th>\n",
       "      <th>na_sales</th>\n",
       "      <th>eu_sales</th>\n",
       "      <th>jp_sales</th>\n",
       "      <th>other_sales</th>\n",
       "      <th>critic_score</th>\n",
       "      <th>user_score</th>\n",
       "      <th>rating</th>\n",
       "    </tr>\n",
       "  </thead>\n",
       "  <tbody>\n",
       "    <tr>\n",
       "      <th>0</th>\n",
       "      <td>Wii Sports</td>\n",
       "      <td>Wii</td>\n",
       "      <td>2006.0</td>\n",
       "      <td>Sports</td>\n",
       "      <td>41.36</td>\n",
       "      <td>28.96</td>\n",
       "      <td>3.77</td>\n",
       "      <td>8.45</td>\n",
       "      <td>76.0</td>\n",
       "      <td>8</td>\n",
       "      <td>E</td>\n",
       "    </tr>\n",
       "    <tr>\n",
       "      <th>1</th>\n",
       "      <td>Super Mario Bros.</td>\n",
       "      <td>NES</td>\n",
       "      <td>1985.0</td>\n",
       "      <td>Platform</td>\n",
       "      <td>29.08</td>\n",
       "      <td>3.58</td>\n",
       "      <td>6.81</td>\n",
       "      <td>0.77</td>\n",
       "      <td>NaN</td>\n",
       "      <td>NaN</td>\n",
       "      <td>NaN</td>\n",
       "    </tr>\n",
       "    <tr>\n",
       "      <th>2</th>\n",
       "      <td>Mario Kart Wii</td>\n",
       "      <td>Wii</td>\n",
       "      <td>2008.0</td>\n",
       "      <td>Racing</td>\n",
       "      <td>15.68</td>\n",
       "      <td>12.76</td>\n",
       "      <td>3.79</td>\n",
       "      <td>3.29</td>\n",
       "      <td>82.0</td>\n",
       "      <td>8.3</td>\n",
       "      <td>E</td>\n",
       "    </tr>\n",
       "    <tr>\n",
       "      <th>3</th>\n",
       "      <td>Wii Sports Resort</td>\n",
       "      <td>Wii</td>\n",
       "      <td>2009.0</td>\n",
       "      <td>Sports</td>\n",
       "      <td>15.61</td>\n",
       "      <td>10.93</td>\n",
       "      <td>3.28</td>\n",
       "      <td>2.95</td>\n",
       "      <td>80.0</td>\n",
       "      <td>8</td>\n",
       "      <td>E</td>\n",
       "    </tr>\n",
       "    <tr>\n",
       "      <th>4</th>\n",
       "      <td>Pokemon Red/Pokemon Blue</td>\n",
       "      <td>GB</td>\n",
       "      <td>1996.0</td>\n",
       "      <td>Role-Playing</td>\n",
       "      <td>11.27</td>\n",
       "      <td>8.89</td>\n",
       "      <td>10.22</td>\n",
       "      <td>1.00</td>\n",
       "      <td>NaN</td>\n",
       "      <td>NaN</td>\n",
       "      <td>NaN</td>\n",
       "    </tr>\n",
       "  </tbody>\n",
       "</table>\n",
       "</div>"
      ],
      "text/plain": [
       "                       name platform  year_of_release         genre  na_sales  \\\n",
       "0                Wii Sports      Wii           2006.0        Sports     41.36   \n",
       "1         Super Mario Bros.      NES           1985.0      Platform     29.08   \n",
       "2            Mario Kart Wii      Wii           2008.0        Racing     15.68   \n",
       "3         Wii Sports Resort      Wii           2009.0        Sports     15.61   \n",
       "4  Pokemon Red/Pokemon Blue       GB           1996.0  Role-Playing     11.27   \n",
       "\n",
       "   eu_sales  jp_sales  other_sales  critic_score user_score rating  \n",
       "0     28.96      3.77         8.45          76.0          8      E  \n",
       "1      3.58      6.81         0.77           NaN        NaN    NaN  \n",
       "2     12.76      3.79         3.29          82.0        8.3      E  \n",
       "3     10.93      3.28         2.95          80.0          8      E  \n",
       "4      8.89     10.22         1.00           NaN        NaN    NaN  "
      ]
     },
     "execution_count": 10,
     "metadata": {},
     "output_type": "execute_result"
    }
   ],
   "source": [
    "data.head()"
   ]
  },
  {
   "cell_type": "code",
   "execution_count": 11,
   "id": "532bf025",
   "metadata": {},
   "outputs": [],
   "source": [
    "data['year_of_release'] = pd.to_datetime(data['year_of_release'], format= '%Y')\n",
    "data['year_of_release'] = pd.DatetimeIndex(data['year_of_release']).year"
   ]
  },
  {
   "cell_type": "code",
   "execution_count": 12,
   "id": "1144d364",
   "metadata": {
    "scrolled": true
   },
   "outputs": [
    {
     "data": {
      "text/html": [
       "<div>\n",
       "<style scoped>\n",
       "    .dataframe tbody tr th:only-of-type {\n",
       "        vertical-align: middle;\n",
       "    }\n",
       "\n",
       "    .dataframe tbody tr th {\n",
       "        vertical-align: top;\n",
       "    }\n",
       "\n",
       "    .dataframe thead th {\n",
       "        text-align: right;\n",
       "    }\n",
       "</style>\n",
       "<table border=\"1\" class=\"dataframe\">\n",
       "  <thead>\n",
       "    <tr style=\"text-align: right;\">\n",
       "      <th></th>\n",
       "      <th>name</th>\n",
       "      <th>platform</th>\n",
       "      <th>year_of_release</th>\n",
       "      <th>genre</th>\n",
       "      <th>na_sales</th>\n",
       "      <th>eu_sales</th>\n",
       "      <th>jp_sales</th>\n",
       "      <th>other_sales</th>\n",
       "      <th>critic_score</th>\n",
       "      <th>user_score</th>\n",
       "      <th>rating</th>\n",
       "    </tr>\n",
       "  </thead>\n",
       "  <tbody>\n",
       "    <tr>\n",
       "      <th>1764</th>\n",
       "      <td>Kaboom!</td>\n",
       "      <td>2600</td>\n",
       "      <td>1980.0</td>\n",
       "      <td>Misc</td>\n",
       "      <td>1.07</td>\n",
       "      <td>0.07</td>\n",
       "      <td>0.0</td>\n",
       "      <td>0.01</td>\n",
       "      <td>NaN</td>\n",
       "      <td>NaN</td>\n",
       "      <td>NaN</td>\n",
       "    </tr>\n",
       "    <tr>\n",
       "      <th>546</th>\n",
       "      <td>Missile Command</td>\n",
       "      <td>2600</td>\n",
       "      <td>1980.0</td>\n",
       "      <td>Shooter</td>\n",
       "      <td>2.56</td>\n",
       "      <td>0.17</td>\n",
       "      <td>0.0</td>\n",
       "      <td>0.03</td>\n",
       "      <td>NaN</td>\n",
       "      <td>NaN</td>\n",
       "      <td>NaN</td>\n",
       "    </tr>\n",
       "    <tr>\n",
       "      <th>1968</th>\n",
       "      <td>Defender</td>\n",
       "      <td>2600</td>\n",
       "      <td>1980.0</td>\n",
       "      <td>Misc</td>\n",
       "      <td>0.99</td>\n",
       "      <td>0.05</td>\n",
       "      <td>0.0</td>\n",
       "      <td>0.01</td>\n",
       "      <td>NaN</td>\n",
       "      <td>NaN</td>\n",
       "      <td>NaN</td>\n",
       "    </tr>\n",
       "    <tr>\n",
       "      <th>6300</th>\n",
       "      <td>Bridge</td>\n",
       "      <td>2600</td>\n",
       "      <td>1980.0</td>\n",
       "      <td>Misc</td>\n",
       "      <td>0.25</td>\n",
       "      <td>0.02</td>\n",
       "      <td>0.0</td>\n",
       "      <td>0.00</td>\n",
       "      <td>NaN</td>\n",
       "      <td>NaN</td>\n",
       "      <td>NaN</td>\n",
       "    </tr>\n",
       "    <tr>\n",
       "      <th>6875</th>\n",
       "      <td>Checkers</td>\n",
       "      <td>2600</td>\n",
       "      <td>1980.0</td>\n",
       "      <td>Misc</td>\n",
       "      <td>0.22</td>\n",
       "      <td>0.01</td>\n",
       "      <td>0.0</td>\n",
       "      <td>0.00</td>\n",
       "      <td>NaN</td>\n",
       "      <td>NaN</td>\n",
       "      <td>NaN</td>\n",
       "    </tr>\n",
       "  </tbody>\n",
       "</table>\n",
       "</div>"
      ],
      "text/plain": [
       "                 name platform  year_of_release    genre  na_sales  eu_sales  \\\n",
       "1764          Kaboom!     2600           1980.0     Misc      1.07      0.07   \n",
       "546   Missile Command     2600           1980.0  Shooter      2.56      0.17   \n",
       "1968         Defender     2600           1980.0     Misc      0.99      0.05   \n",
       "6300           Bridge     2600           1980.0     Misc      0.25      0.02   \n",
       "6875         Checkers     2600           1980.0     Misc      0.22      0.01   \n",
       "\n",
       "      jp_sales  other_sales  critic_score user_score rating  \n",
       "1764       0.0         0.01           NaN        NaN    NaN  \n",
       "546        0.0         0.03           NaN        NaN    NaN  \n",
       "1968       0.0         0.01           NaN        NaN    NaN  \n",
       "6300       0.0         0.00           NaN        NaN    NaN  \n",
       "6875       0.0         0.00           NaN        NaN    NaN  "
      ]
     },
     "execution_count": 12,
     "metadata": {},
     "output_type": "execute_result"
    }
   ],
   "source": [
    "data.sort_values(by='year_of_release').head()"
   ]
  },
  {
   "cell_type": "markdown",
   "id": "49c13401",
   "metadata": {},
   "source": [
    "Было желание перевести столбцы `na_sales`,`eu_sales`,`jp_sales`,`other_sales` в формат `int` однако это привело бы к потере большого количества данных, что могло повлиять на итог исслеования."
   ]
  },
  {
   "cell_type": "code",
   "execution_count": 13,
   "id": "20efe43b",
   "metadata": {},
   "outputs": [],
   "source": [
    "data['user_score'] = pd.to_numeric(data['user_score'], errors='coerce')\n",
    "# смена tbd, на значения \"NaN\""
   ]
  },
  {
   "cell_type": "code",
   "execution_count": 14,
   "id": "fc7733d2",
   "metadata": {},
   "outputs": [
    {
     "data": {
      "text/plain": [
       "0"
      ]
     },
     "execution_count": 14,
     "metadata": {},
     "output_type": "execute_result"
    }
   ],
   "source": [
    "data.query('user_score == \"tbd\"')['user_score'].count()\n",
    "# проверка"
   ]
  },
  {
   "cell_type": "markdown",
   "id": "8eca1000",
   "metadata": {},
   "source": [
    "Аббревиатура `tbd` обозначает, что рейтинг еще не определен, поэтому принято  решение поменять `tbd`, на значения \"NaN\", чтобы можно проводить математические операции со столбцом.\n",
    "Так как рейтинг не определен, замена значения на \"NaN\" не скажется на итоге исследования."
   ]
  },
  {
   "cell_type": "markdown",
   "id": "fe4bf241",
   "metadata": {},
   "source": [
    "**Пропуски**\n",
    "\n",
    "В ходе предобработки выявлена определенная закономерность.\n",
    "Пропуски в столбцах `critic_score`, `user_score`, `rating` напрямую связаны с двумя факторами:\n",
    "1) С годом выпуска игры\n",
    "- более ранние игры в большинстве своем без оценки и рейтинга\n",
    "\n",
    "2) С количеством проданных копий\n",
    "- если игра непопулярная и практически не покупалась, то у нее нет рейтинга и оценки\n",
    "\n",
    "Два этих фактора взаимосвязаны друг с другом, так как более ранние игры в свое время покупались в десятки раз меньше, чем современные сейчас. Вероятнее всего это связано с техническим прогрессом, благодаря которому сейчас  большее количество людей имеет возможность приобрести приставку. "
   ]
  },
  {
   "cell_type": "markdown",
   "id": "d682591a",
   "metadata": {},
   "source": [
    "### Добавление столбцов"
   ]
  },
  {
   "cell_type": "code",
   "execution_count": 15,
   "id": "15e9b987",
   "metadata": {},
   "outputs": [],
   "source": [
    "data['all_sales'] = data['na_sales'] + data['eu_sales'] + data['jp_sales'] + data['other_sales']\n",
    "# создаем столбец с сумарными продажами"
   ]
  },
  {
   "cell_type": "code",
   "execution_count": 16,
   "id": "7f8b8dce",
   "metadata": {},
   "outputs": [
    {
     "data": {
      "text/html": [
       "<div>\n",
       "<style scoped>\n",
       "    .dataframe tbody tr th:only-of-type {\n",
       "        vertical-align: middle;\n",
       "    }\n",
       "\n",
       "    .dataframe tbody tr th {\n",
       "        vertical-align: top;\n",
       "    }\n",
       "\n",
       "    .dataframe thead th {\n",
       "        text-align: right;\n",
       "    }\n",
       "</style>\n",
       "<table border=\"1\" class=\"dataframe\">\n",
       "  <thead>\n",
       "    <tr style=\"text-align: right;\">\n",
       "      <th></th>\n",
       "      <th>name</th>\n",
       "      <th>platform</th>\n",
       "      <th>year_of_release</th>\n",
       "      <th>genre</th>\n",
       "      <th>na_sales</th>\n",
       "      <th>eu_sales</th>\n",
       "      <th>jp_sales</th>\n",
       "      <th>other_sales</th>\n",
       "      <th>critic_score</th>\n",
       "      <th>user_score</th>\n",
       "      <th>rating</th>\n",
       "      <th>all_sales</th>\n",
       "    </tr>\n",
       "  </thead>\n",
       "  <tbody>\n",
       "    <tr>\n",
       "      <th>0</th>\n",
       "      <td>Wii Sports</td>\n",
       "      <td>Wii</td>\n",
       "      <td>2006.0</td>\n",
       "      <td>Sports</td>\n",
       "      <td>41.36</td>\n",
       "      <td>28.96</td>\n",
       "      <td>3.77</td>\n",
       "      <td>8.45</td>\n",
       "      <td>76.0</td>\n",
       "      <td>8.0</td>\n",
       "      <td>E</td>\n",
       "      <td>82.54</td>\n",
       "    </tr>\n",
       "    <tr>\n",
       "      <th>1</th>\n",
       "      <td>Super Mario Bros.</td>\n",
       "      <td>NES</td>\n",
       "      <td>1985.0</td>\n",
       "      <td>Platform</td>\n",
       "      <td>29.08</td>\n",
       "      <td>3.58</td>\n",
       "      <td>6.81</td>\n",
       "      <td>0.77</td>\n",
       "      <td>NaN</td>\n",
       "      <td>NaN</td>\n",
       "      <td>NaN</td>\n",
       "      <td>40.24</td>\n",
       "    </tr>\n",
       "    <tr>\n",
       "      <th>2</th>\n",
       "      <td>Mario Kart Wii</td>\n",
       "      <td>Wii</td>\n",
       "      <td>2008.0</td>\n",
       "      <td>Racing</td>\n",
       "      <td>15.68</td>\n",
       "      <td>12.76</td>\n",
       "      <td>3.79</td>\n",
       "      <td>3.29</td>\n",
       "      <td>82.0</td>\n",
       "      <td>8.3</td>\n",
       "      <td>E</td>\n",
       "      <td>35.52</td>\n",
       "    </tr>\n",
       "    <tr>\n",
       "      <th>3</th>\n",
       "      <td>Wii Sports Resort</td>\n",
       "      <td>Wii</td>\n",
       "      <td>2009.0</td>\n",
       "      <td>Sports</td>\n",
       "      <td>15.61</td>\n",
       "      <td>10.93</td>\n",
       "      <td>3.28</td>\n",
       "      <td>2.95</td>\n",
       "      <td>80.0</td>\n",
       "      <td>8.0</td>\n",
       "      <td>E</td>\n",
       "      <td>32.77</td>\n",
       "    </tr>\n",
       "    <tr>\n",
       "      <th>4</th>\n",
       "      <td>Pokemon Red/Pokemon Blue</td>\n",
       "      <td>GB</td>\n",
       "      <td>1996.0</td>\n",
       "      <td>Role-Playing</td>\n",
       "      <td>11.27</td>\n",
       "      <td>8.89</td>\n",
       "      <td>10.22</td>\n",
       "      <td>1.00</td>\n",
       "      <td>NaN</td>\n",
       "      <td>NaN</td>\n",
       "      <td>NaN</td>\n",
       "      <td>31.38</td>\n",
       "    </tr>\n",
       "  </tbody>\n",
       "</table>\n",
       "</div>"
      ],
      "text/plain": [
       "                       name platform  year_of_release         genre  na_sales  \\\n",
       "0                Wii Sports      Wii           2006.0        Sports     41.36   \n",
       "1         Super Mario Bros.      NES           1985.0      Platform     29.08   \n",
       "2            Mario Kart Wii      Wii           2008.0        Racing     15.68   \n",
       "3         Wii Sports Resort      Wii           2009.0        Sports     15.61   \n",
       "4  Pokemon Red/Pokemon Blue       GB           1996.0  Role-Playing     11.27   \n",
       "\n",
       "   eu_sales  jp_sales  other_sales  critic_score  user_score rating  all_sales  \n",
       "0     28.96      3.77         8.45          76.0         8.0      E      82.54  \n",
       "1      3.58      6.81         0.77           NaN         NaN    NaN      40.24  \n",
       "2     12.76      3.79         3.29          82.0         8.3      E      35.52  \n",
       "3     10.93      3.28         2.95          80.0         8.0      E      32.77  \n",
       "4      8.89     10.22         1.00           NaN         NaN    NaN      31.38  "
      ]
     },
     "execution_count": 16,
     "metadata": {},
     "output_type": "execute_result"
    }
   ],
   "source": [
    "data.head()\n",
    "# проверка"
   ]
  },
  {
   "cell_type": "code",
   "execution_count": 17,
   "id": "a4849954",
   "metadata": {},
   "outputs": [
    {
     "data": {
      "text/plain": [
       "array(['E', nan, 'M', 'T', 'E10+', 'K-A', 'AO', 'EC', 'RP'], dtype=object)"
      ]
     },
     "execution_count": 17,
     "metadata": {},
     "output_type": "execute_result"
    }
   ],
   "source": [
    "data['rating'].unique()"
   ]
  },
  {
   "cell_type": "code",
   "execution_count": 18,
   "id": "c75ec731",
   "metadata": {},
   "outputs": [],
   "source": [
    "def rating(value):\n",
    "    if value == 'E':\n",
    "        return 'Для всех'\n",
    "    if value == 'M':\n",
    "        return 'Для взрослых'\n",
    "    if value == 'T':\n",
    "        return 'Подросткам'\n",
    "    if value == 'E10+':\n",
    "        return 'От 10 лет и старше'\n",
    "    if value == 'K-A':\n",
    "        return 'Для детей и взрослых'\n",
    "    if value == 'EC':\n",
    "        return 'Для детей младшего возраста'\n",
    "    if value == 'AO':\n",
    "        return 'Только для взрослых'\n",
    "    if value == 'RP':\n",
    "        return 'Рейтинг ожидается'"
   ]
  },
  {
   "cell_type": "code",
   "execution_count": 19,
   "id": "312159fb",
   "metadata": {},
   "outputs": [
    {
     "data": {
      "text/html": [
       "<div>\n",
       "<style scoped>\n",
       "    .dataframe tbody tr th:only-of-type {\n",
       "        vertical-align: middle;\n",
       "    }\n",
       "\n",
       "    .dataframe tbody tr th {\n",
       "        vertical-align: top;\n",
       "    }\n",
       "\n",
       "    .dataframe thead th {\n",
       "        text-align: right;\n",
       "    }\n",
       "</style>\n",
       "<table border=\"1\" class=\"dataframe\">\n",
       "  <thead>\n",
       "    <tr style=\"text-align: right;\">\n",
       "      <th></th>\n",
       "      <th>name</th>\n",
       "      <th>platform</th>\n",
       "      <th>year_of_release</th>\n",
       "      <th>genre</th>\n",
       "      <th>na_sales</th>\n",
       "      <th>eu_sales</th>\n",
       "      <th>jp_sales</th>\n",
       "      <th>other_sales</th>\n",
       "      <th>critic_score</th>\n",
       "      <th>user_score</th>\n",
       "      <th>rating</th>\n",
       "      <th>all_sales</th>\n",
       "      <th>rating_category</th>\n",
       "    </tr>\n",
       "  </thead>\n",
       "  <tbody>\n",
       "    <tr>\n",
       "      <th>0</th>\n",
       "      <td>Wii Sports</td>\n",
       "      <td>Wii</td>\n",
       "      <td>2006.0</td>\n",
       "      <td>Sports</td>\n",
       "      <td>41.36</td>\n",
       "      <td>28.96</td>\n",
       "      <td>3.77</td>\n",
       "      <td>8.45</td>\n",
       "      <td>76.0</td>\n",
       "      <td>8.0</td>\n",
       "      <td>E</td>\n",
       "      <td>82.54</td>\n",
       "      <td>Для всех</td>\n",
       "    </tr>\n",
       "    <tr>\n",
       "      <th>1</th>\n",
       "      <td>Super Mario Bros.</td>\n",
       "      <td>NES</td>\n",
       "      <td>1985.0</td>\n",
       "      <td>Platform</td>\n",
       "      <td>29.08</td>\n",
       "      <td>3.58</td>\n",
       "      <td>6.81</td>\n",
       "      <td>0.77</td>\n",
       "      <td>NaN</td>\n",
       "      <td>NaN</td>\n",
       "      <td>NaN</td>\n",
       "      <td>40.24</td>\n",
       "      <td>None</td>\n",
       "    </tr>\n",
       "    <tr>\n",
       "      <th>2</th>\n",
       "      <td>Mario Kart Wii</td>\n",
       "      <td>Wii</td>\n",
       "      <td>2008.0</td>\n",
       "      <td>Racing</td>\n",
       "      <td>15.68</td>\n",
       "      <td>12.76</td>\n",
       "      <td>3.79</td>\n",
       "      <td>3.29</td>\n",
       "      <td>82.0</td>\n",
       "      <td>8.3</td>\n",
       "      <td>E</td>\n",
       "      <td>35.52</td>\n",
       "      <td>Для всех</td>\n",
       "    </tr>\n",
       "    <tr>\n",
       "      <th>3</th>\n",
       "      <td>Wii Sports Resort</td>\n",
       "      <td>Wii</td>\n",
       "      <td>2009.0</td>\n",
       "      <td>Sports</td>\n",
       "      <td>15.61</td>\n",
       "      <td>10.93</td>\n",
       "      <td>3.28</td>\n",
       "      <td>2.95</td>\n",
       "      <td>80.0</td>\n",
       "      <td>8.0</td>\n",
       "      <td>E</td>\n",
       "      <td>32.77</td>\n",
       "      <td>Для всех</td>\n",
       "    </tr>\n",
       "    <tr>\n",
       "      <th>4</th>\n",
       "      <td>Pokemon Red/Pokemon Blue</td>\n",
       "      <td>GB</td>\n",
       "      <td>1996.0</td>\n",
       "      <td>Role-Playing</td>\n",
       "      <td>11.27</td>\n",
       "      <td>8.89</td>\n",
       "      <td>10.22</td>\n",
       "      <td>1.00</td>\n",
       "      <td>NaN</td>\n",
       "      <td>NaN</td>\n",
       "      <td>NaN</td>\n",
       "      <td>31.38</td>\n",
       "      <td>None</td>\n",
       "    </tr>\n",
       "  </tbody>\n",
       "</table>\n",
       "</div>"
      ],
      "text/plain": [
       "                       name platform  year_of_release         genre  na_sales  \\\n",
       "0                Wii Sports      Wii           2006.0        Sports     41.36   \n",
       "1         Super Mario Bros.      NES           1985.0      Platform     29.08   \n",
       "2            Mario Kart Wii      Wii           2008.0        Racing     15.68   \n",
       "3         Wii Sports Resort      Wii           2009.0        Sports     15.61   \n",
       "4  Pokemon Red/Pokemon Blue       GB           1996.0  Role-Playing     11.27   \n",
       "\n",
       "   eu_sales  jp_sales  other_sales  critic_score  user_score rating  \\\n",
       "0     28.96      3.77         8.45          76.0         8.0      E   \n",
       "1      3.58      6.81         0.77           NaN         NaN    NaN   \n",
       "2     12.76      3.79         3.29          82.0         8.3      E   \n",
       "3     10.93      3.28         2.95          80.0         8.0      E   \n",
       "4      8.89     10.22         1.00           NaN         NaN    NaN   \n",
       "\n",
       "   all_sales rating_category  \n",
       "0      82.54        Для всех  \n",
       "1      40.24            None  \n",
       "2      35.52        Для всех  \n",
       "3      32.77        Для всех  \n",
       "4      31.38            None  "
      ]
     },
     "execution_count": 19,
     "metadata": {},
     "output_type": "execute_result"
    }
   ],
   "source": [
    "data['rating_category'] = data['rating'].apply(rating)\n",
    "\n",
    "data.head()"
   ]
  },
  {
   "cell_type": "markdown",
   "id": "8b910abb",
   "metadata": {},
   "source": [
    "## Исследовательский анализ данных"
   ]
  },
  {
   "cell_type": "markdown",
   "id": "ae358c8d",
   "metadata": {},
   "source": [
    "### Сколько игр выпускалось в разные годы"
   ]
  },
  {
   "cell_type": "code",
   "execution_count": 20,
   "id": "99d366e4",
   "metadata": {
    "scrolled": true
   },
   "outputs": [
    {
     "data": {
      "image/png": "[encoded data removed]",
      "text/plain": [
       "<Figure size 432x288 with 1 Axes>"
      ]
     },
     "metadata": {
      "needs_background": "light"
     },
     "output_type": "display_data"
    }
   ],
   "source": [
    "data.boxplot('year_of_release')\n",
    "plt.show()\n",
    "\n",
    "# диаграмма размаха"
   ]
  },
  {
   "cell_type": "markdown",
   "id": "70ff6ac0",
   "metadata": {},
   "source": [
    "Исходя из диаграмы размаха, большинство игр вышло после 1993 года. Игры, которые вышли раньше можно считать выбросами, поэтому их можно не учитывать при анализе."
   ]
  },
  {
   "cell_type": "code",
   "execution_count": 21,
   "id": "be52f033",
   "metadata": {},
   "outputs": [
    {
     "data": {
      "image/png": "[encoded data removed]",
      "text/plain": [
       "<Figure size 432x288 with 1 Axes>"
      ]
     },
     "metadata": {
      "needs_background": "light"
     },
     "output_type": "display_data"
    },
    {
     "data": {
      "text/plain": [
       "<AxesSubplot:>"
      ]
     },
     "execution_count": 21,
     "metadata": {},
     "output_type": "execute_result"
    },
    {
     "data": {
      "image/png": "[encoded data removed]",
      "text/plain": [
       "<Figure size 432x288 with 1 Axes>"
      ]
     },
     "metadata": {
      "needs_background": "light"
     },
     "output_type": "display_data"
    }
   ],
   "source": [
    " (\n",
    "    data\n",
    "    .query('year_of_release > 1993')['year_of_release']\n",
    "    .hist()\n",
    ")\n",
    "plt.show()\n",
    "(\n",
    "    data\n",
    "    .query('year_of_release > 1993')['year_of_release']\n",
    "    .hist(range=(2002, 2016), bins=14)\n",
    ")"
   ]
  },
  {
   "cell_type": "markdown",
   "id": "a0fb1770",
   "metadata": {},
   "source": [
    "На основе построенной гистограммы можно сказать:\n",
    "- после 2000 года количество выпущенных игр в год стало резко увеличиваться.\n",
    "-  начиная с 2005 года объем выпущенных игр беспрерывно рос, и к 2010му количество выпущенных игр в год увеличилось в два раза с 700 в 2005г до 1400 в 2010г соответственно.\n",
    "- с 2011г включительно количество выпускаемых игр пошло на спад, а в 2013 произошло резкое падение количества выпускаемых игр (чуть менее, чем в два раза)  с 1110 в 2012 до 650 в 2013г.\n",
    "- в 2016г значения вновь выросли почти в два раза и вернулись на ометку более 1100 игр."
   ]
  },
  {
   "cell_type": "markdown",
   "id": "e31db50c",
   "metadata": {},
   "source": [
    "### Продажи по платформам"
   ]
  },
  {
   "cell_type": "code",
   "execution_count": 22,
   "id": "8871c2f4",
   "metadata": {},
   "outputs": [
    {
     "data": {
      "text/html": [
       "<div>\n",
       "<style scoped>\n",
       "    .dataframe tbody tr th:only-of-type {\n",
       "        vertical-align: middle;\n",
       "    }\n",
       "\n",
       "    .dataframe tbody tr th {\n",
       "        vertical-align: top;\n",
       "    }\n",
       "\n",
       "    .dataframe thead th {\n",
       "        text-align: right;\n",
       "    }\n",
       "</style>\n",
       "<table border=\"1\" class=\"dataframe\">\n",
       "  <thead>\n",
       "    <tr style=\"text-align: right;\">\n",
       "      <th></th>\n",
       "      <th>name</th>\n",
       "      <th>platform</th>\n",
       "      <th>year_of_release</th>\n",
       "      <th>genre</th>\n",
       "      <th>na_sales</th>\n",
       "      <th>eu_sales</th>\n",
       "      <th>jp_sales</th>\n",
       "      <th>other_sales</th>\n",
       "      <th>critic_score</th>\n",
       "      <th>user_score</th>\n",
       "      <th>rating</th>\n",
       "      <th>all_sales</th>\n",
       "      <th>rating_category</th>\n",
       "    </tr>\n",
       "  </thead>\n",
       "  <tbody>\n",
       "    <tr>\n",
       "      <th>0</th>\n",
       "      <td>Wii Sports</td>\n",
       "      <td>Wii</td>\n",
       "      <td>2006.0</td>\n",
       "      <td>Sports</td>\n",
       "      <td>41.36</td>\n",
       "      <td>28.96</td>\n",
       "      <td>3.77</td>\n",
       "      <td>8.45</td>\n",
       "      <td>76.0</td>\n",
       "      <td>8.0</td>\n",
       "      <td>E</td>\n",
       "      <td>82.54</td>\n",
       "      <td>Для всех</td>\n",
       "    </tr>\n",
       "    <tr>\n",
       "      <th>1</th>\n",
       "      <td>Super Mario Bros.</td>\n",
       "      <td>NES</td>\n",
       "      <td>1985.0</td>\n",
       "      <td>Platform</td>\n",
       "      <td>29.08</td>\n",
       "      <td>3.58</td>\n",
       "      <td>6.81</td>\n",
       "      <td>0.77</td>\n",
       "      <td>NaN</td>\n",
       "      <td>NaN</td>\n",
       "      <td>NaN</td>\n",
       "      <td>40.24</td>\n",
       "      <td>None</td>\n",
       "    </tr>\n",
       "    <tr>\n",
       "      <th>2</th>\n",
       "      <td>Mario Kart Wii</td>\n",
       "      <td>Wii</td>\n",
       "      <td>2008.0</td>\n",
       "      <td>Racing</td>\n",
       "      <td>15.68</td>\n",
       "      <td>12.76</td>\n",
       "      <td>3.79</td>\n",
       "      <td>3.29</td>\n",
       "      <td>82.0</td>\n",
       "      <td>8.3</td>\n",
       "      <td>E</td>\n",
       "      <td>35.52</td>\n",
       "      <td>Для всех</td>\n",
       "    </tr>\n",
       "    <tr>\n",
       "      <th>3</th>\n",
       "      <td>Wii Sports Resort</td>\n",
       "      <td>Wii</td>\n",
       "      <td>2009.0</td>\n",
       "      <td>Sports</td>\n",
       "      <td>15.61</td>\n",
       "      <td>10.93</td>\n",
       "      <td>3.28</td>\n",
       "      <td>2.95</td>\n",
       "      <td>80.0</td>\n",
       "      <td>8.0</td>\n",
       "      <td>E</td>\n",
       "      <td>32.77</td>\n",
       "      <td>Для всех</td>\n",
       "    </tr>\n",
       "    <tr>\n",
       "      <th>4</th>\n",
       "      <td>Pokemon Red/Pokemon Blue</td>\n",
       "      <td>GB</td>\n",
       "      <td>1996.0</td>\n",
       "      <td>Role-Playing</td>\n",
       "      <td>11.27</td>\n",
       "      <td>8.89</td>\n",
       "      <td>10.22</td>\n",
       "      <td>1.00</td>\n",
       "      <td>NaN</td>\n",
       "      <td>NaN</td>\n",
       "      <td>NaN</td>\n",
       "      <td>31.38</td>\n",
       "      <td>None</td>\n",
       "    </tr>\n",
       "  </tbody>\n",
       "</table>\n",
       "</div>"
      ],
      "text/plain": [
       "                       name platform  year_of_release         genre  na_sales  \\\n",
       "0                Wii Sports      Wii           2006.0        Sports     41.36   \n",
       "1         Super Mario Bros.      NES           1985.0      Platform     29.08   \n",
       "2            Mario Kart Wii      Wii           2008.0        Racing     15.68   \n",
       "3         Wii Sports Resort      Wii           2009.0        Sports     15.61   \n",
       "4  Pokemon Red/Pokemon Blue       GB           1996.0  Role-Playing     11.27   \n",
       "\n",
       "   eu_sales  jp_sales  other_sales  critic_score  user_score rating  \\\n",
       "0     28.96      3.77         8.45          76.0         8.0      E   \n",
       "1      3.58      6.81         0.77           NaN         NaN    NaN   \n",
       "2     12.76      3.79         3.29          82.0         8.3      E   \n",
       "3     10.93      3.28         2.95          80.0         8.0      E   \n",
       "4      8.89     10.22         1.00           NaN         NaN    NaN   \n",
       "\n",
       "   all_sales rating_category  \n",
       "0      82.54        Для всех  \n",
       "1      40.24            None  \n",
       "2      35.52        Для всех  \n",
       "3      32.77        Для всех  \n",
       "4      31.38            None  "
      ]
     },
     "execution_count": 22,
     "metadata": {},
     "output_type": "execute_result"
    }
   ],
   "source": [
    "data.head()"
   ]
  },
  {
   "cell_type": "code",
   "execution_count": 23,
   "id": "a9c07ac8",
   "metadata": {},
   "outputs": [
    {
     "data": {
      "text/html": [
       "<div>\n",
       "<style scoped>\n",
       "    .dataframe tbody tr th:only-of-type {\n",
       "        vertical-align: middle;\n",
       "    }\n",
       "\n",
       "    .dataframe tbody tr th {\n",
       "        vertical-align: top;\n",
       "    }\n",
       "\n",
       "    .dataframe thead th {\n",
       "        text-align: right;\n",
       "    }\n",
       "</style>\n",
       "<table border=\"1\" class=\"dataframe\">\n",
       "  <thead>\n",
       "    <tr style=\"text-align: right;\">\n",
       "      <th></th>\n",
       "      <th>platform</th>\n",
       "      <th>all_sales</th>\n",
       "    </tr>\n",
       "  </thead>\n",
       "  <tbody>\n",
       "    <tr>\n",
       "      <th>0</th>\n",
       "      <td>PS2</td>\n",
       "      <td>1255.77</td>\n",
       "    </tr>\n",
       "    <tr>\n",
       "      <th>1</th>\n",
       "      <td>X360</td>\n",
       "      <td>971.42</td>\n",
       "    </tr>\n",
       "    <tr>\n",
       "      <th>2</th>\n",
       "      <td>PS3</td>\n",
       "      <td>939.65</td>\n",
       "    </tr>\n",
       "    <tr>\n",
       "      <th>3</th>\n",
       "      <td>Wii</td>\n",
       "      <td>907.51</td>\n",
       "    </tr>\n",
       "    <tr>\n",
       "      <th>4</th>\n",
       "      <td>DS</td>\n",
       "      <td>806.12</td>\n",
       "    </tr>\n",
       "  </tbody>\n",
       "</table>\n",
       "</div>"
      ],
      "text/plain": [
       "  platform  all_sales\n",
       "0      PS2    1255.77\n",
       "1     X360     971.42\n",
       "2      PS3     939.65\n",
       "3      Wii     907.51\n",
       "4       DS     806.12"
      ]
     },
     "execution_count": 23,
     "metadata": {},
     "output_type": "execute_result"
    }
   ],
   "source": [
    "platform_top = (\n",
    "    data\n",
    "    .pivot_table(index=['platform'], values='all_sales', aggfunc ='sum')\n",
    "    .sort_values(by='all_sales', ascending=False)\n",
    "    .head()\n",
    "    .reset_index()\n",
    ")\n",
    "platform_top\n",
    "# топ 5 платформ с наибольшими суммарными продажами"
   ]
  },
  {
   "cell_type": "code",
   "execution_count": 24,
   "id": "9b811d6c",
   "metadata": {},
   "outputs": [
    {
     "data": {
      "image/png": "[encoded data removed]",
      "text/plain": [
       "<Figure size 1008x432 with 1 Axes>"
      ]
     },
     "metadata": {
      "needs_background": "light"
     },
     "output_type": "display_data"
    }
   ],
   "source": [
    "plt.figure(figsize=(14,6))\n",
    "plt.bar(platform_top['platform'], platform_top['all_sales'],alpha = 0.5)\n",
    "plt.title('Top platform by all_sales')\n",
    "plt.ylabel('all_sales in mln')\n",
    "plt.xlabel('platform')\n",
    "plt.grid(True)\n",
    "plt.show()\n",
    "# столбчатая диагрмма с продажами по пяти платформам с наибольшим кол-вом продаж"
   ]
  },
  {
   "cell_type": "code",
   "execution_count": 25,
   "id": "432ba913",
   "metadata": {
    "scrolled": true
   },
   "outputs": [
    {
     "data": {
      "text/html": [
       "<div>\n",
       "<style scoped>\n",
       "    .dataframe tbody tr th:only-of-type {\n",
       "        vertical-align: middle;\n",
       "    }\n",
       "\n",
       "    .dataframe tbody tr th {\n",
       "        vertical-align: top;\n",
       "    }\n",
       "\n",
       "    .dataframe thead th {\n",
       "        text-align: right;\n",
       "    }\n",
       "</style>\n",
       "<table border=\"1\" class=\"dataframe\">\n",
       "  <thead>\n",
       "    <tr style=\"text-align: right;\">\n",
       "      <th></th>\n",
       "      <th></th>\n",
       "      <th>all_sales</th>\n",
       "    </tr>\n",
       "    <tr>\n",
       "      <th>year_of_release</th>\n",
       "      <th>platform</th>\n",
       "      <th></th>\n",
       "    </tr>\n",
       "  </thead>\n",
       "  <tbody>\n",
       "    <tr>\n",
       "      <th>2000.0</th>\n",
       "      <th>PS2</th>\n",
       "      <td>39.17</td>\n",
       "    </tr>\n",
       "    <tr>\n",
       "      <th>2001.0</th>\n",
       "      <th>PS2</th>\n",
       "      <td>166.43</td>\n",
       "    </tr>\n",
       "    <tr>\n",
       "      <th>2002.0</th>\n",
       "      <th>PS2</th>\n",
       "      <td>205.38</td>\n",
       "    </tr>\n",
       "    <tr>\n",
       "      <th>2003.0</th>\n",
       "      <th>PS2</th>\n",
       "      <td>184.31</td>\n",
       "    </tr>\n",
       "    <tr>\n",
       "      <th rowspan=\"2\" valign=\"top\">2004.0</th>\n",
       "      <th>DS</th>\n",
       "      <td>17.27</td>\n",
       "    </tr>\n",
       "    <tr>\n",
       "      <th>PS2</th>\n",
       "      <td>211.81</td>\n",
       "    </tr>\n",
       "    <tr>\n",
       "      <th rowspan=\"3\" valign=\"top\">2005.0</th>\n",
       "      <th>DS</th>\n",
       "      <td>130.14</td>\n",
       "    </tr>\n",
       "    <tr>\n",
       "      <th>PS2</th>\n",
       "      <td>160.66</td>\n",
       "    </tr>\n",
       "    <tr>\n",
       "      <th>X360</th>\n",
       "      <td>8.25</td>\n",
       "    </tr>\n",
       "    <tr>\n",
       "      <th rowspan=\"5\" valign=\"top\">2006.0</th>\n",
       "      <th>DS</th>\n",
       "      <td>119.81</td>\n",
       "    </tr>\n",
       "    <tr>\n",
       "      <th>PS2</th>\n",
       "      <td>103.42</td>\n",
       "    </tr>\n",
       "    <tr>\n",
       "      <th>PS3</th>\n",
       "      <td>20.96</td>\n",
       "    </tr>\n",
       "    <tr>\n",
       "      <th>Wii</th>\n",
       "      <td>137.15</td>\n",
       "    </tr>\n",
       "    <tr>\n",
       "      <th>X360</th>\n",
       "      <td>51.62</td>\n",
       "    </tr>\n",
       "    <tr>\n",
       "      <th rowspan=\"5\" valign=\"top\">2007.0</th>\n",
       "      <th>DS</th>\n",
       "      <td>146.94</td>\n",
       "    </tr>\n",
       "    <tr>\n",
       "      <th>PS2</th>\n",
       "      <td>75.99</td>\n",
       "    </tr>\n",
       "    <tr>\n",
       "      <th>PS3</th>\n",
       "      <td>73.19</td>\n",
       "    </tr>\n",
       "    <tr>\n",
       "      <th>Wii</th>\n",
       "      <td>152.77</td>\n",
       "    </tr>\n",
       "    <tr>\n",
       "      <th>X360</th>\n",
       "      <td>95.41</td>\n",
       "    </tr>\n",
       "    <tr>\n",
       "      <th rowspan=\"5\" valign=\"top\">2008.0</th>\n",
       "      <th>DS</th>\n",
       "      <td>145.31</td>\n",
       "    </tr>\n",
       "    <tr>\n",
       "      <th>PS2</th>\n",
       "      <td>53.90</td>\n",
       "    </tr>\n",
       "    <tr>\n",
       "      <th>PS3</th>\n",
       "      <td>118.52</td>\n",
       "    </tr>\n",
       "    <tr>\n",
       "      <th>Wii</th>\n",
       "      <td>171.32</td>\n",
       "    </tr>\n",
       "    <tr>\n",
       "      <th>X360</th>\n",
       "      <td>135.26</td>\n",
       "    </tr>\n",
       "    <tr>\n",
       "      <th rowspan=\"5\" valign=\"top\">2009.0</th>\n",
       "      <th>DS</th>\n",
       "      <td>119.54</td>\n",
       "    </tr>\n",
       "    <tr>\n",
       "      <th>PS2</th>\n",
       "      <td>26.40</td>\n",
       "    </tr>\n",
       "    <tr>\n",
       "      <th>PS3</th>\n",
       "      <td>130.93</td>\n",
       "    </tr>\n",
       "    <tr>\n",
       "      <th>Wii</th>\n",
       "      <td>206.97</td>\n",
       "    </tr>\n",
       "    <tr>\n",
       "      <th>X360</th>\n",
       "      <td>120.29</td>\n",
       "    </tr>\n",
       "    <tr>\n",
       "      <th rowspan=\"5\" valign=\"top\">2010.0</th>\n",
       "      <th>DS</th>\n",
       "      <td>85.02</td>\n",
       "    </tr>\n",
       "    <tr>\n",
       "      <th>PS2</th>\n",
       "      <td>5.64</td>\n",
       "    </tr>\n",
       "    <tr>\n",
       "      <th>PS3</th>\n",
       "      <td>142.17</td>\n",
       "    </tr>\n",
       "    <tr>\n",
       "      <th>Wii</th>\n",
       "      <td>127.95</td>\n",
       "    </tr>\n",
       "    <tr>\n",
       "      <th>X360</th>\n",
       "      <td>170.03</td>\n",
       "    </tr>\n",
       "    <tr>\n",
       "      <th rowspan=\"5\" valign=\"top\">2011.0</th>\n",
       "      <th>DS</th>\n",
       "      <td>26.18</td>\n",
       "    </tr>\n",
       "    <tr>\n",
       "      <th>PS2</th>\n",
       "      <td>0.45</td>\n",
       "    </tr>\n",
       "    <tr>\n",
       "      <th>PS3</th>\n",
       "      <td>156.78</td>\n",
       "    </tr>\n",
       "    <tr>\n",
       "      <th>Wii</th>\n",
       "      <td>59.65</td>\n",
       "    </tr>\n",
       "    <tr>\n",
       "      <th>X360</th>\n",
       "      <td>143.84</td>\n",
       "    </tr>\n",
       "    <tr>\n",
       "      <th rowspan=\"4\" valign=\"top\">2012.0</th>\n",
       "      <th>DS</th>\n",
       "      <td>11.01</td>\n",
       "    </tr>\n",
       "    <tr>\n",
       "      <th>PS3</th>\n",
       "      <td>107.36</td>\n",
       "    </tr>\n",
       "    <tr>\n",
       "      <th>Wii</th>\n",
       "      <td>21.71</td>\n",
       "    </tr>\n",
       "    <tr>\n",
       "      <th>X360</th>\n",
       "      <td>99.74</td>\n",
       "    </tr>\n",
       "    <tr>\n",
       "      <th rowspan=\"4\" valign=\"top\">2013.0</th>\n",
       "      <th>DS</th>\n",
       "      <td>1.54</td>\n",
       "    </tr>\n",
       "    <tr>\n",
       "      <th>PS3</th>\n",
       "      <td>113.25</td>\n",
       "    </tr>\n",
       "    <tr>\n",
       "      <th>Wii</th>\n",
       "      <td>8.59</td>\n",
       "    </tr>\n",
       "    <tr>\n",
       "      <th>X360</th>\n",
       "      <td>88.58</td>\n",
       "    </tr>\n",
       "    <tr>\n",
       "      <th rowspan=\"3\" valign=\"top\">2014.0</th>\n",
       "      <th>PS3</th>\n",
       "      <td>47.76</td>\n",
       "    </tr>\n",
       "    <tr>\n",
       "      <th>Wii</th>\n",
       "      <td>3.75</td>\n",
       "    </tr>\n",
       "    <tr>\n",
       "      <th>X360</th>\n",
       "      <td>34.74</td>\n",
       "    </tr>\n",
       "    <tr>\n",
       "      <th rowspan=\"3\" valign=\"top\">2015.0</th>\n",
       "      <th>PS3</th>\n",
       "      <td>16.82</td>\n",
       "    </tr>\n",
       "    <tr>\n",
       "      <th>Wii</th>\n",
       "      <td>1.14</td>\n",
       "    </tr>\n",
       "    <tr>\n",
       "      <th>X360</th>\n",
       "      <td>11.96</td>\n",
       "    </tr>\n",
       "    <tr>\n",
       "      <th rowspan=\"3\" valign=\"top\">2016.0</th>\n",
       "      <th>PS3</th>\n",
       "      <td>3.60</td>\n",
       "    </tr>\n",
       "    <tr>\n",
       "      <th>Wii</th>\n",
       "      <td>0.18</td>\n",
       "    </tr>\n",
       "    <tr>\n",
       "      <th>X360</th>\n",
       "      <td>1.52</td>\n",
       "    </tr>\n",
       "  </tbody>\n",
       "</table>\n",
       "</div>"
      ],
      "text/plain": [
       "                          all_sales\n",
       "year_of_release platform           \n",
       "2000.0          PS2           39.17\n",
       "2001.0          PS2          166.43\n",
       "2002.0          PS2          205.38\n",
       "2003.0          PS2          184.31\n",
       "2004.0          DS            17.27\n",
       "                PS2          211.81\n",
       "2005.0          DS           130.14\n",
       "                PS2          160.66\n",
       "                X360           8.25\n",
       "2006.0          DS           119.81\n",
       "                PS2          103.42\n",
       "                PS3           20.96\n",
       "                Wii          137.15\n",
       "                X360          51.62\n",
       "2007.0          DS           146.94\n",
       "                PS2           75.99\n",
       "                PS3           73.19\n",
       "                Wii          152.77\n",
       "                X360          95.41\n",
       "2008.0          DS           145.31\n",
       "                PS2           53.90\n",
       "                PS3          118.52\n",
       "                Wii          171.32\n",
       "                X360         135.26\n",
       "2009.0          DS           119.54\n",
       "                PS2           26.40\n",
       "                PS3          130.93\n",
       "                Wii          206.97\n",
       "                X360         120.29\n",
       "2010.0          DS            85.02\n",
       "                PS2            5.64\n",
       "                PS3          142.17\n",
       "                Wii          127.95\n",
       "                X360         170.03\n",
       "2011.0          DS            26.18\n",
       "                PS2            0.45\n",
       "                PS3          156.78\n",
       "                Wii           59.65\n",
       "                X360         143.84\n",
       "2012.0          DS            11.01\n",
       "                PS3          107.36\n",
       "                Wii           21.71\n",
       "                X360          99.74\n",
       "2013.0          DS             1.54\n",
       "                PS3          113.25\n",
       "                Wii            8.59\n",
       "                X360          88.58\n",
       "2014.0          PS3           47.76\n",
       "                Wii            3.75\n",
       "                X360          34.74\n",
       "2015.0          PS3           16.82\n",
       "                Wii            1.14\n",
       "                X360          11.96\n",
       "2016.0          PS3            3.60\n",
       "                Wii            0.18\n",
       "                X360           1.52"
      ]
     },
     "execution_count": 25,
     "metadata": {},
     "output_type": "execute_result"
    }
   ],
   "source": [
    "platform_top_years = (data\n",
    "    .query('year_of_release > 1993')\n",
    "    .query('platform in [\"PS2\",\"X360\",\"PS3\",\"Wii\",\"DS\"]')\n",
    "    .pivot_table(index=['year_of_release','platform'], values='all_sales', aggfunc ='sum')\n",
    ")\n",
    "platform_top_years"
   ]
  },
  {
   "cell_type": "markdown",
   "id": "a18532be",
   "metadata": {},
   "source": [
    "Исходя из данного распределения, можно сделать вывод о том, что характерный срок появления новых и исчезновения старых платформ - 7лет."
   ]
  },
  {
   "cell_type": "markdown",
   "id": "66b7cf9b",
   "metadata": {},
   "source": [
    "### Актуальный период"
   ]
  },
  {
   "cell_type": "markdown",
   "id": "2477d6b4",
   "metadata": {},
   "source": [
    "Основываясь на приведенном выше распределении, можно выделить актуальный период"
   ]
  },
  {
   "cell_type": "code",
   "execution_count": 26,
   "id": "5e179ef6",
   "metadata": {},
   "outputs": [],
   "source": [
    "data_actual = data.query('year_of_release > 2013')"
   ]
  },
  {
   "cell_type": "code",
   "execution_count": 27,
   "id": "ef25fe19",
   "metadata": {
    "scrolled": true
   },
   "outputs": [
    {
     "data": {
      "text/html": [
       "<div>\n",
       "<style scoped>\n",
       "    .dataframe tbody tr th:only-of-type {\n",
       "        vertical-align: middle;\n",
       "    }\n",
       "\n",
       "    .dataframe tbody tr th {\n",
       "        vertical-align: top;\n",
       "    }\n",
       "\n",
       "    .dataframe thead th {\n",
       "        text-align: right;\n",
       "    }\n",
       "</style>\n",
       "<table border=\"1\" class=\"dataframe\">\n",
       "  <thead>\n",
       "    <tr style=\"text-align: right;\">\n",
       "      <th></th>\n",
       "      <th>name</th>\n",
       "      <th>platform</th>\n",
       "      <th>year_of_release</th>\n",
       "      <th>genre</th>\n",
       "      <th>na_sales</th>\n",
       "      <th>eu_sales</th>\n",
       "      <th>jp_sales</th>\n",
       "      <th>other_sales</th>\n",
       "      <th>critic_score</th>\n",
       "      <th>user_score</th>\n",
       "      <th>rating</th>\n",
       "      <th>all_sales</th>\n",
       "      <th>rating_category</th>\n",
       "    </tr>\n",
       "  </thead>\n",
       "  <tbody>\n",
       "    <tr>\n",
       "      <th>31</th>\n",
       "      <td>Call of Duty: Black Ops 3</td>\n",
       "      <td>PS4</td>\n",
       "      <td>2015.0</td>\n",
       "      <td>Shooter</td>\n",
       "      <td>6.03</td>\n",
       "      <td>5.86</td>\n",
       "      <td>0.36</td>\n",
       "      <td>2.38</td>\n",
       "      <td>NaN</td>\n",
       "      <td>NaN</td>\n",
       "      <td>NaN</td>\n",
       "      <td>14.63</td>\n",
       "      <td>None</td>\n",
       "    </tr>\n",
       "    <tr>\n",
       "      <th>42</th>\n",
       "      <td>Grand Theft Auto V</td>\n",
       "      <td>PS4</td>\n",
       "      <td>2014.0</td>\n",
       "      <td>Action</td>\n",
       "      <td>3.96</td>\n",
       "      <td>6.31</td>\n",
       "      <td>0.38</td>\n",
       "      <td>1.97</td>\n",
       "      <td>97.0</td>\n",
       "      <td>8.3</td>\n",
       "      <td>M</td>\n",
       "      <td>12.62</td>\n",
       "      <td>Для взрослых</td>\n",
       "    </tr>\n",
       "    <tr>\n",
       "      <th>47</th>\n",
       "      <td>Pokemon Omega Ruby/Pokemon Alpha Sapphire</td>\n",
       "      <td>3DS</td>\n",
       "      <td>2014.0</td>\n",
       "      <td>Role-Playing</td>\n",
       "      <td>4.35</td>\n",
       "      <td>3.49</td>\n",
       "      <td>3.10</td>\n",
       "      <td>0.74</td>\n",
       "      <td>NaN</td>\n",
       "      <td>NaN</td>\n",
       "      <td>NaN</td>\n",
       "      <td>11.68</td>\n",
       "      <td>None</td>\n",
       "    </tr>\n",
       "    <tr>\n",
       "      <th>77</th>\n",
       "      <td>FIFA 16</td>\n",
       "      <td>PS4</td>\n",
       "      <td>2015.0</td>\n",
       "      <td>Sports</td>\n",
       "      <td>1.12</td>\n",
       "      <td>6.12</td>\n",
       "      <td>0.06</td>\n",
       "      <td>1.28</td>\n",
       "      <td>82.0</td>\n",
       "      <td>4.3</td>\n",
       "      <td>E</td>\n",
       "      <td>8.58</td>\n",
       "      <td>Для всех</td>\n",
       "    </tr>\n",
       "    <tr>\n",
       "      <th>87</th>\n",
       "      <td>Star Wars Battlefront (2015)</td>\n",
       "      <td>PS4</td>\n",
       "      <td>2015.0</td>\n",
       "      <td>Shooter</td>\n",
       "      <td>2.99</td>\n",
       "      <td>3.49</td>\n",
       "      <td>0.22</td>\n",
       "      <td>1.28</td>\n",
       "      <td>NaN</td>\n",
       "      <td>NaN</td>\n",
       "      <td>NaN</td>\n",
       "      <td>7.98</td>\n",
       "      <td>None</td>\n",
       "    </tr>\n",
       "  </tbody>\n",
       "</table>\n",
       "</div>"
      ],
      "text/plain": [
       "                                         name platform  year_of_release  \\\n",
       "31                  Call of Duty: Black Ops 3      PS4           2015.0   \n",
       "42                         Grand Theft Auto V      PS4           2014.0   \n",
       "47  Pokemon Omega Ruby/Pokemon Alpha Sapphire      3DS           2014.0   \n",
       "77                                    FIFA 16      PS4           2015.0   \n",
       "87               Star Wars Battlefront (2015)      PS4           2015.0   \n",
       "\n",
       "           genre  na_sales  eu_sales  jp_sales  other_sales  critic_score  \\\n",
       "31       Shooter      6.03      5.86      0.36         2.38           NaN   \n",
       "42        Action      3.96      6.31      0.38         1.97          97.0   \n",
       "47  Role-Playing      4.35      3.49      3.10         0.74           NaN   \n",
       "77        Sports      1.12      6.12      0.06         1.28          82.0   \n",
       "87       Shooter      2.99      3.49      0.22         1.28           NaN   \n",
       "\n",
       "    user_score rating  all_sales rating_category  \n",
       "31         NaN    NaN      14.63            None  \n",
       "42         8.3      M      12.62    Для взрослых  \n",
       "47         NaN    NaN      11.68            None  \n",
       "77         4.3      E       8.58        Для всех  \n",
       "87         NaN    NaN       7.98            None  "
      ]
     },
     "execution_count": 27,
     "metadata": {},
     "output_type": "execute_result"
    }
   ],
   "source": [
    "data_actual.head()"
   ]
  },
  {
   "cell_type": "code",
   "execution_count": 28,
   "id": "8a5ea9b1",
   "metadata": {},
   "outputs": [
    {
     "data": {
      "text/plain": [
       "array(['PS4', '3DS', 'XOne', 'WiiU', 'PS3', 'X360', 'PC', 'Wii', 'PSV',\n",
       "       'PSP'], dtype=object)"
      ]
     },
     "execution_count": 28,
     "metadata": {},
     "output_type": "execute_result"
    }
   ],
   "source": [
    "data_actual['platform'].unique()"
   ]
  },
  {
   "cell_type": "code",
   "execution_count": 29,
   "id": "7ee44650",
   "metadata": {},
   "outputs": [
    {
     "data": {
      "text/html": [
       "<div>\n",
       "<style scoped>\n",
       "    .dataframe tbody tr th:only-of-type {\n",
       "        vertical-align: middle;\n",
       "    }\n",
       "\n",
       "    .dataframe tbody tr th {\n",
       "        vertical-align: top;\n",
       "    }\n",
       "\n",
       "    .dataframe thead th {\n",
       "        text-align: right;\n",
       "    }\n",
       "</style>\n",
       "<table border=\"1\" class=\"dataframe\">\n",
       "  <thead>\n",
       "    <tr style=\"text-align: right;\">\n",
       "      <th></th>\n",
       "      <th></th>\n",
       "      <th>all_sales</th>\n",
       "    </tr>\n",
       "    <tr>\n",
       "      <th>year_of_release</th>\n",
       "      <th>platform</th>\n",
       "      <th></th>\n",
       "    </tr>\n",
       "  </thead>\n",
       "  <tbody>\n",
       "    <tr>\n",
       "      <th rowspan=\"5\" valign=\"top\">2014.0</th>\n",
       "      <th>3DS</th>\n",
       "      <td>43.76</td>\n",
       "    </tr>\n",
       "    <tr>\n",
       "      <th>PC</th>\n",
       "      <td>13.28</td>\n",
       "    </tr>\n",
       "    <tr>\n",
       "      <th>PS3</th>\n",
       "      <td>47.76</td>\n",
       "    </tr>\n",
       "    <tr>\n",
       "      <th>PS4</th>\n",
       "      <td>100.00</td>\n",
       "    </tr>\n",
       "    <tr>\n",
       "      <th>PSP</th>\n",
       "      <td>0.24</td>\n",
       "    </tr>\n",
       "  </tbody>\n",
       "</table>\n",
       "</div>"
      ],
      "text/plain": [
       "                          all_sales\n",
       "year_of_release platform           \n",
       "2014.0          3DS           43.76\n",
       "                PC            13.28\n",
       "                PS3           47.76\n",
       "                PS4          100.00\n",
       "                PSP            0.24"
      ]
     },
     "execution_count": 29,
     "metadata": {},
     "output_type": "execute_result"
    }
   ],
   "source": [
    "platform_top_years_actual = data_actual.pivot_table(index=['year_of_release','platform'], values='all_sales', aggfunc ='sum')\n",
    "\n",
    "platform_top_years_actual.head()\n",
    "# расределение по годам за актуальный период"
   ]
  },
  {
   "cell_type": "code",
   "execution_count": 30,
   "id": "31ee1529",
   "metadata": {},
   "outputs": [
    {
     "data": {
      "image/png": "[encoded data removed]",
      "text/plain": [
       "<Figure size 1152x576 with 1 Axes>"
      ]
     },
     "metadata": {
      "needs_background": "light"
     },
     "output_type": "display_data"
    }
   ],
   "source": [
    "for a in ['PS3', 'X360', 'PS4', '3DS', 'Wii', 'DS', 'XOne', 'WiiU', 'PC',\n",
    "       'PSV', 'PSP', 'PS2']:\n",
    "    b = a\n",
    "    (platform_top_years_actual\n",
    "        .reset_index('platform')\n",
    "        .query('platform ==@b')['all_sales']\n",
    "        .plot(label = a, legend = True, figsize = (16,8), grid=True)\n",
    "    )\n",
    "\n",
    "plt.ylabel('all_sales', color='red')\n",
    "plt.xlabel('year_of_release values',color='red')\n",
    "plt.show()\n",
    "# график по продажам платформ за актуальный период"
   ]
  },
  {
   "cell_type": "markdown",
   "id": "02f117bf",
   "metadata": {},
   "source": [
    "На основании данного графика можно сказать следующее:\n",
    "- начиная с 2014 на рынке лидируют PS4 и  XONE, на треем месте - 3DS\n",
    "- на неплохом уровне продаж (от пяти миллионов копий )  находятся также приставки PC и PSV"
   ]
  },
  {
   "cell_type": "code",
   "execution_count": 31,
   "id": "7219dcb4",
   "metadata": {},
   "outputs": [
    {
     "data": {
      "image/png": "[encoded data removed]",
      "text/plain": [
       "<Figure size 720x360 with 1 Axes>"
      ]
     },
     "metadata": {
      "needs_background": "light"
     },
     "output_type": "display_data"
    },
    {
     "data": {
      "image/png": "[encoded data removed]",
      "text/plain": [
       "<Figure size 720x360 with 1 Axes>"
      ]
     },
     "metadata": {
      "needs_background": "light"
     },
     "output_type": "display_data"
    }
   ],
   "source": [
    "data_actual.boxplot('all_sales',by='platform', figsize=(10,5))\n",
    "\n",
    "data_actual.boxplot('all_sales',by='platform', figsize=(10,5))\n",
    "plt.ylim(0, 2.5)\n",
    "\n",
    "plt.show()"
   ]
  },
  {
   "cell_type": "markdown",
   "id": "aeafd6a3",
   "metadata": {},
   "source": [
    "На основании данного графика можно сказать следующее:\n",
    "- у многих приставок есть сильные выбросы, у некоторых они доходят до 10, 15 и даже 20млн копий\n",
    "- ящик с усами подтверждает выводы по первому графику, о том что лидерами на рынке являются (являлись) PS4, XONE, PS3, X360"
   ]
  },
  {
   "cell_type": "markdown",
   "id": "28009126",
   "metadata": {},
   "source": [
    "### Влияние на продажи PS4 отзывов  пользователей и критиков"
   ]
  },
  {
   "cell_type": "code",
   "execution_count": 32,
   "id": "7fa54363",
   "metadata": {},
   "outputs": [
    {
     "data": {
      "text/html": [
       "<div>\n",
       "<style scoped>\n",
       "    .dataframe tbody tr th:only-of-type {\n",
       "        vertical-align: middle;\n",
       "    }\n",
       "\n",
       "    .dataframe tbody tr th {\n",
       "        vertical-align: top;\n",
       "    }\n",
       "\n",
       "    .dataframe thead th {\n",
       "        text-align: right;\n",
       "    }\n",
       "</style>\n",
       "<table border=\"1\" class=\"dataframe\">\n",
       "  <thead>\n",
       "    <tr style=\"text-align: right;\">\n",
       "      <th></th>\n",
       "      <th>name</th>\n",
       "      <th>platform</th>\n",
       "      <th>year_of_release</th>\n",
       "      <th>genre</th>\n",
       "      <th>na_sales</th>\n",
       "      <th>eu_sales</th>\n",
       "      <th>jp_sales</th>\n",
       "      <th>other_sales</th>\n",
       "      <th>critic_score</th>\n",
       "      <th>user_score</th>\n",
       "      <th>rating</th>\n",
       "      <th>all_sales</th>\n",
       "      <th>rating_category</th>\n",
       "    </tr>\n",
       "  </thead>\n",
       "  <tbody>\n",
       "    <tr>\n",
       "      <th>31</th>\n",
       "      <td>Call of Duty: Black Ops 3</td>\n",
       "      <td>PS4</td>\n",
       "      <td>2015.0</td>\n",
       "      <td>Shooter</td>\n",
       "      <td>6.03</td>\n",
       "      <td>5.86</td>\n",
       "      <td>0.36</td>\n",
       "      <td>2.38</td>\n",
       "      <td>NaN</td>\n",
       "      <td>NaN</td>\n",
       "      <td>NaN</td>\n",
       "      <td>14.63</td>\n",
       "      <td>None</td>\n",
       "    </tr>\n",
       "    <tr>\n",
       "      <th>42</th>\n",
       "      <td>Grand Theft Auto V</td>\n",
       "      <td>PS4</td>\n",
       "      <td>2014.0</td>\n",
       "      <td>Action</td>\n",
       "      <td>3.96</td>\n",
       "      <td>6.31</td>\n",
       "      <td>0.38</td>\n",
       "      <td>1.97</td>\n",
       "      <td>97.0</td>\n",
       "      <td>8.3</td>\n",
       "      <td>M</td>\n",
       "      <td>12.62</td>\n",
       "      <td>Для взрослых</td>\n",
       "    </tr>\n",
       "    <tr>\n",
       "      <th>77</th>\n",
       "      <td>FIFA 16</td>\n",
       "      <td>PS4</td>\n",
       "      <td>2015.0</td>\n",
       "      <td>Sports</td>\n",
       "      <td>1.12</td>\n",
       "      <td>6.12</td>\n",
       "      <td>0.06</td>\n",
       "      <td>1.28</td>\n",
       "      <td>82.0</td>\n",
       "      <td>4.3</td>\n",
       "      <td>E</td>\n",
       "      <td>8.58</td>\n",
       "      <td>Для всех</td>\n",
       "    </tr>\n",
       "    <tr>\n",
       "      <th>87</th>\n",
       "      <td>Star Wars Battlefront (2015)</td>\n",
       "      <td>PS4</td>\n",
       "      <td>2015.0</td>\n",
       "      <td>Shooter</td>\n",
       "      <td>2.99</td>\n",
       "      <td>3.49</td>\n",
       "      <td>0.22</td>\n",
       "      <td>1.28</td>\n",
       "      <td>NaN</td>\n",
       "      <td>NaN</td>\n",
       "      <td>NaN</td>\n",
       "      <td>7.98</td>\n",
       "      <td>None</td>\n",
       "    </tr>\n",
       "    <tr>\n",
       "      <th>92</th>\n",
       "      <td>Call of Duty: Advanced Warfare</td>\n",
       "      <td>PS4</td>\n",
       "      <td>2014.0</td>\n",
       "      <td>Shooter</td>\n",
       "      <td>2.81</td>\n",
       "      <td>3.48</td>\n",
       "      <td>0.14</td>\n",
       "      <td>1.23</td>\n",
       "      <td>83.0</td>\n",
       "      <td>5.7</td>\n",
       "      <td>M</td>\n",
       "      <td>7.66</td>\n",
       "      <td>Для взрослых</td>\n",
       "    </tr>\n",
       "  </tbody>\n",
       "</table>\n",
       "</div>"
      ],
      "text/plain": [
       "                              name platform  year_of_release    genre  \\\n",
       "31       Call of Duty: Black Ops 3      PS4           2015.0  Shooter   \n",
       "42              Grand Theft Auto V      PS4           2014.0   Action   \n",
       "77                         FIFA 16      PS4           2015.0   Sports   \n",
       "87    Star Wars Battlefront (2015)      PS4           2015.0  Shooter   \n",
       "92  Call of Duty: Advanced Warfare      PS4           2014.0  Shooter   \n",
       "\n",
       "    na_sales  eu_sales  jp_sales  other_sales  critic_score  user_score  \\\n",
       "31      6.03      5.86      0.36         2.38           NaN         NaN   \n",
       "42      3.96      6.31      0.38         1.97          97.0         8.3   \n",
       "77      1.12      6.12      0.06         1.28          82.0         4.3   \n",
       "87      2.99      3.49      0.22         1.28           NaN         NaN   \n",
       "92      2.81      3.48      0.14         1.23          83.0         5.7   \n",
       "\n",
       "   rating  all_sales rating_category  \n",
       "31    NaN      14.63            None  \n",
       "42      M      12.62    Для взрослых  \n",
       "77      E       8.58        Для всех  \n",
       "87    NaN       7.98            None  \n",
       "92      M       7.66    Для взрослых  "
      ]
     },
     "execution_count": 32,
     "metadata": {},
     "output_type": "execute_result"
    }
   ],
   "source": [
    "data_actual_ps4 = data_actual.query('platform == \"PS4\"')\n",
    "data_actual_ps4.head()"
   ]
  },
  {
   "cell_type": "code",
   "execution_count": 33,
   "id": "7a66a30d",
   "metadata": {},
   "outputs": [],
   "source": [
    "factor = ['user_score','critic_score']"
   ]
  },
  {
   "cell_type": "code",
   "execution_count": 34,
   "id": "04a9f863",
   "metadata": {},
   "outputs": [],
   "source": [
    "def cor(factors, element, data):\n",
    "    for a in factors:\n",
    "        print(f'Корреляция {a} к {element} = {round(data[element].corr(data[a]), 2)}')\n",
    "# функция, высчитывающая корреляцию элементов из списка к заданному элементу"
   ]
  },
  {
   "cell_type": "code",
   "execution_count": 35,
   "id": "ee19e554",
   "metadata": {},
   "outputs": [
    {
     "data": {
      "image/png": "[encoded data removed]",
      "text/plain": [
       "<Figure size 432x288 with 1 Axes>"
      ]
     },
     "metadata": {
      "needs_background": "light"
     },
     "output_type": "display_data"
    },
    {
     "name": "stdout",
     "output_type": "stream",
     "text": [
      "Корреляция user_score к all_sales = -0.04\n"
     ]
    },
    {
     "data": {
      "image/png": "[encoded data removed]",
      "text/plain": [
       "<Figure size 432x288 with 1 Axes>"
      ]
     },
     "metadata": {
      "needs_background": "light"
     },
     "output_type": "display_data"
    },
    {
     "name": "stdout",
     "output_type": "stream",
     "text": [
      "Корреляция critic_score к all_sales = 0.4\n"
     ]
    }
   ],
   "source": [
    "for a in factor:\n",
    "    b = [a]\n",
    "    data_actual_ps4.plot(x=a, y='all_sales', kind='scatter', alpha=0.3)\n",
    "    plt.ylim(0, 5)\n",
    "    plt.show()\n",
    "    cor(b,'all_sales',data_actual_ps4)\n",
    "# применение функции и построение диаграммы рассеяния"
   ]
  },
  {
   "cell_type": "code",
   "execution_count": 36,
   "id": "eeaf4d08",
   "metadata": {},
   "outputs": [
    {
     "data": {
      "image/png": "[encoded data removed]",
      "text/plain": [
       "<Figure size 432x288 with 1 Axes>"
      ]
     },
     "metadata": {
      "needs_background": "light"
     },
     "output_type": "display_data"
    },
    {
     "name": "stdout",
     "output_type": "stream",
     "text": [
      "Корреляция user_score к all_sales = -0.02\n"
     ]
    },
    {
     "data": {
      "image/png": "[encoded data removed]",
      "text/plain": [
       "<Figure size 432x288 with 1 Axes>"
      ]
     },
     "metadata": {
      "needs_background": "light"
     },
     "output_type": "display_data"
    },
    {
     "name": "stdout",
     "output_type": "stream",
     "text": [
      "Корреляция critic_score к all_sales = 0.31\n"
     ]
    }
   ],
   "source": [
    "data_actual_no_ps4 = data_actual.query('platform != \"PS4\"')\n",
    "\n",
    "for a in factor:\n",
    "    b = [a]\n",
    "    data_actual_no_ps4.plot(x=a, y='all_sales', kind='scatter', alpha=0.3)\n",
    "    plt.ylim(0, 5)\n",
    "    plt.show()\n",
    "    cor(b,'all_sales',data_actual_no_ps4)"
   ]
  },
  {
   "cell_type": "markdown",
   "id": "6952f0b6",
   "metadata": {},
   "source": [
    "На основании данного графика можно сказать следующее:\n",
    "- зависимости между продажами и пользовательскими оценками у платформы PS4 нет.\n",
    "- между продажами и оценками критиков  на платформе PS4 есть положительная зависимость, но ее нельзя назвать сильной.\n",
    "\n",
    "- Результа, основанные на PS4, полностью отражают картину по другим платформам.  "
   ]
  },
  {
   "cell_type": "markdown",
   "id": "f9fb4f50",
   "metadata": {},
   "source": [
    "### Анализ жанров по данным"
   ]
  },
  {
   "cell_type": "code",
   "execution_count": 37,
   "id": "10f03e73",
   "metadata": {},
   "outputs": [
    {
     "data": {
      "text/html": [
       "<div>\n",
       "<style scoped>\n",
       "    .dataframe tbody tr th:only-of-type {\n",
       "        vertical-align: middle;\n",
       "    }\n",
       "\n",
       "    .dataframe tbody tr th {\n",
       "        vertical-align: top;\n",
       "    }\n",
       "\n",
       "    .dataframe thead th {\n",
       "        text-align: right;\n",
       "    }\n",
       "</style>\n",
       "<table border=\"1\" class=\"dataframe\">\n",
       "  <thead>\n",
       "    <tr style=\"text-align: right;\">\n",
       "      <th></th>\n",
       "      <th>name</th>\n",
       "      <th>platform</th>\n",
       "      <th>year_of_release</th>\n",
       "      <th>genre</th>\n",
       "      <th>na_sales</th>\n",
       "      <th>eu_sales</th>\n",
       "      <th>jp_sales</th>\n",
       "      <th>other_sales</th>\n",
       "      <th>critic_score</th>\n",
       "      <th>user_score</th>\n",
       "      <th>rating</th>\n",
       "      <th>all_sales</th>\n",
       "      <th>rating_category</th>\n",
       "    </tr>\n",
       "  </thead>\n",
       "  <tbody>\n",
       "    <tr>\n",
       "      <th>31</th>\n",
       "      <td>Call of Duty: Black Ops 3</td>\n",
       "      <td>PS4</td>\n",
       "      <td>2015.0</td>\n",
       "      <td>Shooter</td>\n",
       "      <td>6.03</td>\n",
       "      <td>5.86</td>\n",
       "      <td>0.36</td>\n",
       "      <td>2.38</td>\n",
       "      <td>NaN</td>\n",
       "      <td>NaN</td>\n",
       "      <td>NaN</td>\n",
       "      <td>14.63</td>\n",
       "      <td>None</td>\n",
       "    </tr>\n",
       "    <tr>\n",
       "      <th>42</th>\n",
       "      <td>Grand Theft Auto V</td>\n",
       "      <td>PS4</td>\n",
       "      <td>2014.0</td>\n",
       "      <td>Action</td>\n",
       "      <td>3.96</td>\n",
       "      <td>6.31</td>\n",
       "      <td>0.38</td>\n",
       "      <td>1.97</td>\n",
       "      <td>97.0</td>\n",
       "      <td>8.3</td>\n",
       "      <td>M</td>\n",
       "      <td>12.62</td>\n",
       "      <td>Для взрослых</td>\n",
       "    </tr>\n",
       "    <tr>\n",
       "      <th>47</th>\n",
       "      <td>Pokemon Omega Ruby/Pokemon Alpha Sapphire</td>\n",
       "      <td>3DS</td>\n",
       "      <td>2014.0</td>\n",
       "      <td>Role-Playing</td>\n",
       "      <td>4.35</td>\n",
       "      <td>3.49</td>\n",
       "      <td>3.10</td>\n",
       "      <td>0.74</td>\n",
       "      <td>NaN</td>\n",
       "      <td>NaN</td>\n",
       "      <td>NaN</td>\n",
       "      <td>11.68</td>\n",
       "      <td>None</td>\n",
       "    </tr>\n",
       "    <tr>\n",
       "      <th>77</th>\n",
       "      <td>FIFA 16</td>\n",
       "      <td>PS4</td>\n",
       "      <td>2015.0</td>\n",
       "      <td>Sports</td>\n",
       "      <td>1.12</td>\n",
       "      <td>6.12</td>\n",
       "      <td>0.06</td>\n",
       "      <td>1.28</td>\n",
       "      <td>82.0</td>\n",
       "      <td>4.3</td>\n",
       "      <td>E</td>\n",
       "      <td>8.58</td>\n",
       "      <td>Для всех</td>\n",
       "    </tr>\n",
       "    <tr>\n",
       "      <th>87</th>\n",
       "      <td>Star Wars Battlefront (2015)</td>\n",
       "      <td>PS4</td>\n",
       "      <td>2015.0</td>\n",
       "      <td>Shooter</td>\n",
       "      <td>2.99</td>\n",
       "      <td>3.49</td>\n",
       "      <td>0.22</td>\n",
       "      <td>1.28</td>\n",
       "      <td>NaN</td>\n",
       "      <td>NaN</td>\n",
       "      <td>NaN</td>\n",
       "      <td>7.98</td>\n",
       "      <td>None</td>\n",
       "    </tr>\n",
       "  </tbody>\n",
       "</table>\n",
       "</div>"
      ],
      "text/plain": [
       "                                         name platform  year_of_release  \\\n",
       "31                  Call of Duty: Black Ops 3      PS4           2015.0   \n",
       "42                         Grand Theft Auto V      PS4           2014.0   \n",
       "47  Pokemon Omega Ruby/Pokemon Alpha Sapphire      3DS           2014.0   \n",
       "77                                    FIFA 16      PS4           2015.0   \n",
       "87               Star Wars Battlefront (2015)      PS4           2015.0   \n",
       "\n",
       "           genre  na_sales  eu_sales  jp_sales  other_sales  critic_score  \\\n",
       "31       Shooter      6.03      5.86      0.36         2.38           NaN   \n",
       "42        Action      3.96      6.31      0.38         1.97          97.0   \n",
       "47  Role-Playing      4.35      3.49      3.10         0.74           NaN   \n",
       "77        Sports      1.12      6.12      0.06         1.28          82.0   \n",
       "87       Shooter      2.99      3.49      0.22         1.28           NaN   \n",
       "\n",
       "    user_score rating  all_sales rating_category  \n",
       "31         NaN    NaN      14.63            None  \n",
       "42         8.3      M      12.62    Для взрослых  \n",
       "47         NaN    NaN      11.68            None  \n",
       "77         4.3      E       8.58        Для всех  \n",
       "87         NaN    NaN       7.98            None  "
      ]
     },
     "execution_count": 37,
     "metadata": {},
     "output_type": "execute_result"
    }
   ],
   "source": [
    "data_actual.head()"
   ]
  },
  {
   "cell_type": "code",
   "execution_count": 38,
   "id": "9011f88c",
   "metadata": {
    "scrolled": false
   },
   "outputs": [
    {
     "data": {
      "text/html": [
       "<div>\n",
       "<style scoped>\n",
       "    .dataframe tbody tr th:only-of-type {\n",
       "        vertical-align: middle;\n",
       "    }\n",
       "\n",
       "    .dataframe tbody tr th {\n",
       "        vertical-align: top;\n",
       "    }\n",
       "\n",
       "    .dataframe thead th {\n",
       "        text-align: right;\n",
       "    }\n",
       "</style>\n",
       "<table border=\"1\" class=\"dataframe\">\n",
       "  <thead>\n",
       "    <tr style=\"text-align: right;\">\n",
       "      <th></th>\n",
       "      <th>sales_count</th>\n",
       "      <th>sales_sum</th>\n",
       "      <th>sales_median</th>\n",
       "      <th>sales_mean</th>\n",
       "    </tr>\n",
       "    <tr>\n",
       "      <th>genre</th>\n",
       "      <th></th>\n",
       "      <th></th>\n",
       "      <th></th>\n",
       "      <th></th>\n",
       "    </tr>\n",
       "  </thead>\n",
       "  <tbody>\n",
       "    <tr>\n",
       "      <th>Puzzle</th>\n",
       "      <td>14</td>\n",
       "      <td>2.21</td>\n",
       "      <td>0.045</td>\n",
       "      <td>0.16</td>\n",
       "    </tr>\n",
       "    <tr>\n",
       "      <th>Strategy</th>\n",
       "      <td>37</td>\n",
       "      <td>3.96</td>\n",
       "      <td>0.060</td>\n",
       "      <td>0.11</td>\n",
       "    </tr>\n",
       "    <tr>\n",
       "      <th>Simulation</th>\n",
       "      <td>44</td>\n",
       "      <td>13.13</td>\n",
       "      <td>0.100</td>\n",
       "      <td>0.30</td>\n",
       "    </tr>\n",
       "    <tr>\n",
       "      <th>Adventure</th>\n",
       "      <td>185</td>\n",
       "      <td>17.55</td>\n",
       "      <td>0.030</td>\n",
       "      <td>0.09</td>\n",
       "    </tr>\n",
       "    <tr>\n",
       "      <th>Platform</th>\n",
       "      <td>38</td>\n",
       "      <td>18.09</td>\n",
       "      <td>0.140</td>\n",
       "      <td>0.48</td>\n",
       "    </tr>\n",
       "    <tr>\n",
       "      <th>Racing</th>\n",
       "      <td>69</td>\n",
       "      <td>27.52</td>\n",
       "      <td>0.090</td>\n",
       "      <td>0.40</td>\n",
       "    </tr>\n",
       "    <tr>\n",
       "      <th>Fighting</th>\n",
       "      <td>60</td>\n",
       "      <td>28.22</td>\n",
       "      <td>0.125</td>\n",
       "      <td>0.47</td>\n",
       "    </tr>\n",
       "    <tr>\n",
       "      <th>Misc</th>\n",
       "      <td>113</td>\n",
       "      <td>37.55</td>\n",
       "      <td>0.090</td>\n",
       "      <td>0.33</td>\n",
       "    </tr>\n",
       "    <tr>\n",
       "      <th>Role-Playing</th>\n",
       "      <td>221</td>\n",
       "      <td>101.44</td>\n",
       "      <td>0.110</td>\n",
       "      <td>0.46</td>\n",
       "    </tr>\n",
       "    <tr>\n",
       "      <th>Sports</th>\n",
       "      <td>161</td>\n",
       "      <td>109.48</td>\n",
       "      <td>0.180</td>\n",
       "      <td>0.68</td>\n",
       "    </tr>\n",
       "    <tr>\n",
       "      <th>Shooter</th>\n",
       "      <td>128</td>\n",
       "      <td>170.94</td>\n",
       "      <td>0.515</td>\n",
       "      <td>1.34</td>\n",
       "    </tr>\n",
       "    <tr>\n",
       "      <th>Action</th>\n",
       "      <td>619</td>\n",
       "      <td>199.36</td>\n",
       "      <td>0.090</td>\n",
       "      <td>0.32</td>\n",
       "    </tr>\n",
       "  </tbody>\n",
       "</table>\n",
       "</div>"
      ],
      "text/plain": [
       "              sales_count  sales_sum  sales_median  sales_mean\n",
       "genre                                                         \n",
       "Puzzle                 14       2.21         0.045        0.16\n",
       "Strategy               37       3.96         0.060        0.11\n",
       "Simulation             44      13.13         0.100        0.30\n",
       "Adventure             185      17.55         0.030        0.09\n",
       "Platform               38      18.09         0.140        0.48\n",
       "Racing                 69      27.52         0.090        0.40\n",
       "Fighting               60      28.22         0.125        0.47\n",
       "Misc                  113      37.55         0.090        0.33\n",
       "Role-Playing          221     101.44         0.110        0.46\n",
       "Sports                161     109.48         0.180        0.68\n",
       "Shooter               128     170.94         0.515        1.34\n",
       "Action                619     199.36         0.090        0.32"
      ]
     },
     "execution_count": 38,
     "metadata": {},
     "output_type": "execute_result"
    }
   ],
   "source": [
    "data_genre = data_actual.pivot_table(index='genre', values='all_sales', aggfunc=['count','sum','median'])#.sort_values(by='all_sales'))\n",
    "data_genre.columns = ['sales_count','sales_sum', 'sales_median']\n",
    "data_genre['sales_mean'] = round(data_genre['sales_sum'] / data_genre['sales_count'], 2)\n",
    "data_genre.sort_values(by='sales_sum')\n",
    "# сводная таблица по жанрам с расчетом количества игр в жанре, суммы проданных копий и среднего количества продаж каждой игры\n",
    "# отсортирована по сумме продаж"
   ]
  },
  {
   "cell_type": "code",
   "execution_count": 39,
   "id": "15fcf58d",
   "metadata": {},
   "outputs": [
    {
     "data": {
      "text/html": [
       "<div>\n",
       "<style scoped>\n",
       "    .dataframe tbody tr th:only-of-type {\n",
       "        vertical-align: middle;\n",
       "    }\n",
       "\n",
       "    .dataframe tbody tr th {\n",
       "        vertical-align: top;\n",
       "    }\n",
       "\n",
       "    .dataframe thead th {\n",
       "        text-align: right;\n",
       "    }\n",
       "</style>\n",
       "<table border=\"1\" class=\"dataframe\">\n",
       "  <thead>\n",
       "    <tr style=\"text-align: right;\">\n",
       "      <th></th>\n",
       "      <th>sales_count</th>\n",
       "      <th>sales_sum</th>\n",
       "      <th>sales_median</th>\n",
       "      <th>sales_mean</th>\n",
       "    </tr>\n",
       "    <tr>\n",
       "      <th>genre</th>\n",
       "      <th></th>\n",
       "      <th></th>\n",
       "      <th></th>\n",
       "      <th></th>\n",
       "    </tr>\n",
       "  </thead>\n",
       "  <tbody>\n",
       "    <tr>\n",
       "      <th>Adventure</th>\n",
       "      <td>185</td>\n",
       "      <td>17.55</td>\n",
       "      <td>0.030</td>\n",
       "      <td>0.09</td>\n",
       "    </tr>\n",
       "    <tr>\n",
       "      <th>Puzzle</th>\n",
       "      <td>14</td>\n",
       "      <td>2.21</td>\n",
       "      <td>0.045</td>\n",
       "      <td>0.16</td>\n",
       "    </tr>\n",
       "    <tr>\n",
       "      <th>Strategy</th>\n",
       "      <td>37</td>\n",
       "      <td>3.96</td>\n",
       "      <td>0.060</td>\n",
       "      <td>0.11</td>\n",
       "    </tr>\n",
       "    <tr>\n",
       "      <th>Action</th>\n",
       "      <td>619</td>\n",
       "      <td>199.36</td>\n",
       "      <td>0.090</td>\n",
       "      <td>0.32</td>\n",
       "    </tr>\n",
       "    <tr>\n",
       "      <th>Misc</th>\n",
       "      <td>113</td>\n",
       "      <td>37.55</td>\n",
       "      <td>0.090</td>\n",
       "      <td>0.33</td>\n",
       "    </tr>\n",
       "    <tr>\n",
       "      <th>Racing</th>\n",
       "      <td>69</td>\n",
       "      <td>27.52</td>\n",
       "      <td>0.090</td>\n",
       "      <td>0.40</td>\n",
       "    </tr>\n",
       "    <tr>\n",
       "      <th>Simulation</th>\n",
       "      <td>44</td>\n",
       "      <td>13.13</td>\n",
       "      <td>0.100</td>\n",
       "      <td>0.30</td>\n",
       "    </tr>\n",
       "    <tr>\n",
       "      <th>Role-Playing</th>\n",
       "      <td>221</td>\n",
       "      <td>101.44</td>\n",
       "      <td>0.110</td>\n",
       "      <td>0.46</td>\n",
       "    </tr>\n",
       "    <tr>\n",
       "      <th>Fighting</th>\n",
       "      <td>60</td>\n",
       "      <td>28.22</td>\n",
       "      <td>0.125</td>\n",
       "      <td>0.47</td>\n",
       "    </tr>\n",
       "    <tr>\n",
       "      <th>Platform</th>\n",
       "      <td>38</td>\n",
       "      <td>18.09</td>\n",
       "      <td>0.140</td>\n",
       "      <td>0.48</td>\n",
       "    </tr>\n",
       "    <tr>\n",
       "      <th>Sports</th>\n",
       "      <td>161</td>\n",
       "      <td>109.48</td>\n",
       "      <td>0.180</td>\n",
       "      <td>0.68</td>\n",
       "    </tr>\n",
       "    <tr>\n",
       "      <th>Shooter</th>\n",
       "      <td>128</td>\n",
       "      <td>170.94</td>\n",
       "      <td>0.515</td>\n",
       "      <td>1.34</td>\n",
       "    </tr>\n",
       "  </tbody>\n",
       "</table>\n",
       "</div>"
      ],
      "text/plain": [
       "              sales_count  sales_sum  sales_median  sales_mean\n",
       "genre                                                         \n",
       "Adventure             185      17.55         0.030        0.09\n",
       "Puzzle                 14       2.21         0.045        0.16\n",
       "Strategy               37       3.96         0.060        0.11\n",
       "Action                619     199.36         0.090        0.32\n",
       "Misc                  113      37.55         0.090        0.33\n",
       "Racing                 69      27.52         0.090        0.40\n",
       "Simulation             44      13.13         0.100        0.30\n",
       "Role-Playing          221     101.44         0.110        0.46\n",
       "Fighting               60      28.22         0.125        0.47\n",
       "Platform               38      18.09         0.140        0.48\n",
       "Sports                161     109.48         0.180        0.68\n",
       "Shooter               128     170.94         0.515        1.34"
      ]
     },
     "execution_count": 39,
     "metadata": {},
     "output_type": "execute_result"
    }
   ],
   "source": [
    "data_genre.sort_values(by='sales_median')"
   ]
  },
  {
   "cell_type": "markdown",
   "id": "815152b1",
   "metadata": {},
   "source": [
    "**Вывод**\n",
    "О жанрах можно сказать следующее:\n",
    "\n",
    "1) Жанрами с наибольшими продажами являются `Action` и `Shooter`. Суммарное колличество проданных коппий по всем играм в этих жанрах равно 557.80 млн и 402.91млн копий соответственно.\n",
    "\n",
    "2)  Жанрами с наименьшими продажами являются `Puzzle` и `Strategy`. Суммарное колличество проданных коппий по всем играм в этих жанрах равно 9.85 млн и 22.16 млн копий соответственно.\n",
    "\n",
    "3) Самыми прибыльными жанрами можно назвать `Sports` и `Shooter`, потому что они являются лидерами с точки зрения медианных продаж  со значениями в 0.68млн и 1.34млн копий соответственно. \n"
   ]
  },
  {
   "cell_type": "markdown",
   "id": "810f2902",
   "metadata": {},
   "source": [
    "###  Портрет пользователя каждого региона"
   ]
  },
  {
   "cell_type": "code",
   "execution_count": 40,
   "id": "d35e5eb9",
   "metadata": {},
   "outputs": [
    {
     "data": {
      "image/png": "[encoded data removed]",
      "text/plain": [
       "<Figure size 720x360 with 1 Axes>"
      ]
     },
     "metadata": {},
     "output_type": "display_data"
    },
    {
     "data": {
      "image/png": "[encoded data removed]",
      "text/plain": [
       "<Figure size 720x360 with 1 Axes>"
      ]
     },
     "metadata": {},
     "output_type": "display_data"
    },
    {
     "data": {
      "image/png": "[encoded data removed]",
      "text/plain": [
       "<Figure size 720x360 with 1 Axes>"
      ]
     },
     "metadata": {},
     "output_type": "display_data"
    }
   ],
   "source": [
    "for a in ['na_sales','eu_sales','jp_sales']:\n",
    "    data_platform = data_actual.pivot_table(index='platform', values=a, aggfunc=['sum'])#.sort_values(by='all_sales'))\n",
    "    data_platform.columns = [a]\n",
    "    data_platform = data_platform.sort_values(by=a, ascending=False).head()\n",
    "    data_platform[a].plot(kind='pie', grid=True,legend=True, figsize=(10,5))\n",
    "    plt.show()\n",
    "# цикл для отрисовки графиков самых популярных платформ по регионам "
   ]
  },
  {
   "cell_type": "markdown",
   "id": "9eda12e2",
   "metadata": {},
   "source": [
    "**Вывод по платформам**\n",
    "\n",
    "1) Топ 5 платформ по регионам сильно различается, но есть некоторые сходства:\n",
    "- во всех регионах в топ 5 входит PS3, PS4, 3DS \n",
    "\n",
    "2) Довольно схожи между собой  Европа и Северная Америка:\n",
    "- Топ 2 в этих регионах совпадает\n",
    "- для обоих регионов также характерен тот факт, что  платформа 3DS хоть и входит топ 5, однако занимает в этих регионах последнее и предпоследнее место сильно отставая от лидеров\n",
    "\n",
    "3) Наиболее сильно отличается от других регион Японии:\n",
    "- так в отличие от Европы и Северной Америки, в которых платформа 3DS занимает последние места, в Японии она находится на первом месте с большим отрывом от конкурентов, занимая практически 50% рынка\n",
    "- также в топ 5 Японии входят WIU и PSV, которых нет в Топ 5 Европы и Северной Америки"
   ]
  },
  {
   "cell_type": "code",
   "execution_count": 41,
   "id": "c17632cf",
   "metadata": {},
   "outputs": [
    {
     "data": {
      "image/png": "[encoded data removed]",
      "text/plain": [
       "<Figure size 720x360 with 1 Axes>"
      ]
     },
     "metadata": {},
     "output_type": "display_data"
    },
    {
     "data": {
      "image/png": "[encoded data removed]",
      "text/plain": [
       "<Figure size 720x360 with 1 Axes>"
      ]
     },
     "metadata": {},
     "output_type": "display_data"
    },
    {
     "data": {
      "image/png": "[encoded data removed]",
      "text/plain": [
       "<Figure size 720x360 with 1 Axes>"
      ]
     },
     "metadata": {},
     "output_type": "display_data"
    }
   ],
   "source": [
    "for a in ['na_sales','eu_sales','jp_sales']:\n",
    "    data_genre = data_actual.pivot_table(index='genre', values=a, aggfunc=['sum'])#.sort_values(by='all_sales'))\n",
    "    data_genre.columns = [a]\n",
    "    data_genre = data_genre.sort_values(by=a, ascending=False).head()\n",
    "    data_genre[a].plot(kind='pie', grid=True,legend=True, figsize=(10,5))\n",
    "    plt.show()\n"
   ]
  },
  {
   "cell_type": "markdown",
   "id": "84dd8217",
   "metadata": {},
   "source": [
    "**Вывод по жанрам**\n",
    "\n",
    "1) Топ 5 жанров по регионам имеют некоторые сходства:\n",
    "- во всех регионах большую долю занимает жанр Action. В Европе и Северной Америке он занимае первое место, в Японии второе, но лишь немного уступая конкуренту.\n",
    "- во всех регионах в топ 5 входит жанр  Role-Playing\n",
    "\n",
    "2) Довольно схожи между собой  Европа и Северная Америка:\n",
    "- данные регионны практически идентичны с точки зрения предпочтений по жанрам. Распределение первых четырех жанров полностью одинаковое\n",
    "- Отличаются данные регионы только пятым по популярности жанром. Так в Евроре это Racing, а в Северной Америке - Misc\n",
    "\n",
    "3) Наиболее сильно отличается от других регион Японии:\n",
    "- так в отличие от Европы и Северной Америки, в которых жанр Role-Playing занимает предпоследние места, в Японии он находится на первом месте , опередив даже довльно популярный во всех регионах жанр Action\n",
    "- существенным отличием является отсутвие в топе Японии жанра Shooter, который занимает второе место в Северной Америке и Европе, занимая в данных регионах существенную долю рынка \n",
    "- также в топ 5 Японии входят жанры Fighting и Platform, которых нет в Топ 5 Европы и Северной Америки"
   ]
  },
  {
   "cell_type": "code",
   "execution_count": 42,
   "id": "97bf77c4",
   "metadata": {},
   "outputs": [],
   "source": [
    "data_actual = data_actual.fillna(value= {'rating_category':'без рейтинга'})"
   ]
  },
  {
   "cell_type": "code",
   "execution_count": 43,
   "id": "983effb1",
   "metadata": {},
   "outputs": [
    {
     "data": {
      "image/png": "[encoded data removed]",
      "text/plain": [
       "<Figure size 720x360 with 1 Axes>"
      ]
     },
     "metadata": {},
     "output_type": "display_data"
    },
    {
     "data": {
      "image/png": "[encoded data removed]",
      "text/plain": [
       "<Figure size 720x360 with 1 Axes>"
      ]
     },
     "metadata": {},
     "output_type": "display_data"
    },
    {
     "data": {
      "image/png": "[encoded data removed]",
      "text/plain": [
       "<Figure size 720x360 with 1 Axes>"
      ]
     },
     "metadata": {},
     "output_type": "display_data"
    }
   ],
   "source": [
    "for a in ['na_sales','eu_sales','jp_sales']:\n",
    "    data_genre = data_actual.pivot_table(index='rating_category', values=a, aggfunc=['sum'])#.sort_values(by='all_sales'))\n",
    "    data_genre.columns = [a]\n",
    "    data_genre = data_genre.sort_values( by=a, ascending=False).head()\n",
    "    data_genre[a].plot(kind='pie', grid=True,legend=True, figsize=(10,5))\n",
    "    plt.show()\n",
    "    "
   ]
  },
  {
   "cell_type": "markdown",
   "id": "77c81560",
   "metadata": {},
   "source": [
    "**Вывод по рейтингам**\n",
    "\n",
    "1) Топ 5 рейтингов по регионам имеют некоторые сходства:\n",
    "- 5 из 5ти в топе во всех регионах одинаковые. Таковыми являются рейтинг `Для всех`, `Для взорослых`, `От 10 лет и старше`, `Подросткам`, `Без рейтинга`.\n",
    "- 5е место во всех регионах за категорией `От 10 лет и старше`\n",
    "\n",
    "2) Довольно схожи между собой  Европа и Северная Америка:\n",
    "- Топ 5 в этих рейтингах практически идентичен.\n",
    "\n",
    "3) Наиболее сильно отличается от других регион Японии:\n",
    "- так в отличие от Европы и Северной Америки, в которых рейтинг `Для взрослых` занимает первое место, в Японии он находится только на 4м месте.\n",
    "- существенным отличием является тот факт, что рейтинг `Подросткам` в Японии занимает лидирующие позиции, находясь на втором месте, в то время как в Евроре и Северной Америке игры данного рейтинга находятся только на четвертом месте.  \n",
    "\n",
    "Отдельно стоит отметить тот факт, что игры без рейтинга занимают большую долю во всех регионах. Особенно сильно данный факт бросается в глаза в Японии, где игры без рейтинга занимают порядка 60%.\n"
   ]
  },
  {
   "cell_type": "markdown",
   "id": "d1ac5acc",
   "metadata": {},
   "source": [
    "##  Проверка гипотез"
   ]
  },
  {
   "cell_type": "markdown",
   "id": "5ff3de26",
   "metadata": {},
   "source": [
    "### Средние пользовательские рейтинги платформ Xbox One и PC одинаковые;"
   ]
  },
  {
   "cell_type": "code",
   "execution_count": 44,
   "id": "b90561e0",
   "metadata": {},
   "outputs": [],
   "source": [
    "xbox_one = data_actual.query('platform == \"XOne\"')['user_score']#.astype('int')\n",
    "xbox_one = xbox_one.dropna()\n",
    "\n",
    "pc = data_actual.query('platform == \"PC\"')['user_score']#.astype('int')\n",
    "pc = pc.dropna()\n",
    "pc = pc[:len(xbox_one)]\n",
    "\n",
    "# подготовка выборки для проверки"
   ]
  },
  {
   "cell_type": "code",
   "execution_count": 45,
   "id": "dad3cb79",
   "metadata": {},
   "outputs": [
    {
     "name": "stdout",
     "output_type": "stream",
     "text": [
      "p-значение: 0.10450507919348415\n",
      "Не получилось отвергнуть нулевую гипотезу\n"
     ]
    }
   ],
   "source": [
    "alpha = .05\n",
    "\n",
    "results = st.ttest_ind(xbox_one,pc)\n",
    "\n",
    "print('p-значение:',results[1]) \n",
    "\n",
    "if results[1] < alpha:\n",
    "    print(\"Отвергаем нулевую гипотезу\")\n",
    "else:\n",
    "    print(\"Не получилось отвергнуть нулевую гипотезу\")\n",
    "# проверка гипотезы"
   ]
  },
  {
   "cell_type": "markdown",
   "id": "12b74e81",
   "metadata": {},
   "source": [
    "### Средние пользовательские рейтинги жанров Action и Sports разные.\n"
   ]
  },
  {
   "cell_type": "code",
   "execution_count": 46,
   "id": "85527e99",
   "metadata": {},
   "outputs": [],
   "source": [
    "sports = data_actual.query('genre == \"Sports\"')['user_score']#.astype('int')\n",
    "sports = sports.dropna()\n",
    "\n",
    "action = data_actual.query('genre == \"Action\"')['user_score']#.astype('int')\n",
    "action = action.dropna()\n",
    "action = action[:len(sports)]\n",
    "# подготовка выборки для проверки"
   ]
  },
  {
   "cell_type": "code",
   "execution_count": 47,
   "id": "8bc9127d",
   "metadata": {},
   "outputs": [
    {
     "name": "stdout",
     "output_type": "stream",
     "text": [
      "p-значение: 3.248693615039004e-12\n",
      "Отвергаем нулевую гипотезу\n"
     ]
    }
   ],
   "source": [
    "alpha = .05\n",
    "\n",
    "results = st.ttest_ind(action,sports)\n",
    "\n",
    "print('p-значение:',results[1]) \n",
    "\n",
    "if results[1] < alpha:\n",
    "    print(\"Отвергаем нулевую гипотезу\")\n",
    "else:\n",
    "    print(\"Не получилось отвергнуть нулевую гипотезу\")\n",
    "# проверка гипотезы"
   ]
  },
  {
   "cell_type": "markdown",
   "id": "d70eaf30",
   "metadata": {},
   "source": [
    "**Вывод**\n",
    "\n",
    "1) **Гипотеза**: \"Средние пользовательские рейтинги платформ Xbox One и PC одинаковые\"\n",
    "- нулевая гипотеза: средние пользовательские рейтинги платформ Xbox One и PC равны\n",
    "- альтернативная: средние пользовательские рейтинги платформ Xbox One и PC различаются\n",
    "- вероятность равного среднего рейтинга пользователей оказалась выше порогового значения (0.05), поэтому нулевая гипотеза не отвергается\n",
    "\n",
    "2) **Гипотеза**: \"Средние пользовательские рейтинги жанров Action и Sports разные\"\n",
    "- нулевая гипотеза: средние пользовательские рейтинги жанров Action и Sports равны\n",
    "- альтернативная: средние пользовательские рейтинги жанров Action и Sports отличаются\n",
    "- вероятность равного среднего рейтинга пользователей оказалась ниже порогового значения (0.05), поэтому нулевая гипотеза отвергается, в пользу альтернатиной."
   ]
  },
  {
   "cell_type": "markdown",
   "id": "59dd8832",
   "metadata": {},
   "source": [
    "## Вывод"
   ]
  },
  {
   "cell_type": "markdown",
   "id": "b3c7b00c",
   "metadata": {},
   "source": [
    "Исследование проходило в несколько этапов:\n",
    "\n",
    "1) Обзор данных\n",
    "\n",
    "2) Предобратока данных\n",
    "\n",
    "В ходе предобратки:\n",
    "- испавлены названия столбцов\n",
    "- дубликаты не обнаружены\n",
    "- заполнены некоторые пропуски\n",
    "\n",
    "3) Добавление столбцов\n",
    "\n",
    "На этом этапе были добавлены следующие столбцы:\n",
    "- суммарные продажи во всех регионах\n",
    "- расшифровка рейтинга ESRB\n",
    "\n",
    "\n",
    "4) Исследовательский анализ данных\n",
    "\n",
    "На данном этапе :\n",
    "- определен актуальный период для, котрый поможет построить прогноз на 2017г   \n",
    "- выявлены лидеры по продажам и определены потенциально прибыльные платформы\n",
    "- построен график «ящик с усами» по глобальным продажам игр в разбивке по платформам\n",
    "- Рассмотренно влияние на продажи PS4 отзывов пользователей и критиков\n",
    "- Определены самые прибыльные жанры, а также жанры с наиболее высокими и низкими продажами\n",
    "\n",
    "5) Составление портрета пользователя каждого региона\n",
    "На данном этапе :\n",
    "- определены самые популярные платформы (топ-5) в регионах.\n",
    "- определены самые популярные жанры (топ-5) в регионах.\n",
    "- определено влияние рейтинаг ESRB на продажи в отдельном регионе\n",
    "\n",
    "6) Проверка гипотез\n",
    "\n",
    "В результате проверки гипотез было установлено:\n",
    "- средние пользовательские рейтинги жанров Action и Sports разные;\n",
    "- средние пользовательские рейтинги платформ Xbox One и PC одинаковые"
   ]
  }
 ],
 "metadata": {
  "ExecuteTimeLog": [
   {
    "duration": 1166,
    "start_time": "2022-04-30T12:29:52.945Z"
   },
   {
    "duration": 139,
    "start_time": "2022-04-30T12:29:54.113Z"
   },
   {
    "duration": 0,
    "start_time": "2022-04-30T12:29:54.254Z"
   },
   {
    "duration": 0,
    "start_time": "2022-04-30T12:29:54.256Z"
   },
   {
    "duration": 0,
    "start_time": "2022-04-30T12:29:54.257Z"
   },
   {
    "duration": 0,
    "start_time": "2022-04-30T12:29:54.257Z"
   },
   {
    "duration": 0,
    "start_time": "2022-04-30T12:29:54.258Z"
   },
   {
    "duration": 0,
    "start_time": "2022-04-30T12:29:54.259Z"
   },
   {
    "duration": 0,
    "start_time": "2022-04-30T12:29:54.260Z"
   },
   {
    "duration": 0,
    "start_time": "2022-04-30T12:29:54.261Z"
   },
   {
    "duration": 0,
    "start_time": "2022-04-30T12:29:54.262Z"
   },
   {
    "duration": 0,
    "start_time": "2022-04-30T12:29:54.273Z"
   },
   {
    "duration": 0,
    "start_time": "2022-04-30T12:29:54.274Z"
   },
   {
    "duration": 0,
    "start_time": "2022-04-30T12:29:54.275Z"
   },
   {
    "duration": 0,
    "start_time": "2022-04-30T12:29:54.276Z"
   },
   {
    "duration": 0,
    "start_time": "2022-04-30T12:29:54.278Z"
   },
   {
    "duration": 0,
    "start_time": "2022-04-30T12:29:54.279Z"
   },
   {
    "duration": 0,
    "start_time": "2022-04-30T12:29:54.280Z"
   },
   {
    "duration": 0,
    "start_time": "2022-04-30T12:29:54.281Z"
   },
   {
    "duration": 0,
    "start_time": "2022-04-30T12:29:54.282Z"
   },
   {
    "duration": 0,
    "start_time": "2022-04-30T12:29:54.282Z"
   },
   {
    "duration": 0,
    "start_time": "2022-04-30T12:29:54.284Z"
   },
   {
    "duration": 0,
    "start_time": "2022-04-30T12:29:54.285Z"
   },
   {
    "duration": 0,
    "start_time": "2022-04-30T12:29:54.286Z"
   },
   {
    "duration": 0,
    "start_time": "2022-04-30T12:29:54.287Z"
   },
   {
    "duration": 0,
    "start_time": "2022-04-30T12:29:54.287Z"
   },
   {
    "duration": 0,
    "start_time": "2022-04-30T12:29:54.289Z"
   },
   {
    "duration": 0,
    "start_time": "2022-04-30T12:29:54.290Z"
   },
   {
    "duration": 0,
    "start_time": "2022-04-30T12:29:54.291Z"
   },
   {
    "duration": 0,
    "start_time": "2022-04-30T12:29:54.292Z"
   },
   {
    "duration": 0,
    "start_time": "2022-04-30T12:29:54.293Z"
   },
   {
    "duration": 0,
    "start_time": "2022-04-30T12:29:54.294Z"
   },
   {
    "duration": 0,
    "start_time": "2022-04-30T12:29:54.295Z"
   },
   {
    "duration": 0,
    "start_time": "2022-04-30T12:29:54.296Z"
   },
   {
    "duration": 0,
    "start_time": "2022-04-30T12:29:54.297Z"
   },
   {
    "duration": 0,
    "start_time": "2022-04-30T12:29:54.298Z"
   },
   {
    "duration": 0,
    "start_time": "2022-04-30T12:29:54.299Z"
   },
   {
    "duration": 0,
    "start_time": "2022-04-30T12:29:54.300Z"
   },
   {
    "duration": 0,
    "start_time": "2022-04-30T12:29:54.301Z"
   },
   {
    "duration": 0,
    "start_time": "2022-04-30T12:29:54.302Z"
   },
   {
    "duration": 0,
    "start_time": "2022-04-30T12:29:54.303Z"
   },
   {
    "duration": 0,
    "start_time": "2022-04-30T12:29:54.304Z"
   },
   {
    "duration": 0,
    "start_time": "2022-04-30T12:29:54.305Z"
   },
   {
    "duration": 0,
    "start_time": "2022-04-30T12:29:54.306Z"
   },
   {
    "duration": 0,
    "start_time": "2022-04-30T12:29:54.307Z"
   },
   {
    "duration": 0,
    "start_time": "2022-04-30T12:29:54.308Z"
   },
   {
    "duration": 1125,
    "start_time": "2022-04-30T15:55:31.114Z"
   },
   {
    "duration": 170,
    "start_time": "2022-04-30T15:55:32.241Z"
   },
   {
    "duration": 18,
    "start_time": "2022-04-30T15:55:32.413Z"
   },
   {
    "duration": 13,
    "start_time": "2022-04-30T15:55:32.433Z"
   },
   {
    "duration": 41,
    "start_time": "2022-04-30T15:55:32.448Z"
   },
   {
    "duration": 14,
    "start_time": "2022-04-30T15:55:32.491Z"
   },
   {
    "duration": 19,
    "start_time": "2022-04-30T15:55:32.507Z"
   },
   {
    "duration": 7,
    "start_time": "2022-04-30T15:55:32.528Z"
   },
   {
    "duration": 24,
    "start_time": "2022-04-30T15:55:32.536Z"
   },
   {
    "duration": 21,
    "start_time": "2022-04-30T15:55:32.563Z"
   },
   {
    "duration": 17,
    "start_time": "2022-04-30T15:55:32.586Z"
   },
   {
    "duration": 25,
    "start_time": "2022-04-30T15:55:32.605Z"
   },
   {
    "duration": 2,
    "start_time": "2022-04-30T15:55:32.632Z"
   },
   {
    "duration": 14,
    "start_time": "2022-04-30T15:55:32.636Z"
   },
   {
    "duration": 26,
    "start_time": "2022-04-30T15:55:32.652Z"
   },
   {
    "duration": 6,
    "start_time": "2022-04-30T15:55:32.680Z"
   },
   {
    "duration": 18,
    "start_time": "2022-04-30T15:55:32.687Z"
   },
   {
    "duration": 13,
    "start_time": "2022-04-30T15:55:32.706Z"
   },
   {
    "duration": 9,
    "start_time": "2022-04-30T15:55:32.721Z"
   },
   {
    "duration": 28,
    "start_time": "2022-04-30T15:55:32.732Z"
   },
   {
    "duration": 130,
    "start_time": "2022-04-30T15:55:32.772Z"
   },
   {
    "duration": 270,
    "start_time": "2022-04-30T15:55:32.904Z"
   },
   {
    "duration": 15,
    "start_time": "2022-04-30T15:55:33.176Z"
   },
   {
    "duration": 17,
    "start_time": "2022-04-30T15:55:33.193Z"
   },
   {
    "duration": 150,
    "start_time": "2022-04-30T15:55:33.212Z"
   },
   {
    "duration": 36,
    "start_time": "2022-04-30T15:55:33.363Z"
   },
   {
    "duration": 5,
    "start_time": "2022-04-30T15:55:33.401Z"
   },
   {
    "duration": 27,
    "start_time": "2022-04-30T15:55:33.409Z"
   },
   {
    "duration": 9,
    "start_time": "2022-04-30T15:55:33.438Z"
   },
   {
    "duration": 25,
    "start_time": "2022-04-30T15:55:33.449Z"
   },
   {
    "duration": 393,
    "start_time": "2022-04-30T15:55:33.476Z"
   },
   {
    "duration": 540,
    "start_time": "2022-04-30T15:55:33.871Z"
   },
   {
    "duration": 18,
    "start_time": "2022-04-30T15:55:34.413Z"
   },
   {
    "duration": 5,
    "start_time": "2022-04-30T15:55:34.432Z"
   },
   {
    "duration": 6,
    "start_time": "2022-04-30T15:55:34.439Z"
   },
   {
    "duration": 265,
    "start_time": "2022-04-30T15:55:34.447Z"
   },
   {
    "duration": 15,
    "start_time": "2022-04-30T15:55:34.713Z"
   },
   {
    "duration": 23,
    "start_time": "2022-04-30T15:55:34.730Z"
   },
   {
    "duration": 26,
    "start_time": "2022-04-30T15:55:34.755Z"
   },
   {
    "duration": 483,
    "start_time": "2022-04-30T15:55:34.783Z"
   },
   {
    "duration": 517,
    "start_time": "2022-04-30T15:55:35.268Z"
   },
   {
    "duration": 553,
    "start_time": "2022-04-30T15:55:35.786Z"
   },
   {
    "duration": 9,
    "start_time": "2022-04-30T15:55:36.342Z"
   },
   {
    "duration": 8,
    "start_time": "2022-04-30T15:55:36.353Z"
   },
   {
    "duration": 8,
    "start_time": "2022-04-30T15:55:36.373Z"
   },
   {
    "duration": 4,
    "start_time": "2022-04-30T15:55:36.383Z"
   },
   {
    "duration": 1180,
    "start_time": "2022-04-30T15:55:55.043Z"
   },
   {
    "duration": 133,
    "start_time": "2022-04-30T15:55:56.224Z"
   },
   {
    "duration": 18,
    "start_time": "2022-04-30T15:55:56.359Z"
   },
   {
    "duration": 13,
    "start_time": "2022-04-30T15:55:56.380Z"
   },
   {
    "duration": 30,
    "start_time": "2022-04-30T15:55:56.395Z"
   },
   {
    "duration": 13,
    "start_time": "2022-04-30T15:55:56.427Z"
   },
   {
    "duration": 37,
    "start_time": "2022-04-30T15:55:56.442Z"
   },
   {
    "duration": 5,
    "start_time": "2022-04-30T15:55:56.481Z"
   },
   {
    "duration": 10,
    "start_time": "2022-04-30T15:55:56.487Z"
   },
   {
    "duration": 14,
    "start_time": "2022-04-30T15:55:56.499Z"
   },
   {
    "duration": 9,
    "start_time": "2022-04-30T15:55:56.514Z"
   },
   {
    "duration": 23,
    "start_time": "2022-04-30T15:55:56.524Z"
   },
   {
    "duration": 26,
    "start_time": "2022-04-30T15:55:56.549Z"
   },
   {
    "duration": 11,
    "start_time": "2022-04-30T15:55:56.576Z"
   },
   {
    "duration": 14,
    "start_time": "2022-04-30T15:55:56.588Z"
   },
   {
    "duration": 5,
    "start_time": "2022-04-30T15:55:56.604Z"
   },
   {
    "duration": 15,
    "start_time": "2022-04-30T15:55:56.611Z"
   },
   {
    "duration": 7,
    "start_time": "2022-04-30T15:55:56.628Z"
   },
   {
    "duration": 9,
    "start_time": "2022-04-30T15:55:56.636Z"
   },
   {
    "duration": 41,
    "start_time": "2022-04-30T15:55:56.646Z"
   },
   {
    "duration": 130,
    "start_time": "2022-04-30T15:55:56.689Z"
   },
   {
    "duration": 261,
    "start_time": "2022-04-30T15:55:56.821Z"
   },
   {
    "duration": 16,
    "start_time": "2022-04-30T15:55:57.083Z"
   },
   {
    "duration": 16,
    "start_time": "2022-04-30T15:55:57.100Z"
   },
   {
    "duration": 161,
    "start_time": "2022-04-30T15:55:57.118Z"
   },
   {
    "duration": 29,
    "start_time": "2022-04-30T15:55:57.280Z"
   },
   {
    "duration": 5,
    "start_time": "2022-04-30T15:55:57.310Z"
   },
   {
    "duration": 19,
    "start_time": "2022-04-30T15:55:57.318Z"
   },
   {
    "duration": 8,
    "start_time": "2022-04-30T15:55:57.338Z"
   },
   {
    "duration": 89,
    "start_time": "2022-04-30T15:55:57.347Z"
   },
   {
    "duration": 392,
    "start_time": "2022-04-30T15:55:57.437Z"
   },
   {
    "duration": 547,
    "start_time": "2022-04-30T15:55:57.831Z"
   },
   {
    "duration": 17,
    "start_time": "2022-04-30T15:55:58.380Z"
   },
   {
    "duration": 5,
    "start_time": "2022-04-30T15:55:58.398Z"
   },
   {
    "duration": 6,
    "start_time": "2022-04-30T15:55:58.404Z"
   },
   {
    "duration": 266,
    "start_time": "2022-04-30T15:55:58.411Z"
   },
   {
    "duration": 15,
    "start_time": "2022-04-30T15:55:58.679Z"
   },
   {
    "duration": 24,
    "start_time": "2022-04-30T15:55:58.696Z"
   },
   {
    "duration": 9,
    "start_time": "2022-04-30T15:55:58.722Z"
   },
   {
    "duration": 470,
    "start_time": "2022-04-30T15:55:58.733Z"
   },
   {
    "duration": 501,
    "start_time": "2022-04-30T15:55:59.205Z"
   },
   {
    "duration": 545,
    "start_time": "2022-04-30T15:55:59.708Z"
   },
   {
    "duration": 19,
    "start_time": "2022-04-30T15:56:00.255Z"
   },
   {
    "duration": 63,
    "start_time": "2022-04-30T15:56:00.276Z"
   },
   {
    "duration": 16,
    "start_time": "2022-04-30T15:56:00.340Z"
   },
   {
    "duration": 6,
    "start_time": "2022-04-30T15:56:00.358Z"
   },
   {
    "duration": 10,
    "start_time": "2022-04-30T15:56:00.366Z"
   },
   {
    "duration": 428,
    "start_time": "2022-04-30T16:02:31.307Z"
   },
   {
    "duration": 285,
    "start_time": "2022-04-30T16:02:42.336Z"
   },
   {
    "duration": 275,
    "start_time": "2022-04-30T16:02:48.631Z"
   },
   {
    "duration": 249,
    "start_time": "2022-04-30T16:02:53.524Z"
   },
   {
    "duration": 25,
    "start_time": "2022-04-30T16:10:27.442Z"
   },
   {
    "duration": 5,
    "start_time": "2022-04-30T16:10:45.417Z"
   },
   {
    "duration": 9,
    "start_time": "2022-04-30T16:11:29.582Z"
   },
   {
    "duration": 5,
    "start_time": "2022-04-30T16:11:30.044Z"
   },
   {
    "duration": 9,
    "start_time": "2022-04-30T16:11:33.719Z"
   },
   {
    "duration": 5,
    "start_time": "2022-04-30T16:11:34.191Z"
   },
   {
    "duration": 1130,
    "start_time": "2022-04-30T16:13:32.665Z"
   },
   {
    "duration": 145,
    "start_time": "2022-04-30T16:13:33.797Z"
   },
   {
    "duration": 0,
    "start_time": "2022-04-30T16:13:33.945Z"
   },
   {
    "duration": 0,
    "start_time": "2022-04-30T16:13:33.946Z"
   },
   {
    "duration": 0,
    "start_time": "2022-04-30T16:13:33.947Z"
   },
   {
    "duration": 0,
    "start_time": "2022-04-30T16:13:33.948Z"
   },
   {
    "duration": 0,
    "start_time": "2022-04-30T16:13:33.949Z"
   },
   {
    "duration": 0,
    "start_time": "2022-04-30T16:13:33.950Z"
   },
   {
    "duration": 0,
    "start_time": "2022-04-30T16:13:33.951Z"
   },
   {
    "duration": 0,
    "start_time": "2022-04-30T16:13:33.952Z"
   },
   {
    "duration": 0,
    "start_time": "2022-04-30T16:13:33.953Z"
   },
   {
    "duration": 0,
    "start_time": "2022-04-30T16:13:33.955Z"
   },
   {
    "duration": 0,
    "start_time": "2022-04-30T16:13:33.956Z"
   },
   {
    "duration": 0,
    "start_time": "2022-04-30T16:13:33.973Z"
   },
   {
    "duration": 0,
    "start_time": "2022-04-30T16:13:33.974Z"
   },
   {
    "duration": 0,
    "start_time": "2022-04-30T16:13:33.975Z"
   },
   {
    "duration": 0,
    "start_time": "2022-04-30T16:13:33.976Z"
   },
   {
    "duration": 0,
    "start_time": "2022-04-30T16:13:33.977Z"
   },
   {
    "duration": 0,
    "start_time": "2022-04-30T16:13:33.978Z"
   },
   {
    "duration": 0,
    "start_time": "2022-04-30T16:13:33.979Z"
   },
   {
    "duration": 0,
    "start_time": "2022-04-30T16:13:33.980Z"
   },
   {
    "duration": 0,
    "start_time": "2022-04-30T16:13:33.981Z"
   },
   {
    "duration": 0,
    "start_time": "2022-04-30T16:13:33.982Z"
   },
   {
    "duration": 0,
    "start_time": "2022-04-30T16:13:33.983Z"
   },
   {
    "duration": 0,
    "start_time": "2022-04-30T16:13:33.984Z"
   },
   {
    "duration": 0,
    "start_time": "2022-04-30T16:13:33.985Z"
   },
   {
    "duration": 0,
    "start_time": "2022-04-30T16:13:33.986Z"
   },
   {
    "duration": 0,
    "start_time": "2022-04-30T16:13:33.987Z"
   },
   {
    "duration": 0,
    "start_time": "2022-04-30T16:13:33.988Z"
   },
   {
    "duration": 0,
    "start_time": "2022-04-30T16:13:33.989Z"
   },
   {
    "duration": 1,
    "start_time": "2022-04-30T16:13:33.990Z"
   },
   {
    "duration": 0,
    "start_time": "2022-04-30T16:13:33.991Z"
   },
   {
    "duration": 0,
    "start_time": "2022-04-30T16:13:33.992Z"
   },
   {
    "duration": 0,
    "start_time": "2022-04-30T16:13:33.993Z"
   },
   {
    "duration": 0,
    "start_time": "2022-04-30T16:13:33.994Z"
   },
   {
    "duration": 0,
    "start_time": "2022-04-30T16:13:33.995Z"
   },
   {
    "duration": 0,
    "start_time": "2022-04-30T16:13:33.996Z"
   },
   {
    "duration": 0,
    "start_time": "2022-04-30T16:13:33.997Z"
   },
   {
    "duration": 0,
    "start_time": "2022-04-30T16:13:33.998Z"
   },
   {
    "duration": 0,
    "start_time": "2022-04-30T16:13:34.000Z"
   },
   {
    "duration": 0,
    "start_time": "2022-04-30T16:13:34.001Z"
   },
   {
    "duration": 0,
    "start_time": "2022-04-30T16:13:34.002Z"
   },
   {
    "duration": 0,
    "start_time": "2022-04-30T16:13:34.003Z"
   },
   {
    "duration": 0,
    "start_time": "2022-04-30T16:13:34.004Z"
   },
   {
    "duration": 0,
    "start_time": "2022-04-30T16:13:34.005Z"
   },
   {
    "duration": 0,
    "start_time": "2022-04-30T16:13:34.006Z"
   },
   {
    "duration": 0,
    "start_time": "2022-04-30T16:13:34.007Z"
   },
   {
    "duration": 1128,
    "start_time": "2022-05-01T11:01:02.265Z"
   },
   {
    "duration": 290,
    "start_time": "2022-05-01T11:01:04.315Z"
   },
   {
    "duration": 142,
    "start_time": "2022-05-01T11:01:46.189Z"
   },
   {
    "duration": 15,
    "start_time": "2022-05-01T11:01:51.188Z"
   },
   {
    "duration": 30,
    "start_time": "2022-05-01T11:04:03.778Z"
   },
   {
    "duration": 3,
    "start_time": "2022-05-01T11:04:12.851Z"
   },
   {
    "duration": 131,
    "start_time": "2022-05-01T11:04:12.859Z"
   },
   {
    "duration": 11,
    "start_time": "2022-05-01T11:04:12.992Z"
   },
   {
    "duration": 19,
    "start_time": "2022-05-01T11:04:13.005Z"
   },
   {
    "duration": 27,
    "start_time": "2022-05-01T11:04:13.026Z"
   },
   {
    "duration": 11,
    "start_time": "2022-05-01T11:04:13.055Z"
   },
   {
    "duration": 13,
    "start_time": "2022-05-01T11:04:13.067Z"
   },
   {
    "duration": 19,
    "start_time": "2022-05-01T11:04:13.081Z"
   },
   {
    "duration": 3,
    "start_time": "2022-05-01T11:04:13.101Z"
   },
   {
    "duration": 12,
    "start_time": "2022-05-01T11:04:13.106Z"
   },
   {
    "duration": 12,
    "start_time": "2022-05-01T11:04:13.120Z"
   },
   {
    "duration": 23,
    "start_time": "2022-05-01T11:04:13.133Z"
   },
   {
    "duration": 2,
    "start_time": "2022-05-01T11:04:13.157Z"
   },
   {
    "duration": 10,
    "start_time": "2022-05-01T11:04:13.161Z"
   },
   {
    "duration": 30,
    "start_time": "2022-05-01T11:04:13.172Z"
   },
   {
    "duration": 5,
    "start_time": "2022-05-01T11:04:13.203Z"
   },
   {
    "duration": 13,
    "start_time": "2022-05-01T11:04:13.209Z"
   },
   {
    "duration": 5,
    "start_time": "2022-05-01T11:04:13.225Z"
   },
   {
    "duration": 7,
    "start_time": "2022-05-01T11:04:13.231Z"
   },
   {
    "duration": 22,
    "start_time": "2022-05-01T11:04:13.239Z"
   },
   {
    "duration": 127,
    "start_time": "2022-05-01T11:04:13.262Z"
   },
   {
    "duration": 234,
    "start_time": "2022-05-01T11:04:13.391Z"
   },
   {
    "duration": 14,
    "start_time": "2022-05-01T11:04:13.626Z"
   },
   {
    "duration": 16,
    "start_time": "2022-05-01T11:04:13.642Z"
   },
   {
    "duration": 135,
    "start_time": "2022-05-01T11:04:13.659Z"
   },
   {
    "duration": 27,
    "start_time": "2022-05-01T11:04:13.799Z"
   },
   {
    "duration": 5,
    "start_time": "2022-05-01T11:04:13.827Z"
   },
   {
    "duration": 5,
    "start_time": "2022-05-01T11:05:11.517Z"
   },
   {
    "duration": 13,
    "start_time": "2022-05-01T11:05:18.041Z"
   },
   {
    "duration": 4,
    "start_time": "2022-05-01T11:05:24.079Z"
   },
   {
    "duration": 13,
    "start_time": "2022-05-01T11:05:24.684Z"
   },
   {
    "duration": 389,
    "start_time": "2022-05-01T11:05:25.540Z"
   },
   {
    "duration": 13,
    "start_time": "2022-05-01T11:16:56.943Z"
   },
   {
    "duration": 20,
    "start_time": "2022-05-01T11:16:58.110Z"
   },
   {
    "duration": 8,
    "start_time": "2022-05-01T11:17:02.822Z"
   },
   {
    "duration": 946,
    "start_time": "2022-05-01T11:20:33.846Z"
   },
   {
    "duration": 24,
    "start_time": "2022-05-01T11:21:24.069Z"
   },
   {
    "duration": 9,
    "start_time": "2022-05-01T11:23:22.196Z"
   },
   {
    "duration": 9,
    "start_time": "2022-05-01T11:23:51.255Z"
   },
   {
    "duration": 470,
    "start_time": "2022-05-01T11:25:35.645Z"
   },
   {
    "duration": 416,
    "start_time": "2022-05-01T11:26:19.210Z"
   },
   {
    "duration": 374,
    "start_time": "2022-05-01T11:26:53.946Z"
   },
   {
    "duration": 74,
    "start_time": "2022-05-01T14:23:50.922Z"
   },
   {
    "duration": 1310,
    "start_time": "2022-05-01T14:23:58.434Z"
   },
   {
    "duration": 118,
    "start_time": "2022-05-01T14:23:59.746Z"
   },
   {
    "duration": 19,
    "start_time": "2022-05-01T14:23:59.866Z"
   },
   {
    "duration": 16,
    "start_time": "2022-05-01T14:23:59.889Z"
   },
   {
    "duration": 33,
    "start_time": "2022-05-01T14:23:59.907Z"
   },
   {
    "duration": 14,
    "start_time": "2022-05-01T14:23:59.942Z"
   },
   {
    "duration": 13,
    "start_time": "2022-05-01T14:23:59.958Z"
   },
   {
    "duration": 5,
    "start_time": "2022-05-01T14:23:59.994Z"
   },
   {
    "duration": 22,
    "start_time": "2022-05-01T14:24:00.001Z"
   },
   {
    "duration": 26,
    "start_time": "2022-05-01T14:24:00.026Z"
   },
   {
    "duration": 12,
    "start_time": "2022-05-01T14:24:00.054Z"
   },
   {
    "duration": 32,
    "start_time": "2022-05-01T14:24:00.068Z"
   },
   {
    "duration": 3,
    "start_time": "2022-05-01T14:24:00.102Z"
   },
   {
    "duration": 17,
    "start_time": "2022-05-01T14:24:00.107Z"
   },
   {
    "duration": 23,
    "start_time": "2022-05-01T14:24:00.126Z"
   },
   {
    "duration": 6,
    "start_time": "2022-05-01T14:24:00.151Z"
   },
   {
    "duration": 26,
    "start_time": "2022-05-01T14:24:00.158Z"
   },
   {
    "duration": 5,
    "start_time": "2022-05-01T14:24:00.192Z"
   },
   {
    "duration": 19,
    "start_time": "2022-05-01T14:24:00.199Z"
   },
   {
    "duration": 29,
    "start_time": "2022-05-01T14:24:00.221Z"
   },
   {
    "duration": 133,
    "start_time": "2022-05-01T14:24:00.252Z"
   },
   {
    "duration": 407,
    "start_time": "2022-05-01T14:24:00.392Z"
   },
   {
    "duration": 23,
    "start_time": "2022-05-01T14:24:00.801Z"
   },
   {
    "duration": 27,
    "start_time": "2022-05-01T14:24:00.826Z"
   },
   {
    "duration": 164,
    "start_time": "2022-05-01T14:24:00.855Z"
   },
   {
    "duration": 46,
    "start_time": "2022-05-01T14:24:01.021Z"
   },
   {
    "duration": 24,
    "start_time": "2022-05-01T14:24:01.069Z"
   },
   {
    "duration": 17,
    "start_time": "2022-05-01T14:24:01.096Z"
   },
   {
    "duration": 10,
    "start_time": "2022-05-01T14:24:01.114Z"
   },
   {
    "duration": 25,
    "start_time": "2022-05-01T14:24:01.126Z"
   },
   {
    "duration": 491,
    "start_time": "2022-05-01T14:24:01.154Z"
   },
   {
    "duration": 582,
    "start_time": "2022-05-01T14:24:01.647Z"
   },
   {
    "duration": 24,
    "start_time": "2022-05-01T14:24:02.232Z"
   },
   {
    "duration": 3,
    "start_time": "2022-05-01T14:24:09.676Z"
   },
   {
    "duration": 3,
    "start_time": "2022-05-01T14:24:46.149Z"
   },
   {
    "duration": 263,
    "start_time": "2022-05-01T14:24:47.478Z"
   },
   {
    "duration": 358,
    "start_time": "2022-05-01T14:34:17.557Z"
   },
   {
    "duration": 565,
    "start_time": "2022-05-01T14:46:38.725Z"
   },
   {
    "duration": 553,
    "start_time": "2022-05-01T14:53:51.560Z"
   },
   {
    "duration": 5,
    "start_time": "2022-05-01T15:04:13.326Z"
   },
   {
    "duration": 86,
    "start_time": "2022-05-01T15:07:36.279Z"
   },
   {
    "duration": 44,
    "start_time": "2022-05-01T17:45:44.959Z"
   },
   {
    "duration": 1246,
    "start_time": "2022-05-01T17:45:50.677Z"
   },
   {
    "duration": 129,
    "start_time": "2022-05-01T17:45:51.925Z"
   },
   {
    "duration": 16,
    "start_time": "2022-05-01T17:45:52.055Z"
   },
   {
    "duration": 13,
    "start_time": "2022-05-01T17:45:52.073Z"
   },
   {
    "duration": 28,
    "start_time": "2022-05-01T17:45:52.087Z"
   },
   {
    "duration": 11,
    "start_time": "2022-05-01T17:45:52.117Z"
   },
   {
    "duration": 17,
    "start_time": "2022-05-01T17:45:52.129Z"
   },
   {
    "duration": 6,
    "start_time": "2022-05-01T17:45:52.147Z"
   },
   {
    "duration": 8,
    "start_time": "2022-05-01T17:45:52.154Z"
   },
   {
    "duration": 13,
    "start_time": "2022-05-01T17:45:52.165Z"
   },
   {
    "duration": 24,
    "start_time": "2022-05-01T17:45:52.180Z"
   },
   {
    "duration": 21,
    "start_time": "2022-05-01T17:45:52.206Z"
   },
   {
    "duration": 2,
    "start_time": "2022-05-01T17:45:52.229Z"
   },
   {
    "duration": 8,
    "start_time": "2022-05-01T17:45:52.233Z"
   },
   {
    "duration": 10,
    "start_time": "2022-05-01T17:45:52.243Z"
   },
   {
    "duration": 5,
    "start_time": "2022-05-01T17:45:52.254Z"
   },
   {
    "duration": 41,
    "start_time": "2022-05-01T17:45:52.260Z"
   },
   {
    "duration": 4,
    "start_time": "2022-05-01T17:45:52.303Z"
   },
   {
    "duration": 6,
    "start_time": "2022-05-01T17:45:52.308Z"
   },
   {
    "duration": 20,
    "start_time": "2022-05-01T17:45:52.315Z"
   },
   {
    "duration": 119,
    "start_time": "2022-05-01T17:45:52.337Z"
   },
   {
    "duration": 230,
    "start_time": "2022-05-01T17:45:52.457Z"
   },
   {
    "duration": 22,
    "start_time": "2022-05-01T17:45:52.689Z"
   },
   {
    "duration": 15,
    "start_time": "2022-05-01T17:45:52.713Z"
   },
   {
    "duration": 160,
    "start_time": "2022-05-01T17:45:52.730Z"
   },
   {
    "duration": 35,
    "start_time": "2022-05-01T17:45:52.892Z"
   },
   {
    "duration": 5,
    "start_time": "2022-05-01T17:45:52.929Z"
   },
   {
    "duration": 24,
    "start_time": "2022-05-01T17:45:52.937Z"
   },
   {
    "duration": 14,
    "start_time": "2022-05-01T17:45:52.963Z"
   },
   {
    "duration": 30,
    "start_time": "2022-05-01T17:45:52.979Z"
   },
   {
    "duration": 582,
    "start_time": "2022-05-01T17:45:53.011Z"
   },
   {
    "duration": 638,
    "start_time": "2022-05-01T17:45:53.595Z"
   },
   {
    "duration": 20,
    "start_time": "2022-05-01T17:45:54.235Z"
   },
   {
    "duration": 5,
    "start_time": "2022-05-01T17:45:54.257Z"
   },
   {
    "duration": 6,
    "start_time": "2022-05-01T17:45:54.263Z"
   },
   {
    "duration": 336,
    "start_time": "2022-05-01T17:45:54.271Z"
   },
   {
    "duration": 331,
    "start_time": "2022-05-01T17:45:54.609Z"
   },
   {
    "duration": 18,
    "start_time": "2022-05-01T17:45:54.942Z"
   },
   {
    "duration": 49,
    "start_time": "2022-05-01T17:45:54.962Z"
   },
   {
    "duration": 10,
    "start_time": "2022-05-01T17:45:55.013Z"
   },
   {
    "duration": 435,
    "start_time": "2022-05-01T17:45:55.024Z"
   },
   {
    "duration": 440,
    "start_time": "2022-05-01T17:45:55.460Z"
   },
   {
    "duration": 5,
    "start_time": "2022-05-01T17:45:55.902Z"
   },
   {
    "duration": 57,
    "start_time": "2022-05-01T17:45:55.908Z"
   },
   {
    "duration": 535,
    "start_time": "2022-05-01T18:05:11.819Z"
   },
   {
    "duration": 410,
    "start_time": "2022-05-01T18:05:41.014Z"
   },
   {
    "duration": 422,
    "start_time": "2022-05-01T18:05:58.127Z"
   },
   {
    "duration": 406,
    "start_time": "2022-05-01T18:06:11.331Z"
   },
   {
    "duration": 349,
    "start_time": "2022-05-01T18:10:21.207Z"
   },
   {
    "duration": 464,
    "start_time": "2022-05-01T18:12:05.830Z"
   },
   {
    "duration": 3,
    "start_time": "2022-05-01T18:12:09.665Z"
   },
   {
    "duration": 15,
    "start_time": "2022-05-01T18:12:31.466Z"
   },
   {
    "duration": 2357,
    "start_time": "2022-05-01T18:12:50.770Z"
   },
   {
    "duration": 6,
    "start_time": "2022-05-01T18:17:36.740Z"
   },
   {
    "duration": 10,
    "start_time": "2022-05-01T18:17:45.760Z"
   },
   {
    "duration": 4,
    "start_time": "2022-05-01T18:18:15.726Z"
   },
   {
    "duration": 127,
    "start_time": "2022-05-01T18:18:15.732Z"
   },
   {
    "duration": 12,
    "start_time": "2022-05-01T18:18:15.861Z"
   },
   {
    "duration": 17,
    "start_time": "2022-05-01T18:18:15.875Z"
   },
   {
    "duration": 38,
    "start_time": "2022-05-01T18:18:15.894Z"
   },
   {
    "duration": 17,
    "start_time": "2022-05-01T18:18:15.934Z"
   },
   {
    "duration": 12,
    "start_time": "2022-05-01T18:18:15.953Z"
   },
   {
    "duration": 6,
    "start_time": "2022-05-01T18:18:15.967Z"
   },
   {
    "duration": 7,
    "start_time": "2022-05-01T18:18:15.975Z"
   },
   {
    "duration": 29,
    "start_time": "2022-05-01T18:18:15.984Z"
   },
   {
    "duration": 17,
    "start_time": "2022-05-01T18:18:16.015Z"
   },
   {
    "duration": 22,
    "start_time": "2022-05-01T18:18:16.034Z"
   },
   {
    "duration": 3,
    "start_time": "2022-05-01T18:18:16.058Z"
   },
   {
    "duration": 13,
    "start_time": "2022-05-01T18:18:16.063Z"
   },
   {
    "duration": 31,
    "start_time": "2022-05-01T18:18:16.078Z"
   },
   {
    "duration": 9,
    "start_time": "2022-05-01T18:18:16.112Z"
   },
   {
    "duration": 19,
    "start_time": "2022-05-01T18:18:16.123Z"
   },
   {
    "duration": 14,
    "start_time": "2022-05-01T18:18:16.144Z"
   },
   {
    "duration": 10,
    "start_time": "2022-05-01T18:18:16.160Z"
   },
   {
    "duration": 38,
    "start_time": "2022-05-01T18:18:16.171Z"
   },
   {
    "duration": 110,
    "start_time": "2022-05-01T18:18:16.211Z"
   },
   {
    "duration": 292,
    "start_time": "2022-05-01T18:18:16.323Z"
   },
   {
    "duration": 16,
    "start_time": "2022-05-01T18:18:16.616Z"
   },
   {
    "duration": 13,
    "start_time": "2022-05-01T18:18:16.635Z"
   },
   {
    "duration": 144,
    "start_time": "2022-05-01T18:18:16.650Z"
   },
   {
    "duration": 30,
    "start_time": "2022-05-01T18:18:16.799Z"
   },
   {
    "duration": 5,
    "start_time": "2022-05-01T18:18:16.830Z"
   },
   {
    "duration": 15,
    "start_time": "2022-05-01T18:18:16.836Z"
   },
   {
    "duration": 5,
    "start_time": "2022-05-01T18:18:16.853Z"
   },
   {
    "duration": 16,
    "start_time": "2022-05-01T18:18:16.860Z"
   },
   {
    "duration": 556,
    "start_time": "2022-05-01T18:18:16.878Z"
   },
   {
    "duration": 464,
    "start_time": "2022-05-01T18:18:17.436Z"
   },
   {
    "duration": 24,
    "start_time": "2022-05-01T18:18:17.901Z"
   },
   {
    "duration": 6,
    "start_time": "2022-05-01T18:18:17.926Z"
   },
   {
    "duration": 5,
    "start_time": "2022-05-01T18:18:17.934Z"
   },
   {
    "duration": 236,
    "start_time": "2022-05-01T18:18:17.940Z"
   },
   {
    "duration": 230,
    "start_time": "2022-05-01T18:18:18.178Z"
   },
   {
    "duration": 15,
    "start_time": "2022-05-01T18:18:18.410Z"
   },
   {
    "duration": 23,
    "start_time": "2022-05-01T18:18:18.426Z"
   },
   {
    "duration": 8,
    "start_time": "2022-05-01T18:18:18.451Z"
   },
   {
    "duration": 465,
    "start_time": "2022-05-01T18:18:18.461Z"
   },
   {
    "duration": 448,
    "start_time": "2022-05-01T18:18:18.927Z"
   },
   {
    "duration": 463,
    "start_time": "2022-05-01T18:18:24.046Z"
   },
   {
    "duration": 23,
    "start_time": "2022-05-01T18:18:32.741Z"
   },
   {
    "duration": 419,
    "start_time": "2022-05-01T18:18:35.969Z"
   },
   {
    "duration": 482,
    "start_time": "2022-05-01T18:19:10.547Z"
   },
   {
    "duration": 5,
    "start_time": "2022-05-01T18:19:43.277Z"
   },
   {
    "duration": 488,
    "start_time": "2022-05-01T18:19:44.509Z"
   },
   {
    "duration": 3,
    "start_time": "2022-05-01T18:31:52.540Z"
   },
   {
    "duration": 125,
    "start_time": "2022-05-01T18:31:52.551Z"
   },
   {
    "duration": 11,
    "start_time": "2022-05-01T18:31:52.678Z"
   },
   {
    "duration": 13,
    "start_time": "2022-05-01T18:31:52.691Z"
   },
   {
    "duration": 26,
    "start_time": "2022-05-01T18:31:52.706Z"
   },
   {
    "duration": 11,
    "start_time": "2022-05-01T18:31:52.734Z"
   },
   {
    "duration": 11,
    "start_time": "2022-05-01T18:31:52.747Z"
   },
   {
    "duration": 4,
    "start_time": "2022-05-01T18:31:52.760Z"
   },
   {
    "duration": 7,
    "start_time": "2022-05-01T18:31:52.765Z"
   },
   {
    "duration": 36,
    "start_time": "2022-05-01T18:31:52.773Z"
   },
   {
    "duration": 7,
    "start_time": "2022-05-01T18:31:52.811Z"
   },
   {
    "duration": 19,
    "start_time": "2022-05-01T18:31:52.820Z"
   },
   {
    "duration": 2,
    "start_time": "2022-05-01T18:31:52.841Z"
   },
   {
    "duration": 10,
    "start_time": "2022-05-01T18:31:52.844Z"
   },
   {
    "duration": 10,
    "start_time": "2022-05-01T18:31:52.855Z"
   },
   {
    "duration": 4,
    "start_time": "2022-05-01T18:31:52.866Z"
   },
   {
    "duration": 13,
    "start_time": "2022-05-01T18:31:52.901Z"
   },
   {
    "duration": 11,
    "start_time": "2022-05-01T18:31:52.915Z"
   },
   {
    "duration": 7,
    "start_time": "2022-05-01T18:31:52.928Z"
   },
   {
    "duration": 21,
    "start_time": "2022-05-01T18:31:52.936Z"
   },
   {
    "duration": 112,
    "start_time": "2022-05-01T18:31:52.959Z"
   },
   {
    "duration": 317,
    "start_time": "2022-05-01T18:31:53.073Z"
   },
   {
    "duration": 12,
    "start_time": "2022-05-01T18:31:53.400Z"
   },
   {
    "duration": 14,
    "start_time": "2022-05-01T18:31:53.414Z"
   },
   {
    "duration": 136,
    "start_time": "2022-05-01T18:31:53.429Z"
   },
   {
    "duration": 35,
    "start_time": "2022-05-01T18:31:53.568Z"
   },
   {
    "duration": 7,
    "start_time": "2022-05-01T18:31:53.605Z"
   },
   {
    "duration": 14,
    "start_time": "2022-05-01T18:31:53.613Z"
   },
   {
    "duration": 5,
    "start_time": "2022-05-01T18:31:53.629Z"
   },
   {
    "duration": 15,
    "start_time": "2022-05-01T18:31:53.636Z"
   },
   {
    "duration": 387,
    "start_time": "2022-05-01T18:31:53.652Z"
   },
   {
    "duration": 383,
    "start_time": "2022-05-01T18:31:54.041Z"
   },
   {
    "duration": 15,
    "start_time": "2022-05-01T18:31:54.426Z"
   },
   {
    "duration": 32,
    "start_time": "2022-05-01T18:31:54.442Z"
   },
   {
    "duration": 31,
    "start_time": "2022-05-01T18:31:54.475Z"
   },
   {
    "duration": 228,
    "start_time": "2022-05-01T18:31:54.508Z"
   },
   {
    "duration": 287,
    "start_time": "2022-05-01T18:31:54.738Z"
   },
   {
    "duration": 13,
    "start_time": "2022-05-01T18:31:55.028Z"
   },
   {
    "duration": 39,
    "start_time": "2022-05-01T18:31:55.043Z"
   },
   {
    "duration": 9,
    "start_time": "2022-05-01T18:31:55.083Z"
   },
   {
    "duration": 411,
    "start_time": "2022-05-01T18:31:55.100Z"
   },
   {
    "duration": 415,
    "start_time": "2022-05-01T18:31:55.512Z"
   },
   {
    "duration": 3,
    "start_time": "2022-05-01T18:31:55.929Z"
   },
   {
    "duration": 444,
    "start_time": "2022-05-01T18:31:55.934Z"
   },
   {
    "duration": 7,
    "start_time": "2022-05-01T18:31:56.380Z"
   },
   {
    "duration": 11,
    "start_time": "2022-05-01T18:31:56.389Z"
   },
   {
    "duration": 10,
    "start_time": "2022-05-01T18:31:56.401Z"
   },
   {
    "duration": 8,
    "start_time": "2022-05-01T18:31:56.412Z"
   },
   {
    "duration": 7,
    "start_time": "2022-05-01T18:41:06.941Z"
   },
   {
    "duration": 5,
    "start_time": "2022-05-01T18:41:07.965Z"
   },
   {
    "duration": 1341,
    "start_time": "2022-05-02T06:29:32.232Z"
   },
   {
    "duration": 139,
    "start_time": "2022-05-02T06:29:33.575Z"
   },
   {
    "duration": 17,
    "start_time": "2022-05-02T06:29:33.716Z"
   },
   {
    "duration": 12,
    "start_time": "2022-05-02T06:29:33.735Z"
   },
   {
    "duration": 28,
    "start_time": "2022-05-02T06:29:33.749Z"
   },
   {
    "duration": 15,
    "start_time": "2022-05-02T06:29:33.778Z"
   },
   {
    "duration": 36,
    "start_time": "2022-05-02T06:29:33.794Z"
   },
   {
    "duration": 3,
    "start_time": "2022-05-02T06:29:33.832Z"
   },
   {
    "duration": 6,
    "start_time": "2022-05-02T06:29:33.836Z"
   },
   {
    "duration": 12,
    "start_time": "2022-05-02T06:29:33.844Z"
   },
   {
    "duration": 9,
    "start_time": "2022-05-02T06:29:33.858Z"
   },
   {
    "duration": 24,
    "start_time": "2022-05-02T06:29:33.868Z"
   },
   {
    "duration": 28,
    "start_time": "2022-05-02T06:29:33.894Z"
   },
   {
    "duration": 9,
    "start_time": "2022-05-02T06:29:33.924Z"
   },
   {
    "duration": 11,
    "start_time": "2022-05-02T06:29:33.934Z"
   },
   {
    "duration": 4,
    "start_time": "2022-05-02T06:29:33.947Z"
   },
   {
    "duration": 15,
    "start_time": "2022-05-02T06:29:33.952Z"
   },
   {
    "duration": 6,
    "start_time": "2022-05-02T06:29:33.969Z"
   },
   {
    "duration": 8,
    "start_time": "2022-05-02T06:29:33.977Z"
   },
   {
    "duration": 47,
    "start_time": "2022-05-02T06:29:33.987Z"
   },
   {
    "duration": 117,
    "start_time": "2022-05-02T06:29:34.035Z"
   },
   {
    "duration": 259,
    "start_time": "2022-05-02T06:29:34.154Z"
   },
   {
    "duration": 20,
    "start_time": "2022-05-02T06:29:34.414Z"
   },
   {
    "duration": 16,
    "start_time": "2022-05-02T06:29:34.435Z"
   },
   {
    "duration": 148,
    "start_time": "2022-05-02T06:29:34.453Z"
   },
   {
    "duration": 36,
    "start_time": "2022-05-02T06:29:34.603Z"
   },
   {
    "duration": 5,
    "start_time": "2022-05-02T06:29:34.641Z"
   },
   {
    "duration": 16,
    "start_time": "2022-05-02T06:29:34.650Z"
   },
   {
    "duration": 7,
    "start_time": "2022-05-02T06:29:34.667Z"
   },
   {
    "duration": 15,
    "start_time": "2022-05-02T06:29:34.676Z"
   },
   {
    "duration": 427,
    "start_time": "2022-05-02T06:29:34.692Z"
   },
   {
    "duration": 486,
    "start_time": "2022-05-02T06:29:35.121Z"
   },
   {
    "duration": 22,
    "start_time": "2022-05-02T06:29:35.609Z"
   },
   {
    "duration": 5,
    "start_time": "2022-05-02T06:29:35.633Z"
   },
   {
    "duration": 4,
    "start_time": "2022-05-02T06:29:35.640Z"
   },
   {
    "duration": 246,
    "start_time": "2022-05-02T06:29:35.646Z"
   },
   {
    "duration": 253,
    "start_time": "2022-05-02T06:29:35.894Z"
   },
   {
    "duration": 15,
    "start_time": "2022-05-02T06:29:36.148Z"
   },
   {
    "duration": 29,
    "start_time": "2022-05-02T06:29:36.165Z"
   },
   {
    "duration": 9,
    "start_time": "2022-05-02T06:29:36.196Z"
   },
   {
    "duration": 476,
    "start_time": "2022-05-02T06:29:36.224Z"
   },
   {
    "duration": 486,
    "start_time": "2022-05-02T06:29:36.702Z"
   },
   {
    "duration": 4,
    "start_time": "2022-05-02T06:29:37.190Z"
   },
   {
    "duration": 572,
    "start_time": "2022-05-02T06:29:37.196Z"
   },
   {
    "duration": 9,
    "start_time": "2022-05-02T06:29:37.770Z"
   },
   {
    "duration": 7,
    "start_time": "2022-05-02T06:29:37.781Z"
   },
   {
    "duration": 9,
    "start_time": "2022-05-02T06:29:37.789Z"
   },
   {
    "duration": 23,
    "start_time": "2022-05-02T06:29:37.800Z"
   },
   {
    "duration": 5,
    "start_time": "2022-05-02T06:29:37.825Z"
   },
   {
    "duration": 1142,
    "start_time": "2022-05-02T06:33:28.442Z"
   },
   {
    "duration": 141,
    "start_time": "2022-05-02T06:33:29.586Z"
   },
   {
    "duration": 16,
    "start_time": "2022-05-02T06:33:29.728Z"
   },
   {
    "duration": 12,
    "start_time": "2022-05-02T06:33:29.746Z"
   },
   {
    "duration": 30,
    "start_time": "2022-05-02T06:33:29.760Z"
   },
   {
    "duration": 37,
    "start_time": "2022-05-02T06:33:29.791Z"
   },
   {
    "duration": 13,
    "start_time": "2022-05-02T06:33:29.830Z"
   },
   {
    "duration": 3,
    "start_time": "2022-05-02T06:33:29.846Z"
   },
   {
    "duration": 6,
    "start_time": "2022-05-02T06:33:29.851Z"
   },
   {
    "duration": 15,
    "start_time": "2022-05-02T06:33:29.858Z"
   },
   {
    "duration": 9,
    "start_time": "2022-05-02T06:33:29.874Z"
   },
   {
    "duration": 55,
    "start_time": "2022-05-02T06:33:29.885Z"
   },
   {
    "duration": 2,
    "start_time": "2022-05-02T06:33:29.942Z"
   },
   {
    "duration": 12,
    "start_time": "2022-05-02T06:33:29.949Z"
   },
   {
    "duration": 17,
    "start_time": "2022-05-02T06:33:29.962Z"
   },
   {
    "duration": 5,
    "start_time": "2022-05-02T06:33:29.981Z"
   },
   {
    "duration": 36,
    "start_time": "2022-05-02T06:33:29.988Z"
   },
   {
    "duration": 11,
    "start_time": "2022-05-02T06:33:30.025Z"
   },
   {
    "duration": 8,
    "start_time": "2022-05-02T06:33:30.038Z"
   },
   {
    "duration": 28,
    "start_time": "2022-05-02T06:33:30.048Z"
   },
   {
    "duration": 123,
    "start_time": "2022-05-02T06:33:30.078Z"
   },
   {
    "duration": 277,
    "start_time": "2022-05-02T06:33:30.203Z"
   },
   {
    "duration": 15,
    "start_time": "2022-05-02T06:33:30.482Z"
   },
   {
    "duration": 36,
    "start_time": "2022-05-02T06:33:30.499Z"
   },
   {
    "duration": 156,
    "start_time": "2022-05-02T06:33:30.536Z"
   },
   {
    "duration": 39,
    "start_time": "2022-05-02T06:33:30.694Z"
   },
   {
    "duration": 6,
    "start_time": "2022-05-02T06:33:30.735Z"
   },
   {
    "duration": 64,
    "start_time": "2022-05-02T06:33:30.743Z"
   },
   {
    "duration": 20,
    "start_time": "2022-05-02T06:33:30.809Z"
   },
   {
    "duration": 47,
    "start_time": "2022-05-02T06:33:30.831Z"
   },
   {
    "duration": 475,
    "start_time": "2022-05-02T06:33:30.880Z"
   },
   {
    "duration": 492,
    "start_time": "2022-05-02T06:33:31.357Z"
   },
   {
    "duration": 17,
    "start_time": "2022-05-02T06:33:31.851Z"
   },
   {
    "duration": 5,
    "start_time": "2022-05-02T06:33:31.870Z"
   },
   {
    "duration": 5,
    "start_time": "2022-05-02T06:33:31.877Z"
   },
   {
    "duration": 245,
    "start_time": "2022-05-02T06:33:31.884Z"
   },
   {
    "duration": 254,
    "start_time": "2022-05-02T06:33:32.131Z"
   },
   {
    "duration": 16,
    "start_time": "2022-05-02T06:33:32.387Z"
   },
   {
    "duration": 40,
    "start_time": "2022-05-02T06:33:32.404Z"
   },
   {
    "duration": 10,
    "start_time": "2022-05-02T06:33:32.445Z"
   },
   {
    "duration": 468,
    "start_time": "2022-05-02T06:33:32.459Z"
   },
   {
    "duration": 480,
    "start_time": "2022-05-02T06:33:32.929Z"
   },
   {
    "duration": 9,
    "start_time": "2022-05-02T06:33:33.410Z"
   },
   {
    "duration": 573,
    "start_time": "2022-05-02T06:33:33.423Z"
   },
   {
    "duration": 8,
    "start_time": "2022-05-02T06:33:33.998Z"
   },
   {
    "duration": 15,
    "start_time": "2022-05-02T06:33:34.008Z"
   },
   {
    "duration": 9,
    "start_time": "2022-05-02T06:33:34.025Z"
   },
   {
    "duration": 5,
    "start_time": "2022-05-02T06:33:34.036Z"
   },
   {
    "duration": 4,
    "start_time": "2022-05-02T06:33:34.043Z"
   },
   {
    "duration": 1118,
    "start_time": "2022-05-02T06:47:27.672Z"
   },
   {
    "duration": 151,
    "start_time": "2022-05-02T06:47:28.792Z"
   },
   {
    "duration": 18,
    "start_time": "2022-05-02T06:47:28.944Z"
   },
   {
    "duration": 13,
    "start_time": "2022-05-02T06:47:28.964Z"
   },
   {
    "duration": 56,
    "start_time": "2022-05-02T06:47:28.978Z"
   },
   {
    "duration": 14,
    "start_time": "2022-05-02T06:47:29.035Z"
   },
   {
    "duration": 13,
    "start_time": "2022-05-02T06:47:29.051Z"
   },
   {
    "duration": 5,
    "start_time": "2022-05-02T06:47:29.065Z"
   },
   {
    "duration": 6,
    "start_time": "2022-05-02T06:47:29.071Z"
   },
   {
    "duration": 14,
    "start_time": "2022-05-02T06:47:29.079Z"
   },
   {
    "duration": 34,
    "start_time": "2022-05-02T06:47:29.094Z"
   },
   {
    "duration": 24,
    "start_time": "2022-05-02T06:47:29.130Z"
   },
   {
    "duration": 2,
    "start_time": "2022-05-02T06:47:29.156Z"
   },
   {
    "duration": 14,
    "start_time": "2022-05-02T06:47:29.160Z"
   },
   {
    "duration": 15,
    "start_time": "2022-05-02T06:47:29.176Z"
   },
   {
    "duration": 5,
    "start_time": "2022-05-02T06:47:29.192Z"
   },
   {
    "duration": 37,
    "start_time": "2022-05-02T06:47:29.198Z"
   },
   {
    "duration": 6,
    "start_time": "2022-05-02T06:47:29.237Z"
   },
   {
    "duration": 5,
    "start_time": "2022-05-02T06:47:29.245Z"
   },
   {
    "duration": 25,
    "start_time": "2022-05-02T06:47:29.252Z"
   },
   {
    "duration": 137,
    "start_time": "2022-05-02T06:47:29.279Z"
   },
   {
    "duration": 284,
    "start_time": "2022-05-02T06:47:29.421Z"
   },
   {
    "duration": 21,
    "start_time": "2022-05-02T06:47:29.706Z"
   },
   {
    "duration": 26,
    "start_time": "2022-05-02T06:47:29.729Z"
   },
   {
    "duration": 148,
    "start_time": "2022-05-02T06:47:29.757Z"
   },
   {
    "duration": 36,
    "start_time": "2022-05-02T06:47:29.907Z"
   },
   {
    "duration": 5,
    "start_time": "2022-05-02T06:47:29.945Z"
   },
   {
    "duration": 14,
    "start_time": "2022-05-02T06:47:29.954Z"
   },
   {
    "duration": 6,
    "start_time": "2022-05-02T06:47:29.969Z"
   },
   {
    "duration": 15,
    "start_time": "2022-05-02T06:47:29.977Z"
   },
   {
    "duration": 493,
    "start_time": "2022-05-02T06:47:29.994Z"
   },
   {
    "duration": 514,
    "start_time": "2022-05-02T06:47:30.489Z"
   },
   {
    "duration": 29,
    "start_time": "2022-05-02T06:47:31.005Z"
   },
   {
    "duration": 12,
    "start_time": "2022-05-02T06:47:31.035Z"
   },
   {
    "duration": 25,
    "start_time": "2022-05-02T06:47:31.049Z"
   },
   {
    "duration": 262,
    "start_time": "2022-05-02T06:47:31.075Z"
   },
   {
    "duration": 262,
    "start_time": "2022-05-02T06:47:31.339Z"
   },
   {
    "duration": 22,
    "start_time": "2022-05-02T06:47:31.603Z"
   },
   {
    "duration": 27,
    "start_time": "2022-05-02T06:47:31.627Z"
   },
   {
    "duration": 10,
    "start_time": "2022-05-02T06:47:31.656Z"
   },
   {
    "duration": 480,
    "start_time": "2022-05-02T06:47:31.668Z"
   },
   {
    "duration": 500,
    "start_time": "2022-05-02T06:47:32.150Z"
   },
   {
    "duration": 5,
    "start_time": "2022-05-02T06:47:32.652Z"
   },
   {
    "duration": 604,
    "start_time": "2022-05-02T06:47:32.659Z"
   },
   {
    "duration": 9,
    "start_time": "2022-05-02T06:47:33.266Z"
   },
   {
    "duration": 7,
    "start_time": "2022-05-02T06:47:33.277Z"
   },
   {
    "duration": 9,
    "start_time": "2022-05-02T06:47:33.286Z"
   },
   {
    "duration": 29,
    "start_time": "2022-05-02T06:47:33.297Z"
   },
   {
    "duration": 4,
    "start_time": "2022-05-02T06:47:33.328Z"
   }
  ],
  "kernelspec": {
   "display_name": "Python 3 (ipykernel)",
   "language": "python",
   "name": "python3"
  },
  "language_info": {
   "codemirror_mode": {
    "name": "ipython",
    "version": 3
   },
   "file_extension": ".py",
   "mimetype": "text/x-python",
   "name": "python",
   "nbconvert_exporter": "python",
   "pygments_lexer": "ipython3",
   "version": "3.9.7"
  },
  "toc": {
   "base_numbering": 1,
   "nav_menu": {},
   "number_sections": true,
   "sideBar": true,
   "skip_h1_title": true,
   "title_cell": "Table of Contents",
   "title_sidebar": "Contents",
   "toc_cell": false,
   "toc_position": {
    "height": "calc(100% - 180px)",
    "left": "10px",
    "top": "150px",
    "width": "165px"
   },
   "toc_section_display": true,
   "toc_window_display": true
  }
 },
 "nbformat": 4,
 "nbformat_minor": 5
}
