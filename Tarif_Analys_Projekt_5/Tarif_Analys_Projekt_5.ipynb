{
 "cells": [
  {
   "cell_type": "markdown",
   "id": "41b89906",
   "metadata": {},
   "source": [
    "#  Анализ данных компании 'Мегалайн'"
   ]
  },
  {
   "cell_type": "markdown",
   "id": "f8537eef",
   "metadata": {},
   "source": [
    "**Цель исследования** —  сделать предварительный анализ тарифов на небольшой выборке клиентов:\n",
    "1.  Проанализировать данные\n",
    "- сколько минут разговоратребуется пользователям каждого тарифа в месяц?\n",
    "- сколько сообщений требуется пользователям каждого тарифа в месяц?\n",
    "-  какой объём интернет-трафика требуется пользователям каждого тарифа в месяц?\n",
    "2. Проверить гипотезы\n",
    "- средняя выручка пользователей тарифов «Ультра» и «Смарт» различаются;\n",
    "- средняя выручка пользователей из Москвы отличается от выручки пользователей из других регионов.\n",
    "\n",
    "**Ход исследования**\n",
    "\n",
    "Данные получены из нескольеих файлов:  `/datasets/calls.csv.`, `/datasets/internet.csv.` , `/datasets/messages.csv` , `/datasets/tariffs.csv.`, `/datasets/users.csv.`. О качестве данных ничего не известно. Поэтому перед проверкой гипотез понадобится обзор данных. \n",
    "\n",
    "Данные будут проверны  на ошибки и оценено их влияние на исследование. Затем, на этапе предобработки исправляются самые критичные ошибки данных.\n",
    "\n",
    "На основе данных считаются и добавляются новые столбцы.\n",
    " \n",
    "Таким образом, исследование пройдёт в четыре этапа:\n",
    " 1. Обзор данных.\n",
    " 2. Предобработка данных.\n",
    " 3. Добавление новых столцов.\n",
    " 4. Исследовательский анализ\n",
    " 5. Проверка гипотез"
   ]
  },
  {
   "cell_type": "markdown",
   "id": "dba10850",
   "metadata": {},
   "source": [
    "## 1 Обзор данных"
   ]
  },
  {
   "cell_type": "code",
   "execution_count": 1,
   "id": "ce5b3854",
   "metadata": {},
   "outputs": [],
   "source": [
    "import pandas as pd\n",
    "\n",
    "import numpy as np\n",
    "\n",
    "import matplotlib.pyplot as plt\n",
    "\n",
    "from math import factorial\n",
    "\n",
    "import math\n",
    "\n",
    "from scipy import stats as st"
   ]
  },
  {
   "cell_type": "code",
   "execution_count": 2,
   "id": "9051945f",
   "metadata": {},
   "outputs": [
    {
     "data": {
      "text/html": [
       "<div>\n",
       "<style scoped>\n",
       "    .dataframe tbody tr th:only-of-type {\n",
       "        vertical-align: middle;\n",
       "    }\n",
       "\n",
       "    .dataframe tbody tr th {\n",
       "        vertical-align: top;\n",
       "    }\n",
       "\n",
       "    .dataframe thead th {\n",
       "        text-align: right;\n",
       "    }\n",
       "</style>\n",
       "<table border=\"1\" class=\"dataframe\">\n",
       "  <thead>\n",
       "    <tr style=\"text-align: right;\">\n",
       "      <th></th>\n",
       "      <th>id</th>\n",
       "      <th>call_date</th>\n",
       "      <th>duration</th>\n",
       "      <th>user_id</th>\n",
       "    </tr>\n",
       "  </thead>\n",
       "  <tbody>\n",
       "    <tr>\n",
       "      <th>0</th>\n",
       "      <td>1000_0</td>\n",
       "      <td>2018-07-25</td>\n",
       "      <td>0.00</td>\n",
       "      <td>1000</td>\n",
       "    </tr>\n",
       "    <tr>\n",
       "      <th>1</th>\n",
       "      <td>1000_1</td>\n",
       "      <td>2018-08-17</td>\n",
       "      <td>0.00</td>\n",
       "      <td>1000</td>\n",
       "    </tr>\n",
       "    <tr>\n",
       "      <th>2</th>\n",
       "      <td>1000_2</td>\n",
       "      <td>2018-06-11</td>\n",
       "      <td>2.85</td>\n",
       "      <td>1000</td>\n",
       "    </tr>\n",
       "    <tr>\n",
       "      <th>3</th>\n",
       "      <td>1000_3</td>\n",
       "      <td>2018-09-21</td>\n",
       "      <td>13.80</td>\n",
       "      <td>1000</td>\n",
       "    </tr>\n",
       "    <tr>\n",
       "      <th>4</th>\n",
       "      <td>1000_4</td>\n",
       "      <td>2018-12-15</td>\n",
       "      <td>5.18</td>\n",
       "      <td>1000</td>\n",
       "    </tr>\n",
       "  </tbody>\n",
       "</table>\n",
       "</div>"
      ],
      "text/plain": [
       "       id   call_date  duration  user_id\n",
       "0  1000_0  2018-07-25      0.00     1000\n",
       "1  1000_1  2018-08-17      0.00     1000\n",
       "2  1000_2  2018-06-11      2.85     1000\n",
       "3  1000_3  2018-09-21     13.80     1000\n",
       "4  1000_4  2018-12-15      5.18     1000"
      ]
     },
     "execution_count": 2,
     "metadata": {},
     "output_type": "execute_result"
    }
   ],
   "source": [
    "# Код студента\n",
    "try:\n",
    "    data_calls = pd.read_csv('calls.csv.')\n",
    "# Код ревьюера\n",
    "except:\n",
    "    data_calls = pd.read_csv('/datasets/calls.csv')\n",
    "data_calls.head()\n",
    " # чтение файла с данными и сохранение в перемкнную"
   ]
  },
  {
   "cell_type": "code",
   "execution_count": 3,
   "id": "61f05778",
   "metadata": {},
   "outputs": [
    {
     "name": "stdout",
     "output_type": "stream",
     "text": [
      "<class 'pandas.core.frame.DataFrame'>\n",
      "RangeIndex: 202607 entries, 0 to 202606\n",
      "Data columns (total 4 columns):\n",
      " #   Column     Non-Null Count   Dtype  \n",
      "---  ------     --------------   -----  \n",
      " 0   id         202607 non-null  object \n",
      " 1   call_date  202607 non-null  object \n",
      " 2   duration   202607 non-null  float64\n",
      " 3   user_id    202607 non-null  int64  \n",
      "dtypes: float64(1), int64(1), object(2)\n",
      "memory usage: 6.2+ MB\n"
     ]
    }
   ],
   "source": [
    "data_calls.info()"
   ]
  },
  {
   "cell_type": "markdown",
   "id": "057e6fd6",
   "metadata": {},
   "source": [
    "В таблице `calls` 4 столбца (информация о звонках). Тип данных в столбцах различается. Присутствует — `float64`(1), `int64`(1), `object`(2).\n",
    "\n",
    "Согласно документации к данным:\n",
    "* `id` — уникальный номер звонка\n",
    "* `call_date` — дата звонка\n",
    "* `duration` — длительность звонка в минутах\n",
    "* `user_id` — идентификатор пользователя, сделавшего звонок\n",
    "\n",
    "\n",
    "В названиях колонок не выявлено нарушение стиля.\n",
    "\n",
    "Количество значений в столбцах не различается. Значит, в данных нет пропущенных значений."
   ]
  },
  {
   "cell_type": "code",
   "execution_count": 51,
   "id": "074997ce",
   "metadata": {},
   "outputs": [],
   "source": [
    "data_internet = pd.read_csv('internet.csv.')\n"
   ]
  },
  {
   "cell_type": "code",
   "execution_count": 52,
   "id": "4dbaea41",
   "metadata": {},
   "outputs": [
    {
     "name": "stdout",
     "output_type": "stream",
     "text": [
      "<class 'pandas.core.frame.DataFrame'>\n",
      "RangeIndex: 149396 entries, 0 to 149395\n",
      "Data columns (total 5 columns):\n",
      " #   Column        Non-Null Count   Dtype  \n",
      "---  ------        --------------   -----  \n",
      " 0   Unnamed: 0    149396 non-null  int64  \n",
      " 1   id            149396 non-null  object \n",
      " 2   mb_used       149396 non-null  float64\n",
      " 3   session_date  149396 non-null  object \n",
      " 4   user_id       149396 non-null  int64  \n",
      "dtypes: float64(1), int64(2), object(2)\n",
      "memory usage: 5.7+ MB\n"
     ]
    }
   ],
   "source": [
    "data_internet.info()"
   ]
  },
  {
   "cell_type": "markdown",
   "id": "8088d812",
   "metadata": {},
   "source": [
    "В таблице `internet` 4 столбца  (информация об интернет-сессиях). Тип данных в столбцах различается. Присутствует — `float64`(1), `int64`(1), `object`(2).\n",
    "\n",
    "Согласно документации к данным:\n",
    "* `id` — уникальный номер сессии\n",
    "* `mb_used` — объём потраченного за сессию интернет-трафика (в мегабайтах)\n",
    "* `session_date` — дата интернет-сессии\n",
    "* `user_id` — идентификатор пользователя\n",
    "\n",
    "\n",
    "В названиях колонок не выявлено нарушение стиля.\n",
    "\n",
    "Количество значений в столбцах не различается. Значит, в данных нет пропущенных значений."
   ]
  },
  {
   "cell_type": "code",
   "execution_count": 54,
   "id": "c5beec50",
   "metadata": {},
   "outputs": [
    {
     "data": {
      "text/html": [
       "<div>\n",
       "<style scoped>\n",
       "    .dataframe tbody tr th:only-of-type {\n",
       "        vertical-align: middle;\n",
       "    }\n",
       "\n",
       "    .dataframe tbody tr th {\n",
       "        vertical-align: top;\n",
       "    }\n",
       "\n",
       "    .dataframe thead th {\n",
       "        text-align: right;\n",
       "    }\n",
       "</style>\n",
       "<table border=\"1\" class=\"dataframe\">\n",
       "  <thead>\n",
       "    <tr style=\"text-align: right;\">\n",
       "      <th></th>\n",
       "      <th>id</th>\n",
       "      <th>message_date</th>\n",
       "      <th>user_id</th>\n",
       "    </tr>\n",
       "  </thead>\n",
       "  <tbody>\n",
       "    <tr>\n",
       "      <th>0</th>\n",
       "      <td>1000_0</td>\n",
       "      <td>2018-06-27</td>\n",
       "      <td>1000</td>\n",
       "    </tr>\n",
       "    <tr>\n",
       "      <th>1</th>\n",
       "      <td>1000_1</td>\n",
       "      <td>2018-10-08</td>\n",
       "      <td>1000</td>\n",
       "    </tr>\n",
       "    <tr>\n",
       "      <th>2</th>\n",
       "      <td>1000_2</td>\n",
       "      <td>2018-08-04</td>\n",
       "      <td>1000</td>\n",
       "    </tr>\n",
       "    <tr>\n",
       "      <th>3</th>\n",
       "      <td>1000_3</td>\n",
       "      <td>2018-06-16</td>\n",
       "      <td>1000</td>\n",
       "    </tr>\n",
       "    <tr>\n",
       "      <th>4</th>\n",
       "      <td>1000_4</td>\n",
       "      <td>2018-12-05</td>\n",
       "      <td>1000</td>\n",
       "    </tr>\n",
       "  </tbody>\n",
       "</table>\n",
       "</div>"
      ],
      "text/plain": [
       "       id message_date  user_id\n",
       "0  1000_0   2018-06-27     1000\n",
       "1  1000_1   2018-10-08     1000\n",
       "2  1000_2   2018-08-04     1000\n",
       "3  1000_3   2018-06-16     1000\n",
       "4  1000_4   2018-12-05     1000"
      ]
     },
     "execution_count": 54,
     "metadata": {},
     "output_type": "execute_result"
    }
   ],
   "source": [
    "data_messages = pd.read_csv('messages.csv.')\n",
    "data_messages.head()"
   ]
  },
  {
   "cell_type": "code",
   "execution_count": 7,
   "id": "af26e1ef",
   "metadata": {},
   "outputs": [
    {
     "name": "stdout",
     "output_type": "stream",
     "text": [
      "<class 'pandas.core.frame.DataFrame'>\n",
      "RangeIndex: 123036 entries, 0 to 123035\n",
      "Data columns (total 3 columns):\n",
      " #   Column        Non-Null Count   Dtype \n",
      "---  ------        --------------   ----- \n",
      " 0   id            123036 non-null  object\n",
      " 1   message_date  123036 non-null  object\n",
      " 2   user_id       123036 non-null  int64 \n",
      "dtypes: int64(1), object(2)\n",
      "memory usage: 2.8+ MB\n"
     ]
    }
   ],
   "source": [
    "data_messages.info()"
   ]
  },
  {
   "cell_type": "markdown",
   "id": "92deffb9",
   "metadata": {},
   "source": [
    "В таблице `messages` 3 столбца (информация о сообщениях). Тип данных в столбцах различается. Присутствует —  `int64`(1), `object`(2).\n",
    "\n",
    "Согласно документации к данным:\n",
    "* `id` — уникальный номер сообщения\n",
    "* `message_date` — дата сообщения\n",
    "* `user_id` — идентификатор пользователя, отправившего сообщение\n",
    "\n",
    "В названиях колонок не выявлено нарушение стиля.\n",
    "\n",
    "Количество значений в столбцах не различается. Значит, в данных нет пропущенных значений."
   ]
  },
  {
   "cell_type": "code",
   "execution_count": 56,
   "id": "8bf0d65d",
   "metadata": {},
   "outputs": [
    {
     "data": {
      "text/html": [
       "<div>\n",
       "<style scoped>\n",
       "    .dataframe tbody tr th:only-of-type {\n",
       "        vertical-align: middle;\n",
       "    }\n",
       "\n",
       "    .dataframe tbody tr th {\n",
       "        vertical-align: top;\n",
       "    }\n",
       "\n",
       "    .dataframe thead th {\n",
       "        text-align: right;\n",
       "    }\n",
       "</style>\n",
       "<table border=\"1\" class=\"dataframe\">\n",
       "  <thead>\n",
       "    <tr style=\"text-align: right;\">\n",
       "      <th></th>\n",
       "      <th>messages_included</th>\n",
       "      <th>mb_per_month_included</th>\n",
       "      <th>minutes_included</th>\n",
       "      <th>rub_monthly_fee</th>\n",
       "      <th>rub_per_gb</th>\n",
       "      <th>rub_per_message</th>\n",
       "      <th>rub_per_minute</th>\n",
       "      <th>tariff_name</th>\n",
       "    </tr>\n",
       "  </thead>\n",
       "  <tbody>\n",
       "    <tr>\n",
       "      <th>0</th>\n",
       "      <td>50</td>\n",
       "      <td>15360</td>\n",
       "      <td>500</td>\n",
       "      <td>550</td>\n",
       "      <td>200</td>\n",
       "      <td>3</td>\n",
       "      <td>3</td>\n",
       "      <td>smart</td>\n",
       "    </tr>\n",
       "    <tr>\n",
       "      <th>1</th>\n",
       "      <td>1000</td>\n",
       "      <td>30720</td>\n",
       "      <td>3000</td>\n",
       "      <td>1950</td>\n",
       "      <td>150</td>\n",
       "      <td>1</td>\n",
       "      <td>1</td>\n",
       "      <td>ultra</td>\n",
       "    </tr>\n",
       "  </tbody>\n",
       "</table>\n",
       "</div>"
      ],
      "text/plain": [
       "   messages_included  mb_per_month_included  minutes_included  \\\n",
       "0                 50                  15360               500   \n",
       "1               1000                  30720              3000   \n",
       "\n",
       "   rub_monthly_fee  rub_per_gb  rub_per_message  rub_per_minute tariff_name  \n",
       "0              550         200                3               3       smart  \n",
       "1             1950         150                1               1       ultra  "
      ]
     },
     "execution_count": 56,
     "metadata": {},
     "output_type": "execute_result"
    }
   ],
   "source": [
    "data_tariffs = pd.read_csv('tariffs.csv.')\n",
    "data_tariffs.head()"
   ]
  },
  {
   "cell_type": "code",
   "execution_count": 9,
   "id": "55c4598d",
   "metadata": {},
   "outputs": [
    {
     "name": "stdout",
     "output_type": "stream",
     "text": [
      "<class 'pandas.core.frame.DataFrame'>\n",
      "RangeIndex: 2 entries, 0 to 1\n",
      "Data columns (total 8 columns):\n",
      " #   Column                 Non-Null Count  Dtype \n",
      "---  ------                 --------------  ----- \n",
      " 0   messages_included      2 non-null      int64 \n",
      " 1   mb_per_month_included  2 non-null      int64 \n",
      " 2   minutes_included       2 non-null      int64 \n",
      " 3   rub_monthly_fee        2 non-null      int64 \n",
      " 4   rub_per_gb             2 non-null      int64 \n",
      " 5   rub_per_message        2 non-null      int64 \n",
      " 6   rub_per_minute         2 non-null      int64 \n",
      " 7   tariff_name            2 non-null      object\n",
      "dtypes: int64(7), object(1)\n",
      "memory usage: 256.0+ bytes\n"
     ]
    }
   ],
   "source": [
    "data_tariffs.info()"
   ]
  },
  {
   "cell_type": "markdown",
   "id": "b20908dc",
   "metadata": {},
   "source": [
    "В таблице `tariffs` 8 столбцов (информация о тарифах). Тип данных в столбцах различается. Присутствует — `int64`(7), `object`(1).\n",
    "​\n",
    "Согласно документации к данным:\n",
    "* `tariff_name` — название тарифа\n",
    "* `rub_monthly_fee` — ежемесячная абонентская плата в рублях\n",
    "* `minutes_included` — количество минут разговора в месяц, включённых в абонентскую плату\n",
    "* `messages_included` — количество сообщений в месяц, включённых в абонентскую плату\n",
    "* `mb_per_month_included` — объём интернет-трафика, включённого в абонентскую плату (в мегабайтах)\n",
    "* `rub_per_minute` — стоимость минуты разговора сверх тарифного пакета \n",
    "* `rub_per_message` — стоимость отправки сообщения сверх тарифного пакета\n",
    "* `rub_per_gb` — стоимость дополнительного гигабайта интернет-трафика сверх тарифного пакета\n",
    "​\n",
    "В названиях колонок не выявлено нарушение стиля.\n",
    "​\n",
    "Количество значений в столбцах не различается. Значит, в данных нет пропущенных значений."
   ]
  },
  {
   "cell_type": "code",
   "execution_count": 57,
   "id": "fb1469ff",
   "metadata": {},
   "outputs": [
    {
     "data": {
      "text/html": [
       "<div>\n",
       "<style scoped>\n",
       "    .dataframe tbody tr th:only-of-type {\n",
       "        vertical-align: middle;\n",
       "    }\n",
       "\n",
       "    .dataframe tbody tr th {\n",
       "        vertical-align: top;\n",
       "    }\n",
       "\n",
       "    .dataframe thead th {\n",
       "        text-align: right;\n",
       "    }\n",
       "</style>\n",
       "<table border=\"1\" class=\"dataframe\">\n",
       "  <thead>\n",
       "    <tr style=\"text-align: right;\">\n",
       "      <th></th>\n",
       "      <th>user_id</th>\n",
       "      <th>age</th>\n",
       "      <th>churn_date</th>\n",
       "      <th>city</th>\n",
       "      <th>first_name</th>\n",
       "      <th>last_name</th>\n",
       "      <th>reg_date</th>\n",
       "      <th>tariff</th>\n",
       "    </tr>\n",
       "  </thead>\n",
       "  <tbody>\n",
       "    <tr>\n",
       "      <th>0</th>\n",
       "      <td>1000</td>\n",
       "      <td>52</td>\n",
       "      <td>NaN</td>\n",
       "      <td>Краснодар</td>\n",
       "      <td>Рафаил</td>\n",
       "      <td>Верещагин</td>\n",
       "      <td>2018-05-25</td>\n",
       "      <td>ultra</td>\n",
       "    </tr>\n",
       "    <tr>\n",
       "      <th>1</th>\n",
       "      <td>1001</td>\n",
       "      <td>41</td>\n",
       "      <td>NaN</td>\n",
       "      <td>Москва</td>\n",
       "      <td>Иван</td>\n",
       "      <td>Ежов</td>\n",
       "      <td>2018-11-01</td>\n",
       "      <td>smart</td>\n",
       "    </tr>\n",
       "    <tr>\n",
       "      <th>2</th>\n",
       "      <td>1002</td>\n",
       "      <td>59</td>\n",
       "      <td>NaN</td>\n",
       "      <td>Стерлитамак</td>\n",
       "      <td>Евгений</td>\n",
       "      <td>Абрамович</td>\n",
       "      <td>2018-06-17</td>\n",
       "      <td>smart</td>\n",
       "    </tr>\n",
       "    <tr>\n",
       "      <th>3</th>\n",
       "      <td>1003</td>\n",
       "      <td>23</td>\n",
       "      <td>NaN</td>\n",
       "      <td>Москва</td>\n",
       "      <td>Белла</td>\n",
       "      <td>Белякова</td>\n",
       "      <td>2018-08-17</td>\n",
       "      <td>ultra</td>\n",
       "    </tr>\n",
       "    <tr>\n",
       "      <th>4</th>\n",
       "      <td>1004</td>\n",
       "      <td>68</td>\n",
       "      <td>NaN</td>\n",
       "      <td>Новокузнецк</td>\n",
       "      <td>Татьяна</td>\n",
       "      <td>Авдеенко</td>\n",
       "      <td>2018-05-14</td>\n",
       "      <td>ultra</td>\n",
       "    </tr>\n",
       "  </tbody>\n",
       "</table>\n",
       "</div>"
      ],
      "text/plain": [
       "   user_id  age churn_date         city first_name  last_name    reg_date  \\\n",
       "0     1000   52        NaN    Краснодар     Рафаил  Верещагин  2018-05-25   \n",
       "1     1001   41        NaN       Москва       Иван       Ежов  2018-11-01   \n",
       "2     1002   59        NaN  Стерлитамак    Евгений  Абрамович  2018-06-17   \n",
       "3     1003   23        NaN       Москва      Белла   Белякова  2018-08-17   \n",
       "4     1004   68        NaN  Новокузнецк    Татьяна   Авдеенко  2018-05-14   \n",
       "\n",
       "  tariff  \n",
       "0  ultra  \n",
       "1  smart  \n",
       "2  smart  \n",
       "3  ultra  \n",
       "4  ultra  "
      ]
     },
     "execution_count": 57,
     "metadata": {},
     "output_type": "execute_result"
    }
   ],
   "source": [
    "data_users = pd.read_csv('users.csv.')\n",
    "\n",
    "data_users.head()\n",
    " # чтение файла с данными и сохранение в перемкнную"
   ]
  },
  {
   "cell_type": "code",
   "execution_count": 11,
   "id": "b3b1073b",
   "metadata": {},
   "outputs": [
    {
     "name": "stdout",
     "output_type": "stream",
     "text": [
      "<class 'pandas.core.frame.DataFrame'>\n",
      "RangeIndex: 500 entries, 0 to 499\n",
      "Data columns (total 8 columns):\n",
      " #   Column      Non-Null Count  Dtype \n",
      "---  ------      --------------  ----- \n",
      " 0   user_id     500 non-null    int64 \n",
      " 1   age         500 non-null    int64 \n",
      " 2   churn_date  38 non-null     object\n",
      " 3   city        500 non-null    object\n",
      " 4   first_name  500 non-null    object\n",
      " 5   last_name   500 non-null    object\n",
      " 6   reg_date    500 non-null    object\n",
      " 7   tariff      500 non-null    object\n",
      "dtypes: int64(2), object(6)\n",
      "memory usage: 31.4+ KB\n"
     ]
    }
   ],
   "source": [
    "data_users.info()"
   ]
  },
  {
   "cell_type": "markdown",
   "id": "2275ed82",
   "metadata": {},
   "source": [
    "В таблице `users` 8 столбцов (информация о тарифах). Тип данных в столбцах различается. Присутствует — `int64`(2), `object`(6).\n",
    "\n",
    "Согласно документации к данным:\n",
    "* `user_id` — уникальный идентификатор пользователя\n",
    "* `first_name` — имя пользователя\n",
    "* `last_name` — фамилия пользователя\n",
    "* `age` — возраст пользователя (годы)\n",
    "* `reg_date` — дата подключения тарифа (день, месяц, год)\n",
    "* `churn_date` — дата прекращения пользования тарифом (если значение пропущено, то тариф ещё действовал на момент выгрузки данных)\n",
    "* `city` — город проживания пользователя\n",
    "* `tariff` — название тарифного плана\n",
    "\n",
    "В названиях колонок не выявлено нарушение стиля."
   ]
  },
  {
   "cell_type": "markdown",
   "id": "2476ac3c",
   "metadata": {},
   "source": [
    "## 2 Предобработка данных"
   ]
  },
  {
   "cell_type": "markdown",
   "id": "d3e50bc2",
   "metadata": {},
   "source": [
    "### Перевод данных"
   ]
  },
  {
   "cell_type": "code",
   "execution_count": 12,
   "id": "f41d5a36",
   "metadata": {},
   "outputs": [],
   "source": [
    "sl = {'call_date': data_calls, 'message_date': data_messages, 'session_date': data_internet}"
   ]
  },
  {
   "cell_type": "code",
   "execution_count": 13,
   "id": "3d6bc662",
   "metadata": {},
   "outputs": [],
   "source": [
    "for key, value in sl.items():\n",
    "    value[key] = pd.to_datetime( value[key], format='%Y.%m.%d') \n",
    "    value['month'] =pd.DatetimeIndex(value[key]).month\n",
    "# первод времени в формат, подходящий для работы с датами\n",
    "#добавление столбцов с месяцами "
   ]
  },
  {
   "cell_type": "code",
   "execution_count": 14,
   "id": "dc69dcd1",
   "metadata": {},
   "outputs": [
    {
     "data": {
      "text/html": [
       "<div>\n",
       "<style scoped>\n",
       "    .dataframe tbody tr th:only-of-type {\n",
       "        vertical-align: middle;\n",
       "    }\n",
       "\n",
       "    .dataframe tbody tr th {\n",
       "        vertical-align: top;\n",
       "    }\n",
       "\n",
       "    .dataframe thead th {\n",
       "        text-align: right;\n",
       "    }\n",
       "</style>\n",
       "<table border=\"1\" class=\"dataframe\">\n",
       "  <thead>\n",
       "    <tr style=\"text-align: right;\">\n",
       "      <th></th>\n",
       "      <th>id</th>\n",
       "      <th>call_date</th>\n",
       "      <th>duration</th>\n",
       "      <th>user_id</th>\n",
       "      <th>month</th>\n",
       "    </tr>\n",
       "  </thead>\n",
       "  <tbody>\n",
       "    <tr>\n",
       "      <th>0</th>\n",
       "      <td>1000_0</td>\n",
       "      <td>2018-07-25</td>\n",
       "      <td>0.0</td>\n",
       "      <td>1000</td>\n",
       "      <td>7</td>\n",
       "    </tr>\n",
       "    <tr>\n",
       "      <th>1</th>\n",
       "      <td>1000_1</td>\n",
       "      <td>2018-08-17</td>\n",
       "      <td>0.0</td>\n",
       "      <td>1000</td>\n",
       "      <td>8</td>\n",
       "    </tr>\n",
       "    <tr>\n",
       "      <th>2</th>\n",
       "      <td>1000_2</td>\n",
       "      <td>2018-06-11</td>\n",
       "      <td>3.0</td>\n",
       "      <td>1000</td>\n",
       "      <td>6</td>\n",
       "    </tr>\n",
       "    <tr>\n",
       "      <th>3</th>\n",
       "      <td>1000_3</td>\n",
       "      <td>2018-09-21</td>\n",
       "      <td>14.0</td>\n",
       "      <td>1000</td>\n",
       "      <td>9</td>\n",
       "    </tr>\n",
       "    <tr>\n",
       "      <th>4</th>\n",
       "      <td>1000_4</td>\n",
       "      <td>2018-12-15</td>\n",
       "      <td>6.0</td>\n",
       "      <td>1000</td>\n",
       "      <td>12</td>\n",
       "    </tr>\n",
       "  </tbody>\n",
       "</table>\n",
       "</div>"
      ],
      "text/plain": [
       "       id  call_date  duration  user_id  month\n",
       "0  1000_0 2018-07-25       0.0     1000      7\n",
       "1  1000_1 2018-08-17       0.0     1000      8\n",
       "2  1000_2 2018-06-11       3.0     1000      6\n",
       "3  1000_3 2018-09-21      14.0     1000      9\n",
       "4  1000_4 2018-12-15       6.0     1000     12"
      ]
     },
     "execution_count": 14,
     "metadata": {},
     "output_type": "execute_result"
    }
   ],
   "source": [
    "data_calls['duration'] = round(data_calls['duration'] +.5)\n",
    "\n",
    "data_calls.head()"
   ]
  },
  {
   "cell_type": "code",
   "execution_count": 15,
   "id": "b47abb3e",
   "metadata": {},
   "outputs": [
    {
     "data": {
      "text/html": [
       "<div>\n",
       "<style scoped>\n",
       "    .dataframe tbody tr th:only-of-type {\n",
       "        vertical-align: middle;\n",
       "    }\n",
       "\n",
       "    .dataframe tbody tr th {\n",
       "        vertical-align: top;\n",
       "    }\n",
       "\n",
       "    .dataframe thead th {\n",
       "        text-align: right;\n",
       "    }\n",
       "</style>\n",
       "<table border=\"1\" class=\"dataframe\">\n",
       "  <thead>\n",
       "    <tr style=\"text-align: right;\">\n",
       "      <th></th>\n",
       "      <th>user_id</th>\n",
       "      <th>month</th>\n",
       "      <th>duration_count_month</th>\n",
       "      <th>duration_sum_month</th>\n",
       "    </tr>\n",
       "  </thead>\n",
       "  <tbody>\n",
       "    <tr>\n",
       "      <th>0</th>\n",
       "      <td>1000</td>\n",
       "      <td>5</td>\n",
       "      <td>22</td>\n",
       "      <td>159.0</td>\n",
       "    </tr>\n",
       "    <tr>\n",
       "      <th>1</th>\n",
       "      <td>1000</td>\n",
       "      <td>6</td>\n",
       "      <td>43</td>\n",
       "      <td>172.0</td>\n",
       "    </tr>\n",
       "    <tr>\n",
       "      <th>2</th>\n",
       "      <td>1000</td>\n",
       "      <td>7</td>\n",
       "      <td>47</td>\n",
       "      <td>340.0</td>\n",
       "    </tr>\n",
       "    <tr>\n",
       "      <th>3</th>\n",
       "      <td>1000</td>\n",
       "      <td>8</td>\n",
       "      <td>52</td>\n",
       "      <td>409.0</td>\n",
       "    </tr>\n",
       "    <tr>\n",
       "      <th>4</th>\n",
       "      <td>1000</td>\n",
       "      <td>9</td>\n",
       "      <td>58</td>\n",
       "      <td>467.0</td>\n",
       "    </tr>\n",
       "    <tr>\n",
       "      <th>...</th>\n",
       "      <td>...</td>\n",
       "      <td>...</td>\n",
       "      <td>...</td>\n",
       "      <td>...</td>\n",
       "    </tr>\n",
       "    <tr>\n",
       "      <th>3169</th>\n",
       "      <td>1498</td>\n",
       "      <td>10</td>\n",
       "      <td>41</td>\n",
       "      <td>247.0</td>\n",
       "    </tr>\n",
       "    <tr>\n",
       "      <th>3170</th>\n",
       "      <td>1499</td>\n",
       "      <td>9</td>\n",
       "      <td>9</td>\n",
       "      <td>70.0</td>\n",
       "    </tr>\n",
       "    <tr>\n",
       "      <th>3171</th>\n",
       "      <td>1499</td>\n",
       "      <td>10</td>\n",
       "      <td>68</td>\n",
       "      <td>449.0</td>\n",
       "    </tr>\n",
       "    <tr>\n",
       "      <th>3172</th>\n",
       "      <td>1499</td>\n",
       "      <td>11</td>\n",
       "      <td>74</td>\n",
       "      <td>612.0</td>\n",
       "    </tr>\n",
       "    <tr>\n",
       "      <th>3173</th>\n",
       "      <td>1499</td>\n",
       "      <td>12</td>\n",
       "      <td>69</td>\n",
       "      <td>492.0</td>\n",
       "    </tr>\n",
       "  </tbody>\n",
       "</table>\n",
       "<p>3174 rows × 4 columns</p>\n",
       "</div>"
      ],
      "text/plain": [
       "      user_id  month  duration_count_month  duration_sum_month\n",
       "0        1000      5                    22               159.0\n",
       "1        1000      6                    43               172.0\n",
       "2        1000      7                    47               340.0\n",
       "3        1000      8                    52               409.0\n",
       "4        1000      9                    58               467.0\n",
       "...       ...    ...                   ...                 ...\n",
       "3169     1498     10                    41               247.0\n",
       "3170     1499      9                     9                70.0\n",
       "3171     1499     10                    68               449.0\n",
       "3172     1499     11                    74               612.0\n",
       "3173     1499     12                    69               492.0\n",
       "\n",
       "[3174 rows x 4 columns]"
      ]
     },
     "execution_count": 15,
     "metadata": {},
     "output_type": "execute_result"
    }
   ],
   "source": [
    "data_calls_group = data_calls.pivot_table(index=['user_id','month'], values='duration', aggfunc=['count', 'sum'])\n",
    "data_calls_group.columns = [ 'duration_count_month','duration_sum_month' ]\n",
    "data_calls_group = data_calls_group.reset_index()\n",
    "data_calls_group\n",
    "#количество сделанных звонков и израсходованных минут разговора по месяцам;"
   ]
  },
  {
   "cell_type": "markdown",
   "id": "8175110f",
   "metadata": {},
   "source": [
    "### Создание сводных таблиц "
   ]
  },
  {
   "cell_type": "code",
   "execution_count": 16,
   "id": "263f8b53",
   "metadata": {},
   "outputs": [
    {
     "data": {
      "text/html": [
       "<div>\n",
       "<style scoped>\n",
       "    .dataframe tbody tr th:only-of-type {\n",
       "        vertical-align: middle;\n",
       "    }\n",
       "\n",
       "    .dataframe tbody tr th {\n",
       "        vertical-align: top;\n",
       "    }\n",
       "\n",
       "    .dataframe thead th {\n",
       "        text-align: right;\n",
       "    }\n",
       "</style>\n",
       "<table border=\"1\" class=\"dataframe\">\n",
       "  <thead>\n",
       "    <tr style=\"text-align: right;\">\n",
       "      <th></th>\n",
       "      <th>user_id</th>\n",
       "      <th>month</th>\n",
       "      <th>sms_count_month</th>\n",
       "    </tr>\n",
       "  </thead>\n",
       "  <tbody>\n",
       "    <tr>\n",
       "      <th>0</th>\n",
       "      <td>1000</td>\n",
       "      <td>5</td>\n",
       "      <td>22</td>\n",
       "    </tr>\n",
       "    <tr>\n",
       "      <th>1</th>\n",
       "      <td>1000</td>\n",
       "      <td>6</td>\n",
       "      <td>60</td>\n",
       "    </tr>\n",
       "    <tr>\n",
       "      <th>2</th>\n",
       "      <td>1000</td>\n",
       "      <td>7</td>\n",
       "      <td>75</td>\n",
       "    </tr>\n",
       "    <tr>\n",
       "      <th>3</th>\n",
       "      <td>1000</td>\n",
       "      <td>8</td>\n",
       "      <td>81</td>\n",
       "    </tr>\n",
       "    <tr>\n",
       "      <th>4</th>\n",
       "      <td>1000</td>\n",
       "      <td>9</td>\n",
       "      <td>57</td>\n",
       "    </tr>\n",
       "    <tr>\n",
       "      <th>...</th>\n",
       "      <td>...</td>\n",
       "      <td>...</td>\n",
       "      <td>...</td>\n",
       "    </tr>\n",
       "    <tr>\n",
       "      <th>2712</th>\n",
       "      <td>1498</td>\n",
       "      <td>10</td>\n",
       "      <td>42</td>\n",
       "    </tr>\n",
       "    <tr>\n",
       "      <th>2713</th>\n",
       "      <td>1499</td>\n",
       "      <td>9</td>\n",
       "      <td>11</td>\n",
       "    </tr>\n",
       "    <tr>\n",
       "      <th>2714</th>\n",
       "      <td>1499</td>\n",
       "      <td>10</td>\n",
       "      <td>48</td>\n",
       "    </tr>\n",
       "    <tr>\n",
       "      <th>2715</th>\n",
       "      <td>1499</td>\n",
       "      <td>11</td>\n",
       "      <td>59</td>\n",
       "    </tr>\n",
       "    <tr>\n",
       "      <th>2716</th>\n",
       "      <td>1499</td>\n",
       "      <td>12</td>\n",
       "      <td>66</td>\n",
       "    </tr>\n",
       "  </tbody>\n",
       "</table>\n",
       "<p>2717 rows × 3 columns</p>\n",
       "</div>"
      ],
      "text/plain": [
       "      user_id  month  sms_count_month\n",
       "0        1000      5               22\n",
       "1        1000      6               60\n",
       "2        1000      7               75\n",
       "3        1000      8               81\n",
       "4        1000      9               57\n",
       "...       ...    ...              ...\n",
       "2712     1498     10               42\n",
       "2713     1499      9               11\n",
       "2714     1499     10               48\n",
       "2715     1499     11               59\n",
       "2716     1499     12               66\n",
       "\n",
       "[2717 rows x 3 columns]"
      ]
     },
     "execution_count": 16,
     "metadata": {},
     "output_type": "execute_result"
    }
   ],
   "source": [
    "data_messages_group = data_messages.pivot_table(index=['user_id','month'], values='id', aggfunc=['count'])\n",
    "data_messages_group.columns = [ 'sms_count_month' ]\n",
    "data_messages_group = data_messages_group.reset_index()\n",
    "data_messages_group\n",
    "# подсчет количества отправленных сообщений по месяцам;\n"
   ]
  },
  {
   "cell_type": "code",
   "execution_count": 17,
   "id": "c4966fc4",
   "metadata": {},
   "outputs": [
    {
     "data": {
      "text/html": [
       "<div>\n",
       "<style scoped>\n",
       "    .dataframe tbody tr th:only-of-type {\n",
       "        vertical-align: middle;\n",
       "    }\n",
       "\n",
       "    .dataframe tbody tr th {\n",
       "        vertical-align: top;\n",
       "    }\n",
       "\n",
       "    .dataframe thead th {\n",
       "        text-align: right;\n",
       "    }\n",
       "</style>\n",
       "<table border=\"1\" class=\"dataframe\">\n",
       "  <thead>\n",
       "    <tr style=\"text-align: right;\">\n",
       "      <th></th>\n",
       "      <th>user_id</th>\n",
       "      <th>month</th>\n",
       "      <th>mb_month</th>\n",
       "      <th>gb_month</th>\n",
       "    </tr>\n",
       "  </thead>\n",
       "  <tbody>\n",
       "    <tr>\n",
       "      <th>0</th>\n",
       "      <td>1000</td>\n",
       "      <td>5</td>\n",
       "      <td>2253.49</td>\n",
       "      <td>2.200674</td>\n",
       "    </tr>\n",
       "    <tr>\n",
       "      <th>1</th>\n",
       "      <td>1000</td>\n",
       "      <td>6</td>\n",
       "      <td>23233.77</td>\n",
       "      <td>22.689229</td>\n",
       "    </tr>\n",
       "    <tr>\n",
       "      <th>2</th>\n",
       "      <td>1000</td>\n",
       "      <td>7</td>\n",
       "      <td>14003.64</td>\n",
       "      <td>13.675430</td>\n",
       "    </tr>\n",
       "    <tr>\n",
       "      <th>3</th>\n",
       "      <td>1000</td>\n",
       "      <td>8</td>\n",
       "      <td>14055.93</td>\n",
       "      <td>13.726494</td>\n",
       "    </tr>\n",
       "    <tr>\n",
       "      <th>4</th>\n",
       "      <td>1000</td>\n",
       "      <td>9</td>\n",
       "      <td>14568.91</td>\n",
       "      <td>14.227451</td>\n",
       "    </tr>\n",
       "    <tr>\n",
       "      <th>...</th>\n",
       "      <td>...</td>\n",
       "      <td>...</td>\n",
       "      <td>...</td>\n",
       "      <td>...</td>\n",
       "    </tr>\n",
       "    <tr>\n",
       "      <th>3198</th>\n",
       "      <td>1498</td>\n",
       "      <td>10</td>\n",
       "      <td>20579.36</td>\n",
       "      <td>20.097031</td>\n",
       "    </tr>\n",
       "    <tr>\n",
       "      <th>3199</th>\n",
       "      <td>1499</td>\n",
       "      <td>9</td>\n",
       "      <td>1845.75</td>\n",
       "      <td>1.802490</td>\n",
       "    </tr>\n",
       "    <tr>\n",
       "      <th>3200</th>\n",
       "      <td>1499</td>\n",
       "      <td>10</td>\n",
       "      <td>17788.51</td>\n",
       "      <td>17.371592</td>\n",
       "    </tr>\n",
       "    <tr>\n",
       "      <th>3201</th>\n",
       "      <td>1499</td>\n",
       "      <td>11</td>\n",
       "      <td>17963.31</td>\n",
       "      <td>17.542295</td>\n",
       "    </tr>\n",
       "    <tr>\n",
       "      <th>3202</th>\n",
       "      <td>1499</td>\n",
       "      <td>12</td>\n",
       "      <td>13055.58</td>\n",
       "      <td>12.749590</td>\n",
       "    </tr>\n",
       "  </tbody>\n",
       "</table>\n",
       "<p>3203 rows × 4 columns</p>\n",
       "</div>"
      ],
      "text/plain": [
       "      user_id  month  mb_month   gb_month\n",
       "0        1000      5   2253.49   2.200674\n",
       "1        1000      6  23233.77  22.689229\n",
       "2        1000      7  14003.64  13.675430\n",
       "3        1000      8  14055.93  13.726494\n",
       "4        1000      9  14568.91  14.227451\n",
       "...       ...    ...       ...        ...\n",
       "3198     1498     10  20579.36  20.097031\n",
       "3199     1499      9   1845.75   1.802490\n",
       "3200     1499     10  17788.51  17.371592\n",
       "3201     1499     11  17963.31  17.542295\n",
       "3202     1499     12  13055.58  12.749590\n",
       "\n",
       "[3203 rows x 4 columns]"
      ]
     },
     "execution_count": 17,
     "metadata": {},
     "output_type": "execute_result"
    }
   ],
   "source": [
    "data_internet_group = data_internet.pivot_table(index=['user_id','month'], values='mb_used', aggfunc=['sum'])\n",
    "data_internet_group.columns = [ 'mb_month' ]\n",
    "data_internet_group['gb_month'] = data_internet_group['mb_month'] / 1024\n",
    "data_internet_group = data_internet_group.reset_index()\n",
    "data_internet_group\n",
    "# подсчет объема израсходованного интернет-трафика по месяцам;\n"
   ]
  },
  {
   "cell_type": "code",
   "execution_count": 18,
   "id": "8ce8d726",
   "metadata": {},
   "outputs": [
    {
     "data": {
      "text/html": [
       "<div>\n",
       "<style scoped>\n",
       "    .dataframe tbody tr th:only-of-type {\n",
       "        vertical-align: middle;\n",
       "    }\n",
       "\n",
       "    .dataframe tbody tr th {\n",
       "        vertical-align: top;\n",
       "    }\n",
       "\n",
       "    .dataframe thead th {\n",
       "        text-align: right;\n",
       "    }\n",
       "</style>\n",
       "<table border=\"1\" class=\"dataframe\">\n",
       "  <thead>\n",
       "    <tr style=\"text-align: right;\">\n",
       "      <th></th>\n",
       "      <th>user_id</th>\n",
       "      <th>month</th>\n",
       "      <th>duration_count_month</th>\n",
       "      <th>duration_sum_month</th>\n",
       "      <th>age</th>\n",
       "      <th>churn_date</th>\n",
       "      <th>city</th>\n",
       "      <th>first_name</th>\n",
       "      <th>last_name</th>\n",
       "      <th>reg_date</th>\n",
       "      <th>tariff</th>\n",
       "    </tr>\n",
       "  </thead>\n",
       "  <tbody>\n",
       "    <tr>\n",
       "      <th>0</th>\n",
       "      <td>1000</td>\n",
       "      <td>5</td>\n",
       "      <td>22</td>\n",
       "      <td>159.0</td>\n",
       "      <td>52</td>\n",
       "      <td>NaN</td>\n",
       "      <td>Краснодар</td>\n",
       "      <td>Рафаил</td>\n",
       "      <td>Верещагин</td>\n",
       "      <td>2018-05-25</td>\n",
       "      <td>ultra</td>\n",
       "    </tr>\n",
       "    <tr>\n",
       "      <th>1</th>\n",
       "      <td>1000</td>\n",
       "      <td>6</td>\n",
       "      <td>43</td>\n",
       "      <td>172.0</td>\n",
       "      <td>52</td>\n",
       "      <td>NaN</td>\n",
       "      <td>Краснодар</td>\n",
       "      <td>Рафаил</td>\n",
       "      <td>Верещагин</td>\n",
       "      <td>2018-05-25</td>\n",
       "      <td>ultra</td>\n",
       "    </tr>\n",
       "    <tr>\n",
       "      <th>2</th>\n",
       "      <td>1000</td>\n",
       "      <td>7</td>\n",
       "      <td>47</td>\n",
       "      <td>340.0</td>\n",
       "      <td>52</td>\n",
       "      <td>NaN</td>\n",
       "      <td>Краснодар</td>\n",
       "      <td>Рафаил</td>\n",
       "      <td>Верещагин</td>\n",
       "      <td>2018-05-25</td>\n",
       "      <td>ultra</td>\n",
       "    </tr>\n",
       "    <tr>\n",
       "      <th>3</th>\n",
       "      <td>1000</td>\n",
       "      <td>8</td>\n",
       "      <td>52</td>\n",
       "      <td>409.0</td>\n",
       "      <td>52</td>\n",
       "      <td>NaN</td>\n",
       "      <td>Краснодар</td>\n",
       "      <td>Рафаил</td>\n",
       "      <td>Верещагин</td>\n",
       "      <td>2018-05-25</td>\n",
       "      <td>ultra</td>\n",
       "    </tr>\n",
       "    <tr>\n",
       "      <th>4</th>\n",
       "      <td>1000</td>\n",
       "      <td>9</td>\n",
       "      <td>58</td>\n",
       "      <td>467.0</td>\n",
       "      <td>52</td>\n",
       "      <td>NaN</td>\n",
       "      <td>Краснодар</td>\n",
       "      <td>Рафаил</td>\n",
       "      <td>Верещагин</td>\n",
       "      <td>2018-05-25</td>\n",
       "      <td>ultra</td>\n",
       "    </tr>\n",
       "  </tbody>\n",
       "</table>\n",
       "</div>"
      ],
      "text/plain": [
       "   user_id  month  duration_count_month  duration_sum_month  age churn_date  \\\n",
       "0     1000      5                    22               159.0   52        NaN   \n",
       "1     1000      6                    43               172.0   52        NaN   \n",
       "2     1000      7                    47               340.0   52        NaN   \n",
       "3     1000      8                    52               409.0   52        NaN   \n",
       "4     1000      9                    58               467.0   52        NaN   \n",
       "\n",
       "        city first_name  last_name    reg_date tariff  \n",
       "0  Краснодар     Рафаил  Верещагин  2018-05-25  ultra  \n",
       "1  Краснодар     Рафаил  Верещагин  2018-05-25  ultra  \n",
       "2  Краснодар     Рафаил  Верещагин  2018-05-25  ultra  \n",
       "3  Краснодар     Рафаил  Верещагин  2018-05-25  ultra  \n",
       "4  Краснодар     Рафаил  Верещагин  2018-05-25  ultra  "
      ]
     },
     "execution_count": 18,
     "metadata": {},
     "output_type": "execute_result"
    }
   ],
   "source": [
    "data_calls_user = data_calls_group.merge(data_users, on='user_id')\n",
    "data_calls_user.head()\n",
    "# соединение сводной таблицы с информацией о пользователе"
   ]
  },
  {
   "cell_type": "code",
   "execution_count": 19,
   "id": "f6d6b6e8",
   "metadata": {},
   "outputs": [
    {
     "data": {
      "text/html": [
       "<div>\n",
       "<style scoped>\n",
       "    .dataframe tbody tr th:only-of-type {\n",
       "        vertical-align: middle;\n",
       "    }\n",
       "\n",
       "    .dataframe tbody tr th {\n",
       "        vertical-align: top;\n",
       "    }\n",
       "\n",
       "    .dataframe thead th {\n",
       "        text-align: right;\n",
       "    }\n",
       "</style>\n",
       "<table border=\"1\" class=\"dataframe\">\n",
       "  <thead>\n",
       "    <tr style=\"text-align: right;\">\n",
       "      <th></th>\n",
       "      <th>user_id</th>\n",
       "      <th>month</th>\n",
       "      <th>sms_count_month</th>\n",
       "      <th>age</th>\n",
       "      <th>churn_date</th>\n",
       "      <th>city</th>\n",
       "      <th>first_name</th>\n",
       "      <th>last_name</th>\n",
       "      <th>reg_date</th>\n",
       "      <th>tariff</th>\n",
       "    </tr>\n",
       "  </thead>\n",
       "  <tbody>\n",
       "    <tr>\n",
       "      <th>0</th>\n",
       "      <td>1000</td>\n",
       "      <td>5</td>\n",
       "      <td>22</td>\n",
       "      <td>52</td>\n",
       "      <td>NaN</td>\n",
       "      <td>Краснодар</td>\n",
       "      <td>Рафаил</td>\n",
       "      <td>Верещагин</td>\n",
       "      <td>2018-05-25</td>\n",
       "      <td>ultra</td>\n",
       "    </tr>\n",
       "    <tr>\n",
       "      <th>1</th>\n",
       "      <td>1000</td>\n",
       "      <td>6</td>\n",
       "      <td>60</td>\n",
       "      <td>52</td>\n",
       "      <td>NaN</td>\n",
       "      <td>Краснодар</td>\n",
       "      <td>Рафаил</td>\n",
       "      <td>Верещагин</td>\n",
       "      <td>2018-05-25</td>\n",
       "      <td>ultra</td>\n",
       "    </tr>\n",
       "    <tr>\n",
       "      <th>2</th>\n",
       "      <td>1000</td>\n",
       "      <td>7</td>\n",
       "      <td>75</td>\n",
       "      <td>52</td>\n",
       "      <td>NaN</td>\n",
       "      <td>Краснодар</td>\n",
       "      <td>Рафаил</td>\n",
       "      <td>Верещагин</td>\n",
       "      <td>2018-05-25</td>\n",
       "      <td>ultra</td>\n",
       "    </tr>\n",
       "    <tr>\n",
       "      <th>3</th>\n",
       "      <td>1000</td>\n",
       "      <td>8</td>\n",
       "      <td>81</td>\n",
       "      <td>52</td>\n",
       "      <td>NaN</td>\n",
       "      <td>Краснодар</td>\n",
       "      <td>Рафаил</td>\n",
       "      <td>Верещагин</td>\n",
       "      <td>2018-05-25</td>\n",
       "      <td>ultra</td>\n",
       "    </tr>\n",
       "    <tr>\n",
       "      <th>4</th>\n",
       "      <td>1000</td>\n",
       "      <td>9</td>\n",
       "      <td>57</td>\n",
       "      <td>52</td>\n",
       "      <td>NaN</td>\n",
       "      <td>Краснодар</td>\n",
       "      <td>Рафаил</td>\n",
       "      <td>Верещагин</td>\n",
       "      <td>2018-05-25</td>\n",
       "      <td>ultra</td>\n",
       "    </tr>\n",
       "  </tbody>\n",
       "</table>\n",
       "</div>"
      ],
      "text/plain": [
       "   user_id  month  sms_count_month  age churn_date       city first_name  \\\n",
       "0     1000      5               22   52        NaN  Краснодар     Рафаил   \n",
       "1     1000      6               60   52        NaN  Краснодар     Рафаил   \n",
       "2     1000      7               75   52        NaN  Краснодар     Рафаил   \n",
       "3     1000      8               81   52        NaN  Краснодар     Рафаил   \n",
       "4     1000      9               57   52        NaN  Краснодар     Рафаил   \n",
       "\n",
       "   last_name    reg_date tariff  \n",
       "0  Верещагин  2018-05-25  ultra  \n",
       "1  Верещагин  2018-05-25  ultra  \n",
       "2  Верещагин  2018-05-25  ultra  \n",
       "3  Верещагин  2018-05-25  ultra  \n",
       "4  Верещагин  2018-05-25  ultra  "
      ]
     },
     "execution_count": 19,
     "metadata": {},
     "output_type": "execute_result"
    }
   ],
   "source": [
    "data_messages_user = data_messages_group.merge(data_users, on='user_id')\n",
    "data_messages_user.head()\n",
    "# соединение сводной таблицы с информацией о пользователе"
   ]
  },
  {
   "cell_type": "code",
   "execution_count": 20,
   "id": "4008af82",
   "metadata": {},
   "outputs": [],
   "source": [
    "data_internet_user = data_internet_group.merge(data_users, on='user_id')\n",
    "# соединение сводной таблицы с информацией о пользователе"
   ]
  },
  {
   "cell_type": "code",
   "execution_count": 21,
   "id": "85b74dbf",
   "metadata": {},
   "outputs": [
    {
     "data": {
      "text/html": [
       "<div>\n",
       "<style scoped>\n",
       "    .dataframe tbody tr th:only-of-type {\n",
       "        vertical-align: middle;\n",
       "    }\n",
       "\n",
       "    .dataframe tbody tr th {\n",
       "        vertical-align: top;\n",
       "    }\n",
       "\n",
       "    .dataframe thead th {\n",
       "        text-align: right;\n",
       "    }\n",
       "</style>\n",
       "<table border=\"1\" class=\"dataframe\">\n",
       "  <thead>\n",
       "    <tr style=\"text-align: right;\">\n",
       "      <th></th>\n",
       "      <th>user_id</th>\n",
       "      <th>month</th>\n",
       "      <th>mb_month</th>\n",
       "      <th>gb_month</th>\n",
       "      <th>age</th>\n",
       "      <th>churn_date</th>\n",
       "      <th>city</th>\n",
       "      <th>first_name</th>\n",
       "      <th>last_name</th>\n",
       "      <th>reg_date</th>\n",
       "      <th>tariff</th>\n",
       "    </tr>\n",
       "  </thead>\n",
       "  <tbody>\n",
       "    <tr>\n",
       "      <th>0</th>\n",
       "      <td>1000</td>\n",
       "      <td>5</td>\n",
       "      <td>2253.49</td>\n",
       "      <td>2.200674</td>\n",
       "      <td>52</td>\n",
       "      <td>NaN</td>\n",
       "      <td>Краснодар</td>\n",
       "      <td>Рафаил</td>\n",
       "      <td>Верещагин</td>\n",
       "      <td>2018-05-25</td>\n",
       "      <td>ultra</td>\n",
       "    </tr>\n",
       "    <tr>\n",
       "      <th>1</th>\n",
       "      <td>1000</td>\n",
       "      <td>6</td>\n",
       "      <td>23233.77</td>\n",
       "      <td>22.689229</td>\n",
       "      <td>52</td>\n",
       "      <td>NaN</td>\n",
       "      <td>Краснодар</td>\n",
       "      <td>Рафаил</td>\n",
       "      <td>Верещагин</td>\n",
       "      <td>2018-05-25</td>\n",
       "      <td>ultra</td>\n",
       "    </tr>\n",
       "    <tr>\n",
       "      <th>2</th>\n",
       "      <td>1000</td>\n",
       "      <td>7</td>\n",
       "      <td>14003.64</td>\n",
       "      <td>13.675430</td>\n",
       "      <td>52</td>\n",
       "      <td>NaN</td>\n",
       "      <td>Краснодар</td>\n",
       "      <td>Рафаил</td>\n",
       "      <td>Верещагин</td>\n",
       "      <td>2018-05-25</td>\n",
       "      <td>ultra</td>\n",
       "    </tr>\n",
       "    <tr>\n",
       "      <th>3</th>\n",
       "      <td>1000</td>\n",
       "      <td>8</td>\n",
       "      <td>14055.93</td>\n",
       "      <td>13.726494</td>\n",
       "      <td>52</td>\n",
       "      <td>NaN</td>\n",
       "      <td>Краснодар</td>\n",
       "      <td>Рафаил</td>\n",
       "      <td>Верещагин</td>\n",
       "      <td>2018-05-25</td>\n",
       "      <td>ultra</td>\n",
       "    </tr>\n",
       "    <tr>\n",
       "      <th>4</th>\n",
       "      <td>1000</td>\n",
       "      <td>9</td>\n",
       "      <td>14568.91</td>\n",
       "      <td>14.227451</td>\n",
       "      <td>52</td>\n",
       "      <td>NaN</td>\n",
       "      <td>Краснодар</td>\n",
       "      <td>Рафаил</td>\n",
       "      <td>Верещагин</td>\n",
       "      <td>2018-05-25</td>\n",
       "      <td>ultra</td>\n",
       "    </tr>\n",
       "  </tbody>\n",
       "</table>\n",
       "</div>"
      ],
      "text/plain": [
       "   user_id  month  mb_month   gb_month  age churn_date       city first_name  \\\n",
       "0     1000      5   2253.49   2.200674   52        NaN  Краснодар     Рафаил   \n",
       "1     1000      6  23233.77  22.689229   52        NaN  Краснодар     Рафаил   \n",
       "2     1000      7  14003.64  13.675430   52        NaN  Краснодар     Рафаил   \n",
       "3     1000      8  14055.93  13.726494   52        NaN  Краснодар     Рафаил   \n",
       "4     1000      9  14568.91  14.227451   52        NaN  Краснодар     Рафаил   \n",
       "\n",
       "   last_name    reg_date tariff  \n",
       "0  Верещагин  2018-05-25  ultra  \n",
       "1  Верещагин  2018-05-25  ultra  \n",
       "2  Верещагин  2018-05-25  ultra  \n",
       "3  Верещагин  2018-05-25  ultra  \n",
       "4  Верещагин  2018-05-25  ultra  "
      ]
     },
     "execution_count": 21,
     "metadata": {},
     "output_type": "execute_result"
    }
   ],
   "source": [
    "data_internet_user.head()"
   ]
  },
  {
   "cell_type": "code",
   "execution_count": 22,
   "id": "20cc7bbb",
   "metadata": {},
   "outputs": [
    {
     "data": {
      "text/html": [
       "<div>\n",
       "<style scoped>\n",
       "    .dataframe tbody tr th:only-of-type {\n",
       "        vertical-align: middle;\n",
       "    }\n",
       "\n",
       "    .dataframe tbody tr th {\n",
       "        vertical-align: top;\n",
       "    }\n",
       "\n",
       "    .dataframe thead th {\n",
       "        text-align: right;\n",
       "    }\n",
       "</style>\n",
       "<table border=\"1\" class=\"dataframe\">\n",
       "  <thead>\n",
       "    <tr style=\"text-align: right;\">\n",
       "      <th></th>\n",
       "      <th>messages_included</th>\n",
       "      <th>mb_per_month_included</th>\n",
       "      <th>minutes_included</th>\n",
       "      <th>rub_monthly_fee</th>\n",
       "      <th>rub_per_gb</th>\n",
       "      <th>rub_per_message</th>\n",
       "      <th>rub_per_minute</th>\n",
       "      <th>tariff_name</th>\n",
       "    </tr>\n",
       "  </thead>\n",
       "  <tbody>\n",
       "    <tr>\n",
       "      <th>0</th>\n",
       "      <td>50</td>\n",
       "      <td>15360</td>\n",
       "      <td>500</td>\n",
       "      <td>550</td>\n",
       "      <td>200</td>\n",
       "      <td>3</td>\n",
       "      <td>3</td>\n",
       "      <td>smart</td>\n",
       "    </tr>\n",
       "    <tr>\n",
       "      <th>1</th>\n",
       "      <td>1000</td>\n",
       "      <td>30720</td>\n",
       "      <td>3000</td>\n",
       "      <td>1950</td>\n",
       "      <td>150</td>\n",
       "      <td>1</td>\n",
       "      <td>1</td>\n",
       "      <td>ultra</td>\n",
       "    </tr>\n",
       "  </tbody>\n",
       "</table>\n",
       "</div>"
      ],
      "text/plain": [
       "   messages_included  mb_per_month_included  minutes_included  \\\n",
       "0                 50                  15360               500   \n",
       "1               1000                  30720              3000   \n",
       "\n",
       "   rub_monthly_fee  rub_per_gb  rub_per_message  rub_per_minute tariff_name  \n",
       "0              550         200                3               3       smart  \n",
       "1             1950         150                1               1       ultra  "
      ]
     },
     "execution_count": 22,
     "metadata": {},
     "output_type": "execute_result"
    }
   ],
   "source": [
    "data_tariffs "
   ]
  },
  {
   "cell_type": "markdown",
   "id": "ee37717e",
   "metadata": {},
   "source": [
    "### Подсчет затрат пользователя на доп звонки, смс и интернет"
   ]
  },
  {
   "cell_type": "code",
   "execution_count": 23,
   "id": "c00f570c",
   "metadata": {},
   "outputs": [],
   "source": [
    "columns_calls = []\n",
    "for a in range(len(data_calls_user['user_id'])):\n",
    "    if data_calls_user['tariff'][a] == 'smart' and data_calls_user['duration_sum_month'][a]- 500 > 0 :\n",
    "        columns_calls.append(round(data_calls_user['duration_sum_month'][a]- 500) * 3)\n",
    "    elif data_calls_user['tariff'][a] == 'smart' and data_calls_user['duration_sum_month'][a]- 500 <= 0 :\n",
    "           columns_calls.append(0)\n",
    "    elif data_calls_user['tariff'][a] == 'ultra' and data_calls_user['duration_sum_month'][a]- 3000 > 0 :\n",
    "        columns_calls.append(round(data_calls_user['duration_sum_month'][a]- 3000) * 1)\n",
    "    elif data_calls_user['tariff'][a] == 'ultra' and data_calls_user['duration_sum_month'][a]- 3000 <= 0 :\n",
    "           columns_calls.append(0)\n",
    "# подсчет затрат пользователя на доп звонки"
   ]
  },
  {
   "cell_type": "code",
   "execution_count": 24,
   "id": "38187523",
   "metadata": {},
   "outputs": [],
   "source": [
    "data_calls_user['calls_money'] = columns_calls\n",
    "#добавление столбца с затратами на доп звонки"
   ]
  },
  {
   "cell_type": "code",
   "execution_count": 25,
   "id": "2df9cb7f",
   "metadata": {},
   "outputs": [
    {
     "data": {
      "text/html": [
       "<div>\n",
       "<style scoped>\n",
       "    .dataframe tbody tr th:only-of-type {\n",
       "        vertical-align: middle;\n",
       "    }\n",
       "\n",
       "    .dataframe tbody tr th {\n",
       "        vertical-align: top;\n",
       "    }\n",
       "\n",
       "    .dataframe thead th {\n",
       "        text-align: right;\n",
       "    }\n",
       "</style>\n",
       "<table border=\"1\" class=\"dataframe\">\n",
       "  <thead>\n",
       "    <tr style=\"text-align: right;\">\n",
       "      <th></th>\n",
       "      <th>user_id</th>\n",
       "      <th>month</th>\n",
       "      <th>duration_count_month</th>\n",
       "      <th>duration_sum_month</th>\n",
       "      <th>age</th>\n",
       "      <th>churn_date</th>\n",
       "      <th>city</th>\n",
       "      <th>first_name</th>\n",
       "      <th>last_name</th>\n",
       "      <th>reg_date</th>\n",
       "      <th>tariff</th>\n",
       "      <th>calls_money</th>\n",
       "    </tr>\n",
       "  </thead>\n",
       "  <tbody>\n",
       "    <tr>\n",
       "      <th>0</th>\n",
       "      <td>1000</td>\n",
       "      <td>5</td>\n",
       "      <td>22</td>\n",
       "      <td>159.0</td>\n",
       "      <td>52</td>\n",
       "      <td>NaN</td>\n",
       "      <td>Краснодар</td>\n",
       "      <td>Рафаил</td>\n",
       "      <td>Верещагин</td>\n",
       "      <td>2018-05-25</td>\n",
       "      <td>ultra</td>\n",
       "      <td>0</td>\n",
       "    </tr>\n",
       "    <tr>\n",
       "      <th>1</th>\n",
       "      <td>1000</td>\n",
       "      <td>6</td>\n",
       "      <td>43</td>\n",
       "      <td>172.0</td>\n",
       "      <td>52</td>\n",
       "      <td>NaN</td>\n",
       "      <td>Краснодар</td>\n",
       "      <td>Рафаил</td>\n",
       "      <td>Верещагин</td>\n",
       "      <td>2018-05-25</td>\n",
       "      <td>ultra</td>\n",
       "      <td>0</td>\n",
       "    </tr>\n",
       "    <tr>\n",
       "      <th>2</th>\n",
       "      <td>1000</td>\n",
       "      <td>7</td>\n",
       "      <td>47</td>\n",
       "      <td>340.0</td>\n",
       "      <td>52</td>\n",
       "      <td>NaN</td>\n",
       "      <td>Краснодар</td>\n",
       "      <td>Рафаил</td>\n",
       "      <td>Верещагин</td>\n",
       "      <td>2018-05-25</td>\n",
       "      <td>ultra</td>\n",
       "      <td>0</td>\n",
       "    </tr>\n",
       "    <tr>\n",
       "      <th>3</th>\n",
       "      <td>1000</td>\n",
       "      <td>8</td>\n",
       "      <td>52</td>\n",
       "      <td>409.0</td>\n",
       "      <td>52</td>\n",
       "      <td>NaN</td>\n",
       "      <td>Краснодар</td>\n",
       "      <td>Рафаил</td>\n",
       "      <td>Верещагин</td>\n",
       "      <td>2018-05-25</td>\n",
       "      <td>ultra</td>\n",
       "      <td>0</td>\n",
       "    </tr>\n",
       "    <tr>\n",
       "      <th>4</th>\n",
       "      <td>1000</td>\n",
       "      <td>9</td>\n",
       "      <td>58</td>\n",
       "      <td>467.0</td>\n",
       "      <td>52</td>\n",
       "      <td>NaN</td>\n",
       "      <td>Краснодар</td>\n",
       "      <td>Рафаил</td>\n",
       "      <td>Верещагин</td>\n",
       "      <td>2018-05-25</td>\n",
       "      <td>ultra</td>\n",
       "      <td>0</td>\n",
       "    </tr>\n",
       "    <tr>\n",
       "      <th>5</th>\n",
       "      <td>1000</td>\n",
       "      <td>10</td>\n",
       "      <td>57</td>\n",
       "      <td>350.0</td>\n",
       "      <td>52</td>\n",
       "      <td>NaN</td>\n",
       "      <td>Краснодар</td>\n",
       "      <td>Рафаил</td>\n",
       "      <td>Верещагин</td>\n",
       "      <td>2018-05-25</td>\n",
       "      <td>ultra</td>\n",
       "      <td>0</td>\n",
       "    </tr>\n",
       "    <tr>\n",
       "      <th>6</th>\n",
       "      <td>1000</td>\n",
       "      <td>11</td>\n",
       "      <td>43</td>\n",
       "      <td>338.0</td>\n",
       "      <td>52</td>\n",
       "      <td>NaN</td>\n",
       "      <td>Краснодар</td>\n",
       "      <td>Рафаил</td>\n",
       "      <td>Верещагин</td>\n",
       "      <td>2018-05-25</td>\n",
       "      <td>ultra</td>\n",
       "      <td>0</td>\n",
       "    </tr>\n",
       "    <tr>\n",
       "      <th>7</th>\n",
       "      <td>1000</td>\n",
       "      <td>12</td>\n",
       "      <td>46</td>\n",
       "      <td>333.0</td>\n",
       "      <td>52</td>\n",
       "      <td>NaN</td>\n",
       "      <td>Краснодар</td>\n",
       "      <td>Рафаил</td>\n",
       "      <td>Верещагин</td>\n",
       "      <td>2018-05-25</td>\n",
       "      <td>ultra</td>\n",
       "      <td>0</td>\n",
       "    </tr>\n",
       "    <tr>\n",
       "      <th>8</th>\n",
       "      <td>1001</td>\n",
       "      <td>11</td>\n",
       "      <td>59</td>\n",
       "      <td>430.0</td>\n",
       "      <td>41</td>\n",
       "      <td>NaN</td>\n",
       "      <td>Москва</td>\n",
       "      <td>Иван</td>\n",
       "      <td>Ежов</td>\n",
       "      <td>2018-11-01</td>\n",
       "      <td>smart</td>\n",
       "      <td>0</td>\n",
       "    </tr>\n",
       "    <tr>\n",
       "      <th>9</th>\n",
       "      <td>1001</td>\n",
       "      <td>12</td>\n",
       "      <td>63</td>\n",
       "      <td>414.0</td>\n",
       "      <td>41</td>\n",
       "      <td>NaN</td>\n",
       "      <td>Москва</td>\n",
       "      <td>Иван</td>\n",
       "      <td>Ежов</td>\n",
       "      <td>2018-11-01</td>\n",
       "      <td>smart</td>\n",
       "      <td>0</td>\n",
       "    </tr>\n",
       "  </tbody>\n",
       "</table>\n",
       "</div>"
      ],
      "text/plain": [
       "   user_id  month  duration_count_month  duration_sum_month  age churn_date  \\\n",
       "0     1000      5                    22               159.0   52        NaN   \n",
       "1     1000      6                    43               172.0   52        NaN   \n",
       "2     1000      7                    47               340.0   52        NaN   \n",
       "3     1000      8                    52               409.0   52        NaN   \n",
       "4     1000      9                    58               467.0   52        NaN   \n",
       "5     1000     10                    57               350.0   52        NaN   \n",
       "6     1000     11                    43               338.0   52        NaN   \n",
       "7     1000     12                    46               333.0   52        NaN   \n",
       "8     1001     11                    59               430.0   41        NaN   \n",
       "9     1001     12                    63               414.0   41        NaN   \n",
       "\n",
       "        city first_name  last_name    reg_date tariff  calls_money  \n",
       "0  Краснодар     Рафаил  Верещагин  2018-05-25  ultra            0  \n",
       "1  Краснодар     Рафаил  Верещагин  2018-05-25  ultra            0  \n",
       "2  Краснодар     Рафаил  Верещагин  2018-05-25  ultra            0  \n",
       "3  Краснодар     Рафаил  Верещагин  2018-05-25  ultra            0  \n",
       "4  Краснодар     Рафаил  Верещагин  2018-05-25  ultra            0  \n",
       "5  Краснодар     Рафаил  Верещагин  2018-05-25  ultra            0  \n",
       "6  Краснодар     Рафаил  Верещагин  2018-05-25  ultra            0  \n",
       "7  Краснодар     Рафаил  Верещагин  2018-05-25  ultra            0  \n",
       "8     Москва       Иван       Ежов  2018-11-01  smart            0  \n",
       "9     Москва       Иван       Ежов  2018-11-01  smart            0  "
      ]
     },
     "execution_count": 25,
     "metadata": {},
     "output_type": "execute_result"
    }
   ],
   "source": [
    "data_calls_user.head(10)"
   ]
  },
  {
   "cell_type": "code",
   "execution_count": 26,
   "id": "3fcab1a5",
   "metadata": {},
   "outputs": [],
   "source": [
    "columns_messages = []\n",
    "for a in range(len(data_messages_user['user_id'])):\n",
    "    if data_messages_user['tariff'][a] == 'smart' and data_messages_user['sms_count_month'][a]- 50 > 0 :\n",
    "        columns_messages.append(round(data_messages_user['sms_count_month'][a]- 50) * 3)\n",
    "    elif data_messages_user['tariff'][a] == 'smart' and data_messages_user['sms_count_month'][a]- 50 <= 0 :\n",
    "           columns_messages.append(0)\n",
    "    elif data_messages_user['tariff'][a] == 'ultra' and data_messages_user['sms_count_month'][a]- 1000 > 0 :\n",
    "        columns_messages.append(round(data_messages_user['sms_count_month'][a]- 1000) * 1)\n",
    "    elif data_messages_user['tariff'][a] == 'ultra' and data_messages_user['sms_count_month'][a]- 1000 <= 0 :\n",
    "           columns_messages.append(0)\n",
    "# подсчет затрат пользователя на доп смс"
   ]
  },
  {
   "cell_type": "code",
   "execution_count": 27,
   "id": "a4f17f4e",
   "metadata": {},
   "outputs": [],
   "source": [
    "data_messages_user['messages_money'] = columns_messages\n",
    "#добавление столбца с затратами на доп смс"
   ]
  },
  {
   "cell_type": "code",
   "execution_count": 28,
   "id": "38abf397",
   "metadata": {},
   "outputs": [
    {
     "data": {
      "text/html": [
       "<div>\n",
       "<style scoped>\n",
       "    .dataframe tbody tr th:only-of-type {\n",
       "        vertical-align: middle;\n",
       "    }\n",
       "\n",
       "    .dataframe tbody tr th {\n",
       "        vertical-align: top;\n",
       "    }\n",
       "\n",
       "    .dataframe thead th {\n",
       "        text-align: right;\n",
       "    }\n",
       "</style>\n",
       "<table border=\"1\" class=\"dataframe\">\n",
       "  <thead>\n",
       "    <tr style=\"text-align: right;\">\n",
       "      <th></th>\n",
       "      <th>user_id</th>\n",
       "      <th>month</th>\n",
       "      <th>sms_count_month</th>\n",
       "      <th>age</th>\n",
       "      <th>churn_date</th>\n",
       "      <th>city</th>\n",
       "      <th>first_name</th>\n",
       "      <th>last_name</th>\n",
       "      <th>reg_date</th>\n",
       "      <th>tariff</th>\n",
       "      <th>messages_money</th>\n",
       "    </tr>\n",
       "  </thead>\n",
       "  <tbody>\n",
       "    <tr>\n",
       "      <th>0</th>\n",
       "      <td>1000</td>\n",
       "      <td>5</td>\n",
       "      <td>22</td>\n",
       "      <td>52</td>\n",
       "      <td>NaN</td>\n",
       "      <td>Краснодар</td>\n",
       "      <td>Рафаил</td>\n",
       "      <td>Верещагин</td>\n",
       "      <td>2018-05-25</td>\n",
       "      <td>ultra</td>\n",
       "      <td>0</td>\n",
       "    </tr>\n",
       "    <tr>\n",
       "      <th>1</th>\n",
       "      <td>1000</td>\n",
       "      <td>6</td>\n",
       "      <td>60</td>\n",
       "      <td>52</td>\n",
       "      <td>NaN</td>\n",
       "      <td>Краснодар</td>\n",
       "      <td>Рафаил</td>\n",
       "      <td>Верещагин</td>\n",
       "      <td>2018-05-25</td>\n",
       "      <td>ultra</td>\n",
       "      <td>0</td>\n",
       "    </tr>\n",
       "    <tr>\n",
       "      <th>2</th>\n",
       "      <td>1000</td>\n",
       "      <td>7</td>\n",
       "      <td>75</td>\n",
       "      <td>52</td>\n",
       "      <td>NaN</td>\n",
       "      <td>Краснодар</td>\n",
       "      <td>Рафаил</td>\n",
       "      <td>Верещагин</td>\n",
       "      <td>2018-05-25</td>\n",
       "      <td>ultra</td>\n",
       "      <td>0</td>\n",
       "    </tr>\n",
       "    <tr>\n",
       "      <th>3</th>\n",
       "      <td>1000</td>\n",
       "      <td>8</td>\n",
       "      <td>81</td>\n",
       "      <td>52</td>\n",
       "      <td>NaN</td>\n",
       "      <td>Краснодар</td>\n",
       "      <td>Рафаил</td>\n",
       "      <td>Верещагин</td>\n",
       "      <td>2018-05-25</td>\n",
       "      <td>ultra</td>\n",
       "      <td>0</td>\n",
       "    </tr>\n",
       "    <tr>\n",
       "      <th>4</th>\n",
       "      <td>1000</td>\n",
       "      <td>9</td>\n",
       "      <td>57</td>\n",
       "      <td>52</td>\n",
       "      <td>NaN</td>\n",
       "      <td>Краснодар</td>\n",
       "      <td>Рафаил</td>\n",
       "      <td>Верещагин</td>\n",
       "      <td>2018-05-25</td>\n",
       "      <td>ultra</td>\n",
       "      <td>0</td>\n",
       "    </tr>\n",
       "    <tr>\n",
       "      <th>5</th>\n",
       "      <td>1000</td>\n",
       "      <td>10</td>\n",
       "      <td>73</td>\n",
       "      <td>52</td>\n",
       "      <td>NaN</td>\n",
       "      <td>Краснодар</td>\n",
       "      <td>Рафаил</td>\n",
       "      <td>Верещагин</td>\n",
       "      <td>2018-05-25</td>\n",
       "      <td>ultra</td>\n",
       "      <td>0</td>\n",
       "    </tr>\n",
       "    <tr>\n",
       "      <th>6</th>\n",
       "      <td>1000</td>\n",
       "      <td>11</td>\n",
       "      <td>58</td>\n",
       "      <td>52</td>\n",
       "      <td>NaN</td>\n",
       "      <td>Краснодар</td>\n",
       "      <td>Рафаил</td>\n",
       "      <td>Верещагин</td>\n",
       "      <td>2018-05-25</td>\n",
       "      <td>ultra</td>\n",
       "      <td>0</td>\n",
       "    </tr>\n",
       "    <tr>\n",
       "      <th>7</th>\n",
       "      <td>1000</td>\n",
       "      <td>12</td>\n",
       "      <td>70</td>\n",
       "      <td>52</td>\n",
       "      <td>NaN</td>\n",
       "      <td>Краснодар</td>\n",
       "      <td>Рафаил</td>\n",
       "      <td>Верещагин</td>\n",
       "      <td>2018-05-25</td>\n",
       "      <td>ultra</td>\n",
       "      <td>0</td>\n",
       "    </tr>\n",
       "    <tr>\n",
       "      <th>8</th>\n",
       "      <td>1002</td>\n",
       "      <td>6</td>\n",
       "      <td>4</td>\n",
       "      <td>59</td>\n",
       "      <td>NaN</td>\n",
       "      <td>Стерлитамак</td>\n",
       "      <td>Евгений</td>\n",
       "      <td>Абрамович</td>\n",
       "      <td>2018-06-17</td>\n",
       "      <td>smart</td>\n",
       "      <td>0</td>\n",
       "    </tr>\n",
       "    <tr>\n",
       "      <th>9</th>\n",
       "      <td>1002</td>\n",
       "      <td>7</td>\n",
       "      <td>11</td>\n",
       "      <td>59</td>\n",
       "      <td>NaN</td>\n",
       "      <td>Стерлитамак</td>\n",
       "      <td>Евгений</td>\n",
       "      <td>Абрамович</td>\n",
       "      <td>2018-06-17</td>\n",
       "      <td>smart</td>\n",
       "      <td>0</td>\n",
       "    </tr>\n",
       "  </tbody>\n",
       "</table>\n",
       "</div>"
      ],
      "text/plain": [
       "   user_id  month  sms_count_month  age churn_date         city first_name  \\\n",
       "0     1000      5               22   52        NaN    Краснодар     Рафаил   \n",
       "1     1000      6               60   52        NaN    Краснодар     Рафаил   \n",
       "2     1000      7               75   52        NaN    Краснодар     Рафаил   \n",
       "3     1000      8               81   52        NaN    Краснодар     Рафаил   \n",
       "4     1000      9               57   52        NaN    Краснодар     Рафаил   \n",
       "5     1000     10               73   52        NaN    Краснодар     Рафаил   \n",
       "6     1000     11               58   52        NaN    Краснодар     Рафаил   \n",
       "7     1000     12               70   52        NaN    Краснодар     Рафаил   \n",
       "8     1002      6                4   59        NaN  Стерлитамак    Евгений   \n",
       "9     1002      7               11   59        NaN  Стерлитамак    Евгений   \n",
       "\n",
       "   last_name    reg_date tariff  messages_money  \n",
       "0  Верещагин  2018-05-25  ultra               0  \n",
       "1  Верещагин  2018-05-25  ultra               0  \n",
       "2  Верещагин  2018-05-25  ultra               0  \n",
       "3  Верещагин  2018-05-25  ultra               0  \n",
       "4  Верещагин  2018-05-25  ultra               0  \n",
       "5  Верещагин  2018-05-25  ultra               0  \n",
       "6  Верещагин  2018-05-25  ultra               0  \n",
       "7  Верещагин  2018-05-25  ultra               0  \n",
       "8  Абрамович  2018-06-17  smart               0  \n",
       "9  Абрамович  2018-06-17  smart               0  "
      ]
     },
     "execution_count": 28,
     "metadata": {},
     "output_type": "execute_result"
    }
   ],
   "source": [
    "data_messages_user.head(10)"
   ]
  },
  {
   "cell_type": "code",
   "execution_count": 29,
   "id": "885728f7",
   "metadata": {},
   "outputs": [],
   "source": [
    "columns_internet = []\n",
    "for a in range(len(data_internet_user['user_id'])):\n",
    "    if data_internet_user['tariff'][a] == 'smart' and data_internet_user['gb_month'][a]- (15360/1024)> 0 :\n",
    "        columns_internet.append(round(data_internet_user['gb_month'][a]- (15360/1024)) * 200)\n",
    "    elif data_internet_user['tariff'][a] == 'smart' and data_internet_user['gb_month'][a]- (15360/1024) < 0 :\n",
    "           columns_internet.append(0)\n",
    "    elif data_internet_user['tariff'][a] == 'ultra' and data_internet_user['gb_month'][a]- (30720/1024)> 0 :\n",
    "        columns_internet.append(round(data_internet_user['gb_month'][a]- (30720/1024)) * 200)\n",
    "    elif data_internet_user['tariff'][a] == 'ultra' and data_internet_user['gb_month'][a]- (30720/1024) < 0 :\n",
    "           columns_internet.append(0)\n",
    " #   # подсчет затрат пользователя на доп интернет "
   ]
  },
  {
   "cell_type": "code",
   "execution_count": 30,
   "id": "5b476c75",
   "metadata": {},
   "outputs": [],
   "source": [
    "data_internet_user['internet_money'] = columns_internet\n",
    "#добавление столбца с затратами на доп интернет"
   ]
  },
  {
   "cell_type": "code",
   "execution_count": 31,
   "id": "f966f4cb",
   "metadata": {},
   "outputs": [
    {
     "data": {
      "text/html": [
       "<div>\n",
       "<style scoped>\n",
       "    .dataframe tbody tr th:only-of-type {\n",
       "        vertical-align: middle;\n",
       "    }\n",
       "\n",
       "    .dataframe tbody tr th {\n",
       "        vertical-align: top;\n",
       "    }\n",
       "\n",
       "    .dataframe thead th {\n",
       "        text-align: right;\n",
       "    }\n",
       "</style>\n",
       "<table border=\"1\" class=\"dataframe\">\n",
       "  <thead>\n",
       "    <tr style=\"text-align: right;\">\n",
       "      <th></th>\n",
       "      <th>user_id</th>\n",
       "      <th>month</th>\n",
       "      <th>mb_month</th>\n",
       "      <th>gb_month</th>\n",
       "      <th>age</th>\n",
       "      <th>churn_date</th>\n",
       "      <th>city</th>\n",
       "      <th>first_name</th>\n",
       "      <th>last_name</th>\n",
       "      <th>reg_date</th>\n",
       "      <th>tariff</th>\n",
       "      <th>internet_money</th>\n",
       "    </tr>\n",
       "  </thead>\n",
       "  <tbody>\n",
       "    <tr>\n",
       "      <th>0</th>\n",
       "      <td>1000</td>\n",
       "      <td>5</td>\n",
       "      <td>2253.49</td>\n",
       "      <td>2.200674</td>\n",
       "      <td>52</td>\n",
       "      <td>NaN</td>\n",
       "      <td>Краснодар</td>\n",
       "      <td>Рафаил</td>\n",
       "      <td>Верещагин</td>\n",
       "      <td>2018-05-25</td>\n",
       "      <td>ultra</td>\n",
       "      <td>0</td>\n",
       "    </tr>\n",
       "    <tr>\n",
       "      <th>1</th>\n",
       "      <td>1000</td>\n",
       "      <td>6</td>\n",
       "      <td>23233.77</td>\n",
       "      <td>22.689229</td>\n",
       "      <td>52</td>\n",
       "      <td>NaN</td>\n",
       "      <td>Краснодар</td>\n",
       "      <td>Рафаил</td>\n",
       "      <td>Верещагин</td>\n",
       "      <td>2018-05-25</td>\n",
       "      <td>ultra</td>\n",
       "      <td>0</td>\n",
       "    </tr>\n",
       "    <tr>\n",
       "      <th>2</th>\n",
       "      <td>1000</td>\n",
       "      <td>7</td>\n",
       "      <td>14003.64</td>\n",
       "      <td>13.675430</td>\n",
       "      <td>52</td>\n",
       "      <td>NaN</td>\n",
       "      <td>Краснодар</td>\n",
       "      <td>Рафаил</td>\n",
       "      <td>Верещагин</td>\n",
       "      <td>2018-05-25</td>\n",
       "      <td>ultra</td>\n",
       "      <td>0</td>\n",
       "    </tr>\n",
       "    <tr>\n",
       "      <th>3</th>\n",
       "      <td>1000</td>\n",
       "      <td>8</td>\n",
       "      <td>14055.93</td>\n",
       "      <td>13.726494</td>\n",
       "      <td>52</td>\n",
       "      <td>NaN</td>\n",
       "      <td>Краснодар</td>\n",
       "      <td>Рафаил</td>\n",
       "      <td>Верещагин</td>\n",
       "      <td>2018-05-25</td>\n",
       "      <td>ultra</td>\n",
       "      <td>0</td>\n",
       "    </tr>\n",
       "    <tr>\n",
       "      <th>4</th>\n",
       "      <td>1000</td>\n",
       "      <td>9</td>\n",
       "      <td>14568.91</td>\n",
       "      <td>14.227451</td>\n",
       "      <td>52</td>\n",
       "      <td>NaN</td>\n",
       "      <td>Краснодар</td>\n",
       "      <td>Рафаил</td>\n",
       "      <td>Верещагин</td>\n",
       "      <td>2018-05-25</td>\n",
       "      <td>ultra</td>\n",
       "      <td>0</td>\n",
       "    </tr>\n",
       "    <tr>\n",
       "      <th>5</th>\n",
       "      <td>1000</td>\n",
       "      <td>10</td>\n",
       "      <td>14702.49</td>\n",
       "      <td>14.357900</td>\n",
       "      <td>52</td>\n",
       "      <td>NaN</td>\n",
       "      <td>Краснодар</td>\n",
       "      <td>Рафаил</td>\n",
       "      <td>Верещагин</td>\n",
       "      <td>2018-05-25</td>\n",
       "      <td>ultra</td>\n",
       "      <td>0</td>\n",
       "    </tr>\n",
       "    <tr>\n",
       "      <th>6</th>\n",
       "      <td>1000</td>\n",
       "      <td>11</td>\n",
       "      <td>14756.47</td>\n",
       "      <td>14.410615</td>\n",
       "      <td>52</td>\n",
       "      <td>NaN</td>\n",
       "      <td>Краснодар</td>\n",
       "      <td>Рафаил</td>\n",
       "      <td>Верещагин</td>\n",
       "      <td>2018-05-25</td>\n",
       "      <td>ultra</td>\n",
       "      <td>0</td>\n",
       "    </tr>\n",
       "    <tr>\n",
       "      <th>7</th>\n",
       "      <td>1000</td>\n",
       "      <td>12</td>\n",
       "      <td>9817.61</td>\n",
       "      <td>9.587510</td>\n",
       "      <td>52</td>\n",
       "      <td>NaN</td>\n",
       "      <td>Краснодар</td>\n",
       "      <td>Рафаил</td>\n",
       "      <td>Верещагин</td>\n",
       "      <td>2018-05-25</td>\n",
       "      <td>ultra</td>\n",
       "      <td>0</td>\n",
       "    </tr>\n",
       "    <tr>\n",
       "      <th>8</th>\n",
       "      <td>1001</td>\n",
       "      <td>11</td>\n",
       "      <td>18429.34</td>\n",
       "      <td>17.997402</td>\n",
       "      <td>41</td>\n",
       "      <td>NaN</td>\n",
       "      <td>Москва</td>\n",
       "      <td>Иван</td>\n",
       "      <td>Ежов</td>\n",
       "      <td>2018-11-01</td>\n",
       "      <td>smart</td>\n",
       "      <td>600</td>\n",
       "    </tr>\n",
       "    <tr>\n",
       "      <th>9</th>\n",
       "      <td>1001</td>\n",
       "      <td>12</td>\n",
       "      <td>14036.66</td>\n",
       "      <td>13.707676</td>\n",
       "      <td>41</td>\n",
       "      <td>NaN</td>\n",
       "      <td>Москва</td>\n",
       "      <td>Иван</td>\n",
       "      <td>Ежов</td>\n",
       "      <td>2018-11-01</td>\n",
       "      <td>smart</td>\n",
       "      <td>0</td>\n",
       "    </tr>\n",
       "  </tbody>\n",
       "</table>\n",
       "</div>"
      ],
      "text/plain": [
       "   user_id  month  mb_month   gb_month  age churn_date       city first_name  \\\n",
       "0     1000      5   2253.49   2.200674   52        NaN  Краснодар     Рафаил   \n",
       "1     1000      6  23233.77  22.689229   52        NaN  Краснодар     Рафаил   \n",
       "2     1000      7  14003.64  13.675430   52        NaN  Краснодар     Рафаил   \n",
       "3     1000      8  14055.93  13.726494   52        NaN  Краснодар     Рафаил   \n",
       "4     1000      9  14568.91  14.227451   52        NaN  Краснодар     Рафаил   \n",
       "5     1000     10  14702.49  14.357900   52        NaN  Краснодар     Рафаил   \n",
       "6     1000     11  14756.47  14.410615   52        NaN  Краснодар     Рафаил   \n",
       "7     1000     12   9817.61   9.587510   52        NaN  Краснодар     Рафаил   \n",
       "8     1001     11  18429.34  17.997402   41        NaN     Москва       Иван   \n",
       "9     1001     12  14036.66  13.707676   41        NaN     Москва       Иван   \n",
       "\n",
       "   last_name    reg_date tariff  internet_money  \n",
       "0  Верещагин  2018-05-25  ultra               0  \n",
       "1  Верещагин  2018-05-25  ultra               0  \n",
       "2  Верещагин  2018-05-25  ultra               0  \n",
       "3  Верещагин  2018-05-25  ultra               0  \n",
       "4  Верещагин  2018-05-25  ultra               0  \n",
       "5  Верещагин  2018-05-25  ultra               0  \n",
       "6  Верещагин  2018-05-25  ultra               0  \n",
       "7  Верещагин  2018-05-25  ultra               0  \n",
       "8       Ежов  2018-11-01  smart             600  \n",
       "9       Ежов  2018-11-01  smart               0  "
      ]
     },
     "execution_count": 31,
     "metadata": {},
     "output_type": "execute_result"
    }
   ],
   "source": [
    "data_internet_user.head(10)"
   ]
  },
  {
   "cell_type": "markdown",
   "id": "ca1e47cf",
   "metadata": {},
   "source": [
    "### Объединение таблиц и удаление лишних столбцов"
   ]
  },
  {
   "cell_type": "code",
   "execution_count": 32,
   "id": "402ab577",
   "metadata": {},
   "outputs": [],
   "source": [
    "data_all = data_calls_user.merge(data_messages_user, on=['user_id','month'], how='outer')\n",
    "data_all = data_all.merge(data_internet_user, on=['user_id','month'], how='outer')\n",
    "# объединение таблиц"
   ]
  },
  {
   "cell_type": "code",
   "execution_count": 33,
   "id": "73aeb6ab",
   "metadata": {
    "scrolled": true
   },
   "outputs": [
    {
     "data": {
      "text/html": [
       "<div>\n",
       "<style scoped>\n",
       "    .dataframe tbody tr th:only-of-type {\n",
       "        vertical-align: middle;\n",
       "    }\n",
       "\n",
       "    .dataframe tbody tr th {\n",
       "        vertical-align: top;\n",
       "    }\n",
       "\n",
       "    .dataframe thead th {\n",
       "        text-align: right;\n",
       "    }\n",
       "</style>\n",
       "<table border=\"1\" class=\"dataframe\">\n",
       "  <thead>\n",
       "    <tr style=\"text-align: right;\">\n",
       "      <th></th>\n",
       "      <th>user_id</th>\n",
       "      <th>month</th>\n",
       "      <th>duration_count_month</th>\n",
       "      <th>duration_sum_month</th>\n",
       "      <th>age_x</th>\n",
       "      <th>churn_date_x</th>\n",
       "      <th>city_x</th>\n",
       "      <th>first_name_x</th>\n",
       "      <th>last_name_x</th>\n",
       "      <th>reg_date_x</th>\n",
       "      <th>...</th>\n",
       "      <th>mb_month</th>\n",
       "      <th>gb_month</th>\n",
       "      <th>age</th>\n",
       "      <th>churn_date</th>\n",
       "      <th>city</th>\n",
       "      <th>first_name</th>\n",
       "      <th>last_name</th>\n",
       "      <th>reg_date</th>\n",
       "      <th>tariff</th>\n",
       "      <th>internet_money</th>\n",
       "    </tr>\n",
       "  </thead>\n",
       "  <tbody>\n",
       "    <tr>\n",
       "      <th>0</th>\n",
       "      <td>1000</td>\n",
       "      <td>5</td>\n",
       "      <td>22.0</td>\n",
       "      <td>159.0</td>\n",
       "      <td>52.0</td>\n",
       "      <td>NaN</td>\n",
       "      <td>Краснодар</td>\n",
       "      <td>Рафаил</td>\n",
       "      <td>Верещагин</td>\n",
       "      <td>2018-05-25</td>\n",
       "      <td>...</td>\n",
       "      <td>2253.49</td>\n",
       "      <td>2.200674</td>\n",
       "      <td>52.0</td>\n",
       "      <td>NaN</td>\n",
       "      <td>Краснодар</td>\n",
       "      <td>Рафаил</td>\n",
       "      <td>Верещагин</td>\n",
       "      <td>2018-05-25</td>\n",
       "      <td>ultra</td>\n",
       "      <td>0.0</td>\n",
       "    </tr>\n",
       "    <tr>\n",
       "      <th>1</th>\n",
       "      <td>1000</td>\n",
       "      <td>6</td>\n",
       "      <td>43.0</td>\n",
       "      <td>172.0</td>\n",
       "      <td>52.0</td>\n",
       "      <td>NaN</td>\n",
       "      <td>Краснодар</td>\n",
       "      <td>Рафаил</td>\n",
       "      <td>Верещагин</td>\n",
       "      <td>2018-05-25</td>\n",
       "      <td>...</td>\n",
       "      <td>23233.77</td>\n",
       "      <td>22.689229</td>\n",
       "      <td>52.0</td>\n",
       "      <td>NaN</td>\n",
       "      <td>Краснодар</td>\n",
       "      <td>Рафаил</td>\n",
       "      <td>Верещагин</td>\n",
       "      <td>2018-05-25</td>\n",
       "      <td>ultra</td>\n",
       "      <td>0.0</td>\n",
       "    </tr>\n",
       "    <tr>\n",
       "      <th>2</th>\n",
       "      <td>1000</td>\n",
       "      <td>7</td>\n",
       "      <td>47.0</td>\n",
       "      <td>340.0</td>\n",
       "      <td>52.0</td>\n",
       "      <td>NaN</td>\n",
       "      <td>Краснодар</td>\n",
       "      <td>Рафаил</td>\n",
       "      <td>Верещагин</td>\n",
       "      <td>2018-05-25</td>\n",
       "      <td>...</td>\n",
       "      <td>14003.64</td>\n",
       "      <td>13.675430</td>\n",
       "      <td>52.0</td>\n",
       "      <td>NaN</td>\n",
       "      <td>Краснодар</td>\n",
       "      <td>Рафаил</td>\n",
       "      <td>Верещагин</td>\n",
       "      <td>2018-05-25</td>\n",
       "      <td>ultra</td>\n",
       "      <td>0.0</td>\n",
       "    </tr>\n",
       "    <tr>\n",
       "      <th>3</th>\n",
       "      <td>1000</td>\n",
       "      <td>8</td>\n",
       "      <td>52.0</td>\n",
       "      <td>409.0</td>\n",
       "      <td>52.0</td>\n",
       "      <td>NaN</td>\n",
       "      <td>Краснодар</td>\n",
       "      <td>Рафаил</td>\n",
       "      <td>Верещагин</td>\n",
       "      <td>2018-05-25</td>\n",
       "      <td>...</td>\n",
       "      <td>14055.93</td>\n",
       "      <td>13.726494</td>\n",
       "      <td>52.0</td>\n",
       "      <td>NaN</td>\n",
       "      <td>Краснодар</td>\n",
       "      <td>Рафаил</td>\n",
       "      <td>Верещагин</td>\n",
       "      <td>2018-05-25</td>\n",
       "      <td>ultra</td>\n",
       "      <td>0.0</td>\n",
       "    </tr>\n",
       "    <tr>\n",
       "      <th>4</th>\n",
       "      <td>1000</td>\n",
       "      <td>9</td>\n",
       "      <td>58.0</td>\n",
       "      <td>467.0</td>\n",
       "      <td>52.0</td>\n",
       "      <td>NaN</td>\n",
       "      <td>Краснодар</td>\n",
       "      <td>Рафаил</td>\n",
       "      <td>Верещагин</td>\n",
       "      <td>2018-05-25</td>\n",
       "      <td>...</td>\n",
       "      <td>14568.91</td>\n",
       "      <td>14.227451</td>\n",
       "      <td>52.0</td>\n",
       "      <td>NaN</td>\n",
       "      <td>Краснодар</td>\n",
       "      <td>Рафаил</td>\n",
       "      <td>Верещагин</td>\n",
       "      <td>2018-05-25</td>\n",
       "      <td>ultra</td>\n",
       "      <td>0.0</td>\n",
       "    </tr>\n",
       "    <tr>\n",
       "      <th>...</th>\n",
       "      <td>...</td>\n",
       "      <td>...</td>\n",
       "      <td>...</td>\n",
       "      <td>...</td>\n",
       "      <td>...</td>\n",
       "      <td>...</td>\n",
       "      <td>...</td>\n",
       "      <td>...</td>\n",
       "      <td>...</td>\n",
       "      <td>...</td>\n",
       "      <td>...</td>\n",
       "      <td>...</td>\n",
       "      <td>...</td>\n",
       "      <td>...</td>\n",
       "      <td>...</td>\n",
       "      <td>...</td>\n",
       "      <td>...</td>\n",
       "      <td>...</td>\n",
       "      <td>...</td>\n",
       "      <td>...</td>\n",
       "      <td>...</td>\n",
       "    </tr>\n",
       "    <tr>\n",
       "      <th>3209</th>\n",
       "      <td>1489</td>\n",
       "      <td>9</td>\n",
       "      <td>NaN</td>\n",
       "      <td>NaN</td>\n",
       "      <td>NaN</td>\n",
       "      <td>NaN</td>\n",
       "      <td>NaN</td>\n",
       "      <td>NaN</td>\n",
       "      <td>NaN</td>\n",
       "      <td>NaN</td>\n",
       "      <td>...</td>\n",
       "      <td>17206.30</td>\n",
       "      <td>16.803027</td>\n",
       "      <td>35.0</td>\n",
       "      <td>NaN</td>\n",
       "      <td>Санкт-Петербург</td>\n",
       "      <td>Павел</td>\n",
       "      <td>Гончаров</td>\n",
       "      <td>2018-08-15</td>\n",
       "      <td>smart</td>\n",
       "      <td>400.0</td>\n",
       "    </tr>\n",
       "    <tr>\n",
       "      <th>3210</th>\n",
       "      <td>1489</td>\n",
       "      <td>10</td>\n",
       "      <td>NaN</td>\n",
       "      <td>NaN</td>\n",
       "      <td>NaN</td>\n",
       "      <td>NaN</td>\n",
       "      <td>NaN</td>\n",
       "      <td>NaN</td>\n",
       "      <td>NaN</td>\n",
       "      <td>NaN</td>\n",
       "      <td>...</td>\n",
       "      <td>19559.44</td>\n",
       "      <td>19.101016</td>\n",
       "      <td>35.0</td>\n",
       "      <td>NaN</td>\n",
       "      <td>Санкт-Петербург</td>\n",
       "      <td>Павел</td>\n",
       "      <td>Гончаров</td>\n",
       "      <td>2018-08-15</td>\n",
       "      <td>smart</td>\n",
       "      <td>800.0</td>\n",
       "    </tr>\n",
       "    <tr>\n",
       "      <th>3211</th>\n",
       "      <td>1489</td>\n",
       "      <td>11</td>\n",
       "      <td>NaN</td>\n",
       "      <td>NaN</td>\n",
       "      <td>NaN</td>\n",
       "      <td>NaN</td>\n",
       "      <td>NaN</td>\n",
       "      <td>NaN</td>\n",
       "      <td>NaN</td>\n",
       "      <td>NaN</td>\n",
       "      <td>...</td>\n",
       "      <td>17491.56</td>\n",
       "      <td>17.081602</td>\n",
       "      <td>35.0</td>\n",
       "      <td>NaN</td>\n",
       "      <td>Санкт-Петербург</td>\n",
       "      <td>Павел</td>\n",
       "      <td>Гончаров</td>\n",
       "      <td>2018-08-15</td>\n",
       "      <td>smart</td>\n",
       "      <td>400.0</td>\n",
       "    </tr>\n",
       "    <tr>\n",
       "      <th>3212</th>\n",
       "      <td>1489</td>\n",
       "      <td>12</td>\n",
       "      <td>NaN</td>\n",
       "      <td>NaN</td>\n",
       "      <td>NaN</td>\n",
       "      <td>NaN</td>\n",
       "      <td>NaN</td>\n",
       "      <td>NaN</td>\n",
       "      <td>NaN</td>\n",
       "      <td>NaN</td>\n",
       "      <td>...</td>\n",
       "      <td>17322.51</td>\n",
       "      <td>16.916514</td>\n",
       "      <td>35.0</td>\n",
       "      <td>NaN</td>\n",
       "      <td>Санкт-Петербург</td>\n",
       "      <td>Павел</td>\n",
       "      <td>Гончаров</td>\n",
       "      <td>2018-08-15</td>\n",
       "      <td>smart</td>\n",
       "      <td>400.0</td>\n",
       "    </tr>\n",
       "    <tr>\n",
       "      <th>3213</th>\n",
       "      <td>1476</td>\n",
       "      <td>4</td>\n",
       "      <td>NaN</td>\n",
       "      <td>NaN</td>\n",
       "      <td>NaN</td>\n",
       "      <td>NaN</td>\n",
       "      <td>NaN</td>\n",
       "      <td>NaN</td>\n",
       "      <td>NaN</td>\n",
       "      <td>NaN</td>\n",
       "      <td>...</td>\n",
       "      <td>530.78</td>\n",
       "      <td>0.518340</td>\n",
       "      <td>50.0</td>\n",
       "      <td>NaN</td>\n",
       "      <td>Москва</td>\n",
       "      <td>Валентина</td>\n",
       "      <td>Семенова</td>\n",
       "      <td>2018-04-30</td>\n",
       "      <td>ultra</td>\n",
       "      <td>0.0</td>\n",
       "    </tr>\n",
       "  </tbody>\n",
       "</table>\n",
       "<p>3214 rows × 31 columns</p>\n",
       "</div>"
      ],
      "text/plain": [
       "      user_id  month  duration_count_month  duration_sum_month  age_x  \\\n",
       "0        1000      5                  22.0               159.0   52.0   \n",
       "1        1000      6                  43.0               172.0   52.0   \n",
       "2        1000      7                  47.0               340.0   52.0   \n",
       "3        1000      8                  52.0               409.0   52.0   \n",
       "4        1000      9                  58.0               467.0   52.0   \n",
       "...       ...    ...                   ...                 ...    ...   \n",
       "3209     1489      9                   NaN                 NaN    NaN   \n",
       "3210     1489     10                   NaN                 NaN    NaN   \n",
       "3211     1489     11                   NaN                 NaN    NaN   \n",
       "3212     1489     12                   NaN                 NaN    NaN   \n",
       "3213     1476      4                   NaN                 NaN    NaN   \n",
       "\n",
       "     churn_date_x     city_x first_name_x last_name_x  reg_date_x  ...  \\\n",
       "0             NaN  Краснодар       Рафаил   Верещагин  2018-05-25  ...   \n",
       "1             NaN  Краснодар       Рафаил   Верещагин  2018-05-25  ...   \n",
       "2             NaN  Краснодар       Рафаил   Верещагин  2018-05-25  ...   \n",
       "3             NaN  Краснодар       Рафаил   Верещагин  2018-05-25  ...   \n",
       "4             NaN  Краснодар       Рафаил   Верещагин  2018-05-25  ...   \n",
       "...           ...        ...          ...         ...         ...  ...   \n",
       "3209          NaN        NaN          NaN         NaN         NaN  ...   \n",
       "3210          NaN        NaN          NaN         NaN         NaN  ...   \n",
       "3211          NaN        NaN          NaN         NaN         NaN  ...   \n",
       "3212          NaN        NaN          NaN         NaN         NaN  ...   \n",
       "3213          NaN        NaN          NaN         NaN         NaN  ...   \n",
       "\n",
       "      mb_month   gb_month   age  churn_date             city first_name  \\\n",
       "0      2253.49   2.200674  52.0         NaN        Краснодар     Рафаил   \n",
       "1     23233.77  22.689229  52.0         NaN        Краснодар     Рафаил   \n",
       "2     14003.64  13.675430  52.0         NaN        Краснодар     Рафаил   \n",
       "3     14055.93  13.726494  52.0         NaN        Краснодар     Рафаил   \n",
       "4     14568.91  14.227451  52.0         NaN        Краснодар     Рафаил   \n",
       "...        ...        ...   ...         ...              ...        ...   \n",
       "3209  17206.30  16.803027  35.0         NaN  Санкт-Петербург      Павел   \n",
       "3210  19559.44  19.101016  35.0         NaN  Санкт-Петербург      Павел   \n",
       "3211  17491.56  17.081602  35.0         NaN  Санкт-Петербург      Павел   \n",
       "3212  17322.51  16.916514  35.0         NaN  Санкт-Петербург      Павел   \n",
       "3213    530.78   0.518340  50.0         NaN           Москва  Валентина   \n",
       "\n",
       "      last_name    reg_date tariff internet_money  \n",
       "0     Верещагин  2018-05-25  ultra            0.0  \n",
       "1     Верещагин  2018-05-25  ultra            0.0  \n",
       "2     Верещагин  2018-05-25  ultra            0.0  \n",
       "3     Верещагин  2018-05-25  ultra            0.0  \n",
       "4     Верещагин  2018-05-25  ultra            0.0  \n",
       "...         ...         ...    ...            ...  \n",
       "3209   Гончаров  2018-08-15  smart          400.0  \n",
       "3210   Гончаров  2018-08-15  smart          800.0  \n",
       "3211   Гончаров  2018-08-15  smart          400.0  \n",
       "3212   Гончаров  2018-08-15  smart          400.0  \n",
       "3213   Семенова  2018-04-30  ultra            0.0  \n",
       "\n",
       "[3214 rows x 31 columns]"
      ]
     },
     "execution_count": 33,
     "metadata": {},
     "output_type": "execute_result"
    }
   ],
   "source": [
    "data_all"
   ]
  },
  {
   "cell_type": "code",
   "execution_count": 34,
   "id": "fcace454",
   "metadata": {},
   "outputs": [
    {
     "data": {
      "text/plain": [
       "Index(['user_id', 'month', 'duration_count_month', 'duration_sum_month',\n",
       "       'age_x', 'churn_date_x', 'city_x', 'first_name_x', 'last_name_x',\n",
       "       'reg_date_x', 'tariff_x', 'calls_money', 'sms_count_month', 'age_y',\n",
       "       'churn_date_y', 'city_y', 'first_name_y', 'last_name_y', 'reg_date_y',\n",
       "       'tariff_y', 'messages_money', 'mb_month', 'gb_month', 'age',\n",
       "       'churn_date', 'city', 'first_name', 'last_name', 'reg_date', 'tariff',\n",
       "       'internet_money'],\n",
       "      dtype='object')"
      ]
     },
     "execution_count": 34,
     "metadata": {},
     "output_type": "execute_result"
    }
   ],
   "source": [
    "data_all.columns"
   ]
  },
  {
   "cell_type": "code",
   "execution_count": 35,
   "id": "341c9c15",
   "metadata": {},
   "outputs": [
    {
     "data": {
      "text/html": [
       "<div>\n",
       "<style scoped>\n",
       "    .dataframe tbody tr th:only-of-type {\n",
       "        vertical-align: middle;\n",
       "    }\n",
       "\n",
       "    .dataframe tbody tr th {\n",
       "        vertical-align: top;\n",
       "    }\n",
       "\n",
       "    .dataframe thead th {\n",
       "        text-align: right;\n",
       "    }\n",
       "</style>\n",
       "<table border=\"1\" class=\"dataframe\">\n",
       "  <thead>\n",
       "    <tr style=\"text-align: right;\">\n",
       "      <th></th>\n",
       "      <th>user_id</th>\n",
       "      <th>month</th>\n",
       "      <th>duration_count_month</th>\n",
       "      <th>duration_sum_month</th>\n",
       "      <th>calls_money</th>\n",
       "      <th>sms_count_month</th>\n",
       "      <th>messages_money</th>\n",
       "      <th>mb_month</th>\n",
       "      <th>gb_month</th>\n",
       "      <th>age</th>\n",
       "      <th>churn_date</th>\n",
       "      <th>city</th>\n",
       "      <th>first_name</th>\n",
       "      <th>last_name</th>\n",
       "      <th>reg_date</th>\n",
       "      <th>tariff</th>\n",
       "      <th>internet_money</th>\n",
       "    </tr>\n",
       "  </thead>\n",
       "  <tbody>\n",
       "    <tr>\n",
       "      <th>0</th>\n",
       "      <td>1000</td>\n",
       "      <td>5</td>\n",
       "      <td>22.0</td>\n",
       "      <td>159.0</td>\n",
       "      <td>0.0</td>\n",
       "      <td>22.0</td>\n",
       "      <td>0.0</td>\n",
       "      <td>2253.49</td>\n",
       "      <td>2.200674</td>\n",
       "      <td>52.0</td>\n",
       "      <td>NaN</td>\n",
       "      <td>Краснодар</td>\n",
       "      <td>Рафаил</td>\n",
       "      <td>Верещагин</td>\n",
       "      <td>2018-05-25</td>\n",
       "      <td>ultra</td>\n",
       "      <td>0.0</td>\n",
       "    </tr>\n",
       "    <tr>\n",
       "      <th>1</th>\n",
       "      <td>1000</td>\n",
       "      <td>6</td>\n",
       "      <td>43.0</td>\n",
       "      <td>172.0</td>\n",
       "      <td>0.0</td>\n",
       "      <td>60.0</td>\n",
       "      <td>0.0</td>\n",
       "      <td>23233.77</td>\n",
       "      <td>22.689229</td>\n",
       "      <td>52.0</td>\n",
       "      <td>NaN</td>\n",
       "      <td>Краснодар</td>\n",
       "      <td>Рафаил</td>\n",
       "      <td>Верещагин</td>\n",
       "      <td>2018-05-25</td>\n",
       "      <td>ultra</td>\n",
       "      <td>0.0</td>\n",
       "    </tr>\n",
       "    <tr>\n",
       "      <th>2</th>\n",
       "      <td>1000</td>\n",
       "      <td>7</td>\n",
       "      <td>47.0</td>\n",
       "      <td>340.0</td>\n",
       "      <td>0.0</td>\n",
       "      <td>75.0</td>\n",
       "      <td>0.0</td>\n",
       "      <td>14003.64</td>\n",
       "      <td>13.675430</td>\n",
       "      <td>52.0</td>\n",
       "      <td>NaN</td>\n",
       "      <td>Краснодар</td>\n",
       "      <td>Рафаил</td>\n",
       "      <td>Верещагин</td>\n",
       "      <td>2018-05-25</td>\n",
       "      <td>ultra</td>\n",
       "      <td>0.0</td>\n",
       "    </tr>\n",
       "    <tr>\n",
       "      <th>3</th>\n",
       "      <td>1000</td>\n",
       "      <td>8</td>\n",
       "      <td>52.0</td>\n",
       "      <td>409.0</td>\n",
       "      <td>0.0</td>\n",
       "      <td>81.0</td>\n",
       "      <td>0.0</td>\n",
       "      <td>14055.93</td>\n",
       "      <td>13.726494</td>\n",
       "      <td>52.0</td>\n",
       "      <td>NaN</td>\n",
       "      <td>Краснодар</td>\n",
       "      <td>Рафаил</td>\n",
       "      <td>Верещагин</td>\n",
       "      <td>2018-05-25</td>\n",
       "      <td>ultra</td>\n",
       "      <td>0.0</td>\n",
       "    </tr>\n",
       "    <tr>\n",
       "      <th>4</th>\n",
       "      <td>1000</td>\n",
       "      <td>9</td>\n",
       "      <td>58.0</td>\n",
       "      <td>467.0</td>\n",
       "      <td>0.0</td>\n",
       "      <td>57.0</td>\n",
       "      <td>0.0</td>\n",
       "      <td>14568.91</td>\n",
       "      <td>14.227451</td>\n",
       "      <td>52.0</td>\n",
       "      <td>NaN</td>\n",
       "      <td>Краснодар</td>\n",
       "      <td>Рафаил</td>\n",
       "      <td>Верещагин</td>\n",
       "      <td>2018-05-25</td>\n",
       "      <td>ultra</td>\n",
       "      <td>0.0</td>\n",
       "    </tr>\n",
       "    <tr>\n",
       "      <th>...</th>\n",
       "      <td>...</td>\n",
       "      <td>...</td>\n",
       "      <td>...</td>\n",
       "      <td>...</td>\n",
       "      <td>...</td>\n",
       "      <td>...</td>\n",
       "      <td>...</td>\n",
       "      <td>...</td>\n",
       "      <td>...</td>\n",
       "      <td>...</td>\n",
       "      <td>...</td>\n",
       "      <td>...</td>\n",
       "      <td>...</td>\n",
       "      <td>...</td>\n",
       "      <td>...</td>\n",
       "      <td>...</td>\n",
       "      <td>...</td>\n",
       "    </tr>\n",
       "    <tr>\n",
       "      <th>3209</th>\n",
       "      <td>1489</td>\n",
       "      <td>9</td>\n",
       "      <td>NaN</td>\n",
       "      <td>NaN</td>\n",
       "      <td>NaN</td>\n",
       "      <td>32.0</td>\n",
       "      <td>0.0</td>\n",
       "      <td>17206.30</td>\n",
       "      <td>16.803027</td>\n",
       "      <td>35.0</td>\n",
       "      <td>NaN</td>\n",
       "      <td>Санкт-Петербург</td>\n",
       "      <td>Павел</td>\n",
       "      <td>Гончаров</td>\n",
       "      <td>2018-08-15</td>\n",
       "      <td>smart</td>\n",
       "      <td>400.0</td>\n",
       "    </tr>\n",
       "    <tr>\n",
       "      <th>3210</th>\n",
       "      <td>1489</td>\n",
       "      <td>10</td>\n",
       "      <td>NaN</td>\n",
       "      <td>NaN</td>\n",
       "      <td>NaN</td>\n",
       "      <td>21.0</td>\n",
       "      <td>0.0</td>\n",
       "      <td>19559.44</td>\n",
       "      <td>19.101016</td>\n",
       "      <td>35.0</td>\n",
       "      <td>NaN</td>\n",
       "      <td>Санкт-Петербург</td>\n",
       "      <td>Павел</td>\n",
       "      <td>Гончаров</td>\n",
       "      <td>2018-08-15</td>\n",
       "      <td>smart</td>\n",
       "      <td>800.0</td>\n",
       "    </tr>\n",
       "    <tr>\n",
       "      <th>3211</th>\n",
       "      <td>1489</td>\n",
       "      <td>11</td>\n",
       "      <td>NaN</td>\n",
       "      <td>NaN</td>\n",
       "      <td>NaN</td>\n",
       "      <td>20.0</td>\n",
       "      <td>0.0</td>\n",
       "      <td>17491.56</td>\n",
       "      <td>17.081602</td>\n",
       "      <td>35.0</td>\n",
       "      <td>NaN</td>\n",
       "      <td>Санкт-Петербург</td>\n",
       "      <td>Павел</td>\n",
       "      <td>Гончаров</td>\n",
       "      <td>2018-08-15</td>\n",
       "      <td>smart</td>\n",
       "      <td>400.0</td>\n",
       "    </tr>\n",
       "    <tr>\n",
       "      <th>3212</th>\n",
       "      <td>1489</td>\n",
       "      <td>12</td>\n",
       "      <td>NaN</td>\n",
       "      <td>NaN</td>\n",
       "      <td>NaN</td>\n",
       "      <td>35.0</td>\n",
       "      <td>0.0</td>\n",
       "      <td>17322.51</td>\n",
       "      <td>16.916514</td>\n",
       "      <td>35.0</td>\n",
       "      <td>NaN</td>\n",
       "      <td>Санкт-Петербург</td>\n",
       "      <td>Павел</td>\n",
       "      <td>Гончаров</td>\n",
       "      <td>2018-08-15</td>\n",
       "      <td>smart</td>\n",
       "      <td>400.0</td>\n",
       "    </tr>\n",
       "    <tr>\n",
       "      <th>3213</th>\n",
       "      <td>1476</td>\n",
       "      <td>4</td>\n",
       "      <td>NaN</td>\n",
       "      <td>NaN</td>\n",
       "      <td>NaN</td>\n",
       "      <td>NaN</td>\n",
       "      <td>NaN</td>\n",
       "      <td>530.78</td>\n",
       "      <td>0.518340</td>\n",
       "      <td>50.0</td>\n",
       "      <td>NaN</td>\n",
       "      <td>Москва</td>\n",
       "      <td>Валентина</td>\n",
       "      <td>Семенова</td>\n",
       "      <td>2018-04-30</td>\n",
       "      <td>ultra</td>\n",
       "      <td>0.0</td>\n",
       "    </tr>\n",
       "  </tbody>\n",
       "</table>\n",
       "<p>3214 rows × 17 columns</p>\n",
       "</div>"
      ],
      "text/plain": [
       "      user_id  month  duration_count_month  duration_sum_month  calls_money  \\\n",
       "0        1000      5                  22.0               159.0          0.0   \n",
       "1        1000      6                  43.0               172.0          0.0   \n",
       "2        1000      7                  47.0               340.0          0.0   \n",
       "3        1000      8                  52.0               409.0          0.0   \n",
       "4        1000      9                  58.0               467.0          0.0   \n",
       "...       ...    ...                   ...                 ...          ...   \n",
       "3209     1489      9                   NaN                 NaN          NaN   \n",
       "3210     1489     10                   NaN                 NaN          NaN   \n",
       "3211     1489     11                   NaN                 NaN          NaN   \n",
       "3212     1489     12                   NaN                 NaN          NaN   \n",
       "3213     1476      4                   NaN                 NaN          NaN   \n",
       "\n",
       "      sms_count_month  messages_money  mb_month   gb_month   age churn_date  \\\n",
       "0                22.0             0.0   2253.49   2.200674  52.0        NaN   \n",
       "1                60.0             0.0  23233.77  22.689229  52.0        NaN   \n",
       "2                75.0             0.0  14003.64  13.675430  52.0        NaN   \n",
       "3                81.0             0.0  14055.93  13.726494  52.0        NaN   \n",
       "4                57.0             0.0  14568.91  14.227451  52.0        NaN   \n",
       "...               ...             ...       ...        ...   ...        ...   \n",
       "3209             32.0             0.0  17206.30  16.803027  35.0        NaN   \n",
       "3210             21.0             0.0  19559.44  19.101016  35.0        NaN   \n",
       "3211             20.0             0.0  17491.56  17.081602  35.0        NaN   \n",
       "3212             35.0             0.0  17322.51  16.916514  35.0        NaN   \n",
       "3213              NaN             NaN    530.78   0.518340  50.0        NaN   \n",
       "\n",
       "                 city first_name  last_name    reg_date tariff  internet_money  \n",
       "0           Краснодар     Рафаил  Верещагин  2018-05-25  ultra             0.0  \n",
       "1           Краснодар     Рафаил  Верещагин  2018-05-25  ultra             0.0  \n",
       "2           Краснодар     Рафаил  Верещагин  2018-05-25  ultra             0.0  \n",
       "3           Краснодар     Рафаил  Верещагин  2018-05-25  ultra             0.0  \n",
       "4           Краснодар     Рафаил  Верещагин  2018-05-25  ultra             0.0  \n",
       "...               ...        ...        ...         ...    ...             ...  \n",
       "3209  Санкт-Петербург      Павел   Гончаров  2018-08-15  smart           400.0  \n",
       "3210  Санкт-Петербург      Павел   Гончаров  2018-08-15  smart           800.0  \n",
       "3211  Санкт-Петербург      Павел   Гончаров  2018-08-15  smart           400.0  \n",
       "3212  Санкт-Петербург      Павел   Гончаров  2018-08-15  smart           400.0  \n",
       "3213           Москва  Валентина   Семенова  2018-04-30  ultra             0.0  \n",
       "\n",
       "[3214 rows x 17 columns]"
      ]
     },
     "execution_count": 35,
     "metadata": {},
     "output_type": "execute_result"
    }
   ],
   "source": [
    "data_all = data_all.drop(columns=['age_x', 'churn_date_x', 'city_x', 'first_name_x', 'last_name_x', 'reg_date_x', 'tariff_x','age_y','churn_date_y', 'city_y', 'first_name_y', 'last_name_y', 'reg_date_y', 'tariff_y'])\n",
    "data_all\n",
    "#удаление повторяющихся столбцов "
   ]
  },
  {
   "cell_type": "markdown",
   "id": "d7f36eb2",
   "metadata": {},
   "source": [
    "### Подсчет помесячной выручки"
   ]
  },
  {
   "cell_type": "code",
   "execution_count": 36,
   "id": "76ce2321",
   "metadata": {},
   "outputs": [],
   "source": [
    "columns = ['calls_money', 'messages_money','internet_money']\n",
    "for a in columns:\n",
    "    data_all[a] = data_all[a].fillna(0)\n",
    "# заполнение пропусков в  столбцах, необходимых для  подсчета помесячной выручки с каждого пользователя"
   ]
  },
  {
   "cell_type": "code",
   "execution_count": 37,
   "id": "2e2bf212",
   "metadata": {},
   "outputs": [],
   "source": [
    "money =[]\n",
    "\n",
    "for a in range(len(data_all['user_id'])):\n",
    "    if data_all['tariff'][a] == 'smart':\n",
    "        money.append(data_all['calls_money'][a] + data_all['messages_money'][a] + data_all['internet_money'][a] + 550)\n",
    "    else:\n",
    "        money.append(data_all['calls_money'][a] + data_all['messages_money'][a] + data_all['internet_money'][a] + 1950) \n",
    "\n",
    "data_all['user_money'] = money"
   ]
  },
  {
   "cell_type": "code",
   "execution_count": 38,
   "id": "1fc35f3e",
   "metadata": {},
   "outputs": [
    {
     "data": {
      "text/html": [
       "<div>\n",
       "<style scoped>\n",
       "    .dataframe tbody tr th:only-of-type {\n",
       "        vertical-align: middle;\n",
       "    }\n",
       "\n",
       "    .dataframe tbody tr th {\n",
       "        vertical-align: top;\n",
       "    }\n",
       "\n",
       "    .dataframe thead th {\n",
       "        text-align: right;\n",
       "    }\n",
       "</style>\n",
       "<table border=\"1\" class=\"dataframe\">\n",
       "  <thead>\n",
       "    <tr style=\"text-align: right;\">\n",
       "      <th></th>\n",
       "      <th>user_id</th>\n",
       "      <th>month</th>\n",
       "      <th>duration_count_month</th>\n",
       "      <th>duration_sum_month</th>\n",
       "      <th>calls_money</th>\n",
       "      <th>sms_count_month</th>\n",
       "      <th>messages_money</th>\n",
       "      <th>mb_month</th>\n",
       "      <th>gb_month</th>\n",
       "      <th>age</th>\n",
       "      <th>churn_date</th>\n",
       "      <th>city</th>\n",
       "      <th>first_name</th>\n",
       "      <th>last_name</th>\n",
       "      <th>reg_date</th>\n",
       "      <th>tariff</th>\n",
       "      <th>internet_money</th>\n",
       "      <th>user_money</th>\n",
       "    </tr>\n",
       "  </thead>\n",
       "  <tbody>\n",
       "    <tr>\n",
       "      <th>0</th>\n",
       "      <td>1000</td>\n",
       "      <td>5</td>\n",
       "      <td>22.0</td>\n",
       "      <td>159.0</td>\n",
       "      <td>0.0</td>\n",
       "      <td>22.0</td>\n",
       "      <td>0.0</td>\n",
       "      <td>2253.49</td>\n",
       "      <td>2.200674</td>\n",
       "      <td>52.0</td>\n",
       "      <td>NaN</td>\n",
       "      <td>Краснодар</td>\n",
       "      <td>Рафаил</td>\n",
       "      <td>Верещагин</td>\n",
       "      <td>2018-05-25</td>\n",
       "      <td>ultra</td>\n",
       "      <td>0.0</td>\n",
       "      <td>1950.0</td>\n",
       "    </tr>\n",
       "    <tr>\n",
       "      <th>1</th>\n",
       "      <td>1000</td>\n",
       "      <td>6</td>\n",
       "      <td>43.0</td>\n",
       "      <td>172.0</td>\n",
       "      <td>0.0</td>\n",
       "      <td>60.0</td>\n",
       "      <td>0.0</td>\n",
       "      <td>23233.77</td>\n",
       "      <td>22.689229</td>\n",
       "      <td>52.0</td>\n",
       "      <td>NaN</td>\n",
       "      <td>Краснодар</td>\n",
       "      <td>Рафаил</td>\n",
       "      <td>Верещагин</td>\n",
       "      <td>2018-05-25</td>\n",
       "      <td>ultra</td>\n",
       "      <td>0.0</td>\n",
       "      <td>1950.0</td>\n",
       "    </tr>\n",
       "    <tr>\n",
       "      <th>2</th>\n",
       "      <td>1000</td>\n",
       "      <td>7</td>\n",
       "      <td>47.0</td>\n",
       "      <td>340.0</td>\n",
       "      <td>0.0</td>\n",
       "      <td>75.0</td>\n",
       "      <td>0.0</td>\n",
       "      <td>14003.64</td>\n",
       "      <td>13.675430</td>\n",
       "      <td>52.0</td>\n",
       "      <td>NaN</td>\n",
       "      <td>Краснодар</td>\n",
       "      <td>Рафаил</td>\n",
       "      <td>Верещагин</td>\n",
       "      <td>2018-05-25</td>\n",
       "      <td>ultra</td>\n",
       "      <td>0.0</td>\n",
       "      <td>1950.0</td>\n",
       "    </tr>\n",
       "    <tr>\n",
       "      <th>3</th>\n",
       "      <td>1000</td>\n",
       "      <td>8</td>\n",
       "      <td>52.0</td>\n",
       "      <td>409.0</td>\n",
       "      <td>0.0</td>\n",
       "      <td>81.0</td>\n",
       "      <td>0.0</td>\n",
       "      <td>14055.93</td>\n",
       "      <td>13.726494</td>\n",
       "      <td>52.0</td>\n",
       "      <td>NaN</td>\n",
       "      <td>Краснодар</td>\n",
       "      <td>Рафаил</td>\n",
       "      <td>Верещагин</td>\n",
       "      <td>2018-05-25</td>\n",
       "      <td>ultra</td>\n",
       "      <td>0.0</td>\n",
       "      <td>1950.0</td>\n",
       "    </tr>\n",
       "    <tr>\n",
       "      <th>4</th>\n",
       "      <td>1000</td>\n",
       "      <td>9</td>\n",
       "      <td>58.0</td>\n",
       "      <td>467.0</td>\n",
       "      <td>0.0</td>\n",
       "      <td>57.0</td>\n",
       "      <td>0.0</td>\n",
       "      <td>14568.91</td>\n",
       "      <td>14.227451</td>\n",
       "      <td>52.0</td>\n",
       "      <td>NaN</td>\n",
       "      <td>Краснодар</td>\n",
       "      <td>Рафаил</td>\n",
       "      <td>Верещагин</td>\n",
       "      <td>2018-05-25</td>\n",
       "      <td>ultra</td>\n",
       "      <td>0.0</td>\n",
       "      <td>1950.0</td>\n",
       "    </tr>\n",
       "    <tr>\n",
       "      <th>...</th>\n",
       "      <td>...</td>\n",
       "      <td>...</td>\n",
       "      <td>...</td>\n",
       "      <td>...</td>\n",
       "      <td>...</td>\n",
       "      <td>...</td>\n",
       "      <td>...</td>\n",
       "      <td>...</td>\n",
       "      <td>...</td>\n",
       "      <td>...</td>\n",
       "      <td>...</td>\n",
       "      <td>...</td>\n",
       "      <td>...</td>\n",
       "      <td>...</td>\n",
       "      <td>...</td>\n",
       "      <td>...</td>\n",
       "      <td>...</td>\n",
       "      <td>...</td>\n",
       "    </tr>\n",
       "    <tr>\n",
       "      <th>3209</th>\n",
       "      <td>1489</td>\n",
       "      <td>9</td>\n",
       "      <td>NaN</td>\n",
       "      <td>NaN</td>\n",
       "      <td>0.0</td>\n",
       "      <td>32.0</td>\n",
       "      <td>0.0</td>\n",
       "      <td>17206.30</td>\n",
       "      <td>16.803027</td>\n",
       "      <td>35.0</td>\n",
       "      <td>NaN</td>\n",
       "      <td>Санкт-Петербург</td>\n",
       "      <td>Павел</td>\n",
       "      <td>Гончаров</td>\n",
       "      <td>2018-08-15</td>\n",
       "      <td>smart</td>\n",
       "      <td>400.0</td>\n",
       "      <td>950.0</td>\n",
       "    </tr>\n",
       "    <tr>\n",
       "      <th>3210</th>\n",
       "      <td>1489</td>\n",
       "      <td>10</td>\n",
       "      <td>NaN</td>\n",
       "      <td>NaN</td>\n",
       "      <td>0.0</td>\n",
       "      <td>21.0</td>\n",
       "      <td>0.0</td>\n",
       "      <td>19559.44</td>\n",
       "      <td>19.101016</td>\n",
       "      <td>35.0</td>\n",
       "      <td>NaN</td>\n",
       "      <td>Санкт-Петербург</td>\n",
       "      <td>Павел</td>\n",
       "      <td>Гончаров</td>\n",
       "      <td>2018-08-15</td>\n",
       "      <td>smart</td>\n",
       "      <td>800.0</td>\n",
       "      <td>1350.0</td>\n",
       "    </tr>\n",
       "    <tr>\n",
       "      <th>3211</th>\n",
       "      <td>1489</td>\n",
       "      <td>11</td>\n",
       "      <td>NaN</td>\n",
       "      <td>NaN</td>\n",
       "      <td>0.0</td>\n",
       "      <td>20.0</td>\n",
       "      <td>0.0</td>\n",
       "      <td>17491.56</td>\n",
       "      <td>17.081602</td>\n",
       "      <td>35.0</td>\n",
       "      <td>NaN</td>\n",
       "      <td>Санкт-Петербург</td>\n",
       "      <td>Павел</td>\n",
       "      <td>Гончаров</td>\n",
       "      <td>2018-08-15</td>\n",
       "      <td>smart</td>\n",
       "      <td>400.0</td>\n",
       "      <td>950.0</td>\n",
       "    </tr>\n",
       "    <tr>\n",
       "      <th>3212</th>\n",
       "      <td>1489</td>\n",
       "      <td>12</td>\n",
       "      <td>NaN</td>\n",
       "      <td>NaN</td>\n",
       "      <td>0.0</td>\n",
       "      <td>35.0</td>\n",
       "      <td>0.0</td>\n",
       "      <td>17322.51</td>\n",
       "      <td>16.916514</td>\n",
       "      <td>35.0</td>\n",
       "      <td>NaN</td>\n",
       "      <td>Санкт-Петербург</td>\n",
       "      <td>Павел</td>\n",
       "      <td>Гончаров</td>\n",
       "      <td>2018-08-15</td>\n",
       "      <td>smart</td>\n",
       "      <td>400.0</td>\n",
       "      <td>950.0</td>\n",
       "    </tr>\n",
       "    <tr>\n",
       "      <th>3213</th>\n",
       "      <td>1476</td>\n",
       "      <td>4</td>\n",
       "      <td>NaN</td>\n",
       "      <td>NaN</td>\n",
       "      <td>0.0</td>\n",
       "      <td>NaN</td>\n",
       "      <td>0.0</td>\n",
       "      <td>530.78</td>\n",
       "      <td>0.518340</td>\n",
       "      <td>50.0</td>\n",
       "      <td>NaN</td>\n",
       "      <td>Москва</td>\n",
       "      <td>Валентина</td>\n",
       "      <td>Семенова</td>\n",
       "      <td>2018-04-30</td>\n",
       "      <td>ultra</td>\n",
       "      <td>0.0</td>\n",
       "      <td>1950.0</td>\n",
       "    </tr>\n",
       "  </tbody>\n",
       "</table>\n",
       "<p>3214 rows × 18 columns</p>\n",
       "</div>"
      ],
      "text/plain": [
       "      user_id  month  duration_count_month  duration_sum_month  calls_money  \\\n",
       "0        1000      5                  22.0               159.0          0.0   \n",
       "1        1000      6                  43.0               172.0          0.0   \n",
       "2        1000      7                  47.0               340.0          0.0   \n",
       "3        1000      8                  52.0               409.0          0.0   \n",
       "4        1000      9                  58.0               467.0          0.0   \n",
       "...       ...    ...                   ...                 ...          ...   \n",
       "3209     1489      9                   NaN                 NaN          0.0   \n",
       "3210     1489     10                   NaN                 NaN          0.0   \n",
       "3211     1489     11                   NaN                 NaN          0.0   \n",
       "3212     1489     12                   NaN                 NaN          0.0   \n",
       "3213     1476      4                   NaN                 NaN          0.0   \n",
       "\n",
       "      sms_count_month  messages_money  mb_month   gb_month   age churn_date  \\\n",
       "0                22.0             0.0   2253.49   2.200674  52.0        NaN   \n",
       "1                60.0             0.0  23233.77  22.689229  52.0        NaN   \n",
       "2                75.0             0.0  14003.64  13.675430  52.0        NaN   \n",
       "3                81.0             0.0  14055.93  13.726494  52.0        NaN   \n",
       "4                57.0             0.0  14568.91  14.227451  52.0        NaN   \n",
       "...               ...             ...       ...        ...   ...        ...   \n",
       "3209             32.0             0.0  17206.30  16.803027  35.0        NaN   \n",
       "3210             21.0             0.0  19559.44  19.101016  35.0        NaN   \n",
       "3211             20.0             0.0  17491.56  17.081602  35.0        NaN   \n",
       "3212             35.0             0.0  17322.51  16.916514  35.0        NaN   \n",
       "3213              NaN             0.0    530.78   0.518340  50.0        NaN   \n",
       "\n",
       "                 city first_name  last_name    reg_date tariff  \\\n",
       "0           Краснодар     Рафаил  Верещагин  2018-05-25  ultra   \n",
       "1           Краснодар     Рафаил  Верещагин  2018-05-25  ultra   \n",
       "2           Краснодар     Рафаил  Верещагин  2018-05-25  ultra   \n",
       "3           Краснодар     Рафаил  Верещагин  2018-05-25  ultra   \n",
       "4           Краснодар     Рафаил  Верещагин  2018-05-25  ultra   \n",
       "...               ...        ...        ...         ...    ...   \n",
       "3209  Санкт-Петербург      Павел   Гончаров  2018-08-15  smart   \n",
       "3210  Санкт-Петербург      Павел   Гончаров  2018-08-15  smart   \n",
       "3211  Санкт-Петербург      Павел   Гончаров  2018-08-15  smart   \n",
       "3212  Санкт-Петербург      Павел   Гончаров  2018-08-15  smart   \n",
       "3213           Москва  Валентина   Семенова  2018-04-30  ultra   \n",
       "\n",
       "      internet_money  user_money  \n",
       "0                0.0      1950.0  \n",
       "1                0.0      1950.0  \n",
       "2                0.0      1950.0  \n",
       "3                0.0      1950.0  \n",
       "4                0.0      1950.0  \n",
       "...              ...         ...  \n",
       "3209           400.0       950.0  \n",
       "3210           800.0      1350.0  \n",
       "3211           400.0       950.0  \n",
       "3212           400.0       950.0  \n",
       "3213             0.0      1950.0  \n",
       "\n",
       "[3214 rows x 18 columns]"
      ]
     },
     "execution_count": 38,
     "metadata": {},
     "output_type": "execute_result"
    }
   ],
   "source": [
    "data_all"
   ]
  },
  {
   "cell_type": "markdown",
   "id": "db0f471e",
   "metadata": {},
   "source": [
    "### Избавление от пропусков в столбцах необходимых для анализа"
   ]
  },
  {
   "cell_type": "code",
   "execution_count": 39,
   "id": "c094ca57",
   "metadata": {},
   "outputs": [
    {
     "data": {
      "text/plain": [
       "user_id                    0\n",
       "month                      0\n",
       "duration_count_month      40\n",
       "duration_sum_month        40\n",
       "calls_money                0\n",
       "sms_count_month          497\n",
       "messages_money             0\n",
       "mb_month                  11\n",
       "gb_month                  11\n",
       "age                       11\n",
       "churn_date              3028\n",
       "city                      11\n",
       "first_name                11\n",
       "last_name                 11\n",
       "reg_date                  11\n",
       "tariff                    11\n",
       "internet_money             0\n",
       "user_money                 0\n",
       "dtype: int64"
      ]
     },
     "execution_count": 39,
     "metadata": {},
     "output_type": "execute_result"
    }
   ],
   "source": [
    "data_all.isna().sum()"
   ]
  },
  {
   "cell_type": "code",
   "execution_count": 40,
   "id": "5ddeb990",
   "metadata": {},
   "outputs": [],
   "source": [
    "data_all_dropna = data_all.dropna(subset=['duration_sum_month', 'sms_count_month', 'gb_month'])\n",
    "#  удаляем пропуски и сохраняем их в другой переменной чтобы не терять данные в основной таблице, так как они еще могут пригодиться"
   ]
  },
  {
   "cell_type": "code",
   "execution_count": 41,
   "id": "592317ac",
   "metadata": {},
   "outputs": [
    {
     "data": {
      "text/plain": [
       "user_id                    0\n",
       "month                      0\n",
       "duration_count_month       0\n",
       "duration_sum_month         0\n",
       "calls_money                0\n",
       "sms_count_month            0\n",
       "messages_money             0\n",
       "mb_month                   0\n",
       "gb_month                   0\n",
       "age                        0\n",
       "churn_date              2528\n",
       "city                       0\n",
       "first_name                 0\n",
       "last_name                  0\n",
       "reg_date                   0\n",
       "tariff                     0\n",
       "internet_money             0\n",
       "user_money                 0\n",
       "dtype: int64"
      ]
     },
     "execution_count": 41,
     "metadata": {},
     "output_type": "execute_result"
    }
   ],
   "source": [
    "data_all_dropna.isna().sum()\n",
    "# проверка"
   ]
  },
  {
   "cell_type": "code",
   "execution_count": 42,
   "id": "6dae6089",
   "metadata": {},
   "outputs": [
    {
     "name": "stdout",
     "output_type": "stream",
     "text": [
      "<class 'pandas.core.frame.DataFrame'>\n",
      "Int64Index: 3214 entries, 0 to 3213\n",
      "Data columns (total 18 columns):\n",
      " #   Column                Non-Null Count  Dtype  \n",
      "---  ------                --------------  -----  \n",
      " 0   user_id               3214 non-null   int64  \n",
      " 1   month                 3214 non-null   int64  \n",
      " 2   duration_count_month  3174 non-null   float64\n",
      " 3   duration_sum_month    3174 non-null   float64\n",
      " 4   calls_money           3214 non-null   float64\n",
      " 5   sms_count_month       2717 non-null   float64\n",
      " 6   messages_money        3214 non-null   float64\n",
      " 7   mb_month              3203 non-null   float64\n",
      " 8   gb_month              3203 non-null   float64\n",
      " 9   age                   3203 non-null   float64\n",
      " 10  churn_date            186 non-null    object \n",
      " 11  city                  3203 non-null   object \n",
      " 12  first_name            3203 non-null   object \n",
      " 13  last_name             3203 non-null   object \n",
      " 14  reg_date              3203 non-null   object \n",
      " 15  tariff                3203 non-null   object \n",
      " 16  internet_money        3214 non-null   float64\n",
      " 17  user_money            3214 non-null   float64\n",
      "dtypes: float64(10), int64(2), object(6)\n",
      "memory usage: 606.1+ KB\n"
     ]
    }
   ],
   "source": [
    "data_all.info()"
   ]
  },
  {
   "cell_type": "markdown",
   "id": "14c0d7b1",
   "metadata": {},
   "source": [
    "## 3 Анализ данных"
   ]
  },
  {
   "cell_type": "code",
   "execution_count": 43,
   "id": "b6a550c8",
   "metadata": {},
   "outputs": [
    {
     "data": {
      "image/png": "[encoded data removed]",
      "text/plain": [
       "<Figure size 432x288 with 1 Axes>"
      ]
     },
     "metadata": {
      "needs_background": "light"
     },
     "output_type": "display_data"
    },
    {
     "data": {
      "text/html": [
       "<div>\n",
       "<style scoped>\n",
       "    .dataframe tbody tr th:only-of-type {\n",
       "        vertical-align: middle;\n",
       "    }\n",
       "\n",
       "    .dataframe tbody tr th {\n",
       "        vertical-align: top;\n",
       "    }\n",
       "\n",
       "    .dataframe thead th {\n",
       "        text-align: right;\n",
       "    }\n",
       "</style>\n",
       "<table border=\"1\" class=\"dataframe\">\n",
       "  <thead>\n",
       "    <tr style=\"text-align: right;\">\n",
       "      <th></th>\n",
       "      <th>duration_sum_month</th>\n",
       "    </tr>\n",
       "    <tr>\n",
       "      <th>tariff</th>\n",
       "      <th></th>\n",
       "    </tr>\n",
       "  </thead>\n",
       "  <tbody>\n",
       "    <tr>\n",
       "      <th>smart</th>\n",
       "      <td>421.266319</td>\n",
       "    </tr>\n",
       "    <tr>\n",
       "      <th>ultra</th>\n",
       "      <td>557.168883</td>\n",
       "    </tr>\n",
       "  </tbody>\n",
       "</table>\n",
       "</div>"
      ],
      "text/plain": [
       "        duration_sum_month\n",
       "tariff                    \n",
       "smart           421.266319\n",
       "ultra           557.168883"
      ]
     },
     "metadata": {},
     "output_type": "display_data"
    },
    {
     "name": "stdout",
     "output_type": "stream",
     "text": [
      "Дисперсия по тарифу smart равна 35273.8\n",
      "Стандартное откланение по тарифу smart равно 187.8\n",
      "Дисперсия по тарифу ultra равна 97349.1\n",
      "Стандартное откланение по тарифу ultra равно 312.0\n"
     ]
    }
   ],
   "source": [
    "data_all_dropna['duration_sum_month'].hist(bins=15)\n",
    "plt.show()\n",
    "display(data_all_dropna.pivot_table(index='tariff', values='duration_sum_month'))\n",
    "smart_var = data_all_dropna.query('tariff == \"smart\"')\n",
    "smart_var = list(smart_var['duration_sum_month'])\n",
    "ultra_var = data_all_dropna.query('tariff == \"ultra\"')\n",
    "ultra_var = list(ultra_var['duration_sum_month'])\n",
    "std_smart = np.sqrt(np.var(smart_var ,ddof=1))\n",
    "std_ultra = np.sqrt(np.var(ultra_var ,ddof=1))\n",
    "print(f'Дисперсия по тарифу smart равна {round(np.var(smart_var ,ddof=1), 1)}')\n",
    "print(f'Стандартное откланение по тарифу smart равно {round(std_smart, 1)}')\n",
    "print(f'Дисперсия по тарифу ultra равна {round(np.var(ultra_var ,ddof=1), 1)}')\n",
    "print(f'Стандартное откланение по тарифу ultra равно {round(std_ultra, 1)}')\n",
    "\n",
    "# расчет среднего количества минут, смс и интернета, требующихся в месяц \n",
    "# расчет дисперсии\n",
    "# расчет стандартного отклонения\n",
    "# построение гистограммы"
   ]
  },
  {
   "cell_type": "markdown",
   "id": "fc676465",
   "metadata": {},
   "source": [
    "**На основании построенной гистограммы можно сказать следующее:**\n",
    "\n",
    "- Большинству пользователей достаточно от 200 до 600 минут в месяц на разговоры\n",
    "- Есть небольшой процент тех кому на разговоры требуется более 1000 минут\n",
    "- Отдельные значения доходят и до 1600 минут.\n"
   ]
  },
  {
   "cell_type": "code",
   "execution_count": 44,
   "id": "0acfeb41",
   "metadata": {},
   "outputs": [
    {
     "data": {
      "image/png": "[encoded data removed]",
      "text/plain": [
       "<Figure size 432x288 with 1 Axes>"
      ]
     },
     "metadata": {
      "needs_background": "light"
     },
     "output_type": "display_data"
    },
    {
     "data": {
      "text/html": [
       "<div>\n",
       "<style scoped>\n",
       "    .dataframe tbody tr th:only-of-type {\n",
       "        vertical-align: middle;\n",
       "    }\n",
       "\n",
       "    .dataframe tbody tr th {\n",
       "        vertical-align: top;\n",
       "    }\n",
       "\n",
       "    .dataframe thead th {\n",
       "        text-align: right;\n",
       "    }\n",
       "</style>\n",
       "<table border=\"1\" class=\"dataframe\">\n",
       "  <thead>\n",
       "    <tr style=\"text-align: right;\">\n",
       "      <th></th>\n",
       "      <th>sms_count_month</th>\n",
       "    </tr>\n",
       "    <tr>\n",
       "      <th>tariff</th>\n",
       "      <th></th>\n",
       "    </tr>\n",
       "  </thead>\n",
       "  <tbody>\n",
       "    <tr>\n",
       "      <th>smart</th>\n",
       "      <td>38.767102</td>\n",
       "    </tr>\n",
       "    <tr>\n",
       "      <th>ultra</th>\n",
       "      <td>61.640957</td>\n",
       "    </tr>\n",
       "  </tbody>\n",
       "</table>\n",
       "</div>"
      ],
      "text/plain": [
       "        sms_count_month\n",
       "tariff                 \n",
       "smart         38.767102\n",
       "ultra         61.640957"
      ]
     },
     "metadata": {},
     "output_type": "display_data"
    },
    {
     "name": "stdout",
     "output_type": "stream",
     "text": [
      "Дисперсия по тарифу smart равна 718.8\n",
      "Стандартное откланение по тарифу smart равно 26.8\n",
      "Дисперсия по тарифу ultra равна 2008.6\n",
      "Стандартное откланение по тарифу ultra равно 44.8\n"
     ]
    }
   ],
   "source": [
    "data_all_dropna['sms_count_month'].hist(bins=15)\n",
    "plt.show()\n",
    "display(data_all_dropna.pivot_table(index='tariff', values='sms_count_month'))\n",
    "smart_var = data_all_dropna.query('tariff == \"smart\"')\n",
    "smart_var = list(smart_var['sms_count_month'])\n",
    "ultra_var = data_all_dropna.query('tariff == \"ultra\"')\n",
    "ultra_var = list(ultra_var['sms_count_month'])\n",
    "std_smart = np.sqrt(np.var(smart_var ,ddof=1))\n",
    "std_ultra = np.sqrt(np.var(ultra_var ,ddof=1))\n",
    "print(f'Дисперсия по тарифу smart равна {round(np.var(smart_var ,ddof=1), 1)}')\n",
    "print(f'Стандартное откланение по тарифу smart равно {round(std_smart, 1)}')\n",
    "print(f'Дисперсия по тарифу ultra равна {round(np.var(ultra_var ,ddof=1), 1)}')\n",
    "print(f'Стандартное откланение по тарифу ultra равно {round(std_ultra, 1)}')\n",
    "\n",
    "# расчет среднего количества минут, смс и интернета, требующихся в месяц \n",
    "# расчет дисперсии\n",
    "# расчет стандартного отклонения\n",
    "# построение гистограммы"
   ]
  },
  {
   "cell_type": "markdown",
   "id": "feb5a2cc",
   "metadata": {},
   "source": [
    "**На основании построенной гистограммы можно сказать следующее:**\n",
    "\n",
    "- Большинству пользователей достаточно  до 60 смс в месяц\n",
    "- Есть небольшой процент тех кому на разговоры требуется более 100 смс\n",
    "- Отдельные значения доходят и до 200 смс."
   ]
  },
  {
   "cell_type": "code",
   "execution_count": 45,
   "id": "8266e242",
   "metadata": {},
   "outputs": [
    {
     "data": {
      "image/png": "[encoded data removed]",
      "text/plain": [
       "<Figure size 432x288 with 1 Axes>"
      ]
     },
     "metadata": {
      "needs_background": "light"
     },
     "output_type": "display_data"
    },
    {
     "data": {
      "text/html": [
       "<div>\n",
       "<style scoped>\n",
       "    .dataframe tbody tr th:only-of-type {\n",
       "        vertical-align: middle;\n",
       "    }\n",
       "\n",
       "    .dataframe tbody tr th {\n",
       "        vertical-align: top;\n",
       "    }\n",
       "\n",
       "    .dataframe thead th {\n",
       "        text-align: right;\n",
       "    }\n",
       "</style>\n",
       "<table border=\"1\" class=\"dataframe\">\n",
       "  <thead>\n",
       "    <tr style=\"text-align: right;\">\n",
       "      <th></th>\n",
       "      <th>gb_month</th>\n",
       "    </tr>\n",
       "    <tr>\n",
       "      <th>tariff</th>\n",
       "      <th></th>\n",
       "    </tr>\n",
       "  </thead>\n",
       "  <tbody>\n",
       "    <tr>\n",
       "      <th>smart</th>\n",
       "      <td>15.864495</td>\n",
       "    </tr>\n",
       "    <tr>\n",
       "      <th>ultra</th>\n",
       "      <td>19.137059</td>\n",
       "    </tr>\n",
       "  </tbody>\n",
       "</table>\n",
       "</div>"
      ],
      "text/plain": [
       "         gb_month\n",
       "tariff           \n",
       "smart   15.864495\n",
       "ultra   19.137059"
      ]
     },
     "metadata": {},
     "output_type": "display_data"
    },
    {
     "name": "stdout",
     "output_type": "stream",
     "text": [
      "Дисперсия по тарифу smart равна 32.0\n",
      "Стандартное откланение по тарифу smart равно 5.7\n",
      "Дисперсия по тарифу ultra равна 88.4\n",
      "Стандартное откланение по тарифу ultra равно 9.4\n"
     ]
    }
   ],
   "source": [
    "data_all_dropna['gb_month'].hist(bins=15)\n",
    "plt.show()\n",
    "display(data_all_dropna.pivot_table(index='tariff', values='gb_month'))\n",
    "smart_var = data_all_dropna.query('tariff == \"smart\"')\n",
    "smart_var = list(smart_var['gb_month'])\n",
    "ultra_var = data_all_dropna.query('tariff == \"ultra\"')\n",
    "ultra_var = list(ultra_var['gb_month'])\n",
    "std_smart = np.sqrt(np.var(smart_var ,ddof=1))\n",
    "std_ultra = np.sqrt(np.var(ultra_var ,ddof=1))\n",
    "print(f'Дисперсия по тарифу smart равна {round(np.var(smart_var ,ddof=1), 1)}')\n",
    "print(f'Стандартное откланение по тарифу smart равно {round(std_smart, 1)}')\n",
    "print(f'Дисперсия по тарифу ultra равна {round(np.var(ultra_var ,ddof=1), 1)}')\n",
    "print(f'Стандартное откланение по тарифу ultra равно {round(std_ultra, 1)}')\n",
    "\n",
    "# расчет среднего количества минут, смс и интернета, требующихся в месяц \n",
    "# расчет дисперсии\n",
    "# расчет стандартного отклонения\n",
    "# построение гистограммы"
   ]
  },
  {
   "cell_type": "markdown",
   "id": "e36c55d5",
   "metadata": {},
   "source": [
    "**На основании построенной гистограммы можно сказать следующее:**\n",
    "\n",
    "- Большинству пользователей достаточно от 10 до 25 гб в месяц\n",
    "- Есть небольшой процент тех кому требуется более 30 гб, а также тех, кому требуется менее 10гб\n",
    "- Отдельные значения доходят и до 40-47 гб."
   ]
  },
  {
   "cell_type": "markdown",
   "id": "6c91f7d5",
   "metadata": {},
   "source": [
    "## Проверка гипотез"
   ]
  },
  {
   "cell_type": "code",
   "execution_count": 46,
   "id": "51bac64e",
   "metadata": {
    "scrolled": true
   },
   "outputs": [
    {
     "data": {
      "text/html": [
       "<div>\n",
       "<style scoped>\n",
       "    .dataframe tbody tr th:only-of-type {\n",
       "        vertical-align: middle;\n",
       "    }\n",
       "\n",
       "    .dataframe tbody tr th {\n",
       "        vertical-align: top;\n",
       "    }\n",
       "\n",
       "    .dataframe thead th {\n",
       "        text-align: right;\n",
       "    }\n",
       "</style>\n",
       "<table border=\"1\" class=\"dataframe\">\n",
       "  <thead>\n",
       "    <tr style=\"text-align: right;\">\n",
       "      <th></th>\n",
       "      <th>user_id</th>\n",
       "      <th>month</th>\n",
       "      <th>duration_count_month</th>\n",
       "      <th>duration_sum_month</th>\n",
       "      <th>calls_money</th>\n",
       "      <th>sms_count_month</th>\n",
       "      <th>messages_money</th>\n",
       "      <th>mb_month</th>\n",
       "      <th>gb_month</th>\n",
       "      <th>age</th>\n",
       "      <th>churn_date</th>\n",
       "      <th>city</th>\n",
       "      <th>first_name</th>\n",
       "      <th>last_name</th>\n",
       "      <th>reg_date</th>\n",
       "      <th>tariff</th>\n",
       "      <th>internet_money</th>\n",
       "      <th>user_money</th>\n",
       "    </tr>\n",
       "  </thead>\n",
       "  <tbody>\n",
       "    <tr>\n",
       "      <th>0</th>\n",
       "      <td>1000</td>\n",
       "      <td>5</td>\n",
       "      <td>22.0</td>\n",
       "      <td>159.0</td>\n",
       "      <td>0.0</td>\n",
       "      <td>22.0</td>\n",
       "      <td>0.0</td>\n",
       "      <td>2253.49</td>\n",
       "      <td>2.200674</td>\n",
       "      <td>52.0</td>\n",
       "      <td>NaN</td>\n",
       "      <td>Краснодар</td>\n",
       "      <td>Рафаил</td>\n",
       "      <td>Верещагин</td>\n",
       "      <td>2018-05-25</td>\n",
       "      <td>ultra</td>\n",
       "      <td>0.0</td>\n",
       "      <td>1950.0</td>\n",
       "    </tr>\n",
       "    <tr>\n",
       "      <th>1</th>\n",
       "      <td>1000</td>\n",
       "      <td>6</td>\n",
       "      <td>43.0</td>\n",
       "      <td>172.0</td>\n",
       "      <td>0.0</td>\n",
       "      <td>60.0</td>\n",
       "      <td>0.0</td>\n",
       "      <td>23233.77</td>\n",
       "      <td>22.689229</td>\n",
       "      <td>52.0</td>\n",
       "      <td>NaN</td>\n",
       "      <td>Краснодар</td>\n",
       "      <td>Рафаил</td>\n",
       "      <td>Верещагин</td>\n",
       "      <td>2018-05-25</td>\n",
       "      <td>ultra</td>\n",
       "      <td>0.0</td>\n",
       "      <td>1950.0</td>\n",
       "    </tr>\n",
       "    <tr>\n",
       "      <th>2</th>\n",
       "      <td>1000</td>\n",
       "      <td>7</td>\n",
       "      <td>47.0</td>\n",
       "      <td>340.0</td>\n",
       "      <td>0.0</td>\n",
       "      <td>75.0</td>\n",
       "      <td>0.0</td>\n",
       "      <td>14003.64</td>\n",
       "      <td>13.675430</td>\n",
       "      <td>52.0</td>\n",
       "      <td>NaN</td>\n",
       "      <td>Краснодар</td>\n",
       "      <td>Рафаил</td>\n",
       "      <td>Верещагин</td>\n",
       "      <td>2018-05-25</td>\n",
       "      <td>ultra</td>\n",
       "      <td>0.0</td>\n",
       "      <td>1950.0</td>\n",
       "    </tr>\n",
       "    <tr>\n",
       "      <th>3</th>\n",
       "      <td>1000</td>\n",
       "      <td>8</td>\n",
       "      <td>52.0</td>\n",
       "      <td>409.0</td>\n",
       "      <td>0.0</td>\n",
       "      <td>81.0</td>\n",
       "      <td>0.0</td>\n",
       "      <td>14055.93</td>\n",
       "      <td>13.726494</td>\n",
       "      <td>52.0</td>\n",
       "      <td>NaN</td>\n",
       "      <td>Краснодар</td>\n",
       "      <td>Рафаил</td>\n",
       "      <td>Верещагин</td>\n",
       "      <td>2018-05-25</td>\n",
       "      <td>ultra</td>\n",
       "      <td>0.0</td>\n",
       "      <td>1950.0</td>\n",
       "    </tr>\n",
       "    <tr>\n",
       "      <th>4</th>\n",
       "      <td>1000</td>\n",
       "      <td>9</td>\n",
       "      <td>58.0</td>\n",
       "      <td>467.0</td>\n",
       "      <td>0.0</td>\n",
       "      <td>57.0</td>\n",
       "      <td>0.0</td>\n",
       "      <td>14568.91</td>\n",
       "      <td>14.227451</td>\n",
       "      <td>52.0</td>\n",
       "      <td>NaN</td>\n",
       "      <td>Краснодар</td>\n",
       "      <td>Рафаил</td>\n",
       "      <td>Верещагин</td>\n",
       "      <td>2018-05-25</td>\n",
       "      <td>ultra</td>\n",
       "      <td>0.0</td>\n",
       "      <td>1950.0</td>\n",
       "    </tr>\n",
       "    <tr>\n",
       "      <th>5</th>\n",
       "      <td>1000</td>\n",
       "      <td>10</td>\n",
       "      <td>57.0</td>\n",
       "      <td>350.0</td>\n",
       "      <td>0.0</td>\n",
       "      <td>73.0</td>\n",
       "      <td>0.0</td>\n",
       "      <td>14702.49</td>\n",
       "      <td>14.357900</td>\n",
       "      <td>52.0</td>\n",
       "      <td>NaN</td>\n",
       "      <td>Краснодар</td>\n",
       "      <td>Рафаил</td>\n",
       "      <td>Верещагин</td>\n",
       "      <td>2018-05-25</td>\n",
       "      <td>ultra</td>\n",
       "      <td>0.0</td>\n",
       "      <td>1950.0</td>\n",
       "    </tr>\n",
       "    <tr>\n",
       "      <th>6</th>\n",
       "      <td>1000</td>\n",
       "      <td>11</td>\n",
       "      <td>43.0</td>\n",
       "      <td>338.0</td>\n",
       "      <td>0.0</td>\n",
       "      <td>58.0</td>\n",
       "      <td>0.0</td>\n",
       "      <td>14756.47</td>\n",
       "      <td>14.410615</td>\n",
       "      <td>52.0</td>\n",
       "      <td>NaN</td>\n",
       "      <td>Краснодар</td>\n",
       "      <td>Рафаил</td>\n",
       "      <td>Верещагин</td>\n",
       "      <td>2018-05-25</td>\n",
       "      <td>ultra</td>\n",
       "      <td>0.0</td>\n",
       "      <td>1950.0</td>\n",
       "    </tr>\n",
       "    <tr>\n",
       "      <th>7</th>\n",
       "      <td>1000</td>\n",
       "      <td>12</td>\n",
       "      <td>46.0</td>\n",
       "      <td>333.0</td>\n",
       "      <td>0.0</td>\n",
       "      <td>70.0</td>\n",
       "      <td>0.0</td>\n",
       "      <td>9817.61</td>\n",
       "      <td>9.587510</td>\n",
       "      <td>52.0</td>\n",
       "      <td>NaN</td>\n",
       "      <td>Краснодар</td>\n",
       "      <td>Рафаил</td>\n",
       "      <td>Верещагин</td>\n",
       "      <td>2018-05-25</td>\n",
       "      <td>ultra</td>\n",
       "      <td>0.0</td>\n",
       "      <td>1950.0</td>\n",
       "    </tr>\n",
       "    <tr>\n",
       "      <th>8</th>\n",
       "      <td>1001</td>\n",
       "      <td>11</td>\n",
       "      <td>59.0</td>\n",
       "      <td>430.0</td>\n",
       "      <td>0.0</td>\n",
       "      <td>NaN</td>\n",
       "      <td>0.0</td>\n",
       "      <td>18429.34</td>\n",
       "      <td>17.997402</td>\n",
       "      <td>41.0</td>\n",
       "      <td>NaN</td>\n",
       "      <td>Москва</td>\n",
       "      <td>Иван</td>\n",
       "      <td>Ежов</td>\n",
       "      <td>2018-11-01</td>\n",
       "      <td>smart</td>\n",
       "      <td>600.0</td>\n",
       "      <td>1150.0</td>\n",
       "    </tr>\n",
       "    <tr>\n",
       "      <th>9</th>\n",
       "      <td>1001</td>\n",
       "      <td>12</td>\n",
       "      <td>63.0</td>\n",
       "      <td>414.0</td>\n",
       "      <td>0.0</td>\n",
       "      <td>NaN</td>\n",
       "      <td>0.0</td>\n",
       "      <td>14036.66</td>\n",
       "      <td>13.707676</td>\n",
       "      <td>41.0</td>\n",
       "      <td>NaN</td>\n",
       "      <td>Москва</td>\n",
       "      <td>Иван</td>\n",
       "      <td>Ежов</td>\n",
       "      <td>2018-11-01</td>\n",
       "      <td>smart</td>\n",
       "      <td>0.0</td>\n",
       "      <td>550.0</td>\n",
       "    </tr>\n",
       "    <tr>\n",
       "      <th>10</th>\n",
       "      <td>1002</td>\n",
       "      <td>6</td>\n",
       "      <td>15.0</td>\n",
       "      <td>117.0</td>\n",
       "      <td>0.0</td>\n",
       "      <td>4.0</td>\n",
       "      <td>0.0</td>\n",
       "      <td>10856.82</td>\n",
       "      <td>10.602363</td>\n",
       "      <td>59.0</td>\n",
       "      <td>NaN</td>\n",
       "      <td>Стерлитамак</td>\n",
       "      <td>Евгений</td>\n",
       "      <td>Абрамович</td>\n",
       "      <td>2018-06-17</td>\n",
       "      <td>smart</td>\n",
       "      <td>0.0</td>\n",
       "      <td>550.0</td>\n",
       "    </tr>\n",
       "    <tr>\n",
       "      <th>11</th>\n",
       "      <td>1002</td>\n",
       "      <td>7</td>\n",
       "      <td>26.0</td>\n",
       "      <td>214.0</td>\n",
       "      <td>0.0</td>\n",
       "      <td>11.0</td>\n",
       "      <td>0.0</td>\n",
       "      <td>17580.10</td>\n",
       "      <td>17.168066</td>\n",
       "      <td>59.0</td>\n",
       "      <td>NaN</td>\n",
       "      <td>Стерлитамак</td>\n",
       "      <td>Евгений</td>\n",
       "      <td>Абрамович</td>\n",
       "      <td>2018-06-17</td>\n",
       "      <td>smart</td>\n",
       "      <td>400.0</td>\n",
       "      <td>950.0</td>\n",
       "    </tr>\n",
       "  </tbody>\n",
       "</table>\n",
       "</div>"
      ],
      "text/plain": [
       "    user_id  month  duration_count_month  duration_sum_month  calls_money  \\\n",
       "0      1000      5                  22.0               159.0          0.0   \n",
       "1      1000      6                  43.0               172.0          0.0   \n",
       "2      1000      7                  47.0               340.0          0.0   \n",
       "3      1000      8                  52.0               409.0          0.0   \n",
       "4      1000      9                  58.0               467.0          0.0   \n",
       "5      1000     10                  57.0               350.0          0.0   \n",
       "6      1000     11                  43.0               338.0          0.0   \n",
       "7      1000     12                  46.0               333.0          0.0   \n",
       "8      1001     11                  59.0               430.0          0.0   \n",
       "9      1001     12                  63.0               414.0          0.0   \n",
       "10     1002      6                  15.0               117.0          0.0   \n",
       "11     1002      7                  26.0               214.0          0.0   \n",
       "\n",
       "    sms_count_month  messages_money  mb_month   gb_month   age churn_date  \\\n",
       "0              22.0             0.0   2253.49   2.200674  52.0        NaN   \n",
       "1              60.0             0.0  23233.77  22.689229  52.0        NaN   \n",
       "2              75.0             0.0  14003.64  13.675430  52.0        NaN   \n",
       "3              81.0             0.0  14055.93  13.726494  52.0        NaN   \n",
       "4              57.0             0.0  14568.91  14.227451  52.0        NaN   \n",
       "5              73.0             0.0  14702.49  14.357900  52.0        NaN   \n",
       "6              58.0             0.0  14756.47  14.410615  52.0        NaN   \n",
       "7              70.0             0.0   9817.61   9.587510  52.0        NaN   \n",
       "8               NaN             0.0  18429.34  17.997402  41.0        NaN   \n",
       "9               NaN             0.0  14036.66  13.707676  41.0        NaN   \n",
       "10              4.0             0.0  10856.82  10.602363  59.0        NaN   \n",
       "11             11.0             0.0  17580.10  17.168066  59.0        NaN   \n",
       "\n",
       "           city first_name  last_name    reg_date tariff  internet_money  \\\n",
       "0     Краснодар     Рафаил  Верещагин  2018-05-25  ultra             0.0   \n",
       "1     Краснодар     Рафаил  Верещагин  2018-05-25  ultra             0.0   \n",
       "2     Краснодар     Рафаил  Верещагин  2018-05-25  ultra             0.0   \n",
       "3     Краснодар     Рафаил  Верещагин  2018-05-25  ultra             0.0   \n",
       "4     Краснодар     Рафаил  Верещагин  2018-05-25  ultra             0.0   \n",
       "5     Краснодар     Рафаил  Верещагин  2018-05-25  ultra             0.0   \n",
       "6     Краснодар     Рафаил  Верещагин  2018-05-25  ultra             0.0   \n",
       "7     Краснодар     Рафаил  Верещагин  2018-05-25  ultra             0.0   \n",
       "8        Москва       Иван       Ежов  2018-11-01  smart           600.0   \n",
       "9        Москва       Иван       Ежов  2018-11-01  smart             0.0   \n",
       "10  Стерлитамак    Евгений  Абрамович  2018-06-17  smart             0.0   \n",
       "11  Стерлитамак    Евгений  Абрамович  2018-06-17  smart           400.0   \n",
       "\n",
       "    user_money  \n",
       "0       1950.0  \n",
       "1       1950.0  \n",
       "2       1950.0  \n",
       "3       1950.0  \n",
       "4       1950.0  \n",
       "5       1950.0  \n",
       "6       1950.0  \n",
       "7       1950.0  \n",
       "8       1150.0  \n",
       "9        550.0  \n",
       "10       550.0  \n",
       "11       950.0  "
      ]
     },
     "execution_count": 46,
     "metadata": {},
     "output_type": "execute_result"
    }
   ],
   "source": [
    "data_all.head(12)"
   ]
  },
  {
   "cell_type": "code",
   "execution_count": 47,
   "id": "494792d4",
   "metadata": {},
   "outputs": [],
   "source": [
    "smart_money = data_all.query('tariff == \"smart\"')['user_money'].astype('int')\n",
    "smart_money = list(smart_money)\n",
    "\n",
    "ultra_money = data_all.query('tariff == \"ultra\"')['user_money'].astype('int')\n",
    "ultra_money = list(ultra_money)\n",
    "# подготовка выборки для проверки"
   ]
  },
  {
   "cell_type": "code",
   "execution_count": 48,
   "id": "2ce8eb67",
   "metadata": {},
   "outputs": [
    {
     "name": "stdout",
     "output_type": "stream",
     "text": [
      "p-значение: 3.214703782989713e-195\n",
      "Отвергаем нулевую гипотезу\n"
     ]
    }
   ],
   "source": [
    "alpha = .05\n",
    "\n",
    "results = st.ttest_ind(ultra_money,smart_money)\n",
    "\n",
    "print('p-значение:',results[1]) \n",
    "\n",
    "if results[1] < alpha:\n",
    "    print(\"Отвергаем нулевую гипотезу\")\n",
    "else:\n",
    "    print(\"Не получилось отвергнуть нулевую гипотезу\")\n",
    "# проверка гипотезы"
   ]
  },
  {
   "cell_type": "code",
   "execution_count": 49,
   "id": "94ca2951",
   "metadata": {},
   "outputs": [],
   "source": [
    "msk_money = data_all.query('city == \"Москва\"')['user_money'].astype('int')\n",
    "msk_money = list(msk_money)\n",
    "\n",
    "other_money = data_all.query('city != \"Москва\"')['user_money'].astype('int')\n",
    "other_money = list(other_money)\n",
    "#other_money = other_money[:611]\n",
    "# подготовка выборки для проверки"
   ]
  },
  {
   "cell_type": "code",
   "execution_count": 50,
   "id": "9805781c",
   "metadata": {},
   "outputs": [
    {
     "name": "stdout",
     "output_type": "stream",
     "text": [
      "p-значение: 0.4526049245157435\n",
      "Не получилось отвергнуть нулевую гипотезу\n"
     ]
    }
   ],
   "source": [
    "alpha = .05\n",
    "\n",
    "results = st.ttest_ind(msk_money,other_money)\n",
    "\n",
    "print('p-значение:',results[1]) \n",
    "\n",
    "if results[1] < alpha:\n",
    "    print(\"Отвергаем нулевую гипотезу\")\n",
    "else:\n",
    "    print(\"Не получилось отвергнуть нулевую гипотезу\")\n",
    "# проверка гипотезы"
   ]
  },
  {
   "cell_type": "markdown",
   "id": "9fcb4b44",
   "metadata": {},
   "source": [
    "**Вывод**\n",
    "\n",
    "1) **Гипотеза**: \"средняя выручка пользователей тарифов «Ультра» и «Смарт» различаются\"\n",
    "- нулевая гипотеза: средняя выручка пользователей тарифов «Ультра» и «Смарт» равны\n",
    "- альтернативная гипотеза средняя выручка пользователей тарифов «Ультра» и «Смарт» различаются\n",
    "- вероятность равной средней выручки оказалась меньше порогового значения (0.05), поэтому нулевая гипотеза отвергается в пользу альтернативной\n",
    "\n",
    "2) **Гипотеза**: \"средняя выручка пользователей из Москвы отличается от выручки пользователей из других регионов\"\n",
    "- нулевая гипотеза: средняя выручка пользователей из Москвы равна средней выручки пользователей из других регионов\"\n",
    "- средняя выручка пользователей из Москвы отличается от выручки пользователей из других регионов\"\n",
    "- вероятность равной средней выручки оказалась значительно выше порогового значения (0.05), поэтому нулевая гипотеза не отвергается"
   ]
  },
  {
   "cell_type": "markdown",
   "id": "422201b3",
   "metadata": {},
   "source": [
    "## Вывод"
   ]
  },
  {
   "cell_type": "markdown",
   "id": "07a01d85",
   "metadata": {},
   "source": [
    "Исследование проходило в несколько этапов:\n",
    "\n",
    "1) Обзор данных\n",
    "\n",
    "2) Предобратока данных\n",
    "\n",
    "В ходе предобратки:\n",
    "\n",
    "- исправлен формат времени,\n",
    "- дубликаты не обнаружены.\n",
    "- заполнены некоторые пропуски\n",
    "- объединены таблицы \n",
    "\n",
    "3) Добавление столбцов\n",
    "\n",
    "На этом этапе были добавлены следующие столбцы:\n",
    "- количество сделанных звонков и израсходованных минут разговора по месяцам\n",
    "- количество отправленных сообщений по месяцам;\n",
    "- объем израсходованного интернет-трафика по месяцам;\n",
    "- помесячная выручка.\n",
    "\n",
    "\n",
    "4) Исследовательский анализ данных\n",
    "\n",
    "На данном этапе были:\n",
    "- Выявлено количество минут разговора, сообщений и объём интернет-трафика необходимое для среднестатистического пользователя каждого тарифа в месяц.\n",
    "- Для каждого из перечисленных параметров посчитаны среднее количество, дисперсия и стандартное отклонение. \n",
    "\n",
    "5) Проверка гипотез\n",
    "\n",
    "В результате проверки гипотез было установлено:\n",
    "- средняя выручка пользователей тарифов «Ультра» и «Смарт» различаются;\n",
    "- средняя выручка пользователей из Москвы и средняя выручка пользователей из других регионов равны."
   ]
  }
 ],
 "metadata": {
  "ExecuteTimeLog": [
   {
    "duration": 1158,
    "start_time": "2022-04-21T17:07:32.306Z"
   },
   {
    "duration": 192,
    "start_time": "2022-04-21T17:07:33.466Z"
   },
   {
    "duration": 0,
    "start_time": "2022-04-21T17:07:33.662Z"
   },
   {
    "duration": 0,
    "start_time": "2022-04-21T17:07:33.664Z"
   },
   {
    "duration": 0,
    "start_time": "2022-04-21T17:07:33.665Z"
   },
   {
    "duration": 0,
    "start_time": "2022-04-21T17:07:33.667Z"
   },
   {
    "duration": 0,
    "start_time": "2022-04-21T17:07:33.668Z"
   },
   {
    "duration": 0,
    "start_time": "2022-04-21T17:07:33.669Z"
   },
   {
    "duration": 0,
    "start_time": "2022-04-21T17:07:33.671Z"
   },
   {
    "duration": 0,
    "start_time": "2022-04-21T17:07:33.672Z"
   },
   {
    "duration": 0,
    "start_time": "2022-04-21T17:07:33.673Z"
   },
   {
    "duration": 0,
    "start_time": "2022-04-21T17:07:33.675Z"
   },
   {
    "duration": 0,
    "start_time": "2022-04-21T17:07:33.676Z"
   },
   {
    "duration": 0,
    "start_time": "2022-04-21T17:07:33.678Z"
   },
   {
    "duration": 0,
    "start_time": "2022-04-21T17:07:33.679Z"
   },
   {
    "duration": 0,
    "start_time": "2022-04-21T17:07:33.680Z"
   },
   {
    "duration": 0,
    "start_time": "2022-04-21T17:07:33.681Z"
   },
   {
    "duration": 0,
    "start_time": "2022-04-21T17:07:33.683Z"
   },
   {
    "duration": 0,
    "start_time": "2022-04-21T17:07:33.722Z"
   },
   {
    "duration": 0,
    "start_time": "2022-04-21T17:07:33.723Z"
   },
   {
    "duration": 0,
    "start_time": "2022-04-21T17:07:33.724Z"
   },
   {
    "duration": 0,
    "start_time": "2022-04-21T17:07:33.724Z"
   },
   {
    "duration": 0,
    "start_time": "2022-04-21T17:07:33.725Z"
   },
   {
    "duration": 0,
    "start_time": "2022-04-21T17:07:33.729Z"
   },
   {
    "duration": 0,
    "start_time": "2022-04-21T17:07:33.730Z"
   },
   {
    "duration": 0,
    "start_time": "2022-04-21T17:07:33.730Z"
   },
   {
    "duration": 0,
    "start_time": "2022-04-21T17:07:33.731Z"
   },
   {
    "duration": 0,
    "start_time": "2022-04-21T17:07:33.735Z"
   },
   {
    "duration": 0,
    "start_time": "2022-04-21T17:07:33.736Z"
   },
   {
    "duration": 0,
    "start_time": "2022-04-21T17:07:33.737Z"
   },
   {
    "duration": 0,
    "start_time": "2022-04-21T17:07:33.738Z"
   },
   {
    "duration": 0,
    "start_time": "2022-04-21T17:07:33.739Z"
   },
   {
    "duration": 0,
    "start_time": "2022-04-21T17:07:33.740Z"
   },
   {
    "duration": 0,
    "start_time": "2022-04-21T17:07:33.741Z"
   },
   {
    "duration": 0,
    "start_time": "2022-04-21T17:07:33.743Z"
   },
   {
    "duration": 0,
    "start_time": "2022-04-21T17:07:33.744Z"
   },
   {
    "duration": 0,
    "start_time": "2022-04-21T17:07:33.745Z"
   },
   {
    "duration": 0,
    "start_time": "2022-04-21T17:07:33.746Z"
   },
   {
    "duration": 0,
    "start_time": "2022-04-21T17:07:33.747Z"
   },
   {
    "duration": 1,
    "start_time": "2022-04-21T17:07:33.748Z"
   },
   {
    "duration": 0,
    "start_time": "2022-04-21T17:07:33.749Z"
   },
   {
    "duration": 0,
    "start_time": "2022-04-21T17:07:33.750Z"
   },
   {
    "duration": 0,
    "start_time": "2022-04-21T17:07:33.752Z"
   },
   {
    "duration": 0,
    "start_time": "2022-04-21T17:07:33.752Z"
   },
   {
    "duration": 0,
    "start_time": "2022-04-21T17:07:33.753Z"
   },
   {
    "duration": 0,
    "start_time": "2022-04-21T17:07:33.755Z"
   },
   {
    "duration": 185,
    "start_time": "2022-04-21T17:09:37.966Z"
   },
   {
    "duration": 276,
    "start_time": "2022-04-21T17:09:46.324Z"
   },
   {
    "duration": 266,
    "start_time": "2022-04-21T17:11:05.770Z"
   },
   {
    "duration": 250,
    "start_time": "2022-04-21T17:11:15.164Z"
   },
   {
    "duration": 199,
    "start_time": "2022-04-21T17:12:06.627Z"
   },
   {
    "duration": 174,
    "start_time": "2022-04-21T17:24:38.826Z"
   },
   {
    "duration": 1790,
    "start_time": "2022-04-21T17:25:32.549Z"
   },
   {
    "duration": 1140,
    "start_time": "2022-04-21T17:25:34.341Z"
   },
   {
    "duration": 25,
    "start_time": "2022-04-21T17:25:35.483Z"
   },
   {
    "duration": 1484,
    "start_time": "2022-04-21T17:25:35.511Z"
   },
   {
    "duration": 24,
    "start_time": "2022-04-21T17:25:36.996Z"
   },
   {
    "duration": 2255,
    "start_time": "2022-04-21T17:25:37.022Z"
   },
   {
    "duration": 20,
    "start_time": "2022-04-21T17:25:39.279Z"
   },
   {
    "duration": 147,
    "start_time": "2022-04-21T17:25:39.301Z"
   },
   {
    "duration": 11,
    "start_time": "2022-04-21T17:25:39.450Z"
   },
   {
    "duration": 219,
    "start_time": "2022-04-21T17:25:39.464Z"
   },
   {
    "duration": 14,
    "start_time": "2022-04-21T17:25:39.685Z"
   },
   {
    "duration": 15,
    "start_time": "2022-04-21T17:25:39.702Z"
   },
   {
    "duration": 153,
    "start_time": "2022-04-21T17:25:39.719Z"
   },
   {
    "duration": 71,
    "start_time": "2022-04-21T17:25:39.874Z"
   },
   {
    "duration": 37,
    "start_time": "2022-04-21T17:25:39.947Z"
   },
   {
    "duration": 60,
    "start_time": "2022-04-21T17:25:39.986Z"
   },
   {
    "duration": 18,
    "start_time": "2022-04-21T17:25:40.048Z"
   },
   {
    "duration": 15,
    "start_time": "2022-04-21T17:25:40.068Z"
   },
   {
    "duration": 18,
    "start_time": "2022-04-21T17:25:40.085Z"
   },
   {
    "duration": 44,
    "start_time": "2022-04-21T17:25:40.105Z"
   },
   {
    "duration": 16,
    "start_time": "2022-04-21T17:25:40.151Z"
   },
   {
    "duration": 97,
    "start_time": "2022-04-21T17:25:40.168Z"
   },
   {
    "duration": 5,
    "start_time": "2022-04-21T17:25:40.267Z"
   },
   {
    "duration": 21,
    "start_time": "2022-04-21T17:25:40.274Z"
   },
   {
    "duration": 86,
    "start_time": "2022-04-21T17:25:40.296Z"
   },
   {
    "duration": 4,
    "start_time": "2022-04-21T17:25:40.384Z"
   },
   {
    "duration": 22,
    "start_time": "2022-04-21T17:25:40.390Z"
   },
   {
    "duration": 85,
    "start_time": "2022-04-21T17:25:40.422Z"
   },
   {
    "duration": 5,
    "start_time": "2022-04-21T17:25:40.509Z"
   },
   {
    "duration": 37,
    "start_time": "2022-04-21T17:25:40.516Z"
   },
   {
    "duration": 60,
    "start_time": "2022-04-21T17:25:40.555Z"
   },
   {
    "duration": 33,
    "start_time": "2022-04-21T17:25:40.617Z"
   },
   {
    "duration": 5,
    "start_time": "2022-04-21T17:25:40.653Z"
   },
   {
    "duration": 56,
    "start_time": "2022-04-21T17:25:40.659Z"
   },
   {
    "duration": 5,
    "start_time": "2022-04-21T17:25:40.716Z"
   },
   {
    "duration": 82,
    "start_time": "2022-04-21T17:25:40.723Z"
   },
   {
    "duration": 25,
    "start_time": "2022-04-21T17:25:40.806Z"
   },
   {
    "duration": 15,
    "start_time": "2022-04-21T17:25:40.833Z"
   },
   {
    "duration": 27,
    "start_time": "2022-04-21T17:25:40.850Z"
   },
   {
    "duration": 8,
    "start_time": "2022-04-21T17:25:40.878Z"
   },
   {
    "duration": 440,
    "start_time": "2022-04-21T17:25:40.887Z"
   },
   {
    "duration": 23,
    "start_time": "2022-04-21T17:25:41.329Z"
   },
   {
    "duration": 29,
    "start_time": "2022-04-21T17:25:41.353Z"
   },
   {
    "duration": 11,
    "start_time": "2022-04-21T17:25:41.383Z"
   },
   {
    "duration": 22,
    "start_time": "2022-04-21T17:25:41.396Z"
   },
   {
    "duration": 31,
    "start_time": "2022-04-21T17:25:41.420Z"
   },
   {
    "duration": 17,
    "start_time": "2022-04-21T17:27:07.501Z"
   },
   {
    "duration": 5,
    "start_time": "2022-04-21T17:31:30.196Z"
   },
   {
    "duration": 6,
    "start_time": "2022-04-21T17:31:47.520Z"
   },
   {
    "duration": 4,
    "start_time": "2022-04-21T17:32:06.535Z"
   },
   {
    "duration": 18,
    "start_time": "2022-04-21T17:34:01.033Z"
   },
   {
    "duration": 12,
    "start_time": "2022-04-21T18:30:47.970Z"
   },
   {
    "duration": 4,
    "start_time": "2022-04-21T18:31:00.067Z"
   },
   {
    "duration": 1401,
    "start_time": "2022-04-22T06:02:13.688Z"
   },
   {
    "duration": 212,
    "start_time": "2022-04-22T06:02:15.091Z"
   },
   {
    "duration": 36,
    "start_time": "2022-04-22T06:02:15.304Z"
   },
   {
    "duration": 183,
    "start_time": "2022-04-22T06:02:15.342Z"
   },
   {
    "duration": 22,
    "start_time": "2022-04-22T06:02:15.526Z"
   },
   {
    "duration": 130,
    "start_time": "2022-04-22T06:02:15.549Z"
   },
   {
    "duration": 31,
    "start_time": "2022-04-22T06:02:15.681Z"
   },
   {
    "duration": 50,
    "start_time": "2022-04-22T06:02:15.714Z"
   },
   {
    "duration": 12,
    "start_time": "2022-04-22T06:02:15.766Z"
   },
   {
    "duration": 57,
    "start_time": "2022-04-22T06:02:15.781Z"
   },
   {
    "duration": 12,
    "start_time": "2022-04-22T06:02:15.840Z"
   },
   {
    "duration": 4,
    "start_time": "2022-04-22T06:02:15.854Z"
   },
   {
    "duration": 140,
    "start_time": "2022-04-22T06:02:15.860Z"
   },
   {
    "duration": 14,
    "start_time": "2022-04-22T06:02:30.005Z"
   },
   {
    "duration": 19,
    "start_time": "2022-04-22T06:05:03.104Z"
   },
   {
    "duration": 9,
    "start_time": "2022-04-22T06:05:17.662Z"
   },
   {
    "duration": 10,
    "start_time": "2022-04-22T06:05:22.819Z"
   },
   {
    "duration": 3,
    "start_time": "2022-04-22T06:05:28.317Z"
   },
   {
    "duration": 210,
    "start_time": "2022-04-22T06:05:28.326Z"
   },
   {
    "duration": 23,
    "start_time": "2022-04-22T06:05:28.538Z"
   },
   {
    "duration": 171,
    "start_time": "2022-04-22T06:05:28.562Z"
   },
   {
    "duration": 20,
    "start_time": "2022-04-22T06:05:28.735Z"
   },
   {
    "duration": 136,
    "start_time": "2022-04-22T06:05:28.756Z"
   },
   {
    "duration": 26,
    "start_time": "2022-04-22T06:05:28.893Z"
   },
   {
    "duration": 43,
    "start_time": "2022-04-22T06:05:28.921Z"
   },
   {
    "duration": 11,
    "start_time": "2022-04-22T06:05:28.966Z"
   },
   {
    "duration": 53,
    "start_time": "2022-04-22T06:05:28.979Z"
   },
   {
    "duration": 10,
    "start_time": "2022-04-22T06:05:29.034Z"
   },
   {
    "duration": 6,
    "start_time": "2022-04-22T06:05:29.045Z"
   },
   {
    "duration": 118,
    "start_time": "2022-04-22T06:05:29.052Z"
   },
   {
    "duration": 9,
    "start_time": "2022-04-22T06:05:29.171Z"
   },
   {
    "duration": 92,
    "start_time": "2022-04-22T06:20:08.058Z"
   },
   {
    "duration": 3,
    "start_time": "2022-04-22T06:23:44.012Z"
   },
   {
    "duration": 15,
    "start_time": "2022-04-22T06:23:58.829Z"
   },
   {
    "duration": 9,
    "start_time": "2022-04-22T06:30:24.565Z"
   },
   {
    "duration": 14,
    "start_time": "2022-04-22T06:32:53.224Z"
   },
   {
    "duration": 8,
    "start_time": "2022-04-22T06:33:04.758Z"
   },
   {
    "duration": 3,
    "start_time": "2022-04-22T06:33:11.067Z"
   },
   {
    "duration": 203,
    "start_time": "2022-04-22T06:33:11.078Z"
   },
   {
    "duration": 31,
    "start_time": "2022-04-22T06:33:11.283Z"
   },
   {
    "duration": 164,
    "start_time": "2022-04-22T06:33:11.316Z"
   },
   {
    "duration": 25,
    "start_time": "2022-04-22T06:33:11.482Z"
   },
   {
    "duration": 126,
    "start_time": "2022-04-22T06:33:11.509Z"
   },
   {
    "duration": 21,
    "start_time": "2022-04-22T06:33:11.637Z"
   },
   {
    "duration": 55,
    "start_time": "2022-04-22T06:33:11.661Z"
   },
   {
    "duration": 11,
    "start_time": "2022-04-22T06:33:11.718Z"
   },
   {
    "duration": 66,
    "start_time": "2022-04-22T06:33:11.731Z"
   },
   {
    "duration": 11,
    "start_time": "2022-04-22T06:33:11.799Z"
   },
   {
    "duration": 5,
    "start_time": "2022-04-22T06:33:11.811Z"
   },
   {
    "duration": 126,
    "start_time": "2022-04-22T06:33:11.818Z"
   },
   {
    "duration": 10,
    "start_time": "2022-04-22T06:33:11.946Z"
   },
   {
    "duration": 5,
    "start_time": "2022-04-22T06:36:24.623Z"
   },
   {
    "duration": 19,
    "start_time": "2022-04-22T06:37:02.021Z"
   },
   {
    "duration": 9,
    "start_time": "2022-04-22T06:37:49.772Z"
   },
   {
    "duration": 29,
    "start_time": "2022-04-22T06:41:26.035Z"
   },
   {
    "duration": 11,
    "start_time": "2022-04-22T06:49:01.887Z"
   },
   {
    "duration": 13,
    "start_time": "2022-04-22T06:49:53.415Z"
   },
   {
    "duration": 11,
    "start_time": "2022-04-22T06:52:12.675Z"
   },
   {
    "duration": 2,
    "start_time": "2022-04-22T07:02:41.889Z"
   },
   {
    "duration": 8,
    "start_time": "2022-04-22T07:02:46.261Z"
   },
   {
    "duration": 3,
    "start_time": "2022-04-22T07:02:55.368Z"
   },
   {
    "duration": 197,
    "start_time": "2022-04-22T07:02:55.378Z"
   },
   {
    "duration": 38,
    "start_time": "2022-04-22T07:02:55.577Z"
   },
   {
    "duration": 158,
    "start_time": "2022-04-22T07:02:55.618Z"
   },
   {
    "duration": 36,
    "start_time": "2022-04-22T07:02:55.778Z"
   },
   {
    "duration": 122,
    "start_time": "2022-04-22T07:02:55.816Z"
   },
   {
    "duration": 18,
    "start_time": "2022-04-22T07:02:55.940Z"
   },
   {
    "duration": 42,
    "start_time": "2022-04-22T07:02:55.960Z"
   },
   {
    "duration": 14,
    "start_time": "2022-04-22T07:02:56.004Z"
   },
   {
    "duration": 57,
    "start_time": "2022-04-22T07:02:56.020Z"
   },
   {
    "duration": 9,
    "start_time": "2022-04-22T07:02:56.080Z"
   },
   {
    "duration": 5,
    "start_time": "2022-04-22T07:02:56.091Z"
   },
   {
    "duration": 127,
    "start_time": "2022-04-22T07:02:56.097Z"
   },
   {
    "duration": 11,
    "start_time": "2022-04-22T07:02:56.231Z"
   },
   {
    "duration": 67,
    "start_time": "2022-04-22T07:02:56.244Z"
   },
   {
    "duration": 37,
    "start_time": "2022-04-22T07:02:56.316Z"
   },
   {
    "duration": 29,
    "start_time": "2022-04-22T07:02:56.355Z"
   },
   {
    "duration": 37,
    "start_time": "2022-04-22T07:02:56.385Z"
   },
   {
    "duration": 16,
    "start_time": "2022-04-22T07:02:56.424Z"
   },
   {
    "duration": 6,
    "start_time": "2022-04-22T07:02:56.441Z"
   },
   {
    "duration": 11,
    "start_time": "2022-04-22T07:02:56.448Z"
   },
   {
    "duration": 8,
    "start_time": "2022-04-22T07:02:56.460Z"
   },
   {
    "duration": 116,
    "start_time": "2022-04-22T07:02:56.469Z"
   },
   {
    "duration": 5,
    "start_time": "2022-04-22T07:02:56.586Z"
   },
   {
    "duration": 17,
    "start_time": "2022-04-22T07:02:56.593Z"
   },
   {
    "duration": 65,
    "start_time": "2022-04-22T07:02:56.616Z"
   },
   {
    "duration": 3,
    "start_time": "2022-04-22T07:02:56.683Z"
   },
   {
    "duration": 26,
    "start_time": "2022-04-22T07:02:56.687Z"
   },
   {
    "duration": 80,
    "start_time": "2022-04-22T07:02:56.717Z"
   },
   {
    "duration": 14,
    "start_time": "2022-04-22T07:02:56.799Z"
   },
   {
    "duration": 17,
    "start_time": "2022-04-22T07:02:56.815Z"
   },
   {
    "duration": 16,
    "start_time": "2022-04-22T07:02:56.834Z"
   },
   {
    "duration": 29,
    "start_time": "2022-04-22T07:02:56.852Z"
   },
   {
    "duration": 4,
    "start_time": "2022-04-22T07:02:56.883Z"
   },
   {
    "duration": 31,
    "start_time": "2022-04-22T07:02:56.914Z"
   },
   {
    "duration": 5,
    "start_time": "2022-04-22T07:02:56.946Z"
   },
   {
    "duration": 92,
    "start_time": "2022-04-22T07:02:56.952Z"
   },
   {
    "duration": 26,
    "start_time": "2022-04-22T07:02:57.045Z"
   },
   {
    "duration": 7,
    "start_time": "2022-04-22T07:02:57.073Z"
   },
   {
    "duration": 3,
    "start_time": "2022-04-22T07:02:57.081Z"
   },
   {
    "duration": 29,
    "start_time": "2022-04-22T07:02:57.085Z"
   },
   {
    "duration": 174,
    "start_time": "2022-04-22T07:07:46.980Z"
   },
   {
    "duration": 76,
    "start_time": "2022-04-22T07:10:12.049Z"
   },
   {
    "duration": 144,
    "start_time": "2022-04-22T07:11:04.926Z"
   },
   {
    "duration": 473,
    "start_time": "2022-04-22T07:14:13.920Z"
   },
   {
    "duration": 468,
    "start_time": "2022-04-22T07:14:32.383Z"
   },
   {
    "duration": 7,
    "start_time": "2022-04-22T07:21:10.312Z"
   },
   {
    "duration": 9,
    "start_time": "2022-04-22T07:21:12.216Z"
   },
   {
    "duration": 179,
    "start_time": "2022-04-22T07:21:15.646Z"
   },
   {
    "duration": 224,
    "start_time": "2022-04-22T07:21:29.071Z"
   },
   {
    "duration": 502,
    "start_time": "2022-04-22T07:21:31.686Z"
   },
   {
    "duration": 2,
    "start_time": "2022-04-22T07:25:55.083Z"
   },
   {
    "duration": 7,
    "start_time": "2022-04-22T07:26:04.467Z"
   },
   {
    "duration": 3,
    "start_time": "2022-04-22T07:26:16.550Z"
   },
   {
    "duration": 263,
    "start_time": "2022-04-22T07:26:16.570Z"
   },
   {
    "duration": 37,
    "start_time": "2022-04-22T07:26:16.835Z"
   },
   {
    "duration": 267,
    "start_time": "2022-04-22T07:26:16.874Z"
   },
   {
    "duration": 23,
    "start_time": "2022-04-22T07:26:17.146Z"
   },
   {
    "duration": 144,
    "start_time": "2022-04-22T07:26:17.170Z"
   },
   {
    "duration": 37,
    "start_time": "2022-04-22T07:26:17.315Z"
   },
   {
    "duration": 44,
    "start_time": "2022-04-22T07:26:17.354Z"
   },
   {
    "duration": 12,
    "start_time": "2022-04-22T07:26:17.400Z"
   },
   {
    "duration": 82,
    "start_time": "2022-04-22T07:26:17.415Z"
   },
   {
    "duration": 23,
    "start_time": "2022-04-22T07:26:17.500Z"
   },
   {
    "duration": 6,
    "start_time": "2022-04-22T07:26:17.530Z"
   },
   {
    "duration": 144,
    "start_time": "2022-04-22T07:26:17.538Z"
   },
   {
    "duration": 11,
    "start_time": "2022-04-22T07:26:17.684Z"
   },
   {
    "duration": 79,
    "start_time": "2022-04-22T07:26:17.697Z"
   },
   {
    "duration": 45,
    "start_time": "2022-04-22T07:26:17.778Z"
   },
   {
    "duration": 42,
    "start_time": "2022-04-22T07:26:17.828Z"
   },
   {
    "duration": 16,
    "start_time": "2022-04-22T07:26:17.871Z"
   },
   {
    "duration": 41,
    "start_time": "2022-04-22T07:26:17.888Z"
   },
   {
    "duration": 15,
    "start_time": "2022-04-22T07:26:17.933Z"
   },
   {
    "duration": 12,
    "start_time": "2022-04-22T07:26:17.951Z"
   },
   {
    "duration": 10,
    "start_time": "2022-04-22T07:26:17.964Z"
   },
   {
    "duration": 124,
    "start_time": "2022-04-22T07:26:17.975Z"
   },
   {
    "duration": 4,
    "start_time": "2022-04-22T07:26:18.101Z"
   },
   {
    "duration": 28,
    "start_time": "2022-04-22T07:26:18.107Z"
   },
   {
    "duration": 73,
    "start_time": "2022-04-22T07:26:18.140Z"
   },
   {
    "duration": 10,
    "start_time": "2022-04-22T07:26:18.219Z"
   },
   {
    "duration": 16,
    "start_time": "2022-04-22T07:26:18.233Z"
   },
   {
    "duration": 108,
    "start_time": "2022-04-22T07:26:18.253Z"
   },
   {
    "duration": 4,
    "start_time": "2022-04-22T07:26:18.363Z"
   },
   {
    "duration": 16,
    "start_time": "2022-04-22T07:26:18.369Z"
   },
   {
    "duration": 45,
    "start_time": "2022-04-22T07:26:18.386Z"
   },
   {
    "duration": 38,
    "start_time": "2022-04-22T07:26:18.435Z"
   },
   {
    "duration": 4,
    "start_time": "2022-04-22T07:26:18.475Z"
   },
   {
    "duration": 43,
    "start_time": "2022-04-22T07:26:18.480Z"
   },
   {
    "duration": 9,
    "start_time": "2022-04-22T07:26:18.525Z"
   },
   {
    "duration": 100,
    "start_time": "2022-04-22T07:26:18.536Z"
   },
   {
    "duration": 37,
    "start_time": "2022-04-22T07:26:18.638Z"
   },
   {
    "duration": 7,
    "start_time": "2022-04-22T07:26:18.677Z"
   },
   {
    "duration": 2,
    "start_time": "2022-04-22T07:26:18.686Z"
   },
   {
    "duration": 9,
    "start_time": "2022-04-22T07:26:18.690Z"
   },
   {
    "duration": 26,
    "start_time": "2022-04-22T07:34:51.047Z"
   },
   {
    "duration": 9,
    "start_time": "2022-04-22T07:35:08.345Z"
   },
   {
    "duration": 7,
    "start_time": "2022-04-22T07:35:39.226Z"
   },
   {
    "duration": 8,
    "start_time": "2022-04-22T07:35:46.059Z"
   },
   {
    "duration": 13,
    "start_time": "2022-04-22T07:36:20.061Z"
   },
   {
    "duration": 18,
    "start_time": "2022-04-22T07:36:44.136Z"
   },
   {
    "duration": 4,
    "start_time": "2022-04-22T07:36:55.199Z"
   },
   {
    "duration": 225,
    "start_time": "2022-04-22T07:36:55.217Z"
   },
   {
    "duration": 27,
    "start_time": "2022-04-22T07:36:55.449Z"
   },
   {
    "duration": 181,
    "start_time": "2022-04-22T07:36:55.478Z"
   },
   {
    "duration": 21,
    "start_time": "2022-04-22T07:36:55.661Z"
   },
   {
    "duration": 184,
    "start_time": "2022-04-22T07:36:55.683Z"
   },
   {
    "duration": 18,
    "start_time": "2022-04-22T07:36:55.868Z"
   },
   {
    "duration": 64,
    "start_time": "2022-04-22T07:36:55.888Z"
   },
   {
    "duration": 10,
    "start_time": "2022-04-22T07:36:55.954Z"
   },
   {
    "duration": 84,
    "start_time": "2022-04-22T07:36:55.966Z"
   },
   {
    "duration": 9,
    "start_time": "2022-04-22T07:36:56.054Z"
   },
   {
    "duration": 18,
    "start_time": "2022-04-22T07:36:56.065Z"
   },
   {
    "duration": 139,
    "start_time": "2022-04-22T07:36:56.085Z"
   },
   {
    "duration": 18,
    "start_time": "2022-04-22T07:36:56.226Z"
   },
   {
    "duration": 69,
    "start_time": "2022-04-22T07:36:56.246Z"
   },
   {
    "duration": 42,
    "start_time": "2022-04-22T07:36:56.317Z"
   },
   {
    "duration": 52,
    "start_time": "2022-04-22T07:36:56.361Z"
   },
   {
    "duration": 23,
    "start_time": "2022-04-22T07:36:56.417Z"
   },
   {
    "duration": 20,
    "start_time": "2022-04-22T07:36:56.446Z"
   },
   {
    "duration": 8,
    "start_time": "2022-04-22T07:36:56.467Z"
   },
   {
    "duration": 18,
    "start_time": "2022-04-22T07:36:56.477Z"
   },
   {
    "duration": 22,
    "start_time": "2022-04-22T07:36:56.496Z"
   },
   {
    "duration": 107,
    "start_time": "2022-04-22T07:36:56.523Z"
   },
   {
    "duration": 5,
    "start_time": "2022-04-22T07:36:56.632Z"
   },
   {
    "duration": 20,
    "start_time": "2022-04-22T07:36:56.639Z"
   },
   {
    "duration": 97,
    "start_time": "2022-04-22T07:36:56.661Z"
   },
   {
    "duration": 4,
    "start_time": "2022-04-22T07:36:56.760Z"
   },
   {
    "duration": 13,
    "start_time": "2022-04-22T07:36:56.765Z"
   },
   {
    "duration": 104,
    "start_time": "2022-04-22T07:36:56.783Z"
   },
   {
    "duration": 4,
    "start_time": "2022-04-22T07:36:56.888Z"
   },
   {
    "duration": 30,
    "start_time": "2022-04-22T07:36:56.894Z"
   },
   {
    "duration": 30,
    "start_time": "2022-04-22T07:36:56.925Z"
   },
   {
    "duration": 30,
    "start_time": "2022-04-22T07:36:56.957Z"
   },
   {
    "duration": 4,
    "start_time": "2022-04-22T07:36:56.989Z"
   },
   {
    "duration": 54,
    "start_time": "2022-04-22T07:36:56.994Z"
   },
   {
    "duration": 8,
    "start_time": "2022-04-22T07:36:57.050Z"
   },
   {
    "duration": 88,
    "start_time": "2022-04-22T07:36:57.060Z"
   },
   {
    "duration": 28,
    "start_time": "2022-04-22T07:36:57.150Z"
   },
   {
    "duration": 9,
    "start_time": "2022-04-22T07:36:57.180Z"
   },
   {
    "duration": 40,
    "start_time": "2022-04-22T07:36:57.191Z"
   },
   {
    "duration": 7,
    "start_time": "2022-04-22T07:41:00.087Z"
   },
   {
    "duration": 7,
    "start_time": "2022-04-22T07:41:13.191Z"
   },
   {
    "duration": 6,
    "start_time": "2022-04-22T07:50:26.747Z"
   },
   {
    "duration": 174,
    "start_time": "2022-04-22T07:51:53.489Z"
   },
   {
    "duration": 150,
    "start_time": "2022-04-22T07:53:46.338Z"
   },
   {
    "duration": 169,
    "start_time": "2022-04-22T07:55:14.312Z"
   },
   {
    "duration": 13,
    "start_time": "2022-04-22T08:06:01.267Z"
   },
   {
    "duration": 11,
    "start_time": "2022-04-22T08:06:10.042Z"
   },
   {
    "duration": 12,
    "start_time": "2022-04-22T08:06:16.940Z"
   },
   {
    "duration": 11,
    "start_time": "2022-04-22T08:06:26.050Z"
   },
   {
    "duration": 10,
    "start_time": "2022-04-22T08:07:01.866Z"
   },
   {
    "duration": 5,
    "start_time": "2022-04-22T08:07:04.149Z"
   },
   {
    "duration": 10,
    "start_time": "2022-04-22T08:07:23.638Z"
   },
   {
    "duration": 5,
    "start_time": "2022-04-22T08:07:25.358Z"
   },
   {
    "duration": 96,
    "start_time": "2022-04-22T08:11:59.327Z"
   },
   {
    "duration": 1523,
    "start_time": "2022-04-22T16:46:15.074Z"
   },
   {
    "duration": 389,
    "start_time": "2022-04-22T16:46:16.601Z"
   },
   {
    "duration": 54,
    "start_time": "2022-04-22T16:46:16.993Z"
   },
   {
    "duration": 236,
    "start_time": "2022-04-22T16:46:17.050Z"
   },
   {
    "duration": 48,
    "start_time": "2022-04-22T16:46:17.290Z"
   },
   {
    "duration": 230,
    "start_time": "2022-04-22T16:46:17.341Z"
   },
   {
    "duration": 45,
    "start_time": "2022-04-22T16:46:17.574Z"
   },
   {
    "duration": 104,
    "start_time": "2022-04-22T16:46:17.622Z"
   },
   {
    "duration": 15,
    "start_time": "2022-04-22T16:46:17.729Z"
   },
   {
    "duration": 134,
    "start_time": "2022-04-22T16:46:17.746Z"
   },
   {
    "duration": 18,
    "start_time": "2022-04-22T16:46:17.883Z"
   },
   {
    "duration": 6,
    "start_time": "2022-04-22T16:46:17.904Z"
   },
   {
    "duration": 212,
    "start_time": "2022-04-22T16:46:17.913Z"
   },
   {
    "duration": 21,
    "start_time": "2022-04-22T16:46:18.129Z"
   },
   {
    "duration": 125,
    "start_time": "2022-04-22T16:46:18.153Z"
   },
   {
    "duration": 56,
    "start_time": "2022-04-22T16:46:18.281Z"
   },
   {
    "duration": 73,
    "start_time": "2022-04-22T16:46:18.339Z"
   },
   {
    "duration": 25,
    "start_time": "2022-04-22T16:46:18.414Z"
   },
   {
    "duration": 57,
    "start_time": "2022-04-22T16:46:18.442Z"
   },
   {
    "duration": 11,
    "start_time": "2022-04-22T16:46:18.502Z"
   },
   {
    "duration": 20,
    "start_time": "2022-04-22T16:46:18.515Z"
   },
   {
    "duration": 59,
    "start_time": "2022-04-22T16:46:18.538Z"
   },
   {
    "duration": 143,
    "start_time": "2022-04-22T16:46:18.600Z"
   },
   {
    "duration": 6,
    "start_time": "2022-04-22T16:46:18.745Z"
   },
   {
    "duration": 47,
    "start_time": "2022-04-22T16:46:18.753Z"
   },
   {
    "duration": 132,
    "start_time": "2022-04-22T16:46:18.803Z"
   },
   {
    "duration": 6,
    "start_time": "2022-04-22T16:46:18.937Z"
   },
   {
    "duration": 37,
    "start_time": "2022-04-22T16:46:18.945Z"
   },
   {
    "duration": 146,
    "start_time": "2022-04-22T16:46:18.985Z"
   },
   {
    "duration": 5,
    "start_time": "2022-04-22T16:46:19.134Z"
   },
   {
    "duration": 24,
    "start_time": "2022-04-22T16:46:19.141Z"
   },
   {
    "duration": 49,
    "start_time": "2022-04-22T16:46:19.167Z"
   },
   {
    "duration": 48,
    "start_time": "2022-04-22T16:46:19.218Z"
   },
   {
    "duration": 9,
    "start_time": "2022-04-22T16:46:19.287Z"
   },
   {
    "duration": 42,
    "start_time": "2022-04-22T16:46:19.299Z"
   },
   {
    "duration": 6,
    "start_time": "2022-04-22T16:46:19.343Z"
   },
   {
    "duration": 161,
    "start_time": "2022-04-22T16:46:19.351Z"
   },
   {
    "duration": 40,
    "start_time": "2022-04-22T16:46:19.514Z"
   },
   {
    "duration": 34,
    "start_time": "2022-04-22T16:46:19.557Z"
   },
   {
    "duration": 10,
    "start_time": "2022-04-22T16:46:19.593Z"
   },
   {
    "duration": 9,
    "start_time": "2022-04-22T16:46:19.609Z"
   },
   {
    "duration": 304,
    "start_time": "2022-04-22T16:46:19.620Z"
   },
   {
    "duration": 385,
    "start_time": "2022-04-22T16:46:19.927Z"
   },
   {
    "duration": 567,
    "start_time": "2022-04-22T16:46:20.314Z"
   },
   {
    "duration": 100,
    "start_time": "2022-04-22T16:46:20.891Z"
   },
   {
    "duration": 20,
    "start_time": "2022-04-22T16:46:20.994Z"
   },
   {
    "duration": 8,
    "start_time": "2022-04-22T16:46:21.016Z"
   },
   {
    "duration": 23,
    "start_time": "2022-04-22T16:46:21.082Z"
   },
   {
    "duration": 8,
    "start_time": "2022-04-22T16:46:21.107Z"
   },
   {
    "duration": 22,
    "start_time": "2022-04-22T16:46:44.980Z"
   },
   {
    "duration": 46,
    "start_time": "2022-05-01T10:53:31.856Z"
   },
   {
    "duration": 1250,
    "start_time": "2022-05-01T10:53:55.264Z"
   },
   {
    "duration": 194,
    "start_time": "2022-05-01T10:54:28.021Z"
   },
   {
    "duration": 259,
    "start_time": "2022-05-01T10:56:38.815Z"
   }
  ],
  "kernelspec": {
   "display_name": "Python 3 (ipykernel)",
   "language": "python",
   "name": "python3"
  },
  "language_info": {
   "codemirror_mode": {
    "name": "ipython",
    "version": 3
   },
   "file_extension": ".py",
   "mimetype": "text/x-python",
   "name": "python",
   "nbconvert_exporter": "python",
   "pygments_lexer": "ipython3",
   "version": "3.9.7"
  },
  "toc": {
   "base_numbering": 1,
   "nav_menu": {},
   "number_sections": true,
   "sideBar": true,
   "skip_h1_title": true,
   "title_cell": "Table of Contents",
   "title_sidebar": "Contents",
   "toc_cell": false,
   "toc_position": {},
   "toc_section_display": true,
   "toc_window_display": true
  }
 },
 "nbformat": 4,
 "nbformat_minor": 5
}
