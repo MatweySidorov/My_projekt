{
 "cells": [
  {
   "cell_type": "markdown",
   "id": "8d7843c9",
   "metadata": {},
   "source": [
    "#  Анализ данных Яндекс Недвижимости"
   ]
  },
  {
   "cell_type": "markdown",
   "id": "698d7377",
   "metadata": {},
   "source": [
    "**Цель исследования** — провести исследовательский анализ данных:\n",
    "1. Изучить следующие параметры: площадь, цена, число комнат, высота потолков. \n",
    "2. Изучите время продажи квартиры. \n",
    "3. Изучить какие факторы больше всего влияют на стоимость квартиры.\n",
    "4. Выделить сегмент квартир в центре. Проанализировать эту территорию.\n",
    "\n",
    "**Ход исследования**\n",
    "\n",
    "Данные о недвижимости получены из файла `/datasets/real_estate_data.csv.`. О качестве данных ничего не известно. Поэтому перед проверкой гипотез понадобится обзор данных. \n",
    "\n",
    "Данные будут проверны  на ошибки и оценено их влияние на исследование. Затем, на этапе предобработки исправляются самые критичные ошибки данных.\n",
    "\n",
    "На основе данных считаются и добавляются новые столбцы.\n",
    " \n",
    "Таким образом, исследование пройдёт в четыре этапа:\n",
    " 1. Обзор данных.\n",
    " 2. Предобработка данных.\n",
    " 3. Добавление новых столцов.\n",
    " 4. Исследовательский анализ"
   ]
  },
  {
   "cell_type": "markdown",
   "id": "a2b7166a",
   "metadata": {},
   "source": [
    "## 1 Обзор данных\n",
    "\n",
    "Первое представление о данных по недвижимости.\n"
   ]
  },
  {
   "cell_type": "code",
   "execution_count": 1,
   "id": "0187661d",
   "metadata": {},
   "outputs": [],
   "source": [
    "import pandas as pd\n",
    "import matplotlib.pyplot as plt\n",
    "# импорт библиотеки pandas"
   ]
  },
  {
   "cell_type": "code",
   "execution_count": 2,
   "id": "37414c44",
   "metadata": {},
   "outputs": [],
   "source": [
    "# data = pd.read_csv('real_estate_data.csv', sep='\\t')\n",
    "data = pd.read_csv('real_estate_data.csv',sep='\\t')\n",
    " # чтение файла с данными и сохранение в data"
   ]
  },
  {
   "cell_type": "code",
   "execution_count": 3,
   "id": "ab0aa969",
   "metadata": {},
   "outputs": [
    {
     "data": {
      "text/html": [
       "<div>\n",
       "<style scoped>\n",
       "    .dataframe tbody tr th:only-of-type {\n",
       "        vertical-align: middle;\n",
       "    }\n",
       "\n",
       "    .dataframe tbody tr th {\n",
       "        vertical-align: top;\n",
       "    }\n",
       "\n",
       "    .dataframe thead th {\n",
       "        text-align: right;\n",
       "    }\n",
       "</style>\n",
       "<table border=\"1\" class=\"dataframe\">\n",
       "  <thead>\n",
       "    <tr style=\"text-align: right;\">\n",
       "      <th></th>\n",
       "      <th>total_images</th>\n",
       "      <th>last_price</th>\n",
       "      <th>total_area</th>\n",
       "      <th>first_day_exposition</th>\n",
       "      <th>rooms</th>\n",
       "      <th>ceiling_height</th>\n",
       "      <th>floors_total</th>\n",
       "      <th>living_area</th>\n",
       "      <th>floor</th>\n",
       "      <th>is_apartment</th>\n",
       "      <th>...</th>\n",
       "      <th>kitchen_area</th>\n",
       "      <th>balcony</th>\n",
       "      <th>locality_name</th>\n",
       "      <th>airports_nearest</th>\n",
       "      <th>cityCenters_nearest</th>\n",
       "      <th>parks_around3000</th>\n",
       "      <th>parks_nearest</th>\n",
       "      <th>ponds_around3000</th>\n",
       "      <th>ponds_nearest</th>\n",
       "      <th>days_exposition</th>\n",
       "    </tr>\n",
       "  </thead>\n",
       "  <tbody>\n",
       "    <tr>\n",
       "      <th>0</th>\n",
       "      <td>20</td>\n",
       "      <td>13000000.0</td>\n",
       "      <td>108.00</td>\n",
       "      <td>2019-03-07T00:00:00</td>\n",
       "      <td>3</td>\n",
       "      <td>2.70</td>\n",
       "      <td>16.0</td>\n",
       "      <td>51.00</td>\n",
       "      <td>8</td>\n",
       "      <td>NaN</td>\n",
       "      <td>...</td>\n",
       "      <td>25.00</td>\n",
       "      <td>NaN</td>\n",
       "      <td>Санкт-Петербург</td>\n",
       "      <td>18863.0</td>\n",
       "      <td>16028.0</td>\n",
       "      <td>1.0</td>\n",
       "      <td>482.0</td>\n",
       "      <td>2.0</td>\n",
       "      <td>755.0</td>\n",
       "      <td>NaN</td>\n",
       "    </tr>\n",
       "    <tr>\n",
       "      <th>1</th>\n",
       "      <td>7</td>\n",
       "      <td>3350000.0</td>\n",
       "      <td>40.40</td>\n",
       "      <td>2018-12-04T00:00:00</td>\n",
       "      <td>1</td>\n",
       "      <td>NaN</td>\n",
       "      <td>11.0</td>\n",
       "      <td>18.60</td>\n",
       "      <td>1</td>\n",
       "      <td>NaN</td>\n",
       "      <td>...</td>\n",
       "      <td>11.00</td>\n",
       "      <td>2.0</td>\n",
       "      <td>посёлок Шушары</td>\n",
       "      <td>12817.0</td>\n",
       "      <td>18603.0</td>\n",
       "      <td>0.0</td>\n",
       "      <td>NaN</td>\n",
       "      <td>0.0</td>\n",
       "      <td>NaN</td>\n",
       "      <td>81.0</td>\n",
       "    </tr>\n",
       "    <tr>\n",
       "      <th>2</th>\n",
       "      <td>10</td>\n",
       "      <td>5196000.0</td>\n",
       "      <td>56.00</td>\n",
       "      <td>2015-08-20T00:00:00</td>\n",
       "      <td>2</td>\n",
       "      <td>NaN</td>\n",
       "      <td>5.0</td>\n",
       "      <td>34.30</td>\n",
       "      <td>4</td>\n",
       "      <td>NaN</td>\n",
       "      <td>...</td>\n",
       "      <td>8.30</td>\n",
       "      <td>0.0</td>\n",
       "      <td>Санкт-Петербург</td>\n",
       "      <td>21741.0</td>\n",
       "      <td>13933.0</td>\n",
       "      <td>1.0</td>\n",
       "      <td>90.0</td>\n",
       "      <td>2.0</td>\n",
       "      <td>574.0</td>\n",
       "      <td>558.0</td>\n",
       "    </tr>\n",
       "    <tr>\n",
       "      <th>3</th>\n",
       "      <td>0</td>\n",
       "      <td>64900000.0</td>\n",
       "      <td>159.00</td>\n",
       "      <td>2015-07-24T00:00:00</td>\n",
       "      <td>3</td>\n",
       "      <td>NaN</td>\n",
       "      <td>14.0</td>\n",
       "      <td>NaN</td>\n",
       "      <td>9</td>\n",
       "      <td>NaN</td>\n",
       "      <td>...</td>\n",
       "      <td>NaN</td>\n",
       "      <td>0.0</td>\n",
       "      <td>Санкт-Петербург</td>\n",
       "      <td>28098.0</td>\n",
       "      <td>6800.0</td>\n",
       "      <td>2.0</td>\n",
       "      <td>84.0</td>\n",
       "      <td>3.0</td>\n",
       "      <td>234.0</td>\n",
       "      <td>424.0</td>\n",
       "    </tr>\n",
       "    <tr>\n",
       "      <th>4</th>\n",
       "      <td>2</td>\n",
       "      <td>10000000.0</td>\n",
       "      <td>100.00</td>\n",
       "      <td>2018-06-19T00:00:00</td>\n",
       "      <td>2</td>\n",
       "      <td>3.03</td>\n",
       "      <td>14.0</td>\n",
       "      <td>32.00</td>\n",
       "      <td>13</td>\n",
       "      <td>NaN</td>\n",
       "      <td>...</td>\n",
       "      <td>41.00</td>\n",
       "      <td>NaN</td>\n",
       "      <td>Санкт-Петербург</td>\n",
       "      <td>31856.0</td>\n",
       "      <td>8098.0</td>\n",
       "      <td>2.0</td>\n",
       "      <td>112.0</td>\n",
       "      <td>1.0</td>\n",
       "      <td>48.0</td>\n",
       "      <td>121.0</td>\n",
       "    </tr>\n",
       "    <tr>\n",
       "      <th>5</th>\n",
       "      <td>10</td>\n",
       "      <td>2890000.0</td>\n",
       "      <td>30.40</td>\n",
       "      <td>2018-09-10T00:00:00</td>\n",
       "      <td>1</td>\n",
       "      <td>NaN</td>\n",
       "      <td>12.0</td>\n",
       "      <td>14.40</td>\n",
       "      <td>5</td>\n",
       "      <td>NaN</td>\n",
       "      <td>...</td>\n",
       "      <td>9.10</td>\n",
       "      <td>NaN</td>\n",
       "      <td>городской посёлок Янино-1</td>\n",
       "      <td>NaN</td>\n",
       "      <td>NaN</td>\n",
       "      <td>NaN</td>\n",
       "      <td>NaN</td>\n",
       "      <td>NaN</td>\n",
       "      <td>NaN</td>\n",
       "      <td>55.0</td>\n",
       "    </tr>\n",
       "    <tr>\n",
       "      <th>6</th>\n",
       "      <td>6</td>\n",
       "      <td>3700000.0</td>\n",
       "      <td>37.30</td>\n",
       "      <td>2017-11-02T00:00:00</td>\n",
       "      <td>1</td>\n",
       "      <td>NaN</td>\n",
       "      <td>26.0</td>\n",
       "      <td>10.60</td>\n",
       "      <td>6</td>\n",
       "      <td>NaN</td>\n",
       "      <td>...</td>\n",
       "      <td>14.40</td>\n",
       "      <td>1.0</td>\n",
       "      <td>посёлок Парголово</td>\n",
       "      <td>52996.0</td>\n",
       "      <td>19143.0</td>\n",
       "      <td>0.0</td>\n",
       "      <td>NaN</td>\n",
       "      <td>0.0</td>\n",
       "      <td>NaN</td>\n",
       "      <td>155.0</td>\n",
       "    </tr>\n",
       "    <tr>\n",
       "      <th>7</th>\n",
       "      <td>5</td>\n",
       "      <td>7915000.0</td>\n",
       "      <td>71.60</td>\n",
       "      <td>2019-04-18T00:00:00</td>\n",
       "      <td>2</td>\n",
       "      <td>NaN</td>\n",
       "      <td>24.0</td>\n",
       "      <td>NaN</td>\n",
       "      <td>22</td>\n",
       "      <td>NaN</td>\n",
       "      <td>...</td>\n",
       "      <td>18.90</td>\n",
       "      <td>2.0</td>\n",
       "      <td>Санкт-Петербург</td>\n",
       "      <td>23982.0</td>\n",
       "      <td>11634.0</td>\n",
       "      <td>0.0</td>\n",
       "      <td>NaN</td>\n",
       "      <td>0.0</td>\n",
       "      <td>NaN</td>\n",
       "      <td>NaN</td>\n",
       "    </tr>\n",
       "    <tr>\n",
       "      <th>8</th>\n",
       "      <td>20</td>\n",
       "      <td>2900000.0</td>\n",
       "      <td>33.16</td>\n",
       "      <td>2018-05-23T00:00:00</td>\n",
       "      <td>1</td>\n",
       "      <td>NaN</td>\n",
       "      <td>27.0</td>\n",
       "      <td>15.43</td>\n",
       "      <td>26</td>\n",
       "      <td>NaN</td>\n",
       "      <td>...</td>\n",
       "      <td>8.81</td>\n",
       "      <td>NaN</td>\n",
       "      <td>посёлок Мурино</td>\n",
       "      <td>NaN</td>\n",
       "      <td>NaN</td>\n",
       "      <td>NaN</td>\n",
       "      <td>NaN</td>\n",
       "      <td>NaN</td>\n",
       "      <td>NaN</td>\n",
       "      <td>189.0</td>\n",
       "    </tr>\n",
       "    <tr>\n",
       "      <th>9</th>\n",
       "      <td>18</td>\n",
       "      <td>5400000.0</td>\n",
       "      <td>61.00</td>\n",
       "      <td>2017-02-26T00:00:00</td>\n",
       "      <td>3</td>\n",
       "      <td>2.50</td>\n",
       "      <td>9.0</td>\n",
       "      <td>43.60</td>\n",
       "      <td>7</td>\n",
       "      <td>NaN</td>\n",
       "      <td>...</td>\n",
       "      <td>6.50</td>\n",
       "      <td>2.0</td>\n",
       "      <td>Санкт-Петербург</td>\n",
       "      <td>50898.0</td>\n",
       "      <td>15008.0</td>\n",
       "      <td>0.0</td>\n",
       "      <td>NaN</td>\n",
       "      <td>0.0</td>\n",
       "      <td>NaN</td>\n",
       "      <td>289.0</td>\n",
       "    </tr>\n",
       "  </tbody>\n",
       "</table>\n",
       "<p>10 rows × 22 columns</p>\n",
       "</div>"
      ],
      "text/plain": [
       "   total_images  last_price  total_area first_day_exposition  rooms  \\\n",
       "0            20  13000000.0      108.00  2019-03-07T00:00:00      3   \n",
       "1             7   3350000.0       40.40  2018-12-04T00:00:00      1   \n",
       "2            10   5196000.0       56.00  2015-08-20T00:00:00      2   \n",
       "3             0  64900000.0      159.00  2015-07-24T00:00:00      3   \n",
       "4             2  10000000.0      100.00  2018-06-19T00:00:00      2   \n",
       "5            10   2890000.0       30.40  2018-09-10T00:00:00      1   \n",
       "6             6   3700000.0       37.30  2017-11-02T00:00:00      1   \n",
       "7             5   7915000.0       71.60  2019-04-18T00:00:00      2   \n",
       "8            20   2900000.0       33.16  2018-05-23T00:00:00      1   \n",
       "9            18   5400000.0       61.00  2017-02-26T00:00:00      3   \n",
       "\n",
       "   ceiling_height  floors_total  living_area  floor is_apartment  ...  \\\n",
       "0            2.70          16.0        51.00      8          NaN  ...   \n",
       "1             NaN          11.0        18.60      1          NaN  ...   \n",
       "2             NaN           5.0        34.30      4          NaN  ...   \n",
       "3             NaN          14.0          NaN      9          NaN  ...   \n",
       "4            3.03          14.0        32.00     13          NaN  ...   \n",
       "5             NaN          12.0        14.40      5          NaN  ...   \n",
       "6             NaN          26.0        10.60      6          NaN  ...   \n",
       "7             NaN          24.0          NaN     22          NaN  ...   \n",
       "8             NaN          27.0        15.43     26          NaN  ...   \n",
       "9            2.50           9.0        43.60      7          NaN  ...   \n",
       "\n",
       "   kitchen_area  balcony              locality_name  airports_nearest  \\\n",
       "0         25.00      NaN            Санкт-Петербург           18863.0   \n",
       "1         11.00      2.0             посёлок Шушары           12817.0   \n",
       "2          8.30      0.0            Санкт-Петербург           21741.0   \n",
       "3           NaN      0.0            Санкт-Петербург           28098.0   \n",
       "4         41.00      NaN            Санкт-Петербург           31856.0   \n",
       "5          9.10      NaN  городской посёлок Янино-1               NaN   \n",
       "6         14.40      1.0          посёлок Парголово           52996.0   \n",
       "7         18.90      2.0            Санкт-Петербург           23982.0   \n",
       "8          8.81      NaN             посёлок Мурино               NaN   \n",
       "9          6.50      2.0            Санкт-Петербург           50898.0   \n",
       "\n",
       "  cityCenters_nearest  parks_around3000  parks_nearest  ponds_around3000  \\\n",
       "0             16028.0               1.0          482.0               2.0   \n",
       "1             18603.0               0.0            NaN               0.0   \n",
       "2             13933.0               1.0           90.0               2.0   \n",
       "3              6800.0               2.0           84.0               3.0   \n",
       "4              8098.0               2.0          112.0               1.0   \n",
       "5                 NaN               NaN            NaN               NaN   \n",
       "6             19143.0               0.0            NaN               0.0   \n",
       "7             11634.0               0.0            NaN               0.0   \n",
       "8                 NaN               NaN            NaN               NaN   \n",
       "9             15008.0               0.0            NaN               0.0   \n",
       "\n",
       "   ponds_nearest  days_exposition  \n",
       "0          755.0              NaN  \n",
       "1            NaN             81.0  \n",
       "2          574.0            558.0  \n",
       "3          234.0            424.0  \n",
       "4           48.0            121.0  \n",
       "5            NaN             55.0  \n",
       "6            NaN            155.0  \n",
       "7            NaN              NaN  \n",
       "8            NaN            189.0  \n",
       "9            NaN            289.0  \n",
       "\n",
       "[10 rows x 22 columns]"
      ]
     },
     "execution_count": 3,
     "metadata": {},
     "output_type": "execute_result"
    }
   ],
   "source": [
    "data.head(10)\n",
    "# получение первых 10 строк таблицы data"
   ]
  },
  {
   "cell_type": "code",
   "execution_count": 4,
   "id": "de54cf86",
   "metadata": {},
   "outputs": [
    {
     "data": {
      "text/html": [
       "<div>\n",
       "<style scoped>\n",
       "    .dataframe tbody tr th:only-of-type {\n",
       "        vertical-align: middle;\n",
       "    }\n",
       "\n",
       "    .dataframe tbody tr th {\n",
       "        vertical-align: top;\n",
       "    }\n",
       "\n",
       "    .dataframe thead th {\n",
       "        text-align: right;\n",
       "    }\n",
       "</style>\n",
       "<table border=\"1\" class=\"dataframe\">\n",
       "  <thead>\n",
       "    <tr style=\"text-align: right;\">\n",
       "      <th></th>\n",
       "      <th>total_images</th>\n",
       "      <th>last_price</th>\n",
       "      <th>total_area</th>\n",
       "      <th>first_day_exposition</th>\n",
       "      <th>rooms</th>\n",
       "      <th>ceiling_height</th>\n",
       "      <th>floors_total</th>\n",
       "      <th>living_area</th>\n",
       "      <th>floor</th>\n",
       "      <th>is_apartment</th>\n",
       "      <th>...</th>\n",
       "      <th>kitchen_area</th>\n",
       "      <th>balcony</th>\n",
       "      <th>locality_name</th>\n",
       "      <th>airports_nearest</th>\n",
       "      <th>cityCenters_nearest</th>\n",
       "      <th>parks_around3000</th>\n",
       "      <th>parks_nearest</th>\n",
       "      <th>ponds_around3000</th>\n",
       "      <th>ponds_nearest</th>\n",
       "      <th>days_exposition</th>\n",
       "    </tr>\n",
       "  </thead>\n",
       "  <tbody>\n",
       "    <tr>\n",
       "      <th>23694</th>\n",
       "      <td>9</td>\n",
       "      <td>9700000.0</td>\n",
       "      <td>133.81</td>\n",
       "      <td>2017-03-21T00:00:00</td>\n",
       "      <td>3</td>\n",
       "      <td>3.7</td>\n",
       "      <td>5.0</td>\n",
       "      <td>73.3</td>\n",
       "      <td>3</td>\n",
       "      <td>NaN</td>\n",
       "      <td>...</td>\n",
       "      <td>13.83</td>\n",
       "      <td>NaN</td>\n",
       "      <td>Санкт-Петербург</td>\n",
       "      <td>24665.0</td>\n",
       "      <td>4232.0</td>\n",
       "      <td>1.0</td>\n",
       "      <td>796.0</td>\n",
       "      <td>3.0</td>\n",
       "      <td>381.0</td>\n",
       "      <td>NaN</td>\n",
       "    </tr>\n",
       "    <tr>\n",
       "      <th>23695</th>\n",
       "      <td>14</td>\n",
       "      <td>3100000.0</td>\n",
       "      <td>59.00</td>\n",
       "      <td>2018-01-15T00:00:00</td>\n",
       "      <td>3</td>\n",
       "      <td>NaN</td>\n",
       "      <td>5.0</td>\n",
       "      <td>38.0</td>\n",
       "      <td>4</td>\n",
       "      <td>NaN</td>\n",
       "      <td>...</td>\n",
       "      <td>8.50</td>\n",
       "      <td>NaN</td>\n",
       "      <td>Тосно</td>\n",
       "      <td>NaN</td>\n",
       "      <td>NaN</td>\n",
       "      <td>NaN</td>\n",
       "      <td>NaN</td>\n",
       "      <td>NaN</td>\n",
       "      <td>NaN</td>\n",
       "      <td>45.0</td>\n",
       "    </tr>\n",
       "    <tr>\n",
       "      <th>23696</th>\n",
       "      <td>18</td>\n",
       "      <td>2500000.0</td>\n",
       "      <td>56.70</td>\n",
       "      <td>2018-02-11T00:00:00</td>\n",
       "      <td>2</td>\n",
       "      <td>NaN</td>\n",
       "      <td>3.0</td>\n",
       "      <td>29.7</td>\n",
       "      <td>1</td>\n",
       "      <td>NaN</td>\n",
       "      <td>...</td>\n",
       "      <td>NaN</td>\n",
       "      <td>NaN</td>\n",
       "      <td>село Рождествено</td>\n",
       "      <td>NaN</td>\n",
       "      <td>NaN</td>\n",
       "      <td>NaN</td>\n",
       "      <td>NaN</td>\n",
       "      <td>NaN</td>\n",
       "      <td>NaN</td>\n",
       "      <td>NaN</td>\n",
       "    </tr>\n",
       "    <tr>\n",
       "      <th>23697</th>\n",
       "      <td>13</td>\n",
       "      <td>11475000.0</td>\n",
       "      <td>76.75</td>\n",
       "      <td>2017-03-28T00:00:00</td>\n",
       "      <td>2</td>\n",
       "      <td>3.0</td>\n",
       "      <td>17.0</td>\n",
       "      <td>NaN</td>\n",
       "      <td>12</td>\n",
       "      <td>NaN</td>\n",
       "      <td>...</td>\n",
       "      <td>23.30</td>\n",
       "      <td>2.0</td>\n",
       "      <td>Санкт-Петербург</td>\n",
       "      <td>39140.0</td>\n",
       "      <td>10364.0</td>\n",
       "      <td>2.0</td>\n",
       "      <td>173.0</td>\n",
       "      <td>3.0</td>\n",
       "      <td>196.0</td>\n",
       "      <td>602.0</td>\n",
       "    </tr>\n",
       "    <tr>\n",
       "      <th>23698</th>\n",
       "      <td>4</td>\n",
       "      <td>1350000.0</td>\n",
       "      <td>32.30</td>\n",
       "      <td>2017-07-21T00:00:00</td>\n",
       "      <td>1</td>\n",
       "      <td>2.5</td>\n",
       "      <td>5.0</td>\n",
       "      <td>12.3</td>\n",
       "      <td>1</td>\n",
       "      <td>NaN</td>\n",
       "      <td>...</td>\n",
       "      <td>9.00</td>\n",
       "      <td>NaN</td>\n",
       "      <td>поселок Новый Учхоз</td>\n",
       "      <td>NaN</td>\n",
       "      <td>NaN</td>\n",
       "      <td>NaN</td>\n",
       "      <td>NaN</td>\n",
       "      <td>NaN</td>\n",
       "      <td>NaN</td>\n",
       "      <td>NaN</td>\n",
       "    </tr>\n",
       "  </tbody>\n",
       "</table>\n",
       "<p>5 rows × 22 columns</p>\n",
       "</div>"
      ],
      "text/plain": [
       "       total_images  last_price  total_area first_day_exposition  rooms  \\\n",
       "23694             9   9700000.0      133.81  2017-03-21T00:00:00      3   \n",
       "23695            14   3100000.0       59.00  2018-01-15T00:00:00      3   \n",
       "23696            18   2500000.0       56.70  2018-02-11T00:00:00      2   \n",
       "23697            13  11475000.0       76.75  2017-03-28T00:00:00      2   \n",
       "23698             4   1350000.0       32.30  2017-07-21T00:00:00      1   \n",
       "\n",
       "       ceiling_height  floors_total  living_area  floor is_apartment  ...  \\\n",
       "23694             3.7           5.0         73.3      3          NaN  ...   \n",
       "23695             NaN           5.0         38.0      4          NaN  ...   \n",
       "23696             NaN           3.0         29.7      1          NaN  ...   \n",
       "23697             3.0          17.0          NaN     12          NaN  ...   \n",
       "23698             2.5           5.0         12.3      1          NaN  ...   \n",
       "\n",
       "       kitchen_area  balcony        locality_name  airports_nearest  \\\n",
       "23694         13.83      NaN      Санкт-Петербург           24665.0   \n",
       "23695          8.50      NaN                Тосно               NaN   \n",
       "23696           NaN      NaN     село Рождествено               NaN   \n",
       "23697         23.30      2.0      Санкт-Петербург           39140.0   \n",
       "23698          9.00      NaN  поселок Новый Учхоз               NaN   \n",
       "\n",
       "      cityCenters_nearest  parks_around3000  parks_nearest  ponds_around3000  \\\n",
       "23694              4232.0               1.0          796.0               3.0   \n",
       "23695                 NaN               NaN            NaN               NaN   \n",
       "23696                 NaN               NaN            NaN               NaN   \n",
       "23697             10364.0               2.0          173.0               3.0   \n",
       "23698                 NaN               NaN            NaN               NaN   \n",
       "\n",
       "       ponds_nearest  days_exposition  \n",
       "23694          381.0              NaN  \n",
       "23695            NaN             45.0  \n",
       "23696            NaN              NaN  \n",
       "23697          196.0            602.0  \n",
       "23698            NaN              NaN  \n",
       "\n",
       "[5 rows x 22 columns]"
      ]
     },
     "execution_count": 4,
     "metadata": {},
     "output_type": "execute_result"
    }
   ],
   "source": [
    "data.tail()\n",
    "#получение последние 5 строк."
   ]
  },
  {
   "cell_type": "code",
   "execution_count": 5,
   "id": "8db1240d",
   "metadata": {},
   "outputs": [
    {
     "data": {
      "text/html": [
       "<div>\n",
       "<style scoped>\n",
       "    .dataframe tbody tr th:only-of-type {\n",
       "        vertical-align: middle;\n",
       "    }\n",
       "\n",
       "    .dataframe tbody tr th {\n",
       "        vertical-align: top;\n",
       "    }\n",
       "\n",
       "    .dataframe thead th {\n",
       "        text-align: right;\n",
       "    }\n",
       "</style>\n",
       "<table border=\"1\" class=\"dataframe\">\n",
       "  <thead>\n",
       "    <tr style=\"text-align: right;\">\n",
       "      <th></th>\n",
       "      <th>count</th>\n",
       "      <th>mean</th>\n",
       "      <th>std</th>\n",
       "      <th>min</th>\n",
       "      <th>25%</th>\n",
       "      <th>50%</th>\n",
       "      <th>75%</th>\n",
       "      <th>max</th>\n",
       "    </tr>\n",
       "  </thead>\n",
       "  <tbody>\n",
       "    <tr>\n",
       "      <th>total_images</th>\n",
       "      <td>23699.0</td>\n",
       "      <td>9.86</td>\n",
       "      <td>5.68</td>\n",
       "      <td>0.0</td>\n",
       "      <td>6.00</td>\n",
       "      <td>9.00</td>\n",
       "      <td>14.0</td>\n",
       "      <td>50.0</td>\n",
       "    </tr>\n",
       "    <tr>\n",
       "      <th>last_price</th>\n",
       "      <td>23699.0</td>\n",
       "      <td>6541548.77</td>\n",
       "      <td>10887013.27</td>\n",
       "      <td>12190.0</td>\n",
       "      <td>3400000.00</td>\n",
       "      <td>4650000.00</td>\n",
       "      <td>6800000.0</td>\n",
       "      <td>763000000.0</td>\n",
       "    </tr>\n",
       "    <tr>\n",
       "      <th>total_area</th>\n",
       "      <td>23699.0</td>\n",
       "      <td>60.35</td>\n",
       "      <td>35.65</td>\n",
       "      <td>12.0</td>\n",
       "      <td>40.00</td>\n",
       "      <td>52.00</td>\n",
       "      <td>69.9</td>\n",
       "      <td>900.0</td>\n",
       "    </tr>\n",
       "    <tr>\n",
       "      <th>rooms</th>\n",
       "      <td>23699.0</td>\n",
       "      <td>2.07</td>\n",
       "      <td>1.08</td>\n",
       "      <td>0.0</td>\n",
       "      <td>1.00</td>\n",
       "      <td>2.00</td>\n",
       "      <td>3.0</td>\n",
       "      <td>19.0</td>\n",
       "    </tr>\n",
       "    <tr>\n",
       "      <th>ceiling_height</th>\n",
       "      <td>14504.0</td>\n",
       "      <td>2.77</td>\n",
       "      <td>1.26</td>\n",
       "      <td>1.0</td>\n",
       "      <td>2.52</td>\n",
       "      <td>2.65</td>\n",
       "      <td>2.8</td>\n",
       "      <td>100.0</td>\n",
       "    </tr>\n",
       "    <tr>\n",
       "      <th>floors_total</th>\n",
       "      <td>23613.0</td>\n",
       "      <td>10.67</td>\n",
       "      <td>6.60</td>\n",
       "      <td>1.0</td>\n",
       "      <td>5.00</td>\n",
       "      <td>9.00</td>\n",
       "      <td>16.0</td>\n",
       "      <td>60.0</td>\n",
       "    </tr>\n",
       "    <tr>\n",
       "      <th>living_area</th>\n",
       "      <td>21796.0</td>\n",
       "      <td>34.46</td>\n",
       "      <td>22.03</td>\n",
       "      <td>2.0</td>\n",
       "      <td>18.60</td>\n",
       "      <td>30.00</td>\n",
       "      <td>42.3</td>\n",
       "      <td>409.7</td>\n",
       "    </tr>\n",
       "    <tr>\n",
       "      <th>floor</th>\n",
       "      <td>23699.0</td>\n",
       "      <td>5.89</td>\n",
       "      <td>4.89</td>\n",
       "      <td>1.0</td>\n",
       "      <td>2.00</td>\n",
       "      <td>4.00</td>\n",
       "      <td>8.0</td>\n",
       "      <td>33.0</td>\n",
       "    </tr>\n",
       "    <tr>\n",
       "      <th>kitchen_area</th>\n",
       "      <td>21421.0</td>\n",
       "      <td>10.57</td>\n",
       "      <td>5.91</td>\n",
       "      <td>1.3</td>\n",
       "      <td>7.00</td>\n",
       "      <td>9.10</td>\n",
       "      <td>12.0</td>\n",
       "      <td>112.0</td>\n",
       "    </tr>\n",
       "    <tr>\n",
       "      <th>balcony</th>\n",
       "      <td>12180.0</td>\n",
       "      <td>1.15</td>\n",
       "      <td>1.07</td>\n",
       "      <td>0.0</td>\n",
       "      <td>0.00</td>\n",
       "      <td>1.00</td>\n",
       "      <td>2.0</td>\n",
       "      <td>5.0</td>\n",
       "    </tr>\n",
       "    <tr>\n",
       "      <th>airports_nearest</th>\n",
       "      <td>18157.0</td>\n",
       "      <td>28793.67</td>\n",
       "      <td>12630.88</td>\n",
       "      <td>0.0</td>\n",
       "      <td>18585.00</td>\n",
       "      <td>26726.00</td>\n",
       "      <td>37273.0</td>\n",
       "      <td>84869.0</td>\n",
       "    </tr>\n",
       "    <tr>\n",
       "      <th>cityCenters_nearest</th>\n",
       "      <td>18180.0</td>\n",
       "      <td>14191.28</td>\n",
       "      <td>8608.39</td>\n",
       "      <td>181.0</td>\n",
       "      <td>9238.00</td>\n",
       "      <td>13098.50</td>\n",
       "      <td>16293.0</td>\n",
       "      <td>65968.0</td>\n",
       "    </tr>\n",
       "    <tr>\n",
       "      <th>parks_around3000</th>\n",
       "      <td>18181.0</td>\n",
       "      <td>0.61</td>\n",
       "      <td>0.80</td>\n",
       "      <td>0.0</td>\n",
       "      <td>0.00</td>\n",
       "      <td>0.00</td>\n",
       "      <td>1.0</td>\n",
       "      <td>3.0</td>\n",
       "    </tr>\n",
       "    <tr>\n",
       "      <th>parks_nearest</th>\n",
       "      <td>8079.0</td>\n",
       "      <td>490.80</td>\n",
       "      <td>342.32</td>\n",
       "      <td>1.0</td>\n",
       "      <td>288.00</td>\n",
       "      <td>455.00</td>\n",
       "      <td>612.0</td>\n",
       "      <td>3190.0</td>\n",
       "    </tr>\n",
       "    <tr>\n",
       "      <th>ponds_around3000</th>\n",
       "      <td>18181.0</td>\n",
       "      <td>0.77</td>\n",
       "      <td>0.94</td>\n",
       "      <td>0.0</td>\n",
       "      <td>0.00</td>\n",
       "      <td>1.00</td>\n",
       "      <td>1.0</td>\n",
       "      <td>3.0</td>\n",
       "    </tr>\n",
       "    <tr>\n",
       "      <th>ponds_nearest</th>\n",
       "      <td>9110.0</td>\n",
       "      <td>517.98</td>\n",
       "      <td>277.72</td>\n",
       "      <td>13.0</td>\n",
       "      <td>294.00</td>\n",
       "      <td>502.00</td>\n",
       "      <td>729.0</td>\n",
       "      <td>1344.0</td>\n",
       "    </tr>\n",
       "    <tr>\n",
       "      <th>days_exposition</th>\n",
       "      <td>20518.0</td>\n",
       "      <td>180.89</td>\n",
       "      <td>219.73</td>\n",
       "      <td>1.0</td>\n",
       "      <td>45.00</td>\n",
       "      <td>95.00</td>\n",
       "      <td>232.0</td>\n",
       "      <td>1580.0</td>\n",
       "    </tr>\n",
       "  </tbody>\n",
       "</table>\n",
       "</div>"
      ],
      "text/plain": [
       "                       count        mean          std      min         25%  \\\n",
       "total_images         23699.0        9.86         5.68      0.0        6.00   \n",
       "last_price           23699.0  6541548.77  10887013.27  12190.0  3400000.00   \n",
       "total_area           23699.0       60.35        35.65     12.0       40.00   \n",
       "rooms                23699.0        2.07         1.08      0.0        1.00   \n",
       "ceiling_height       14504.0        2.77         1.26      1.0        2.52   \n",
       "floors_total         23613.0       10.67         6.60      1.0        5.00   \n",
       "living_area          21796.0       34.46        22.03      2.0       18.60   \n",
       "floor                23699.0        5.89         4.89      1.0        2.00   \n",
       "kitchen_area         21421.0       10.57         5.91      1.3        7.00   \n",
       "balcony              12180.0        1.15         1.07      0.0        0.00   \n",
       "airports_nearest     18157.0    28793.67     12630.88      0.0    18585.00   \n",
       "cityCenters_nearest  18180.0    14191.28      8608.39    181.0     9238.00   \n",
       "parks_around3000     18181.0        0.61         0.80      0.0        0.00   \n",
       "parks_nearest         8079.0      490.80       342.32      1.0      288.00   \n",
       "ponds_around3000     18181.0        0.77         0.94      0.0        0.00   \n",
       "ponds_nearest         9110.0      517.98       277.72     13.0      294.00   \n",
       "days_exposition      20518.0      180.89       219.73      1.0       45.00   \n",
       "\n",
       "                            50%        75%          max  \n",
       "total_images               9.00       14.0         50.0  \n",
       "last_price           4650000.00  6800000.0  763000000.0  \n",
       "total_area                52.00       69.9        900.0  \n",
       "rooms                      2.00        3.0         19.0  \n",
       "ceiling_height             2.65        2.8        100.0  \n",
       "floors_total               9.00       16.0         60.0  \n",
       "living_area               30.00       42.3        409.7  \n",
       "floor                      4.00        8.0         33.0  \n",
       "kitchen_area               9.10       12.0        112.0  \n",
       "balcony                    1.00        2.0          5.0  \n",
       "airports_nearest       26726.00    37273.0      84869.0  \n",
       "cityCenters_nearest    13098.50    16293.0      65968.0  \n",
       "parks_around3000           0.00        1.0          3.0  \n",
       "parks_nearest            455.00      612.0       3190.0  \n",
       "ponds_around3000           1.00        1.0          3.0  \n",
       "ponds_nearest            502.00      729.0       1344.0  \n",
       "days_exposition           95.00      232.0       1580.0  "
      ]
     },
     "execution_count": 5,
     "metadata": {},
     "output_type": "execute_result"
    }
   ],
   "source": [
    "round(data.describe().T,2)"
   ]
  },
  {
   "cell_type": "code",
   "execution_count": 6,
   "id": "89b332e2",
   "metadata": {},
   "outputs": [
    {
     "name": "stdout",
     "output_type": "stream",
     "text": [
      "<class 'pandas.core.frame.DataFrame'>\n",
      "RangeIndex: 23699 entries, 0 to 23698\n",
      "Data columns (total 22 columns):\n",
      " #   Column                Non-Null Count  Dtype  \n",
      "---  ------                --------------  -----  \n",
      " 0   total_images          23699 non-null  int64  \n",
      " 1   last_price            23699 non-null  float64\n",
      " 2   total_area            23699 non-null  float64\n",
      " 3   first_day_exposition  23699 non-null  object \n",
      " 4   rooms                 23699 non-null  int64  \n",
      " 5   ceiling_height        14504 non-null  float64\n",
      " 6   floors_total          23613 non-null  float64\n",
      " 7   living_area           21796 non-null  float64\n",
      " 8   floor                 23699 non-null  int64  \n",
      " 9   is_apartment          2775 non-null   object \n",
      " 10  studio                23699 non-null  bool   \n",
      " 11  open_plan             23699 non-null  bool   \n",
      " 12  kitchen_area          21421 non-null  float64\n",
      " 13  balcony               12180 non-null  float64\n",
      " 14  locality_name         23650 non-null  object \n",
      " 15  airports_nearest      18157 non-null  float64\n",
      " 16  cityCenters_nearest   18180 non-null  float64\n",
      " 17  parks_around3000      18181 non-null  float64\n",
      " 18  parks_nearest         8079 non-null   float64\n",
      " 19  ponds_around3000      18181 non-null  float64\n",
      " 20  ponds_nearest         9110 non-null   float64\n",
      " 21  days_exposition       20518 non-null  float64\n",
      "dtypes: bool(2), float64(14), int64(3), object(3)\n",
      "memory usage: 3.7+ MB\n"
     ]
    }
   ],
   "source": [
    "data.info()\n",
    "# получение общей информации о данных в таблице data"
   ]
  },
  {
   "cell_type": "markdown",
   "id": "9ee82daf",
   "metadata": {},
   "source": [
    "В таблице 22 столбца. Тип данных в столбцах различается. Присутствует — `float64`(14), `int64`(3), `object`(3), ` bool`(2).\n",
    "\n",
    "Согласно документации к данным:\n",
    "* `airports_nearest` — расстояние до ближайшего аэропорта в метрах (м)\n",
    "* `balcony` — число балконов\n",
    "* `ceiling_height` — высота потолков (м)\n",
    "* `cityCenters_nearest` — расстояние до центра города (м)\n",
    "* `days_exposition` — сколько дней было размещено объявление (от публикации до снятия)\n",
    "* `first_day_exposition` — дата публикации\n",
    "* `floor` — этаж\n",
    "* `floors_total` — всего этажей в доме\n",
    "* `is_apartment` — апартаменты (булев тип)\n",
    "* `kitchen_area` — площадь кухни в квадратных метрах (м²)\n",
    "* `last_price` — цена на момент снятия с публикации\n",
    "* `living_area` — жилая площадь в квадратных метрах (м²)\n",
    "* `locality_name` — название населённого пункта\n",
    "* `open_plan` — свободная планировка (булев тип)\n",
    "* `parks_around3000` — число парков в радиусе 3 км\n",
    "* `parks_nearest` — расстояние до ближайшего парка (м)\n",
    "* `ponds_around3000` — число водоёмов в радиусе 3 км\n",
    "* `ponds_nearest` — расстояние до ближайшего водоёма (м)\n",
    "* `rooms` — число комнат\n",
    "* `studio` — квартира-студия (булев тип)\n",
    "* `total_area` — площадь квартиры в квадратных метрах (м²)\n",
    "* `total_images` — число фотографий квартиры в объявлении\n",
    "\n",
    "В названиях колонок выявлено нарушение стиля.\n",
    "\n",
    "Количество значений в столбцах различается. Значит, в данных есть пропущенные значения."
   ]
  },
  {
   "cell_type": "markdown",
   "id": "8039175a",
   "metadata": {},
   "source": [
    "**Выводы**\n",
    "\n",
    "По каждой квартире на продажу доступны два вида данных. Первые вписаны пользователем, вторые — получены автоматически на основе картографических данных. Например, расстояние до центра, аэропорта, ближайшего парка и водоёма. \n",
    "\n",
    "Предварительно можно утверждать, что, данных достаточно для исследовательского анализа. Но встречаются пропуски в данных, некоторые из котрох можно исправить.\n",
    "\n",
    "Чтобы двигаться дальше, нужно устранить проблемы в данных."
   ]
  },
  {
   "cell_type": "markdown",
   "id": "ad07c469",
   "metadata": {},
   "source": [
    "## 2 Предобработка данных"
   ]
  },
  {
   "cell_type": "markdown",
   "id": "7fe26d32",
   "metadata": {},
   "source": [
    "### 2.1 Исправление названий столбцов"
   ]
  },
  {
   "cell_type": "code",
   "execution_count": 7,
   "id": "154640de",
   "metadata": {},
   "outputs": [],
   "source": [
    "data = data.rename(\n",
    "    columns= {\n",
    "        'cityCenters_nearest' : 'city_centers_nearest', \n",
    "        'ponds_around3000' : 'ponds_around_3km', \n",
    "        'parks_around3000' : 'parks_around_3km'\n",
    "    }\n",
    ")\n",
    "# переименование столбцов"
   ]
  },
  {
   "cell_type": "code",
   "execution_count": 8,
   "id": "4b6f64d4",
   "metadata": {},
   "outputs": [
    {
     "data": {
      "text/plain": [
       "Index(['total_images', 'last_price', 'total_area', 'first_day_exposition',\n",
       "       'rooms', 'ceiling_height', 'floors_total', 'living_area', 'floor',\n",
       "       'is_apartment', 'studio', 'open_plan', 'kitchen_area', 'balcony',\n",
       "       'locality_name', 'airports_nearest', 'city_centers_nearest',\n",
       "       'parks_around_3km', 'parks_nearest', 'ponds_around_3km',\n",
       "       'ponds_nearest', 'days_exposition'],\n",
       "      dtype='object')"
      ]
     },
     "execution_count": 8,
     "metadata": {},
     "output_type": "execute_result"
    }
   ],
   "source": [
    "data.columns \n",
    "# проверка результатов - перечень названий столбцов"
   ]
  },
  {
   "cell_type": "markdown",
   "id": "d7427d64",
   "metadata": {},
   "source": [
    "### 2.2 Пропуски значений"
   ]
  },
  {
   "cell_type": "code",
   "execution_count": 9,
   "id": "9b648f5c",
   "metadata": {},
   "outputs": [
    {
     "data": {
      "text/plain": [
       "is_apartment            20924\n",
       "parks_nearest           15620\n",
       "ponds_nearest           14589\n",
       "balcony                 11519\n",
       "ceiling_height           9195\n",
       "airports_nearest         5542\n",
       "city_centers_nearest     5519\n",
       "ponds_around_3km         5518\n",
       "parks_around_3km         5518\n",
       "days_exposition          3181\n",
       "kitchen_area             2278\n",
       "living_area              1903\n",
       "floors_total               86\n",
       "locality_name              49\n",
       "total_images                0\n",
       "last_price                  0\n",
       "studio                      0\n",
       "floor                       0\n",
       "rooms                       0\n",
       "first_day_exposition        0\n",
       "total_area                  0\n",
       "open_plan                   0\n",
       "dtype: int64"
      ]
     },
     "execution_count": 9,
     "metadata": {},
     "output_type": "execute_result"
    }
   ],
   "source": [
    "(data\n",
    " .isna()\n",
    " .sum()\n",
    " .sort_values(ascending=False)\n",
    ")\n",
    "# сортируем пропуски по количеству для удобства"
   ]
  },
  {
   "cell_type": "code",
   "execution_count": 10,
   "id": "57019d05",
   "metadata": {},
   "outputs": [],
   "source": [
    "columns = ['balcony', 'parks_around_3km', 'ponds_around_3km', 'is_apartment']\n",
    "for a in columns:\n",
    "    if a == 'is_apartment':\n",
    "        data[a] = data[a].fillna(False)\n",
    "    else:\n",
    "        data[a] = data[a].fillna(0)\n",
    "# заполняем с помощью цикла пропуски в некоторых столлбцах"
   ]
  },
  {
   "cell_type": "code",
   "execution_count": 11,
   "id": "5fc7d465",
   "metadata": {},
   "outputs": [
    {
     "data": {
      "text/plain": [
       "parks_nearest           15620\n",
       "ponds_nearest           14589\n",
       "ceiling_height           9195\n",
       "airports_nearest         5542\n",
       "city_centers_nearest     5519\n",
       "days_exposition          3181\n",
       "kitchen_area             2278\n",
       "living_area              1903\n",
       "floors_total               86\n",
       "locality_name              49\n",
       "balcony                     0\n",
       "ponds_around_3km            0\n",
       "parks_around_3km            0\n",
       "total_images                0\n",
       "last_price                  0\n",
       "studio                      0\n",
       "is_apartment                0\n",
       "floor                       0\n",
       "rooms                       0\n",
       "first_day_exposition        0\n",
       "total_area                  0\n",
       "open_plan                   0\n",
       "dtype: int64"
      ]
     },
     "execution_count": 11,
     "metadata": {},
     "output_type": "execute_result"
    }
   ],
   "source": [
    "(data\n",
    " .isna()\n",
    " .sum()\n",
    " .sort_values(ascending=False)\n",
    ")\n",
    "# проверка результатов"
   ]
  },
  {
   "cell_type": "markdown",
   "id": "a0c2b03c",
   "metadata": {},
   "source": [
    "### 2.3 Перевод данных"
   ]
  },
  {
   "cell_type": "code",
   "execution_count": 12,
   "id": "7e5c99e8",
   "metadata": {},
   "outputs": [
    {
     "data": {
      "text/html": [
       "<div>\n",
       "<style scoped>\n",
       "    .dataframe tbody tr th:only-of-type {\n",
       "        vertical-align: middle;\n",
       "    }\n",
       "\n",
       "    .dataframe tbody tr th {\n",
       "        vertical-align: top;\n",
       "    }\n",
       "\n",
       "    .dataframe thead th {\n",
       "        text-align: right;\n",
       "    }\n",
       "</style>\n",
       "<table border=\"1\" class=\"dataframe\">\n",
       "  <thead>\n",
       "    <tr style=\"text-align: right;\">\n",
       "      <th></th>\n",
       "      <th>total_images</th>\n",
       "      <th>last_price</th>\n",
       "      <th>total_area</th>\n",
       "      <th>first_day_exposition</th>\n",
       "      <th>rooms</th>\n",
       "      <th>ceiling_height</th>\n",
       "      <th>floors_total</th>\n",
       "      <th>living_area</th>\n",
       "      <th>floor</th>\n",
       "      <th>is_apartment</th>\n",
       "      <th>...</th>\n",
       "      <th>kitchen_area</th>\n",
       "      <th>balcony</th>\n",
       "      <th>locality_name</th>\n",
       "      <th>airports_nearest</th>\n",
       "      <th>city_centers_nearest</th>\n",
       "      <th>parks_around_3km</th>\n",
       "      <th>parks_nearest</th>\n",
       "      <th>ponds_around_3km</th>\n",
       "      <th>ponds_nearest</th>\n",
       "      <th>days_exposition</th>\n",
       "    </tr>\n",
       "  </thead>\n",
       "  <tbody>\n",
       "    <tr>\n",
       "      <th>0</th>\n",
       "      <td>20</td>\n",
       "      <td>13000000.0</td>\n",
       "      <td>108.0</td>\n",
       "      <td>2019-03-07T00:00:00</td>\n",
       "      <td>3</td>\n",
       "      <td>2.70</td>\n",
       "      <td>16.0</td>\n",
       "      <td>51.0</td>\n",
       "      <td>8</td>\n",
       "      <td>False</td>\n",
       "      <td>...</td>\n",
       "      <td>25.0</td>\n",
       "      <td>0.0</td>\n",
       "      <td>Санкт-Петербург</td>\n",
       "      <td>18863.0</td>\n",
       "      <td>16028.0</td>\n",
       "      <td>1.0</td>\n",
       "      <td>482.0</td>\n",
       "      <td>2.0</td>\n",
       "      <td>755.0</td>\n",
       "      <td>NaN</td>\n",
       "    </tr>\n",
       "    <tr>\n",
       "      <th>1</th>\n",
       "      <td>7</td>\n",
       "      <td>3350000.0</td>\n",
       "      <td>40.4</td>\n",
       "      <td>2018-12-04T00:00:00</td>\n",
       "      <td>1</td>\n",
       "      <td>NaN</td>\n",
       "      <td>11.0</td>\n",
       "      <td>18.6</td>\n",
       "      <td>1</td>\n",
       "      <td>False</td>\n",
       "      <td>...</td>\n",
       "      <td>11.0</td>\n",
       "      <td>2.0</td>\n",
       "      <td>посёлок Шушары</td>\n",
       "      <td>12817.0</td>\n",
       "      <td>18603.0</td>\n",
       "      <td>0.0</td>\n",
       "      <td>NaN</td>\n",
       "      <td>0.0</td>\n",
       "      <td>NaN</td>\n",
       "      <td>81.0</td>\n",
       "    </tr>\n",
       "    <tr>\n",
       "      <th>2</th>\n",
       "      <td>10</td>\n",
       "      <td>5196000.0</td>\n",
       "      <td>56.0</td>\n",
       "      <td>2015-08-20T00:00:00</td>\n",
       "      <td>2</td>\n",
       "      <td>NaN</td>\n",
       "      <td>5.0</td>\n",
       "      <td>34.3</td>\n",
       "      <td>4</td>\n",
       "      <td>False</td>\n",
       "      <td>...</td>\n",
       "      <td>8.3</td>\n",
       "      <td>0.0</td>\n",
       "      <td>Санкт-Петербург</td>\n",
       "      <td>21741.0</td>\n",
       "      <td>13933.0</td>\n",
       "      <td>1.0</td>\n",
       "      <td>90.0</td>\n",
       "      <td>2.0</td>\n",
       "      <td>574.0</td>\n",
       "      <td>558.0</td>\n",
       "    </tr>\n",
       "    <tr>\n",
       "      <th>3</th>\n",
       "      <td>0</td>\n",
       "      <td>64900000.0</td>\n",
       "      <td>159.0</td>\n",
       "      <td>2015-07-24T00:00:00</td>\n",
       "      <td>3</td>\n",
       "      <td>NaN</td>\n",
       "      <td>14.0</td>\n",
       "      <td>NaN</td>\n",
       "      <td>9</td>\n",
       "      <td>False</td>\n",
       "      <td>...</td>\n",
       "      <td>NaN</td>\n",
       "      <td>0.0</td>\n",
       "      <td>Санкт-Петербург</td>\n",
       "      <td>28098.0</td>\n",
       "      <td>6800.0</td>\n",
       "      <td>2.0</td>\n",
       "      <td>84.0</td>\n",
       "      <td>3.0</td>\n",
       "      <td>234.0</td>\n",
       "      <td>424.0</td>\n",
       "    </tr>\n",
       "    <tr>\n",
       "      <th>4</th>\n",
       "      <td>2</td>\n",
       "      <td>10000000.0</td>\n",
       "      <td>100.0</td>\n",
       "      <td>2018-06-19T00:00:00</td>\n",
       "      <td>2</td>\n",
       "      <td>3.03</td>\n",
       "      <td>14.0</td>\n",
       "      <td>32.0</td>\n",
       "      <td>13</td>\n",
       "      <td>False</td>\n",
       "      <td>...</td>\n",
       "      <td>41.0</td>\n",
       "      <td>0.0</td>\n",
       "      <td>Санкт-Петербург</td>\n",
       "      <td>31856.0</td>\n",
       "      <td>8098.0</td>\n",
       "      <td>2.0</td>\n",
       "      <td>112.0</td>\n",
       "      <td>1.0</td>\n",
       "      <td>48.0</td>\n",
       "      <td>121.0</td>\n",
       "    </tr>\n",
       "  </tbody>\n",
       "</table>\n",
       "<p>5 rows × 22 columns</p>\n",
       "</div>"
      ],
      "text/plain": [
       "   total_images  last_price  total_area first_day_exposition  rooms  \\\n",
       "0            20  13000000.0       108.0  2019-03-07T00:00:00      3   \n",
       "1             7   3350000.0        40.4  2018-12-04T00:00:00      1   \n",
       "2            10   5196000.0        56.0  2015-08-20T00:00:00      2   \n",
       "3             0  64900000.0       159.0  2015-07-24T00:00:00      3   \n",
       "4             2  10000000.0       100.0  2018-06-19T00:00:00      2   \n",
       "\n",
       "   ceiling_height  floors_total  living_area  floor  is_apartment  ...  \\\n",
       "0            2.70          16.0         51.0      8         False  ...   \n",
       "1             NaN          11.0         18.6      1         False  ...   \n",
       "2             NaN           5.0         34.3      4         False  ...   \n",
       "3             NaN          14.0          NaN      9         False  ...   \n",
       "4            3.03          14.0         32.0     13         False  ...   \n",
       "\n",
       "   kitchen_area  balcony    locality_name  airports_nearest  \\\n",
       "0          25.0      0.0  Санкт-Петербург           18863.0   \n",
       "1          11.0      2.0   посёлок Шушары           12817.0   \n",
       "2           8.3      0.0  Санкт-Петербург           21741.0   \n",
       "3           NaN      0.0  Санкт-Петербург           28098.0   \n",
       "4          41.0      0.0  Санкт-Петербург           31856.0   \n",
       "\n",
       "  city_centers_nearest  parks_around_3km  parks_nearest  ponds_around_3km  \\\n",
       "0              16028.0               1.0          482.0               2.0   \n",
       "1              18603.0               0.0            NaN               0.0   \n",
       "2              13933.0               1.0           90.0               2.0   \n",
       "3               6800.0               2.0           84.0               3.0   \n",
       "4               8098.0               2.0          112.0               1.0   \n",
       "\n",
       "   ponds_nearest  days_exposition  \n",
       "0          755.0              NaN  \n",
       "1            NaN             81.0  \n",
       "2          574.0            558.0  \n",
       "3          234.0            424.0  \n",
       "4           48.0            121.0  \n",
       "\n",
       "[5 rows x 22 columns]"
      ]
     },
     "execution_count": 12,
     "metadata": {},
     "output_type": "execute_result"
    }
   ],
   "source": [
    "data.head()"
   ]
  },
  {
   "cell_type": "code",
   "execution_count": 13,
   "id": "7d3b41d1",
   "metadata": {},
   "outputs": [],
   "source": [
    "data['first_day_exposition'] = pd.to_datetime( data['first_day_exposition'], format='%Y.%m.%dT') \n",
    "# первод времени в формат, подходящий для работы с датами"
   ]
  },
  {
   "cell_type": "code",
   "execution_count": 14,
   "id": "2b318c42",
   "metadata": {},
   "outputs": [
    {
     "data": {
      "text/html": [
       "<div>\n",
       "<style scoped>\n",
       "    .dataframe tbody tr th:only-of-type {\n",
       "        vertical-align: middle;\n",
       "    }\n",
       "\n",
       "    .dataframe tbody tr th {\n",
       "        vertical-align: top;\n",
       "    }\n",
       "\n",
       "    .dataframe thead th {\n",
       "        text-align: right;\n",
       "    }\n",
       "</style>\n",
       "<table border=\"1\" class=\"dataframe\">\n",
       "  <thead>\n",
       "    <tr style=\"text-align: right;\">\n",
       "      <th></th>\n",
       "      <th>total_images</th>\n",
       "      <th>last_price</th>\n",
       "      <th>total_area</th>\n",
       "      <th>first_day_exposition</th>\n",
       "      <th>rooms</th>\n",
       "      <th>ceiling_height</th>\n",
       "      <th>floors_total</th>\n",
       "      <th>living_area</th>\n",
       "      <th>floor</th>\n",
       "      <th>is_apartment</th>\n",
       "      <th>...</th>\n",
       "      <th>kitchen_area</th>\n",
       "      <th>balcony</th>\n",
       "      <th>locality_name</th>\n",
       "      <th>airports_nearest</th>\n",
       "      <th>city_centers_nearest</th>\n",
       "      <th>parks_around_3km</th>\n",
       "      <th>parks_nearest</th>\n",
       "      <th>ponds_around_3km</th>\n",
       "      <th>ponds_nearest</th>\n",
       "      <th>days_exposition</th>\n",
       "    </tr>\n",
       "  </thead>\n",
       "  <tbody>\n",
       "    <tr>\n",
       "      <th>0</th>\n",
       "      <td>20</td>\n",
       "      <td>13000000.0</td>\n",
       "      <td>108.0</td>\n",
       "      <td>2019-03-07</td>\n",
       "      <td>3</td>\n",
       "      <td>2.70</td>\n",
       "      <td>16.0</td>\n",
       "      <td>51.0</td>\n",
       "      <td>8</td>\n",
       "      <td>False</td>\n",
       "      <td>...</td>\n",
       "      <td>25.0</td>\n",
       "      <td>0.0</td>\n",
       "      <td>Санкт-Петербург</td>\n",
       "      <td>18863.0</td>\n",
       "      <td>16028.0</td>\n",
       "      <td>1.0</td>\n",
       "      <td>482.0</td>\n",
       "      <td>2.0</td>\n",
       "      <td>755.0</td>\n",
       "      <td>NaN</td>\n",
       "    </tr>\n",
       "    <tr>\n",
       "      <th>1</th>\n",
       "      <td>7</td>\n",
       "      <td>3350000.0</td>\n",
       "      <td>40.4</td>\n",
       "      <td>2018-12-04</td>\n",
       "      <td>1</td>\n",
       "      <td>NaN</td>\n",
       "      <td>11.0</td>\n",
       "      <td>18.6</td>\n",
       "      <td>1</td>\n",
       "      <td>False</td>\n",
       "      <td>...</td>\n",
       "      <td>11.0</td>\n",
       "      <td>2.0</td>\n",
       "      <td>посёлок Шушары</td>\n",
       "      <td>12817.0</td>\n",
       "      <td>18603.0</td>\n",
       "      <td>0.0</td>\n",
       "      <td>NaN</td>\n",
       "      <td>0.0</td>\n",
       "      <td>NaN</td>\n",
       "      <td>81.0</td>\n",
       "    </tr>\n",
       "    <tr>\n",
       "      <th>2</th>\n",
       "      <td>10</td>\n",
       "      <td>5196000.0</td>\n",
       "      <td>56.0</td>\n",
       "      <td>2015-08-20</td>\n",
       "      <td>2</td>\n",
       "      <td>NaN</td>\n",
       "      <td>5.0</td>\n",
       "      <td>34.3</td>\n",
       "      <td>4</td>\n",
       "      <td>False</td>\n",
       "      <td>...</td>\n",
       "      <td>8.3</td>\n",
       "      <td>0.0</td>\n",
       "      <td>Санкт-Петербург</td>\n",
       "      <td>21741.0</td>\n",
       "      <td>13933.0</td>\n",
       "      <td>1.0</td>\n",
       "      <td>90.0</td>\n",
       "      <td>2.0</td>\n",
       "      <td>574.0</td>\n",
       "      <td>558.0</td>\n",
       "    </tr>\n",
       "    <tr>\n",
       "      <th>3</th>\n",
       "      <td>0</td>\n",
       "      <td>64900000.0</td>\n",
       "      <td>159.0</td>\n",
       "      <td>2015-07-24</td>\n",
       "      <td>3</td>\n",
       "      <td>NaN</td>\n",
       "      <td>14.0</td>\n",
       "      <td>NaN</td>\n",
       "      <td>9</td>\n",
       "      <td>False</td>\n",
       "      <td>...</td>\n",
       "      <td>NaN</td>\n",
       "      <td>0.0</td>\n",
       "      <td>Санкт-Петербург</td>\n",
       "      <td>28098.0</td>\n",
       "      <td>6800.0</td>\n",
       "      <td>2.0</td>\n",
       "      <td>84.0</td>\n",
       "      <td>3.0</td>\n",
       "      <td>234.0</td>\n",
       "      <td>424.0</td>\n",
       "    </tr>\n",
       "    <tr>\n",
       "      <th>4</th>\n",
       "      <td>2</td>\n",
       "      <td>10000000.0</td>\n",
       "      <td>100.0</td>\n",
       "      <td>2018-06-19</td>\n",
       "      <td>2</td>\n",
       "      <td>3.03</td>\n",
       "      <td>14.0</td>\n",
       "      <td>32.0</td>\n",
       "      <td>13</td>\n",
       "      <td>False</td>\n",
       "      <td>...</td>\n",
       "      <td>41.0</td>\n",
       "      <td>0.0</td>\n",
       "      <td>Санкт-Петербург</td>\n",
       "      <td>31856.0</td>\n",
       "      <td>8098.0</td>\n",
       "      <td>2.0</td>\n",
       "      <td>112.0</td>\n",
       "      <td>1.0</td>\n",
       "      <td>48.0</td>\n",
       "      <td>121.0</td>\n",
       "    </tr>\n",
       "  </tbody>\n",
       "</table>\n",
       "<p>5 rows × 22 columns</p>\n",
       "</div>"
      ],
      "text/plain": [
       "   total_images  last_price  total_area first_day_exposition  rooms  \\\n",
       "0            20  13000000.0       108.0           2019-03-07      3   \n",
       "1             7   3350000.0        40.4           2018-12-04      1   \n",
       "2            10   5196000.0        56.0           2015-08-20      2   \n",
       "3             0  64900000.0       159.0           2015-07-24      3   \n",
       "4             2  10000000.0       100.0           2018-06-19      2   \n",
       "\n",
       "   ceiling_height  floors_total  living_area  floor  is_apartment  ...  \\\n",
       "0            2.70          16.0         51.0      8         False  ...   \n",
       "1             NaN          11.0         18.6      1         False  ...   \n",
       "2             NaN           5.0         34.3      4         False  ...   \n",
       "3             NaN          14.0          NaN      9         False  ...   \n",
       "4            3.03          14.0         32.0     13         False  ...   \n",
       "\n",
       "   kitchen_area  balcony    locality_name  airports_nearest  \\\n",
       "0          25.0      0.0  Санкт-Петербург           18863.0   \n",
       "1          11.0      2.0   посёлок Шушары           12817.0   \n",
       "2           8.3      0.0  Санкт-Петербург           21741.0   \n",
       "3           NaN      0.0  Санкт-Петербург           28098.0   \n",
       "4          41.0      0.0  Санкт-Петербург           31856.0   \n",
       "\n",
       "  city_centers_nearest  parks_around_3km  parks_nearest  ponds_around_3km  \\\n",
       "0              16028.0               1.0          482.0               2.0   \n",
       "1              18603.0               0.0            NaN               0.0   \n",
       "2              13933.0               1.0           90.0               2.0   \n",
       "3               6800.0               2.0           84.0               3.0   \n",
       "4               8098.0               2.0          112.0               1.0   \n",
       "\n",
       "   ponds_nearest  days_exposition  \n",
       "0          755.0              NaN  \n",
       "1            NaN             81.0  \n",
       "2          574.0            558.0  \n",
       "3          234.0            424.0  \n",
       "4           48.0            121.0  \n",
       "\n",
       "[5 rows x 22 columns]"
      ]
     },
     "execution_count": 14,
     "metadata": {},
     "output_type": "execute_result"
    }
   ],
   "source": [
    "data.head()\n",
    "#проверка"
   ]
  },
  {
   "cell_type": "markdown",
   "id": "80f1c302",
   "metadata": {},
   "source": [
    "В столбце `first_day_exposition`  изменен тип данных c `object` на  `datetime64`. \n",
    "\n",
    "Это позволит выполнять с данными необходимые операции."
   ]
  },
  {
   "cell_type": "code",
   "execution_count": 15,
   "id": "92126afb",
   "metadata": {},
   "outputs": [],
   "source": [
    "price = []\n",
    "for a in data['last_price']:\n",
    "    price.append(round(a / 1000000, 1))\n",
    "data['last_price'] = price\n",
    "# с помощью цикла меняем единицу измерения с единиц на млн для более удобного построения графиков при дальнейшем анализе"
   ]
  },
  {
   "cell_type": "code",
   "execution_count": 16,
   "id": "3b85e115",
   "metadata": {},
   "outputs": [
    {
     "data": {
      "text/html": [
       "<div>\n",
       "<style scoped>\n",
       "    .dataframe tbody tr th:only-of-type {\n",
       "        vertical-align: middle;\n",
       "    }\n",
       "\n",
       "    .dataframe tbody tr th {\n",
       "        vertical-align: top;\n",
       "    }\n",
       "\n",
       "    .dataframe thead th {\n",
       "        text-align: right;\n",
       "    }\n",
       "</style>\n",
       "<table border=\"1\" class=\"dataframe\">\n",
       "  <thead>\n",
       "    <tr style=\"text-align: right;\">\n",
       "      <th></th>\n",
       "      <th>total_images</th>\n",
       "      <th>last_price</th>\n",
       "      <th>total_area</th>\n",
       "      <th>first_day_exposition</th>\n",
       "      <th>rooms</th>\n",
       "      <th>ceiling_height</th>\n",
       "      <th>floors_total</th>\n",
       "      <th>living_area</th>\n",
       "      <th>floor</th>\n",
       "      <th>is_apartment</th>\n",
       "      <th>...</th>\n",
       "      <th>kitchen_area</th>\n",
       "      <th>balcony</th>\n",
       "      <th>locality_name</th>\n",
       "      <th>airports_nearest</th>\n",
       "      <th>city_centers_nearest</th>\n",
       "      <th>parks_around_3km</th>\n",
       "      <th>parks_nearest</th>\n",
       "      <th>ponds_around_3km</th>\n",
       "      <th>ponds_nearest</th>\n",
       "      <th>days_exposition</th>\n",
       "    </tr>\n",
       "  </thead>\n",
       "  <tbody>\n",
       "    <tr>\n",
       "      <th>0</th>\n",
       "      <td>20</td>\n",
       "      <td>13.0</td>\n",
       "      <td>108.0</td>\n",
       "      <td>2019-03-07</td>\n",
       "      <td>3</td>\n",
       "      <td>2.70</td>\n",
       "      <td>16.0</td>\n",
       "      <td>51.0</td>\n",
       "      <td>8</td>\n",
       "      <td>False</td>\n",
       "      <td>...</td>\n",
       "      <td>25.0</td>\n",
       "      <td>0.0</td>\n",
       "      <td>Санкт-Петербург</td>\n",
       "      <td>18863.0</td>\n",
       "      <td>16028.0</td>\n",
       "      <td>1.0</td>\n",
       "      <td>482.0</td>\n",
       "      <td>2.0</td>\n",
       "      <td>755.0</td>\n",
       "      <td>NaN</td>\n",
       "    </tr>\n",
       "    <tr>\n",
       "      <th>1</th>\n",
       "      <td>7</td>\n",
       "      <td>3.4</td>\n",
       "      <td>40.4</td>\n",
       "      <td>2018-12-04</td>\n",
       "      <td>1</td>\n",
       "      <td>NaN</td>\n",
       "      <td>11.0</td>\n",
       "      <td>18.6</td>\n",
       "      <td>1</td>\n",
       "      <td>False</td>\n",
       "      <td>...</td>\n",
       "      <td>11.0</td>\n",
       "      <td>2.0</td>\n",
       "      <td>посёлок Шушары</td>\n",
       "      <td>12817.0</td>\n",
       "      <td>18603.0</td>\n",
       "      <td>0.0</td>\n",
       "      <td>NaN</td>\n",
       "      <td>0.0</td>\n",
       "      <td>NaN</td>\n",
       "      <td>81.0</td>\n",
       "    </tr>\n",
       "    <tr>\n",
       "      <th>2</th>\n",
       "      <td>10</td>\n",
       "      <td>5.2</td>\n",
       "      <td>56.0</td>\n",
       "      <td>2015-08-20</td>\n",
       "      <td>2</td>\n",
       "      <td>NaN</td>\n",
       "      <td>5.0</td>\n",
       "      <td>34.3</td>\n",
       "      <td>4</td>\n",
       "      <td>False</td>\n",
       "      <td>...</td>\n",
       "      <td>8.3</td>\n",
       "      <td>0.0</td>\n",
       "      <td>Санкт-Петербург</td>\n",
       "      <td>21741.0</td>\n",
       "      <td>13933.0</td>\n",
       "      <td>1.0</td>\n",
       "      <td>90.0</td>\n",
       "      <td>2.0</td>\n",
       "      <td>574.0</td>\n",
       "      <td>558.0</td>\n",
       "    </tr>\n",
       "    <tr>\n",
       "      <th>3</th>\n",
       "      <td>0</td>\n",
       "      <td>64.9</td>\n",
       "      <td>159.0</td>\n",
       "      <td>2015-07-24</td>\n",
       "      <td>3</td>\n",
       "      <td>NaN</td>\n",
       "      <td>14.0</td>\n",
       "      <td>NaN</td>\n",
       "      <td>9</td>\n",
       "      <td>False</td>\n",
       "      <td>...</td>\n",
       "      <td>NaN</td>\n",
       "      <td>0.0</td>\n",
       "      <td>Санкт-Петербург</td>\n",
       "      <td>28098.0</td>\n",
       "      <td>6800.0</td>\n",
       "      <td>2.0</td>\n",
       "      <td>84.0</td>\n",
       "      <td>3.0</td>\n",
       "      <td>234.0</td>\n",
       "      <td>424.0</td>\n",
       "    </tr>\n",
       "    <tr>\n",
       "      <th>4</th>\n",
       "      <td>2</td>\n",
       "      <td>10.0</td>\n",
       "      <td>100.0</td>\n",
       "      <td>2018-06-19</td>\n",
       "      <td>2</td>\n",
       "      <td>3.03</td>\n",
       "      <td>14.0</td>\n",
       "      <td>32.0</td>\n",
       "      <td>13</td>\n",
       "      <td>False</td>\n",
       "      <td>...</td>\n",
       "      <td>41.0</td>\n",
       "      <td>0.0</td>\n",
       "      <td>Санкт-Петербург</td>\n",
       "      <td>31856.0</td>\n",
       "      <td>8098.0</td>\n",
       "      <td>2.0</td>\n",
       "      <td>112.0</td>\n",
       "      <td>1.0</td>\n",
       "      <td>48.0</td>\n",
       "      <td>121.0</td>\n",
       "    </tr>\n",
       "  </tbody>\n",
       "</table>\n",
       "<p>5 rows × 22 columns</p>\n",
       "</div>"
      ],
      "text/plain": [
       "   total_images  last_price  total_area first_day_exposition  rooms  \\\n",
       "0            20        13.0       108.0           2019-03-07      3   \n",
       "1             7         3.4        40.4           2018-12-04      1   \n",
       "2            10         5.2        56.0           2015-08-20      2   \n",
       "3             0        64.9       159.0           2015-07-24      3   \n",
       "4             2        10.0       100.0           2018-06-19      2   \n",
       "\n",
       "   ceiling_height  floors_total  living_area  floor  is_apartment  ...  \\\n",
       "0            2.70          16.0         51.0      8         False  ...   \n",
       "1             NaN          11.0         18.6      1         False  ...   \n",
       "2             NaN           5.0         34.3      4         False  ...   \n",
       "3             NaN          14.0          NaN      9         False  ...   \n",
       "4            3.03          14.0         32.0     13         False  ...   \n",
       "\n",
       "   kitchen_area  balcony    locality_name  airports_nearest  \\\n",
       "0          25.0      0.0  Санкт-Петербург           18863.0   \n",
       "1          11.0      2.0   посёлок Шушары           12817.0   \n",
       "2           8.3      0.0  Санкт-Петербург           21741.0   \n",
       "3           NaN      0.0  Санкт-Петербург           28098.0   \n",
       "4          41.0      0.0  Санкт-Петербург           31856.0   \n",
       "\n",
       "  city_centers_nearest  parks_around_3km  parks_nearest  ponds_around_3km  \\\n",
       "0              16028.0               1.0          482.0               2.0   \n",
       "1              18603.0               0.0            NaN               0.0   \n",
       "2              13933.0               1.0           90.0               2.0   \n",
       "3               6800.0               2.0           84.0               3.0   \n",
       "4               8098.0               2.0          112.0               1.0   \n",
       "\n",
       "   ponds_nearest  days_exposition  \n",
       "0          755.0              NaN  \n",
       "1            NaN             81.0  \n",
       "2          574.0            558.0  \n",
       "3          234.0            424.0  \n",
       "4           48.0            121.0  \n",
       "\n",
       "[5 rows x 22 columns]"
      ]
     },
     "execution_count": 16,
     "metadata": {},
     "output_type": "execute_result"
    }
   ],
   "source": [
    "data.head()\n",
    "#проверка"
   ]
  },
  {
   "cell_type": "markdown",
   "id": "87ec9460",
   "metadata": {},
   "source": [
    "### 2.4 Проверка на наличие дупликатов"
   ]
  },
  {
   "cell_type": "code",
   "execution_count": 17,
   "id": "276f7a16",
   "metadata": {},
   "outputs": [
    {
     "data": {
      "text/plain": [
       "0"
      ]
     },
     "execution_count": 17,
     "metadata": {},
     "output_type": "execute_result"
    }
   ],
   "source": [
    "data.duplicated().sum()"
   ]
  },
  {
   "cell_type": "markdown",
   "id": "b099225f",
   "metadata": {},
   "source": [
    "**Выводы**\n",
    "\n",
    "В ходе предобратки:\n",
    "\n",
    "- исправлен формат времени,\n",
    "- исправлен формат запмси цены,\n",
    "- дубликаты не обнаружены.\n",
    "- заполнены некоторые пропуски\n",
    "- исправлены названия столбцов\n",
    "\n",
    "Без данных проблем исследование станет более точным.\n"
   ]
  },
  {
   "cell_type": "markdown",
   "id": "abb5a5f2",
   "metadata": {},
   "source": [
    "## 3 Добавление столбцов"
   ]
  },
  {
   "cell_type": "markdown",
   "id": "1b735d03",
   "metadata": {},
   "source": [
    "### 3.1 Цена квадратного метра"
   ]
  },
  {
   "cell_type": "code",
   "execution_count": 18,
   "id": "ade50f30",
   "metadata": {},
   "outputs": [],
   "source": [
    "data['price_m2'] =round((data['last_price'] / data['total_area']),3)\n",
    "# рассчет кв м "
   ]
  },
  {
   "cell_type": "code",
   "execution_count": 19,
   "id": "bf99e922",
   "metadata": {},
   "outputs": [
    {
     "data": {
      "text/html": [
       "<div>\n",
       "<style scoped>\n",
       "    .dataframe tbody tr th:only-of-type {\n",
       "        vertical-align: middle;\n",
       "    }\n",
       "\n",
       "    .dataframe tbody tr th {\n",
       "        vertical-align: top;\n",
       "    }\n",
       "\n",
       "    .dataframe thead th {\n",
       "        text-align: right;\n",
       "    }\n",
       "</style>\n",
       "<table border=\"1\" class=\"dataframe\">\n",
       "  <thead>\n",
       "    <tr style=\"text-align: right;\">\n",
       "      <th></th>\n",
       "      <th>total_images</th>\n",
       "      <th>last_price</th>\n",
       "      <th>total_area</th>\n",
       "      <th>first_day_exposition</th>\n",
       "      <th>rooms</th>\n",
       "      <th>ceiling_height</th>\n",
       "      <th>floors_total</th>\n",
       "      <th>living_area</th>\n",
       "      <th>floor</th>\n",
       "      <th>is_apartment</th>\n",
       "      <th>...</th>\n",
       "      <th>balcony</th>\n",
       "      <th>locality_name</th>\n",
       "      <th>airports_nearest</th>\n",
       "      <th>city_centers_nearest</th>\n",
       "      <th>parks_around_3km</th>\n",
       "      <th>parks_nearest</th>\n",
       "      <th>ponds_around_3km</th>\n",
       "      <th>ponds_nearest</th>\n",
       "      <th>days_exposition</th>\n",
       "      <th>price_m2</th>\n",
       "    </tr>\n",
       "  </thead>\n",
       "  <tbody>\n",
       "    <tr>\n",
       "      <th>0</th>\n",
       "      <td>20</td>\n",
       "      <td>13.0</td>\n",
       "      <td>108.0</td>\n",
       "      <td>2019-03-07</td>\n",
       "      <td>3</td>\n",
       "      <td>2.70</td>\n",
       "      <td>16.0</td>\n",
       "      <td>51.0</td>\n",
       "      <td>8</td>\n",
       "      <td>False</td>\n",
       "      <td>...</td>\n",
       "      <td>0.0</td>\n",
       "      <td>Санкт-Петербург</td>\n",
       "      <td>18863.0</td>\n",
       "      <td>16028.0</td>\n",
       "      <td>1.0</td>\n",
       "      <td>482.0</td>\n",
       "      <td>2.0</td>\n",
       "      <td>755.0</td>\n",
       "      <td>NaN</td>\n",
       "      <td>0.120</td>\n",
       "    </tr>\n",
       "    <tr>\n",
       "      <th>1</th>\n",
       "      <td>7</td>\n",
       "      <td>3.4</td>\n",
       "      <td>40.4</td>\n",
       "      <td>2018-12-04</td>\n",
       "      <td>1</td>\n",
       "      <td>NaN</td>\n",
       "      <td>11.0</td>\n",
       "      <td>18.6</td>\n",
       "      <td>1</td>\n",
       "      <td>False</td>\n",
       "      <td>...</td>\n",
       "      <td>2.0</td>\n",
       "      <td>посёлок Шушары</td>\n",
       "      <td>12817.0</td>\n",
       "      <td>18603.0</td>\n",
       "      <td>0.0</td>\n",
       "      <td>NaN</td>\n",
       "      <td>0.0</td>\n",
       "      <td>NaN</td>\n",
       "      <td>81.0</td>\n",
       "      <td>0.084</td>\n",
       "    </tr>\n",
       "    <tr>\n",
       "      <th>2</th>\n",
       "      <td>10</td>\n",
       "      <td>5.2</td>\n",
       "      <td>56.0</td>\n",
       "      <td>2015-08-20</td>\n",
       "      <td>2</td>\n",
       "      <td>NaN</td>\n",
       "      <td>5.0</td>\n",
       "      <td>34.3</td>\n",
       "      <td>4</td>\n",
       "      <td>False</td>\n",
       "      <td>...</td>\n",
       "      <td>0.0</td>\n",
       "      <td>Санкт-Петербург</td>\n",
       "      <td>21741.0</td>\n",
       "      <td>13933.0</td>\n",
       "      <td>1.0</td>\n",
       "      <td>90.0</td>\n",
       "      <td>2.0</td>\n",
       "      <td>574.0</td>\n",
       "      <td>558.0</td>\n",
       "      <td>0.093</td>\n",
       "    </tr>\n",
       "    <tr>\n",
       "      <th>3</th>\n",
       "      <td>0</td>\n",
       "      <td>64.9</td>\n",
       "      <td>159.0</td>\n",
       "      <td>2015-07-24</td>\n",
       "      <td>3</td>\n",
       "      <td>NaN</td>\n",
       "      <td>14.0</td>\n",
       "      <td>NaN</td>\n",
       "      <td>9</td>\n",
       "      <td>False</td>\n",
       "      <td>...</td>\n",
       "      <td>0.0</td>\n",
       "      <td>Санкт-Петербург</td>\n",
       "      <td>28098.0</td>\n",
       "      <td>6800.0</td>\n",
       "      <td>2.0</td>\n",
       "      <td>84.0</td>\n",
       "      <td>3.0</td>\n",
       "      <td>234.0</td>\n",
       "      <td>424.0</td>\n",
       "      <td>0.408</td>\n",
       "    </tr>\n",
       "    <tr>\n",
       "      <th>4</th>\n",
       "      <td>2</td>\n",
       "      <td>10.0</td>\n",
       "      <td>100.0</td>\n",
       "      <td>2018-06-19</td>\n",
       "      <td>2</td>\n",
       "      <td>3.03</td>\n",
       "      <td>14.0</td>\n",
       "      <td>32.0</td>\n",
       "      <td>13</td>\n",
       "      <td>False</td>\n",
       "      <td>...</td>\n",
       "      <td>0.0</td>\n",
       "      <td>Санкт-Петербург</td>\n",
       "      <td>31856.0</td>\n",
       "      <td>8098.0</td>\n",
       "      <td>2.0</td>\n",
       "      <td>112.0</td>\n",
       "      <td>1.0</td>\n",
       "      <td>48.0</td>\n",
       "      <td>121.0</td>\n",
       "      <td>0.100</td>\n",
       "    </tr>\n",
       "  </tbody>\n",
       "</table>\n",
       "<p>5 rows × 23 columns</p>\n",
       "</div>"
      ],
      "text/plain": [
       "   total_images  last_price  total_area first_day_exposition  rooms  \\\n",
       "0            20        13.0       108.0           2019-03-07      3   \n",
       "1             7         3.4        40.4           2018-12-04      1   \n",
       "2            10         5.2        56.0           2015-08-20      2   \n",
       "3             0        64.9       159.0           2015-07-24      3   \n",
       "4             2        10.0       100.0           2018-06-19      2   \n",
       "\n",
       "   ceiling_height  floors_total  living_area  floor  is_apartment  ...  \\\n",
       "0            2.70          16.0         51.0      8         False  ...   \n",
       "1             NaN          11.0         18.6      1         False  ...   \n",
       "2             NaN           5.0         34.3      4         False  ...   \n",
       "3             NaN          14.0          NaN      9         False  ...   \n",
       "4            3.03          14.0         32.0     13         False  ...   \n",
       "\n",
       "   balcony    locality_name  airports_nearest  city_centers_nearest  \\\n",
       "0      0.0  Санкт-Петербург           18863.0               16028.0   \n",
       "1      2.0   посёлок Шушары           12817.0               18603.0   \n",
       "2      0.0  Санкт-Петербург           21741.0               13933.0   \n",
       "3      0.0  Санкт-Петербург           28098.0                6800.0   \n",
       "4      0.0  Санкт-Петербург           31856.0                8098.0   \n",
       "\n",
       "  parks_around_3km  parks_nearest  ponds_around_3km  ponds_nearest  \\\n",
       "0              1.0          482.0               2.0          755.0   \n",
       "1              0.0            NaN               0.0            NaN   \n",
       "2              1.0           90.0               2.0          574.0   \n",
       "3              2.0           84.0               3.0          234.0   \n",
       "4              2.0          112.0               1.0           48.0   \n",
       "\n",
       "   days_exposition  price_m2  \n",
       "0              NaN     0.120  \n",
       "1             81.0     0.084  \n",
       "2            558.0     0.093  \n",
       "3            424.0     0.408  \n",
       "4            121.0     0.100  \n",
       "\n",
       "[5 rows x 23 columns]"
      ]
     },
     "execution_count": 19,
     "metadata": {},
     "output_type": "execute_result"
    }
   ],
   "source": [
    "data.head()\n",
    "# Проверка "
   ]
  },
  {
   "cell_type": "markdown",
   "id": "d07bdba6",
   "metadata": {},
   "source": [
    "### 3.2 День недели, месяц и год публикации объявления"
   ]
  },
  {
   "cell_type": "code",
   "execution_count": 20,
   "id": "602190cc",
   "metadata": {},
   "outputs": [],
   "source": [
    "data['day'] = data['first_day_exposition'].dt.weekday\n",
    "data['month'] = pd.DatetimeIndex(data['first_day_exposition']).month\n",
    "data['year'] = pd.DatetimeIndex(data['first_day_exposition']).year\n",
    "# создание новых столбцов с днем месяцем и годом"
   ]
  },
  {
   "cell_type": "code",
   "execution_count": 21,
   "id": "53b846c4",
   "metadata": {},
   "outputs": [
    {
     "data": {
      "text/html": [
       "<div>\n",
       "<style scoped>\n",
       "    .dataframe tbody tr th:only-of-type {\n",
       "        vertical-align: middle;\n",
       "    }\n",
       "\n",
       "    .dataframe tbody tr th {\n",
       "        vertical-align: top;\n",
       "    }\n",
       "\n",
       "    .dataframe thead th {\n",
       "        text-align: right;\n",
       "    }\n",
       "</style>\n",
       "<table border=\"1\" class=\"dataframe\">\n",
       "  <thead>\n",
       "    <tr style=\"text-align: right;\">\n",
       "      <th></th>\n",
       "      <th>total_images</th>\n",
       "      <th>last_price</th>\n",
       "      <th>total_area</th>\n",
       "      <th>first_day_exposition</th>\n",
       "      <th>rooms</th>\n",
       "      <th>ceiling_height</th>\n",
       "      <th>floors_total</th>\n",
       "      <th>living_area</th>\n",
       "      <th>floor</th>\n",
       "      <th>is_apartment</th>\n",
       "      <th>...</th>\n",
       "      <th>city_centers_nearest</th>\n",
       "      <th>parks_around_3km</th>\n",
       "      <th>parks_nearest</th>\n",
       "      <th>ponds_around_3km</th>\n",
       "      <th>ponds_nearest</th>\n",
       "      <th>days_exposition</th>\n",
       "      <th>price_m2</th>\n",
       "      <th>day</th>\n",
       "      <th>month</th>\n",
       "      <th>year</th>\n",
       "    </tr>\n",
       "  </thead>\n",
       "  <tbody>\n",
       "    <tr>\n",
       "      <th>0</th>\n",
       "      <td>20</td>\n",
       "      <td>13.0</td>\n",
       "      <td>108.0</td>\n",
       "      <td>2019-03-07</td>\n",
       "      <td>3</td>\n",
       "      <td>2.70</td>\n",
       "      <td>16.0</td>\n",
       "      <td>51.0</td>\n",
       "      <td>8</td>\n",
       "      <td>False</td>\n",
       "      <td>...</td>\n",
       "      <td>16028.0</td>\n",
       "      <td>1.0</td>\n",
       "      <td>482.0</td>\n",
       "      <td>2.0</td>\n",
       "      <td>755.0</td>\n",
       "      <td>NaN</td>\n",
       "      <td>0.120</td>\n",
       "      <td>3</td>\n",
       "      <td>3</td>\n",
       "      <td>2019</td>\n",
       "    </tr>\n",
       "    <tr>\n",
       "      <th>1</th>\n",
       "      <td>7</td>\n",
       "      <td>3.4</td>\n",
       "      <td>40.4</td>\n",
       "      <td>2018-12-04</td>\n",
       "      <td>1</td>\n",
       "      <td>NaN</td>\n",
       "      <td>11.0</td>\n",
       "      <td>18.6</td>\n",
       "      <td>1</td>\n",
       "      <td>False</td>\n",
       "      <td>...</td>\n",
       "      <td>18603.0</td>\n",
       "      <td>0.0</td>\n",
       "      <td>NaN</td>\n",
       "      <td>0.0</td>\n",
       "      <td>NaN</td>\n",
       "      <td>81.0</td>\n",
       "      <td>0.084</td>\n",
       "      <td>1</td>\n",
       "      <td>12</td>\n",
       "      <td>2018</td>\n",
       "    </tr>\n",
       "    <tr>\n",
       "      <th>2</th>\n",
       "      <td>10</td>\n",
       "      <td>5.2</td>\n",
       "      <td>56.0</td>\n",
       "      <td>2015-08-20</td>\n",
       "      <td>2</td>\n",
       "      <td>NaN</td>\n",
       "      <td>5.0</td>\n",
       "      <td>34.3</td>\n",
       "      <td>4</td>\n",
       "      <td>False</td>\n",
       "      <td>...</td>\n",
       "      <td>13933.0</td>\n",
       "      <td>1.0</td>\n",
       "      <td>90.0</td>\n",
       "      <td>2.0</td>\n",
       "      <td>574.0</td>\n",
       "      <td>558.0</td>\n",
       "      <td>0.093</td>\n",
       "      <td>3</td>\n",
       "      <td>8</td>\n",
       "      <td>2015</td>\n",
       "    </tr>\n",
       "    <tr>\n",
       "      <th>3</th>\n",
       "      <td>0</td>\n",
       "      <td>64.9</td>\n",
       "      <td>159.0</td>\n",
       "      <td>2015-07-24</td>\n",
       "      <td>3</td>\n",
       "      <td>NaN</td>\n",
       "      <td>14.0</td>\n",
       "      <td>NaN</td>\n",
       "      <td>9</td>\n",
       "      <td>False</td>\n",
       "      <td>...</td>\n",
       "      <td>6800.0</td>\n",
       "      <td>2.0</td>\n",
       "      <td>84.0</td>\n",
       "      <td>3.0</td>\n",
       "      <td>234.0</td>\n",
       "      <td>424.0</td>\n",
       "      <td>0.408</td>\n",
       "      <td>4</td>\n",
       "      <td>7</td>\n",
       "      <td>2015</td>\n",
       "    </tr>\n",
       "    <tr>\n",
       "      <th>4</th>\n",
       "      <td>2</td>\n",
       "      <td>10.0</td>\n",
       "      <td>100.0</td>\n",
       "      <td>2018-06-19</td>\n",
       "      <td>2</td>\n",
       "      <td>3.03</td>\n",
       "      <td>14.0</td>\n",
       "      <td>32.0</td>\n",
       "      <td>13</td>\n",
       "      <td>False</td>\n",
       "      <td>...</td>\n",
       "      <td>8098.0</td>\n",
       "      <td>2.0</td>\n",
       "      <td>112.0</td>\n",
       "      <td>1.0</td>\n",
       "      <td>48.0</td>\n",
       "      <td>121.0</td>\n",
       "      <td>0.100</td>\n",
       "      <td>1</td>\n",
       "      <td>6</td>\n",
       "      <td>2018</td>\n",
       "    </tr>\n",
       "  </tbody>\n",
       "</table>\n",
       "<p>5 rows × 26 columns</p>\n",
       "</div>"
      ],
      "text/plain": [
       "   total_images  last_price  total_area first_day_exposition  rooms  \\\n",
       "0            20        13.0       108.0           2019-03-07      3   \n",
       "1             7         3.4        40.4           2018-12-04      1   \n",
       "2            10         5.2        56.0           2015-08-20      2   \n",
       "3             0        64.9       159.0           2015-07-24      3   \n",
       "4             2        10.0       100.0           2018-06-19      2   \n",
       "\n",
       "   ceiling_height  floors_total  living_area  floor  is_apartment  ...  \\\n",
       "0            2.70          16.0         51.0      8         False  ...   \n",
       "1             NaN          11.0         18.6      1         False  ...   \n",
       "2             NaN           5.0         34.3      4         False  ...   \n",
       "3             NaN          14.0          NaN      9         False  ...   \n",
       "4            3.03          14.0         32.0     13         False  ...   \n",
       "\n",
       "   city_centers_nearest  parks_around_3km  parks_nearest  ponds_around_3km  \\\n",
       "0               16028.0               1.0          482.0               2.0   \n",
       "1               18603.0               0.0            NaN               0.0   \n",
       "2               13933.0               1.0           90.0               2.0   \n",
       "3                6800.0               2.0           84.0               3.0   \n",
       "4                8098.0               2.0          112.0               1.0   \n",
       "\n",
       "  ponds_nearest  days_exposition  price_m2  day  month  year  \n",
       "0         755.0              NaN     0.120    3      3  2019  \n",
       "1           NaN             81.0     0.084    1     12  2018  \n",
       "2         574.0            558.0     0.093    3      8  2015  \n",
       "3         234.0            424.0     0.408    4      7  2015  \n",
       "4          48.0            121.0     0.100    1      6  2018  \n",
       "\n",
       "[5 rows x 26 columns]"
      ]
     },
     "execution_count": 21,
     "metadata": {},
     "output_type": "execute_result"
    }
   ],
   "source": [
    "data.head()\n",
    "#проверка"
   ]
  },
  {
   "cell_type": "markdown",
   "id": "1459b685",
   "metadata": {},
   "source": [
    "### 3.3 Этаж квартиры"
   ]
  },
  {
   "cell_type": "code",
   "execution_count": 22,
   "id": "3f9930ea",
   "metadata": {},
   "outputs": [],
   "source": [
    "def category(data):\n",
    "    if data['floor'] == data['floors_total']:\n",
    "        return 'последний'\n",
    "    elif data['floor'] == 1.0:\n",
    "        return'первый' \n",
    "    else:   \n",
    "        return 'другой'\n"
   ]
  },
  {
   "cell_type": "code",
   "execution_count": 23,
   "id": "f549a7b9",
   "metadata": {},
   "outputs": [],
   "source": [
    "data['floor_category'] = data.apply(category, axis=1)"
   ]
  },
  {
   "cell_type": "code",
   "execution_count": 24,
   "id": "462757e7",
   "metadata": {},
   "outputs": [
    {
     "data": {
      "text/plain": [
       "другой       17446\n",
       "последний     3361\n",
       "первый        2892\n",
       "Name: floor_category, dtype: int64"
      ]
     },
     "execution_count": 24,
     "metadata": {},
     "output_type": "execute_result"
    }
   ],
   "source": [
    "data['floor_category'].value_counts()\n",
    "# проверка"
   ]
  },
  {
   "cell_type": "code",
   "execution_count": 25,
   "id": "0c8388a9",
   "metadata": {},
   "outputs": [
    {
     "data": {
      "text/html": [
       "<div>\n",
       "<style scoped>\n",
       "    .dataframe tbody tr th:only-of-type {\n",
       "        vertical-align: middle;\n",
       "    }\n",
       "\n",
       "    .dataframe tbody tr th {\n",
       "        vertical-align: top;\n",
       "    }\n",
       "\n",
       "    .dataframe thead th {\n",
       "        text-align: right;\n",
       "    }\n",
       "</style>\n",
       "<table border=\"1\" class=\"dataframe\">\n",
       "  <thead>\n",
       "    <tr style=\"text-align: right;\">\n",
       "      <th></th>\n",
       "      <th>total_images</th>\n",
       "      <th>last_price</th>\n",
       "      <th>total_area</th>\n",
       "      <th>first_day_exposition</th>\n",
       "      <th>rooms</th>\n",
       "      <th>ceiling_height</th>\n",
       "      <th>floors_total</th>\n",
       "      <th>living_area</th>\n",
       "      <th>floor</th>\n",
       "      <th>is_apartment</th>\n",
       "      <th>...</th>\n",
       "      <th>parks_around_3km</th>\n",
       "      <th>parks_nearest</th>\n",
       "      <th>ponds_around_3km</th>\n",
       "      <th>ponds_nearest</th>\n",
       "      <th>days_exposition</th>\n",
       "      <th>price_m2</th>\n",
       "      <th>day</th>\n",
       "      <th>month</th>\n",
       "      <th>year</th>\n",
       "      <th>floor_category</th>\n",
       "    </tr>\n",
       "  </thead>\n",
       "  <tbody>\n",
       "    <tr>\n",
       "      <th>0</th>\n",
       "      <td>20</td>\n",
       "      <td>13.0</td>\n",
       "      <td>108.0</td>\n",
       "      <td>2019-03-07</td>\n",
       "      <td>3</td>\n",
       "      <td>2.70</td>\n",
       "      <td>16.0</td>\n",
       "      <td>51.0</td>\n",
       "      <td>8</td>\n",
       "      <td>False</td>\n",
       "      <td>...</td>\n",
       "      <td>1.0</td>\n",
       "      <td>482.0</td>\n",
       "      <td>2.0</td>\n",
       "      <td>755.0</td>\n",
       "      <td>NaN</td>\n",
       "      <td>0.120</td>\n",
       "      <td>3</td>\n",
       "      <td>3</td>\n",
       "      <td>2019</td>\n",
       "      <td>другой</td>\n",
       "    </tr>\n",
       "    <tr>\n",
       "      <th>1</th>\n",
       "      <td>7</td>\n",
       "      <td>3.4</td>\n",
       "      <td>40.4</td>\n",
       "      <td>2018-12-04</td>\n",
       "      <td>1</td>\n",
       "      <td>NaN</td>\n",
       "      <td>11.0</td>\n",
       "      <td>18.6</td>\n",
       "      <td>1</td>\n",
       "      <td>False</td>\n",
       "      <td>...</td>\n",
       "      <td>0.0</td>\n",
       "      <td>NaN</td>\n",
       "      <td>0.0</td>\n",
       "      <td>NaN</td>\n",
       "      <td>81.0</td>\n",
       "      <td>0.084</td>\n",
       "      <td>1</td>\n",
       "      <td>12</td>\n",
       "      <td>2018</td>\n",
       "      <td>первый</td>\n",
       "    </tr>\n",
       "    <tr>\n",
       "      <th>2</th>\n",
       "      <td>10</td>\n",
       "      <td>5.2</td>\n",
       "      <td>56.0</td>\n",
       "      <td>2015-08-20</td>\n",
       "      <td>2</td>\n",
       "      <td>NaN</td>\n",
       "      <td>5.0</td>\n",
       "      <td>34.3</td>\n",
       "      <td>4</td>\n",
       "      <td>False</td>\n",
       "      <td>...</td>\n",
       "      <td>1.0</td>\n",
       "      <td>90.0</td>\n",
       "      <td>2.0</td>\n",
       "      <td>574.0</td>\n",
       "      <td>558.0</td>\n",
       "      <td>0.093</td>\n",
       "      <td>3</td>\n",
       "      <td>8</td>\n",
       "      <td>2015</td>\n",
       "      <td>другой</td>\n",
       "    </tr>\n",
       "    <tr>\n",
       "      <th>3</th>\n",
       "      <td>0</td>\n",
       "      <td>64.9</td>\n",
       "      <td>159.0</td>\n",
       "      <td>2015-07-24</td>\n",
       "      <td>3</td>\n",
       "      <td>NaN</td>\n",
       "      <td>14.0</td>\n",
       "      <td>NaN</td>\n",
       "      <td>9</td>\n",
       "      <td>False</td>\n",
       "      <td>...</td>\n",
       "      <td>2.0</td>\n",
       "      <td>84.0</td>\n",
       "      <td>3.0</td>\n",
       "      <td>234.0</td>\n",
       "      <td>424.0</td>\n",
       "      <td>0.408</td>\n",
       "      <td>4</td>\n",
       "      <td>7</td>\n",
       "      <td>2015</td>\n",
       "      <td>другой</td>\n",
       "    </tr>\n",
       "    <tr>\n",
       "      <th>4</th>\n",
       "      <td>2</td>\n",
       "      <td>10.0</td>\n",
       "      <td>100.0</td>\n",
       "      <td>2018-06-19</td>\n",
       "      <td>2</td>\n",
       "      <td>3.03</td>\n",
       "      <td>14.0</td>\n",
       "      <td>32.0</td>\n",
       "      <td>13</td>\n",
       "      <td>False</td>\n",
       "      <td>...</td>\n",
       "      <td>2.0</td>\n",
       "      <td>112.0</td>\n",
       "      <td>1.0</td>\n",
       "      <td>48.0</td>\n",
       "      <td>121.0</td>\n",
       "      <td>0.100</td>\n",
       "      <td>1</td>\n",
       "      <td>6</td>\n",
       "      <td>2018</td>\n",
       "      <td>другой</td>\n",
       "    </tr>\n",
       "  </tbody>\n",
       "</table>\n",
       "<p>5 rows × 27 columns</p>\n",
       "</div>"
      ],
      "text/plain": [
       "   total_images  last_price  total_area first_day_exposition  rooms  \\\n",
       "0            20        13.0       108.0           2019-03-07      3   \n",
       "1             7         3.4        40.4           2018-12-04      1   \n",
       "2            10         5.2        56.0           2015-08-20      2   \n",
       "3             0        64.9       159.0           2015-07-24      3   \n",
       "4             2        10.0       100.0           2018-06-19      2   \n",
       "\n",
       "   ceiling_height  floors_total  living_area  floor  is_apartment  ...  \\\n",
       "0            2.70          16.0         51.0      8         False  ...   \n",
       "1             NaN          11.0         18.6      1         False  ...   \n",
       "2             NaN           5.0         34.3      4         False  ...   \n",
       "3             NaN          14.0          NaN      9         False  ...   \n",
       "4            3.03          14.0         32.0     13         False  ...   \n",
       "\n",
       "   parks_around_3km  parks_nearest  ponds_around_3km  ponds_nearest  \\\n",
       "0               1.0          482.0               2.0          755.0   \n",
       "1               0.0            NaN               0.0            NaN   \n",
       "2               1.0           90.0               2.0          574.0   \n",
       "3               2.0           84.0               3.0          234.0   \n",
       "4               2.0          112.0               1.0           48.0   \n",
       "\n",
       "  days_exposition  price_m2  day  month  year  floor_category  \n",
       "0             NaN     0.120    3      3  2019          другой  \n",
       "1            81.0     0.084    1     12  2018          первый  \n",
       "2           558.0     0.093    3      8  2015          другой  \n",
       "3           424.0     0.408    4      7  2015          другой  \n",
       "4           121.0     0.100    1      6  2018          другой  \n",
       "\n",
       "[5 rows x 27 columns]"
      ]
     },
     "execution_count": 25,
     "metadata": {},
     "output_type": "execute_result"
    }
   ],
   "source": [
    "data.head()\n",
    "# проверка"
   ]
  },
  {
   "cell_type": "markdown",
   "id": "e05286f1",
   "metadata": {},
   "source": [
    "### 3.4 Соотношение жилой и общей площади, а также отношение площади кухни к общей."
   ]
  },
  {
   "cell_type": "code",
   "execution_count": 26,
   "id": "86fe3c95",
   "metadata": {},
   "outputs": [],
   "source": [
    "data['living_total_area'] = round(data['living_area'] / data['total_area'], 2)\n",
    "data['kitchen_total_area'] = round(data['kitchen_area'] / data['total_area'], 2)\n",
    "# рассчет соотношений"
   ]
  },
  {
   "cell_type": "code",
   "execution_count": 27,
   "id": "9a9d7e8b",
   "metadata": {
    "scrolled": true
   },
   "outputs": [
    {
     "data": {
      "text/html": [
       "<div>\n",
       "<style scoped>\n",
       "    .dataframe tbody tr th:only-of-type {\n",
       "        vertical-align: middle;\n",
       "    }\n",
       "\n",
       "    .dataframe tbody tr th {\n",
       "        vertical-align: top;\n",
       "    }\n",
       "\n",
       "    .dataframe thead th {\n",
       "        text-align: right;\n",
       "    }\n",
       "</style>\n",
       "<table border=\"1\" class=\"dataframe\">\n",
       "  <thead>\n",
       "    <tr style=\"text-align: right;\">\n",
       "      <th></th>\n",
       "      <th>total_images</th>\n",
       "      <th>last_price</th>\n",
       "      <th>total_area</th>\n",
       "      <th>first_day_exposition</th>\n",
       "      <th>rooms</th>\n",
       "      <th>ceiling_height</th>\n",
       "      <th>floors_total</th>\n",
       "      <th>living_area</th>\n",
       "      <th>floor</th>\n",
       "      <th>is_apartment</th>\n",
       "      <th>...</th>\n",
       "      <th>ponds_around_3km</th>\n",
       "      <th>ponds_nearest</th>\n",
       "      <th>days_exposition</th>\n",
       "      <th>price_m2</th>\n",
       "      <th>day</th>\n",
       "      <th>month</th>\n",
       "      <th>year</th>\n",
       "      <th>floor_category</th>\n",
       "      <th>living_total_area</th>\n",
       "      <th>kitchen_total_area</th>\n",
       "    </tr>\n",
       "  </thead>\n",
       "  <tbody>\n",
       "    <tr>\n",
       "      <th>0</th>\n",
       "      <td>20</td>\n",
       "      <td>13.0</td>\n",
       "      <td>108.0</td>\n",
       "      <td>2019-03-07</td>\n",
       "      <td>3</td>\n",
       "      <td>2.70</td>\n",
       "      <td>16.0</td>\n",
       "      <td>51.0</td>\n",
       "      <td>8</td>\n",
       "      <td>False</td>\n",
       "      <td>...</td>\n",
       "      <td>2.0</td>\n",
       "      <td>755.0</td>\n",
       "      <td>NaN</td>\n",
       "      <td>0.120</td>\n",
       "      <td>3</td>\n",
       "      <td>3</td>\n",
       "      <td>2019</td>\n",
       "      <td>другой</td>\n",
       "      <td>0.47</td>\n",
       "      <td>0.23</td>\n",
       "    </tr>\n",
       "    <tr>\n",
       "      <th>1</th>\n",
       "      <td>7</td>\n",
       "      <td>3.4</td>\n",
       "      <td>40.4</td>\n",
       "      <td>2018-12-04</td>\n",
       "      <td>1</td>\n",
       "      <td>NaN</td>\n",
       "      <td>11.0</td>\n",
       "      <td>18.6</td>\n",
       "      <td>1</td>\n",
       "      <td>False</td>\n",
       "      <td>...</td>\n",
       "      <td>0.0</td>\n",
       "      <td>NaN</td>\n",
       "      <td>81.0</td>\n",
       "      <td>0.084</td>\n",
       "      <td>1</td>\n",
       "      <td>12</td>\n",
       "      <td>2018</td>\n",
       "      <td>первый</td>\n",
       "      <td>0.46</td>\n",
       "      <td>0.27</td>\n",
       "    </tr>\n",
       "    <tr>\n",
       "      <th>2</th>\n",
       "      <td>10</td>\n",
       "      <td>5.2</td>\n",
       "      <td>56.0</td>\n",
       "      <td>2015-08-20</td>\n",
       "      <td>2</td>\n",
       "      <td>NaN</td>\n",
       "      <td>5.0</td>\n",
       "      <td>34.3</td>\n",
       "      <td>4</td>\n",
       "      <td>False</td>\n",
       "      <td>...</td>\n",
       "      <td>2.0</td>\n",
       "      <td>574.0</td>\n",
       "      <td>558.0</td>\n",
       "      <td>0.093</td>\n",
       "      <td>3</td>\n",
       "      <td>8</td>\n",
       "      <td>2015</td>\n",
       "      <td>другой</td>\n",
       "      <td>0.61</td>\n",
       "      <td>0.15</td>\n",
       "    </tr>\n",
       "    <tr>\n",
       "      <th>3</th>\n",
       "      <td>0</td>\n",
       "      <td>64.9</td>\n",
       "      <td>159.0</td>\n",
       "      <td>2015-07-24</td>\n",
       "      <td>3</td>\n",
       "      <td>NaN</td>\n",
       "      <td>14.0</td>\n",
       "      <td>NaN</td>\n",
       "      <td>9</td>\n",
       "      <td>False</td>\n",
       "      <td>...</td>\n",
       "      <td>3.0</td>\n",
       "      <td>234.0</td>\n",
       "      <td>424.0</td>\n",
       "      <td>0.408</td>\n",
       "      <td>4</td>\n",
       "      <td>7</td>\n",
       "      <td>2015</td>\n",
       "      <td>другой</td>\n",
       "      <td>NaN</td>\n",
       "      <td>NaN</td>\n",
       "    </tr>\n",
       "    <tr>\n",
       "      <th>4</th>\n",
       "      <td>2</td>\n",
       "      <td>10.0</td>\n",
       "      <td>100.0</td>\n",
       "      <td>2018-06-19</td>\n",
       "      <td>2</td>\n",
       "      <td>3.03</td>\n",
       "      <td>14.0</td>\n",
       "      <td>32.0</td>\n",
       "      <td>13</td>\n",
       "      <td>False</td>\n",
       "      <td>...</td>\n",
       "      <td>1.0</td>\n",
       "      <td>48.0</td>\n",
       "      <td>121.0</td>\n",
       "      <td>0.100</td>\n",
       "      <td>1</td>\n",
       "      <td>6</td>\n",
       "      <td>2018</td>\n",
       "      <td>другой</td>\n",
       "      <td>0.32</td>\n",
       "      <td>0.41</td>\n",
       "    </tr>\n",
       "  </tbody>\n",
       "</table>\n",
       "<p>5 rows × 29 columns</p>\n",
       "</div>"
      ],
      "text/plain": [
       "   total_images  last_price  total_area first_day_exposition  rooms  \\\n",
       "0            20        13.0       108.0           2019-03-07      3   \n",
       "1             7         3.4        40.4           2018-12-04      1   \n",
       "2            10         5.2        56.0           2015-08-20      2   \n",
       "3             0        64.9       159.0           2015-07-24      3   \n",
       "4             2        10.0       100.0           2018-06-19      2   \n",
       "\n",
       "   ceiling_height  floors_total  living_area  floor  is_apartment  ...  \\\n",
       "0            2.70          16.0         51.0      8         False  ...   \n",
       "1             NaN          11.0         18.6      1         False  ...   \n",
       "2             NaN           5.0         34.3      4         False  ...   \n",
       "3             NaN          14.0          NaN      9         False  ...   \n",
       "4            3.03          14.0         32.0     13         False  ...   \n",
       "\n",
       "   ponds_around_3km  ponds_nearest  days_exposition  price_m2 day  month  \\\n",
       "0               2.0          755.0              NaN     0.120   3      3   \n",
       "1               0.0            NaN             81.0     0.084   1     12   \n",
       "2               2.0          574.0            558.0     0.093   3      8   \n",
       "3               3.0          234.0            424.0     0.408   4      7   \n",
       "4               1.0           48.0            121.0     0.100   1      6   \n",
       "\n",
       "   year  floor_category  living_total_area  kitchen_total_area  \n",
       "0  2019          другой               0.47                0.23  \n",
       "1  2018          первый               0.46                0.27  \n",
       "2  2015          другой               0.61                0.15  \n",
       "3  2015          другой                NaN                 NaN  \n",
       "4  2018          другой               0.32                0.41  \n",
       "\n",
       "[5 rows x 29 columns]"
      ]
     },
     "execution_count": 27,
     "metadata": {},
     "output_type": "execute_result"
    }
   ],
   "source": [
    "data.head()\n",
    "# проверка"
   ]
  },
  {
   "cell_type": "markdown",
   "id": "ebb48567",
   "metadata": {},
   "source": [
    "**Выводы**\n",
    "\n",
    "Добавили недостающие столбцы.\n",
    "\n",
    "Теперь можно перейти к проверке гипотез. "
   ]
  },
  {
   "cell_type": "markdown",
   "id": "09bbd6f4",
   "metadata": {},
   "source": [
    "## Шаг 4 Исследовательский анализ данных "
   ]
  },
  {
   "cell_type": "markdown",
   "id": "5142246c",
   "metadata": {},
   "source": [
    "### 4.1 Изучение площади, цены, числа комнат, высоты потолков."
   ]
  },
  {
   "cell_type": "markdown",
   "id": "df38efbc",
   "metadata": {},
   "source": [
    "#### 4.1.1 Изучение площади"
   ]
  },
  {
   "cell_type": "code",
   "execution_count": 28,
   "id": "f32ee072",
   "metadata": {},
   "outputs": [
    {
     "data": {
      "image/png": "[encoded data removed]",
      "text/plain": [
       "<Figure size 432x288 with 1 Axes>"
      ]
     },
     "metadata": {
      "needs_background": "light"
     },
     "output_type": "display_data"
    },
    {
     "data": {
      "text/plain": [
       "<AxesSubplot:ylabel='Frequency'>"
      ]
     },
     "execution_count": 28,
     "metadata": {},
     "output_type": "execute_result"
    },
    {
     "data": {
      "image/png": "[encoded data removed]",
      "text/plain": [
       "<Figure size 432x288 with 1 Axes>"
      ]
     },
     "metadata": {
      "needs_background": "light"
     },
     "output_type": "display_data"
    }
   ],
   "source": [
    "data['total_area'].plot(kind='hist', x='b', y='a',bins=20, range=(0,200))\n",
    "plt.show()\n",
    "data['total_area'].plot(kind='hist', label='filtered',bins=20, range=(0,110))\n",
    "# гистограмма по общей площади"
   ]
  },
  {
   "cell_type": "markdown",
   "id": "9e8eaf28",
   "metadata": {},
   "source": [
    "На основе построенной гистограммы можно сказать:\n",
    "- площадь большинства квартир колеблется в районе 30-70м2\n",
    "-  существует небольшое количество квартир площадь, которых существенно больше и доходит вплоть до 200м2"
   ]
  },
  {
   "cell_type": "code",
   "execution_count": 29,
   "id": "16970293",
   "metadata": {},
   "outputs": [
    {
     "data": {
      "image/png": "[encoded data removed]",
      "text/plain": [
       "<Figure size 432x288 with 1 Axes>"
      ]
     },
     "metadata": {
      "needs_background": "light"
     },
     "output_type": "display_data"
    },
    {
     "data": {
      "text/plain": [
       "<AxesSubplot:>"
      ]
     },
     "execution_count": 29,
     "metadata": {},
     "output_type": "execute_result"
    },
    {
     "data": {
      "image/png": "[encoded data removed]",
      "text/plain": [
       "<Figure size 432x288 with 1 Axes>"
      ]
     },
     "metadata": {
      "needs_background": "light"
     },
     "output_type": "display_data"
    }
   ],
   "source": [
    "data['living_area'].hist(bins=20, range=(0,150))\n",
    "plt.show()\n",
    "data['living_area'].hist(bins=50, range=(10,70))\n",
    "# гистограмма по жилой площади\n"
   ]
  },
  {
   "cell_type": "markdown",
   "id": "c304fb4a",
   "metadata": {},
   "source": [
    "На основе построенной гистограммы можно сказать:\n",
    "- жилая площадь большинства квартир колеблется в районе 15-50м2\n",
    "- существует небольшое количество квартир жилая площадь, которых существенно больше и доходит вплоть до 140м2\n",
    "- на нижнем графике отчетливо видно два пика, в районе 15м2 и 30м2. Можно преположить, что эти пики связаны с числом комнат. Пик в районе 15м2 - однокомнатные квартиры, в районе 30м2 - двухкомнатные"
   ]
  },
  {
   "cell_type": "code",
   "execution_count": 30,
   "id": "ec1023f0",
   "metadata": {},
   "outputs": [
    {
     "data": {
      "text/plain": [
       "<AxesSubplot:>"
      ]
     },
     "execution_count": 30,
     "metadata": {},
     "output_type": "execute_result"
    },
    {
     "data": {
      "image/png": "[encoded data removed]",
      "text/plain": [
       "<Figure size 432x288 with 1 Axes>"
      ]
     },
     "metadata": {
      "needs_background": "light"
     },
     "output_type": "display_data"
    }
   ],
   "source": [
    "data['living_total_area'].hist(bins=10)\n",
    "# гистограмма по соотношению жилой площади с общей"
   ]
  },
  {
   "cell_type": "markdown",
   "id": "89dc168e",
   "metadata": {},
   "source": [
    "На основе построенной гистограммы можно сказать:\n",
    "- жилая площадь большинства квартир колеблется в районе 40-70% от общей площади."
   ]
  },
  {
   "cell_type": "code",
   "execution_count": 31,
   "id": "6149449e",
   "metadata": {},
   "outputs": [
    {
     "data": {
      "text/plain": [
       "<AxesSubplot:>"
      ]
     },
     "execution_count": 31,
     "metadata": {},
     "output_type": "execute_result"
    },
    {
     "data": {
      "image/png": "[encoded data removed]",
      "text/plain": [
       "<Figure size 432x288 with 1 Axes>"
      ]
     },
     "metadata": {
      "needs_background": "light"
     },
     "output_type": "display_data"
    }
   ],
   "source": [
    "data['kitchen_total_area'].hist(bins=15, range=(0,0.4))\n",
    "# гистограмма по соотношению  площади кухни с общей"
   ]
  },
  {
   "cell_type": "markdown",
   "id": "b17787b3",
   "metadata": {},
   "source": [
    "На основе построенной гистограммы можно сказать:\n",
    "- площадь кухни колеблется в основном районе 10-20% от общей площади.\n",
    "- иногда кухня занимает  порядка 30-40%, но это бывает крайне редко."
   ]
  },
  {
   "cell_type": "markdown",
   "id": "b15bcee8",
   "metadata": {},
   "source": [
    "#### 4.1.2 Изучение цены"
   ]
  },
  {
   "cell_type": "code",
   "execution_count": 32,
   "id": "b5b96aae",
   "metadata": {},
   "outputs": [
    {
     "data": {
      "image/png": "[encoded data removed]",
      "text/plain": [
       "<Figure size 432x288 with 1 Axes>"
      ]
     },
     "metadata": {
      "needs_background": "light"
     },
     "output_type": "display_data"
    },
    {
     "data": {
      "text/plain": [
       "<AxesSubplot:>"
      ]
     },
     "execution_count": 32,
     "metadata": {},
     "output_type": "execute_result"
    },
    {
     "data": {
      "image/png": "[encoded data removed]",
      "text/plain": [
       "<Figure size 432x288 with 1 Axes>"
      ]
     },
     "metadata": {
      "needs_background": "light"
     },
     "output_type": "display_data"
    }
   ],
   "source": [
    "data['last_price'].hist(bins=25, range=(0,50))\n",
    "plt.show()\n",
    "data['last_price'].hist(bins=10, range=(0,10))\n",
    "# гистограмма по цене"
   ]
  },
  {
   "cell_type": "markdown",
   "id": "1148ce57",
   "metadata": {},
   "source": [
    "На основе построенной гистограммы можно сказать:\n",
    "- цены на квартиры в основном не дороже 10млн.\n",
    "- на некоторые квартиры цены доходят и до 40-50 млн, но таких квартир крайне мало.\n",
    "- самая частая цена - в районе 3-6 млн."
   ]
  },
  {
   "cell_type": "code",
   "execution_count": 33,
   "id": "be5e9f59",
   "metadata": {},
   "outputs": [
    {
     "data": {
      "image/png": "[encoded data removed]",
      "text/plain": [
       "<Figure size 432x288 with 1 Axes>"
      ]
     },
     "metadata": {
      "needs_background": "light"
     },
     "output_type": "display_data"
    },
    {
     "data": {
      "text/plain": [
       "<AxesSubplot:>"
      ]
     },
     "execution_count": 33,
     "metadata": {},
     "output_type": "execute_result"
    },
    {
     "data": {
      "image/png": "[encoded data removed]",
      "text/plain": [
       "<Figure size 432x288 with 1 Axes>"
      ]
     },
     "metadata": {
      "needs_background": "light"
     },
     "output_type": "display_data"
    }
   ],
   "source": [
    "data['price_m2'].hist(bins=50)\n",
    "plt.show()\n",
    "data['price_m2'].hist(bins=20, range=(0,0.25))\n",
    "# гистограмма по цене за м2"
   ]
  },
  {
   "cell_type": "markdown",
   "id": "cb11f10c",
   "metadata": {},
   "source": [
    "На основе построенной гистограммы можно сказать:\n",
    "- цена за м2 в основном не больше 150 тыс.\n",
    "- на некоторые квартиры цены за м2 доходят и до 250 и даже до 400 тыс, но таких квартир крайне мало.\n",
    "- самая частая цена - в районе 50-150 тыс."
   ]
  },
  {
   "cell_type": "markdown",
   "id": "c7960295",
   "metadata": {},
   "source": [
    "#### 4.1.3 Изучение высоты потолка"
   ]
  },
  {
   "cell_type": "code",
   "execution_count": 34,
   "id": "7b24c28c",
   "metadata": {},
   "outputs": [
    {
     "data": {
      "image/png": "[encoded data removed]",
      "text/plain": [
       "<Figure size 432x288 with 1 Axes>"
      ]
     },
     "metadata": {
      "needs_background": "light"
     },
     "output_type": "display_data"
    },
    {
     "data": {
      "text/plain": [
       "<AxesSubplot:>"
      ]
     },
     "execution_count": 34,
     "metadata": {},
     "output_type": "execute_result"
    },
    {
     "data": {
      "image/png": "[encoded data removed]",
      "text/plain": [
       "<Figure size 432x288 with 1 Axes>"
      ]
     },
     "metadata": {
      "needs_background": "light"
     },
     "output_type": "display_data"
    }
   ],
   "source": [
    "data['ceiling_height'].hist(bins=15, range=(2,3))\n",
    "plt.show()\n",
    "data['ceiling_height'].hist(bins=15, range=(2.4,3))\n",
    "# гистограмма по высоте потолка"
   ]
  },
  {
   "cell_type": "markdown",
   "id": "4929558b",
   "metadata": {},
   "source": [
    "На основе построенной гистограммы можно сказать:\n",
    "- высота варируется в пределах 2.5-3м.\n",
    "- чаще всего высота потолков в квартирах около 2.5м .\n",
    "- на графике выделяются сразу несколько пиков в районе 2.5, 2.6, 2.7, 2.8 и 3м."
   ]
  },
  {
   "cell_type": "markdown",
   "id": "0e893f49",
   "metadata": {},
   "source": [
    "#### 4.1.4 Изучение числа комнат"
   ]
  },
  {
   "cell_type": "code",
   "execution_count": 35,
   "id": "7dd448b1",
   "metadata": {},
   "outputs": [
    {
     "data": {
      "image/png": "[encoded data removed]",
      "text/plain": [
       "<Figure size 432x288 with 1 Axes>"
      ]
     },
     "metadata": {
      "needs_background": "light"
     },
     "output_type": "display_data"
    },
    {
     "data": {
      "text/plain": [
       "<AxesSubplot:>"
      ]
     },
     "execution_count": 35,
     "metadata": {},
     "output_type": "execute_result"
    },
    {
     "data": {
      "image/png": "[encoded data removed]",
      "text/plain": [
       "<Figure size 432x288 with 1 Axes>"
      ]
     },
     "metadata": {
      "needs_background": "light"
     },
     "output_type": "display_data"
    }
   ],
   "source": [
    "data['rooms'].hist(bins=10)\n",
    "plt.show()\n",
    "data['rooms'].hist(bins=10, range=(1,5))\n",
    "# гистограмма по числу комнат"
   ]
  },
  {
   "cell_type": "markdown",
   "id": "ebc6a0ef",
   "metadata": {},
   "source": [
    "На основе построенной гистограммы можно сказать:\n",
    "- высота варируется в пределах 2.5-3м.\n",
    "- чаще всего встречаются однакомнтные, двукомнатные и трехкомнатные квартиры.\n",
    "- однакомнтные и двукомнатные встречаются чаще всего.\n",
    "- иногда число комнат доходит до 6-9."
   ]
  },
  {
   "cell_type": "markdown",
   "id": "10068a0d",
   "metadata": {},
   "source": [
    "### 4.2 Изучение времени продажи квартир"
   ]
  },
  {
   "cell_type": "code",
   "execution_count": 36,
   "id": "f2416635",
   "metadata": {},
   "outputs": [
    {
     "data": {
      "text/plain": [
       "count    20518.000000\n",
       "mean       180.888634\n",
       "std        219.727988\n",
       "min          1.000000\n",
       "25%         45.000000\n",
       "50%         95.000000\n",
       "75%        232.000000\n",
       "max       1580.000000\n",
       "Name: days_exposition, dtype: float64"
      ]
     },
     "execution_count": 36,
     "metadata": {},
     "output_type": "execute_result"
    }
   ],
   "source": [
    "data['days_exposition'].describe()\n",
    "# выводим основные метрики, чтобы посмотреть среднее и медиану"
   ]
  },
  {
   "cell_type": "code",
   "execution_count": 37,
   "id": "e80d56c5",
   "metadata": {},
   "outputs": [
    {
     "data": {
      "image/png": "[encoded data removed]",
      "text/plain": [
       "<Figure size 432x288 with 1 Axes>"
      ]
     },
     "metadata": {
      "needs_background": "light"
     },
     "output_type": "display_data"
    },
    {
     "data": {
      "image/png": "[encoded data removed]",
      "text/plain": [
       "<Figure size 432x288 with 1 Axes>"
      ]
     },
     "metadata": {
      "needs_background": "light"
     },
     "output_type": "display_data"
    },
    {
     "data": {
      "text/plain": [
       "<AxesSubplot:>"
      ]
     },
     "execution_count": 37,
     "metadata": {},
     "output_type": "execute_result"
    },
    {
     "data": {
      "image/png": "[encoded data removed]",
      "text/plain": [
       "<Figure size 432x288 with 1 Axes>"
      ]
     },
     "metadata": {
      "needs_background": "light"
     },
     "output_type": "display_data"
    }
   ],
   "source": [
    "data['days_exposition'].hist(bins=100)\n",
    "plt.show()\n",
    "data['days_exposition'].hist(bins=20, range=(1,500))\n",
    "plt.show()\n",
    "data['days_exposition'].hist(bins=20, range=(1,100))\n",
    "# гистограмма по времени продажи квартиры"
   ]
  },
  {
   "cell_type": "markdown",
   "id": "213884d9",
   "metadata": {},
   "source": [
    "На основе построенной гистограммы можно сказать:\n",
    "- в течение 200 дней продается большая часть квартир. \n",
    "- Зачастую на продажу уходит не более 100 дней.\n",
    "- Об этом же говорит и медиана, которая расположена на 95. Что означает, что ровно половина всех продаж происходит менее чем за 95 дней.\n",
    "- так же видно большое количество выбросов, так, некоторые квартиры продаются более 1200 дней. Это же подтверждается большой разницей между средним (180) и медианой (95)\n",
    "- На график за первые 100 дней продаж отчетиво видны два пика между 40-45 днями и в районе 55-60 дней. В эти промежутки продается наибольшее число квартир"
   ]
  },
  {
   "cell_type": "code",
   "execution_count": 38,
   "id": "08261aac",
   "metadata": {},
   "outputs": [
    {
     "data": {
      "text/plain": [
       "(0.0, 600.0)"
      ]
     },
     "execution_count": 38,
     "metadata": {},
     "output_type": "execute_result"
    },
    {
     "data": {
      "image/png": "[encoded data removed]",
      "text/plain": [
       "<Figure size 720x360 with 1 Axes>"
      ]
     },
     "metadata": {
      "needs_background": "light"
     },
     "output_type": "display_data"
    }
   ],
   "source": [
    "data.boxplot(['days_exposition'], figsize=(10,5))\n",
    "plt.ylim(0, 600)\n",
    "# диаграмма размаха"
   ]
  },
  {
   "cell_type": "markdown",
   "id": "6d38a547",
   "metadata": {},
   "source": [
    " На основе диаграммы рзмаха можно сказать следующее:\n",
    " - продажи, длящиеся более 500 дней, являются необычно долгими.\n",
    " - довольно быстрые продажи определить не представляется возможным, так как выбросов в меньшую сторону не наблюдается"
   ]
  },
  {
   "cell_type": "markdown",
   "id": "800d3874",
   "metadata": {},
   "source": [
    "### 4.3 Избавление от редких и выбивающихся значений. "
   ]
  },
  {
   "cell_type": "markdown",
   "id": "c621915a",
   "metadata": {},
   "source": [
    "#### 4.3.1 Избавление от редких и выбивающихся значений в площади. "
   ]
  },
  {
   "cell_type": "code",
   "execution_count": 39,
   "id": "cfcc7b77",
   "metadata": {},
   "outputs": [
    {
     "data": {
      "image/png": "[encoded data removed]",
      "text/plain": [
       "<Figure size 720x360 with 1 Axes>"
      ]
     },
     "metadata": {
      "needs_background": "light"
     },
     "output_type": "display_data"
    },
    {
     "data": {
      "text/plain": [
       "<AxesSubplot:>"
      ]
     },
     "execution_count": 39,
     "metadata": {},
     "output_type": "execute_result"
    },
    {
     "data": {
      "image/png": "[encoded data removed]",
      "text/plain": [
       "<Figure size 720x360 with 1 Axes>"
      ]
     },
     "metadata": {
      "needs_background": "light"
     },
     "output_type": "display_data"
    }
   ],
   "source": [
    "data.boxplot(['total_area', 'living_area'], figsize=(10,5))\n",
    "plt.ylim(0, 200)\n",
    "plt.show()\n",
    "data.boxplot(['living_total_area','kitchen_total_area'], figsize=(10,5))\n",
    "# диаграмма размаха"
   ]
  },
  {
   "cell_type": "code",
   "execution_count": 40,
   "id": "65f80d83",
   "metadata": {},
   "outputs": [],
   "source": [
    "data_good = data.query(\n",
    "    '(total_area < 123) & (living_area < 75) & (living_total_area < 0.9) & (kitchen_total_area < 0.39)')\n",
    "# Избавление от редких и выбивающихся значений в площади"
   ]
  },
  {
   "cell_type": "code",
   "execution_count": 41,
   "id": "46c5a4d3",
   "metadata": {},
   "outputs": [
    {
     "data": {
      "text/plain": [
       "17"
      ]
     },
     "execution_count": 41,
     "metadata": {},
     "output_type": "execute_result"
    }
   ],
   "source": [
    "int(100 - (100 / data['total_images'].count()  * data_good['total_images'].count()))"
   ]
  },
  {
   "cell_type": "markdown",
   "id": "9c14d7ab",
   "metadata": {},
   "source": [
    "Мы избавились от 17% данных"
   ]
  },
  {
   "cell_type": "markdown",
   "id": "a0552a1e",
   "metadata": {},
   "source": [
    "#### 4.3.2 Избавление от редких и выбивающихся значений в цене. "
   ]
  },
  {
   "cell_type": "code",
   "execution_count": 42,
   "id": "3ffbf333",
   "metadata": {},
   "outputs": [
    {
     "data": {
      "image/png": "[encoded data removed]",
      "text/plain": [
       "<Figure size 432x288 with 1 Axes>"
      ]
     },
     "metadata": {
      "needs_background": "light"
     },
     "output_type": "display_data"
    },
    {
     "data": {
      "text/plain": [
       "(0.0, 0.2)"
      ]
     },
     "execution_count": 42,
     "metadata": {},
     "output_type": "execute_result"
    },
    {
     "data": {
      "image/png": "[encoded data removed]",
      "text/plain": [
       "<Figure size 432x288 with 1 Axes>"
      ]
     },
     "metadata": {
      "needs_background": "light"
     },
     "output_type": "display_data"
    }
   ],
   "source": [
    "data.boxplot('last_price')\n",
    "plt.ylim(0, 15)\n",
    "plt.show()\n",
    "data.boxplot('price_m2')\n",
    "plt.ylim(0, 0.2)\n",
    "# диаграмма размаха"
   ]
  },
  {
   "cell_type": "code",
   "execution_count": 43,
   "id": "01fcc25c",
   "metadata": {},
   "outputs": [],
   "source": [
    "data_good = data_good.query(\n",
    "    '(last_price < 11.8) & (0.03 < price_m2 < 170)'\n",
    ")\n",
    "# Избавление от редких и выбивающихся значений в цене"
   ]
  },
  {
   "cell_type": "markdown",
   "id": "aee9614c",
   "metadata": {},
   "source": [
    "#### 4.3.3 Избавление от редких и выбивающихся значений по высоте потолков. "
   ]
  },
  {
   "cell_type": "code",
   "execution_count": 44,
   "id": "3e85f2a4",
   "metadata": {},
   "outputs": [
    {
     "data": {
      "image/png": "[encoded data removed]",
      "text/plain": [
       "<Figure size 432x288 with 1 Axes>"
      ]
     },
     "metadata": {
      "needs_background": "light"
     },
     "output_type": "display_data"
    },
    {
     "data": {
      "text/plain": [
       "(1.0, 4.0)"
      ]
     },
     "execution_count": 44,
     "metadata": {},
     "output_type": "execute_result"
    },
    {
     "data": {
      "image/png": "[encoded data removed]",
      "text/plain": [
       "<Figure size 432x288 with 1 Axes>"
      ]
     },
     "metadata": {
      "needs_background": "light"
     },
     "output_type": "display_data"
    }
   ],
   "source": [
    "data.boxplot('ceiling_height')\n",
    "plt.show()\n",
    "data.boxplot('ceiling_height')\n",
    "plt.ylim(1, 4)\n",
    "# диаграмма размаха"
   ]
  },
  {
   "cell_type": "code",
   "execution_count": 45,
   "id": "a1a6c48f",
   "metadata": {},
   "outputs": [],
   "source": [
    "data_good = data_good.query('ceiling_height < 3.3')\n",
    "# Избавление от редких и выбивающихся значений в цене"
   ]
  },
  {
   "cell_type": "markdown",
   "id": "c6eee682",
   "metadata": {},
   "source": [
    "#### 4.3.4 Избавление от редких и выбивающихся значений по дням продажи. "
   ]
  },
  {
   "cell_type": "code",
   "execution_count": 46,
   "id": "527a6ac6",
   "metadata": {},
   "outputs": [
    {
     "data": {
      "image/png": "[encoded data removed]",
      "text/plain": [
       "<Figure size 432x288 with 1 Axes>"
      ]
     },
     "metadata": {
      "needs_background": "light"
     },
     "output_type": "display_data"
    },
    {
     "data": {
      "text/plain": [
       "(0.0, 600.0)"
      ]
     },
     "execution_count": 46,
     "metadata": {},
     "output_type": "execute_result"
    },
    {
     "data": {
      "image/png": "[encoded data removed]",
      "text/plain": [
       "<Figure size 432x288 with 1 Axes>"
      ]
     },
     "metadata": {
      "needs_background": "light"
     },
     "output_type": "display_data"
    }
   ],
   "source": [
    "data.boxplot('days_exposition')\n",
    "plt.show()\n",
    "data.boxplot('days_exposition')\n",
    "plt.ylim(0,600)\n",
    "# диаграмма размаха"
   ]
  },
  {
   "cell_type": "code",
   "execution_count": 47,
   "id": "23a2422d",
   "metadata": {},
   "outputs": [],
   "source": [
    "data_good = data_good.query('days_exposition < 505')\n",
    "#Избавление от редких и выбивающихся значений по дням продажи."
   ]
  },
  {
   "cell_type": "code",
   "execution_count": 48,
   "id": "f4755e74",
   "metadata": {},
   "outputs": [
    {
     "data": {
      "text/html": [
       "<div>\n",
       "<style scoped>\n",
       "    .dataframe tbody tr th:only-of-type {\n",
       "        vertical-align: middle;\n",
       "    }\n",
       "\n",
       "    .dataframe tbody tr th {\n",
       "        vertical-align: top;\n",
       "    }\n",
       "\n",
       "    .dataframe thead th {\n",
       "        text-align: right;\n",
       "    }\n",
       "</style>\n",
       "<table border=\"1\" class=\"dataframe\">\n",
       "  <thead>\n",
       "    <tr style=\"text-align: right;\">\n",
       "      <th></th>\n",
       "      <th>total_images</th>\n",
       "      <th>last_price</th>\n",
       "      <th>total_area</th>\n",
       "      <th>first_day_exposition</th>\n",
       "      <th>rooms</th>\n",
       "      <th>ceiling_height</th>\n",
       "      <th>floors_total</th>\n",
       "      <th>living_area</th>\n",
       "      <th>floor</th>\n",
       "      <th>is_apartment</th>\n",
       "      <th>...</th>\n",
       "      <th>ponds_around_3km</th>\n",
       "      <th>ponds_nearest</th>\n",
       "      <th>days_exposition</th>\n",
       "      <th>price_m2</th>\n",
       "      <th>day</th>\n",
       "      <th>month</th>\n",
       "      <th>year</th>\n",
       "      <th>floor_category</th>\n",
       "      <th>living_total_area</th>\n",
       "      <th>kitchen_total_area</th>\n",
       "    </tr>\n",
       "  </thead>\n",
       "  <tbody>\n",
       "    <tr>\n",
       "      <th>0</th>\n",
       "      <td>18</td>\n",
       "      <td>5.4</td>\n",
       "      <td>61.0</td>\n",
       "      <td>2017-02-26</td>\n",
       "      <td>3</td>\n",
       "      <td>2.50</td>\n",
       "      <td>9.0</td>\n",
       "      <td>43.6</td>\n",
       "      <td>7</td>\n",
       "      <td>False</td>\n",
       "      <td>...</td>\n",
       "      <td>0.0</td>\n",
       "      <td>NaN</td>\n",
       "      <td>289.0</td>\n",
       "      <td>0.089</td>\n",
       "      <td>6</td>\n",
       "      <td>2</td>\n",
       "      <td>2017</td>\n",
       "      <td>другой</td>\n",
       "      <td>0.71</td>\n",
       "      <td>0.11</td>\n",
       "    </tr>\n",
       "    <tr>\n",
       "      <th>1</th>\n",
       "      <td>5</td>\n",
       "      <td>5.0</td>\n",
       "      <td>39.6</td>\n",
       "      <td>2017-11-16</td>\n",
       "      <td>1</td>\n",
       "      <td>2.67</td>\n",
       "      <td>12.0</td>\n",
       "      <td>20.3</td>\n",
       "      <td>3</td>\n",
       "      <td>False</td>\n",
       "      <td>...</td>\n",
       "      <td>2.0</td>\n",
       "      <td>553.0</td>\n",
       "      <td>137.0</td>\n",
       "      <td>0.126</td>\n",
       "      <td>3</td>\n",
       "      <td>11</td>\n",
       "      <td>2017</td>\n",
       "      <td>другой</td>\n",
       "      <td>0.51</td>\n",
       "      <td>0.21</td>\n",
       "    </tr>\n",
       "    <tr>\n",
       "      <th>2</th>\n",
       "      <td>20</td>\n",
       "      <td>3.5</td>\n",
       "      <td>42.8</td>\n",
       "      <td>2017-07-01</td>\n",
       "      <td>2</td>\n",
       "      <td>2.56</td>\n",
       "      <td>5.0</td>\n",
       "      <td>27.0</td>\n",
       "      <td>5</td>\n",
       "      <td>False</td>\n",
       "      <td>...</td>\n",
       "      <td>3.0</td>\n",
       "      <td>298.0</td>\n",
       "      <td>366.0</td>\n",
       "      <td>0.082</td>\n",
       "      <td>5</td>\n",
       "      <td>7</td>\n",
       "      <td>2017</td>\n",
       "      <td>последний</td>\n",
       "      <td>0.63</td>\n",
       "      <td>0.12</td>\n",
       "    </tr>\n",
       "    <tr>\n",
       "      <th>3</th>\n",
       "      <td>11</td>\n",
       "      <td>6.7</td>\n",
       "      <td>82.0</td>\n",
       "      <td>2017-11-23</td>\n",
       "      <td>3</td>\n",
       "      <td>3.05</td>\n",
       "      <td>5.0</td>\n",
       "      <td>55.6</td>\n",
       "      <td>1</td>\n",
       "      <td>False</td>\n",
       "      <td>...</td>\n",
       "      <td>0.0</td>\n",
       "      <td>NaN</td>\n",
       "      <td>397.0</td>\n",
       "      <td>0.082</td>\n",
       "      <td>3</td>\n",
       "      <td>11</td>\n",
       "      <td>2017</td>\n",
       "      <td>первый</td>\n",
       "      <td>0.68</td>\n",
       "      <td>0.11</td>\n",
       "    </tr>\n",
       "    <tr>\n",
       "      <th>4</th>\n",
       "      <td>8</td>\n",
       "      <td>3.2</td>\n",
       "      <td>31.0</td>\n",
       "      <td>2017-01-27</td>\n",
       "      <td>1</td>\n",
       "      <td>2.50</td>\n",
       "      <td>5.0</td>\n",
       "      <td>19.4</td>\n",
       "      <td>2</td>\n",
       "      <td>False</td>\n",
       "      <td>...</td>\n",
       "      <td>0.0</td>\n",
       "      <td>NaN</td>\n",
       "      <td>168.0</td>\n",
       "      <td>0.103</td>\n",
       "      <td>4</td>\n",
       "      <td>1</td>\n",
       "      <td>2017</td>\n",
       "      <td>другой</td>\n",
       "      <td>0.63</td>\n",
       "      <td>0.18</td>\n",
       "    </tr>\n",
       "    <tr>\n",
       "      <th>...</th>\n",
       "      <td>...</td>\n",
       "      <td>...</td>\n",
       "      <td>...</td>\n",
       "      <td>...</td>\n",
       "      <td>...</td>\n",
       "      <td>...</td>\n",
       "      <td>...</td>\n",
       "      <td>...</td>\n",
       "      <td>...</td>\n",
       "      <td>...</td>\n",
       "      <td>...</td>\n",
       "      <td>...</td>\n",
       "      <td>...</td>\n",
       "      <td>...</td>\n",
       "      <td>...</td>\n",
       "      <td>...</td>\n",
       "      <td>...</td>\n",
       "      <td>...</td>\n",
       "      <td>...</td>\n",
       "      <td>...</td>\n",
       "      <td>...</td>\n",
       "    </tr>\n",
       "    <tr>\n",
       "      <th>8732</th>\n",
       "      <td>11</td>\n",
       "      <td>2.4</td>\n",
       "      <td>35.6</td>\n",
       "      <td>2016-06-23</td>\n",
       "      <td>1</td>\n",
       "      <td>2.50</td>\n",
       "      <td>5.0</td>\n",
       "      <td>17.0</td>\n",
       "      <td>4</td>\n",
       "      <td>False</td>\n",
       "      <td>...</td>\n",
       "      <td>0.0</td>\n",
       "      <td>NaN</td>\n",
       "      <td>40.0</td>\n",
       "      <td>0.067</td>\n",
       "      <td>3</td>\n",
       "      <td>6</td>\n",
       "      <td>2016</td>\n",
       "      <td>другой</td>\n",
       "      <td>0.48</td>\n",
       "      <td>0.23</td>\n",
       "    </tr>\n",
       "    <tr>\n",
       "      <th>8733</th>\n",
       "      <td>8</td>\n",
       "      <td>3.3</td>\n",
       "      <td>31.0</td>\n",
       "      <td>2017-04-29</td>\n",
       "      <td>1</td>\n",
       "      <td>2.55</td>\n",
       "      <td>9.0</td>\n",
       "      <td>18.0</td>\n",
       "      <td>6</td>\n",
       "      <td>False</td>\n",
       "      <td>...</td>\n",
       "      <td>1.0</td>\n",
       "      <td>317.0</td>\n",
       "      <td>193.0</td>\n",
       "      <td>0.106</td>\n",
       "      <td>5</td>\n",
       "      <td>4</td>\n",
       "      <td>2017</td>\n",
       "      <td>другой</td>\n",
       "      <td>0.58</td>\n",
       "      <td>0.21</td>\n",
       "    </tr>\n",
       "    <tr>\n",
       "      <th>8734</th>\n",
       "      <td>19</td>\n",
       "      <td>9.2</td>\n",
       "      <td>101.0</td>\n",
       "      <td>2019-04-01</td>\n",
       "      <td>3</td>\n",
       "      <td>3.05</td>\n",
       "      <td>15.0</td>\n",
       "      <td>63.0</td>\n",
       "      <td>12</td>\n",
       "      <td>False</td>\n",
       "      <td>...</td>\n",
       "      <td>0.0</td>\n",
       "      <td>NaN</td>\n",
       "      <td>23.0</td>\n",
       "      <td>0.091</td>\n",
       "      <td>0</td>\n",
       "      <td>4</td>\n",
       "      <td>2019</td>\n",
       "      <td>другой</td>\n",
       "      <td>0.62</td>\n",
       "      <td>0.15</td>\n",
       "    </tr>\n",
       "    <tr>\n",
       "      <th>8735</th>\n",
       "      <td>13</td>\n",
       "      <td>3.5</td>\n",
       "      <td>35.3</td>\n",
       "      <td>2018-02-28</td>\n",
       "      <td>1</td>\n",
       "      <td>2.86</td>\n",
       "      <td>15.0</td>\n",
       "      <td>16.3</td>\n",
       "      <td>4</td>\n",
       "      <td>False</td>\n",
       "      <td>...</td>\n",
       "      <td>2.0</td>\n",
       "      <td>652.0</td>\n",
       "      <td>29.0</td>\n",
       "      <td>0.099</td>\n",
       "      <td>2</td>\n",
       "      <td>2</td>\n",
       "      <td>2018</td>\n",
       "      <td>другой</td>\n",
       "      <td>0.46</td>\n",
       "      <td>0.26</td>\n",
       "    </tr>\n",
       "    <tr>\n",
       "      <th>8736</th>\n",
       "      <td>9</td>\n",
       "      <td>4.6</td>\n",
       "      <td>62.4</td>\n",
       "      <td>2016-08-05</td>\n",
       "      <td>3</td>\n",
       "      <td>2.60</td>\n",
       "      <td>9.0</td>\n",
       "      <td>40.0</td>\n",
       "      <td>8</td>\n",
       "      <td>False</td>\n",
       "      <td>...</td>\n",
       "      <td>1.0</td>\n",
       "      <td>675.0</td>\n",
       "      <td>239.0</td>\n",
       "      <td>0.074</td>\n",
       "      <td>4</td>\n",
       "      <td>8</td>\n",
       "      <td>2016</td>\n",
       "      <td>другой</td>\n",
       "      <td>0.64</td>\n",
       "      <td>0.13</td>\n",
       "    </tr>\n",
       "  </tbody>\n",
       "</table>\n",
       "<p>8737 rows × 29 columns</p>\n",
       "</div>"
      ],
      "text/plain": [
       "      total_images  last_price  total_area first_day_exposition  rooms  \\\n",
       "0               18         5.4        61.0           2017-02-26      3   \n",
       "1                5         5.0        39.6           2017-11-16      1   \n",
       "2               20         3.5        42.8           2017-07-01      2   \n",
       "3               11         6.7        82.0           2017-11-23      3   \n",
       "4                8         3.2        31.0           2017-01-27      1   \n",
       "...            ...         ...         ...                  ...    ...   \n",
       "8732            11         2.4        35.6           2016-06-23      1   \n",
       "8733             8         3.3        31.0           2017-04-29      1   \n",
       "8734            19         9.2       101.0           2019-04-01      3   \n",
       "8735            13         3.5        35.3           2018-02-28      1   \n",
       "8736             9         4.6        62.4           2016-08-05      3   \n",
       "\n",
       "      ceiling_height  floors_total  living_area  floor  is_apartment  ...  \\\n",
       "0               2.50           9.0         43.6      7         False  ...   \n",
       "1               2.67          12.0         20.3      3         False  ...   \n",
       "2               2.56           5.0         27.0      5         False  ...   \n",
       "3               3.05           5.0         55.6      1         False  ...   \n",
       "4               2.50           5.0         19.4      2         False  ...   \n",
       "...              ...           ...          ...    ...           ...  ...   \n",
       "8732            2.50           5.0         17.0      4         False  ...   \n",
       "8733            2.55           9.0         18.0      6         False  ...   \n",
       "8734            3.05          15.0         63.0     12         False  ...   \n",
       "8735            2.86          15.0         16.3      4         False  ...   \n",
       "8736            2.60           9.0         40.0      8         False  ...   \n",
       "\n",
       "      ponds_around_3km  ponds_nearest  days_exposition  price_m2 day  month  \\\n",
       "0                  0.0            NaN            289.0     0.089   6      2   \n",
       "1                  2.0          553.0            137.0     0.126   3     11   \n",
       "2                  3.0          298.0            366.0     0.082   5      7   \n",
       "3                  0.0            NaN            397.0     0.082   3     11   \n",
       "4                  0.0            NaN            168.0     0.103   4      1   \n",
       "...                ...            ...              ...       ...  ..    ...   \n",
       "8732               0.0            NaN             40.0     0.067   3      6   \n",
       "8733               1.0          317.0            193.0     0.106   5      4   \n",
       "8734               0.0            NaN             23.0     0.091   0      4   \n",
       "8735               2.0          652.0             29.0     0.099   2      2   \n",
       "8736               1.0          675.0            239.0     0.074   4      8   \n",
       "\n",
       "      year  floor_category  living_total_area  kitchen_total_area  \n",
       "0     2017          другой               0.71                0.11  \n",
       "1     2017          другой               0.51                0.21  \n",
       "2     2017       последний               0.63                0.12  \n",
       "3     2017          первый               0.68                0.11  \n",
       "4     2017          другой               0.63                0.18  \n",
       "...    ...             ...                ...                 ...  \n",
       "8732  2016          другой               0.48                0.23  \n",
       "8733  2017          другой               0.58                0.21  \n",
       "8734  2019          другой               0.62                0.15  \n",
       "8735  2018          другой               0.46                0.26  \n",
       "8736  2016          другой               0.64                0.13  \n",
       "\n",
       "[8737 rows x 29 columns]"
      ]
     },
     "execution_count": 48,
     "metadata": {},
     "output_type": "execute_result"
    }
   ],
   "source": [
    "data_good = data_good.reset_index(drop=True)\n",
    "data_good\n",
    "# обновление индекса"
   ]
  },
  {
   "cell_type": "markdown",
   "id": "269dad69",
   "metadata": {},
   "source": [
    "### 4.4 Изучение зависимости цены от различных факторов. "
   ]
  },
  {
   "cell_type": "markdown",
   "id": "6071e649",
   "metadata": {},
   "source": [
    "#### 4.4.1 Изучение зависимости цены от площади, числа комнат, удалённости от центра. "
   ]
  },
  {
   "cell_type": "code",
   "execution_count": 49,
   "id": "eefc52a0",
   "metadata": {},
   "outputs": [],
   "source": [
    "factor = ['total_area','city_centers_nearest']\n",
    "# список с факторами"
   ]
  },
  {
   "cell_type": "code",
   "execution_count": 50,
   "id": "28e36120",
   "metadata": {},
   "outputs": [],
   "source": [
    "def cor(factors, element, data):\n",
    "    for a in factors:\n",
    "        print(f'Корреляция {a} к {element} = {round(data[element].corr(data_good[a]), 2)}')\n",
    "# создание функции для подсчета корреляции"
   ]
  },
  {
   "cell_type": "code",
   "execution_count": 51,
   "id": "669846ac",
   "metadata": {},
   "outputs": [
    {
     "name": "stdout",
     "output_type": "stream",
     "text": [
      "Корреляция total_area к last_price = 0.72\n",
      "Корреляция city_centers_nearest к last_price = -0.32\n"
     ]
    }
   ],
   "source": [
    "cor(factors=factor, element='last_price', data=data_good)\n",
    "# подсчет корреляции к общей цене"
   ]
  },
  {
   "cell_type": "code",
   "execution_count": 52,
   "id": "4cef2389",
   "metadata": {},
   "outputs": [
    {
     "name": "stdout",
     "output_type": "stream",
     "text": [
      "Корреляция total_area к price_m2 = -0.11\n",
      "Корреляция city_centers_nearest к price_m2 = -0.39\n"
     ]
    }
   ],
   "source": [
    "cor(factor, 'price_m2', data_good)\n",
    "# подсчет корреляции к цене за м2"
   ]
  },
  {
   "cell_type": "markdown",
   "id": "da2e9420",
   "metadata": {},
   "source": [
    "#### 4.4.2 Изучение зависимости цены  от того, на каком этаже расположена квартира."
   ]
  },
  {
   "cell_type": "code",
   "execution_count": 53,
   "id": "e5eb4104",
   "metadata": {},
   "outputs": [],
   "source": [
    "c = []\n",
    "for a in data_good['floor_category']:\n",
    "    if a == 'первый':\n",
    "        c.append(1)\n",
    "    elif a == 'последний':\n",
    "        c.append(2)\n",
    "    else:\n",
    "        c.append(3)\n",
    "data_good['floor_category_int'] = c \n",
    "# создание столбца с условной цифровой категоризацией, для подсчета корреляции"
   ]
  },
  {
   "cell_type": "code",
   "execution_count": 54,
   "id": "74d55fe4",
   "metadata": {},
   "outputs": [
    {
     "data": {
      "text/html": [
       "<div>\n",
       "<style scoped>\n",
       "    .dataframe tbody tr th:only-of-type {\n",
       "        vertical-align: middle;\n",
       "    }\n",
       "\n",
       "    .dataframe tbody tr th {\n",
       "        vertical-align: top;\n",
       "    }\n",
       "\n",
       "    .dataframe thead th {\n",
       "        text-align: right;\n",
       "    }\n",
       "</style>\n",
       "<table border=\"1\" class=\"dataframe\">\n",
       "  <thead>\n",
       "    <tr style=\"text-align: right;\">\n",
       "      <th></th>\n",
       "      <th>price_m2</th>\n",
       "    </tr>\n",
       "    <tr>\n",
       "      <th>floor_category</th>\n",
       "      <th></th>\n",
       "    </tr>\n",
       "  </thead>\n",
       "  <tbody>\n",
       "    <tr>\n",
       "      <th>другой</th>\n",
       "      <td>0.10</td>\n",
       "    </tr>\n",
       "    <tr>\n",
       "      <th>первый</th>\n",
       "      <td>0.08</td>\n",
       "    </tr>\n",
       "    <tr>\n",
       "      <th>последний</th>\n",
       "      <td>0.09</td>\n",
       "    </tr>\n",
       "  </tbody>\n",
       "</table>\n",
       "</div>"
      ],
      "text/plain": [
       "                price_m2\n",
       "floor_category          \n",
       "другой              0.10\n",
       "первый              0.08\n",
       "последний           0.09"
      ]
     },
     "metadata": {},
     "output_type": "display_data"
    },
    {
     "data": {
      "text/html": [
       "<div>\n",
       "<style scoped>\n",
       "    .dataframe tbody tr th:only-of-type {\n",
       "        vertical-align: middle;\n",
       "    }\n",
       "\n",
       "    .dataframe tbody tr th {\n",
       "        vertical-align: top;\n",
       "    }\n",
       "\n",
       "    .dataframe thead th {\n",
       "        text-align: right;\n",
       "    }\n",
       "</style>\n",
       "<table border=\"1\" class=\"dataframe\">\n",
       "  <thead>\n",
       "    <tr style=\"text-align: right;\">\n",
       "      <th></th>\n",
       "      <th>price_m2</th>\n",
       "    </tr>\n",
       "    <tr>\n",
       "      <th>rooms</th>\n",
       "      <th></th>\n",
       "    </tr>\n",
       "  </thead>\n",
       "  <tbody>\n",
       "    <tr>\n",
       "      <th>1</th>\n",
       "      <td>0.10</td>\n",
       "    </tr>\n",
       "    <tr>\n",
       "      <th>2</th>\n",
       "      <td>0.09</td>\n",
       "    </tr>\n",
       "    <tr>\n",
       "      <th>3</th>\n",
       "      <td>0.09</td>\n",
       "    </tr>\n",
       "    <tr>\n",
       "      <th>4</th>\n",
       "      <td>0.08</td>\n",
       "    </tr>\n",
       "    <tr>\n",
       "      <th>5</th>\n",
       "      <td>0.08</td>\n",
       "    </tr>\n",
       "  </tbody>\n",
       "</table>\n",
       "</div>"
      ],
      "text/plain": [
       "       price_m2\n",
       "rooms          \n",
       "1          0.10\n",
       "2          0.09\n",
       "3          0.09\n",
       "4          0.08\n",
       "5          0.08"
      ]
     },
     "metadata": {},
     "output_type": "display_data"
    }
   ],
   "source": [
    "for a in ['floor_category','rooms']:\n",
    "    display(round(data_good.pivot_table(index=a,values='price_m2'), 2))"
   ]
  },
  {
   "cell_type": "code",
   "execution_count": 55,
   "id": "6f534e94",
   "metadata": {},
   "outputs": [
    {
     "data": {
      "text/html": [
       "<div>\n",
       "<style scoped>\n",
       "    .dataframe tbody tr th:only-of-type {\n",
       "        vertical-align: middle;\n",
       "    }\n",
       "\n",
       "    .dataframe tbody tr th {\n",
       "        vertical-align: top;\n",
       "    }\n",
       "\n",
       "    .dataframe thead th {\n",
       "        text-align: right;\n",
       "    }\n",
       "</style>\n",
       "<table border=\"1\" class=\"dataframe\">\n",
       "  <thead>\n",
       "    <tr style=\"text-align: right;\">\n",
       "      <th></th>\n",
       "      <th>price_m2</th>\n",
       "    </tr>\n",
       "    <tr>\n",
       "      <th>day</th>\n",
       "      <th></th>\n",
       "    </tr>\n",
       "  </thead>\n",
       "  <tbody>\n",
       "    <tr>\n",
       "      <th>0</th>\n",
       "      <td>0.09</td>\n",
       "    </tr>\n",
       "    <tr>\n",
       "      <th>1</th>\n",
       "      <td>0.09</td>\n",
       "    </tr>\n",
       "    <tr>\n",
       "      <th>2</th>\n",
       "      <td>0.09</td>\n",
       "    </tr>\n",
       "    <tr>\n",
       "      <th>3</th>\n",
       "      <td>0.09</td>\n",
       "    </tr>\n",
       "    <tr>\n",
       "      <th>4</th>\n",
       "      <td>0.09</td>\n",
       "    </tr>\n",
       "    <tr>\n",
       "      <th>5</th>\n",
       "      <td>0.09</td>\n",
       "    </tr>\n",
       "    <tr>\n",
       "      <th>6</th>\n",
       "      <td>0.09</td>\n",
       "    </tr>\n",
       "  </tbody>\n",
       "</table>\n",
       "</div>"
      ],
      "text/plain": [
       "     price_m2\n",
       "day          \n",
       "0        0.09\n",
       "1        0.09\n",
       "2        0.09\n",
       "3        0.09\n",
       "4        0.09\n",
       "5        0.09\n",
       "6        0.09"
      ]
     },
     "metadata": {},
     "output_type": "display_data"
    },
    {
     "data": {
      "text/html": [
       "<div>\n",
       "<style scoped>\n",
       "    .dataframe tbody tr th:only-of-type {\n",
       "        vertical-align: middle;\n",
       "    }\n",
       "\n",
       "    .dataframe tbody tr th {\n",
       "        vertical-align: top;\n",
       "    }\n",
       "\n",
       "    .dataframe thead th {\n",
       "        text-align: right;\n",
       "    }\n",
       "</style>\n",
       "<table border=\"1\" class=\"dataframe\">\n",
       "  <thead>\n",
       "    <tr style=\"text-align: right;\">\n",
       "      <th></th>\n",
       "      <th>price_m2</th>\n",
       "    </tr>\n",
       "    <tr>\n",
       "      <th>month</th>\n",
       "      <th></th>\n",
       "    </tr>\n",
       "  </thead>\n",
       "  <tbody>\n",
       "    <tr>\n",
       "      <th>1</th>\n",
       "      <td>0.10</td>\n",
       "    </tr>\n",
       "    <tr>\n",
       "      <th>2</th>\n",
       "      <td>0.09</td>\n",
       "    </tr>\n",
       "    <tr>\n",
       "      <th>3</th>\n",
       "      <td>0.09</td>\n",
       "    </tr>\n",
       "    <tr>\n",
       "      <th>4</th>\n",
       "      <td>0.09</td>\n",
       "    </tr>\n",
       "    <tr>\n",
       "      <th>5</th>\n",
       "      <td>0.09</td>\n",
       "    </tr>\n",
       "    <tr>\n",
       "      <th>6</th>\n",
       "      <td>0.09</td>\n",
       "    </tr>\n",
       "    <tr>\n",
       "      <th>7</th>\n",
       "      <td>0.09</td>\n",
       "    </tr>\n",
       "    <tr>\n",
       "      <th>8</th>\n",
       "      <td>0.10</td>\n",
       "    </tr>\n",
       "    <tr>\n",
       "      <th>9</th>\n",
       "      <td>0.10</td>\n",
       "    </tr>\n",
       "    <tr>\n",
       "      <th>10</th>\n",
       "      <td>0.09</td>\n",
       "    </tr>\n",
       "    <tr>\n",
       "      <th>11</th>\n",
       "      <td>0.09</td>\n",
       "    </tr>\n",
       "    <tr>\n",
       "      <th>12</th>\n",
       "      <td>0.10</td>\n",
       "    </tr>\n",
       "  </tbody>\n",
       "</table>\n",
       "</div>"
      ],
      "text/plain": [
       "       price_m2\n",
       "month          \n",
       "1          0.10\n",
       "2          0.09\n",
       "3          0.09\n",
       "4          0.09\n",
       "5          0.09\n",
       "6          0.09\n",
       "7          0.09\n",
       "8          0.10\n",
       "9          0.10\n",
       "10         0.09\n",
       "11         0.09\n",
       "12         0.10"
      ]
     },
     "metadata": {},
     "output_type": "display_data"
    },
    {
     "data": {
      "text/html": [
       "<div>\n",
       "<style scoped>\n",
       "    .dataframe tbody tr th:only-of-type {\n",
       "        vertical-align: middle;\n",
       "    }\n",
       "\n",
       "    .dataframe tbody tr th {\n",
       "        vertical-align: top;\n",
       "    }\n",
       "\n",
       "    .dataframe thead th {\n",
       "        text-align: right;\n",
       "    }\n",
       "</style>\n",
       "<table border=\"1\" class=\"dataframe\">\n",
       "  <thead>\n",
       "    <tr style=\"text-align: right;\">\n",
       "      <th></th>\n",
       "      <th>price_m2</th>\n",
       "    </tr>\n",
       "    <tr>\n",
       "      <th>year</th>\n",
       "      <th></th>\n",
       "    </tr>\n",
       "  </thead>\n",
       "  <tbody>\n",
       "    <tr>\n",
       "      <th>2015</th>\n",
       "      <td>0.09</td>\n",
       "    </tr>\n",
       "    <tr>\n",
       "      <th>2016</th>\n",
       "      <td>0.09</td>\n",
       "    </tr>\n",
       "    <tr>\n",
       "      <th>2017</th>\n",
       "      <td>0.09</td>\n",
       "    </tr>\n",
       "    <tr>\n",
       "      <th>2018</th>\n",
       "      <td>0.09</td>\n",
       "    </tr>\n",
       "    <tr>\n",
       "      <th>2019</th>\n",
       "      <td>0.10</td>\n",
       "    </tr>\n",
       "  </tbody>\n",
       "</table>\n",
       "</div>"
      ],
      "text/plain": [
       "      price_m2\n",
       "year          \n",
       "2015      0.09\n",
       "2016      0.09\n",
       "2017      0.09\n",
       "2018      0.09\n",
       "2019      0.10"
      ]
     },
     "metadata": {},
     "output_type": "display_data"
    }
   ],
   "source": [
    "for a in ['day', 'month', 'year']:\n",
    "    display(round(data_good.pivot_table(index=a,values='price_m2'), 2))"
   ]
  },
  {
   "cell_type": "markdown",
   "id": "2ad0b428",
   "metadata": {},
   "source": [
    "**Вывод**\n",
    "Факторы можно условно разделить на три категории:\n",
    "\n",
    "*Для общей цены*\n",
    "1) Существенно влияющие\n",
    "* общая площадь\n",
    "* количество комнат (скорее всего также связана с площадью, как правило, чем больше комнат тем больше площадь)\n",
    "\n",
    "2) Несущественно влияющие\n",
    "* Растояние от центра\n",
    "\n",
    "3) Не влияющие\n",
    "* все остальные\n",
    "\n",
    "*Для цены за м2*\n",
    "1) Существенно влияющие\n",
    "* нет\n",
    "\n",
    "2) Несущественно влияющие\n",
    "* Растояние от центра\n",
    "* количесто комнат\n",
    "* этаж\n",
    "\n",
    "3) Не влияющие\n",
    "* все остальные"
   ]
  },
  {
   "cell_type": "markdown",
   "id": "56edc5db",
   "metadata": {},
   "source": [
    "## 4.5 Стоимость жилья в населенных пунктах с наибольшим числом объявлений. "
   ]
  },
  {
   "cell_type": "code",
   "execution_count": 56,
   "id": "1ca665d0",
   "metadata": {},
   "outputs": [
    {
     "data": {
      "text/html": [
       "<div>\n",
       "<style scoped>\n",
       "    .dataframe tbody tr th:only-of-type {\n",
       "        vertical-align: middle;\n",
       "    }\n",
       "\n",
       "    .dataframe tbody tr th {\n",
       "        vertical-align: top;\n",
       "    }\n",
       "\n",
       "    .dataframe thead th {\n",
       "        text-align: right;\n",
       "    }\n",
       "</style>\n",
       "<table border=\"1\" class=\"dataframe\">\n",
       "  <thead>\n",
       "    <tr style=\"text-align: right;\">\n",
       "      <th></th>\n",
       "      <th>count</th>\n",
       "      <th>price_m2_mean</th>\n",
       "    </tr>\n",
       "    <tr>\n",
       "      <th>locality_name</th>\n",
       "      <th></th>\n",
       "      <th></th>\n",
       "    </tr>\n",
       "  </thead>\n",
       "  <tbody>\n",
       "    <tr>\n",
       "      <th>Волосово</th>\n",
       "      <td>11</td>\n",
       "      <td>0.042182</td>\n",
       "    </tr>\n",
       "    <tr>\n",
       "      <th>Волхов</th>\n",
       "      <td>32</td>\n",
       "      <td>0.035937</td>\n",
       "    </tr>\n",
       "    <tr>\n",
       "      <th>Всеволожск</th>\n",
       "      <td>175</td>\n",
       "      <td>0.066143</td>\n",
       "    </tr>\n",
       "    <tr>\n",
       "      <th>Выборг</th>\n",
       "      <td>58</td>\n",
       "      <td>0.057172</td>\n",
       "    </tr>\n",
       "    <tr>\n",
       "      <th>Гатчина</th>\n",
       "      <td>96</td>\n",
       "      <td>0.070333</td>\n",
       "    </tr>\n",
       "    <tr>\n",
       "      <th>...</th>\n",
       "      <td>...</td>\n",
       "      <td>...</td>\n",
       "    </tr>\n",
       "    <tr>\n",
       "      <th>садовое товарищество Рахья</th>\n",
       "      <td>1</td>\n",
       "      <td>0.038000</td>\n",
       "    </tr>\n",
       "    <tr>\n",
       "      <th>село Копорье</th>\n",
       "      <td>2</td>\n",
       "      <td>0.051000</td>\n",
       "    </tr>\n",
       "    <tr>\n",
       "      <th>село Павлово</th>\n",
       "      <td>2</td>\n",
       "      <td>0.062000</td>\n",
       "    </tr>\n",
       "    <tr>\n",
       "      <th>село Путилово</th>\n",
       "      <td>2</td>\n",
       "      <td>0.039500</td>\n",
       "    </tr>\n",
       "    <tr>\n",
       "      <th>село Русско-Высоцкое</th>\n",
       "      <td>3</td>\n",
       "      <td>0.055667</td>\n",
       "    </tr>\n",
       "  </tbody>\n",
       "</table>\n",
       "<p>194 rows × 2 columns</p>\n",
       "</div>"
      ],
      "text/plain": [
       "                            count  price_m2_mean\n",
       "locality_name                                   \n",
       "Волосово                       11       0.042182\n",
       "Волхов                         32       0.035937\n",
       "Всеволожск                    175       0.066143\n",
       "Выборг                         58       0.057172\n",
       "Гатчина                        96       0.070333\n",
       "...                           ...            ...\n",
       "садовое товарищество Рахья      1       0.038000\n",
       "село Копорье                    2       0.051000\n",
       "село Павлово                    2       0.062000\n",
       "село Путилово                   2       0.039500\n",
       "село Русско-Высоцкое            3       0.055667\n",
       "\n",
       "[194 rows x 2 columns]"
      ]
     },
     "execution_count": 56,
     "metadata": {},
     "output_type": "execute_result"
    }
   ],
   "source": [
    "data_good_pivot_m2 = data_good.pivot_table(\n",
    "    index='locality_name', values='price_m2',  aggfunc=['count','mean']\n",
    ")\n",
    "data_good_pivot_m2.columns = ['count','price_m2_mean']\n",
    "data_good_pivot_m2\n",
    "\n",
    "\n",
    "\n",
    "#группировка по населенному пункту с расчетом кол-ва объявлений и подсчетом средней цены за м2\n"
   ]
  },
  {
   "cell_type": "code",
   "execution_count": 57,
   "id": "3bb3cebd",
   "metadata": {},
   "outputs": [
    {
     "data": {
      "text/html": [
       "<div>\n",
       "<style scoped>\n",
       "    .dataframe tbody tr th:only-of-type {\n",
       "        vertical-align: middle;\n",
       "    }\n",
       "\n",
       "    .dataframe tbody tr th {\n",
       "        vertical-align: top;\n",
       "    }\n",
       "\n",
       "    .dataframe thead th {\n",
       "        text-align: right;\n",
       "    }\n",
       "</style>\n",
       "<table border=\"1\" class=\"dataframe\">\n",
       "  <thead>\n",
       "    <tr style=\"text-align: right;\">\n",
       "      <th></th>\n",
       "      <th>count</th>\n",
       "      <th>price_m2_mean</th>\n",
       "    </tr>\n",
       "    <tr>\n",
       "      <th>locality_name</th>\n",
       "      <th></th>\n",
       "      <th></th>\n",
       "    </tr>\n",
       "  </thead>\n",
       "  <tbody>\n",
       "    <tr>\n",
       "      <th>Санкт-Петербург</th>\n",
       "      <td>5985</td>\n",
       "      <td>0.104063</td>\n",
       "    </tr>\n",
       "    <tr>\n",
       "      <th>Всеволожск</th>\n",
       "      <td>175</td>\n",
       "      <td>0.066143</td>\n",
       "    </tr>\n",
       "    <tr>\n",
       "      <th>посёлок Шушары</th>\n",
       "      <td>165</td>\n",
       "      <td>0.078315</td>\n",
       "    </tr>\n",
       "    <tr>\n",
       "      <th>Колпино</th>\n",
       "      <td>157</td>\n",
       "      <td>0.074185</td>\n",
       "    </tr>\n",
       "    <tr>\n",
       "      <th>посёлок Мурино</th>\n",
       "      <td>148</td>\n",
       "      <td>0.087176</td>\n",
       "    </tr>\n",
       "    <tr>\n",
       "      <th>Пушкин</th>\n",
       "      <td>137</td>\n",
       "      <td>0.097664</td>\n",
       "    </tr>\n",
       "    <tr>\n",
       "      <th>посёлок Парголово</th>\n",
       "      <td>106</td>\n",
       "      <td>0.089774</td>\n",
       "    </tr>\n",
       "    <tr>\n",
       "      <th>Петергоф</th>\n",
       "      <td>102</td>\n",
       "      <td>0.082794</td>\n",
       "    </tr>\n",
       "    <tr>\n",
       "      <th>Гатчина</th>\n",
       "      <td>96</td>\n",
       "      <td>0.070333</td>\n",
       "    </tr>\n",
       "    <tr>\n",
       "      <th>Сестрорецк</th>\n",
       "      <td>86</td>\n",
       "      <td>0.099767</td>\n",
       "    </tr>\n",
       "  </tbody>\n",
       "</table>\n",
       "</div>"
      ],
      "text/plain": [
       "                   count  price_m2_mean\n",
       "locality_name                          \n",
       "Санкт-Петербург     5985       0.104063\n",
       "Всеволожск           175       0.066143\n",
       "посёлок Шушары       165       0.078315\n",
       "Колпино              157       0.074185\n",
       "посёлок Мурино       148       0.087176\n",
       "Пушкин               137       0.097664\n",
       "посёлок Парголово    106       0.089774\n",
       "Петергоф             102       0.082794\n",
       "Гатчина               96       0.070333\n",
       "Сестрорецк            86       0.099767"
      ]
     },
     "execution_count": 57,
     "metadata": {},
     "output_type": "execute_result"
    }
   ],
   "source": [
    "data_top_10 =(data_good_pivot_m2\n",
    " .sort_values('count', ascending=False)\n",
    " .head(10)\n",
    ")\n",
    "data_top_10\n",
    "#  создание нового датафрейма с 10ю пунктами, отсортироваными по кол-ву объявлений "
   ]
  },
  {
   "cell_type": "code",
   "execution_count": 58,
   "id": "8606a983",
   "metadata": {},
   "outputs": [
    {
     "data": {
      "text/html": [
       "<div>\n",
       "<style scoped>\n",
       "    .dataframe tbody tr th:only-of-type {\n",
       "        vertical-align: middle;\n",
       "    }\n",
       "\n",
       "    .dataframe tbody tr th {\n",
       "        vertical-align: top;\n",
       "    }\n",
       "\n",
       "    .dataframe thead th {\n",
       "        text-align: right;\n",
       "    }\n",
       "</style>\n",
       "<table border=\"1\" class=\"dataframe\">\n",
       "  <thead>\n",
       "    <tr style=\"text-align: right;\">\n",
       "      <th></th>\n",
       "      <th>count</th>\n",
       "      <th>price_m2_mean</th>\n",
       "    </tr>\n",
       "    <tr>\n",
       "      <th>locality_name</th>\n",
       "      <th></th>\n",
       "      <th></th>\n",
       "    </tr>\n",
       "  </thead>\n",
       "  <tbody>\n",
       "    <tr>\n",
       "      <th>Санкт-Петербург</th>\n",
       "      <td>5985</td>\n",
       "      <td>0.104063</td>\n",
       "    </tr>\n",
       "  </tbody>\n",
       "</table>\n",
       "</div>"
      ],
      "text/plain": [
       "                 count  price_m2_mean\n",
       "locality_name                        \n",
       "Санкт-Петербург   5985       0.104063"
      ]
     },
     "execution_count": 58,
     "metadata": {},
     "output_type": "execute_result"
    }
   ],
   "source": [
    "data_top_10.query('price_m2_mean == price_m2_mean.max()')\n",
    "#населенный пункт с самой высокой ценой за м2"
   ]
  },
  {
   "cell_type": "code",
   "execution_count": 59,
   "id": "01f4e8d7",
   "metadata": {},
   "outputs": [
    {
     "data": {
      "text/html": [
       "<div>\n",
       "<style scoped>\n",
       "    .dataframe tbody tr th:only-of-type {\n",
       "        vertical-align: middle;\n",
       "    }\n",
       "\n",
       "    .dataframe tbody tr th {\n",
       "        vertical-align: top;\n",
       "    }\n",
       "\n",
       "    .dataframe thead th {\n",
       "        text-align: right;\n",
       "    }\n",
       "</style>\n",
       "<table border=\"1\" class=\"dataframe\">\n",
       "  <thead>\n",
       "    <tr style=\"text-align: right;\">\n",
       "      <th></th>\n",
       "      <th>count</th>\n",
       "      <th>price_m2_mean</th>\n",
       "    </tr>\n",
       "    <tr>\n",
       "      <th>locality_name</th>\n",
       "      <th></th>\n",
       "      <th></th>\n",
       "    </tr>\n",
       "  </thead>\n",
       "  <tbody>\n",
       "    <tr>\n",
       "      <th>Всеволожск</th>\n",
       "      <td>175</td>\n",
       "      <td>0.066143</td>\n",
       "    </tr>\n",
       "  </tbody>\n",
       "</table>\n",
       "</div>"
      ],
      "text/plain": [
       "               count  price_m2_mean\n",
       "locality_name                      \n",
       "Всеволожск       175       0.066143"
      ]
     },
     "execution_count": 59,
     "metadata": {},
     "output_type": "execute_result"
    }
   ],
   "source": [
    "data_top_10.query('price_m2_mean == price_m2_mean.min()')\n",
    "#населенный пункт с самой низкой ценой за м2"
   ]
  },
  {
   "cell_type": "markdown",
   "id": "2516f844",
   "metadata": {},
   "source": [
    "**Вывод**\n",
    "\n",
    "Населенный пункт с самой высокой ценой за м2 - Санкт-Петербург (104тыс)\n",
    "\n",
    "Населенный пункт с самой низкой ценой за м2 - Всеволожск (66тыс)"
   ]
  },
  {
   "cell_type": "markdown",
   "id": "62890266",
   "metadata": {},
   "source": [
    "## 4.6 Поиск границ центра. "
   ]
  },
  {
   "cell_type": "code",
   "execution_count": 60,
   "id": "21c54d58",
   "metadata": {},
   "outputs": [
    {
     "data": {
      "text/html": [
       "<div>\n",
       "<style scoped>\n",
       "    .dataframe tbody tr th:only-of-type {\n",
       "        vertical-align: middle;\n",
       "    }\n",
       "\n",
       "    .dataframe tbody tr th {\n",
       "        vertical-align: top;\n",
       "    }\n",
       "\n",
       "    .dataframe thead th {\n",
       "        text-align: right;\n",
       "    }\n",
       "</style>\n",
       "<table border=\"1\" class=\"dataframe\">\n",
       "  <thead>\n",
       "    <tr style=\"text-align: right;\">\n",
       "      <th></th>\n",
       "      <th>total_images</th>\n",
       "      <th>last_price</th>\n",
       "      <th>total_area</th>\n",
       "      <th>first_day_exposition</th>\n",
       "      <th>rooms</th>\n",
       "      <th>ceiling_height</th>\n",
       "      <th>floors_total</th>\n",
       "      <th>living_area</th>\n",
       "      <th>floor</th>\n",
       "      <th>is_apartment</th>\n",
       "      <th>...</th>\n",
       "      <th>days_exposition</th>\n",
       "      <th>price_m2</th>\n",
       "      <th>day</th>\n",
       "      <th>month</th>\n",
       "      <th>year</th>\n",
       "      <th>floor_category</th>\n",
       "      <th>living_total_area</th>\n",
       "      <th>kitchen_total_area</th>\n",
       "      <th>floor_category_int</th>\n",
       "      <th>city_centers_nearest_km</th>\n",
       "    </tr>\n",
       "  </thead>\n",
       "  <tbody>\n",
       "    <tr>\n",
       "      <th>0</th>\n",
       "      <td>18</td>\n",
       "      <td>5.4</td>\n",
       "      <td>61.0</td>\n",
       "      <td>2017-02-26</td>\n",
       "      <td>3</td>\n",
       "      <td>2.50</td>\n",
       "      <td>9.0</td>\n",
       "      <td>43.6</td>\n",
       "      <td>7</td>\n",
       "      <td>False</td>\n",
       "      <td>...</td>\n",
       "      <td>289.0</td>\n",
       "      <td>0.089</td>\n",
       "      <td>6</td>\n",
       "      <td>2</td>\n",
       "      <td>2017</td>\n",
       "      <td>другой</td>\n",
       "      <td>0.71</td>\n",
       "      <td>0.11</td>\n",
       "      <td>3</td>\n",
       "      <td>15.0</td>\n",
       "    </tr>\n",
       "    <tr>\n",
       "      <th>1</th>\n",
       "      <td>5</td>\n",
       "      <td>5.0</td>\n",
       "      <td>39.6</td>\n",
       "      <td>2017-11-16</td>\n",
       "      <td>1</td>\n",
       "      <td>2.67</td>\n",
       "      <td>12.0</td>\n",
       "      <td>20.3</td>\n",
       "      <td>3</td>\n",
       "      <td>False</td>\n",
       "      <td>...</td>\n",
       "      <td>137.0</td>\n",
       "      <td>0.126</td>\n",
       "      <td>3</td>\n",
       "      <td>11</td>\n",
       "      <td>2017</td>\n",
       "      <td>другой</td>\n",
       "      <td>0.51</td>\n",
       "      <td>0.21</td>\n",
       "      <td>3</td>\n",
       "      <td>13.0</td>\n",
       "    </tr>\n",
       "    <tr>\n",
       "      <th>2</th>\n",
       "      <td>20</td>\n",
       "      <td>3.5</td>\n",
       "      <td>42.8</td>\n",
       "      <td>2017-07-01</td>\n",
       "      <td>2</td>\n",
       "      <td>2.56</td>\n",
       "      <td>5.0</td>\n",
       "      <td>27.0</td>\n",
       "      <td>5</td>\n",
       "      <td>False</td>\n",
       "      <td>...</td>\n",
       "      <td>366.0</td>\n",
       "      <td>0.082</td>\n",
       "      <td>5</td>\n",
       "      <td>7</td>\n",
       "      <td>2017</td>\n",
       "      <td>последний</td>\n",
       "      <td>0.63</td>\n",
       "      <td>0.12</td>\n",
       "      <td>2</td>\n",
       "      <td>33.0</td>\n",
       "    </tr>\n",
       "    <tr>\n",
       "      <th>3</th>\n",
       "      <td>11</td>\n",
       "      <td>6.7</td>\n",
       "      <td>82.0</td>\n",
       "      <td>2017-11-23</td>\n",
       "      <td>3</td>\n",
       "      <td>3.05</td>\n",
       "      <td>5.0</td>\n",
       "      <td>55.6</td>\n",
       "      <td>1</td>\n",
       "      <td>False</td>\n",
       "      <td>...</td>\n",
       "      <td>397.0</td>\n",
       "      <td>0.082</td>\n",
       "      <td>3</td>\n",
       "      <td>11</td>\n",
       "      <td>2017</td>\n",
       "      <td>первый</td>\n",
       "      <td>0.68</td>\n",
       "      <td>0.11</td>\n",
       "      <td>1</td>\n",
       "      <td>10.0</td>\n",
       "    </tr>\n",
       "    <tr>\n",
       "      <th>4</th>\n",
       "      <td>8</td>\n",
       "      <td>3.2</td>\n",
       "      <td>31.0</td>\n",
       "      <td>2017-01-27</td>\n",
       "      <td>1</td>\n",
       "      <td>2.50</td>\n",
       "      <td>5.0</td>\n",
       "      <td>19.4</td>\n",
       "      <td>2</td>\n",
       "      <td>False</td>\n",
       "      <td>...</td>\n",
       "      <td>168.0</td>\n",
       "      <td>0.103</td>\n",
       "      <td>4</td>\n",
       "      <td>1</td>\n",
       "      <td>2017</td>\n",
       "      <td>другой</td>\n",
       "      <td>0.63</td>\n",
       "      <td>0.18</td>\n",
       "      <td>3</td>\n",
       "      <td>10.0</td>\n",
       "    </tr>\n",
       "  </tbody>\n",
       "</table>\n",
       "<p>5 rows × 31 columns</p>\n",
       "</div>"
      ],
      "text/plain": [
       "   total_images  last_price  total_area first_day_exposition  rooms  \\\n",
       "0            18         5.4        61.0           2017-02-26      3   \n",
       "1             5         5.0        39.6           2017-11-16      1   \n",
       "2            20         3.5        42.8           2017-07-01      2   \n",
       "3            11         6.7        82.0           2017-11-23      3   \n",
       "4             8         3.2        31.0           2017-01-27      1   \n",
       "\n",
       "   ceiling_height  floors_total  living_area  floor  is_apartment  ...  \\\n",
       "0            2.50           9.0         43.6      7         False  ...   \n",
       "1            2.67          12.0         20.3      3         False  ...   \n",
       "2            2.56           5.0         27.0      5         False  ...   \n",
       "3            3.05           5.0         55.6      1         False  ...   \n",
       "4            2.50           5.0         19.4      2         False  ...   \n",
       "\n",
       "   days_exposition  price_m2  day  month  year  floor_category  \\\n",
       "0            289.0     0.089    6      2  2017          другой   \n",
       "1            137.0     0.126    3     11  2017          другой   \n",
       "2            366.0     0.082    5      7  2017       последний   \n",
       "3            397.0     0.082    3     11  2017          первый   \n",
       "4            168.0     0.103    4      1  2017          другой   \n",
       "\n",
       "   living_total_area  kitchen_total_area  floor_category_int  \\\n",
       "0               0.71                0.11                   3   \n",
       "1               0.51                0.21                   3   \n",
       "2               0.63                0.12                   2   \n",
       "3               0.68                0.11                   1   \n",
       "4               0.63                0.18                   3   \n",
       "\n",
       "   city_centers_nearest_km  \n",
       "0                     15.0  \n",
       "1                     13.0  \n",
       "2                     33.0  \n",
       "3                     10.0  \n",
       "4                     10.0  \n",
       "\n",
       "[5 rows x 31 columns]"
      ]
     },
     "execution_count": 60,
     "metadata": {},
     "output_type": "execute_result"
    }
   ],
   "source": [
    "data_good['city_centers_nearest_km'] = data_good['city_centers_nearest'] //1000\n",
    "data_good.head()\n",
    "#перевод растояния в киллометры для удобства построения графика"
   ]
  },
  {
   "cell_type": "code",
   "execution_count": 61,
   "id": "fa5cba0f",
   "metadata": {},
   "outputs": [],
   "source": [
    "data_piter = data_good.query('locality_name == \"Санкт-Петербург\" ')\n",
    "# выделение квартир в Питере в отдельный датафрейм"
   ]
  },
  {
   "cell_type": "code",
   "execution_count": 62,
   "id": "0170589a",
   "metadata": {},
   "outputs": [
    {
     "data": {
      "text/plain": [
       "<AxesSubplot:xlabel='city_centers_nearest_km'>"
      ]
     },
     "execution_count": 62,
     "metadata": {},
     "output_type": "execute_result"
    },
    {
     "data": {
      "image/png": "[encoded data removed]",
      "text/plain": [
       "<Figure size 432x288 with 1 Axes>"
      ]
     },
     "metadata": {
      "needs_background": "light"
     },
     "output_type": "display_data"
    }
   ],
   "source": [
    "(data_piter\n",
    " .pivot_table(index='city_centers_nearest_km', values='price_m2')\n",
    " .plot()\n",
    ")\n",
    "#построение графика"
   ]
  },
  {
   "cell_type": "markdown",
   "id": "f49628a7",
   "metadata": {},
   "source": [
    "**Вывод**\n",
    "\n",
    "На основании данного графика можно сказать, чтов центр входит область в пределах 8ми км."
   ]
  },
  {
   "cell_type": "markdown",
   "id": "10268d87",
   "metadata": {},
   "source": [
    "## 4.7 Анализ центра и сравнение со всей территорией. "
   ]
  },
  {
   "cell_type": "code",
   "execution_count": 63,
   "id": "2d6b5d4e",
   "metadata": {},
   "outputs": [],
   "source": [
    "data_piter_center = data_piter.query('city_centers_nearest_km <= 8')\n",
    "data_piter_center = data_piter_center.reset_index(drop=True)\n",
    "#создание нового датафрейма с информацией только по квартирам из центра"
   ]
  },
  {
   "cell_type": "code",
   "execution_count": 64,
   "id": "2d70c61f",
   "metadata": {},
   "outputs": [
    {
     "data": {
      "text/plain": [
       "0    7.0\n",
       "1    6.0\n",
       "2    4.0\n",
       "3    8.0\n",
       "4    7.0\n",
       "Name: city_centers_nearest_km, dtype: float64"
      ]
     },
     "execution_count": 64,
     "metadata": {},
     "output_type": "execute_result"
    }
   ],
   "source": [
    "data_piter_center['city_centers_nearest_km'].head()\n",
    "# проверка"
   ]
  },
  {
   "cell_type": "code",
   "execution_count": 65,
   "id": "69ed49d7",
   "metadata": {},
   "outputs": [
    {
     "data": {
      "image/png": "[encoded data removed]",
      "text/plain": [
       "<Figure size 432x288 with 1 Axes>"
      ]
     },
     "metadata": {
      "needs_background": "light"
     },
     "output_type": "display_data"
    },
    {
     "data": {
      "text/plain": [
       "<AxesSubplot:>"
      ]
     },
     "execution_count": 65,
     "metadata": {},
     "output_type": "execute_result"
    },
    {
     "data": {
      "image/png": "[encoded data removed]",
      "text/plain": [
       "<Figure size 432x288 with 1 Axes>"
      ]
     },
     "metadata": {
      "needs_background": "light"
     },
     "output_type": "display_data"
    }
   ],
   "source": [
    "data_piter_center['total_area'].hist(bins=20, range=(25,120))\n",
    "plt.show()\n",
    "data['total_area'].hist(bins=20, range=(20,120))\n",
    "# гистограммы по общей площади квартир в центре и в целом"
   ]
  },
  {
   "cell_type": "markdown",
   "id": "c0a0a1c1",
   "metadata": {},
   "source": [
    "На основании построенных гистограмм можно сказать:\n",
    "- график с квартирами в центре больше смещен вправо, то есть квартир с площадью 70-80 м2 в центре столько же сколько площадью 40-60.   \n",
    "- на обоих графиках есть пик в районе 45 м2\n",
    "- на графике с кв в центре есть пик в районе 30-35м2, которого нет на общем графике, следовательно в центре больше (в процентном соотношении) маленьких квартир"
   ]
  },
  {
   "cell_type": "code",
   "execution_count": 66,
   "id": "3809de9d",
   "metadata": {
    "scrolled": true
   },
   "outputs": [
    {
     "data": {
      "image/png": "[encoded data removed]",
      "text/plain": [
       "<Figure size 432x288 with 1 Axes>"
      ]
     },
     "metadata": {
      "needs_background": "light"
     },
     "output_type": "display_data"
    },
    {
     "data": {
      "text/plain": [
       "<AxesSubplot:>"
      ]
     },
     "execution_count": 66,
     "metadata": {},
     "output_type": "execute_result"
    },
    {
     "data": {
      "image/png": "[encoded data removed]",
      "text/plain": [
       "<Figure size 432x288 with 1 Axes>"
      ]
     },
     "metadata": {
      "needs_background": "light"
     },
     "output_type": "display_data"
    }
   ],
   "source": [
    "data_piter_center['living_area'].hist(bins=20, range=(10,75))\n",
    "plt.show()\n",
    "data['living_area'].hist(bins=20, range=(10,75))\n",
    "# гистограммы по жилой площади квартир в центре и в целом"
   ]
  },
  {
   "cell_type": "markdown",
   "id": "edbb58ef",
   "metadata": {},
   "source": [
    "На основании построенных гистограмм можно сказать:\n",
    "- графики практически идентичны с пиками и провалами в одних и тех же местах, следовательно по данномму параметру центр не отличается от всех остальных квартир."
   ]
  },
  {
   "cell_type": "code",
   "execution_count": 67,
   "id": "53351fe4",
   "metadata": {
    "scrolled": true
   },
   "outputs": [
    {
     "data": {
      "image/png": "[encoded data removed]",
      "text/plain": [
       "<Figure size 432x288 with 1 Axes>"
      ]
     },
     "metadata": {
      "needs_background": "light"
     },
     "output_type": "display_data"
    },
    {
     "data": {
      "text/plain": [
       "<AxesSubplot:>"
      ]
     },
     "execution_count": 67,
     "metadata": {},
     "output_type": "execute_result"
    },
    {
     "data": {
      "image/png": "[encoded data removed]",
      "text/plain": [
       "<Figure size 432x288 with 1 Axes>"
      ]
     },
     "metadata": {
      "needs_background": "light"
     },
     "output_type": "display_data"
    }
   ],
   "source": [
    "data_piter_center['living_total_area'].hist(bins=10, range=(0.3,0.8))\n",
    "plt.show()\n",
    "data['living_total_area'].hist(bins=10,range=(0.3,0.8))\n",
    "# гистограммы по соотношению общей площади к жилой у квартир в центре и в целом"
   ]
  },
  {
   "cell_type": "markdown",
   "id": "12e46b64",
   "metadata": {},
   "source": [
    "На основании построенных гистограмм можно сказать:\n",
    "- графики практически идентичны с пиком  в одном и тм же месте (в районе 55-60%), следовательно по данномму параметру центр не отличается от всех остальных квартир."
   ]
  },
  {
   "cell_type": "code",
   "execution_count": 68,
   "id": "e4c5a0c5",
   "metadata": {},
   "outputs": [
    {
     "data": {
      "image/png": "[encoded data removed]",
      "text/plain": [
       "<Figure size 432x288 with 1 Axes>"
      ]
     },
     "metadata": {
      "needs_background": "light"
     },
     "output_type": "display_data"
    },
    {
     "data": {
      "text/plain": [
       "<AxesSubplot:>"
      ]
     },
     "execution_count": 68,
     "metadata": {},
     "output_type": "execute_result"
    },
    {
     "data": {
      "image/png": "[encoded data removed]",
      "text/plain": [
       "<Figure size 432x288 with 1 Axes>"
      ]
     },
     "metadata": {
      "needs_background": "light"
     },
     "output_type": "display_data"
    }
   ],
   "source": [
    "data_piter_center['kitchen_total_area'].hist(bins=15, range=(0.05,0.4))\n",
    "plt.show()\n",
    "data['kitchen_total_area'].hist(bins=15, range=(0.05,0.4))\n",
    "# гистограммы по соотношению общей площади к площади кухни у квартир в центре и в целом"
   ]
  },
  {
   "cell_type": "markdown",
   "id": "dbe63983",
   "metadata": {},
   "source": [
    "На основании построенных гистограмм можно сказать:\n",
    "- графики практически идентичны с пиками и провалами в одних и тех же местах, следовательно по данномму параметру центр не отличается от всех остальных квартир."
   ]
  },
  {
   "cell_type": "code",
   "execution_count": 69,
   "id": "7df1299c",
   "metadata": {},
   "outputs": [
    {
     "data": {
      "image/png": "[encoded data removed]",
      "text/plain": [
       "<Figure size 432x288 with 1 Axes>"
      ]
     },
     "metadata": {
      "needs_background": "light"
     },
     "output_type": "display_data"
    },
    {
     "data": {
      "text/plain": [
       "<AxesSubplot:>"
      ]
     },
     "execution_count": 69,
     "metadata": {},
     "output_type": "execute_result"
    },
    {
     "data": {
      "image/png": "[encoded data removed]",
      "text/plain": [
       "<Figure size 432x288 with 1 Axes>"
      ]
     },
     "metadata": {
      "needs_background": "light"
     },
     "output_type": "display_data"
    }
   ],
   "source": [
    "data_piter_center['last_price'].hist(bins=20)\n",
    "plt.show()\n",
    "data['last_price'].hist(bins=20, range=(0,12))\n",
    "# гистограммы по цене квартир в центре и в целом"
   ]
  },
  {
   "cell_type": "markdown",
   "id": "f8c29905",
   "metadata": {},
   "source": [
    "На основании построенных гистограмм можно сказать:\n",
    "- график с квартирами в центре больше смещен вправо, то есть квартиры здесь явно дороже.\n",
    "- если в датафрейме со всеми квартирами стоимость большинства квартир была около 3-6млн, то в центре цена варируется у большинства кварир в пределах 4-9млн.\n",
    "- в центре нет квартир дороже 12 млн, а график по всем квартирам показывал, что некоторые значения доходят вплоть до 50млн. Это значит, что самые дорогие квартиры находятся не в центре"
   ]
  },
  {
   "cell_type": "code",
   "execution_count": 70,
   "id": "081dcfe9",
   "metadata": {},
   "outputs": [
    {
     "data": {
      "image/png": "[encoded data removed]",
      "text/plain": [
       "<Figure size 432x288 with 1 Axes>"
      ]
     },
     "metadata": {
      "needs_background": "light"
     },
     "output_type": "display_data"
    },
    {
     "data": {
      "text/plain": [
       "<AxesSubplot:>"
      ]
     },
     "execution_count": 70,
     "metadata": {},
     "output_type": "execute_result"
    },
    {
     "data": {
      "image/png": "[encoded data removed]",
      "text/plain": [
       "<Figure size 432x288 with 1 Axes>"
      ]
     },
     "metadata": {
      "needs_background": "light"
     },
     "output_type": "display_data"
    }
   ],
   "source": [
    "data_piter_center['price_m2'].hist(bins=50)\n",
    "plt.show()\n",
    "data['price_m2'].hist(bins=50, range=(0,0.25))\n",
    "# гистограммы по цене квартир за м2 в центре и в целом"
   ]
  },
  {
   "cell_type": "markdown",
   "id": "aa18f37b",
   "metadata": {},
   "source": [
    "На основании построенных гистограмм можно сказать:\n",
    "- цена за м2 в центре существенно выше, чем в целом по всем квартирам. \n",
    "- цена за м2 для большинства квартир в центре колеблется в районе 75-150тыс\n",
    "- цена за м2 для большинства квартир в целом колеблется в районе 40-140тыс\n",
    "- квартиры с ценой в 200тыс за м2 и выше встречаются на обоих графиках, но в центре реже"
   ]
  },
  {
   "cell_type": "code",
   "execution_count": 71,
   "id": "c9f25661",
   "metadata": {},
   "outputs": [
    {
     "data": {
      "image/png": "[encoded data removed]",
      "text/plain": [
       "<Figure size 432x288 with 1 Axes>"
      ]
     },
     "metadata": {
      "needs_background": "light"
     },
     "output_type": "display_data"
    },
    {
     "data": {
      "text/plain": [
       "<AxesSubplot:>"
      ]
     },
     "execution_count": 71,
     "metadata": {},
     "output_type": "execute_result"
    },
    {
     "data": {
      "image/png": "[encoded data removed]",
      "text/plain": [
       "<Figure size 432x288 with 1 Axes>"
      ]
     },
     "metadata": {
      "needs_background": "light"
     },
     "output_type": "display_data"
    }
   ],
   "source": [
    "data_piter_center['ceiling_height'].hist(bins=10, range=(2.4,3))#, range=(0,150))\n",
    "plt.show()\n",
    "data['ceiling_height'].hist(bins=10, range=(2.4,3))#, range=(0,150))\n",
    "# гистограммы по высоте потолков квартир в центре и в целом"
   ]
  },
  {
   "cell_type": "markdown",
   "id": "27f8f327",
   "metadata": {},
   "source": [
    "На основании построенных гистограмм можно сказать:\n",
    "- пики на графиках находятся у одних и тех же значений, однако они отличаются друг от друга\n",
    "- в центре города чаще всего встречаются квартиры с высокими потолками, в районе 3м, а квартир с низкими потолками в 2.5м значительно меньше\n",
    "- в целом по квартирам чаще встречаются наоборот низкие потолки в 2.5 м авысокие встречаются сильно реже"
   ]
  },
  {
   "cell_type": "code",
   "execution_count": 72,
   "id": "3262778b",
   "metadata": {},
   "outputs": [
    {
     "data": {
      "image/png": "[encoded data removed]",
      "text/plain": [
       "<Figure size 432x288 with 1 Axes>"
      ]
     },
     "metadata": {
      "needs_background": "light"
     },
     "output_type": "display_data"
    },
    {
     "data": {
      "text/plain": [
       "<AxesSubplot:>"
      ]
     },
     "execution_count": 72,
     "metadata": {},
     "output_type": "execute_result"
    },
    {
     "data": {
      "image/png": "[encoded data removed]",
      "text/plain": [
       "<Figure size 432x288 with 1 Axes>"
      ]
     },
     "metadata": {
      "needs_background": "light"
     },
     "output_type": "display_data"
    }
   ],
   "source": [
    "data_piter_center['rooms'].hist(bins=10)\n",
    "plt.show()\n",
    "data['rooms'].hist(bins=10, range=(0,5))\n",
    "# гистограммы по кол-ву комнат  в квартирах в центре и в целом"
   ]
  },
  {
   "cell_type": "markdown",
   "id": "5d71aeb0",
   "metadata": {},
   "source": [
    "На основании построенных гистограмм можно сказать:\n",
    "- в центре однушек меньше, чем двукомнатных и даже трехкомнатных, в то время ка в целом однушек столько же сколько и двукомнатных.\n",
    "- в центре практически нет  пятикомнатных квартир, и вообще нет квартир с большем количеством комнат, вто время как в целом, количество комнат иногда доходит и до 8."
   ]
  },
  {
   "cell_type": "code",
   "execution_count": 73,
   "id": "436b73aa",
   "metadata": {},
   "outputs": [],
   "source": [
    "factor = ['city_centers_nearest']"
   ]
  },
  {
   "cell_type": "code",
   "execution_count": 74,
   "id": "285a548b",
   "metadata": {},
   "outputs": [
    {
     "name": "stdout",
     "output_type": "stream",
     "text": [
      "Корреляция city_centers_nearest к price_m2 = 0.02\n",
      "\n",
      "\n",
      "Корреляция city_centers_nearest к price_m2 = -0.39\n"
     ]
    }
   ],
   "source": [
    "cor(factors=factor, element='price_m2', data=data_piter_center)\n",
    "print()\n",
    "print()\n",
    "cor(factors=factor, element='price_m2', data=data_good)"
   ]
  },
  {
   "cell_type": "code",
   "execution_count": 75,
   "id": "82577b30",
   "metadata": {},
   "outputs": [
    {
     "data": {
      "text/html": [
       "<div>\n",
       "<style scoped>\n",
       "    .dataframe tbody tr th:only-of-type {\n",
       "        vertical-align: middle;\n",
       "    }\n",
       "\n",
       "    .dataframe tbody tr th {\n",
       "        vertical-align: top;\n",
       "    }\n",
       "\n",
       "    .dataframe thead th {\n",
       "        text-align: right;\n",
       "    }\n",
       "</style>\n",
       "<table border=\"1\" class=\"dataframe\">\n",
       "  <thead>\n",
       "    <tr style=\"text-align: right;\">\n",
       "      <th></th>\n",
       "      <th>price_m2</th>\n",
       "    </tr>\n",
       "    <tr>\n",
       "      <th>day</th>\n",
       "      <th></th>\n",
       "    </tr>\n",
       "  </thead>\n",
       "  <tbody>\n",
       "    <tr>\n",
       "      <th>0</th>\n",
       "      <td>0.09</td>\n",
       "    </tr>\n",
       "    <tr>\n",
       "      <th>1</th>\n",
       "      <td>0.09</td>\n",
       "    </tr>\n",
       "    <tr>\n",
       "      <th>2</th>\n",
       "      <td>0.09</td>\n",
       "    </tr>\n",
       "    <tr>\n",
       "      <th>3</th>\n",
       "      <td>0.09</td>\n",
       "    </tr>\n",
       "    <tr>\n",
       "      <th>4</th>\n",
       "      <td>0.09</td>\n",
       "    </tr>\n",
       "    <tr>\n",
       "      <th>5</th>\n",
       "      <td>0.09</td>\n",
       "    </tr>\n",
       "    <tr>\n",
       "      <th>6</th>\n",
       "      <td>0.09</td>\n",
       "    </tr>\n",
       "  </tbody>\n",
       "</table>\n",
       "</div>"
      ],
      "text/plain": [
       "     price_m2\n",
       "day          \n",
       "0        0.09\n",
       "1        0.09\n",
       "2        0.09\n",
       "3        0.09\n",
       "4        0.09\n",
       "5        0.09\n",
       "6        0.09"
      ]
     },
     "metadata": {},
     "output_type": "display_data"
    },
    {
     "data": {
      "text/html": [
       "<div>\n",
       "<style scoped>\n",
       "    .dataframe tbody tr th:only-of-type {\n",
       "        vertical-align: middle;\n",
       "    }\n",
       "\n",
       "    .dataframe tbody tr th {\n",
       "        vertical-align: top;\n",
       "    }\n",
       "\n",
       "    .dataframe thead th {\n",
       "        text-align: right;\n",
       "    }\n",
       "</style>\n",
       "<table border=\"1\" class=\"dataframe\">\n",
       "  <thead>\n",
       "    <tr style=\"text-align: right;\">\n",
       "      <th></th>\n",
       "      <th>price_m2</th>\n",
       "    </tr>\n",
       "    <tr>\n",
       "      <th>month</th>\n",
       "      <th></th>\n",
       "    </tr>\n",
       "  </thead>\n",
       "  <tbody>\n",
       "    <tr>\n",
       "      <th>1</th>\n",
       "      <td>0.10</td>\n",
       "    </tr>\n",
       "    <tr>\n",
       "      <th>2</th>\n",
       "      <td>0.09</td>\n",
       "    </tr>\n",
       "    <tr>\n",
       "      <th>3</th>\n",
       "      <td>0.09</td>\n",
       "    </tr>\n",
       "    <tr>\n",
       "      <th>4</th>\n",
       "      <td>0.09</td>\n",
       "    </tr>\n",
       "    <tr>\n",
       "      <th>5</th>\n",
       "      <td>0.09</td>\n",
       "    </tr>\n",
       "    <tr>\n",
       "      <th>6</th>\n",
       "      <td>0.09</td>\n",
       "    </tr>\n",
       "    <tr>\n",
       "      <th>7</th>\n",
       "      <td>0.09</td>\n",
       "    </tr>\n",
       "    <tr>\n",
       "      <th>8</th>\n",
       "      <td>0.10</td>\n",
       "    </tr>\n",
       "    <tr>\n",
       "      <th>9</th>\n",
       "      <td>0.10</td>\n",
       "    </tr>\n",
       "    <tr>\n",
       "      <th>10</th>\n",
       "      <td>0.09</td>\n",
       "    </tr>\n",
       "    <tr>\n",
       "      <th>11</th>\n",
       "      <td>0.09</td>\n",
       "    </tr>\n",
       "    <tr>\n",
       "      <th>12</th>\n",
       "      <td>0.10</td>\n",
       "    </tr>\n",
       "  </tbody>\n",
       "</table>\n",
       "</div>"
      ],
      "text/plain": [
       "       price_m2\n",
       "month          \n",
       "1          0.10\n",
       "2          0.09\n",
       "3          0.09\n",
       "4          0.09\n",
       "5          0.09\n",
       "6          0.09\n",
       "7          0.09\n",
       "8          0.10\n",
       "9          0.10\n",
       "10         0.09\n",
       "11         0.09\n",
       "12         0.10"
      ]
     },
     "metadata": {},
     "output_type": "display_data"
    },
    {
     "data": {
      "text/html": [
       "<div>\n",
       "<style scoped>\n",
       "    .dataframe tbody tr th:only-of-type {\n",
       "        vertical-align: middle;\n",
       "    }\n",
       "\n",
       "    .dataframe tbody tr th {\n",
       "        vertical-align: top;\n",
       "    }\n",
       "\n",
       "    .dataframe thead th {\n",
       "        text-align: right;\n",
       "    }\n",
       "</style>\n",
       "<table border=\"1\" class=\"dataframe\">\n",
       "  <thead>\n",
       "    <tr style=\"text-align: right;\">\n",
       "      <th></th>\n",
       "      <th>price_m2</th>\n",
       "    </tr>\n",
       "    <tr>\n",
       "      <th>year</th>\n",
       "      <th></th>\n",
       "    </tr>\n",
       "  </thead>\n",
       "  <tbody>\n",
       "    <tr>\n",
       "      <th>2015</th>\n",
       "      <td>0.09</td>\n",
       "    </tr>\n",
       "    <tr>\n",
       "      <th>2016</th>\n",
       "      <td>0.09</td>\n",
       "    </tr>\n",
       "    <tr>\n",
       "      <th>2017</th>\n",
       "      <td>0.09</td>\n",
       "    </tr>\n",
       "    <tr>\n",
       "      <th>2018</th>\n",
       "      <td>0.09</td>\n",
       "    </tr>\n",
       "    <tr>\n",
       "      <th>2019</th>\n",
       "      <td>0.10</td>\n",
       "    </tr>\n",
       "  </tbody>\n",
       "</table>\n",
       "</div>"
      ],
      "text/plain": [
       "      price_m2\n",
       "year          \n",
       "2015      0.09\n",
       "2016      0.09\n",
       "2017      0.09\n",
       "2018      0.09\n",
       "2019      0.10"
      ]
     },
     "metadata": {},
     "output_type": "display_data"
    },
    {
     "data": {
      "text/html": [
       "<div>\n",
       "<style scoped>\n",
       "    .dataframe tbody tr th:only-of-type {\n",
       "        vertical-align: middle;\n",
       "    }\n",
       "\n",
       "    .dataframe tbody tr th {\n",
       "        vertical-align: top;\n",
       "    }\n",
       "\n",
       "    .dataframe thead th {\n",
       "        text-align: right;\n",
       "    }\n",
       "</style>\n",
       "<table border=\"1\" class=\"dataframe\">\n",
       "  <thead>\n",
       "    <tr style=\"text-align: right;\">\n",
       "      <th></th>\n",
       "      <th>price_m2</th>\n",
       "    </tr>\n",
       "    <tr>\n",
       "      <th>floor_category</th>\n",
       "      <th></th>\n",
       "    </tr>\n",
       "  </thead>\n",
       "  <tbody>\n",
       "    <tr>\n",
       "      <th>другой</th>\n",
       "      <td>0.10</td>\n",
       "    </tr>\n",
       "    <tr>\n",
       "      <th>первый</th>\n",
       "      <td>0.08</td>\n",
       "    </tr>\n",
       "    <tr>\n",
       "      <th>последний</th>\n",
       "      <td>0.09</td>\n",
       "    </tr>\n",
       "  </tbody>\n",
       "</table>\n",
       "</div>"
      ],
      "text/plain": [
       "                price_m2\n",
       "floor_category          \n",
       "другой              0.10\n",
       "первый              0.08\n",
       "последний           0.09"
      ]
     },
     "metadata": {},
     "output_type": "display_data"
    },
    {
     "data": {
      "text/html": [
       "<div>\n",
       "<style scoped>\n",
       "    .dataframe tbody tr th:only-of-type {\n",
       "        vertical-align: middle;\n",
       "    }\n",
       "\n",
       "    .dataframe tbody tr th {\n",
       "        vertical-align: top;\n",
       "    }\n",
       "\n",
       "    .dataframe thead th {\n",
       "        text-align: right;\n",
       "    }\n",
       "</style>\n",
       "<table border=\"1\" class=\"dataframe\">\n",
       "  <thead>\n",
       "    <tr style=\"text-align: right;\">\n",
       "      <th></th>\n",
       "      <th>price_m2</th>\n",
       "    </tr>\n",
       "    <tr>\n",
       "      <th>rooms</th>\n",
       "      <th></th>\n",
       "    </tr>\n",
       "  </thead>\n",
       "  <tbody>\n",
       "    <tr>\n",
       "      <th>1</th>\n",
       "      <td>0.10</td>\n",
       "    </tr>\n",
       "    <tr>\n",
       "      <th>2</th>\n",
       "      <td>0.09</td>\n",
       "    </tr>\n",
       "    <tr>\n",
       "      <th>3</th>\n",
       "      <td>0.09</td>\n",
       "    </tr>\n",
       "    <tr>\n",
       "      <th>4</th>\n",
       "      <td>0.08</td>\n",
       "    </tr>\n",
       "    <tr>\n",
       "      <th>5</th>\n",
       "      <td>0.08</td>\n",
       "    </tr>\n",
       "  </tbody>\n",
       "</table>\n",
       "</div>"
      ],
      "text/plain": [
       "       price_m2\n",
       "rooms          \n",
       "1          0.10\n",
       "2          0.09\n",
       "3          0.09\n",
       "4          0.08\n",
       "5          0.08"
      ]
     },
     "metadata": {},
     "output_type": "display_data"
    }
   ],
   "source": [
    "for a in ['day', 'month', 'year','floor_category','rooms']:\n",
    "    display(round(data_good.pivot_table(index=a,values='price_m2'), 2))"
   ]
  },
  {
   "cell_type": "markdown",
   "id": "661a5451",
   "metadata": {},
   "source": [
    "**Вывод**\n",
    "\n",
    "По корреляции видно, что ни один из данных факторов не влияет на стоимость м2 в центре.\n",
    "\n",
    "Это немного отличается от ообщей картины, так как по общим данным на цену влияет число комнат и растояние от центра"
   ]
  },
  {
   "cell_type": "markdown",
   "id": "cb8f9f85",
   "metadata": {},
   "source": [
    "## 5 Вывод"
   ]
  },
  {
   "cell_type": "markdown",
   "id": "d67ec2e7",
   "metadata": {},
   "source": [
    "Исследование проходило в несколько этапов:\n",
    "\n",
    "1) Обзор данных\n",
    "\n",
    "2) Предобратока данных\n",
    "\n",
    "В ходе предобратки:\n",
    "\n",
    "- исправлен формат времени,\n",
    "- исправлен формат запмси цены,\n",
    "- дубликаты не обнаружены.\n",
    "- заполнены некоторые пропуски\n",
    "- исправлены названия столбцов\n",
    "\n",
    "3) Добавление столбцов\n",
    "\n",
    "На этом этапе были добавлены следующие столбцы:\n",
    "- цена квадратного метра;\n",
    "- день недели, месяц и год публикации объявления;\n",
    "- этаж квартиры; варианты — первый, последний, другой;\n",
    "- соотношение жилой и общей площади, а также отношение площади кухни к общей.\n",
    "\n",
    "\n",
    "4) Исследовательский анализ данных\n",
    "\n",
    "На данном этапе были:\n",
    "- изучены различные параметры ( площадь, цена, число комнат, высота потолков).\n",
    "- очищены данные от выбивающихся значений.\n",
    "- проанализировано влиянияние данных параметров на цену квартир, в целом по данным и кокретно в Санкт-Петербурге.\n",
    "- выявлены топ 10 населенных пунктов с наибольшим количеством объявлений."
   ]
  }
 ],
 "metadata": {
  "ExecuteTimeLog": [
   {
    "duration": 683,
    "start_time": "2022-04-07T05:43:47.454Z"
   },
   {
    "duration": 174,
    "start_time": "2022-04-07T05:43:48.139Z"
   },
   {
    "duration": 11,
    "start_time": "2022-04-07T05:43:48.315Z"
   },
   {
    "duration": 6,
    "start_time": "2022-04-07T05:43:48.329Z"
   },
   {
    "duration": 16,
    "start_time": "2022-04-07T05:43:48.337Z"
   },
   {
    "duration": 7,
    "start_time": "2022-04-07T05:43:48.355Z"
   },
   {
    "duration": 8,
    "start_time": "2022-04-07T05:43:48.364Z"
   },
   {
    "duration": 43,
    "start_time": "2022-04-07T05:43:48.374Z"
   },
   {
    "duration": 1120,
    "start_time": "2022-04-07T05:43:48.419Z"
   },
   {
    "duration": 0,
    "start_time": "2022-04-07T05:43:49.543Z"
   },
   {
    "duration": 0,
    "start_time": "2022-04-07T05:43:49.545Z"
   },
   {
    "duration": 0,
    "start_time": "2022-04-07T05:43:49.546Z"
   },
   {
    "duration": 0,
    "start_time": "2022-04-07T05:43:49.547Z"
   },
   {
    "duration": 0,
    "start_time": "2022-04-07T05:43:49.549Z"
   },
   {
    "duration": 0,
    "start_time": "2022-04-07T05:43:49.550Z"
   },
   {
    "duration": 0,
    "start_time": "2022-04-07T05:43:49.552Z"
   },
   {
    "duration": 0,
    "start_time": "2022-04-07T05:43:49.553Z"
   },
   {
    "duration": 0,
    "start_time": "2022-04-07T05:43:49.555Z"
   },
   {
    "duration": 0,
    "start_time": "2022-04-07T05:43:49.556Z"
   },
   {
    "duration": 0,
    "start_time": "2022-04-07T05:43:49.558Z"
   },
   {
    "duration": 0,
    "start_time": "2022-04-07T05:43:49.559Z"
   },
   {
    "duration": 0,
    "start_time": "2022-04-07T05:43:49.562Z"
   },
   {
    "duration": 0,
    "start_time": "2022-04-07T05:43:49.563Z"
   },
   {
    "duration": 0,
    "start_time": "2022-04-07T05:43:49.565Z"
   },
   {
    "duration": 0,
    "start_time": "2022-04-07T05:43:49.566Z"
   },
   {
    "duration": 0,
    "start_time": "2022-04-07T05:43:49.568Z"
   },
   {
    "duration": 0,
    "start_time": "2022-04-07T05:43:49.569Z"
   },
   {
    "duration": 0,
    "start_time": "2022-04-07T05:43:49.571Z"
   },
   {
    "duration": 0,
    "start_time": "2022-04-07T05:43:49.572Z"
   },
   {
    "duration": 0,
    "start_time": "2022-04-07T05:43:49.574Z"
   },
   {
    "duration": 0,
    "start_time": "2022-04-07T05:43:49.575Z"
   },
   {
    "duration": 0,
    "start_time": "2022-04-07T05:43:49.576Z"
   },
   {
    "duration": 0,
    "start_time": "2022-04-07T05:43:49.578Z"
   },
   {
    "duration": 0,
    "start_time": "2022-04-07T05:43:49.579Z"
   },
   {
    "duration": 0,
    "start_time": "2022-04-07T05:43:49.610Z"
   },
   {
    "duration": 0,
    "start_time": "2022-04-07T05:43:49.611Z"
   },
   {
    "duration": 0,
    "start_time": "2022-04-07T05:43:49.612Z"
   },
   {
    "duration": 0,
    "start_time": "2022-04-07T05:43:49.614Z"
   },
   {
    "duration": 0,
    "start_time": "2022-04-07T05:43:49.616Z"
   },
   {
    "duration": 0,
    "start_time": "2022-04-07T05:43:49.617Z"
   },
   {
    "duration": 0,
    "start_time": "2022-04-07T05:43:49.619Z"
   },
   {
    "duration": 0,
    "start_time": "2022-04-07T05:43:49.620Z"
   },
   {
    "duration": 0,
    "start_time": "2022-04-07T05:43:49.621Z"
   },
   {
    "duration": 0,
    "start_time": "2022-04-07T05:43:49.623Z"
   },
   {
    "duration": 0,
    "start_time": "2022-04-07T05:43:49.624Z"
   },
   {
    "duration": 0,
    "start_time": "2022-04-07T05:43:49.625Z"
   },
   {
    "duration": 0,
    "start_time": "2022-04-07T05:43:49.626Z"
   },
   {
    "duration": 0,
    "start_time": "2022-04-07T05:43:49.627Z"
   },
   {
    "duration": 0,
    "start_time": "2022-04-07T05:43:49.628Z"
   },
   {
    "duration": 0,
    "start_time": "2022-04-07T05:43:49.629Z"
   },
   {
    "duration": 0,
    "start_time": "2022-04-07T05:43:49.630Z"
   },
   {
    "duration": 0,
    "start_time": "2022-04-07T05:43:49.632Z"
   },
   {
    "duration": 0,
    "start_time": "2022-04-07T05:43:49.633Z"
   },
   {
    "duration": 0,
    "start_time": "2022-04-07T05:43:49.634Z"
   },
   {
    "duration": 0,
    "start_time": "2022-04-07T05:43:49.635Z"
   },
   {
    "duration": 0,
    "start_time": "2022-04-07T05:43:49.636Z"
   },
   {
    "duration": 0,
    "start_time": "2022-04-07T05:43:49.637Z"
   },
   {
    "duration": 0,
    "start_time": "2022-04-07T05:43:49.638Z"
   },
   {
    "duration": 0,
    "start_time": "2022-04-07T05:43:49.639Z"
   },
   {
    "duration": 0,
    "start_time": "2022-04-07T05:43:49.640Z"
   },
   {
    "duration": 0,
    "start_time": "2022-04-07T05:43:49.641Z"
   },
   {
    "duration": 0,
    "start_time": "2022-04-07T05:43:49.642Z"
   },
   {
    "duration": 0,
    "start_time": "2022-04-07T05:43:49.643Z"
   },
   {
    "duration": 0,
    "start_time": "2022-04-07T05:43:49.644Z"
   },
   {
    "duration": 0,
    "start_time": "2022-04-07T05:43:49.645Z"
   },
   {
    "duration": 0,
    "start_time": "2022-04-07T05:43:49.646Z"
   },
   {
    "duration": 0,
    "start_time": "2022-04-07T05:43:49.709Z"
   },
   {
    "duration": 0,
    "start_time": "2022-04-07T05:43:49.711Z"
   },
   {
    "duration": 0,
    "start_time": "2022-04-07T05:43:49.712Z"
   },
   {
    "duration": 0,
    "start_time": "2022-04-07T05:43:49.713Z"
   },
   {
    "duration": 0,
    "start_time": "2022-04-07T05:43:49.714Z"
   },
   {
    "duration": 0,
    "start_time": "2022-04-07T05:43:49.715Z"
   },
   {
    "duration": 0,
    "start_time": "2022-04-07T05:43:49.716Z"
   },
   {
    "duration": 79,
    "start_time": "2022-04-07T05:46:03.283Z"
   },
   {
    "duration": 32,
    "start_time": "2022-04-07T05:46:03.713Z"
   },
   {
    "duration": 683,
    "start_time": "2022-04-07T05:46:13.632Z"
   },
   {
    "duration": 85,
    "start_time": "2022-04-07T05:46:14.317Z"
   },
   {
    "duration": 36,
    "start_time": "2022-04-07T05:46:14.404Z"
   },
   {
    "duration": 27,
    "start_time": "2022-04-07T05:46:14.442Z"
   },
   {
    "duration": 45,
    "start_time": "2022-04-07T05:46:14.470Z"
   },
   {
    "duration": 5,
    "start_time": "2022-04-07T05:46:14.516Z"
   },
   {
    "duration": 4,
    "start_time": "2022-04-07T05:46:14.523Z"
   },
   {
    "duration": 12,
    "start_time": "2022-04-07T05:46:14.528Z"
   },
   {
    "duration": 7,
    "start_time": "2022-04-07T05:46:14.542Z"
   },
   {
    "duration": 9,
    "start_time": "2022-04-07T05:46:14.552Z"
   },
   {
    "duration": 64,
    "start_time": "2022-04-07T05:46:14.563Z"
   },
   {
    "duration": 8,
    "start_time": "2022-04-07T05:46:14.629Z"
   },
   {
    "duration": 29,
    "start_time": "2022-04-07T05:46:14.638Z"
   },
   {
    "duration": 52,
    "start_time": "2022-04-07T05:46:14.668Z"
   },
   {
    "duration": 27,
    "start_time": "2022-04-07T05:46:14.722Z"
   },
   {
    "duration": 26,
    "start_time": "2022-04-07T05:46:14.751Z"
   },
   {
    "duration": 33,
    "start_time": "2022-04-07T05:46:14.779Z"
   },
   {
    "duration": 27,
    "start_time": "2022-04-07T05:46:14.814Z"
   },
   {
    "duration": 13,
    "start_time": "2022-04-07T05:46:14.843Z"
   },
   {
    "duration": 52,
    "start_time": "2022-04-07T05:46:14.858Z"
   },
   {
    "duration": 406,
    "start_time": "2022-04-07T05:46:14.911Z"
   },
   {
    "duration": 4,
    "start_time": "2022-04-07T05:46:15.319Z"
   },
   {
    "duration": 9,
    "start_time": "2022-04-07T05:46:15.325Z"
   },
   {
    "duration": 26,
    "start_time": "2022-04-07T05:46:15.336Z"
   },
   {
    "duration": 5,
    "start_time": "2022-04-07T05:46:15.364Z"
   },
   {
    "duration": 58,
    "start_time": "2022-04-07T05:46:15.371Z"
   },
   {
    "duration": 340,
    "start_time": "2022-04-07T05:46:15.431Z"
   },
   {
    "duration": 373,
    "start_time": "2022-04-07T05:46:15.776Z"
   },
   {
    "duration": 222,
    "start_time": "2022-04-07T05:46:16.150Z"
   },
   {
    "duration": 174,
    "start_time": "2022-04-07T05:46:16.373Z"
   },
   {
    "duration": 296,
    "start_time": "2022-04-07T05:46:16.548Z"
   },
   {
    "duration": 365,
    "start_time": "2022-04-07T05:46:16.845Z"
   },
   {
    "duration": 307,
    "start_time": "2022-04-07T05:46:17.212Z"
   },
   {
    "duration": 320,
    "start_time": "2022-04-07T05:46:17.521Z"
   },
   {
    "duration": 9,
    "start_time": "2022-04-07T05:46:17.843Z"
   },
   {
    "duration": 487,
    "start_time": "2022-04-07T05:46:17.854Z"
   },
   {
    "duration": 150,
    "start_time": "2022-04-07T05:46:18.342Z"
   },
   {
    "duration": 344,
    "start_time": "2022-04-07T05:46:18.494Z"
   },
   {
    "duration": 18,
    "start_time": "2022-04-07T05:46:18.840Z"
   },
   {
    "duration": 274,
    "start_time": "2022-04-07T05:46:18.859Z"
   },
   {
    "duration": 12,
    "start_time": "2022-04-07T05:46:19.134Z"
   },
   {
    "duration": 234,
    "start_time": "2022-04-07T05:46:19.147Z"
   },
   {
    "duration": 8,
    "start_time": "2022-04-07T05:46:19.382Z"
   },
   {
    "duration": 352,
    "start_time": "2022-04-07T05:46:19.392Z"
   },
   {
    "duration": 8,
    "start_time": "2022-04-07T05:46:19.746Z"
   },
   {
    "duration": 54,
    "start_time": "2022-04-07T05:46:19.756Z"
   },
   {
    "duration": 2,
    "start_time": "2022-04-07T05:46:19.812Z"
   },
   {
    "duration": 10,
    "start_time": "2022-04-07T05:46:19.816Z"
   },
   {
    "duration": 8,
    "start_time": "2022-04-07T05:46:19.827Z"
   },
   {
    "duration": 9,
    "start_time": "2022-04-07T05:46:19.837Z"
   },
   {
    "duration": 8,
    "start_time": "2022-04-07T05:46:19.848Z"
   },
   {
    "duration": 7,
    "start_time": "2022-04-07T05:46:19.858Z"
   },
   {
    "duration": 42,
    "start_time": "2022-04-07T05:46:19.867Z"
   },
   {
    "duration": 24,
    "start_time": "2022-04-07T05:46:19.910Z"
   },
   {
    "duration": 8,
    "start_time": "2022-04-07T05:46:19.936Z"
   },
   {
    "duration": 12,
    "start_time": "2022-04-07T05:46:19.946Z"
   },
   {
    "duration": 11,
    "start_time": "2022-04-07T05:46:19.960Z"
   },
   {
    "duration": 52,
    "start_time": "2022-04-07T05:46:19.972Z"
   },
   {
    "duration": 9,
    "start_time": "2022-04-07T05:46:20.026Z"
   },
   {
    "duration": 165,
    "start_time": "2022-04-07T05:46:20.037Z"
   },
   {
    "duration": 8,
    "start_time": "2022-04-07T05:46:20.209Z"
   },
   {
    "duration": 8,
    "start_time": "2022-04-07T05:46:20.219Z"
   },
   {
    "duration": 306,
    "start_time": "2022-04-07T05:46:20.229Z"
   },
   {
    "duration": 320,
    "start_time": "2022-04-07T05:46:20.537Z"
   },
   {
    "duration": 271,
    "start_time": "2022-04-07T05:46:20.859Z"
   },
   {
    "duration": 322,
    "start_time": "2022-04-07T05:46:21.132Z"
   },
   {
    "duration": 381,
    "start_time": "2022-04-07T05:46:21.456Z"
   },
   {
    "duration": 397,
    "start_time": "2022-04-07T05:46:21.840Z"
   },
   {
    "duration": 280,
    "start_time": "2022-04-07T05:46:22.239Z"
   },
   {
    "duration": 289,
    "start_time": "2022-04-07T05:46:22.521Z"
   },
   {
    "duration": 4,
    "start_time": "2022-04-07T05:46:22.812Z"
   },
   {
    "duration": 16,
    "start_time": "2022-04-07T05:46:22.817Z"
   },
   {
    "duration": 15,
    "start_time": "2022-04-07T05:46:22.835Z"
   },
   {
    "duration": 68,
    "start_time": "2022-04-07T10:44:17.870Z"
   },
   {
    "duration": 9,
    "start_time": "2022-04-07T10:44:28.639Z"
   },
   {
    "duration": 1195,
    "start_time": "2022-04-07T10:44:44.596Z"
   },
   {
    "duration": 110,
    "start_time": "2022-04-07T10:44:45.794Z"
   },
   {
    "duration": 60,
    "start_time": "2022-04-07T10:44:45.907Z"
   },
   {
    "duration": 39,
    "start_time": "2022-04-07T10:44:45.970Z"
   },
   {
    "duration": 116,
    "start_time": "2022-04-07T10:44:46.011Z"
   },
   {
    "duration": 101,
    "start_time": "2022-04-07T10:45:04.473Z"
   },
   {
    "duration": 94,
    "start_time": "2022-04-07T10:45:18.416Z"
   },
   {
    "duration": 98,
    "start_time": "2022-04-07T10:47:02.009Z"
   },
   {
    "duration": 11,
    "start_time": "2022-04-07T10:48:03.987Z"
   },
   {
    "duration": 156,
    "start_time": "2022-04-07T10:48:55.291Z"
   },
   {
    "duration": 5,
    "start_time": "2022-04-07T11:18:01.279Z"
   },
   {
    "duration": 448,
    "start_time": "2022-04-07T11:18:05.465Z"
   },
   {
    "duration": 9,
    "start_time": "2022-04-07T11:18:42.672Z"
   },
   {
    "duration": 457,
    "start_time": "2022-04-07T11:33:11.309Z"
   },
   {
    "duration": 197,
    "start_time": "2022-04-07T11:36:07.530Z"
   },
   {
    "duration": 16,
    "start_time": "2022-04-07T11:37:14.783Z"
   },
   {
    "duration": 871,
    "start_time": "2022-04-07T11:37:34.599Z"
   },
   {
    "duration": 460,
    "start_time": "2022-04-07T11:38:02.083Z"
   },
   {
    "duration": 570,
    "start_time": "2022-04-07T11:38:58.756Z"
   },
   {
    "duration": 5,
    "start_time": "2022-04-07T11:39:38.314Z"
   },
   {
    "duration": 172,
    "start_time": "2022-04-07T11:39:38.326Z"
   },
   {
    "duration": 65,
    "start_time": "2022-04-07T11:39:38.500Z"
   },
   {
    "duration": 37,
    "start_time": "2022-04-07T11:39:38.567Z"
   },
   {
    "duration": 178,
    "start_time": "2022-04-07T11:39:38.608Z"
   },
   {
    "duration": 20,
    "start_time": "2022-04-07T11:39:38.788Z"
   },
   {
    "duration": 6,
    "start_time": "2022-04-07T11:39:38.811Z"
   },
   {
    "duration": 25,
    "start_time": "2022-04-07T11:39:38.819Z"
   },
   {
    "duration": 48,
    "start_time": "2022-04-07T11:39:38.846Z"
   },
   {
    "duration": 11,
    "start_time": "2022-04-07T11:39:38.896Z"
   },
   {
    "duration": 12,
    "start_time": "2022-04-07T11:39:38.911Z"
   },
   {
    "duration": 54,
    "start_time": "2022-04-07T11:39:38.925Z"
   },
   {
    "duration": 10,
    "start_time": "2022-04-07T11:39:38.981Z"
   },
   {
    "duration": 70,
    "start_time": "2022-04-07T11:39:38.993Z"
   },
   {
    "duration": 55,
    "start_time": "2022-04-07T11:39:39.066Z"
   },
   {
    "duration": 58,
    "start_time": "2022-04-07T11:39:39.125Z"
   },
   {
    "duration": 40,
    "start_time": "2022-04-07T11:39:39.185Z"
   },
   {
    "duration": 10,
    "start_time": "2022-04-07T11:39:39.245Z"
   },
   {
    "duration": 61,
    "start_time": "2022-04-07T11:39:39.259Z"
   },
   {
    "duration": 36,
    "start_time": "2022-04-07T11:39:39.323Z"
   },
   {
    "duration": 49,
    "start_time": "2022-04-07T11:39:39.367Z"
   },
   {
    "duration": 4,
    "start_time": "2022-04-07T11:39:39.419Z"
   },
   {
    "duration": 572,
    "start_time": "2022-04-07T11:39:39.425Z"
   },
   {
    "duration": 9,
    "start_time": "2022-04-07T11:39:39.999Z"
   },
   {
    "duration": 59,
    "start_time": "2022-04-07T11:39:40.010Z"
   },
   {
    "duration": 58,
    "start_time": "2022-04-07T11:39:40.071Z"
   },
   {
    "duration": 41,
    "start_time": "2022-04-07T11:39:40.132Z"
   },
   {
    "duration": 460,
    "start_time": "2022-04-07T11:39:40.176Z"
   },
   {
    "duration": 538,
    "start_time": "2022-04-07T11:40:43.807Z"
   },
   {
    "duration": 625,
    "start_time": "2022-04-07T12:28:18.068Z"
   },
   {
    "duration": 794,
    "start_time": "2022-04-07T12:28:33.579Z"
   },
   {
    "duration": 11,
    "start_time": "2022-04-07T12:51:06.411Z"
   },
   {
    "duration": 24,
    "start_time": "2022-04-07T12:51:11.305Z"
   },
   {
    "duration": 15,
    "start_time": "2022-04-07T12:51:12.166Z"
   },
   {
    "duration": 210,
    "start_time": "2022-04-07T12:51:28.540Z"
   },
   {
    "duration": 6,
    "start_time": "2022-04-07T12:51:34.114Z"
   },
   {
    "duration": 14,
    "start_time": "2022-04-07T12:52:05.076Z"
   },
   {
    "duration": 6,
    "start_time": "2022-04-07T12:52:28.099Z"
   },
   {
    "duration": 6,
    "start_time": "2022-04-07T12:52:34.647Z"
   },
   {
    "duration": 7,
    "start_time": "2022-04-07T12:54:11.646Z"
   },
   {
    "duration": 8,
    "start_time": "2022-04-07T12:56:30.745Z"
   },
   {
    "duration": 8,
    "start_time": "2022-04-07T12:57:16.843Z"
   },
   {
    "duration": 68,
    "start_time": "2022-04-07T14:28:08.359Z"
   },
   {
    "duration": 1107,
    "start_time": "2022-04-07T14:28:20.398Z"
   },
   {
    "duration": 111,
    "start_time": "2022-04-07T14:28:21.509Z"
   },
   {
    "duration": 57,
    "start_time": "2022-04-07T14:28:21.622Z"
   },
   {
    "duration": 38,
    "start_time": "2022-04-07T14:28:21.683Z"
   },
   {
    "duration": 133,
    "start_time": "2022-04-07T14:28:21.724Z"
   },
   {
    "duration": 29,
    "start_time": "2022-04-07T14:28:21.859Z"
   },
   {
    "duration": 6,
    "start_time": "2022-04-07T14:28:21.890Z"
   },
   {
    "duration": 8,
    "start_time": "2022-04-07T14:28:21.898Z"
   },
   {
    "duration": 18,
    "start_time": "2022-04-07T14:28:21.908Z"
   },
   {
    "duration": 12,
    "start_time": "2022-04-07T14:28:21.970Z"
   },
   {
    "duration": 13,
    "start_time": "2022-04-07T14:28:21.984Z"
   },
   {
    "duration": 67,
    "start_time": "2022-04-07T14:28:21.999Z"
   },
   {
    "duration": 20,
    "start_time": "2022-04-07T14:28:22.069Z"
   },
   {
    "duration": 38,
    "start_time": "2022-04-07T14:28:22.092Z"
   },
   {
    "duration": 53,
    "start_time": "2022-04-07T14:28:22.133Z"
   },
   {
    "duration": 46,
    "start_time": "2022-04-07T14:28:22.189Z"
   },
   {
    "duration": 52,
    "start_time": "2022-04-07T14:28:22.237Z"
   },
   {
    "duration": 6,
    "start_time": "2022-04-07T14:28:22.293Z"
   },
   {
    "duration": 68,
    "start_time": "2022-04-07T14:28:22.301Z"
   },
   {
    "duration": 17,
    "start_time": "2022-04-07T14:28:22.372Z"
   },
   {
    "duration": 38,
    "start_time": "2022-04-07T14:28:22.392Z"
   },
   {
    "duration": 35,
    "start_time": "2022-04-07T14:28:22.433Z"
   },
   {
    "duration": 816,
    "start_time": "2022-04-07T14:28:22.470Z"
   },
   {
    "duration": 10,
    "start_time": "2022-04-07T14:28:23.288Z"
   },
   {
    "duration": 39,
    "start_time": "2022-04-07T14:28:23.300Z"
   },
   {
    "duration": 30,
    "start_time": "2022-04-07T14:28:23.342Z"
   },
   {
    "duration": 38,
    "start_time": "2022-04-07T14:28:23.375Z"
   },
   {
    "duration": 555,
    "start_time": "2022-04-07T14:28:23.418Z"
   },
   {
    "duration": 636,
    "start_time": "2022-04-07T14:28:23.976Z"
   },
   {
    "duration": 237,
    "start_time": "2022-04-07T14:28:24.615Z"
   },
   {
    "duration": 265,
    "start_time": "2022-04-07T14:28:24.854Z"
   },
   {
    "duration": 440,
    "start_time": "2022-04-07T14:28:25.122Z"
   },
   {
    "duration": 538,
    "start_time": "2022-04-07T14:28:25.567Z"
   },
   {
    "duration": 506,
    "start_time": "2022-04-07T14:28:26.108Z"
   },
   {
    "duration": 450,
    "start_time": "2022-04-07T14:28:26.617Z"
   },
   {
    "duration": 12,
    "start_time": "2022-04-07T14:28:27.069Z"
   },
   {
    "duration": 784,
    "start_time": "2022-04-07T14:28:27.083Z"
   },
   {
    "duration": 211,
    "start_time": "2022-04-07T14:28:27.869Z"
   },
   {
    "duration": 462,
    "start_time": "2022-04-07T14:28:28.082Z"
   },
   {
    "duration": 33,
    "start_time": "2022-04-07T14:28:28.547Z"
   },
   {
    "duration": 9,
    "start_time": "2022-04-07T14:28:28.583Z"
   },
   {
    "duration": 440,
    "start_time": "2022-04-07T14:28:28.594Z"
   },
   {
    "duration": 17,
    "start_time": "2022-04-07T14:28:29.036Z"
   },
   {
    "duration": 313,
    "start_time": "2022-04-07T14:28:29.068Z"
   },
   {
    "duration": 12,
    "start_time": "2022-04-07T14:28:29.383Z"
   },
   {
    "duration": 348,
    "start_time": "2022-04-07T14:28:29.398Z"
   },
   {
    "duration": 20,
    "start_time": "2022-04-07T14:28:29.749Z"
   },
   {
    "duration": 50,
    "start_time": "2022-04-07T14:28:29.771Z"
   },
   {
    "duration": 3,
    "start_time": "2022-04-07T14:28:29.824Z"
   },
   {
    "duration": 7,
    "start_time": "2022-04-07T14:28:29.830Z"
   },
   {
    "duration": 10,
    "start_time": "2022-04-07T14:28:29.868Z"
   },
   {
    "duration": 9,
    "start_time": "2022-04-07T14:28:29.880Z"
   },
   {
    "duration": 12,
    "start_time": "2022-04-07T14:28:29.892Z"
   },
   {
    "duration": 9,
    "start_time": "2022-04-07T14:28:29.907Z"
   },
   {
    "duration": 60,
    "start_time": "2022-04-07T14:28:29.918Z"
   },
   {
    "duration": 964,
    "start_time": "2022-04-07T14:28:29.981Z"
   },
   {
    "duration": 925,
    "start_time": "2022-04-07T14:29:22.272Z"
   },
   {
    "duration": 1044,
    "start_time": "2022-04-07T14:30:42.047Z"
   },
   {
    "duration": 1037,
    "start_time": "2022-04-07T14:30:53.589Z"
   },
   {
    "duration": 927,
    "start_time": "2022-04-07T14:31:03.207Z"
   },
   {
    "duration": 1110,
    "start_time": "2022-04-07T14:31:09.147Z"
   },
   {
    "duration": 950,
    "start_time": "2022-04-07T14:31:21.643Z"
   },
   {
    "duration": 924,
    "start_time": "2022-04-07T14:31:45.115Z"
   },
   {
    "duration": 990,
    "start_time": "2022-04-07T14:31:52.975Z"
   },
   {
    "duration": 1065,
    "start_time": "2022-04-07T14:32:06.023Z"
   },
   {
    "duration": 978,
    "start_time": "2022-04-07T14:34:16.771Z"
   },
   {
    "duration": 1524,
    "start_time": "2022-04-07T14:38:07.148Z"
   },
   {
    "duration": 1238,
    "start_time": "2022-04-07T14:38:19.034Z"
   },
   {
    "duration": 53,
    "start_time": "2022-04-07T14:40:34.624Z"
   },
   {
    "duration": 4,
    "start_time": "2022-04-07T14:41:26.176Z"
   },
   {
    "duration": 95,
    "start_time": "2022-04-07T14:41:26.186Z"
   },
   {
    "duration": 56,
    "start_time": "2022-04-07T14:41:26.284Z"
   },
   {
    "duration": 61,
    "start_time": "2022-04-07T14:41:26.343Z"
   },
   {
    "duration": 260,
    "start_time": "2022-04-07T14:41:26.409Z"
   },
   {
    "duration": 20,
    "start_time": "2022-04-07T14:41:26.671Z"
   },
   {
    "duration": 7,
    "start_time": "2022-04-07T14:41:26.694Z"
   },
   {
    "duration": 7,
    "start_time": "2022-04-07T14:41:26.704Z"
   },
   {
    "duration": 57,
    "start_time": "2022-04-07T14:41:26.714Z"
   },
   {
    "duration": 15,
    "start_time": "2022-04-07T14:41:26.774Z"
   },
   {
    "duration": 18,
    "start_time": "2022-04-07T14:41:26.795Z"
   },
   {
    "duration": 91,
    "start_time": "2022-04-07T14:41:26.816Z"
   },
   {
    "duration": 18,
    "start_time": "2022-04-07T14:41:26.911Z"
   },
   {
    "duration": 83,
    "start_time": "2022-04-07T14:41:26.932Z"
   },
   {
    "duration": 69,
    "start_time": "2022-04-07T14:41:27.018Z"
   },
   {
    "duration": 44,
    "start_time": "2022-04-07T14:41:27.091Z"
   },
   {
    "duration": 61,
    "start_time": "2022-04-07T14:41:27.137Z"
   },
   {
    "duration": 6,
    "start_time": "2022-04-07T14:41:27.200Z"
   },
   {
    "duration": 66,
    "start_time": "2022-04-07T14:41:27.209Z"
   },
   {
    "duration": 15,
    "start_time": "2022-04-07T14:41:27.278Z"
   },
   {
    "duration": 35,
    "start_time": "2022-04-07T14:41:27.296Z"
   },
   {
    "duration": 34,
    "start_time": "2022-04-07T14:41:27.334Z"
   },
   {
    "duration": 652,
    "start_time": "2022-04-07T14:41:27.371Z"
   },
   {
    "duration": 13,
    "start_time": "2022-04-07T14:41:28.026Z"
   },
   {
    "duration": 55,
    "start_time": "2022-04-07T14:41:28.042Z"
   },
   {
    "duration": 7,
    "start_time": "2022-04-07T14:41:28.099Z"
   },
   {
    "duration": 60,
    "start_time": "2022-04-07T14:41:28.108Z"
   },
   {
    "duration": 515,
    "start_time": "2022-04-07T14:41:28.170Z"
   },
   {
    "duration": 547,
    "start_time": "2022-04-07T14:41:28.694Z"
   },
   {
    "duration": 222,
    "start_time": "2022-04-07T14:41:29.243Z"
   },
   {
    "duration": 248,
    "start_time": "2022-04-07T14:41:29.467Z"
   },
   {
    "duration": 406,
    "start_time": "2022-04-07T14:41:29.717Z"
   },
   {
    "duration": 618,
    "start_time": "2022-04-07T14:41:30.125Z"
   },
   {
    "duration": 451,
    "start_time": "2022-04-07T14:41:30.745Z"
   },
   {
    "duration": 438,
    "start_time": "2022-04-07T14:41:31.198Z"
   },
   {
    "duration": 12,
    "start_time": "2022-04-07T14:41:31.638Z"
   },
   {
    "duration": 765,
    "start_time": "2022-04-07T14:41:31.652Z"
   },
   {
    "duration": 200,
    "start_time": "2022-04-07T14:41:32.419Z"
   },
   {
    "duration": 553,
    "start_time": "2022-04-07T14:41:32.621Z"
   },
   {
    "duration": 17,
    "start_time": "2022-04-07T14:41:33.176Z"
   },
   {
    "duration": 6,
    "start_time": "2022-04-07T14:41:33.196Z"
   },
   {
    "duration": 374,
    "start_time": "2022-04-07T14:41:33.204Z"
   },
   {
    "duration": 16,
    "start_time": "2022-04-07T14:41:33.580Z"
   },
   {
    "duration": 322,
    "start_time": "2022-04-07T14:41:33.598Z"
   },
   {
    "duration": 12,
    "start_time": "2022-04-07T14:41:33.922Z"
   },
   {
    "duration": 359,
    "start_time": "2022-04-07T14:41:33.936Z"
   },
   {
    "duration": 11,
    "start_time": "2022-04-07T14:41:34.297Z"
   },
   {
    "duration": 71,
    "start_time": "2022-04-07T14:41:34.310Z"
   },
   {
    "duration": 3,
    "start_time": "2022-04-07T14:41:34.383Z"
   },
   {
    "duration": 9,
    "start_time": "2022-04-07T14:41:34.388Z"
   },
   {
    "duration": 10,
    "start_time": "2022-04-07T14:41:34.398Z"
   },
   {
    "duration": 7,
    "start_time": "2022-04-07T14:41:34.411Z"
   },
   {
    "duration": 47,
    "start_time": "2022-04-07T14:41:34.420Z"
   },
   {
    "duration": 7,
    "start_time": "2022-04-07T14:41:34.470Z"
   },
   {
    "duration": 13,
    "start_time": "2022-04-07T14:41:34.479Z"
   },
   {
    "duration": 646,
    "start_time": "2022-04-07T14:42:10.175Z"
   },
   {
    "duration": 1436,
    "start_time": "2022-04-07T14:48:39.864Z"
   },
   {
    "duration": 25,
    "start_time": "2022-04-07T14:48:55.425Z"
   },
   {
    "duration": 27,
    "start_time": "2022-04-07T14:49:20.093Z"
   },
   {
    "duration": 972,
    "start_time": "2022-04-07T14:49:22.384Z"
   },
   {
    "duration": 26,
    "start_time": "2022-04-07T14:49:23.367Z"
   },
   {
    "duration": 33,
    "start_time": "2022-04-07T14:49:38.768Z"
   },
   {
    "duration": 46,
    "start_time": "2022-04-07T14:49:46.608Z"
   },
   {
    "duration": 46,
    "start_time": "2022-04-07T14:50:54.106Z"
   },
   {
    "duration": 45,
    "start_time": "2022-04-07T14:53:13.501Z"
   },
   {
    "duration": 19,
    "start_time": "2022-04-07T14:55:19.340Z"
   },
   {
    "duration": 21,
    "start_time": "2022-04-07T14:56:23.140Z"
   },
   {
    "duration": 4,
    "start_time": "2022-04-07T15:03:07.126Z"
   },
   {
    "duration": 24,
    "start_time": "2022-04-07T15:03:17.125Z"
   },
   {
    "duration": 33,
    "start_time": "2022-04-07T15:04:13.261Z"
   },
   {
    "duration": 36,
    "start_time": "2022-04-07T15:04:34.901Z"
   },
   {
    "duration": 4,
    "start_time": "2022-04-07T15:05:30.029Z"
   },
   {
    "duration": 11,
    "start_time": "2022-04-07T15:05:30.626Z"
   },
   {
    "duration": 3,
    "start_time": "2022-04-07T15:05:49.211Z"
   },
   {
    "duration": 89,
    "start_time": "2022-04-07T15:05:49.222Z"
   },
   {
    "duration": 61,
    "start_time": "2022-04-07T15:05:49.314Z"
   },
   {
    "duration": 37,
    "start_time": "2022-04-07T15:05:49.377Z"
   },
   {
    "duration": 125,
    "start_time": "2022-04-07T15:05:49.417Z"
   },
   {
    "duration": 36,
    "start_time": "2022-04-07T15:05:49.544Z"
   },
   {
    "duration": 5,
    "start_time": "2022-04-07T15:05:49.582Z"
   },
   {
    "duration": 7,
    "start_time": "2022-04-07T15:05:49.589Z"
   },
   {
    "duration": 14,
    "start_time": "2022-04-07T15:05:49.598Z"
   },
   {
    "duration": 10,
    "start_time": "2022-04-07T15:05:49.614Z"
   },
   {
    "duration": 48,
    "start_time": "2022-04-07T15:05:49.628Z"
   },
   {
    "duration": 37,
    "start_time": "2022-04-07T15:05:49.678Z"
   },
   {
    "duration": 12,
    "start_time": "2022-04-07T15:05:49.717Z"
   },
   {
    "duration": 74,
    "start_time": "2022-04-07T15:05:49.730Z"
   },
   {
    "duration": 32,
    "start_time": "2022-04-07T15:05:49.806Z"
   },
   {
    "duration": 38,
    "start_time": "2022-04-07T15:05:49.869Z"
   },
   {
    "duration": 60,
    "start_time": "2022-04-07T15:05:49.909Z"
   },
   {
    "duration": 6,
    "start_time": "2022-04-07T15:05:49.971Z"
   },
   {
    "duration": 39,
    "start_time": "2022-04-07T15:05:49.979Z"
   },
   {
    "duration": 46,
    "start_time": "2022-04-07T15:05:50.021Z"
   },
   {
    "duration": 36,
    "start_time": "2022-04-07T15:05:50.070Z"
   },
   {
    "duration": 4,
    "start_time": "2022-04-07T15:05:50.108Z"
   },
   {
    "duration": 586,
    "start_time": "2022-04-07T15:05:50.114Z"
   },
   {
    "duration": 9,
    "start_time": "2022-04-07T15:05:50.702Z"
   },
   {
    "duration": 55,
    "start_time": "2022-04-07T15:05:50.713Z"
   },
   {
    "duration": 7,
    "start_time": "2022-04-07T15:05:50.770Z"
   },
   {
    "duration": 35,
    "start_time": "2022-04-07T15:05:50.780Z"
   },
   {
    "duration": 453,
    "start_time": "2022-04-07T15:05:50.817Z"
   },
   {
    "duration": 499,
    "start_time": "2022-04-07T15:05:51.276Z"
   },
   {
    "duration": 328,
    "start_time": "2022-04-07T15:05:51.777Z"
   },
   {
    "duration": 251,
    "start_time": "2022-04-07T15:05:52.107Z"
   },
   {
    "duration": 426,
    "start_time": "2022-04-07T15:05:52.368Z"
   },
   {
    "duration": 523,
    "start_time": "2022-04-07T15:05:52.796Z"
   },
   {
    "duration": 417,
    "start_time": "2022-04-07T15:05:53.321Z"
   },
   {
    "duration": 438,
    "start_time": "2022-04-07T15:05:53.741Z"
   },
   {
    "duration": 13,
    "start_time": "2022-04-07T15:05:54.182Z"
   },
   {
    "duration": 942,
    "start_time": "2022-04-07T15:05:54.198Z"
   },
   {
    "duration": 204,
    "start_time": "2022-04-07T15:05:55.143Z"
   },
   {
    "duration": 478,
    "start_time": "2022-04-07T15:05:55.350Z"
   },
   {
    "duration": 19,
    "start_time": "2022-04-07T15:05:55.831Z"
   },
   {
    "duration": 8,
    "start_time": "2022-04-07T15:05:55.867Z"
   },
   {
    "duration": 352,
    "start_time": "2022-04-07T15:05:55.877Z"
   },
   {
    "duration": 16,
    "start_time": "2022-04-07T15:05:56.231Z"
   },
   {
    "duration": 339,
    "start_time": "2022-04-07T15:05:56.249Z"
   },
   {
    "duration": 13,
    "start_time": "2022-04-07T15:05:56.590Z"
   },
   {
    "duration": 374,
    "start_time": "2022-04-07T15:05:56.606Z"
   },
   {
    "duration": 12,
    "start_time": "2022-04-07T15:05:56.983Z"
   },
   {
    "duration": 71,
    "start_time": "2022-04-07T15:05:56.998Z"
   },
   {
    "duration": 4,
    "start_time": "2022-04-07T15:05:57.072Z"
   },
   {
    "duration": 7,
    "start_time": "2022-04-07T15:05:57.079Z"
   },
   {
    "duration": 9,
    "start_time": "2022-04-07T15:05:57.088Z"
   },
   {
    "duration": 7,
    "start_time": "2022-04-07T15:05:57.100Z"
   },
   {
    "duration": 60,
    "start_time": "2022-04-07T15:05:57.110Z"
   },
   {
    "duration": 36,
    "start_time": "2022-04-07T15:05:57.173Z"
   },
   {
    "duration": 77,
    "start_time": "2022-04-07T15:05:57.212Z"
   },
   {
    "duration": 34,
    "start_time": "2022-04-07T15:05:57.292Z"
   },
   {
    "duration": 45,
    "start_time": "2022-04-07T15:05:57.328Z"
   },
   {
    "duration": 18,
    "start_time": "2022-04-07T15:05:57.375Z"
   },
   {
    "duration": 14,
    "start_time": "2022-04-07T15:05:57.395Z"
   },
   {
    "duration": 58,
    "start_time": "2022-04-07T15:05:57.411Z"
   },
   {
    "duration": 11,
    "start_time": "2022-04-07T15:05:57.472Z"
   },
   {
    "duration": 231,
    "start_time": "2022-04-07T15:05:57.485Z"
   },
   {
    "duration": 11,
    "start_time": "2022-04-07T15:05:57.718Z"
   },
   {
    "duration": 11,
    "start_time": "2022-04-07T15:05:57.731Z"
   },
   {
    "duration": 432,
    "start_time": "2022-04-07T15:05:57.744Z"
   },
   {
    "duration": 612,
    "start_time": "2022-04-07T15:05:58.178Z"
   },
   {
    "duration": 384,
    "start_time": "2022-04-07T15:05:58.793Z"
   },
   {
    "duration": 451,
    "start_time": "2022-04-07T15:05:59.180Z"
   },
   {
    "duration": 427,
    "start_time": "2022-04-07T15:05:59.633Z"
   },
   {
    "duration": 575,
    "start_time": "2022-04-07T15:06:00.062Z"
   },
   {
    "duration": 415,
    "start_time": "2022-04-07T15:06:00.639Z"
   },
   {
    "duration": 428,
    "start_time": "2022-04-07T15:06:01.056Z"
   },
   {
    "duration": 4,
    "start_time": "2022-04-07T15:06:01.487Z"
   },
   {
    "duration": 16,
    "start_time": "2022-04-07T15:06:01.493Z"
   },
   {
    "duration": 9,
    "start_time": "2022-04-07T15:06:16.815Z"
   },
   {
    "duration": 74,
    "start_time": "2022-04-07T15:06:19.697Z"
   },
   {
    "duration": 9,
    "start_time": "2022-04-07T15:08:20.315Z"
   }
  ],
  "kernelspec": {
   "display_name": "Python 3 (ipykernel)",
   "language": "python",
   "name": "python3"
  },
  "language_info": {
   "codemirror_mode": {
    "name": "ipython",
    "version": 3
   },
   "file_extension": ".py",
   "mimetype": "text/x-python",
   "name": "python",
   "nbconvert_exporter": "python",
   "pygments_lexer": "ipython3",
   "version": "3.9.7"
  },
  "toc": {
   "base_numbering": 1,
   "nav_menu": {},
   "number_sections": true,
   "sideBar": true,
   "skip_h1_title": true,
   "title_cell": "Table of Contents",
   "title_sidebar": "Contents",
   "toc_cell": false,
   "toc_position": {},
   "toc_section_display": true,
   "toc_window_display": false
  }
 },
 "nbformat": 4,
 "nbformat_minor": 5
}
