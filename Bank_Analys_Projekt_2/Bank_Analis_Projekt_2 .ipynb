{
 "cells": [
  {
   "cell_type": "markdown",
   "id": "aef5b633",
   "metadata": {},
   "source": [
    "#  Влияние семейного положения и количества детей клиента на факт погашения кредита в срок."
   ]
  },
  {
   "cell_type": "markdown",
   "id": "683f49e0",
   "metadata": {},
   "source": [
    "**Цель исследования** — проверьте три гипотезы:\n",
    "1. Существует определенная зависимость между количеством детей и возвратом кредита в срок.\n",
    "2. Существует зависимость между семейным положением и возвратом кредита в срок. \n",
    "3. Существует зависимость между уровнем дохода и возвратом кредита в срок.\n",
    "4. Разные цели кредита по-разному влияют на его возврат в срок.\n",
    "\n",
    "**Ход исследования**\n",
    "\n",
    "Данные о о платёжеспособности клиентов получены из файла `/datasets/data.csv`. О качестве данных ничего не известно. Поэтому перед проверкой гипотез понадобится обзор данных. \n",
    "\n",
    "Данные будут проверны  на ошибки и оценено их влияние на исследование. Затем, на этапе предобработки исправляются самые критичные ошибки данных.\n",
    " \n",
    "Таким образом, исследование пройдёт в три этапа:\n",
    " 1. Обзор данных.\n",
    " 2. Предобработка данных.\n",
    " 3. Проверка гипотез."
   ]
  },
  {
   "cell_type": "markdown",
   "id": "cd91bd47",
   "metadata": {},
   "source": [
    "## 1 Обзор данных\n",
    "\n",
    "Первое представление о данных Банка.\n"
   ]
  },
  {
   "cell_type": "code",
   "execution_count": 1,
   "id": "80c30bc5",
   "metadata": {},
   "outputs": [],
   "source": [
    "import pandas as pd\n",
    "# импорт библиотеки pandas"
   ]
  },
  {
   "cell_type": "code",
   "execution_count": 2,
   "id": "4cac3206",
   "metadata": {},
   "outputs": [
    {
     "data": {
      "text/html": [
       "<div>\n",
       "<style scoped>\n",
       "    .dataframe tbody tr th:only-of-type {\n",
       "        vertical-align: middle;\n",
       "    }\n",
       "\n",
       "    .dataframe tbody tr th {\n",
       "        vertical-align: top;\n",
       "    }\n",
       "\n",
       "    .dataframe thead th {\n",
       "        text-align: right;\n",
       "    }\n",
       "</style>\n",
       "<table border=\"1\" class=\"dataframe\">\n",
       "  <thead>\n",
       "    <tr style=\"text-align: right;\">\n",
       "      <th></th>\n",
       "      <th>children</th>\n",
       "      <th>days_employed</th>\n",
       "      <th>dob_years</th>\n",
       "      <th>education</th>\n",
       "      <th>education_id</th>\n",
       "      <th>family_status</th>\n",
       "      <th>family_status_id</th>\n",
       "      <th>gender</th>\n",
       "      <th>income_type</th>\n",
       "      <th>debt</th>\n",
       "      <th>total_income</th>\n",
       "      <th>purpose</th>\n",
       "    </tr>\n",
       "  </thead>\n",
       "  <tbody>\n",
       "    <tr>\n",
       "      <th>0</th>\n",
       "      <td>1</td>\n",
       "      <td>-8437.673028</td>\n",
       "      <td>42</td>\n",
       "      <td>высшее</td>\n",
       "      <td>0</td>\n",
       "      <td>женат / замужем</td>\n",
       "      <td>0</td>\n",
       "      <td>F</td>\n",
       "      <td>сотрудник</td>\n",
       "      <td>0</td>\n",
       "      <td>253875.639453</td>\n",
       "      <td>покупка жилья</td>\n",
       "    </tr>\n",
       "    <tr>\n",
       "      <th>1</th>\n",
       "      <td>1</td>\n",
       "      <td>-4024.803754</td>\n",
       "      <td>36</td>\n",
       "      <td>среднее</td>\n",
       "      <td>1</td>\n",
       "      <td>женат / замужем</td>\n",
       "      <td>0</td>\n",
       "      <td>F</td>\n",
       "      <td>сотрудник</td>\n",
       "      <td>0</td>\n",
       "      <td>112080.014102</td>\n",
       "      <td>приобретение автомобиля</td>\n",
       "    </tr>\n",
       "    <tr>\n",
       "      <th>2</th>\n",
       "      <td>0</td>\n",
       "      <td>-5623.422610</td>\n",
       "      <td>33</td>\n",
       "      <td>Среднее</td>\n",
       "      <td>1</td>\n",
       "      <td>женат / замужем</td>\n",
       "      <td>0</td>\n",
       "      <td>M</td>\n",
       "      <td>сотрудник</td>\n",
       "      <td>0</td>\n",
       "      <td>145885.952297</td>\n",
       "      <td>покупка жилья</td>\n",
       "    </tr>\n",
       "    <tr>\n",
       "      <th>3</th>\n",
       "      <td>3</td>\n",
       "      <td>-4124.747207</td>\n",
       "      <td>32</td>\n",
       "      <td>среднее</td>\n",
       "      <td>1</td>\n",
       "      <td>женат / замужем</td>\n",
       "      <td>0</td>\n",
       "      <td>M</td>\n",
       "      <td>сотрудник</td>\n",
       "      <td>0</td>\n",
       "      <td>267628.550329</td>\n",
       "      <td>дополнительное образование</td>\n",
       "    </tr>\n",
       "    <tr>\n",
       "      <th>4</th>\n",
       "      <td>0</td>\n",
       "      <td>340266.072047</td>\n",
       "      <td>53</td>\n",
       "      <td>среднее</td>\n",
       "      <td>1</td>\n",
       "      <td>гражданский брак</td>\n",
       "      <td>1</td>\n",
       "      <td>F</td>\n",
       "      <td>пенсионер</td>\n",
       "      <td>0</td>\n",
       "      <td>158616.077870</td>\n",
       "      <td>сыграть свадьбу</td>\n",
       "    </tr>\n",
       "    <tr>\n",
       "      <th>5</th>\n",
       "      <td>0</td>\n",
       "      <td>-926.185831</td>\n",
       "      <td>27</td>\n",
       "      <td>высшее</td>\n",
       "      <td>0</td>\n",
       "      <td>гражданский брак</td>\n",
       "      <td>1</td>\n",
       "      <td>M</td>\n",
       "      <td>компаньон</td>\n",
       "      <td>0</td>\n",
       "      <td>255763.565419</td>\n",
       "      <td>покупка жилья</td>\n",
       "    </tr>\n",
       "    <tr>\n",
       "      <th>6</th>\n",
       "      <td>0</td>\n",
       "      <td>-2879.202052</td>\n",
       "      <td>43</td>\n",
       "      <td>высшее</td>\n",
       "      <td>0</td>\n",
       "      <td>женат / замужем</td>\n",
       "      <td>0</td>\n",
       "      <td>F</td>\n",
       "      <td>компаньон</td>\n",
       "      <td>0</td>\n",
       "      <td>240525.971920</td>\n",
       "      <td>операции с жильем</td>\n",
       "    </tr>\n",
       "    <tr>\n",
       "      <th>7</th>\n",
       "      <td>0</td>\n",
       "      <td>-152.779569</td>\n",
       "      <td>50</td>\n",
       "      <td>СРЕДНЕЕ</td>\n",
       "      <td>1</td>\n",
       "      <td>женат / замужем</td>\n",
       "      <td>0</td>\n",
       "      <td>M</td>\n",
       "      <td>сотрудник</td>\n",
       "      <td>0</td>\n",
       "      <td>135823.934197</td>\n",
       "      <td>образование</td>\n",
       "    </tr>\n",
       "    <tr>\n",
       "      <th>8</th>\n",
       "      <td>2</td>\n",
       "      <td>-6929.865299</td>\n",
       "      <td>35</td>\n",
       "      <td>ВЫСШЕЕ</td>\n",
       "      <td>0</td>\n",
       "      <td>гражданский брак</td>\n",
       "      <td>1</td>\n",
       "      <td>F</td>\n",
       "      <td>сотрудник</td>\n",
       "      <td>0</td>\n",
       "      <td>95856.832424</td>\n",
       "      <td>на проведение свадьбы</td>\n",
       "    </tr>\n",
       "    <tr>\n",
       "      <th>9</th>\n",
       "      <td>0</td>\n",
       "      <td>-2188.756445</td>\n",
       "      <td>41</td>\n",
       "      <td>среднее</td>\n",
       "      <td>1</td>\n",
       "      <td>женат / замужем</td>\n",
       "      <td>0</td>\n",
       "      <td>M</td>\n",
       "      <td>сотрудник</td>\n",
       "      <td>0</td>\n",
       "      <td>144425.938277</td>\n",
       "      <td>покупка жилья для семьи</td>\n",
       "    </tr>\n",
       "  </tbody>\n",
       "</table>\n",
       "</div>"
      ],
      "text/plain": [
       "   children  days_employed  dob_years education  education_id  \\\n",
       "0         1   -8437.673028         42    высшее             0   \n",
       "1         1   -4024.803754         36   среднее             1   \n",
       "2         0   -5623.422610         33   Среднее             1   \n",
       "3         3   -4124.747207         32   среднее             1   \n",
       "4         0  340266.072047         53   среднее             1   \n",
       "5         0    -926.185831         27    высшее             0   \n",
       "6         0   -2879.202052         43    высшее             0   \n",
       "7         0    -152.779569         50   СРЕДНЕЕ             1   \n",
       "8         2   -6929.865299         35    ВЫСШЕЕ             0   \n",
       "9         0   -2188.756445         41   среднее             1   \n",
       "\n",
       "      family_status  family_status_id gender income_type  debt   total_income  \\\n",
       "0   женат / замужем                 0      F   сотрудник     0  253875.639453   \n",
       "1   женат / замужем                 0      F   сотрудник     0  112080.014102   \n",
       "2   женат / замужем                 0      M   сотрудник     0  145885.952297   \n",
       "3   женат / замужем                 0      M   сотрудник     0  267628.550329   \n",
       "4  гражданский брак                 1      F   пенсионер     0  158616.077870   \n",
       "5  гражданский брак                 1      M   компаньон     0  255763.565419   \n",
       "6   женат / замужем                 0      F   компаньон     0  240525.971920   \n",
       "7   женат / замужем                 0      M   сотрудник     0  135823.934197   \n",
       "8  гражданский брак                 1      F   сотрудник     0   95856.832424   \n",
       "9   женат / замужем                 0      M   сотрудник     0  144425.938277   \n",
       "\n",
       "                      purpose  \n",
       "0               покупка жилья  \n",
       "1     приобретение автомобиля  \n",
       "2               покупка жилья  \n",
       "3  дополнительное образование  \n",
       "4             сыграть свадьбу  \n",
       "5               покупка жилья  \n",
       "6           операции с жильем  \n",
       "7                 образование  \n",
       "8       на проведение свадьбы  \n",
       "9     покупка жилья для семьи  "
      ]
     },
     "metadata": {},
     "output_type": "display_data"
    }
   ],
   "source": [
    "data = pd.read_csv('data_2.csv')\n",
    " # чтение файла с данными и сохранение в data\n",
    "display(data.head(10))\n",
    "# получение первых 10 строк таблицы data"
   ]
  },
  {
   "cell_type": "code",
   "execution_count": 3,
   "id": "15e277d6",
   "metadata": {},
   "outputs": [
    {
     "data": {
      "text/html": [
       "<div>\n",
       "<style scoped>\n",
       "    .dataframe tbody tr th:only-of-type {\n",
       "        vertical-align: middle;\n",
       "    }\n",
       "\n",
       "    .dataframe tbody tr th {\n",
       "        vertical-align: top;\n",
       "    }\n",
       "\n",
       "    .dataframe thead th {\n",
       "        text-align: right;\n",
       "    }\n",
       "</style>\n",
       "<table border=\"1\" class=\"dataframe\">\n",
       "  <thead>\n",
       "    <tr style=\"text-align: right;\">\n",
       "      <th></th>\n",
       "      <th>children</th>\n",
       "      <th>days_employed</th>\n",
       "      <th>dob_years</th>\n",
       "      <th>education</th>\n",
       "      <th>education_id</th>\n",
       "      <th>family_status</th>\n",
       "      <th>family_status_id</th>\n",
       "      <th>gender</th>\n",
       "      <th>income_type</th>\n",
       "      <th>debt</th>\n",
       "      <th>total_income</th>\n",
       "      <th>purpose</th>\n",
       "    </tr>\n",
       "  </thead>\n",
       "  <tbody>\n",
       "    <tr>\n",
       "      <th>21520</th>\n",
       "      <td>1</td>\n",
       "      <td>-4529.316663</td>\n",
       "      <td>43</td>\n",
       "      <td>среднее</td>\n",
       "      <td>1</td>\n",
       "      <td>гражданский брак</td>\n",
       "      <td>1</td>\n",
       "      <td>F</td>\n",
       "      <td>компаньон</td>\n",
       "      <td>0</td>\n",
       "      <td>224791.862382</td>\n",
       "      <td>операции с жильем</td>\n",
       "    </tr>\n",
       "    <tr>\n",
       "      <th>21521</th>\n",
       "      <td>0</td>\n",
       "      <td>343937.404131</td>\n",
       "      <td>67</td>\n",
       "      <td>среднее</td>\n",
       "      <td>1</td>\n",
       "      <td>женат / замужем</td>\n",
       "      <td>0</td>\n",
       "      <td>F</td>\n",
       "      <td>пенсионер</td>\n",
       "      <td>0</td>\n",
       "      <td>155999.806512</td>\n",
       "      <td>сделка с автомобилем</td>\n",
       "    </tr>\n",
       "    <tr>\n",
       "      <th>21522</th>\n",
       "      <td>1</td>\n",
       "      <td>-2113.346888</td>\n",
       "      <td>38</td>\n",
       "      <td>среднее</td>\n",
       "      <td>1</td>\n",
       "      <td>гражданский брак</td>\n",
       "      <td>1</td>\n",
       "      <td>M</td>\n",
       "      <td>сотрудник</td>\n",
       "      <td>1</td>\n",
       "      <td>89672.561153</td>\n",
       "      <td>недвижимость</td>\n",
       "    </tr>\n",
       "    <tr>\n",
       "      <th>21523</th>\n",
       "      <td>3</td>\n",
       "      <td>-3112.481705</td>\n",
       "      <td>38</td>\n",
       "      <td>среднее</td>\n",
       "      <td>1</td>\n",
       "      <td>женат / замужем</td>\n",
       "      <td>0</td>\n",
       "      <td>M</td>\n",
       "      <td>сотрудник</td>\n",
       "      <td>1</td>\n",
       "      <td>244093.050500</td>\n",
       "      <td>на покупку своего автомобиля</td>\n",
       "    </tr>\n",
       "    <tr>\n",
       "      <th>21524</th>\n",
       "      <td>2</td>\n",
       "      <td>-1984.507589</td>\n",
       "      <td>40</td>\n",
       "      <td>среднее</td>\n",
       "      <td>1</td>\n",
       "      <td>женат / замужем</td>\n",
       "      <td>0</td>\n",
       "      <td>F</td>\n",
       "      <td>сотрудник</td>\n",
       "      <td>0</td>\n",
       "      <td>82047.418899</td>\n",
       "      <td>на покупку автомобиля</td>\n",
       "    </tr>\n",
       "  </tbody>\n",
       "</table>\n",
       "</div>"
      ],
      "text/plain": [
       "       children  days_employed  dob_years education  education_id  \\\n",
       "21520         1   -4529.316663         43   среднее             1   \n",
       "21521         0  343937.404131         67   среднее             1   \n",
       "21522         1   -2113.346888         38   среднее             1   \n",
       "21523         3   -3112.481705         38   среднее             1   \n",
       "21524         2   -1984.507589         40   среднее             1   \n",
       "\n",
       "          family_status  family_status_id gender income_type  debt  \\\n",
       "21520  гражданский брак                 1      F   компаньон     0   \n",
       "21521   женат / замужем                 0      F   пенсионер     0   \n",
       "21522  гражданский брак                 1      M   сотрудник     1   \n",
       "21523   женат / замужем                 0      M   сотрудник     1   \n",
       "21524   женат / замужем                 0      F   сотрудник     0   \n",
       "\n",
       "        total_income                       purpose  \n",
       "21520  224791.862382             операции с жильем  \n",
       "21521  155999.806512          сделка с автомобилем  \n",
       "21522   89672.561153                  недвижимость  \n",
       "21523  244093.050500  на покупку своего автомобиля  \n",
       "21524   82047.418899         на покупку автомобиля  "
      ]
     },
     "execution_count": 3,
     "metadata": {},
     "output_type": "execute_result"
    }
   ],
   "source": [
    "data.tail()\n",
    "#получение последние 5 строк."
   ]
  },
  {
   "cell_type": "code",
   "execution_count": 4,
   "id": "8341efb8",
   "metadata": {},
   "outputs": [
    {
     "name": "stdout",
     "output_type": "stream",
     "text": [
      "<class 'pandas.core.frame.DataFrame'>\n",
      "RangeIndex: 21525 entries, 0 to 21524\n",
      "Data columns (total 12 columns):\n",
      " #   Column            Non-Null Count  Dtype  \n",
      "---  ------            --------------  -----  \n",
      " 0   children          21525 non-null  int64  \n",
      " 1   days_employed     19351 non-null  float64\n",
      " 2   dob_years         21525 non-null  int64  \n",
      " 3   education         21525 non-null  object \n",
      " 4   education_id      21525 non-null  int64  \n",
      " 5   family_status     21525 non-null  object \n",
      " 6   family_status_id  21525 non-null  int64  \n",
      " 7   gender            21525 non-null  object \n",
      " 8   income_type       21525 non-null  object \n",
      " 9   debt              21525 non-null  int64  \n",
      " 10  total_income      19351 non-null  float64\n",
      " 11  purpose           21525 non-null  object \n",
      "dtypes: float64(2), int64(5), object(5)\n",
      "memory usage: 2.0+ MB\n"
     ]
    }
   ],
   "source": [
    "data.info()\n",
    "# получение общей информации о данных в таблице data"
   ]
  },
  {
   "cell_type": "markdown",
   "id": "15959dcd",
   "metadata": {},
   "source": [
    "В таблице 12 столбцов. Тип данных в столбцах различается. Присутствует — `float64`(2), `int64`(5), `object`(5).\n",
    "\n",
    "Согласно документации к данным:\n",
    "* `children` — количество детей в семье\n",
    "* `days_employed` — общий трудовой стаж в днях\n",
    "* `dob_years` — возраст клиента в годах\n",
    "* `education` — уровень образования клиента\n",
    "* `education_id` — идентификатор уровня образования\n",
    "* `family_status` — семейное положение\n",
    "* `family_status_id` — идентификатор семейного положения\n",
    "* `gender` — пол клиента\n",
    "* `income_type` — тип занятости\n",
    "* `debt` — имел ли задолженность по возврату кредитов\n",
    "* `total_income` — ежемесячный доход\n",
    "* `purpose` — цель получения кредита\n",
    "\n",
    "В названиях колонок нарушений стиля не обнаружено.\n",
    "\n",
    "Количество значений в столбцах различается. Значит, в данных есть пропущенные значения."
   ]
  },
  {
   "cell_type": "markdown",
   "id": "c0f454bf",
   "metadata": {},
   "source": [
    "**Выводы**\n",
    "\n",
    "В каждой строке таблицы — данные о клиенте банка. Часть колонок относится непосредственно к информации по кредиту, например `debt` или`purpose`. Остальные данные рассказывают о пользователе: из какого он города, когда он слушал музыку. \n",
    "\n",
    "Предварительно можно утверждать, что, данных достаточно для проверки гипотез. Но встречаются пропуски в данных, а также артефакты в некоторых колонках, например отрицательноые значения в колонке трудового стажа.\n",
    "\n",
    "Чтобы двигаться дальше, нужно устранить проблемы в данных."
   ]
  },
  {
   "cell_type": "markdown",
   "id": "7fdae2f7",
   "metadata": {},
   "source": [
    "## 2 Предобработка данных"
   ]
  },
  {
   "cell_type": "markdown",
   "id": "98ab62ba",
   "metadata": {},
   "source": [
    "### 2.1 Исправление артефактов"
   ]
  },
  {
   "cell_type": "code",
   "execution_count": 5,
   "id": "95d9e486",
   "metadata": {},
   "outputs": [],
   "source": [
    "data['days_employed'] = abs(data['days_employed'])\n",
    "data['children'] = abs(data['children'])\n",
    "#Избавление от отрицательных значений в данных с помощью их модуля."
   ]
  },
  {
   "cell_type": "code",
   "execution_count": 6,
   "id": "61602449",
   "metadata": {
    "scrolled": true
   },
   "outputs": [
    {
     "data": {
      "text/html": [
       "<div>\n",
       "<style scoped>\n",
       "    .dataframe tbody tr th:only-of-type {\n",
       "        vertical-align: middle;\n",
       "    }\n",
       "\n",
       "    .dataframe tbody tr th {\n",
       "        vertical-align: top;\n",
       "    }\n",
       "\n",
       "    .dataframe thead th {\n",
       "        text-align: right;\n",
       "    }\n",
       "</style>\n",
       "<table border=\"1\" class=\"dataframe\">\n",
       "  <thead>\n",
       "    <tr style=\"text-align: right;\">\n",
       "      <th></th>\n",
       "      <th>children</th>\n",
       "      <th>days_employed</th>\n",
       "      <th>dob_years</th>\n",
       "      <th>education</th>\n",
       "      <th>education_id</th>\n",
       "      <th>family_status</th>\n",
       "      <th>family_status_id</th>\n",
       "      <th>gender</th>\n",
       "      <th>income_type</th>\n",
       "      <th>debt</th>\n",
       "      <th>total_income</th>\n",
       "      <th>purpose</th>\n",
       "    </tr>\n",
       "  </thead>\n",
       "  <tbody>\n",
       "    <tr>\n",
       "      <th>0</th>\n",
       "      <td>1</td>\n",
       "      <td>8437.673028</td>\n",
       "      <td>42</td>\n",
       "      <td>высшее</td>\n",
       "      <td>0</td>\n",
       "      <td>женат / замужем</td>\n",
       "      <td>0</td>\n",
       "      <td>F</td>\n",
       "      <td>сотрудник</td>\n",
       "      <td>0</td>\n",
       "      <td>253875.639453</td>\n",
       "      <td>покупка жилья</td>\n",
       "    </tr>\n",
       "    <tr>\n",
       "      <th>1</th>\n",
       "      <td>1</td>\n",
       "      <td>4024.803754</td>\n",
       "      <td>36</td>\n",
       "      <td>среднее</td>\n",
       "      <td>1</td>\n",
       "      <td>женат / замужем</td>\n",
       "      <td>0</td>\n",
       "      <td>F</td>\n",
       "      <td>сотрудник</td>\n",
       "      <td>0</td>\n",
       "      <td>112080.014102</td>\n",
       "      <td>приобретение автомобиля</td>\n",
       "    </tr>\n",
       "    <tr>\n",
       "      <th>2</th>\n",
       "      <td>0</td>\n",
       "      <td>5623.422610</td>\n",
       "      <td>33</td>\n",
       "      <td>Среднее</td>\n",
       "      <td>1</td>\n",
       "      <td>женат / замужем</td>\n",
       "      <td>0</td>\n",
       "      <td>M</td>\n",
       "      <td>сотрудник</td>\n",
       "      <td>0</td>\n",
       "      <td>145885.952297</td>\n",
       "      <td>покупка жилья</td>\n",
       "    </tr>\n",
       "    <tr>\n",
       "      <th>3</th>\n",
       "      <td>3</td>\n",
       "      <td>4124.747207</td>\n",
       "      <td>32</td>\n",
       "      <td>среднее</td>\n",
       "      <td>1</td>\n",
       "      <td>женат / замужем</td>\n",
       "      <td>0</td>\n",
       "      <td>M</td>\n",
       "      <td>сотрудник</td>\n",
       "      <td>0</td>\n",
       "      <td>267628.550329</td>\n",
       "      <td>дополнительное образование</td>\n",
       "    </tr>\n",
       "    <tr>\n",
       "      <th>4</th>\n",
       "      <td>0</td>\n",
       "      <td>340266.072047</td>\n",
       "      <td>53</td>\n",
       "      <td>среднее</td>\n",
       "      <td>1</td>\n",
       "      <td>гражданский брак</td>\n",
       "      <td>1</td>\n",
       "      <td>F</td>\n",
       "      <td>пенсионер</td>\n",
       "      <td>0</td>\n",
       "      <td>158616.077870</td>\n",
       "      <td>сыграть свадьбу</td>\n",
       "    </tr>\n",
       "  </tbody>\n",
       "</table>\n",
       "</div>"
      ],
      "text/plain": [
       "   children  days_employed  dob_years education  education_id  \\\n",
       "0         1    8437.673028         42    высшее             0   \n",
       "1         1    4024.803754         36   среднее             1   \n",
       "2         0    5623.422610         33   Среднее             1   \n",
       "3         3    4124.747207         32   среднее             1   \n",
       "4         0  340266.072047         53   среднее             1   \n",
       "\n",
       "      family_status  family_status_id gender income_type  debt   total_income  \\\n",
       "0   женат / замужем                 0      F   сотрудник     0  253875.639453   \n",
       "1   женат / замужем                 0      F   сотрудник     0  112080.014102   \n",
       "2   женат / замужем                 0      M   сотрудник     0  145885.952297   \n",
       "3   женат / замужем                 0      M   сотрудник     0  267628.550329   \n",
       "4  гражданский брак                 1      F   пенсионер     0  158616.077870   \n",
       "\n",
       "                      purpose  \n",
       "0               покупка жилья  \n",
       "1     приобретение автомобиля  \n",
       "2               покупка жилья  \n",
       "3  дополнительное образование  \n",
       "4             сыграть свадьбу  "
      ]
     },
     "execution_count": 6,
     "metadata": {},
     "output_type": "execute_result"
    }
   ],
   "source": [
    "data.head()\n",
    "# проверка результатов"
   ]
  },
  {
   "cell_type": "code",
   "execution_count": 7,
   "id": "baeea79a",
   "metadata": {},
   "outputs": [
    {
     "data": {
      "text/plain": [
       "76"
      ]
     },
     "execution_count": 7,
     "metadata": {},
     "output_type": "execute_result"
    }
   ],
   "source": [
    "data.loc[data['children'] == 20]['children'].count()\n",
    "# смотрим кол-во семей с 20тью детьми"
   ]
  },
  {
   "cell_type": "code",
   "execution_count": 8,
   "id": "53be00bc",
   "metadata": {},
   "outputs": [],
   "source": [
    "data.loc[data['children'] == 20] = 2\n",
    "#меняем число 20 на 2, предполагая, что случайно добавился 0"
   ]
  },
  {
   "cell_type": "code",
   "execution_count": 9,
   "id": "d7c4e8e6",
   "metadata": {},
   "outputs": [
    {
     "data": {
      "text/plain": [
       "0"
      ]
     },
     "execution_count": 9,
     "metadata": {},
     "output_type": "execute_result"
    }
   ],
   "source": [
    "data.loc[data['children'] == 20]['children'].count()\n",
    "# проверка"
   ]
  },
  {
   "cell_type": "code",
   "execution_count": 10,
   "id": "7d8143f2",
   "metadata": {},
   "outputs": [
    {
     "data": {
      "text/plain": [
       "100"
      ]
     },
     "execution_count": 10,
     "metadata": {},
     "output_type": "execute_result"
    }
   ],
   "source": [
    "data.loc[data['dob_years']==0]['dob_years'].count()"
   ]
  },
  {
   "cell_type": "code",
   "execution_count": 11,
   "id": "caf375cd",
   "metadata": {},
   "outputs": [],
   "source": [
    "data.loc[data['dob_years']==0,['dob_years']] = int(data['dob_years'].mean())"
   ]
  },
  {
   "cell_type": "code",
   "execution_count": 12,
   "id": "f7101034",
   "metadata": {},
   "outputs": [
    {
     "data": {
      "text/plain": [
       "0"
      ]
     },
     "execution_count": 12,
     "metadata": {},
     "output_type": "execute_result"
    }
   ],
   "source": [
    "data.loc[data['dob_years']==0]['dob_years'].count()"
   ]
  },
  {
   "cell_type": "markdown",
   "id": "eaeb169b",
   "metadata": {},
   "source": [
    "### 2.2 Пропуски значений"
   ]
  },
  {
   "cell_type": "code",
   "execution_count": 13,
   "id": "fef6e259",
   "metadata": {},
   "outputs": [
    {
     "data": {
      "text/plain": [
       "children               0\n",
       "days_employed       2165\n",
       "dob_years              0\n",
       "education              0\n",
       "education_id           0\n",
       "family_status          0\n",
       "family_status_id       0\n",
       "gender                 0\n",
       "income_type            0\n",
       "debt                   0\n",
       "total_income        2165\n",
       "purpose                0\n",
       "dtype: int64"
      ]
     },
     "execution_count": 13,
     "metadata": {},
     "output_type": "execute_result"
    }
   ],
   "source": [
    "data.isna().sum()\n",
    "# подсчёт пропусков"
   ]
  },
  {
   "cell_type": "code",
   "execution_count": 14,
   "id": "7c517dba",
   "metadata": {},
   "outputs": [
    {
     "data": {
      "text/plain": [
       "children            21525\n",
       "days_employed       19360\n",
       "dob_years           21525\n",
       "education           21525\n",
       "education_id        21525\n",
       "family_status       21525\n",
       "family_status_id    21525\n",
       "gender              21525\n",
       "income_type         21525\n",
       "debt                21525\n",
       "total_income        19360\n",
       "purpose             21525\n",
       "dtype: int64"
      ]
     },
     "execution_count": 14,
     "metadata": {},
     "output_type": "execute_result"
    }
   ],
   "source": [
    "data.count()"
   ]
  },
  {
   "cell_type": "code",
   "execution_count": 15,
   "id": "ad69d8c5",
   "metadata": {},
   "outputs": [
    {
     "data": {
      "text/plain": [
       "0.1"
      ]
     },
     "execution_count": 15,
     "metadata": {},
     "output_type": "execute_result"
    }
   ],
   "source": [
    "round(data['days_employed'].isna().sum() / data['children'].count(),2)\n",
    "#подсчет доли пропущенных значений"
   ]
  },
  {
   "cell_type": "markdown",
   "id": "42377d7e",
   "metadata": {},
   "source": [
    "Пропущенные значения составили 10%"
   ]
  },
  {
   "cell_type": "code",
   "execution_count": 16,
   "id": "e053651d",
   "metadata": {},
   "outputs": [],
   "source": [
    "data['days_employed'] = data['days_employed'].fillna(data['days_employed'].median())\n",
    "#замена пропущенных значений на медиану"
   ]
  },
  {
   "cell_type": "code",
   "execution_count": 17,
   "id": "de47f965",
   "metadata": {},
   "outputs": [],
   "source": [
    "data['total_income'] = data['total_income'].fillna(data['total_income'].median())\n",
    "#замена пропущенных значений на медиану"
   ]
  },
  {
   "cell_type": "code",
   "execution_count": 18,
   "id": "de0dee25",
   "metadata": {},
   "outputs": [
    {
     "data": {
      "text/plain": [
       "children            0\n",
       "days_employed       0\n",
       "dob_years           0\n",
       "education           0\n",
       "education_id        0\n",
       "family_status       0\n",
       "family_status_id    0\n",
       "gender              0\n",
       "income_type         0\n",
       "debt                0\n",
       "total_income        0\n",
       "purpose             0\n",
       "dtype: int64"
      ]
     },
     "execution_count": 18,
     "metadata": {},
     "output_type": "execute_result"
    }
   ],
   "source": [
    "data.isna().sum()\n",
    "# подсчёт пропусков"
   ]
  },
  {
   "cell_type": "markdown",
   "id": "06076e7f",
   "metadata": {},
   "source": [
    "**Причины:**\n",
    "1) Возможно уровень дохода и трудовой стаж не указаны, потому что эти люди были не работающими.\n",
    "2) Возможно это техническая ошибка.\n",
    "\n",
    "Заполнить нужно именно медианой, потому что она, в отличие от среднего не подается аномальным выбросам. А в случае с заработной платой и трудовым стажем такой разброс гарантирован."
   ]
  },
  {
   "cell_type": "markdown",
   "id": "20709adb",
   "metadata": {},
   "source": [
    "### 2.3 Перевод вещественных чисел в целые"
   ]
  },
  {
   "cell_type": "code",
   "execution_count": 19,
   "id": "0c7ad204",
   "metadata": {},
   "outputs": [],
   "source": [
    "data['total_income'] = data['total_income'].astype('int')\n",
    "data['days_employed'] = data['days_employed'].astype('int')"
   ]
  },
  {
   "cell_type": "code",
   "execution_count": 20,
   "id": "f5e12367",
   "metadata": {},
   "outputs": [
    {
     "name": "stdout",
     "output_type": "stream",
     "text": [
      "<class 'pandas.core.frame.DataFrame'>\n",
      "RangeIndex: 21525 entries, 0 to 21524\n",
      "Data columns (total 12 columns):\n",
      " #   Column            Non-Null Count  Dtype \n",
      "---  ------            --------------  ----- \n",
      " 0   children          21525 non-null  int64 \n",
      " 1   days_employed     21525 non-null  int32 \n",
      " 2   dob_years         21525 non-null  int64 \n",
      " 3   education         21525 non-null  object\n",
      " 4   education_id      21525 non-null  int64 \n",
      " 5   family_status     21525 non-null  object\n",
      " 6   family_status_id  21525 non-null  int64 \n",
      " 7   gender            21525 non-null  object\n",
      " 8   income_type       21525 non-null  object\n",
      " 9   debt              21525 non-null  int64 \n",
      " 10  total_income      21525 non-null  int32 \n",
      " 11  purpose           21525 non-null  object\n",
      "dtypes: int32(2), int64(5), object(5)\n",
      "memory usage: 1.8+ MB\n"
     ]
    }
   ],
   "source": [
    "data.info()\n",
    "#проверка"
   ]
  },
  {
   "cell_type": "markdown",
   "id": "f91daac1",
   "metadata": {},
   "source": [
    "### 2.4 Дубликаты"
   ]
  },
  {
   "cell_type": "code",
   "execution_count": 21,
   "id": "05783415",
   "metadata": {},
   "outputs": [
    {
     "data": {
      "text/plain": [
       "129"
      ]
     },
     "execution_count": 21,
     "metadata": {},
     "output_type": "execute_result"
    }
   ],
   "source": [
    "data.duplicated().sum()\n",
    "# подсчёт явных дубликатов"
   ]
  },
  {
   "cell_type": "code",
   "execution_count": 22,
   "id": "06600436",
   "metadata": {},
   "outputs": [],
   "source": [
    "data = data.drop_duplicates().reset_index(drop=True)\n",
    "# удаление явных дубликатов (с удалением старых индексов и формированием новых)"
   ]
  },
  {
   "cell_type": "code",
   "execution_count": 23,
   "id": "72d62082",
   "metadata": {},
   "outputs": [
    {
     "data": {
      "text/plain": [
       "0"
      ]
     },
     "execution_count": 23,
     "metadata": {},
     "output_type": "execute_result"
    }
   ],
   "source": [
    "data.duplicated().sum()\n",
    "# проверка на отсутствие дубликатов"
   ]
  },
  {
   "cell_type": "code",
   "execution_count": 24,
   "id": "63b94c45",
   "metadata": {},
   "outputs": [
    {
     "data": {
      "text/plain": [
       "среднее                13653\n",
       "высшее                  4698\n",
       "СРЕДНЕЕ                  770\n",
       "Среднее                  705\n",
       "неоконченное высшее      666\n",
       "ВЫСШЕЕ                   271\n",
       "Высшее                   268\n",
       "начальное                250\n",
       "Неоконченное высшее       47\n",
       "НЕОКОНЧЕННОЕ ВЫСШЕЕ       29\n",
       "НАЧАЛЬНОЕ                 17\n",
       "Начальное                 15\n",
       "ученая степень             4\n",
       "2                          1\n",
       "Ученая степень             1\n",
       "УЧЕНАЯ СТЕПЕНЬ             1\n",
       "Name: education, dtype: int64"
      ]
     },
     "execution_count": 24,
     "metadata": {},
     "output_type": "execute_result"
    }
   ],
   "source": [
    "data['education'].value_counts()\n",
    "# Просмотр уникальных названий"
   ]
  },
  {
   "cell_type": "code",
   "execution_count": 25,
   "id": "82d19e12",
   "metadata": {},
   "outputs": [],
   "source": [
    "def replace_wrong_values(wrong_values, correct_values):\n",
    "    for value in wrong_values:\n",
    "        data['education'] = data['education'].replace(value, correct_values)\n",
    "# Функция для замены неявных дубликатов"
   ]
  },
  {
   "cell_type": "code",
   "execution_count": 26,
   "id": "ce3af2f4",
   "metadata": {},
   "outputs": [],
   "source": [
    "duplicates = [\n",
    "    ['ВЫСШЕЕ', 'высшее'],\n",
    "    ['среднее','СРЕДНЕЕ'],\n",
    "    ['неоконченное высшее','НЕОКОНЧЕННОЕ ВЫСШЕЕ'],\n",
    "    ['начальное','НАЧАЛЬНОЕ'],\n",
    "    ['УЧЕНАЯ СТЕПЕНЬ', 'ученая степень']\n",
    "]\n",
    "name = ['Высшее','Среднее','Неоконченное высшее','Начальное','Ученая степень']"
   ]
  },
  {
   "cell_type": "code",
   "execution_count": 27,
   "id": "49efb0ad",
   "metadata": {},
   "outputs": [],
   "source": [
    "a = 0\n",
    "for duplicate in duplicates:\n",
    "    replace_wrong_values(duplicate, name[a])\n",
    "    a+=1\n",
    "#цикл с вызовом созданной функции"
   ]
  },
  {
   "cell_type": "code",
   "execution_count": 28,
   "id": "7042147d",
   "metadata": {},
   "outputs": [
    {
     "data": {
      "text/plain": [
       "Среднее                15128\n",
       "Высшее                  5237\n",
       "Неоконченное высшее      742\n",
       "Начальное                282\n",
       "Ученая степень             6\n",
       "2                          1\n",
       "Name: education, dtype: int64"
      ]
     },
     "execution_count": 28,
     "metadata": {},
     "output_type": "execute_result"
    }
   ],
   "source": [
    "data['education'].value_counts()\n",
    "# Проверка на неявные дубликаты"
   ]
  },
  {
   "cell_type": "markdown",
   "id": "801d3a8b",
   "metadata": {},
   "source": [
    "### 2.5 Создание двух новых датафреймов со столбцами:\n",
    "`education_id` и `education` — в первом;\n",
    "\n",
    "`family_status_id` и `family_status` — во втором."
   ]
  },
  {
   "cell_type": "code",
   "execution_count": 29,
   "id": "fee7938e",
   "metadata": {},
   "outputs": [
    {
     "data": {
      "text/html": [
       "<div>\n",
       "<style scoped>\n",
       "    .dataframe tbody tr th:only-of-type {\n",
       "        vertical-align: middle;\n",
       "    }\n",
       "\n",
       "    .dataframe tbody tr th {\n",
       "        vertical-align: top;\n",
       "    }\n",
       "\n",
       "    .dataframe thead th {\n",
       "        text-align: right;\n",
       "    }\n",
       "</style>\n",
       "<table border=\"1\" class=\"dataframe\">\n",
       "  <thead>\n",
       "    <tr style=\"text-align: right;\">\n",
       "      <th></th>\n",
       "      <th>education_id</th>\n",
       "      <th>education</th>\n",
       "    </tr>\n",
       "  </thead>\n",
       "  <tbody>\n",
       "    <tr>\n",
       "      <th>0</th>\n",
       "      <td>0</td>\n",
       "      <td>Высшее</td>\n",
       "    </tr>\n",
       "    <tr>\n",
       "      <th>1</th>\n",
       "      <td>1</td>\n",
       "      <td>Среднее</td>\n",
       "    </tr>\n",
       "    <tr>\n",
       "      <th>2</th>\n",
       "      <td>2</td>\n",
       "      <td>Неоконченное высшее</td>\n",
       "    </tr>\n",
       "    <tr>\n",
       "      <th>3</th>\n",
       "      <td>3</td>\n",
       "      <td>Начальное</td>\n",
       "    </tr>\n",
       "    <tr>\n",
       "      <th>4</th>\n",
       "      <td>2</td>\n",
       "      <td>2</td>\n",
       "    </tr>\n",
       "    <tr>\n",
       "      <th>5</th>\n",
       "      <td>4</td>\n",
       "      <td>Ученая степень</td>\n",
       "    </tr>\n",
       "  </tbody>\n",
       "</table>\n",
       "</div>"
      ],
      "text/plain": [
       "   education_id            education\n",
       "0             0               Высшее\n",
       "1             1              Среднее\n",
       "2             2  Неоконченное высшее\n",
       "3             3            Начальное\n",
       "4             2                    2\n",
       "5             4       Ученая степень"
      ]
     },
     "execution_count": 29,
     "metadata": {},
     "output_type": "execute_result"
    }
   ],
   "source": [
    "data_education = data[['education_id', 'education']]\n",
    "# создание первого датафрейма\n",
    "data_education = data_education.drop_duplicates().reset_index(drop=True)\n",
    "#удаление дупликатов\n",
    "data_education\n",
    "# Проверка"
   ]
  },
  {
   "cell_type": "code",
   "execution_count": 30,
   "id": "df086519",
   "metadata": {},
   "outputs": [
    {
     "data": {
      "text/html": [
       "<div>\n",
       "<style scoped>\n",
       "    .dataframe tbody tr th:only-of-type {\n",
       "        vertical-align: middle;\n",
       "    }\n",
       "\n",
       "    .dataframe tbody tr th {\n",
       "        vertical-align: top;\n",
       "    }\n",
       "\n",
       "    .dataframe thead th {\n",
       "        text-align: right;\n",
       "    }\n",
       "</style>\n",
       "<table border=\"1\" class=\"dataframe\">\n",
       "  <thead>\n",
       "    <tr style=\"text-align: right;\">\n",
       "      <th></th>\n",
       "      <th>family_status_id</th>\n",
       "      <th>family_status</th>\n",
       "    </tr>\n",
       "  </thead>\n",
       "  <tbody>\n",
       "    <tr>\n",
       "      <th>0</th>\n",
       "      <td>0</td>\n",
       "      <td>женат / замужем</td>\n",
       "    </tr>\n",
       "    <tr>\n",
       "      <th>1</th>\n",
       "      <td>1</td>\n",
       "      <td>гражданский брак</td>\n",
       "    </tr>\n",
       "    <tr>\n",
       "      <th>2</th>\n",
       "      <td>2</td>\n",
       "      <td>вдовец / вдова</td>\n",
       "    </tr>\n",
       "    <tr>\n",
       "      <th>3</th>\n",
       "      <td>3</td>\n",
       "      <td>в разводе</td>\n",
       "    </tr>\n",
       "    <tr>\n",
       "      <th>4</th>\n",
       "      <td>4</td>\n",
       "      <td>Не женат / не замужем</td>\n",
       "    </tr>\n",
       "    <tr>\n",
       "      <th>5</th>\n",
       "      <td>2</td>\n",
       "      <td>2</td>\n",
       "    </tr>\n",
       "  </tbody>\n",
       "</table>\n",
       "</div>"
      ],
      "text/plain": [
       "   family_status_id          family_status\n",
       "0                 0        женат / замужем\n",
       "1                 1       гражданский брак\n",
       "2                 2         вдовец / вдова\n",
       "3                 3              в разводе\n",
       "4                 4  Не женат / не замужем\n",
       "5                 2                      2"
      ]
     },
     "execution_count": 30,
     "metadata": {},
     "output_type": "execute_result"
    }
   ],
   "source": [
    "data_family_status = data[['family_status_id','family_status']]\n",
    "# создание второго датафреейма \n",
    "data_family_status = data_family_status.drop_duplicates().reset_index(drop=True)\n",
    "#удаление дупликатов\n",
    "data_family_status\n",
    "# Проверка"
   ]
  },
  {
   "cell_type": "code",
   "execution_count": 31,
   "id": "cdb6bae4",
   "metadata": {},
   "outputs": [
    {
     "data": {
      "text/html": [
       "<div>\n",
       "<style scoped>\n",
       "    .dataframe tbody tr th:only-of-type {\n",
       "        vertical-align: middle;\n",
       "    }\n",
       "\n",
       "    .dataframe tbody tr th {\n",
       "        vertical-align: top;\n",
       "    }\n",
       "\n",
       "    .dataframe thead th {\n",
       "        text-align: right;\n",
       "    }\n",
       "</style>\n",
       "<table border=\"1\" class=\"dataframe\">\n",
       "  <thead>\n",
       "    <tr style=\"text-align: right;\">\n",
       "      <th></th>\n",
       "      <th>children</th>\n",
       "      <th>days_employed</th>\n",
       "      <th>dob_years</th>\n",
       "      <th>education_id</th>\n",
       "      <th>family_status_id</th>\n",
       "      <th>gender</th>\n",
       "      <th>income_type</th>\n",
       "      <th>debt</th>\n",
       "      <th>total_income</th>\n",
       "      <th>purpose</th>\n",
       "    </tr>\n",
       "  </thead>\n",
       "  <tbody>\n",
       "    <tr>\n",
       "      <th>0</th>\n",
       "      <td>1</td>\n",
       "      <td>8437</td>\n",
       "      <td>42</td>\n",
       "      <td>0</td>\n",
       "      <td>0</td>\n",
       "      <td>F</td>\n",
       "      <td>сотрудник</td>\n",
       "      <td>0</td>\n",
       "      <td>253875</td>\n",
       "      <td>покупка жилья</td>\n",
       "    </tr>\n",
       "    <tr>\n",
       "      <th>1</th>\n",
       "      <td>1</td>\n",
       "      <td>4024</td>\n",
       "      <td>36</td>\n",
       "      <td>1</td>\n",
       "      <td>0</td>\n",
       "      <td>F</td>\n",
       "      <td>сотрудник</td>\n",
       "      <td>0</td>\n",
       "      <td>112080</td>\n",
       "      <td>приобретение автомобиля</td>\n",
       "    </tr>\n",
       "    <tr>\n",
       "      <th>2</th>\n",
       "      <td>0</td>\n",
       "      <td>5623</td>\n",
       "      <td>33</td>\n",
       "      <td>1</td>\n",
       "      <td>0</td>\n",
       "      <td>M</td>\n",
       "      <td>сотрудник</td>\n",
       "      <td>0</td>\n",
       "      <td>145885</td>\n",
       "      <td>покупка жилья</td>\n",
       "    </tr>\n",
       "    <tr>\n",
       "      <th>3</th>\n",
       "      <td>3</td>\n",
       "      <td>4124</td>\n",
       "      <td>32</td>\n",
       "      <td>1</td>\n",
       "      <td>0</td>\n",
       "      <td>M</td>\n",
       "      <td>сотрудник</td>\n",
       "      <td>0</td>\n",
       "      <td>267628</td>\n",
       "      <td>дополнительное образование</td>\n",
       "    </tr>\n",
       "    <tr>\n",
       "      <th>4</th>\n",
       "      <td>0</td>\n",
       "      <td>340266</td>\n",
       "      <td>53</td>\n",
       "      <td>1</td>\n",
       "      <td>1</td>\n",
       "      <td>F</td>\n",
       "      <td>пенсионер</td>\n",
       "      <td>0</td>\n",
       "      <td>158616</td>\n",
       "      <td>сыграть свадьбу</td>\n",
       "    </tr>\n",
       "  </tbody>\n",
       "</table>\n",
       "</div>"
      ],
      "text/plain": [
       "   children  days_employed  dob_years  education_id  family_status_id gender  \\\n",
       "0         1           8437         42             0                 0      F   \n",
       "1         1           4024         36             1                 0      F   \n",
       "2         0           5623         33             1                 0      M   \n",
       "3         3           4124         32             1                 0      M   \n",
       "4         0         340266         53             1                 1      F   \n",
       "\n",
       "  income_type  debt  total_income                     purpose  \n",
       "0   сотрудник     0        253875               покупка жилья  \n",
       "1   сотрудник     0        112080     приобретение автомобиля  \n",
       "2   сотрудник     0        145885               покупка жилья  \n",
       "3   сотрудник     0        267628  дополнительное образование  \n",
       "4   пенсионер     0        158616             сыграть свадьбу  "
      ]
     },
     "execution_count": 31,
     "metadata": {},
     "output_type": "execute_result"
    }
   ],
   "source": [
    "data = data.drop(['education', 'family_status'], axis = 1)\n",
    "#Удаление из исходного датафрейма столбцы education и family_status\n",
    "data.head()\n",
    "# Проверка"
   ]
  },
  {
   "cell_type": "markdown",
   "id": "dc2bdeb4",
   "metadata": {},
   "source": [
    "### 2.6 Создание столбца 'total_income_category' с категориями, на основании данных о заработке\n"
   ]
  },
  {
   "cell_type": "code",
   "execution_count": 32,
   "id": "bfc3f6e9",
   "metadata": {},
   "outputs": [],
   "source": [
    "def total_income_group(income):\n",
    "    if income <= 30000:\n",
    "        return 'E'\n",
    "    if income <= 50000:\n",
    "        return 'D'\n",
    "    if  income <= 200000:\n",
    "        return 'C'\n",
    "    if  income <= 1000000:\n",
    "        return 'B'\n",
    "    return 'A'\n",
    "#функция которая на основании данных из столбца total_income формирует новый столбец total_income_category "
   ]
  },
  {
   "cell_type": "code",
   "execution_count": 33,
   "id": "2adcfc86",
   "metadata": {},
   "outputs": [],
   "source": [
    "data['total_income_category'] = data['total_income'].apply(total_income_group)\n",
    "# приминение функции "
   ]
  },
  {
   "cell_type": "code",
   "execution_count": 34,
   "id": "e9b0d103",
   "metadata": {},
   "outputs": [
    {
     "data": {
      "text/html": [
       "<div>\n",
       "<style scoped>\n",
       "    .dataframe tbody tr th:only-of-type {\n",
       "        vertical-align: middle;\n",
       "    }\n",
       "\n",
       "    .dataframe tbody tr th {\n",
       "        vertical-align: top;\n",
       "    }\n",
       "\n",
       "    .dataframe thead th {\n",
       "        text-align: right;\n",
       "    }\n",
       "</style>\n",
       "<table border=\"1\" class=\"dataframe\">\n",
       "  <thead>\n",
       "    <tr style=\"text-align: right;\">\n",
       "      <th></th>\n",
       "      <th>children</th>\n",
       "      <th>days_employed</th>\n",
       "      <th>dob_years</th>\n",
       "      <th>education_id</th>\n",
       "      <th>family_status_id</th>\n",
       "      <th>gender</th>\n",
       "      <th>income_type</th>\n",
       "      <th>debt</th>\n",
       "      <th>total_income</th>\n",
       "      <th>purpose</th>\n",
       "      <th>total_income_category</th>\n",
       "    </tr>\n",
       "  </thead>\n",
       "  <tbody>\n",
       "    <tr>\n",
       "      <th>0</th>\n",
       "      <td>1</td>\n",
       "      <td>8437</td>\n",
       "      <td>42</td>\n",
       "      <td>0</td>\n",
       "      <td>0</td>\n",
       "      <td>F</td>\n",
       "      <td>сотрудник</td>\n",
       "      <td>0</td>\n",
       "      <td>253875</td>\n",
       "      <td>покупка жилья</td>\n",
       "      <td>B</td>\n",
       "    </tr>\n",
       "    <tr>\n",
       "      <th>1</th>\n",
       "      <td>1</td>\n",
       "      <td>4024</td>\n",
       "      <td>36</td>\n",
       "      <td>1</td>\n",
       "      <td>0</td>\n",
       "      <td>F</td>\n",
       "      <td>сотрудник</td>\n",
       "      <td>0</td>\n",
       "      <td>112080</td>\n",
       "      <td>приобретение автомобиля</td>\n",
       "      <td>C</td>\n",
       "    </tr>\n",
       "    <tr>\n",
       "      <th>2</th>\n",
       "      <td>0</td>\n",
       "      <td>5623</td>\n",
       "      <td>33</td>\n",
       "      <td>1</td>\n",
       "      <td>0</td>\n",
       "      <td>M</td>\n",
       "      <td>сотрудник</td>\n",
       "      <td>0</td>\n",
       "      <td>145885</td>\n",
       "      <td>покупка жилья</td>\n",
       "      <td>C</td>\n",
       "    </tr>\n",
       "    <tr>\n",
       "      <th>3</th>\n",
       "      <td>3</td>\n",
       "      <td>4124</td>\n",
       "      <td>32</td>\n",
       "      <td>1</td>\n",
       "      <td>0</td>\n",
       "      <td>M</td>\n",
       "      <td>сотрудник</td>\n",
       "      <td>0</td>\n",
       "      <td>267628</td>\n",
       "      <td>дополнительное образование</td>\n",
       "      <td>B</td>\n",
       "    </tr>\n",
       "    <tr>\n",
       "      <th>4</th>\n",
       "      <td>0</td>\n",
       "      <td>340266</td>\n",
       "      <td>53</td>\n",
       "      <td>1</td>\n",
       "      <td>1</td>\n",
       "      <td>F</td>\n",
       "      <td>пенсионер</td>\n",
       "      <td>0</td>\n",
       "      <td>158616</td>\n",
       "      <td>сыграть свадьбу</td>\n",
       "      <td>C</td>\n",
       "    </tr>\n",
       "  </tbody>\n",
       "</table>\n",
       "</div>"
      ],
      "text/plain": [
       "   children  days_employed  dob_years  education_id  family_status_id gender  \\\n",
       "0         1           8437         42             0                 0      F   \n",
       "1         1           4024         36             1                 0      F   \n",
       "2         0           5623         33             1                 0      M   \n",
       "3         3           4124         32             1                 0      M   \n",
       "4         0         340266         53             1                 1      F   \n",
       "\n",
       "  income_type  debt  total_income                     purpose  \\\n",
       "0   сотрудник     0        253875               покупка жилья   \n",
       "1   сотрудник     0        112080     приобретение автомобиля   \n",
       "2   сотрудник     0        145885               покупка жилья   \n",
       "3   сотрудник     0        267628  дополнительное образование   \n",
       "4   пенсионер     0        158616             сыграть свадьбу   \n",
       "\n",
       "  total_income_category  \n",
       "0                     B  \n",
       "1                     C  \n",
       "2                     C  \n",
       "3                     B  \n",
       "4                     C  "
      ]
     },
     "execution_count": 34,
     "metadata": {},
     "output_type": "execute_result"
    }
   ],
   "source": [
    "data.head()\n",
    "# проверка"
   ]
  },
  {
   "cell_type": "markdown",
   "id": "bb30580a",
   "metadata": {},
   "source": [
    "###  2.7 Создание столбца с типами операций"
   ]
  },
  {
   "cell_type": "code",
   "execution_count": 35,
   "id": "e66f9a7e",
   "metadata": {},
   "outputs": [
    {
     "data": {
      "text/plain": [
       "array(['покупка жилья', 'приобретение автомобиля',\n",
       "       'дополнительное образование', 'сыграть свадьбу',\n",
       "       'операции с жильем', 'образование', 'на проведение свадьбы',\n",
       "       'покупка жилья для семьи', 'покупка недвижимости',\n",
       "       'покупка коммерческой недвижимости', 'покупка жилой недвижимости',\n",
       "       'строительство собственной недвижимости', 'недвижимость',\n",
       "       'строительство недвижимости', 'на покупку подержанного автомобиля',\n",
       "       'на покупку своего автомобиля',\n",
       "       'операции с коммерческой недвижимостью',\n",
       "       'строительство жилой недвижимости', 'жилье',\n",
       "       'операции со своей недвижимостью', 'автомобили',\n",
       "       'заняться образованием', 'сделка с подержанным автомобилем',\n",
       "       'получение образования', 'автомобиль', 'свадьба',\n",
       "       'получение дополнительного образования', 'покупка своего жилья',\n",
       "       'операции с недвижимостью', 'получение высшего образования',\n",
       "       'свой автомобиль', 'сделка с автомобилем',\n",
       "       'профильное образование', 'высшее образование',\n",
       "       'покупка жилья для сдачи', 'на покупку автомобиля', 'ремонт жилью',\n",
       "       'заняться высшим образованием', 2], dtype=object)"
      ]
     },
     "execution_count": 35,
     "metadata": {},
     "output_type": "execute_result"
    }
   ],
   "source": [
    "data['purpose'].unique()\n",
    "# просмотр униальных значений"
   ]
  },
  {
   "cell_type": "code",
   "execution_count": 36,
   "id": "bfce2811",
   "metadata": {},
   "outputs": [],
   "source": [
    "duplicates = [\n",
    "    ['приобретение автомобиля', 'на покупку подержанного автомобиля','на покупку своего автомобиля','автомобили','сделка с подержанным автомобилем','автомобиль', 'свой автомобиль', 'сделка с автомобилем','на покупку автомобиля'],\n",
    "    ['покупка жилья','операции с жильем','покупка жилья для семьи','покупка жилья для семьи', 'покупка недвижимости','покупка коммерческой недвижимости', 'покупка жилой недвижимости','строительство собственной недвижимости', 'недвижимость','строительство недвижимости','операции с коммерческой недвижимостью','строительство жилой недвижимости', 'жилье','операции со своей недвижимостью','покупка своего жилья','операции с недвижимостью','ремонт жилью'],\n",
    "    ['сыграть свадьбу','на проведение свадьбы','свадьба'],\n",
    "    ['дополнительное образование','образование','заняться образованием','получение образования','получение дополнительного образования','получение высшего образования','профильное образование', 'высшее образование','заняться высшим образованием']\n",
    "]\n",
    "name = ['операции с автомобилем','операции с недвижимостью','проведение свадьбы','получение образования']\n",
    "#создание списков для функции"
   ]
  },
  {
   "cell_type": "code",
   "execution_count": 37,
   "id": "24ed9997",
   "metadata": {},
   "outputs": [],
   "source": [
    "def apply_category(value):\n",
    "    a = [[]]\n",
    "    if value in duplicates[0]:\n",
    "        return name [0]\n",
    "    if value in duplicates[1]:\n",
    "        return name [1]\n",
    "    if value in duplicates[2]:\n",
    "        return name [2]\n",
    "    if value in duplicates[3]:\n",
    "        return name [3]\n",
    "#создание функции"
   ]
  },
  {
   "cell_type": "code",
   "execution_count": 38,
   "id": "9ee0403d",
   "metadata": {},
   "outputs": [],
   "source": [
    "data['purpose_category'] = data['purpose'].apply(apply_category)\n",
    "# применение функции"
   ]
  },
  {
   "cell_type": "code",
   "execution_count": 39,
   "id": "1f533cc2",
   "metadata": {},
   "outputs": [
    {
     "data": {
      "text/html": [
       "<div>\n",
       "<style scoped>\n",
       "    .dataframe tbody tr th:only-of-type {\n",
       "        vertical-align: middle;\n",
       "    }\n",
       "\n",
       "    .dataframe tbody tr th {\n",
       "        vertical-align: top;\n",
       "    }\n",
       "\n",
       "    .dataframe thead th {\n",
       "        text-align: right;\n",
       "    }\n",
       "</style>\n",
       "<table border=\"1\" class=\"dataframe\">\n",
       "  <thead>\n",
       "    <tr style=\"text-align: right;\">\n",
       "      <th></th>\n",
       "      <th>children</th>\n",
       "      <th>days_employed</th>\n",
       "      <th>dob_years</th>\n",
       "      <th>education_id</th>\n",
       "      <th>family_status_id</th>\n",
       "      <th>gender</th>\n",
       "      <th>income_type</th>\n",
       "      <th>debt</th>\n",
       "      <th>total_income</th>\n",
       "      <th>purpose</th>\n",
       "      <th>total_income_category</th>\n",
       "      <th>purpose_category</th>\n",
       "    </tr>\n",
       "  </thead>\n",
       "  <tbody>\n",
       "    <tr>\n",
       "      <th>0</th>\n",
       "      <td>1</td>\n",
       "      <td>8437</td>\n",
       "      <td>42</td>\n",
       "      <td>0</td>\n",
       "      <td>0</td>\n",
       "      <td>F</td>\n",
       "      <td>сотрудник</td>\n",
       "      <td>0</td>\n",
       "      <td>253875</td>\n",
       "      <td>покупка жилья</td>\n",
       "      <td>B</td>\n",
       "      <td>операции с недвижимостью</td>\n",
       "    </tr>\n",
       "    <tr>\n",
       "      <th>1</th>\n",
       "      <td>1</td>\n",
       "      <td>4024</td>\n",
       "      <td>36</td>\n",
       "      <td>1</td>\n",
       "      <td>0</td>\n",
       "      <td>F</td>\n",
       "      <td>сотрудник</td>\n",
       "      <td>0</td>\n",
       "      <td>112080</td>\n",
       "      <td>приобретение автомобиля</td>\n",
       "      <td>C</td>\n",
       "      <td>операции с автомобилем</td>\n",
       "    </tr>\n",
       "    <tr>\n",
       "      <th>2</th>\n",
       "      <td>0</td>\n",
       "      <td>5623</td>\n",
       "      <td>33</td>\n",
       "      <td>1</td>\n",
       "      <td>0</td>\n",
       "      <td>M</td>\n",
       "      <td>сотрудник</td>\n",
       "      <td>0</td>\n",
       "      <td>145885</td>\n",
       "      <td>покупка жилья</td>\n",
       "      <td>C</td>\n",
       "      <td>операции с недвижимостью</td>\n",
       "    </tr>\n",
       "    <tr>\n",
       "      <th>3</th>\n",
       "      <td>3</td>\n",
       "      <td>4124</td>\n",
       "      <td>32</td>\n",
       "      <td>1</td>\n",
       "      <td>0</td>\n",
       "      <td>M</td>\n",
       "      <td>сотрудник</td>\n",
       "      <td>0</td>\n",
       "      <td>267628</td>\n",
       "      <td>дополнительное образование</td>\n",
       "      <td>B</td>\n",
       "      <td>получение образования</td>\n",
       "    </tr>\n",
       "    <tr>\n",
       "      <th>4</th>\n",
       "      <td>0</td>\n",
       "      <td>340266</td>\n",
       "      <td>53</td>\n",
       "      <td>1</td>\n",
       "      <td>1</td>\n",
       "      <td>F</td>\n",
       "      <td>пенсионер</td>\n",
       "      <td>0</td>\n",
       "      <td>158616</td>\n",
       "      <td>сыграть свадьбу</td>\n",
       "      <td>C</td>\n",
       "      <td>проведение свадьбы</td>\n",
       "    </tr>\n",
       "  </tbody>\n",
       "</table>\n",
       "</div>"
      ],
      "text/plain": [
       "   children  days_employed  dob_years  education_id  family_status_id gender  \\\n",
       "0         1           8437         42             0                 0      F   \n",
       "1         1           4024         36             1                 0      F   \n",
       "2         0           5623         33             1                 0      M   \n",
       "3         3           4124         32             1                 0      M   \n",
       "4         0         340266         53             1                 1      F   \n",
       "\n",
       "  income_type  debt  total_income                     purpose  \\\n",
       "0   сотрудник     0        253875               покупка жилья   \n",
       "1   сотрудник     0        112080     приобретение автомобиля   \n",
       "2   сотрудник     0        145885               покупка жилья   \n",
       "3   сотрудник     0        267628  дополнительное образование   \n",
       "4   пенсионер     0        158616             сыграть свадьбу   \n",
       "\n",
       "  total_income_category          purpose_category  \n",
       "0                     B  операции с недвижимостью  \n",
       "1                     C    операции с автомобилем  \n",
       "2                     C  операции с недвижимостью  \n",
       "3                     B     получение образования  \n",
       "4                     C        проведение свадьбы  "
      ]
     },
     "execution_count": 39,
     "metadata": {},
     "output_type": "execute_result"
    }
   ],
   "source": [
    "data.head()\n",
    "# проверка"
   ]
  },
  {
   "cell_type": "markdown",
   "id": "0bded436",
   "metadata": {},
   "source": [
    "**Выводы**\n",
    "\n",
    "Предобработка обнаружила четыре проблемы в данных:\n",
    "\n",
    "- артефакты (отрицательные и аномально высокие значения),\n",
    "- пропущенные значения,\n",
    "- дубликаты — явные и неявные.\n",
    "- вещественные числа вместо целых\n",
    "\n",
    "Без данных проблем исследование станет более точным.\n",
    "\n",
    "Теперь можно перейти к проверке гипотез. "
   ]
  },
  {
   "cell_type": "markdown",
   "id": "bd7bbdc5",
   "metadata": {},
   "source": [
    "##  3 Проверка гипотез"
   ]
  },
  {
   "cell_type": "markdown",
   "id": "c075791a",
   "metadata": {},
   "source": [
    "##  3.1 Наличие зависимости между количеством детей и возвратом кредита в срок"
   ]
  },
  {
   "cell_type": "code",
   "execution_count": 40,
   "id": "6cfddfd7",
   "metadata": {},
   "outputs": [
    {
     "data": {
      "text/html": [
       "<div>\n",
       "<style scoped>\n",
       "    .dataframe tbody tr th:only-of-type {\n",
       "        vertical-align: middle;\n",
       "    }\n",
       "\n",
       "    .dataframe tbody tr th {\n",
       "        vertical-align: top;\n",
       "    }\n",
       "\n",
       "    .dataframe thead tr th {\n",
       "        text-align: left;\n",
       "    }\n",
       "\n",
       "    .dataframe thead tr:last-of-type th {\n",
       "        text-align: right;\n",
       "    }\n",
       "</style>\n",
       "<table border=\"1\" class=\"dataframe\">\n",
       "  <thead>\n",
       "    <tr>\n",
       "      <th></th>\n",
       "      <th colspan=\"2\" halign=\"left\">debt</th>\n",
       "      <th>share</th>\n",
       "    </tr>\n",
       "    <tr>\n",
       "      <th></th>\n",
       "      <th>count</th>\n",
       "      <th>sum</th>\n",
       "      <th></th>\n",
       "    </tr>\n",
       "    <tr>\n",
       "      <th>children</th>\n",
       "      <th></th>\n",
       "      <th></th>\n",
       "      <th></th>\n",
       "    </tr>\n",
       "  </thead>\n",
       "  <tbody>\n",
       "    <tr>\n",
       "      <th>0</th>\n",
       "      <td>14107</td>\n",
       "      <td>1063</td>\n",
       "      <td>0.08</td>\n",
       "    </tr>\n",
       "    <tr>\n",
       "      <th>1</th>\n",
       "      <td>4856</td>\n",
       "      <td>445</td>\n",
       "      <td>0.09</td>\n",
       "    </tr>\n",
       "    <tr>\n",
       "      <th>2</th>\n",
       "      <td>2053</td>\n",
       "      <td>196</td>\n",
       "      <td>0.10</td>\n",
       "    </tr>\n",
       "    <tr>\n",
       "      <th>3</th>\n",
       "      <td>330</td>\n",
       "      <td>27</td>\n",
       "      <td>0.08</td>\n",
       "    </tr>\n",
       "    <tr>\n",
       "      <th>4</th>\n",
       "      <td>41</td>\n",
       "      <td>4</td>\n",
       "      <td>0.10</td>\n",
       "    </tr>\n",
       "    <tr>\n",
       "      <th>5</th>\n",
       "      <td>9</td>\n",
       "      <td>0</td>\n",
       "      <td>0.00</td>\n",
       "    </tr>\n",
       "  </tbody>\n",
       "</table>\n",
       "</div>"
      ],
      "text/plain": [
       "           debt       share\n",
       "          count   sum      \n",
       "children                   \n",
       "0         14107  1063  0.08\n",
       "1          4856   445  0.09\n",
       "2          2053   196  0.10\n",
       "3           330    27  0.08\n",
       "4            41     4  0.10\n",
       "5             9     0  0.00"
      ]
     },
     "execution_count": 40,
     "metadata": {},
     "output_type": "execute_result"
    }
   ],
   "source": [
    "data_children_debt = data.groupby('children').agg({'debt':['count', 'sum']})\n",
    "\n",
    "data_children_debt['share'] = round(data_children_debt['debt']['sum'] / data_children_debt['debt']['count'], 2)\n",
    "data_children_debt"
   ]
  },
  {
   "cell_type": "markdown",
   "id": "abbda36f",
   "metadata": {},
   "source": [
    "**Выводы**\n",
    "На основании проверки гипотезы можно сделать следующий вывод:\n",
    "* Количество детей не влияет на возврат кредита в срок, так как процент имеющих задолженность в разных категориях различается на несколько процентов.\n",
    "\n",
    "Таким образом, первая гипотеза не подтвердилась."
   ]
  },
  {
   "cell_type": "markdown",
   "id": "b3e41c19",
   "metadata": {},
   "source": [
    "##  3.2 Наличие зависимости между семейным положением и возвратом кредита в срок"
   ]
  },
  {
   "cell_type": "code",
   "execution_count": 41,
   "id": "9bd802c0",
   "metadata": {},
   "outputs": [],
   "source": [
    "family_status_debt = data.groupby('family_status_id').agg({'debt':['sum','count']})\n",
    "# гуппировка данных столбца 'debt' по столбцу 'family_status_id' и применение к нему функций 'sum','count'"
   ]
  },
  {
   "cell_type": "code",
   "execution_count": 42,
   "id": "9570e8de",
   "metadata": {},
   "outputs": [],
   "source": [
    "family_status_debt['share'] = round(family_status_debt['debt']['sum'] / family_status_debt['debt']['count'], 2)\n",
    "# создание столбца 'share' с результатом деления данных из столбца 'debt'"
   ]
  },
  {
   "cell_type": "code",
   "execution_count": 43,
   "id": "7bff502b",
   "metadata": {},
   "outputs": [
    {
     "data": {
      "text/html": [
       "<div>\n",
       "<style scoped>\n",
       "    .dataframe tbody tr th:only-of-type {\n",
       "        vertical-align: middle;\n",
       "    }\n",
       "\n",
       "    .dataframe tbody tr th {\n",
       "        vertical-align: top;\n",
       "    }\n",
       "\n",
       "    .dataframe thead tr th {\n",
       "        text-align: left;\n",
       "    }\n",
       "\n",
       "    .dataframe thead tr:last-of-type th {\n",
       "        text-align: right;\n",
       "    }\n",
       "</style>\n",
       "<table border=\"1\" class=\"dataframe\">\n",
       "  <thead>\n",
       "    <tr>\n",
       "      <th></th>\n",
       "      <th colspan=\"2\" halign=\"left\">debt</th>\n",
       "      <th>share</th>\n",
       "    </tr>\n",
       "    <tr>\n",
       "      <th></th>\n",
       "      <th>sum</th>\n",
       "      <th>count</th>\n",
       "      <th></th>\n",
       "    </tr>\n",
       "    <tr>\n",
       "      <th>family_status_id</th>\n",
       "      <th></th>\n",
       "      <th></th>\n",
       "      <th></th>\n",
       "    </tr>\n",
       "  </thead>\n",
       "  <tbody>\n",
       "    <tr>\n",
       "      <th>0</th>\n",
       "      <td>928</td>\n",
       "      <td>12295</td>\n",
       "      <td>0.08</td>\n",
       "    </tr>\n",
       "    <tr>\n",
       "      <th>1</th>\n",
       "      <td>385</td>\n",
       "      <td>4151</td>\n",
       "      <td>0.09</td>\n",
       "    </tr>\n",
       "    <tr>\n",
       "      <th>2</th>\n",
       "      <td>65</td>\n",
       "      <td>956</td>\n",
       "      <td>0.07</td>\n",
       "    </tr>\n",
       "    <tr>\n",
       "      <th>3</th>\n",
       "      <td>84</td>\n",
       "      <td>1193</td>\n",
       "      <td>0.07</td>\n",
       "    </tr>\n",
       "    <tr>\n",
       "      <th>4</th>\n",
       "      <td>273</td>\n",
       "      <td>2801</td>\n",
       "      <td>0.10</td>\n",
       "    </tr>\n",
       "  </tbody>\n",
       "</table>\n",
       "</div>"
      ],
      "text/plain": [
       "                 debt        share\n",
       "                  sum  count      \n",
       "family_status_id                  \n",
       "0                 928  12295  0.08\n",
       "1                 385   4151  0.09\n",
       "2                  65    956  0.07\n",
       "3                  84   1193  0.07\n",
       "4                 273   2801  0.10"
      ]
     },
     "execution_count": 43,
     "metadata": {},
     "output_type": "execute_result"
    }
   ],
   "source": [
    "family_status_debt\n",
    "# проверка"
   ]
  },
  {
   "cell_type": "code",
   "execution_count": 44,
   "id": "5700816d",
   "metadata": {},
   "outputs": [
    {
     "name": "stderr",
     "output_type": "stream",
     "text": [
      "C:\\Users\\43307\\anaconda3\\lib\\site-packages\\pandas\\core\\frame.py:9190: FutureWarning: merging between different levels is deprecated and will be removed in a future version. (1 levels on the left,2 on the right)\n",
      "  return merge(\n"
     ]
    }
   ],
   "source": [
    "family_status_debt = data_family_status.merge(family_status_debt, on='family_status_id', how='left')\n",
    "# объединение двух татафреймов по столбцу 'family_status_id'\n"
   ]
  },
  {
   "cell_type": "code",
   "execution_count": 45,
   "id": "67e72aaf",
   "metadata": {},
   "outputs": [
    {
     "data": {
      "text/html": [
       "<div>\n",
       "<style scoped>\n",
       "    .dataframe tbody tr th:only-of-type {\n",
       "        vertical-align: middle;\n",
       "    }\n",
       "\n",
       "    .dataframe tbody tr th {\n",
       "        vertical-align: top;\n",
       "    }\n",
       "\n",
       "    .dataframe thead th {\n",
       "        text-align: right;\n",
       "    }\n",
       "</style>\n",
       "<table border=\"1\" class=\"dataframe\">\n",
       "  <thead>\n",
       "    <tr style=\"text-align: right;\">\n",
       "      <th></th>\n",
       "      <th>family_status_id</th>\n",
       "      <th>family_status</th>\n",
       "      <th>(debt, sum)</th>\n",
       "      <th>(debt, count)</th>\n",
       "      <th>(share, )</th>\n",
       "    </tr>\n",
       "  </thead>\n",
       "  <tbody>\n",
       "    <tr>\n",
       "      <th>0</th>\n",
       "      <td>0</td>\n",
       "      <td>женат / замужем</td>\n",
       "      <td>928</td>\n",
       "      <td>12295</td>\n",
       "      <td>0.08</td>\n",
       "    </tr>\n",
       "    <tr>\n",
       "      <th>1</th>\n",
       "      <td>1</td>\n",
       "      <td>гражданский брак</td>\n",
       "      <td>385</td>\n",
       "      <td>4151</td>\n",
       "      <td>0.09</td>\n",
       "    </tr>\n",
       "    <tr>\n",
       "      <th>2</th>\n",
       "      <td>2</td>\n",
       "      <td>вдовец / вдова</td>\n",
       "      <td>65</td>\n",
       "      <td>956</td>\n",
       "      <td>0.07</td>\n",
       "    </tr>\n",
       "    <tr>\n",
       "      <th>3</th>\n",
       "      <td>3</td>\n",
       "      <td>в разводе</td>\n",
       "      <td>84</td>\n",
       "      <td>1193</td>\n",
       "      <td>0.07</td>\n",
       "    </tr>\n",
       "    <tr>\n",
       "      <th>4</th>\n",
       "      <td>4</td>\n",
       "      <td>Не женат / не замужем</td>\n",
       "      <td>273</td>\n",
       "      <td>2801</td>\n",
       "      <td>0.10</td>\n",
       "    </tr>\n",
       "    <tr>\n",
       "      <th>5</th>\n",
       "      <td>2</td>\n",
       "      <td>2</td>\n",
       "      <td>65</td>\n",
       "      <td>956</td>\n",
       "      <td>0.07</td>\n",
       "    </tr>\n",
       "  </tbody>\n",
       "</table>\n",
       "</div>"
      ],
      "text/plain": [
       "   family_status_id          family_status  (debt, sum)  (debt, count)  \\\n",
       "0                 0        женат / замужем          928          12295   \n",
       "1                 1       гражданский брак          385           4151   \n",
       "2                 2         вдовец / вдова           65            956   \n",
       "3                 3              в разводе           84           1193   \n",
       "4                 4  Не женат / не замужем          273           2801   \n",
       "5                 2                      2           65            956   \n",
       "\n",
       "   (share, )  \n",
       "0       0.08  \n",
       "1       0.09  \n",
       "2       0.07  \n",
       "3       0.07  \n",
       "4       0.10  \n",
       "5       0.07  "
      ]
     },
     "execution_count": 45,
     "metadata": {},
     "output_type": "execute_result"
    }
   ],
   "source": [
    "family_status_debt\n",
    "# проверка"
   ]
  },
  {
   "cell_type": "markdown",
   "id": "ec40f8dc",
   "metadata": {},
   "source": [
    "**Выводы**\n",
    "На основании проверки гипотезы можно сделать следующие выводы:\n",
    "* Семейный статус практически не влияет на возврат кредита в срок, так как процент имеющих задолженность в разных категориях различается на несколько процентов.\n",
    "* Однако заметно, что люди, которые не состоят и не состояли в законном браке, чаще остальных имеют задолженность по кредиту.\n",
    "\n",
    "Таким образом, вторая гипотеза подтвердилась лишь отчасти."
   ]
  },
  {
   "cell_type": "markdown",
   "id": "77f8a601",
   "metadata": {},
   "source": [
    "##  3.3 Наличие зависимостb между уровнем дохода и возвратом кредита в срок"
   ]
  },
  {
   "cell_type": "code",
   "execution_count": 46,
   "id": "37a1393f",
   "metadata": {},
   "outputs": [],
   "source": [
    "data_income_debt = data.groupby('total_income_category').agg({'debt':['count', 'sum']})\n",
    "# гуппировка данных столбца 'debt' по столбцу 'total_income_category' и применение к нему функций 'sum','count'"
   ]
  },
  {
   "cell_type": "code",
   "execution_count": 47,
   "id": "987a5b3f",
   "metadata": {},
   "outputs": [],
   "source": [
    "data_income_debt['share'] = round(data_income_debt['debt']['sum'] / data_income_debt['debt']['count'], 2)\n",
    "# создание столбца 'share' с результатом деления данных из столбца 'debt'"
   ]
  },
  {
   "cell_type": "code",
   "execution_count": 48,
   "id": "b01a04bb",
   "metadata": {},
   "outputs": [
    {
     "data": {
      "text/html": [
       "<div>\n",
       "<style scoped>\n",
       "    .dataframe tbody tr th:only-of-type {\n",
       "        vertical-align: middle;\n",
       "    }\n",
       "\n",
       "    .dataframe tbody tr th {\n",
       "        vertical-align: top;\n",
       "    }\n",
       "\n",
       "    .dataframe thead tr th {\n",
       "        text-align: left;\n",
       "    }\n",
       "\n",
       "    .dataframe thead tr:last-of-type th {\n",
       "        text-align: right;\n",
       "    }\n",
       "</style>\n",
       "<table border=\"1\" class=\"dataframe\">\n",
       "  <thead>\n",
       "    <tr>\n",
       "      <th></th>\n",
       "      <th colspan=\"2\" halign=\"left\">debt</th>\n",
       "      <th>share</th>\n",
       "    </tr>\n",
       "    <tr>\n",
       "      <th></th>\n",
       "      <th>count</th>\n",
       "      <th>sum</th>\n",
       "      <th></th>\n",
       "    </tr>\n",
       "    <tr>\n",
       "      <th>total_income_category</th>\n",
       "      <th></th>\n",
       "      <th></th>\n",
       "      <th></th>\n",
       "    </tr>\n",
       "  </thead>\n",
       "  <tbody>\n",
       "    <tr>\n",
       "      <th>A</th>\n",
       "      <td>25</td>\n",
       "      <td>2</td>\n",
       "      <td>0.08</td>\n",
       "    </tr>\n",
       "    <tr>\n",
       "      <th>B</th>\n",
       "      <td>5021</td>\n",
       "      <td>354</td>\n",
       "      <td>0.07</td>\n",
       "    </tr>\n",
       "    <tr>\n",
       "      <th>C</th>\n",
       "      <td>15977</td>\n",
       "      <td>1354</td>\n",
       "      <td>0.08</td>\n",
       "    </tr>\n",
       "    <tr>\n",
       "      <th>D</th>\n",
       "      <td>350</td>\n",
       "      <td>21</td>\n",
       "      <td>0.06</td>\n",
       "    </tr>\n",
       "    <tr>\n",
       "      <th>E</th>\n",
       "      <td>23</td>\n",
       "      <td>4</td>\n",
       "      <td>0.17</td>\n",
       "    </tr>\n",
       "  </tbody>\n",
       "</table>\n",
       "</div>"
      ],
      "text/plain": [
       "                        debt       share\n",
       "                       count   sum      \n",
       "total_income_category                   \n",
       "A                         25     2  0.08\n",
       "B                       5021   354  0.07\n",
       "C                      15977  1354  0.08\n",
       "D                        350    21  0.06\n",
       "E                         23     4  0.17"
      ]
     },
     "execution_count": 48,
     "metadata": {},
     "output_type": "execute_result"
    }
   ],
   "source": [
    "data_income_debt\n",
    "# проверка"
   ]
  },
  {
   "cell_type": "markdown",
   "id": "29635de7",
   "metadata": {},
   "source": [
    "**Выводы**\n",
    "На основании проверки гипотезы можно сделать следующие выводы:\n",
    "* Процент имеющих задолженность в разных категориях различается лишь на несколько процентов.\n",
    "* Однако заметно, что клиенты из категории D  чаще других возвращают кредит в срок.\n",
    "* Выше всего процент задолженности в категории 'E', однако нельзя делать однозначные выводы по данной категории, так как слишком мало общее количество кредитов в данной категории.\n",
    "* По той же причине нельзя дать конкретный ответ по категории 'A'\n",
    "\n",
    "Таким образом, третья гипотеза подтвердилась лишь отчасти."
   ]
  },
  {
   "cell_type": "markdown",
   "id": "2d3c5375",
   "metadata": {},
   "source": [
    "##  3.4 Влияние целей кредита на возврат кредита в срок"
   ]
  },
  {
   "cell_type": "code",
   "execution_count": 49,
   "id": "77a59f7a",
   "metadata": {},
   "outputs": [],
   "source": [
    "data_purpose_debt = data.groupby('purpose_category').agg({'debt':['count', 'sum']})\n",
    "# гуппировка данных столбца 'debt' по столбцу 'purpose_category' и применение к нему функций 'sum','count'"
   ]
  },
  {
   "cell_type": "code",
   "execution_count": 50,
   "id": "73765290",
   "metadata": {},
   "outputs": [],
   "source": [
    "data_purpose_debt['share'] = round(data_purpose_debt['debt']['sum'] / data_purpose_debt['debt']['count'], 2)\n",
    "# создание столбца 'share' с результатом деления данных из столбца 'debt'"
   ]
  },
  {
   "cell_type": "code",
   "execution_count": 51,
   "id": "81eaa459",
   "metadata": {},
   "outputs": [
    {
     "data": {
      "text/html": [
       "<div>\n",
       "<style scoped>\n",
       "    .dataframe tbody tr th:only-of-type {\n",
       "        vertical-align: middle;\n",
       "    }\n",
       "\n",
       "    .dataframe tbody tr th {\n",
       "        vertical-align: top;\n",
       "    }\n",
       "\n",
       "    .dataframe thead tr th {\n",
       "        text-align: left;\n",
       "    }\n",
       "\n",
       "    .dataframe thead tr:last-of-type th {\n",
       "        text-align: right;\n",
       "    }\n",
       "</style>\n",
       "<table border=\"1\" class=\"dataframe\">\n",
       "  <thead>\n",
       "    <tr>\n",
       "      <th></th>\n",
       "      <th colspan=\"2\" halign=\"left\">debt</th>\n",
       "      <th>share</th>\n",
       "    </tr>\n",
       "    <tr>\n",
       "      <th></th>\n",
       "      <th>count</th>\n",
       "      <th>sum</th>\n",
       "      <th></th>\n",
       "    </tr>\n",
       "    <tr>\n",
       "      <th>purpose_category</th>\n",
       "      <th></th>\n",
       "      <th></th>\n",
       "      <th></th>\n",
       "    </tr>\n",
       "  </thead>\n",
       "  <tbody>\n",
       "    <tr>\n",
       "      <th>операции с автомобилем</th>\n",
       "      <td>4292</td>\n",
       "      <td>401</td>\n",
       "      <td>0.09</td>\n",
       "    </tr>\n",
       "    <tr>\n",
       "      <th>операции с недвижимостью</th>\n",
       "      <td>10127</td>\n",
       "      <td>728</td>\n",
       "      <td>0.07</td>\n",
       "    </tr>\n",
       "    <tr>\n",
       "      <th>получение образования</th>\n",
       "      <td>3999</td>\n",
       "      <td>369</td>\n",
       "      <td>0.09</td>\n",
       "    </tr>\n",
       "    <tr>\n",
       "      <th>проведение свадьбы</th>\n",
       "      <td>2326</td>\n",
       "      <td>183</td>\n",
       "      <td>0.08</td>\n",
       "    </tr>\n",
       "  </tbody>\n",
       "</table>\n",
       "</div>"
      ],
      "text/plain": [
       "                           debt      share\n",
       "                          count  sum      \n",
       "purpose_category                          \n",
       "операции с автомобилем     4292  401  0.09\n",
       "операции с недвижимостью  10127  728  0.07\n",
       "получение образования      3999  369  0.09\n",
       "проведение свадьбы         2326  183  0.08"
      ]
     },
     "execution_count": 51,
     "metadata": {},
     "output_type": "execute_result"
    }
   ],
   "source": [
    "data_purpose_debt\n",
    "# проверка"
   ]
  },
  {
   "cell_type": "markdown",
   "id": "800b5426",
   "metadata": {},
   "source": [
    "**Выводы**\n",
    "На основании проверки гипотезы можно сделать следующие выводы:\n",
    "* Процент имеющих задолженность в разных категориях различается лишь на несколько процентов.\n",
    "* Однако заметно, что клиенты, совершающие операции с недвижимостью, чаще других возвращают кредит в срок.\n",
    "* Выше всего процент задолженности у тех, кто берет кредит на операции с автомобилем и получение образования.\n",
    "\n",
    "\n",
    "Таким образом, третья гипотеза подтвердилась лишь отчасти."
   ]
  },
  {
   "cell_type": "markdown",
   "id": "18289122",
   "metadata": {},
   "source": [
    "## Итоги исследования"
   ]
  },
  {
   "cell_type": "markdown",
   "id": "003759b9",
   "metadata": {},
   "source": [
    "Было проверено три гипотезы, в результате чего установлено:\n",
    "\n",
    "1. Количество детей не влияет на возврат кредита в срок.\n",
    "\n",
    "Первая гипотеза не подтвердилась.\n",
    "\n",
    "2. Семейный статус практически не влияет на возврат кредита в срок, однако небольшая тенденция наблюдается:\n",
    "* люди, которые не состоят и не состояли в законном браке, чаще остальных имеют задолженность по кредиту.\n",
    "\n",
    "Таким образом, вторая гипотеза подтвердилась лишь отчасти.\n",
    "\n",
    "3. Различия по категориям в данной гипотезе также невелики. Тем не менее стоит отметить следующее:\n",
    "* клиенты из категории D чаще других возвращают кредит в срок.\n",
    "* По категориям 'A' и 'E' нельзя сделать точных выводов, из-за маленького количества клиентов в данных категориях.\n"
   ]
  },
  {
   "cell_type": "code",
   "execution_count": null,
   "id": "61a03174",
   "metadata": {},
   "outputs": [],
   "source": []
  }
 ],
 "metadata": {
  "ExecuteTimeLog": [
   {
    "duration": 738,
    "start_time": "2022-03-19T11:34:28.588Z"
   },
   {
    "duration": 0,
    "start_time": "2022-03-19T11:34:29.332Z"
   },
   {
    "duration": 0,
    "start_time": "2022-03-19T11:34:29.334Z"
   },
   {
    "duration": 0,
    "start_time": "2022-03-19T11:34:29.336Z"
   },
   {
    "duration": 0,
    "start_time": "2022-03-19T11:34:29.338Z"
   },
   {
    "duration": 0,
    "start_time": "2022-03-19T11:34:29.341Z"
   },
   {
    "duration": 0,
    "start_time": "2022-03-19T11:34:29.343Z"
   },
   {
    "duration": 0,
    "start_time": "2022-03-19T11:34:29.345Z"
   },
   {
    "duration": 0,
    "start_time": "2022-03-19T11:34:29.368Z"
   },
   {
    "duration": 0,
    "start_time": "2022-03-19T11:34:29.370Z"
   },
   {
    "duration": 0,
    "start_time": "2022-03-19T11:34:29.372Z"
   },
   {
    "duration": 0,
    "start_time": "2022-03-19T11:34:29.374Z"
   },
   {
    "duration": 0,
    "start_time": "2022-03-19T11:34:29.377Z"
   },
   {
    "duration": 0,
    "start_time": "2022-03-19T11:34:29.378Z"
   },
   {
    "duration": 0,
    "start_time": "2022-03-19T11:34:29.381Z"
   },
   {
    "duration": 0,
    "start_time": "2022-03-19T11:34:29.383Z"
   },
   {
    "duration": 1,
    "start_time": "2022-03-19T11:34:29.384Z"
   },
   {
    "duration": 0,
    "start_time": "2022-03-19T11:34:29.387Z"
   },
   {
    "duration": 0,
    "start_time": "2022-03-19T11:34:29.389Z"
   },
   {
    "duration": 0,
    "start_time": "2022-03-19T11:34:29.391Z"
   },
   {
    "duration": 0,
    "start_time": "2022-03-19T11:34:29.393Z"
   },
   {
    "duration": 0,
    "start_time": "2022-03-19T11:34:29.396Z"
   },
   {
    "duration": 0,
    "start_time": "2022-03-19T11:34:29.398Z"
   },
   {
    "duration": 0,
    "start_time": "2022-03-19T11:34:29.400Z"
   },
   {
    "duration": 0,
    "start_time": "2022-03-19T11:34:29.403Z"
   },
   {
    "duration": 0,
    "start_time": "2022-03-19T11:34:29.467Z"
   },
   {
    "duration": 0,
    "start_time": "2022-03-19T11:34:29.470Z"
   },
   {
    "duration": 0,
    "start_time": "2022-03-19T11:34:29.472Z"
   },
   {
    "duration": 0,
    "start_time": "2022-03-19T11:34:29.474Z"
   },
   {
    "duration": 0,
    "start_time": "2022-03-19T11:34:29.477Z"
   },
   {
    "duration": 0,
    "start_time": "2022-03-19T11:34:29.479Z"
   },
   {
    "duration": 0,
    "start_time": "2022-03-19T11:34:29.481Z"
   },
   {
    "duration": 0,
    "start_time": "2022-03-19T11:34:29.482Z"
   },
   {
    "duration": 0,
    "start_time": "2022-03-19T11:34:29.483Z"
   },
   {
    "duration": 0,
    "start_time": "2022-03-19T11:34:29.485Z"
   },
   {
    "duration": 0,
    "start_time": "2022-03-19T11:34:29.486Z"
   },
   {
    "duration": 0,
    "start_time": "2022-03-19T11:34:29.488Z"
   },
   {
    "duration": 0,
    "start_time": "2022-03-19T11:34:29.490Z"
   },
   {
    "duration": 0,
    "start_time": "2022-03-19T11:34:29.491Z"
   },
   {
    "duration": 0,
    "start_time": "2022-03-19T11:34:29.493Z"
   },
   {
    "duration": 0,
    "start_time": "2022-03-19T11:34:29.494Z"
   },
   {
    "duration": 0,
    "start_time": "2022-03-19T11:34:29.497Z"
   },
   {
    "duration": 0,
    "start_time": "2022-03-19T11:34:29.499Z"
   },
   {
    "duration": 0,
    "start_time": "2022-03-19T11:34:29.502Z"
   },
   {
    "duration": 0,
    "start_time": "2022-03-19T11:34:29.504Z"
   },
   {
    "duration": 589,
    "start_time": "2022-03-19T11:34:53.282Z"
   },
   {
    "duration": 19,
    "start_time": "2022-03-19T11:34:53.875Z"
   },
   {
    "duration": 27,
    "start_time": "2022-03-19T11:34:53.897Z"
   },
   {
    "duration": 41,
    "start_time": "2022-03-19T11:34:53.927Z"
   },
   {
    "duration": 18,
    "start_time": "2022-03-19T11:34:53.972Z"
   },
   {
    "duration": 23,
    "start_time": "2022-03-19T11:34:53.992Z"
   },
   {
    "duration": 14,
    "start_time": "2022-03-19T11:34:54.017Z"
   },
   {
    "duration": 10,
    "start_time": "2022-03-19T11:34:54.033Z"
   },
   {
    "duration": 29,
    "start_time": "2022-03-19T11:34:54.045Z"
   },
   {
    "duration": 6,
    "start_time": "2022-03-19T11:34:54.077Z"
   },
   {
    "duration": 5,
    "start_time": "2022-03-19T11:34:54.085Z"
   },
   {
    "duration": 14,
    "start_time": "2022-03-19T11:34:54.092Z"
   },
   {
    "duration": 7,
    "start_time": "2022-03-19T11:34:54.108Z"
   },
   {
    "duration": 61,
    "start_time": "2022-03-19T11:34:54.120Z"
   },
   {
    "duration": 24,
    "start_time": "2022-03-19T11:34:54.183Z"
   },
   {
    "duration": 26,
    "start_time": "2022-03-19T11:34:54.209Z"
   },
   {
    "duration": 56,
    "start_time": "2022-03-19T11:34:54.237Z"
   },
   {
    "duration": 9,
    "start_time": "2022-03-19T11:34:54.295Z"
   },
   {
    "duration": 7,
    "start_time": "2022-03-19T11:34:54.307Z"
   },
   {
    "duration": 6,
    "start_time": "2022-03-19T11:34:54.316Z"
   },
   {
    "duration": 53,
    "start_time": "2022-03-19T11:34:54.325Z"
   },
   {
    "duration": 9,
    "start_time": "2022-03-19T11:34:54.381Z"
   },
   {
    "duration": 26,
    "start_time": "2022-03-19T11:34:54.392Z"
   },
   {
    "duration": 17,
    "start_time": "2022-03-19T11:34:54.421Z"
   },
   {
    "duration": 43,
    "start_time": "2022-03-19T11:34:54.440Z"
   },
   {
    "duration": 4,
    "start_time": "2022-03-19T11:34:54.485Z"
   },
   {
    "duration": 16,
    "start_time": "2022-03-19T11:34:54.492Z"
   },
   {
    "duration": 18,
    "start_time": "2022-03-19T11:34:54.510Z"
   },
   {
    "duration": 56,
    "start_time": "2022-03-19T11:34:54.531Z"
   },
   {
    "duration": 6,
    "start_time": "2022-03-19T11:34:54.589Z"
   },
   {
    "duration": 36,
    "start_time": "2022-03-19T11:34:54.597Z"
   },
   {
    "duration": 31,
    "start_time": "2022-03-19T11:34:54.636Z"
   },
   {
    "duration": 29,
    "start_time": "2022-03-19T11:34:54.669Z"
   },
   {
    "duration": 56,
    "start_time": "2022-03-19T11:34:54.700Z"
   },
   {
    "duration": 9,
    "start_time": "2022-03-19T11:34:54.758Z"
   },
   {
    "duration": 10,
    "start_time": "2022-03-19T11:34:54.769Z"
   },
   {
    "duration": 24,
    "start_time": "2022-03-19T11:34:54.781Z"
   },
   {
    "duration": 18,
    "start_time": "2022-03-19T11:34:54.807Z"
   },
   {
    "duration": 17,
    "start_time": "2022-03-19T11:34:54.826Z"
   },
   {
    "duration": 25,
    "start_time": "2022-03-19T11:34:54.845Z"
   },
   {
    "duration": 9,
    "start_time": "2022-03-19T11:34:54.876Z"
   },
   {
    "duration": 19,
    "start_time": "2022-03-19T11:34:54.887Z"
   },
   {
    "duration": 13,
    "start_time": "2022-03-19T11:34:54.909Z"
   },
   {
    "duration": 10,
    "start_time": "2022-03-19T11:34:54.924Z"
   },
   {
    "duration": 36,
    "start_time": "2022-03-19T11:34:54.937Z"
   },
   {
    "duration": 509,
    "start_time": "2022-03-19T17:14:03.126Z"
   },
   {
    "duration": 48,
    "start_time": "2022-03-19T20:38:59.576Z"
   },
   {
    "duration": 392,
    "start_time": "2022-03-19T20:39:24.574Z"
   },
   {
    "duration": 94,
    "start_time": "2022-03-19T20:39:24.968Z"
   },
   {
    "duration": 13,
    "start_time": "2022-03-19T20:39:25.063Z"
   },
   {
    "duration": 18,
    "start_time": "2022-03-19T20:39:25.079Z"
   },
   {
    "duration": 4,
    "start_time": "2022-03-19T20:39:25.099Z"
   },
   {
    "duration": 30,
    "start_time": "2022-03-19T20:39:25.104Z"
   },
   {
    "duration": 10,
    "start_time": "2022-03-19T20:39:25.136Z"
   },
   {
    "duration": 7,
    "start_time": "2022-03-19T20:39:51.885Z"
   },
   {
    "duration": 4,
    "start_time": "2022-03-19T20:40:23.875Z"
   },
   {
    "duration": 5,
    "start_time": "2022-03-19T20:40:24.435Z"
   },
   {
    "duration": 5,
    "start_time": "2022-03-19T20:40:42.308Z"
   },
   {
    "duration": 2,
    "start_time": "2022-03-19T20:40:56.309Z"
   },
   {
    "duration": 73,
    "start_time": "2022-03-19T20:40:56.316Z"
   },
   {
    "duration": 12,
    "start_time": "2022-03-19T20:40:56.391Z"
   },
   {
    "duration": 28,
    "start_time": "2022-03-19T20:40:56.405Z"
   },
   {
    "duration": 5,
    "start_time": "2022-03-19T20:40:56.435Z"
   },
   {
    "duration": 15,
    "start_time": "2022-03-19T20:40:56.441Z"
   },
   {
    "duration": 8,
    "start_time": "2022-03-19T20:40:56.457Z"
   },
   {
    "duration": 6,
    "start_time": "2022-03-19T20:41:00.332Z"
   },
   {
    "duration": 5,
    "start_time": "2022-03-19T20:41:00.816Z"
   },
   {
    "duration": 2,
    "start_time": "2022-03-19T20:41:18.843Z"
   },
   {
    "duration": 102,
    "start_time": "2022-03-19T20:41:18.849Z"
   },
   {
    "duration": 12,
    "start_time": "2022-03-19T20:41:18.953Z"
   },
   {
    "duration": 20,
    "start_time": "2022-03-19T20:41:18.966Z"
   },
   {
    "duration": 5,
    "start_time": "2022-03-19T20:41:18.988Z"
   },
   {
    "duration": 18,
    "start_time": "2022-03-19T20:41:18.994Z"
   },
   {
    "duration": 7,
    "start_time": "2022-03-19T20:41:19.032Z"
   },
   {
    "duration": 12,
    "start_time": "2022-03-19T20:41:19.040Z"
   },
   {
    "duration": 9,
    "start_time": "2022-03-19T20:41:19.054Z"
   },
   {
    "duration": 3,
    "start_time": "2022-03-19T20:41:32.002Z"
   },
   {
    "duration": 76,
    "start_time": "2022-03-19T20:41:32.008Z"
   },
   {
    "duration": 11,
    "start_time": "2022-03-19T20:41:32.086Z"
   },
   {
    "duration": 19,
    "start_time": "2022-03-19T20:41:32.099Z"
   },
   {
    "duration": 4,
    "start_time": "2022-03-19T20:41:32.133Z"
   },
   {
    "duration": 27,
    "start_time": "2022-03-19T20:41:32.139Z"
   },
   {
    "duration": 10,
    "start_time": "2022-03-19T20:41:32.168Z"
   },
   {
    "duration": 9,
    "start_time": "2022-03-19T20:41:32.180Z"
   },
   {
    "duration": 11,
    "start_time": "2022-03-19T20:41:32.190Z"
   },
   {
    "duration": 9,
    "start_time": "2022-03-19T20:42:10.529Z"
   },
   {
    "duration": 6,
    "start_time": "2022-03-19T20:42:12.457Z"
   },
   {
    "duration": 29,
    "start_time": "2022-03-19T20:49:07.295Z"
   },
   {
    "duration": 6,
    "start_time": "2022-03-19T20:49:38.183Z"
   },
   {
    "duration": 3,
    "start_time": "2022-03-19T20:50:34.358Z"
   },
   {
    "duration": 84,
    "start_time": "2022-03-19T20:50:34.365Z"
   },
   {
    "duration": 12,
    "start_time": "2022-03-19T20:50:34.451Z"
   },
   {
    "duration": 19,
    "start_time": "2022-03-19T20:50:34.464Z"
   },
   {
    "duration": 4,
    "start_time": "2022-03-19T20:50:34.486Z"
   },
   {
    "duration": 20,
    "start_time": "2022-03-19T20:50:34.491Z"
   },
   {
    "duration": 6,
    "start_time": "2022-03-19T20:50:34.532Z"
   },
   {
    "duration": 11,
    "start_time": "2022-03-19T20:50:34.539Z"
   },
   {
    "duration": 6,
    "start_time": "2022-03-19T20:50:34.551Z"
   },
   {
    "duration": 9,
    "start_time": "2022-03-19T20:50:34.558Z"
   },
   {
    "duration": 5,
    "start_time": "2022-03-19T20:50:34.570Z"
   },
   {
    "duration": 9,
    "start_time": "2022-03-19T20:50:34.576Z"
   },
   {
    "duration": 12,
    "start_time": "2022-03-19T20:50:34.587Z"
   },
   {
    "duration": 4,
    "start_time": "2022-03-19T20:50:34.632Z"
   },
   {
    "duration": 13,
    "start_time": "2022-03-19T20:51:52.280Z"
   },
   {
    "duration": 5,
    "start_time": "2022-03-19T20:52:17.380Z"
   },
   {
    "duration": 11,
    "start_time": "2022-03-19T20:52:43.417Z"
   },
   {
    "duration": 5,
    "start_time": "2022-03-19T20:54:18.387Z"
   },
   {
    "duration": 3,
    "start_time": "2022-03-19T21:19:48.772Z"
   },
   {
    "duration": 11,
    "start_time": "2022-03-19T21:19:56.296Z"
   },
   {
    "duration": 12,
    "start_time": "2022-03-19T21:19:56.899Z"
   },
   {
    "duration": 8,
    "start_time": "2022-03-19T21:37:22.251Z"
   },
   {
    "duration": 3,
    "start_time": "2022-03-19T21:37:28.961Z"
   },
   {
    "duration": 75,
    "start_time": "2022-03-19T21:37:28.969Z"
   },
   {
    "duration": 12,
    "start_time": "2022-03-19T21:37:29.047Z"
   },
   {
    "duration": 20,
    "start_time": "2022-03-19T21:37:29.061Z"
   },
   {
    "duration": 5,
    "start_time": "2022-03-19T21:37:29.083Z"
   },
   {
    "duration": 16,
    "start_time": "2022-03-19T21:37:29.089Z"
   },
   {
    "duration": 30,
    "start_time": "2022-03-19T21:37:29.106Z"
   },
   {
    "duration": 9,
    "start_time": "2022-03-19T21:37:29.138Z"
   },
   {
    "duration": 6,
    "start_time": "2022-03-19T21:37:29.148Z"
   },
   {
    "duration": 9,
    "start_time": "2022-03-19T21:37:29.155Z"
   },
   {
    "duration": 6,
    "start_time": "2022-03-19T21:37:29.167Z"
   },
   {
    "duration": 6,
    "start_time": "2022-03-19T21:37:29.175Z"
   },
   {
    "duration": 50,
    "start_time": "2022-03-19T21:37:29.183Z"
   },
   {
    "duration": 12,
    "start_time": "2022-03-19T21:37:29.234Z"
   },
   {
    "duration": 5,
    "start_time": "2022-03-19T21:37:29.248Z"
   },
   {
    "duration": 7,
    "start_time": "2022-03-19T21:37:29.255Z"
   },
   {
    "duration": 11,
    "start_time": "2022-03-19T21:37:29.264Z"
   },
   {
    "duration": 13,
    "start_time": "2022-03-19T21:37:29.277Z"
   },
   {
    "duration": 4,
    "start_time": "2022-03-19T21:37:29.292Z"
   },
   {
    "duration": 17,
    "start_time": "2022-03-19T21:37:29.331Z"
   },
   {
    "duration": 13,
    "start_time": "2022-03-19T21:37:29.350Z"
   },
   {
    "duration": 17,
    "start_time": "2022-03-19T21:37:29.365Z"
   },
   {
    "duration": 15,
    "start_time": "2022-03-19T21:37:29.383Z"
   },
   {
    "duration": 8,
    "start_time": "2022-03-19T21:37:29.432Z"
   },
   {
    "duration": 5,
    "start_time": "2022-03-19T21:37:29.442Z"
   },
   {
    "duration": 6,
    "start_time": "2022-03-19T21:37:29.449Z"
   },
   {
    "duration": 22,
    "start_time": "2022-03-19T21:37:29.457Z"
   },
   {
    "duration": 13,
    "start_time": "2022-03-19T21:37:29.483Z"
   },
   {
    "duration": 14,
    "start_time": "2022-03-19T21:37:29.498Z"
   },
   {
    "duration": 13,
    "start_time": "2022-03-19T21:37:29.532Z"
   },
   {
    "duration": 14,
    "start_time": "2022-03-19T21:37:29.547Z"
   },
   {
    "duration": 6,
    "start_time": "2022-03-19T21:37:29.562Z"
   },
   {
    "duration": 12,
    "start_time": "2022-03-19T21:37:29.569Z"
   },
   {
    "duration": 11,
    "start_time": "2022-03-19T21:37:29.583Z"
   },
   {
    "duration": 44,
    "start_time": "2022-03-19T21:37:29.596Z"
   },
   {
    "duration": 0,
    "start_time": "2022-03-19T21:37:29.642Z"
   },
   {
    "duration": 0,
    "start_time": "2022-03-19T21:37:29.643Z"
   },
   {
    "duration": 0,
    "start_time": "2022-03-19T21:37:29.644Z"
   },
   {
    "duration": 0,
    "start_time": "2022-03-19T21:37:29.645Z"
   },
   {
    "duration": 0,
    "start_time": "2022-03-19T21:37:29.646Z"
   },
   {
    "duration": 0,
    "start_time": "2022-03-19T21:37:29.647Z"
   },
   {
    "duration": 0,
    "start_time": "2022-03-19T21:37:29.649Z"
   },
   {
    "duration": 0,
    "start_time": "2022-03-19T21:37:29.650Z"
   },
   {
    "duration": 1,
    "start_time": "2022-03-19T21:37:29.650Z"
   },
   {
    "duration": 2,
    "start_time": "2022-03-19T21:40:24.816Z"
   },
   {
    "duration": 80,
    "start_time": "2022-03-19T21:40:24.822Z"
   },
   {
    "duration": 11,
    "start_time": "2022-03-19T21:40:24.904Z"
   },
   {
    "duration": 30,
    "start_time": "2022-03-19T21:40:24.916Z"
   },
   {
    "duration": 4,
    "start_time": "2022-03-19T21:40:24.948Z"
   },
   {
    "duration": 19,
    "start_time": "2022-03-19T21:40:24.953Z"
   },
   {
    "duration": 11,
    "start_time": "2022-03-19T21:40:24.974Z"
   },
   {
    "duration": 9,
    "start_time": "2022-03-19T21:40:24.987Z"
   },
   {
    "duration": 38,
    "start_time": "2022-03-19T21:40:24.998Z"
   },
   {
    "duration": 7,
    "start_time": "2022-03-19T21:40:25.039Z"
   },
   {
    "duration": 5,
    "start_time": "2022-03-19T21:40:25.050Z"
   },
   {
    "duration": 13,
    "start_time": "2022-03-19T21:40:25.057Z"
   },
   {
    "duration": 13,
    "start_time": "2022-03-19T21:40:25.072Z"
   },
   {
    "duration": 49,
    "start_time": "2022-03-19T21:40:25.087Z"
   },
   {
    "duration": 5,
    "start_time": "2022-03-19T21:40:25.138Z"
   },
   {
    "duration": 6,
    "start_time": "2022-03-19T21:40:25.144Z"
   },
   {
    "duration": 6,
    "start_time": "2022-03-19T21:40:25.151Z"
   },
   {
    "duration": 11,
    "start_time": "2022-03-19T21:40:25.158Z"
   },
   {
    "duration": 4,
    "start_time": "2022-03-19T21:40:25.171Z"
   },
   {
    "duration": 18,
    "start_time": "2022-03-19T21:40:25.177Z"
   },
   {
    "duration": 15,
    "start_time": "2022-03-19T21:40:25.232Z"
   },
   {
    "duration": 16,
    "start_time": "2022-03-19T21:40:25.249Z"
   },
   {
    "duration": 14,
    "start_time": "2022-03-19T21:40:25.267Z"
   },
   {
    "duration": 7,
    "start_time": "2022-03-19T21:40:25.283Z"
   },
   {
    "duration": 8,
    "start_time": "2022-03-19T21:40:25.292Z"
   },
   {
    "duration": 8,
    "start_time": "2022-03-19T21:40:25.332Z"
   },
   {
    "duration": 18,
    "start_time": "2022-03-19T21:40:25.342Z"
   },
   {
    "duration": 7,
    "start_time": "2022-03-19T21:40:25.361Z"
   },
   {
    "duration": 11,
    "start_time": "2022-03-19T21:40:25.372Z"
   },
   {
    "duration": 11,
    "start_time": "2022-03-19T21:40:25.385Z"
   },
   {
    "duration": 38,
    "start_time": "2022-03-19T21:40:25.398Z"
   },
   {
    "duration": 6,
    "start_time": "2022-03-19T21:40:25.437Z"
   },
   {
    "duration": 16,
    "start_time": "2022-03-19T21:40:25.445Z"
   },
   {
    "duration": 12,
    "start_time": "2022-03-19T21:40:25.463Z"
   },
   {
    "duration": 17,
    "start_time": "2022-03-19T21:40:25.477Z"
   },
   {
    "duration": 0,
    "start_time": "2022-03-19T21:40:25.496Z"
   },
   {
    "duration": 0,
    "start_time": "2022-03-19T21:40:25.497Z"
   },
   {
    "duration": 0,
    "start_time": "2022-03-19T21:40:25.499Z"
   },
   {
    "duration": 0,
    "start_time": "2022-03-19T21:40:25.500Z"
   },
   {
    "duration": 0,
    "start_time": "2022-03-19T21:40:25.501Z"
   },
   {
    "duration": 0,
    "start_time": "2022-03-19T21:40:25.503Z"
   },
   {
    "duration": 0,
    "start_time": "2022-03-19T21:40:25.531Z"
   },
   {
    "duration": 0,
    "start_time": "2022-03-19T21:40:25.533Z"
   },
   {
    "duration": 0,
    "start_time": "2022-03-19T21:40:25.534Z"
   },
   {
    "duration": 0,
    "start_time": "2022-03-19T21:40:25.535Z"
   },
   {
    "duration": 0,
    "start_time": "2022-03-19T21:40:25.536Z"
   },
   {
    "duration": 0,
    "start_time": "2022-03-19T21:40:25.537Z"
   },
   {
    "duration": 0,
    "start_time": "2022-03-19T21:40:25.538Z"
   },
   {
    "duration": 0,
    "start_time": "2022-03-19T21:40:25.540Z"
   },
   {
    "duration": 0,
    "start_time": "2022-03-19T21:40:25.541Z"
   },
   {
    "duration": 0,
    "start_time": "2022-03-19T21:40:25.542Z"
   }
  ],
  "kernelspec": {
   "display_name": "Python 3 (ipykernel)",
   "language": "python",
   "name": "python3"
  },
  "language_info": {
   "codemirror_mode": {
    "name": "ipython",
    "version": 3
   },
   "file_extension": ".py",
   "mimetype": "text/x-python",
   "name": "python",
   "nbconvert_exporter": "python",
   "pygments_lexer": "ipython3",
   "version": "3.9.7"
  },
  "toc": {
   "base_numbering": 1,
   "nav_menu": {},
   "number_sections": false,
   "sideBar": true,
   "skip_h1_title": false,
   "title_cell": "Table of Contents",
   "title_sidebar": "Contents",
   "toc_cell": false,
   "toc_position": {},
   "toc_section_display": true,
   "toc_window_display": true
  }
 },
 "nbformat": 4,
 "nbformat_minor": 5
}
