{
 "cells": [
  {
   "cell_type": "markdown",
   "metadata": {
    "id": "E0vqbgi9ay0H"
   },
   "source": [
    "# Яндекс.Музыка"
   ]
  },
  {
   "cell_type": "markdown",
   "metadata": {
    "id": "VUC88oWjTJw2"
   },
   "source": [
    "Сравнение Москвы и Петербурга окружено мифами. Например:\n",
    " * Москва — мегаполис, подчинённый жёсткому ритму рабочей недели;\n",
    " * Петербург — культурная столица, со своими вкусами.\n",
    "\n",
    "На данных Яндекс.Музыки вы сравните поведение пользователей двух столиц.\n",
    "\n",
    "**Цель исследования** — проверьте три гипотезы:\n",
    "1. Активность пользователей зависит от дня недели. Причём в Москве и Петербурге это проявляется по-разному.\n",
    "2. В понедельник утром в Москве преобладают одни жанры, а в Петербурге — другие. Так же и вечером пятницы преобладают разные жанры — в зависимости от города. \n",
    "3. Москва и Петербург предпочитают разные жанры музыки. В Москве чаще слушают поп-музыку, в Петербурге — русский рэп.\n",
    "\n",
    "**Ход исследования**\n",
    "\n",
    "Данные о поведении пользователей вы получите из файла `yandex_music_project.csv`. О качестве данных ничего не известно. Поэтому перед проверкой гипотез понадобится обзор данных. \n",
    "\n",
    "Вы проверите данные на ошибки и оцените их влияние на исследование. Затем, на этапе предобработки вы поищете возможность исправить самые критичные ошибки данных.\n",
    " \n",
    "Таким образом, исследование пройдёт в три этапа:\n",
    " 1. Обзор данных.\n",
    " 2. Предобработка данных.\n",
    " 3. Проверка гипотез.\n",
    "\n"
   ]
  },
  {
   "cell_type": "markdown",
   "metadata": {
    "id": "Ml1hmfXC_Zcs"
   },
   "source": [
    "## Обзор данных"
   ]
  },
  {
   "cell_type": "code",
   "execution_count": 178,
   "metadata": {
    "id": "AXN7PHPN_Zcs"
   },
   "outputs": [],
   "source": [
    "import pandas as pd\n",
    "# импорт библиотеки pandas"
   ]
  },
  {
   "cell_type": "code",
   "execution_count": 179,
   "metadata": {
    "id": "fFVu7vqh_Zct"
   },
   "outputs": [],
   "source": [
    "df = pd.read_csv('/datasets/yandex_music_project.csv')   \n",
    " # чтение файла с данными и сохранение в df"
   ]
  },
  {
   "cell_type": "code",
   "execution_count": 180,
   "metadata": {
    "id": "oWTVX3gW_Zct"
   },
   "outputs": [
    {
     "data": {
      "text/html": [
       "<div>\n",
       "<style scoped>\n",
       "    .dataframe tbody tr th:only-of-type {\n",
       "        vertical-align: middle;\n",
       "    }\n",
       "\n",
       "    .dataframe tbody tr th {\n",
       "        vertical-align: top;\n",
       "    }\n",
       "\n",
       "    .dataframe thead th {\n",
       "        text-align: right;\n",
       "    }\n",
       "</style>\n",
       "<table border=\"1\" class=\"dataframe\">\n",
       "  <thead>\n",
       "    <tr style=\"text-align: right;\">\n",
       "      <th></th>\n",
       "      <th>userID</th>\n",
       "      <th>Track</th>\n",
       "      <th>artist</th>\n",
       "      <th>genre</th>\n",
       "      <th>City</th>\n",
       "      <th>time</th>\n",
       "      <th>Day</th>\n",
       "    </tr>\n",
       "  </thead>\n",
       "  <tbody>\n",
       "    <tr>\n",
       "      <td>0</td>\n",
       "      <td>FFB692EC</td>\n",
       "      <td>Kamigata To Boots</td>\n",
       "      <td>The Mass Missile</td>\n",
       "      <td>rock</td>\n",
       "      <td>Saint-Petersburg</td>\n",
       "      <td>20:28:33</td>\n",
       "      <td>Wednesday</td>\n",
       "    </tr>\n",
       "    <tr>\n",
       "      <td>1</td>\n",
       "      <td>55204538</td>\n",
       "      <td>Delayed Because of Accident</td>\n",
       "      <td>Andreas Rönnberg</td>\n",
       "      <td>rock</td>\n",
       "      <td>Moscow</td>\n",
       "      <td>14:07:09</td>\n",
       "      <td>Friday</td>\n",
       "    </tr>\n",
       "    <tr>\n",
       "      <td>2</td>\n",
       "      <td>20EC38</td>\n",
       "      <td>Funiculì funiculà</td>\n",
       "      <td>Mario Lanza</td>\n",
       "      <td>pop</td>\n",
       "      <td>Saint-Petersburg</td>\n",
       "      <td>20:58:07</td>\n",
       "      <td>Wednesday</td>\n",
       "    </tr>\n",
       "    <tr>\n",
       "      <td>3</td>\n",
       "      <td>A3DD03C9</td>\n",
       "      <td>Dragons in the Sunset</td>\n",
       "      <td>Fire + Ice</td>\n",
       "      <td>folk</td>\n",
       "      <td>Saint-Petersburg</td>\n",
       "      <td>08:37:09</td>\n",
       "      <td>Monday</td>\n",
       "    </tr>\n",
       "    <tr>\n",
       "      <td>4</td>\n",
       "      <td>E2DC1FAE</td>\n",
       "      <td>Soul People</td>\n",
       "      <td>Space Echo</td>\n",
       "      <td>dance</td>\n",
       "      <td>Moscow</td>\n",
       "      <td>08:34:34</td>\n",
       "      <td>Monday</td>\n",
       "    </tr>\n",
       "    <tr>\n",
       "      <td>5</td>\n",
       "      <td>842029A1</td>\n",
       "      <td>Преданная</td>\n",
       "      <td>IMPERVTOR</td>\n",
       "      <td>rusrap</td>\n",
       "      <td>Saint-Petersburg</td>\n",
       "      <td>13:09:41</td>\n",
       "      <td>Friday</td>\n",
       "    </tr>\n",
       "    <tr>\n",
       "      <td>6</td>\n",
       "      <td>4CB90AA5</td>\n",
       "      <td>True</td>\n",
       "      <td>Roman Messer</td>\n",
       "      <td>dance</td>\n",
       "      <td>Moscow</td>\n",
       "      <td>13:00:07</td>\n",
       "      <td>Wednesday</td>\n",
       "    </tr>\n",
       "    <tr>\n",
       "      <td>7</td>\n",
       "      <td>F03E1C1F</td>\n",
       "      <td>Feeling This Way</td>\n",
       "      <td>Polina Griffith</td>\n",
       "      <td>dance</td>\n",
       "      <td>Moscow</td>\n",
       "      <td>20:47:49</td>\n",
       "      <td>Wednesday</td>\n",
       "    </tr>\n",
       "    <tr>\n",
       "      <td>8</td>\n",
       "      <td>8FA1D3BE</td>\n",
       "      <td>И вновь продолжается бой</td>\n",
       "      <td>NaN</td>\n",
       "      <td>ruspop</td>\n",
       "      <td>Moscow</td>\n",
       "      <td>09:17:40</td>\n",
       "      <td>Friday</td>\n",
       "    </tr>\n",
       "    <tr>\n",
       "      <td>9</td>\n",
       "      <td>E772D5C0</td>\n",
       "      <td>Pessimist</td>\n",
       "      <td>NaN</td>\n",
       "      <td>dance</td>\n",
       "      <td>Saint-Petersburg</td>\n",
       "      <td>21:20:49</td>\n",
       "      <td>Wednesday</td>\n",
       "    </tr>\n",
       "  </tbody>\n",
       "</table>\n",
       "</div>"
      ],
      "text/plain": [
       "     userID                        Track            artist   genre  \\\n",
       "0  FFB692EC            Kamigata To Boots  The Mass Missile    rock   \n",
       "1  55204538  Delayed Because of Accident  Andreas Rönnberg    rock   \n",
       "2    20EC38            Funiculì funiculà       Mario Lanza     pop   \n",
       "3  A3DD03C9        Dragons in the Sunset        Fire + Ice    folk   \n",
       "4  E2DC1FAE                  Soul People        Space Echo   dance   \n",
       "5  842029A1                    Преданная         IMPERVTOR  rusrap   \n",
       "6  4CB90AA5                         True      Roman Messer   dance   \n",
       "7  F03E1C1F             Feeling This Way   Polina Griffith   dance   \n",
       "8  8FA1D3BE     И вновь продолжается бой               NaN  ruspop   \n",
       "9  E772D5C0                    Pessimist               NaN   dance   \n",
       "\n",
       "             City        time        Day  \n",
       "0  Saint-Petersburg  20:28:33  Wednesday  \n",
       "1            Moscow  14:07:09     Friday  \n",
       "2  Saint-Petersburg  20:58:07  Wednesday  \n",
       "3  Saint-Petersburg  08:37:09     Monday  \n",
       "4            Moscow  08:34:34     Monday  \n",
       "5  Saint-Petersburg  13:09:41     Friday  \n",
       "6            Moscow  13:00:07  Wednesday  \n",
       "7            Moscow  20:47:49  Wednesday  \n",
       "8            Moscow  09:17:40     Friday  \n",
       "9  Saint-Petersburg  21:20:49  Wednesday  "
      ]
     },
     "execution_count": 180,
     "metadata": {},
     "output_type": "execute_result"
    }
   ],
   "source": [
    "df.head(10)\n",
    "# получение первых 10 строк таблицы df"
   ]
  },
  {
   "cell_type": "code",
   "execution_count": 181,
   "metadata": {},
   "outputs": [
    {
     "data": {
      "text/html": [
       "<div>\n",
       "<style scoped>\n",
       "    .dataframe tbody tr th:only-of-type {\n",
       "        vertical-align: middle;\n",
       "    }\n",
       "\n",
       "    .dataframe tbody tr th {\n",
       "        vertical-align: top;\n",
       "    }\n",
       "\n",
       "    .dataframe thead th {\n",
       "        text-align: right;\n",
       "    }\n",
       "</style>\n",
       "<table border=\"1\" class=\"dataframe\">\n",
       "  <thead>\n",
       "    <tr style=\"text-align: right;\">\n",
       "      <th></th>\n",
       "      <th>userID</th>\n",
       "      <th>Track</th>\n",
       "      <th>artist</th>\n",
       "      <th>genre</th>\n",
       "      <th>City</th>\n",
       "      <th>time</th>\n",
       "      <th>Day</th>\n",
       "    </tr>\n",
       "  </thead>\n",
       "  <tbody>\n",
       "    <tr>\n",
       "      <td>65074</td>\n",
       "      <td>729CBB09</td>\n",
       "      <td>My Name</td>\n",
       "      <td>McLean</td>\n",
       "      <td>rnb</td>\n",
       "      <td>Moscow</td>\n",
       "      <td>13:32:28</td>\n",
       "      <td>Wednesday</td>\n",
       "    </tr>\n",
       "    <tr>\n",
       "      <td>65075</td>\n",
       "      <td>D08D4A55</td>\n",
       "      <td>Maybe One Day (feat. Black Spade)</td>\n",
       "      <td>Blu &amp; Exile</td>\n",
       "      <td>hip</td>\n",
       "      <td>Saint-Petersburg</td>\n",
       "      <td>10:00:00</td>\n",
       "      <td>Monday</td>\n",
       "    </tr>\n",
       "    <tr>\n",
       "      <td>65076</td>\n",
       "      <td>C5E3A0D5</td>\n",
       "      <td>Jalopiina</td>\n",
       "      <td>NaN</td>\n",
       "      <td>industrial</td>\n",
       "      <td>Moscow</td>\n",
       "      <td>20:09:26</td>\n",
       "      <td>Friday</td>\n",
       "    </tr>\n",
       "    <tr>\n",
       "      <td>65077</td>\n",
       "      <td>321D0506</td>\n",
       "      <td>Freight Train</td>\n",
       "      <td>Chas McDevitt</td>\n",
       "      <td>rock</td>\n",
       "      <td>Moscow</td>\n",
       "      <td>21:43:59</td>\n",
       "      <td>Friday</td>\n",
       "    </tr>\n",
       "    <tr>\n",
       "      <td>65078</td>\n",
       "      <td>3A64EF84</td>\n",
       "      <td>Tell Me Sweet Little Lies</td>\n",
       "      <td>Monica Lopez</td>\n",
       "      <td>country</td>\n",
       "      <td>Moscow</td>\n",
       "      <td>21:59:46</td>\n",
       "      <td>Friday</td>\n",
       "    </tr>\n",
       "  </tbody>\n",
       "</table>\n",
       "</div>"
      ],
      "text/plain": [
       "         userID                              Track         artist       genre  \\\n",
       "65074  729CBB09                            My Name         McLean         rnb   \n",
       "65075  D08D4A55  Maybe One Day (feat. Black Spade)    Blu & Exile         hip   \n",
       "65076  C5E3A0D5                          Jalopiina            NaN  industrial   \n",
       "65077  321D0506                      Freight Train  Chas McDevitt        rock   \n",
       "65078  3A64EF84          Tell Me Sweet Little Lies   Monica Lopez     country   \n",
       "\n",
       "                 City        time        Day  \n",
       "65074            Moscow  13:32:28  Wednesday  \n",
       "65075  Saint-Petersburg  10:00:00     Monday  \n",
       "65076            Moscow  20:09:26     Friday  \n",
       "65077            Moscow  21:43:59     Friday  \n",
       "65078            Moscow  21:59:46     Friday  "
      ]
     },
     "execution_count": 181,
     "metadata": {},
     "output_type": "execute_result"
    }
   ],
   "source": [
    "# Комментарий ревьюера\n",
    "df.tail(5)"
   ]
  },
  {
   "cell_type": "code",
   "execution_count": 182,
   "metadata": {
    "id": "DSf2kIb-_Zct"
   },
   "outputs": [
    {
     "name": "stdout",
     "output_type": "stream",
     "text": [
      "<class 'pandas.core.frame.DataFrame'>\n",
      "RangeIndex: 65079 entries, 0 to 65078\n",
      "Data columns (total 7 columns):\n",
      "  userID    65079 non-null object\n",
      "Track       63848 non-null object\n",
      "artist      57876 non-null object\n",
      "genre       63881 non-null object\n",
      "  City      65079 non-null object\n",
      "time        65079 non-null object\n",
      "Day         65079 non-null object\n",
      "dtypes: object(7)\n",
      "memory usage: 3.5+ MB\n"
     ]
    }
   ],
   "source": [
    "df.info()\n",
    "# получение общей информации о данных в таблице df"
   ]
  },
  {
   "cell_type": "markdown",
   "metadata": {
    "id": "TaQ2Iwbr_Zct"
   },
   "source": [
    "Итак, в таблице семь столбцов. Тип данных во всех столбцах — `object`.\n",
    "\n",
    "Согласно документации к данным:\n",
    "* `userID` — идентификатор пользователя;\n",
    "* `Track` — название трека;  \n",
    "* `artist` — имя исполнителя;\n",
    "* `genre` — название жанра;\n",
    "* `City` — город пользователя;\n",
    "* `time` — время начала прослушивания;\n",
    "* `Day` — день недели.\n",
    "\n",
    "В названиях колонок видны три нарушения стиля:\n",
    "1. Строчные буквы сочетаются с прописными.\n",
    "2. Встречаются пробелы.\n",
    "3. Найдите ещё одну проблему в названии колонок и опишите её в этом пункте. userID стоит написать в змеином регистре, а не слитно(user_id)\n",
    "\n",
    "\n",
    "\n",
    "Количество значений в столбцах различается. Значит, в данных есть пропущенные значения.\n"
   ]
  },
  {
   "cell_type": "markdown",
   "metadata": {
    "id": "MCB6-dXG_Zct"
   },
   "source": [
    "**Выводы**\n",
    "\n",
    "В каждой строке таблицы — данные о прослушанном треке. Часть колонок описывает саму композицию: название, исполнителя и жанр. Остальные данные рассказывают о пользователе: из какого он города, когда он слушал музыку. \n",
    "\n",
    "Предварительно можно утверждать, что, данных достаточно для проверки гипотез. Но встречаются пропуски в данных, а в названиях колонок — расхождения с хорошим стилем.\n",
    "\n",
    "Чтобы двигаться дальше, нужно устранить проблемы в данных."
   ]
  },
  {
   "cell_type": "markdown",
   "metadata": {
    "id": "SjYF6Ub9_Zct"
   },
   "source": [
    "## Предобработка данных"
   ]
  },
  {
   "cell_type": "markdown",
   "metadata": {
    "id": "dIaKXr29_Zct"
   },
   "source": [
    "### Стиль заголовков"
   ]
  },
  {
   "cell_type": "code",
   "execution_count": 183,
   "metadata": {
    "id": "oKOTdF_Q_Zct"
   },
   "outputs": [
    {
     "data": {
      "text/plain": [
       "Index(['  userID', 'Track', 'artist', 'genre', '  City  ', 'time', 'Day'], dtype='object')"
      ]
     },
     "execution_count": 183,
     "metadata": {},
     "output_type": "execute_result"
    }
   ],
   "source": [
    "df.columns# перечень названий столбцов таблицы df"
   ]
  },
  {
   "cell_type": "code",
   "execution_count": 184,
   "metadata": {
    "id": "ISlFqs5y_Zct"
   },
   "outputs": [],
   "source": [
    "df = df.rename(columns = {'  userID':'user_id','Track':'track', '  City  ':'city', 'Day':'day' })\n",
    "    # переименование столбцов"
   ]
  },
  {
   "cell_type": "code",
   "execution_count": 185,
   "metadata": {
    "id": "d4NOAmTW_Zct"
   },
   "outputs": [
    {
     "data": {
      "text/plain": [
       "Index(['user_id', 'track', 'artist', 'genre', 'city', 'time', 'day'], dtype='object')"
      ]
     },
     "execution_count": 185,
     "metadata": {},
     "output_type": "execute_result"
    }
   ],
   "source": [
    "df.columns\n",
    "# проверка результатов - перечень названий столбцов"
   ]
  },
  {
   "cell_type": "markdown",
   "metadata": {
    "id": "5ISfbcfY_Zct"
   },
   "source": [
    "### Пропуски значений"
   ]
  },
  {
   "cell_type": "code",
   "execution_count": 186,
   "metadata": {
    "id": "RskX29qr_Zct"
   },
   "outputs": [
    {
     "data": {
      "text/plain": [
       "user_id       0\n",
       "track      1231\n",
       "artist     7203\n",
       "genre      1198\n",
       "city          0\n",
       "time          0\n",
       "day           0\n",
       "dtype: int64"
      ]
     },
     "execution_count": 186,
     "metadata": {},
     "output_type": "execute_result"
    }
   ],
   "source": [
    "df.isna().sum()\n",
    "# подсчёт пропусков"
   ]
  },
  {
   "cell_type": "markdown",
   "metadata": {
    "id": "qubhgnlO_Zct"
   },
   "source": [
    "Не все пропущенные значения влияют на исследование. Так в `track` и `artist` пропуски не важны для вашей работы. Достаточно заменить их явными обозначениями.\n",
    "\n",
    "Но пропуски в `genre` могут помешать сравнению музыкальных вкусов в Москве и Санкт-Петербурге. На практике было бы правильно установить причину пропусков и восстановить данные. Такой возможности нет в учебном проекте. Придётся:\n",
    "* заполнить и эти пропуски явными обозначениями,\n",
    "* оценить, насколько они повредят расчётам. "
   ]
  },
  {
   "cell_type": "code",
   "execution_count": 187,
   "metadata": {
    "id": "KplB5qWs_Zct"
   },
   "outputs": [],
   "source": [
    "columns_name = ['track', 'artist','genre']\n",
    "for column in columns_name:\n",
    "     df[column] = df[column].fillna('unknown')\n",
    "# перебор названий столбцов в цикле и замена пропущенных значений на 'unknown'"
   ]
  },
  {
   "cell_type": "code",
   "execution_count": 188,
   "metadata": {
    "id": "Tq4nYRX4_Zct"
   },
   "outputs": [
    {
     "data": {
      "text/plain": [
       "user_id    0\n",
       "track      0\n",
       "artist     0\n",
       "genre      0\n",
       "city       0\n",
       "time       0\n",
       "day        0\n",
       "dtype: int64"
      ]
     },
     "execution_count": 188,
     "metadata": {},
     "output_type": "execute_result"
    }
   ],
   "source": [
    "df.isna().sum()\n",
    "# подсчёт пропусков"
   ]
  },
  {
   "cell_type": "markdown",
   "metadata": {
    "id": "BWKRtBJ3_Zct"
   },
   "source": [
    "### Дубликаты"
   ]
  },
  {
   "cell_type": "code",
   "execution_count": 189,
   "metadata": {
    "id": "36eES_S0_Zct"
   },
   "outputs": [
    {
     "data": {
      "text/plain": [
       "3826"
      ]
     },
     "execution_count": 189,
     "metadata": {},
     "output_type": "execute_result"
    }
   ],
   "source": [
    "df.duplicated().sum()\n",
    "# подсчёт явных дубликатов"
   ]
  },
  {
   "cell_type": "code",
   "execution_count": 190,
   "metadata": {
    "id": "exFHq6tt_Zct"
   },
   "outputs": [],
   "source": [
    "df = df.drop_duplicates().reset_index()\n",
    "# удаление явных дубликатов (с удалением старых индексов и формированием новых)"
   ]
  },
  {
   "cell_type": "code",
   "execution_count": 191,
   "metadata": {
    "id": "-8PuNWQ0_Zct"
   },
   "outputs": [
    {
     "data": {
      "text/plain": [
       "0"
      ]
     },
     "execution_count": 191,
     "metadata": {},
     "output_type": "execute_result"
    }
   ],
   "source": [
    "df.duplicated().sum()\n",
    "# проверка на отсутствие дубликатов"
   ]
  },
  {
   "cell_type": "code",
   "execution_count": 192,
   "metadata": {
    "id": "JIUcqzZN_Zct"
   },
   "outputs": [
    {
     "data": {
      "text/plain": [
       "array(['acid', 'acoustic', 'action', 'adult', 'africa', 'afrikaans',\n",
       "       'alternative', 'alternativepunk', 'ambient', 'americana',\n",
       "       'animated', 'anime', 'arabesk', 'arabic', 'arena',\n",
       "       'argentinetango', 'art', 'audiobook', 'author', 'avantgarde',\n",
       "       'axé', 'baile', 'balkan', 'beats', 'bigroom', 'black', 'bluegrass',\n",
       "       'blues', 'bollywood', 'bossa', 'brazilian', 'breakbeat', 'breaks',\n",
       "       'broadway', 'cantautori', 'cantopop', 'canzone', 'caribbean',\n",
       "       'caucasian', 'celtic', 'chamber', 'chanson', 'children', 'chill',\n",
       "       'chinese', 'choral', 'christian', 'christmas', 'classical',\n",
       "       'classicmetal', 'club', 'colombian', 'comedy', 'conjazz',\n",
       "       'contemporary', 'country', 'cuban', 'dance', 'dancehall',\n",
       "       'dancepop', 'dark', 'death', 'deep', 'deutschrock', 'deutschspr',\n",
       "       'dirty', 'disco', 'dnb', 'documentary', 'downbeat', 'downtempo',\n",
       "       'drum', 'dub', 'dubstep', 'eastern', 'easy', 'electronic',\n",
       "       'electropop', 'emo', 'entehno', 'epicmetal', 'estrada', 'ethnic',\n",
       "       'eurofolk', 'european', 'experimental', 'extrememetal', 'fado',\n",
       "       'fairytail', 'film', 'fitness', 'flamenco', 'folk', 'folklore',\n",
       "       'folkmetal', 'folkrock', 'folktronica', 'forró', 'frankreich',\n",
       "       'französisch', 'french', 'funk', 'future', 'gangsta', 'garage',\n",
       "       'german', 'ghazal', 'gitarre', 'glitch', 'gospel', 'gothic',\n",
       "       'grime', 'grunge', 'gypsy', 'handsup', \"hard'n'heavy\", 'hardcore',\n",
       "       'hardstyle', 'hardtechno', 'hip', 'hip-hop', 'hiphop',\n",
       "       'historisch', 'holiday', 'hop', 'horror', 'house', 'hymn', 'idm',\n",
       "       'independent', 'indian', 'indie', 'indipop', 'industrial',\n",
       "       'inspirational', 'instrumental', 'international', 'irish', 'jam',\n",
       "       'japanese', 'jazz', 'jewish', 'jpop', 'jungle', 'k-pop',\n",
       "       'karadeniz', 'karaoke', 'kayokyoku', 'korean', 'laiko', 'latin',\n",
       "       'latino', 'leftfield', 'local', 'lounge', 'loungeelectronic',\n",
       "       'lovers', 'malaysian', 'mandopop', 'marschmusik', 'meditative',\n",
       "       'mediterranean', 'melodic', 'metal', 'metalcore', 'mexican',\n",
       "       'middle', 'minimal', 'miscellaneous', 'modern', 'mood', 'mpb',\n",
       "       'muslim', 'native', 'neoklassik', 'neue', 'new', 'newage',\n",
       "       'newwave', 'nu', 'nujazz', 'numetal', 'oceania', 'old', 'opera',\n",
       "       'orchestral', 'other', 'piano', 'podcasts', 'pop', 'popdance',\n",
       "       'popelectronic', 'popeurodance', 'poprussian', 'post',\n",
       "       'posthardcore', 'postrock', 'power', 'progmetal', 'progressive',\n",
       "       'psychedelic', 'punjabi', 'punk', 'quebecois', 'ragga', 'ram',\n",
       "       'rancheras', 'rap', 'rave', 'reggae', 'reggaeton', 'regional',\n",
       "       'relax', 'religious', 'retro', 'rhythm', 'rnb', 'rnr', 'rock',\n",
       "       'rockabilly', 'rockalternative', 'rockindie', 'rockother',\n",
       "       'romance', 'roots', 'ruspop', 'rusrap', 'rusrock', 'russian',\n",
       "       'salsa', 'samba', 'scenic', 'schlager', 'self', 'sertanejo',\n",
       "       'shanson', 'shoegazing', 'showtunes', 'singer', 'ska', 'skarock',\n",
       "       'slow', 'smooth', 'soft', 'soul', 'soulful', 'sound', 'soundtrack',\n",
       "       'southern', 'specialty', 'speech', 'spiritual', 'sport',\n",
       "       'stonerrock', 'surf', 'swing', 'synthpop', 'synthrock',\n",
       "       'sängerportrait', 'tango', 'tanzorchester', 'taraftar', 'tatar',\n",
       "       'tech', 'techno', 'teen', 'thrash', 'top', 'traditional',\n",
       "       'tradjazz', 'trance', 'tribal', 'trip', 'triphop', 'tropical',\n",
       "       'türk', 'türkçe', 'ukrrock', 'unknown', 'urban', 'uzbek',\n",
       "       'variété', 'vi', 'videogame', 'vocal', 'western', 'world',\n",
       "       'worldbeat', 'ïîï', 'электроника'], dtype=object)"
      ]
     },
     "execution_count": 192,
     "metadata": {},
     "output_type": "execute_result"
    }
   ],
   "source": [
    "df['genre'].sort_values().unique()\n",
    "# Просмотр уникальных названий жанров"
   ]
  },
  {
   "cell_type": "code",
   "execution_count": 193,
   "metadata": {
    "id": "ErNDkmns_Zct"
   },
   "outputs": [],
   "source": [
    "def replace_wrong_genres(wrong_genres,correct_genre):\n",
    "    for wrong_genre in wrong_genres:\n",
    "        df['genre'] = df['genre'].replace(wrong_genre, correct_genre)\n",
    "        \n",
    "# Функция для замены неявных дубликатов"
   ]
  },
  {
   "cell_type": "code",
   "execution_count": 194,
   "metadata": {
    "id": "YN5i2hpmSo09",
    "scrolled": true
   },
   "outputs": [],
   "source": [
    "duplicates = ['hip', 'hop' , 'hip-hop']\n",
    "tru_name = 'hiphop'\n",
    "\n",
    "replace_wrong_genres(duplicates, tru_name)\n",
    "# Устранение неявных дубликатов"
   ]
  },
  {
   "cell_type": "code",
   "execution_count": 195,
   "metadata": {
    "id": "wvixALnFG15m"
   },
   "outputs": [
    {
     "data": {
      "text/plain": [
       "array(['acid', 'acoustic', 'action', 'adult', 'africa', 'afrikaans',\n",
       "       'alternative', 'alternativepunk', 'ambient', 'americana',\n",
       "       'animated', 'anime', 'arabesk', 'arabic', 'arena',\n",
       "       'argentinetango', 'art', 'audiobook', 'author', 'avantgarde',\n",
       "       'axé', 'baile', 'balkan', 'beats', 'bigroom', 'black', 'bluegrass',\n",
       "       'blues', 'bollywood', 'bossa', 'brazilian', 'breakbeat', 'breaks',\n",
       "       'broadway', 'cantautori', 'cantopop', 'canzone', 'caribbean',\n",
       "       'caucasian', 'celtic', 'chamber', 'chanson', 'children', 'chill',\n",
       "       'chinese', 'choral', 'christian', 'christmas', 'classical',\n",
       "       'classicmetal', 'club', 'colombian', 'comedy', 'conjazz',\n",
       "       'contemporary', 'country', 'cuban', 'dance', 'dancehall',\n",
       "       'dancepop', 'dark', 'death', 'deep', 'deutschrock', 'deutschspr',\n",
       "       'dirty', 'disco', 'dnb', 'documentary', 'downbeat', 'downtempo',\n",
       "       'drum', 'dub', 'dubstep', 'eastern', 'easy', 'electronic',\n",
       "       'electropop', 'emo', 'entehno', 'epicmetal', 'estrada', 'ethnic',\n",
       "       'eurofolk', 'european', 'experimental', 'extrememetal', 'fado',\n",
       "       'fairytail', 'film', 'fitness', 'flamenco', 'folk', 'folklore',\n",
       "       'folkmetal', 'folkrock', 'folktronica', 'forró', 'frankreich',\n",
       "       'französisch', 'french', 'funk', 'future', 'gangsta', 'garage',\n",
       "       'german', 'ghazal', 'gitarre', 'glitch', 'gospel', 'gothic',\n",
       "       'grime', 'grunge', 'gypsy', 'handsup', \"hard'n'heavy\", 'hardcore',\n",
       "       'hardstyle', 'hardtechno', 'hiphop', 'historisch', 'holiday',\n",
       "       'horror', 'house', 'hymn', 'idm', 'independent', 'indian', 'indie',\n",
       "       'indipop', 'industrial', 'inspirational', 'instrumental',\n",
       "       'international', 'irish', 'jam', 'japanese', 'jazz', 'jewish',\n",
       "       'jpop', 'jungle', 'k-pop', 'karadeniz', 'karaoke', 'kayokyoku',\n",
       "       'korean', 'laiko', 'latin', 'latino', 'leftfield', 'local',\n",
       "       'lounge', 'loungeelectronic', 'lovers', 'malaysian', 'mandopop',\n",
       "       'marschmusik', 'meditative', 'mediterranean', 'melodic', 'metal',\n",
       "       'metalcore', 'mexican', 'middle', 'minimal', 'miscellaneous',\n",
       "       'modern', 'mood', 'mpb', 'muslim', 'native', 'neoklassik', 'neue',\n",
       "       'new', 'newage', 'newwave', 'nu', 'nujazz', 'numetal', 'oceania',\n",
       "       'old', 'opera', 'orchestral', 'other', 'piano', 'podcasts', 'pop',\n",
       "       'popdance', 'popelectronic', 'popeurodance', 'poprussian', 'post',\n",
       "       'posthardcore', 'postrock', 'power', 'progmetal', 'progressive',\n",
       "       'psychedelic', 'punjabi', 'punk', 'quebecois', 'ragga', 'ram',\n",
       "       'rancheras', 'rap', 'rave', 'reggae', 'reggaeton', 'regional',\n",
       "       'relax', 'religious', 'retro', 'rhythm', 'rnb', 'rnr', 'rock',\n",
       "       'rockabilly', 'rockalternative', 'rockindie', 'rockother',\n",
       "       'romance', 'roots', 'ruspop', 'rusrap', 'rusrock', 'russian',\n",
       "       'salsa', 'samba', 'scenic', 'schlager', 'self', 'sertanejo',\n",
       "       'shanson', 'shoegazing', 'showtunes', 'singer', 'ska', 'skarock',\n",
       "       'slow', 'smooth', 'soft', 'soul', 'soulful', 'sound', 'soundtrack',\n",
       "       'southern', 'specialty', 'speech', 'spiritual', 'sport',\n",
       "       'stonerrock', 'surf', 'swing', 'synthpop', 'synthrock',\n",
       "       'sängerportrait', 'tango', 'tanzorchester', 'taraftar', 'tatar',\n",
       "       'tech', 'techno', 'teen', 'thrash', 'top', 'traditional',\n",
       "       'tradjazz', 'trance', 'tribal', 'trip', 'triphop', 'tropical',\n",
       "       'türk', 'türkçe', 'ukrrock', 'unknown', 'urban', 'uzbek',\n",
       "       'variété', 'vi', 'videogame', 'vocal', 'western', 'world',\n",
       "       'worldbeat', 'ïîï', 'электроника'], dtype=object)"
      ]
     },
     "execution_count": 195,
     "metadata": {},
     "output_type": "execute_result"
    }
   ],
   "source": [
    "df['genre'].sort_values().unique()\n",
    "# Проверка на неявные дубликаты"
   ]
  },
  {
   "cell_type": "markdown",
   "metadata": {
    "id": "jz6a9-7HQUDd"
   },
   "source": [
    "**Выводы**\n",
    "\n",
    "Предобработка обнаружила три проблемы в данных:\n",
    "\n",
    "- нарушения в стиле заголовков,\n",
    "- пропущенные значения,\n",
    "- дубликаты — явные и неявные.\n",
    "\n",
    "Вы исправили заголовки, чтобы упростить работу с таблицей. Без дубликатов исследование станет более точным.\n",
    "\n",
    "Пропущенные значения вы заменили на `'unknown'`. Ещё предстоит увидеть, не повредят ли исследованию пропуски в колонке `genre`.\n",
    "\n",
    "Теперь можно перейти к проверке гипотез. "
   ]
  },
  {
   "cell_type": "markdown",
   "metadata": {
    "id": "WttZHXH0SqKk"
   },
   "source": [
    "## Проверка гипотез"
   ]
  },
  {
   "cell_type": "markdown",
   "metadata": {
    "id": "Im936VVi_Zcu"
   },
   "source": [
    "\n",
    "### Сравнение поведения пользователей двух столиц"
   ]
  },
  {
   "cell_type": "code",
   "execution_count": 196,
   "metadata": {
    "id": "0_Qs96oh_Zcu"
   },
   "outputs": [
    {
     "data": {
      "text/plain": [
       "city\n",
       "Moscow              42741\n",
       "Saint-Petersburg    18512\n",
       "Name: genre, dtype: int64"
      ]
     },
     "execution_count": 196,
     "metadata": {},
     "output_type": "execute_result"
    }
   ],
   "source": [
    "df.groupby('city')['genre'].count()\n",
    "# Подсчёт прослушиваний в каждом городе"
   ]
  },
  {
   "cell_type": "markdown",
   "metadata": {
    "id": "dzli3w8o_Zcu"
   },
   "source": [
    "В Москве прослушиваний больше, чем в Петербурге. Из этого не следует, что московские пользователи чаще слушают музыку. Просто самих пользователей в Москве больше."
   ]
  },
  {
   "cell_type": "code",
   "execution_count": 197,
   "metadata": {
    "id": "uZMKjiJz_Zcu"
   },
   "outputs": [
    {
     "data": {
      "text/plain": [
       "day\n",
       "Friday       21840\n",
       "Monday       21354\n",
       "Wednesday    18059\n",
       "Name: time, dtype: int64"
      ]
     },
     "execution_count": 197,
     "metadata": {},
     "output_type": "execute_result"
    }
   ],
   "source": [
    "df.groupby('day')['time'].count()\n",
    "# Подсчёт прослушиваний в каждый из трёх дней"
   ]
  },
  {
   "cell_type": "markdown",
   "metadata": {
    "id": "cC2tNrlL_Zcu"
   },
   "source": [
    "В среднем пользователи из двух городов менее активны по средам. Но картина может измениться, если рассмотреть каждый город в отдельности."
   ]
  },
  {
   "cell_type": "code",
   "execution_count": 198,
   "metadata": {
    "id": "Nz3GdQB1_Zcu"
   },
   "outputs": [],
   "source": [
    "def number_tracks(day, city):\n",
    "    track_list = df[df['day'] == day]\n",
    "    track_list = track_list[track_list['city'] == city]\n",
    "    track_list_count = track_list['user_id'].count()\n",
    "    return track_list_count\n",
    "# <создание функции number_tracks()>\n"
   ]
  },
  {
   "cell_type": "code",
   "execution_count": 199,
   "metadata": {
    "id": "rJcRATNQ_Zcu"
   },
   "outputs": [],
   "source": [
    "kol_mos_monday = number_tracks('Monday', 'Moscow')\n",
    "# количество прослушиваний в Москве по понедельникам"
   ]
  },
  {
   "cell_type": "code",
   "execution_count": 200,
   "metadata": {
    "id": "hq_ncZ5T_Zcu"
   },
   "outputs": [],
   "source": [
    "kol_piter_monday = number_tracks('Monday', 'Saint-Petersburg')\n",
    "# количество прослушиваний в Санкт-Петербурге по понедельникам"
   ]
  },
  {
   "cell_type": "code",
   "execution_count": 201,
   "metadata": {
    "id": "_NTy2VPU_Zcu"
   },
   "outputs": [],
   "source": [
    "kol_mos_wednesday = number_tracks('Wednesday', 'Moscow') \n",
    "# количество прослушиваний в Москве по средам"
   ]
  },
  {
   "cell_type": "code",
   "execution_count": 202,
   "metadata": {
    "id": "j2y3TAwo_Zcu"
   },
   "outputs": [],
   "source": [
    "kol_piter_wednesday = number_tracks('Wednesday','Saint-Petersburg') \n",
    "# количество прослушиваний в Санкт-Петербурге по средам"
   ]
  },
  {
   "cell_type": "code",
   "execution_count": 203,
   "metadata": {
    "id": "vYDw5u_K_Zcu"
   },
   "outputs": [],
   "source": [
    "kol_mos_friday = number_tracks('Friday','Moscow') \n",
    "# количество прослушиваний в Москве по пятницам"
   ]
  },
  {
   "cell_type": "code",
   "execution_count": 204,
   "metadata": {
    "id": "8_yzFtW3_Zcu"
   },
   "outputs": [],
   "source": [
    "kol_piter_friday = number_tracks('Friday','Saint-Petersburg')\n",
    "# количество прослушиваний в Санкт-Петербурге по пятницам"
   ]
  },
  {
   "cell_type": "code",
   "execution_count": 205,
   "metadata": {
    "id": "APAcLpOr_Zcu"
   },
   "outputs": [
    {
     "data": {
      "text/html": [
       "<div>\n",
       "<style scoped>\n",
       "    .dataframe tbody tr th:only-of-type {\n",
       "        vertical-align: middle;\n",
       "    }\n",
       "\n",
       "    .dataframe tbody tr th {\n",
       "        vertical-align: top;\n",
       "    }\n",
       "\n",
       "    .dataframe thead th {\n",
       "        text-align: right;\n",
       "    }\n",
       "</style>\n",
       "<table border=\"1\" class=\"dataframe\">\n",
       "  <thead>\n",
       "    <tr style=\"text-align: right;\">\n",
       "      <th></th>\n",
       "      <th>city</th>\n",
       "      <th>monday</th>\n",
       "      <th>wednesday</th>\n",
       "      <th>friday</th>\n",
       "    </tr>\n",
       "  </thead>\n",
       "  <tbody>\n",
       "    <tr>\n",
       "      <td>0</td>\n",
       "      <td>Moscow</td>\n",
       "      <td>15740</td>\n",
       "      <td>11056</td>\n",
       "      <td>15945</td>\n",
       "    </tr>\n",
       "    <tr>\n",
       "      <td>1</td>\n",
       "      <td>Saint-Petersburg</td>\n",
       "      <td>5614</td>\n",
       "      <td>7003</td>\n",
       "      <td>5895</td>\n",
       "    </tr>\n",
       "  </tbody>\n",
       "</table>\n",
       "</div>"
      ],
      "text/plain": [
       "               city  monday  wednesday  friday\n",
       "0            Moscow   15740      11056   15945\n",
       "1  Saint-Petersburg    5614       7003    5895"
      ]
     },
     "execution_count": 205,
     "metadata": {},
     "output_type": "execute_result"
    }
   ],
   "source": [
    "columns = ['city', 'monday', 'wednesday', 'friday']\n",
    "citys_by_days = pd.DataFrame(\n",
    "    {\n",
    "        'city':['Moscow', 'Saint-Petersburg'],\n",
    "        'monday':[kol_mos_monday, kol_piter_monday],\n",
    "        'wednesday':[kol_mos_wednesday, kol_piter_wednesday],\n",
    "        'friday': [kol_mos_friday, kol_piter_friday]\n",
    "    }    \n",
    ")\n",
    "citys_by_days\n",
    "# Таблица с результатами"
   ]
  },
  {
   "cell_type": "markdown",
   "metadata": {
    "id": "-EgPIHYu_Zcu"
   },
   "source": [
    "**Выводы**\n",
    "\n",
    "Данные показывают разницу поведения пользователей:\n",
    "\n",
    "- В Москве пик прослушиваний приходится на понедельник и пятницу, а в среду заметен спад.\n",
    "- В Петербурге, наоборот, больше слушают музыку по средам. Активность в понедельник и пятницу здесь почти в равной мере уступает среде.\n"
   ]
  },
  {
   "cell_type": "markdown",
   "metadata": {
    "id": "atZAxtq4_Zcu"
   },
   "source": [
    "### Музыка в начале и в конце недели"
   ]
  },
  {
   "cell_type": "markdown",
   "metadata": {
    "id": "eXrQqXFH_Zcu"
   },
   "source": [
    "Согласно второй гипотезе, утром в понедельник в Москве преобладают одни жанры, а в Петербурге — другие. Так же и вечером пятницы преобладают разные жанры — в зависимости от города."
   ]
  },
  {
   "cell_type": "code",
   "execution_count": 206,
   "metadata": {
    "id": "qeaFfM_P_Zcu"
   },
   "outputs": [],
   "source": [
    "moscow_general = df[df['city'] == 'Moscow']\n",
    "# получение таблицы moscow_general из тех строк таблицы df, \n",
    "# для которых значение в столбце 'city' равно 'Moscow'\n"
   ]
  },
  {
   "cell_type": "code",
   "execution_count": 207,
   "metadata": {
    "id": "ORaVRKto_Zcu"
   },
   "outputs": [],
   "source": [
    "spb_general = df[df['city'] == 'Saint-Petersburg']\n",
    "# получение таблицы spb_general из тех строк таблицы df,\n",
    "# для которых значение в столбце 'city' равно 'Saint-Petersburg'\n"
   ]
  },
  {
   "cell_type": "code",
   "execution_count": 208,
   "metadata": {
    "id": "laJT9BYl_Zcu"
   },
   "outputs": [],
   "source": [
    "def genre_weekday(table, day, time1, time2):\n",
    "    gerne_df = table[table['day'] == day]\n",
    "    gerne_df = gerne_df[gerne_df['time'] > time1]\n",
    "    gerne_df = gerne_df[gerne_df['time'] < time2]\n",
    "    genre_df_count = gerne_df.groupby('genre')['genre'].count()\n",
    "    genre_df_sorted = genre_df_count.sort_values(ascending=False)\n",
    "    return genre_df_sorted.head(10)\n",
    "# Объявление функции genre_weekday() с параметрами table, day, time1, time2,\n",
    "# которая возвращает информацию о самых популярных жанрах в указанный день в\n",
    "# заданное время:\n"
   ]
  },
  {
   "cell_type": "code",
   "execution_count": 209,
   "metadata": {
    "id": "yz7itPUQ_Zcu"
   },
   "outputs": [
    {
     "data": {
      "text/plain": [
       "genre\n",
       "pop            781\n",
       "dance          549\n",
       "electronic     480\n",
       "rock           474\n",
       "hiphop         286\n",
       "ruspop         186\n",
       "world          181\n",
       "rusrap         175\n",
       "alternative    164\n",
       "unknown        161\n",
       "Name: genre, dtype: int64"
      ]
     },
     "execution_count": 209,
     "metadata": {},
     "output_type": "execute_result"
    }
   ],
   "source": [
    "msk_morning_monday = genre_weekday(moscow_general, 'Monday', '07:00', '11:00')\n",
    "msk_morning_monday\n",
    "# вызов функции для утра понедельника в Москве "
   ]
  },
  {
   "cell_type": "code",
   "execution_count": 210,
   "metadata": {
    "id": "kwUcHPdy_Zcu"
   },
   "outputs": [
    {
     "data": {
      "text/plain": [
       "genre\n",
       "pop            218\n",
       "dance          182\n",
       "rock           162\n",
       "electronic     147\n",
       "hiphop          80\n",
       "ruspop          64\n",
       "alternative     58\n",
       "rusrap          55\n",
       "jazz            44\n",
       "classical       40\n",
       "Name: genre, dtype: int64"
      ]
     },
     "execution_count": 210,
     "metadata": {},
     "output_type": "execute_result"
    }
   ],
   "source": [
    "spb_morning_monday = genre_weekday(spb_general, 'Monday', '07:00', '11:00')\n",
    "spb_morning_monday\n",
    "# вызов функции для утра понедельника в Петербурге "
   ]
  },
  {
   "cell_type": "code",
   "execution_count": 211,
   "metadata": {
    "id": "EzXVRE1o_Zcu"
   },
   "outputs": [
    {
     "data": {
      "text/plain": [
       "genre\n",
       "pop            713\n",
       "rock           517\n",
       "dance          495\n",
       "electronic     482\n",
       "hiphop         273\n",
       "world          208\n",
       "ruspop         170\n",
       "alternative    163\n",
       "classical      163\n",
       "rusrap         142\n",
       "Name: genre, dtype: int64"
      ]
     },
     "execution_count": 211,
     "metadata": {},
     "output_type": "execute_result"
    }
   ],
   "source": [
    "msk_evening_friday = genre_weekday(moscow_general, 'Friday', '17:00', '23:00')\n",
    "msk_evening_friday\n",
    "# вызов функции для вечера пятницы в Москве"
   ]
  },
  {
   "cell_type": "code",
   "execution_count": 212,
   "metadata": {
    "id": "JZaEKu5v_Zcu"
   },
   "outputs": [
    {
     "data": {
      "text/plain": [
       "genre\n",
       "pop            256\n",
       "rock           216\n",
       "electronic     216\n",
       "dance          210\n",
       "hiphop          97\n",
       "alternative     63\n",
       "jazz            61\n",
       "classical       60\n",
       "rusrap          59\n",
       "world           54\n",
       "Name: genre, dtype: int64"
      ]
     },
     "execution_count": 212,
     "metadata": {},
     "output_type": "execute_result"
    }
   ],
   "source": [
    "spb_evening_friday = genre_weekday(spb_general, 'Friday', '17:00', '23:00')\n",
    "spb_evening_friday\n",
    "# вызов функции для вечера пятницы в Петербурге"
   ]
  },
  {
   "cell_type": "markdown",
   "metadata": {
    "id": "wrCe4MNX_Zcu"
   },
   "source": [
    "**Выводы**\n",
    "\n",
    "Если сравнить топ-10 жанров в понедельник утром, можно сделать такие выводы:\n",
    "\n",
    "1. В Москве и Петербурге слушают похожую музыку. Единственное отличие — в московский рейтинг вошёл жанр “world”, а в петербургский — джаз и классика.\n",
    "\n",
    "2. В Москве пропущенных значений оказалось так много, что значение `'unknown'` заняло десятое место среди самых популярных жанров. Значит, пропущенные значения занимают существенную долю в данных и угрожают достоверности исследования.\n",
    "\n",
    "Вечер пятницы не меняет эту картину. Некоторые жанры поднимаются немного выше, другие спускаются, но в целом топ-10 остаётся тем же самым.\n",
    "\n",
    "Таким образом, вторая гипотеза подтвердилась лишь частично:\n",
    "* Пользователи слушают похожую музыку в начале недели и в конце.\n",
    "* Разница между Москвой и Петербургом не слишком выражена. В Москве чаще слушают русскую популярную музыку, в Петербурге — джаз.\n",
    "\n",
    "Однако пропуски в данных ставят под сомнение этот результат. В Москве их так много, что рейтинг топ-10 мог бы выглядеть иначе, если бы не утерянные  данные о жанрах."
   ]
  },
  {
   "cell_type": "markdown",
   "metadata": {
    "id": "JolODAqr_Zcu"
   },
   "source": [
    "### Жанровые предпочтения в Москве и Петербурге\n",
    "\n",
    "Гипотеза: Петербург — столица рэпа, музыку этого жанра там слушают чаще, чем в Москве.  А Москва — город контрастов, в котором, тем не менее, преобладает поп-музыка."
   ]
  },
  {
   "cell_type": "code",
   "execution_count": 215,
   "metadata": {
    "id": "r19lIPke_Zcu"
   },
   "outputs": [],
   "source": [
    "moscow_genres = moscow_general.groupby('genre')['genre'].count(). sort_values(ascending=False)\n"
   ]
  },
  {
   "cell_type": "markdown",
   "metadata": {
    "id": "6kMuomxTiIr8"
   },
   "source": [
    "Выведите на экран первые десять строк `moscow_genres`:"
   ]
  },
  {
   "cell_type": "code",
   "execution_count": 216,
   "metadata": {
    "id": "WhCSooF8_Zcv"
   },
   "outputs": [
    {
     "data": {
      "text/plain": [
       "genre\n",
       "pop            5892\n",
       "dance          4435\n",
       "rock           3965\n",
       "electronic     3786\n",
       "hiphop         2096\n",
       "classical      1616\n",
       "world          1432\n",
       "alternative    1379\n",
       "ruspop         1372\n",
       "rusrap         1161\n",
       "Name: genre, dtype: int64"
      ]
     },
     "execution_count": 216,
     "metadata": {},
     "output_type": "execute_result"
    }
   ],
   "source": [
    "moscow_genres.head(10)\n",
    "# просмотр первых 10 строк moscow_genres"
   ]
  },
  {
   "cell_type": "code",
   "execution_count": 217,
   "metadata": {
    "id": "gluLIpE7_Zcv"
   },
   "outputs": [],
   "source": [
    "spb_genres = spb_general.groupby('genre')['genre'].count().sort_values(ascending=False)\n"
   ]
  },
  {
   "cell_type": "code",
   "execution_count": 218,
   "metadata": {
    "id": "uaGJHjVU_Zcv"
   },
   "outputs": [
    {
     "data": {
      "text/plain": [
       "genre\n",
       "pop            2431\n",
       "dance          1932\n",
       "rock           1879\n",
       "electronic     1736\n",
       "hiphop          960\n",
       "alternative     649\n",
       "classical       646\n",
       "rusrap          564\n",
       "ruspop          538\n",
       "world           515\n",
       "Name: genre, dtype: int64"
      ]
     },
     "execution_count": 218,
     "metadata": {},
     "output_type": "execute_result"
    }
   ],
   "source": [
    "spb_genres.head(10)\n",
    "# просмотр первых 10 строк spb_genres"
   ]
  },
  {
   "cell_type": "markdown",
   "metadata": {
    "id": "RY51YJYu_Zcv"
   },
   "source": [
    "**Выводы**"
   ]
  },
  {
   "cell_type": "markdown",
   "metadata": {
    "id": "nVhnJEm__Zcv"
   },
   "source": [
    "Гипотеза частично подтвердилась:\n",
    "* Поп-музыка — самый популярный жанр в Москве, как и предполагала гипотеза. Более того, в топ-10 жанров встречается близкий жанр — русская популярная музыка.\n",
    "* Вопреки ожиданиям, рэп одинаково популярен в Москве и Петербурге. \n"
   ]
  },
  {
   "cell_type": "markdown",
   "metadata": {
    "id": "ykKQ0N65_Zcv"
   },
   "source": [
    "## Итоги исследования"
   ]
  },
  {
   "cell_type": "markdown",
   "metadata": {
    "id": "tjUwbHb3_Zcv"
   },
   "source": [
    "Проверено три гипотезы и установлено:\n",
    "\n",
    "1. День недели по-разному влияет на активность пользователей в Москве и Петербурге. \n",
    "\n",
    "Первая гипотеза полностью подтвердилась.\n",
    "\n",
    "2. Музыкальные предпочтения не сильно меняются в течение недели — будь то Москва или Петербург. Небольшие различия заметны в начале недели, по понедельникам:\n",
    "* в Москве слушают музыку жанра “world”,\n",
    "* в Петербурге — джаз и классику.\n",
    "\n",
    "Таким образом, вторая гипотеза подтвердилась лишь отчасти. Этот результат мог оказаться иным, если бы не пропуски в данных.\n",
    "\n",
    "3. Во вкусах пользователей Москвы и Петербурга больше общего чем различий. Вопреки ожиданиям, предпочтения жанров в Петербурге напоминают московские.\n",
    "\n",
    "Третья гипотеза не подтвердилась. Если различия в предпочтениях и существуют, на основной массе пользователей они незаметны.\n"
   ]
  }
 ],
 "metadata": {
  "ExecuteTimeLog": [
   {
    "duration": 747,
    "start_time": "2022-02-23T08:47:30.213Z"
   },
   {
    "duration": 253,
    "start_time": "2022-02-23T08:48:42.515Z"
   },
   {
    "duration": 283,
    "start_time": "2022-02-23T08:49:13.959Z"
   },
   {
    "duration": 739,
    "start_time": "2022-02-23T08:50:53.850Z"
   },
   {
    "duration": 1861,
    "start_time": "2022-02-23T08:50:56.676Z"
   },
   {
    "duration": 1966,
    "start_time": "2022-02-23T08:53:14.617Z"
   },
   {
    "duration": 2081,
    "start_time": "2022-02-23T08:53:30.181Z"
   },
   {
    "duration": 1957,
    "start_time": "2022-02-23T08:53:42.682Z"
   },
   {
    "duration": 281,
    "start_time": "2022-02-23T08:53:54.869Z"
   },
   {
    "duration": 624,
    "start_time": "2022-02-23T09:04:09.272Z"
   },
   {
    "duration": 1930,
    "start_time": "2022-02-23T09:16:20.279Z"
   },
   {
    "duration": 1796,
    "start_time": "2022-02-23T09:16:40.807Z"
   },
   {
    "duration": 1889,
    "start_time": "2022-02-23T09:18:53.946Z"
   },
   {
    "duration": 1790,
    "start_time": "2022-02-23T09:19:03.801Z"
   },
   {
    "duration": 939,
    "start_time": "2022-02-23T09:22:20.791Z"
   },
   {
    "duration": 623,
    "start_time": "2022-02-23T09:22:59.765Z"
   },
   {
    "duration": 81,
    "start_time": "2022-02-23T09:32:40.473Z"
   },
   {
    "duration": 74,
    "start_time": "2022-02-23T09:32:44.117Z"
   },
   {
    "duration": 190,
    "start_time": "2022-02-23T09:33:29.616Z"
   },
   {
    "duration": 25,
    "start_time": "2022-02-23T09:33:48.577Z"
   },
   {
    "duration": 37,
    "start_time": "2022-02-23T09:34:16.386Z"
   },
   {
    "duration": 6,
    "start_time": "2022-02-23T09:48:30.316Z"
   },
   {
    "duration": 7,
    "start_time": "2022-02-23T09:49:25.485Z"
   },
   {
    "duration": 334,
    "start_time": "2022-02-23T09:56:45.293Z"
   },
   {
    "duration": 53,
    "start_time": "2022-02-23T09:57:13.008Z"
   },
   {
    "duration": 6,
    "start_time": "2022-02-23T09:57:44.754Z"
   },
   {
    "duration": 5,
    "start_time": "2022-02-23T09:58:26.518Z"
   },
   {
    "duration": 247,
    "start_time": "2022-02-23T09:59:39.632Z"
   },
   {
    "duration": 81,
    "start_time": "2022-02-23T10:01:23.629Z"
   },
   {
    "duration": 88,
    "start_time": "2022-02-23T10:01:55.170Z"
   },
   {
    "duration": 47,
    "start_time": "2022-02-23T10:02:02.950Z"
   },
   {
    "duration": 6,
    "start_time": "2022-02-23T10:02:24.509Z"
   },
   {
    "duration": 6,
    "start_time": "2022-02-23T10:03:42.405Z"
   },
   {
    "duration": 33,
    "start_time": "2022-02-23T10:07:14.569Z"
   },
   {
    "duration": 33,
    "start_time": "2022-02-23T10:07:34.097Z"
   },
   {
    "duration": 208,
    "start_time": "2022-02-23T17:16:11.892Z"
   },
   {
    "duration": 172,
    "start_time": "2022-02-23T17:18:12.528Z"
   },
   {
    "duration": 167,
    "start_time": "2022-02-23T17:18:49.436Z"
   },
   {
    "duration": 183,
    "start_time": "2022-02-23T17:18:57.219Z"
   },
   {
    "duration": 188,
    "start_time": "2022-02-23T17:19:03.269Z"
   },
   {
    "duration": 189,
    "start_time": "2022-02-23T17:19:10.579Z"
   },
   {
    "duration": 202,
    "start_time": "2022-02-23T17:19:19.424Z"
   },
   {
    "duration": 180,
    "start_time": "2022-02-23T17:19:29.511Z"
   },
   {
    "duration": 578,
    "start_time": "2022-02-23T17:21:00.196Z"
   },
   {
    "duration": 150,
    "start_time": "2022-02-23T17:21:04.027Z"
   },
   {
    "duration": 17,
    "start_time": "2022-02-23T17:21:08.833Z"
   },
   {
    "duration": 26,
    "start_time": "2022-02-23T17:21:15.086Z"
   },
   {
    "duration": 4,
    "start_time": "2022-02-23T17:21:21.762Z"
   },
   {
    "duration": 33,
    "start_time": "2022-02-23T17:21:25.480Z"
   },
   {
    "duration": 4,
    "start_time": "2022-02-23T17:21:28.192Z"
   },
   {
    "duration": 4555,
    "start_time": "2022-02-23T17:21:35.384Z"
   },
   {
    "duration": 21,
    "start_time": "2022-02-23T17:24:14.086Z"
   },
   {
    "duration": 21,
    "start_time": "2022-02-23T17:24:19.568Z"
   },
   {
    "duration": 20,
    "start_time": "2022-02-23T17:24:47.599Z"
   },
   {
    "duration": 40,
    "start_time": "2022-02-23T17:25:43.600Z"
   },
   {
    "duration": 62,
    "start_time": "2022-02-23T17:26:30.736Z"
   },
   {
    "duration": 22,
    "start_time": "2022-02-23T17:26:42.091Z"
   },
   {
    "duration": 68,
    "start_time": "2022-02-23T17:30:38.635Z"
   },
   {
    "duration": 58,
    "start_time": "2022-02-23T17:30:46.416Z"
   },
   {
    "duration": 95,
    "start_time": "2022-02-23T17:31:33.607Z"
   },
   {
    "duration": 186,
    "start_time": "2022-02-23T17:33:04.547Z"
   },
   {
    "duration": 62,
    "start_time": "2022-02-23T17:33:17.066Z"
   },
   {
    "duration": 79,
    "start_time": "2022-02-23T17:36:17.935Z"
   },
   {
    "duration": 58,
    "start_time": "2022-02-23T17:36:25.697Z"
   },
   {
    "duration": 4527,
    "start_time": "2022-02-23T17:42:43.569Z"
   },
   {
    "duration": 39,
    "start_time": "2022-02-23T17:43:09.224Z"
   },
   {
    "duration": 187,
    "start_time": "2022-02-23T17:43:40.034Z"
   },
   {
    "duration": 39,
    "start_time": "2022-02-23T17:44:06.768Z"
   },
   {
    "duration": 71,
    "start_time": "2022-02-23T18:23:39.037Z"
   },
   {
    "duration": 372,
    "start_time": "2022-02-23T20:52:04.909Z"
   },
   {
    "duration": 273,
    "start_time": "2022-02-23T20:52:25.308Z"
   },
   {
    "duration": 246,
    "start_time": "2022-02-23T20:58:47.604Z"
   },
   {
    "duration": 3,
    "start_time": "2022-02-23T21:00:22.538Z"
   },
   {
    "duration": 3,
    "start_time": "2022-02-23T21:00:26.850Z"
   },
   {
    "duration": 4,
    "start_time": "2022-02-23T21:00:27.855Z"
   },
   {
    "duration": 3,
    "start_time": "2022-02-23T21:00:28.700Z"
   },
   {
    "duration": 4,
    "start_time": "2022-02-23T21:00:29.978Z"
   },
   {
    "duration": 3,
    "start_time": "2022-02-23T21:00:31.273Z"
   },
   {
    "duration": 512,
    "start_time": "2022-02-23T21:02:55.012Z"
   },
   {
    "duration": 623,
    "start_time": "2022-02-23T21:05:25.939Z"
   },
   {
    "duration": 266,
    "start_time": "2022-02-23T21:05:37.067Z"
   },
   {
    "duration": 3,
    "start_time": "2022-02-23T21:08:54.508Z"
   },
   {
    "duration": 4,
    "start_time": "2022-02-23T21:09:04.126Z"
   },
   {
    "duration": 252,
    "start_time": "2022-02-23T21:09:05.939Z"
   },
   {
    "duration": 267,
    "start_time": "2022-02-23T21:09:32.050Z"
   },
   {
    "duration": 277,
    "start_time": "2022-02-23T21:09:33.582Z"
   },
   {
    "duration": 566,
    "start_time": "2022-02-23T21:09:40.199Z"
   },
   {
    "duration": 267,
    "start_time": "2022-02-23T21:30:16.900Z"
   },
   {
    "duration": 306,
    "start_time": "2022-02-23T21:31:10.502Z"
   },
   {
    "duration": 289,
    "start_time": "2022-02-23T21:31:14.995Z"
   },
   {
    "duration": 261,
    "start_time": "2022-02-23T21:31:22.229Z"
   },
   {
    "duration": 273,
    "start_time": "2022-02-23T21:31:27.466Z"
   },
   {
    "duration": 662,
    "start_time": "2022-02-23T21:31:42.248Z"
   },
   {
    "duration": 155,
    "start_time": "2022-02-23T21:31:43.121Z"
   },
   {
    "duration": 167,
    "start_time": "2022-02-23T21:31:47.863Z"
   },
   {
    "duration": 18,
    "start_time": "2022-02-23T21:31:54.127Z"
   },
   {
    "duration": 26,
    "start_time": "2022-02-23T21:32:10.364Z"
   },
   {
    "duration": 5,
    "start_time": "2022-02-23T21:32:17.159Z"
   },
   {
    "duration": 24,
    "start_time": "2022-02-23T21:32:20.634Z"
   },
   {
    "duration": 4,
    "start_time": "2022-02-23T21:32:22.416Z"
   },
   {
    "duration": 25,
    "start_time": "2022-02-23T21:32:26.175Z"
   },
   {
    "duration": 18,
    "start_time": "2022-02-23T21:32:29.964Z"
   },
   {
    "duration": 23,
    "start_time": "2022-02-23T21:32:33.188Z"
   },
   {
    "duration": 62,
    "start_time": "2022-02-23T21:32:36.707Z"
   },
   {
    "duration": 81,
    "start_time": "2022-02-23T21:32:46.141Z"
   },
   {
    "duration": 70,
    "start_time": "2022-02-23T21:32:56.014Z"
   },
   {
    "duration": 58,
    "start_time": "2022-02-23T21:33:00.498Z"
   },
   {
    "duration": 40,
    "start_time": "2022-02-23T21:33:08.633Z"
   },
   {
    "duration": 4,
    "start_time": "2022-02-23T21:33:18.195Z"
   },
   {
    "duration": 12,
    "start_time": "2022-02-23T21:33:20.618Z"
   },
   {
    "duration": 42,
    "start_time": "2022-02-23T21:34:54.936Z"
   },
   {
    "duration": 2149,
    "start_time": "2022-02-23T21:35:30.424Z"
   },
   {
    "duration": 1674,
    "start_time": "2022-02-23T21:35:39.664Z"
   },
   {
    "duration": 1235,
    "start_time": "2022-02-23T21:36:10.354Z"
   },
   {
    "duration": 302,
    "start_time": "2022-02-23T21:36:47.836Z"
   },
   {
    "duration": 1305,
    "start_time": "2022-02-23T21:37:14.181Z"
   },
   {
    "duration": 42,
    "start_time": "2022-02-23T21:37:50.635Z"
   },
   {
    "duration": 312,
    "start_time": "2022-02-23T21:39:30.671Z"
   },
   {
    "duration": 48,
    "start_time": "2022-02-23T21:39:43.662Z"
   },
   {
    "duration": 45,
    "start_time": "2022-02-23T21:40:05.092Z"
   },
   {
    "duration": 48,
    "start_time": "2022-02-23T21:40:05.449Z"
   },
   {
    "duration": 36,
    "start_time": "2022-02-23T21:46:27.148Z"
   },
   {
    "duration": 4,
    "start_time": "2022-02-23T21:47:59.687Z"
   },
   {
    "duration": 262,
    "start_time": "2022-02-23T21:49:06.645Z"
   },
   {
    "duration": 4,
    "start_time": "2022-02-23T21:51:11.034Z"
   },
   {
    "duration": 5,
    "start_time": "2022-02-23T21:53:51.114Z"
   },
   {
    "duration": 4,
    "start_time": "2022-02-23T21:54:07.720Z"
   },
   {
    "duration": 4,
    "start_time": "2022-02-23T21:54:12.751Z"
   },
   {
    "duration": 3,
    "start_time": "2022-02-23T21:54:24.257Z"
   },
   {
    "duration": 155,
    "start_time": "2022-02-23T21:54:24.708Z"
   },
   {
    "duration": 12,
    "start_time": "2022-02-23T21:54:26.056Z"
   },
   {
    "duration": 29,
    "start_time": "2022-02-23T21:54:28.055Z"
   },
   {
    "duration": 4,
    "start_time": "2022-02-23T21:54:37.899Z"
   },
   {
    "duration": 25,
    "start_time": "2022-02-23T21:54:43.654Z"
   },
   {
    "duration": 5,
    "start_time": "2022-02-23T21:54:44.939Z"
   },
   {
    "duration": 25,
    "start_time": "2022-02-23T21:54:51.876Z"
   },
   {
    "duration": 18,
    "start_time": "2022-02-23T21:54:59.549Z"
   },
   {
    "duration": 5,
    "start_time": "2022-02-23T21:55:02.953Z"
   },
   {
    "duration": 41,
    "start_time": "2022-02-23T21:55:25.136Z"
   },
   {
    "duration": 23,
    "start_time": "2022-02-23T21:55:32.579Z"
   },
   {
    "duration": 60,
    "start_time": "2022-02-23T21:55:36.894Z"
   },
   {
    "duration": 69,
    "start_time": "2022-02-23T21:55:38.944Z"
   },
   {
    "duration": 59,
    "start_time": "2022-02-23T21:55:40.046Z"
   },
   {
    "duration": 56,
    "start_time": "2022-02-23T21:55:45.151Z"
   },
   {
    "duration": 45,
    "start_time": "2022-02-23T21:55:48.197Z"
   },
   {
    "duration": 4,
    "start_time": "2022-02-23T21:55:50.904Z"
   },
   {
    "duration": 11,
    "start_time": "2022-02-23T21:55:52.057Z"
   },
   {
    "duration": 43,
    "start_time": "2022-02-23T21:55:53.596Z"
   },
   {
    "duration": 5,
    "start_time": "2022-02-23T21:56:02.820Z"
   },
   {
    "duration": 37,
    "start_time": "2022-02-23T21:56:17.453Z"
   },
   {
    "duration": 35,
    "start_time": "2022-02-23T22:01:05.821Z"
   },
   {
    "duration": 12,
    "start_time": "2022-02-23T22:01:56.842Z"
   },
   {
    "duration": 354,
    "start_time": "2022-02-23T22:04:35.051Z"
   },
   {
    "duration": 18,
    "start_time": "2022-02-23T22:04:58.519Z"
   },
   {
    "duration": 19,
    "start_time": "2022-02-23T22:05:02.671Z"
   },
   {
    "duration": 38,
    "start_time": "2022-02-23T22:05:15.835Z"
   },
   {
    "duration": 34,
    "start_time": "2022-02-23T22:06:23.062Z"
   },
   {
    "duration": 5,
    "start_time": "2022-02-23T22:06:39.253Z"
   },
   {
    "duration": 2,
    "start_time": "2022-02-23T22:06:52.314Z"
   },
   {
    "duration": 158,
    "start_time": "2022-02-23T22:06:52.318Z"
   },
   {
    "duration": 11,
    "start_time": "2022-02-23T22:06:52.478Z"
   },
   {
    "duration": 34,
    "start_time": "2022-02-23T22:06:52.491Z"
   },
   {
    "duration": 7,
    "start_time": "2022-02-23T22:06:52.527Z"
   },
   {
    "duration": 50,
    "start_time": "2022-02-23T22:06:52.536Z"
   },
   {
    "duration": 4,
    "start_time": "2022-02-23T22:06:52.588Z"
   },
   {
    "duration": 34,
    "start_time": "2022-02-23T22:06:52.595Z"
   },
   {
    "duration": 38,
    "start_time": "2022-02-23T22:06:52.631Z"
   },
   {
    "duration": 26,
    "start_time": "2022-02-23T22:06:52.671Z"
   },
   {
    "duration": 78,
    "start_time": "2022-02-23T22:06:52.699Z"
   },
   {
    "duration": 73,
    "start_time": "2022-02-23T22:06:52.779Z"
   },
   {
    "duration": 70,
    "start_time": "2022-02-23T22:06:52.853Z"
   },
   {
    "duration": 55,
    "start_time": "2022-02-23T22:06:52.925Z"
   },
   {
    "duration": 6,
    "start_time": "2022-02-23T22:06:52.982Z"
   },
   {
    "duration": 19,
    "start_time": "2022-02-23T22:06:52.990Z"
   },
   {
    "duration": 58,
    "start_time": "2022-02-23T22:06:53.011Z"
   },
   {
    "duration": 37,
    "start_time": "2022-02-23T22:06:53.071Z"
   },
   {
    "duration": 5,
    "start_time": "2022-02-23T22:06:53.111Z"
   },
   {
    "duration": 7,
    "start_time": "2022-02-23T22:06:53.119Z"
   },
   {
    "duration": 17,
    "start_time": "2022-02-23T22:06:53.128Z"
   },
   {
    "duration": 13,
    "start_time": "2022-02-23T22:06:53.147Z"
   },
   {
    "duration": 3,
    "start_time": "2022-02-23T22:06:53.169Z"
   },
   {
    "duration": 7,
    "start_time": "2022-02-23T22:06:53.174Z"
   },
   {
    "duration": 8,
    "start_time": "2022-02-23T22:06:53.183Z"
   },
   {
    "duration": 20,
    "start_time": "2022-02-23T22:06:53.193Z"
   },
   {
    "duration": 8,
    "start_time": "2022-02-23T22:06:53.215Z"
   },
   {
    "duration": 7,
    "start_time": "2022-02-23T22:06:53.225Z"
   },
   {
    "duration": 5,
    "start_time": "2022-02-23T22:06:53.233Z"
   },
   {
    "duration": 6,
    "start_time": "2022-02-23T22:06:53.240Z"
   },
   {
    "duration": 10,
    "start_time": "2022-02-23T22:06:53.248Z"
   },
   {
    "duration": 4,
    "start_time": "2022-02-23T22:06:53.260Z"
   },
   {
    "duration": 10,
    "start_time": "2022-02-23T22:06:53.266Z"
   },
   {
    "duration": 7,
    "start_time": "2022-02-23T22:06:53.278Z"
   },
   {
    "duration": 6,
    "start_time": "2022-02-23T22:06:53.288Z"
   },
   {
    "duration": 8,
    "start_time": "2022-02-23T22:06:53.296Z"
   },
   {
    "duration": 9,
    "start_time": "2022-02-23T22:06:53.306Z"
   },
   {
    "duration": 10,
    "start_time": "2022-02-23T22:06:53.317Z"
   },
   {
    "duration": 5,
    "start_time": "2022-02-23T22:07:40.664Z"
   },
   {
    "duration": 13,
    "start_time": "2022-02-23T22:07:52.832Z"
   },
   {
    "duration": 38,
    "start_time": "2022-02-23T22:08:43.953Z"
   },
   {
    "duration": 3,
    "start_time": "2022-02-23T22:21:13.593Z"
   },
   {
    "duration": 8,
    "start_time": "2022-02-23T22:30:53.491Z"
   },
   {
    "duration": 9,
    "start_time": "2022-02-23T22:30:58.710Z"
   },
   {
    "duration": 8,
    "start_time": "2022-02-23T22:31:28.344Z"
   },
   {
    "duration": 9,
    "start_time": "2022-02-23T22:32:01.571Z"
   },
   {
    "duration": 3,
    "start_time": "2022-02-23T22:32:09.333Z"
   },
   {
    "duration": 18,
    "start_time": "2022-02-23T22:33:15.387Z"
   },
   {
    "duration": 19,
    "start_time": "2022-02-23T22:33:37.259Z"
   },
   {
    "duration": 20,
    "start_time": "2022-02-23T22:33:39.915Z"
   },
   {
    "duration": 14,
    "start_time": "2022-02-23T22:34:18.603Z"
   },
   {
    "duration": 312,
    "start_time": "2022-02-23T22:55:51.049Z"
   },
   {
    "duration": 298,
    "start_time": "2022-02-23T23:08:33.864Z"
   },
   {
    "duration": 16,
    "start_time": "2022-02-23T23:09:07.138Z"
   },
   {
    "duration": 16,
    "start_time": "2022-02-23T23:09:31.503Z"
   },
   {
    "duration": 3,
    "start_time": "2022-02-23T23:10:59.639Z"
   },
   {
    "duration": 160,
    "start_time": "2022-02-23T23:10:59.982Z"
   },
   {
    "duration": 13,
    "start_time": "2022-02-23T23:11:00.735Z"
   },
   {
    "duration": 26,
    "start_time": "2022-02-23T23:11:02.105Z"
   },
   {
    "duration": 5,
    "start_time": "2022-02-23T23:11:04.056Z"
   },
   {
    "duration": 19,
    "start_time": "2022-02-23T23:11:04.742Z"
   },
   {
    "duration": 4,
    "start_time": "2022-02-23T23:11:05.587Z"
   },
   {
    "duration": 25,
    "start_time": "2022-02-23T23:11:06.332Z"
   },
   {
    "duration": 19,
    "start_time": "2022-02-23T23:11:08.713Z"
   },
   {
    "duration": 23,
    "start_time": "2022-02-23T23:11:09.424Z"
   },
   {
    "duration": 67,
    "start_time": "2022-02-23T23:11:10.445Z"
   },
   {
    "duration": 71,
    "start_time": "2022-02-23T23:11:11.464Z"
   },
   {
    "duration": 70,
    "start_time": "2022-02-23T23:11:12.189Z"
   },
   {
    "duration": 46,
    "start_time": "2022-02-23T23:11:13.284Z"
   },
   {
    "duration": 4,
    "start_time": "2022-02-23T23:11:13.999Z"
   },
   {
    "duration": 11,
    "start_time": "2022-02-23T23:11:17.361Z"
   },
   {
    "duration": 42,
    "start_time": "2022-02-23T23:11:19.415Z"
   },
   {
    "duration": 110,
    "start_time": "2022-02-23T23:11:28.430Z"
   },
   {
    "duration": 111,
    "start_time": "2022-02-23T23:11:47.561Z"
   },
   {
    "duration": 97,
    "start_time": "2022-02-23T23:12:01.277Z"
   },
   {
    "duration": 35,
    "start_time": "2022-02-23T23:12:38.385Z"
   },
   {
    "duration": 12,
    "start_time": "2022-02-23T23:12:45.885Z"
   },
   {
    "duration": 4,
    "start_time": "2022-02-23T23:12:49.756Z"
   },
   {
    "duration": 17,
    "start_time": "2022-02-23T23:12:51.697Z"
   },
   {
    "duration": 16,
    "start_time": "2022-02-23T23:12:52.171Z"
   },
   {
    "duration": 16,
    "start_time": "2022-02-23T23:12:52.707Z"
   },
   {
    "duration": 14,
    "start_time": "2022-02-23T23:12:53.834Z"
   },
   {
    "duration": 19,
    "start_time": "2022-02-23T23:12:54.480Z"
   },
   {
    "duration": 90,
    "start_time": "2022-02-23T23:12:55.777Z"
   },
   {
    "duration": 18,
    "start_time": "2022-02-23T23:13:29.304Z"
   },
   {
    "duration": 9,
    "start_time": "2022-02-23T23:13:32.304Z"
   },
   {
    "duration": 600,
    "start_time": "2022-02-24T08:48:52.862Z"
   },
   {
    "duration": 149,
    "start_time": "2022-02-24T08:48:53.464Z"
   },
   {
    "duration": 18,
    "start_time": "2022-02-24T08:48:53.990Z"
   },
   {
    "duration": 25,
    "start_time": "2022-02-24T08:48:55.209Z"
   },
   {
    "duration": 4,
    "start_time": "2022-02-24T08:48:57.210Z"
   },
   {
    "duration": 24,
    "start_time": "2022-02-24T08:48:58.023Z"
   },
   {
    "duration": 4,
    "start_time": "2022-02-24T08:48:59.419Z"
   },
   {
    "duration": 25,
    "start_time": "2022-02-24T08:49:00.491Z"
   },
   {
    "duration": 19,
    "start_time": "2022-02-24T08:49:02.526Z"
   },
   {
    "duration": 24,
    "start_time": "2022-02-24T08:49:03.256Z"
   },
   {
    "duration": 63,
    "start_time": "2022-02-24T08:49:04.316Z"
   },
   {
    "duration": 80,
    "start_time": "2022-02-24T08:49:06.092Z"
   },
   {
    "duration": 57,
    "start_time": "2022-02-24T08:49:07.585Z"
   },
   {
    "duration": 45,
    "start_time": "2022-02-24T08:49:10.042Z"
   },
   {
    "duration": 3,
    "start_time": "2022-02-24T08:49:10.727Z"
   },
   {
    "duration": 12,
    "start_time": "2022-02-24T08:49:12.614Z"
   },
   {
    "duration": 44,
    "start_time": "2022-02-24T08:49:13.639Z"
   },
   {
    "duration": 37,
    "start_time": "2022-02-24T08:49:17.439Z"
   },
   {
    "duration": 12,
    "start_time": "2022-02-24T08:49:19.983Z"
   },
   {
    "duration": 3,
    "start_time": "2022-02-24T08:49:23.094Z"
   },
   {
    "duration": 18,
    "start_time": "2022-02-24T08:49:24.395Z"
   },
   {
    "duration": 17,
    "start_time": "2022-02-24T08:49:25.705Z"
   },
   {
    "duration": 15,
    "start_time": "2022-02-24T08:49:38.392Z"
   },
   {
    "duration": 17,
    "start_time": "2022-02-24T08:49:38.958Z"
   },
   {
    "duration": 16,
    "start_time": "2022-02-24T08:49:39.427Z"
   },
   {
    "duration": 18,
    "start_time": "2022-02-24T08:49:39.931Z"
   },
   {
    "duration": 16,
    "start_time": "2022-02-24T08:49:40.371Z"
   },
   {
    "duration": 9,
    "start_time": "2022-02-24T08:49:43.427Z"
   },
   {
    "duration": 13,
    "start_time": "2022-02-24T08:53:13.861Z"
   },
   {
    "duration": 14,
    "start_time": "2022-02-24T08:53:15.140Z"
   },
   {
    "duration": 24,
    "start_time": "2022-02-24T08:53:41.471Z"
   },
   {
    "duration": 14,
    "start_time": "2022-02-24T08:54:07.279Z"
   },
   {
    "duration": 299,
    "start_time": "2022-02-24T09:49:16.813Z"
   },
   {
    "duration": 288,
    "start_time": "2022-02-24T09:49:35.990Z"
   },
   {
    "duration": 22,
    "start_time": "2022-02-24T09:51:10.665Z"
   },
   {
    "duration": 10,
    "start_time": "2022-02-24T09:51:23.035Z"
   },
   {
    "duration": 3,
    "start_time": "2022-02-24T09:51:48.499Z"
   },
   {
    "duration": 148,
    "start_time": "2022-02-24T09:51:48.879Z"
   },
   {
    "duration": 12,
    "start_time": "2022-02-24T09:51:49.675Z"
   },
   {
    "duration": 25,
    "start_time": "2022-02-24T09:51:50.429Z"
   },
   {
    "duration": 4,
    "start_time": "2022-02-24T09:51:52.327Z"
   },
   {
    "duration": 14,
    "start_time": "2022-02-24T09:51:53.050Z"
   },
   {
    "duration": 4,
    "start_time": "2022-02-24T09:51:53.805Z"
   },
   {
    "duration": 23,
    "start_time": "2022-02-24T09:51:55.095Z"
   },
   {
    "duration": 24,
    "start_time": "2022-02-24T09:51:56.311Z"
   },
   {
    "duration": 40,
    "start_time": "2022-02-24T09:51:57.046Z"
   },
   {
    "duration": 63,
    "start_time": "2022-02-24T09:51:58.501Z"
   },
   {
    "duration": 68,
    "start_time": "2022-02-24T09:51:59.365Z"
   },
   {
    "duration": 63,
    "start_time": "2022-02-24T09:52:00.144Z"
   },
   {
    "duration": 44,
    "start_time": "2022-02-24T09:52:01.377Z"
   },
   {
    "duration": 3,
    "start_time": "2022-02-24T09:52:02.139Z"
   },
   {
    "duration": 10,
    "start_time": "2022-02-24T09:52:02.905Z"
   },
   {
    "duration": 44,
    "start_time": "2022-02-24T09:52:03.668Z"
   },
   {
    "duration": 40,
    "start_time": "2022-02-24T09:52:05.935Z"
   },
   {
    "duration": 12,
    "start_time": "2022-02-24T09:52:06.769Z"
   },
   {
    "duration": 4,
    "start_time": "2022-02-24T09:52:07.886Z"
   },
   {
    "duration": 17,
    "start_time": "2022-02-24T09:52:08.705Z"
   },
   {
    "duration": 15,
    "start_time": "2022-02-24T09:52:09.092Z"
   },
   {
    "duration": 15,
    "start_time": "2022-02-24T09:52:09.480Z"
   },
   {
    "duration": 15,
    "start_time": "2022-02-24T09:52:09.844Z"
   },
   {
    "duration": 18,
    "start_time": "2022-02-24T09:52:10.217Z"
   },
   {
    "duration": 16,
    "start_time": "2022-02-24T09:52:10.605Z"
   },
   {
    "duration": 9,
    "start_time": "2022-02-24T09:52:11.427Z"
   },
   {
    "duration": 17,
    "start_time": "2022-02-24T09:52:13.414Z"
   },
   {
    "duration": 11,
    "start_time": "2022-02-24T09:52:13.812Z"
   },
   {
    "duration": 4,
    "start_time": "2022-02-24T09:52:14.557Z"
   },
   {
    "duration": 21,
    "start_time": "2022-02-24T09:52:15.381Z"
   },
   {
    "duration": 245,
    "start_time": "2022-02-24T09:52:15.758Z"
   },
   {
    "duration": 18,
    "start_time": "2022-02-24T09:52:16.193Z"
   },
   {
    "duration": 14,
    "start_time": "2022-02-24T09:52:18.081Z"
   },
   {
    "duration": 20,
    "start_time": "2022-02-24T09:53:27.838Z"
   },
   {
    "duration": 340,
    "start_time": "2022-02-24T09:54:40.735Z"
   },
   {
    "duration": 15,
    "start_time": "2022-02-24T09:54:53.406Z"
   },
   {
    "duration": 22,
    "start_time": "2022-02-24T09:55:20.031Z"
   },
   {
    "duration": 827,
    "start_time": "2022-02-24T13:56:57.292Z"
   },
   {
    "duration": 202,
    "start_time": "2022-02-24T13:56:58.121Z"
   },
   {
    "duration": 29,
    "start_time": "2022-02-24T13:56:58.326Z"
   },
   {
    "duration": 36,
    "start_time": "2022-02-24T13:56:58.994Z"
   },
   {
    "duration": 7,
    "start_time": "2022-02-24T13:57:01.581Z"
   },
   {
    "duration": 31,
    "start_time": "2022-02-24T13:57:02.908Z"
   },
   {
    "duration": 6,
    "start_time": "2022-02-24T13:57:03.631Z"
   },
   {
    "duration": 34,
    "start_time": "2022-02-24T13:57:04.336Z"
   },
   {
    "duration": 27,
    "start_time": "2022-02-24T13:57:05.449Z"
   },
   {
    "duration": 26,
    "start_time": "2022-02-24T13:57:08.724Z"
   },
   {
    "duration": 30,
    "start_time": "2022-02-24T13:57:09.656Z"
   },
   {
    "duration": 94,
    "start_time": "2022-02-24T13:57:10.761Z"
   },
   {
    "duration": 109,
    "start_time": "2022-02-24T13:57:11.686Z"
   },
   {
    "duration": 93,
    "start_time": "2022-02-24T13:57:12.573Z"
   },
   {
    "duration": 62,
    "start_time": "2022-02-24T13:57:14.187Z"
   },
   {
    "duration": 5,
    "start_time": "2022-02-24T13:57:14.993Z"
   },
   {
    "duration": 14,
    "start_time": "2022-02-24T13:57:16.170Z"
   },
   {
    "duration": 61,
    "start_time": "2022-02-24T13:57:17.237Z"
   },
   {
    "duration": 46,
    "start_time": "2022-02-24T13:57:23.008Z"
   },
   {
    "duration": 17,
    "start_time": "2022-02-24T13:57:30.315Z"
   },
   {
    "duration": 5,
    "start_time": "2022-02-24T13:57:33.044Z"
   },
   {
    "duration": 21,
    "start_time": "2022-02-24T13:57:34.168Z"
   },
   {
    "duration": 20,
    "start_time": "2022-02-24T13:57:34.669Z"
   },
   {
    "duration": 20,
    "start_time": "2022-02-24T13:57:35.070Z"
   },
   {
    "duration": 17,
    "start_time": "2022-02-24T13:57:35.487Z"
   },
   {
    "duration": 22,
    "start_time": "2022-02-24T13:57:35.923Z"
   },
   {
    "duration": 21,
    "start_time": "2022-02-24T13:57:36.305Z"
   },
   {
    "duration": 13,
    "start_time": "2022-02-24T13:57:37.501Z"
   },
   {
    "duration": 16,
    "start_time": "2022-02-24T13:58:13.594Z"
   },
   {
    "duration": 15,
    "start_time": "2022-02-24T13:58:14.162Z"
   },
   {
    "duration": 5,
    "start_time": "2022-02-24T13:58:16.470Z"
   },
   {
    "duration": 350,
    "start_time": "2022-02-24T14:05:35.170Z"
   },
   {
    "duration": 11,
    "start_time": "2022-02-24T14:06:56.400Z"
   },
   {
    "duration": 7,
    "start_time": "2022-02-24T14:06:57.791Z"
   },
   {
    "duration": 255,
    "start_time": "2022-02-24T14:10:26.334Z"
   },
   {
    "duration": 8,
    "start_time": "2022-02-24T14:10:42.816Z"
   },
   {
    "duration": 6,
    "start_time": "2022-02-24T14:10:44.167Z"
   },
   {
    "duration": 4,
    "start_time": "2022-02-24T14:24:16.102Z"
   },
   {
    "duration": 238,
    "start_time": "2022-02-24T14:24:16.115Z"
   },
   {
    "duration": 16,
    "start_time": "2022-02-24T14:24:16.356Z"
   },
   {
    "duration": 58,
    "start_time": "2022-02-24T14:24:16.375Z"
   },
   {
    "duration": 6,
    "start_time": "2022-02-24T14:24:16.436Z"
   },
   {
    "duration": 25,
    "start_time": "2022-02-24T14:24:16.444Z"
   },
   {
    "duration": 5,
    "start_time": "2022-02-24T14:24:16.472Z"
   },
   {
    "duration": 68,
    "start_time": "2022-02-24T14:24:16.479Z"
   },
   {
    "duration": 32,
    "start_time": "2022-02-24T14:24:16.549Z"
   },
   {
    "duration": 43,
    "start_time": "2022-02-24T14:24:16.586Z"
   },
   {
    "duration": 107,
    "start_time": "2022-02-24T14:24:16.632Z"
   },
   {
    "duration": 116,
    "start_time": "2022-02-24T14:24:16.742Z"
   },
   {
    "duration": 96,
    "start_time": "2022-02-24T14:24:16.860Z"
   },
   {
    "duration": 72,
    "start_time": "2022-02-24T14:24:16.958Z"
   },
   {
    "duration": 5,
    "start_time": "2022-02-24T14:24:17.032Z"
   },
   {
    "duration": 17,
    "start_time": "2022-02-24T14:24:17.039Z"
   },
   {
    "duration": 76,
    "start_time": "2022-02-24T14:24:17.059Z"
   },
   {
    "duration": 51,
    "start_time": "2022-02-24T14:24:17.137Z"
   },
   {
    "duration": 42,
    "start_time": "2022-02-24T14:24:17.190Z"
   },
   {
    "duration": 5,
    "start_time": "2022-02-24T14:24:17.234Z"
   },
   {
    "duration": 28,
    "start_time": "2022-02-24T14:24:17.241Z"
   },
   {
    "duration": 19,
    "start_time": "2022-02-24T14:24:17.272Z"
   },
   {
    "duration": 48,
    "start_time": "2022-02-24T14:24:17.293Z"
   },
   {
    "duration": 18,
    "start_time": "2022-02-24T14:24:17.343Z"
   },
   {
    "duration": 20,
    "start_time": "2022-02-24T14:24:17.364Z"
   },
   {
    "duration": 48,
    "start_time": "2022-02-24T14:24:17.387Z"
   },
   {
    "duration": 13,
    "start_time": "2022-02-24T14:24:17.437Z"
   },
   {
    "duration": 21,
    "start_time": "2022-02-24T14:24:17.456Z"
   },
   {
    "duration": 46,
    "start_time": "2022-02-24T14:24:17.480Z"
   },
   {
    "duration": 5,
    "start_time": "2022-02-24T14:24:17.529Z"
   },
   {
    "duration": 34,
    "start_time": "2022-02-24T14:24:17.537Z"
   },
   {
    "duration": 18,
    "start_time": "2022-02-24T14:24:17.573Z"
   },
   {
    "duration": 53,
    "start_time": "2022-02-24T14:24:17.594Z"
   },
   {
    "duration": 17,
    "start_time": "2022-02-24T14:24:17.649Z"
   },
   {
    "duration": 12,
    "start_time": "2022-02-24T14:24:17.669Z"
   },
   {
    "duration": 6,
    "start_time": "2022-02-24T14:24:17.683Z"
   },
   {
    "duration": 8,
    "start_time": "2022-02-24T14:24:17.726Z"
   },
   {
    "duration": 7,
    "start_time": "2022-02-24T14:24:17.736Z"
   },
   {
    "duration": 4,
    "start_time": "2022-02-24T14:24:50.565Z"
   },
   {
    "duration": 296,
    "start_time": "2022-02-24T14:24:50.951Z"
   },
   {
    "duration": 24,
    "start_time": "2022-02-24T14:24:51.657Z"
   },
   {
    "duration": 39,
    "start_time": "2022-02-24T14:24:52.451Z"
   },
   {
    "duration": 6,
    "start_time": "2022-02-24T14:25:01.466Z"
   },
   {
    "duration": 27,
    "start_time": "2022-02-24T14:25:04.818Z"
   },
   {
    "duration": 5,
    "start_time": "2022-02-24T14:25:07.411Z"
   },
   {
    "duration": 32,
    "start_time": "2022-02-24T14:25:09.753Z"
   },
   {
    "duration": 25,
    "start_time": "2022-02-24T14:25:14.642Z"
   },
   {
    "duration": 32,
    "start_time": "2022-02-24T14:25:16.093Z"
   },
   {
    "duration": 86,
    "start_time": "2022-02-24T14:25:17.895Z"
   },
   {
    "duration": 103,
    "start_time": "2022-02-24T14:25:20.010Z"
   },
   {
    "duration": 93,
    "start_time": "2022-02-24T14:25:21.410Z"
   },
   {
    "duration": 62,
    "start_time": "2022-02-24T14:25:23.587Z"
   },
   {
    "duration": 5,
    "start_time": "2022-02-24T14:25:25.371Z"
   },
   {
    "duration": 16,
    "start_time": "2022-02-24T14:25:26.964Z"
   },
   {
    "duration": 63,
    "start_time": "2022-02-24T14:25:28.271Z"
   },
   {
    "duration": 46,
    "start_time": "2022-02-24T14:25:34.144Z"
   },
   {
    "duration": 16,
    "start_time": "2022-02-24T14:25:39.379Z"
   },
   {
    "duration": 5,
    "start_time": "2022-02-24T14:25:49.398Z"
   },
   {
    "duration": 23,
    "start_time": "2022-02-24T14:26:00.829Z"
   },
   {
    "duration": 24,
    "start_time": "2022-02-24T14:26:02.615Z"
   },
   {
    "duration": 22,
    "start_time": "2022-02-24T14:26:03.006Z"
   },
   {
    "duration": 28,
    "start_time": "2022-02-24T14:26:03.453Z"
   },
   {
    "duration": 24,
    "start_time": "2022-02-24T14:26:03.862Z"
   },
   {
    "duration": 21,
    "start_time": "2022-02-24T14:26:04.298Z"
   },
   {
    "duration": 13,
    "start_time": "2022-02-24T14:26:14.928Z"
   },
   {
    "duration": 22,
    "start_time": "2022-02-24T14:26:19.539Z"
   },
   {
    "duration": 17,
    "start_time": "2022-02-24T14:26:20.153Z"
   },
   {
    "duration": 7,
    "start_time": "2022-02-24T14:26:21.232Z"
   },
   {
    "duration": 27,
    "start_time": "2022-02-24T14:26:22.236Z"
   },
   {
    "duration": 20,
    "start_time": "2022-02-24T14:26:22.713Z"
   },
   {
    "duration": 24,
    "start_time": "2022-02-24T14:26:23.528Z"
   },
   {
    "duration": 19,
    "start_time": "2022-02-24T14:26:24.008Z"
   },
   {
    "duration": 13,
    "start_time": "2022-02-24T14:26:25.978Z"
   },
   {
    "duration": 8,
    "start_time": "2022-02-24T14:26:26.947Z"
   },
   {
    "duration": 10,
    "start_time": "2022-02-24T14:26:28.034Z"
   },
   {
    "duration": 6,
    "start_time": "2022-02-24T14:26:28.993Z"
   },
   {
    "duration": 563,
    "start_time": "2022-03-06T10:46:25.387Z"
   },
   {
    "duration": 135,
    "start_time": "2022-03-06T10:46:25.951Z"
   },
   {
    "duration": 16,
    "start_time": "2022-03-06T10:46:26.088Z"
   },
   {
    "duration": 24,
    "start_time": "2022-03-06T10:46:26.106Z"
   },
   {
    "duration": 4,
    "start_time": "2022-03-06T10:46:26.131Z"
   },
   {
    "duration": 38,
    "start_time": "2022-03-06T10:46:26.137Z"
   },
   {
    "duration": 4,
    "start_time": "2022-03-06T10:46:26.177Z"
   },
   {
    "duration": 23,
    "start_time": "2022-03-06T10:46:26.184Z"
   },
   {
    "duration": 16,
    "start_time": "2022-03-06T10:46:26.210Z"
   },
   {
    "duration": 51,
    "start_time": "2022-03-06T10:46:26.228Z"
   },
   {
    "duration": 59,
    "start_time": "2022-03-06T10:46:26.281Z"
   },
   {
    "duration": 74,
    "start_time": "2022-03-06T10:46:26.343Z"
   },
   {
    "duration": 66,
    "start_time": "2022-03-06T10:46:26.418Z"
   },
   {
    "duration": 42,
    "start_time": "2022-03-06T10:46:26.485Z"
   },
   {
    "duration": 3,
    "start_time": "2022-03-06T10:46:26.528Z"
   },
   {
    "duration": 28,
    "start_time": "2022-03-06T10:46:26.533Z"
   },
   {
    "duration": 42,
    "start_time": "2022-03-06T10:46:26.562Z"
   },
   {
    "duration": 32,
    "start_time": "2022-03-06T10:46:26.605Z"
   },
   {
    "duration": 23,
    "start_time": "2022-03-06T10:46:26.639Z"
   },
   {
    "duration": 3,
    "start_time": "2022-03-06T10:46:26.664Z"
   },
   {
    "duration": 18,
    "start_time": "2022-03-06T10:46:26.668Z"
   },
   {
    "duration": 13,
    "start_time": "2022-03-06T10:46:26.688Z"
   },
   {
    "duration": 12,
    "start_time": "2022-03-06T10:46:26.704Z"
   },
   {
    "duration": 45,
    "start_time": "2022-03-06T10:46:26.718Z"
   },
   {
    "duration": 15,
    "start_time": "2022-03-06T10:46:26.765Z"
   },
   {
    "duration": 12,
    "start_time": "2022-03-06T10:46:26.782Z"
   },
   {
    "duration": 7,
    "start_time": "2022-03-06T10:46:26.796Z"
   },
   {
    "duration": 11,
    "start_time": "2022-03-06T10:46:26.805Z"
   },
   {
    "duration": 9,
    "start_time": "2022-03-06T10:46:26.817Z"
   },
   {
    "duration": 33,
    "start_time": "2022-03-06T10:46:26.827Z"
   },
   {
    "duration": 22,
    "start_time": "2022-03-06T10:46:26.862Z"
   },
   {
    "duration": 13,
    "start_time": "2022-03-06T10:46:26.886Z"
   },
   {
    "duration": 17,
    "start_time": "2022-03-06T10:46:26.900Z"
   },
   {
    "duration": 42,
    "start_time": "2022-03-06T10:46:26.919Z"
   },
   {
    "duration": 9,
    "start_time": "2022-03-06T10:46:26.963Z"
   },
   {
    "duration": 5,
    "start_time": "2022-03-06T10:46:26.974Z"
   },
   {
    "duration": 7,
    "start_time": "2022-03-06T10:46:26.981Z"
   },
   {
    "duration": 5,
    "start_time": "2022-03-06T10:46:26.990Z"
   },
   {
    "duration": 10,
    "start_time": "2022-03-06T10:54:34.692Z"
   },
   {
    "duration": 278,
    "start_time": "2022-03-06T20:47:46.820Z"
   },
   {
    "duration": 192,
    "start_time": "2022-03-06T20:47:58.539Z"
   },
   {
    "duration": 202,
    "start_time": "2022-03-06T20:48:19.851Z"
   },
   {
    "duration": 218,
    "start_time": "2022-03-06T20:48:49.152Z"
   },
   {
    "duration": 220,
    "start_time": "2022-03-06T20:49:05.812Z"
   },
   {
    "duration": -158999,
    "start_time": "2022-03-06T20:51:45.033Z"
   },
   {
    "duration": -159020,
    "start_time": "2022-03-06T20:51:45.055Z"
   },
   {
    "duration": -159066,
    "start_time": "2022-03-06T20:51:45.102Z"
   },
   {
    "duration": -159076,
    "start_time": "2022-03-06T20:51:45.113Z"
   },
   {
    "duration": -159084,
    "start_time": "2022-03-06T20:51:45.122Z"
   },
   {
    "duration": -159091,
    "start_time": "2022-03-06T20:51:45.130Z"
   },
   {
    "duration": -159108,
    "start_time": "2022-03-06T20:51:45.148Z"
   },
   {
    "duration": -159114,
    "start_time": "2022-03-06T20:51:45.155Z"
   },
   {
    "duration": -159123,
    "start_time": "2022-03-06T20:51:45.165Z"
   },
   {
    "duration": -159129,
    "start_time": "2022-03-06T20:51:45.172Z"
   },
   {
    "duration": -159145,
    "start_time": "2022-03-06T20:51:45.189Z"
   },
   {
    "duration": -159169,
    "start_time": "2022-03-06T20:51:45.214Z"
   },
   {
    "duration": -159177,
    "start_time": "2022-03-06T20:51:45.223Z"
   },
   {
    "duration": -159184,
    "start_time": "2022-03-06T20:51:45.231Z"
   },
   {
    "duration": -159193,
    "start_time": "2022-03-06T20:51:45.240Z"
   },
   {
    "duration": -159201,
    "start_time": "2022-03-06T20:51:45.249Z"
   },
   {
    "duration": -159210,
    "start_time": "2022-03-06T20:51:45.259Z"
   },
   {
    "duration": -159217,
    "start_time": "2022-03-06T20:51:45.267Z"
   },
   {
    "duration": -159225,
    "start_time": "2022-03-06T20:51:45.276Z"
   },
   {
    "duration": -159235,
    "start_time": "2022-03-06T20:51:45.287Z"
   },
   {
    "duration": 513,
    "start_time": "2022-03-06T20:49:54.720Z"
   },
   {
    "duration": 133,
    "start_time": "2022-03-06T20:49:55.235Z"
   },
   {
    "duration": 17,
    "start_time": "2022-03-06T20:49:55.370Z"
   },
   {
    "duration": 11,
    "start_time": "2022-03-06T20:49:55.389Z"
   },
   {
    "duration": 27,
    "start_time": "2022-03-06T20:49:55.401Z"
   },
   {
    "duration": 30,
    "start_time": "2022-03-06T20:49:55.430Z"
   },
   {
    "duration": 21,
    "start_time": "2022-03-06T20:49:55.462Z"
   },
   {
    "duration": 3,
    "start_time": "2022-03-06T20:49:55.486Z"
   },
   {
    "duration": 22,
    "start_time": "2022-03-06T20:49:55.491Z"
   },
   {
    "duration": 53,
    "start_time": "2022-03-06T20:49:55.515Z"
   },
   {
    "duration": 21,
    "start_time": "2022-03-06T20:49:55.570Z"
   },
   {
    "duration": 72,
    "start_time": "2022-03-06T20:49:55.592Z"
   },
   {
    "duration": 67,
    "start_time": "2022-03-06T20:49:55.665Z"
   },
   {
    "duration": 65,
    "start_time": "2022-03-06T20:49:55.734Z"
   },
   {
    "duration": 39,
    "start_time": "2022-03-06T20:49:55.801Z"
   },
   {
    "duration": 3,
    "start_time": "2022-03-06T20:49:55.859Z"
   },
   {
    "duration": 11,
    "start_time": "2022-03-06T20:49:55.864Z"
   },
   {
    "duration": 39,
    "start_time": "2022-03-06T20:49:55.877Z"
   },
   {
    "duration": 10,
    "start_time": "2022-03-06T20:49:55.918Z"
   },
   {
    "duration": 194,
    "start_time": "2022-03-06T20:53:06.577Z"
   },
   {
    "duration": 196,
    "start_time": "2022-03-06T20:53:07.915Z"
   },
   {
    "duration": 188,
    "start_time": "2022-03-06T20:53:08.410Z"
   },
   {
    "duration": 3,
    "start_time": "2022-03-06T20:53:17.837Z"
   },
   {
    "duration": 128,
    "start_time": "2022-03-06T20:53:17.854Z"
   },
   {
    "duration": 10,
    "start_time": "2022-03-06T20:53:17.984Z"
   },
   {
    "duration": 14,
    "start_time": "2022-03-06T20:53:17.996Z"
   },
   {
    "duration": 49,
    "start_time": "2022-03-06T20:53:18.011Z"
   },
   {
    "duration": 4,
    "start_time": "2022-03-06T20:53:18.062Z"
   },
   {
    "duration": 17,
    "start_time": "2022-03-06T20:53:18.068Z"
   },
   {
    "duration": 3,
    "start_time": "2022-03-06T20:53:18.087Z"
   },
   {
    "duration": 22,
    "start_time": "2022-03-06T20:53:18.093Z"
   },
   {
    "duration": 57,
    "start_time": "2022-03-06T20:53:18.117Z"
   },
   {
    "duration": 22,
    "start_time": "2022-03-06T20:53:18.176Z"
   },
   {
    "duration": 82,
    "start_time": "2022-03-06T20:53:18.200Z"
   },
   {
    "duration": 62,
    "start_time": "2022-03-06T20:53:18.283Z"
   },
   {
    "duration": 52,
    "start_time": "2022-03-06T20:53:18.360Z"
   },
   {
    "duration": 57,
    "start_time": "2022-03-06T20:53:18.413Z"
   },
   {
    "duration": 3,
    "start_time": "2022-03-06T20:53:18.472Z"
   },
   {
    "duration": 10,
    "start_time": "2022-03-06T20:53:18.477Z"
   },
   {
    "duration": 39,
    "start_time": "2022-03-06T20:53:18.489Z"
   },
   {
    "duration": 37,
    "start_time": "2022-03-06T20:53:18.530Z"
   },
   {
    "duration": 10,
    "start_time": "2022-03-06T20:53:18.568Z"
   },
   {
    "duration": 3,
    "start_time": "2022-03-06T20:53:18.580Z"
   },
   {
    "duration": 17,
    "start_time": "2022-03-06T20:53:18.585Z"
   },
   {
    "duration": 13,
    "start_time": "2022-03-06T20:53:18.604Z"
   },
   {
    "duration": 51,
    "start_time": "2022-03-06T20:53:18.618Z"
   },
   {
    "duration": 14,
    "start_time": "2022-03-06T20:53:18.671Z"
   },
   {
    "duration": 15,
    "start_time": "2022-03-06T20:53:18.687Z"
   },
   {
    "duration": 12,
    "start_time": "2022-03-06T20:53:18.704Z"
   },
   {
    "duration": 41,
    "start_time": "2022-03-06T20:53:18.718Z"
   },
   {
    "duration": 13,
    "start_time": "2022-03-06T20:53:18.761Z"
   },
   {
    "duration": 8,
    "start_time": "2022-03-06T20:53:18.776Z"
   },
   {
    "duration": 4,
    "start_time": "2022-03-06T20:53:18.786Z"
   },
   {
    "duration": 21,
    "start_time": "2022-03-06T20:53:18.792Z"
   },
   {
    "duration": 48,
    "start_time": "2022-03-06T20:53:18.815Z"
   },
   {
    "duration": 17,
    "start_time": "2022-03-06T20:53:18.864Z"
   },
   {
    "duration": 219,
    "start_time": "2022-03-06T20:57:20.794Z"
   },
   {
    "duration": 196,
    "start_time": "2022-03-06T20:57:24.506Z"
   },
   {
    "duration": 180,
    "start_time": "2022-03-06T20:58:23.752Z"
   },
   {
    "duration": 3,
    "start_time": "2022-03-06T20:58:34.500Z"
   },
   {
    "duration": 156,
    "start_time": "2022-03-06T20:58:34.505Z"
   },
   {
    "duration": 10,
    "start_time": "2022-03-06T20:58:34.663Z"
   },
   {
    "duration": 14,
    "start_time": "2022-03-06T20:58:34.675Z"
   },
   {
    "duration": 27,
    "start_time": "2022-03-06T20:58:34.691Z"
   },
   {
    "duration": 40,
    "start_time": "2022-03-06T20:58:34.720Z"
   },
   {
    "duration": 12,
    "start_time": "2022-03-06T20:58:34.762Z"
   },
   {
    "duration": 4,
    "start_time": "2022-03-06T20:58:34.776Z"
   },
   {
    "duration": 24,
    "start_time": "2022-03-06T20:58:34.781Z"
   },
   {
    "duration": 55,
    "start_time": "2022-03-06T20:58:34.806Z"
   },
   {
    "duration": 21,
    "start_time": "2022-03-06T20:58:34.863Z"
   },
   {
    "duration": 54,
    "start_time": "2022-03-06T20:58:34.885Z"
   },
   {
    "duration": 87,
    "start_time": "2022-03-06T20:58:34.941Z"
   },
   {
    "duration": 73,
    "start_time": "2022-03-06T20:58:35.030Z"
   },
   {
    "duration": 55,
    "start_time": "2022-03-06T20:58:35.105Z"
   },
   {
    "duration": 3,
    "start_time": "2022-03-06T20:58:35.162Z"
   },
   {
    "duration": 13,
    "start_time": "2022-03-06T20:58:35.166Z"
   },
   {
    "duration": 44,
    "start_time": "2022-03-06T20:58:35.180Z"
   },
   {
    "duration": 40,
    "start_time": "2022-03-06T20:58:35.227Z"
   },
   {
    "duration": 11,
    "start_time": "2022-03-06T20:58:35.268Z"
   },
   {
    "duration": 3,
    "start_time": "2022-03-06T20:58:35.280Z"
   },
   {
    "duration": 20,
    "start_time": "2022-03-06T20:58:35.285Z"
   },
   {
    "duration": 13,
    "start_time": "2022-03-06T20:58:35.306Z"
   },
   {
    "duration": 14,
    "start_time": "2022-03-06T20:58:35.359Z"
   },
   {
    "duration": 11,
    "start_time": "2022-03-06T20:58:35.375Z"
   },
   {
    "duration": 14,
    "start_time": "2022-03-06T20:58:35.388Z"
   },
   {
    "duration": 13,
    "start_time": "2022-03-06T20:58:35.404Z"
   },
   {
    "duration": 8,
    "start_time": "2022-03-06T20:58:35.419Z"
   },
   {
    "duration": 12,
    "start_time": "2022-03-06T20:58:35.460Z"
   },
   {
    "duration": 10,
    "start_time": "2022-03-06T20:58:35.473Z"
   },
   {
    "duration": 4,
    "start_time": "2022-03-06T20:58:35.484Z"
   },
   {
    "duration": 23,
    "start_time": "2022-03-06T20:58:35.490Z"
   },
   {
    "duration": 50,
    "start_time": "2022-03-06T20:58:35.515Z"
   },
   {
    "duration": 17,
    "start_time": "2022-03-06T20:58:35.566Z"
   },
   {
    "duration": 12,
    "start_time": "2022-03-06T20:58:35.584Z"
   },
   {
    "duration": 8,
    "start_time": "2022-03-06T20:58:35.598Z"
   },
   {
    "duration": 4,
    "start_time": "2022-03-06T20:58:35.608Z"
   },
   {
    "duration": 3,
    "start_time": "2022-03-06T20:59:35.952Z"
   },
   {
    "duration": 130,
    "start_time": "2022-03-06T20:59:35.961Z"
   },
   {
    "duration": 10,
    "start_time": "2022-03-06T20:59:36.093Z"
   },
   {
    "duration": 9,
    "start_time": "2022-03-06T20:59:36.112Z"
   },
   {
    "duration": 49,
    "start_time": "2022-03-06T20:59:36.123Z"
   },
   {
    "duration": 5,
    "start_time": "2022-03-06T20:59:36.174Z"
   },
   {
    "duration": 15,
    "start_time": "2022-03-06T20:59:36.180Z"
   },
   {
    "duration": 4,
    "start_time": "2022-03-06T20:59:36.197Z"
   },
   {
    "duration": 59,
    "start_time": "2022-03-06T20:59:36.203Z"
   },
   {
    "duration": 17,
    "start_time": "2022-03-06T20:59:36.264Z"
   },
   {
    "duration": 26,
    "start_time": "2022-03-06T20:59:36.283Z"
   },
   {
    "duration": 80,
    "start_time": "2022-03-06T20:59:36.311Z"
   },
   {
    "duration": 76,
    "start_time": "2022-03-06T20:59:36.392Z"
   },
   {
    "duration": 53,
    "start_time": "2022-03-06T20:59:36.470Z"
   },
   {
    "duration": 57,
    "start_time": "2022-03-06T20:59:36.524Z"
   },
   {
    "duration": 3,
    "start_time": "2022-03-06T20:59:36.582Z"
   },
   {
    "duration": 11,
    "start_time": "2022-03-06T20:59:36.586Z"
   },
   {
    "duration": 66,
    "start_time": "2022-03-06T20:59:36.599Z"
   },
   {
    "duration": 10,
    "start_time": "2022-03-06T20:59:36.666Z"
   },
   {
    "duration": 10,
    "start_time": "2022-03-06T20:59:36.678Z"
   },
   {
    "duration": 4,
    "start_time": "2022-03-06T20:59:36.690Z"
   },
   {
    "duration": 20,
    "start_time": "2022-03-06T20:59:36.695Z"
   },
   {
    "duration": 46,
    "start_time": "2022-03-06T20:59:36.717Z"
   },
   {
    "duration": 14,
    "start_time": "2022-03-06T20:59:36.766Z"
   },
   {
    "duration": 12,
    "start_time": "2022-03-06T20:59:36.781Z"
   },
   {
    "duration": 15,
    "start_time": "2022-03-06T20:59:36.795Z"
   },
   {
    "duration": 52,
    "start_time": "2022-03-06T20:59:36.811Z"
   },
   {
    "duration": 8,
    "start_time": "2022-03-06T20:59:36.864Z"
   },
   {
    "duration": 14,
    "start_time": "2022-03-06T20:59:36.874Z"
   },
   {
    "duration": 9,
    "start_time": "2022-03-06T20:59:36.890Z"
   },
   {
    "duration": 4,
    "start_time": "2022-03-06T20:59:36.901Z"
   },
   {
    "duration": 54,
    "start_time": "2022-03-06T20:59:36.906Z"
   },
   {
    "duration": 12,
    "start_time": "2022-03-06T20:59:36.962Z"
   },
   {
    "duration": 16,
    "start_time": "2022-03-06T20:59:36.975Z"
   },
   {
    "duration": 10,
    "start_time": "2022-03-06T20:59:36.992Z"
   },
   {
    "duration": 14,
    "start_time": "2022-03-06T21:03:06.777Z"
   },
   {
    "duration": 13,
    "start_time": "2022-03-06T21:05:19.571Z"
   },
   {
    "duration": 2,
    "start_time": "2022-03-06T21:07:26.634Z"
   },
   {
    "duration": 153,
    "start_time": "2022-03-06T21:07:26.644Z"
   },
   {
    "duration": 10,
    "start_time": "2022-03-06T21:07:26.799Z"
   },
   {
    "duration": 10,
    "start_time": "2022-03-06T21:07:26.811Z"
   },
   {
    "duration": 51,
    "start_time": "2022-03-06T21:07:26.823Z"
   },
   {
    "duration": 6,
    "start_time": "2022-03-06T21:07:26.876Z"
   },
   {
    "duration": 16,
    "start_time": "2022-03-06T21:07:26.884Z"
   },
   {
    "duration": 4,
    "start_time": "2022-03-06T21:07:26.902Z"
   },
   {
    "duration": 58,
    "start_time": "2022-03-06T21:07:26.908Z"
   },
   {
    "duration": 17,
    "start_time": "2022-03-06T21:07:26.968Z"
   },
   {
    "duration": 23,
    "start_time": "2022-03-06T21:07:26.987Z"
   },
   {
    "duration": 87,
    "start_time": "2022-03-06T21:07:27.012Z"
   },
   {
    "duration": 84,
    "start_time": "2022-03-06T21:07:27.101Z"
   },
   {
    "duration": 52,
    "start_time": "2022-03-06T21:07:27.186Z"
   },
   {
    "duration": 58,
    "start_time": "2022-03-06T21:07:27.240Z"
   },
   {
    "duration": 3,
    "start_time": "2022-03-06T21:07:27.300Z"
   },
   {
    "duration": 10,
    "start_time": "2022-03-06T21:07:27.306Z"
   },
   {
    "duration": 70,
    "start_time": "2022-03-06T21:07:27.318Z"
   },
   {
    "duration": 10,
    "start_time": "2022-03-06T21:07:27.390Z"
   },
   {
    "duration": 11,
    "start_time": "2022-03-06T21:07:27.402Z"
   },
   {
    "duration": 3,
    "start_time": "2022-03-06T21:07:27.414Z"
   },
   {
    "duration": 49,
    "start_time": "2022-03-06T21:07:27.419Z"
   },
   {
    "duration": 14,
    "start_time": "2022-03-06T21:07:27.470Z"
   },
   {
    "duration": 14,
    "start_time": "2022-03-06T21:07:27.486Z"
   },
   {
    "duration": 14,
    "start_time": "2022-03-06T21:07:27.502Z"
   },
   {
    "duration": 49,
    "start_time": "2022-03-06T21:07:27.518Z"
   },
   {
    "duration": 13,
    "start_time": "2022-03-06T21:07:27.569Z"
   },
   {
    "duration": 8,
    "start_time": "2022-03-06T21:07:27.583Z"
   },
   {
    "duration": 15,
    "start_time": "2022-03-06T21:07:27.593Z"
   },
   {
    "duration": 10,
    "start_time": "2022-03-06T21:07:27.610Z"
   },
   {
    "duration": 4,
    "start_time": "2022-03-06T21:07:27.622Z"
   },
   {
    "duration": 20,
    "start_time": "2022-03-06T21:07:27.659Z"
   },
   {
    "duration": 13,
    "start_time": "2022-03-06T21:07:27.681Z"
   },
   {
    "duration": 17,
    "start_time": "2022-03-06T21:07:27.696Z"
   },
   {
    "duration": 49,
    "start_time": "2022-03-06T21:07:27.715Z"
   },
   {
    "duration": 8,
    "start_time": "2022-03-06T21:07:27.765Z"
   },
   {
    "duration": 5,
    "start_time": "2022-03-06T21:07:27.774Z"
   },
   {
    "duration": 8,
    "start_time": "2022-03-06T21:07:27.780Z"
   },
   {
    "duration": 5,
    "start_time": "2022-03-06T21:07:27.790Z"
   },
   {
    "duration": 3,
    "start_time": "2022-03-06T21:10:29.953Z"
   },
   {
    "duration": 140,
    "start_time": "2022-03-06T21:10:30.768Z"
   },
   {
    "duration": 11,
    "start_time": "2022-03-06T21:10:32.072Z"
   },
   {
    "duration": 9,
    "start_time": "2022-03-06T21:10:33.540Z"
   },
   {
    "duration": 24,
    "start_time": "2022-03-06T21:10:35.772Z"
   },
   {
    "duration": 4,
    "start_time": "2022-03-06T21:10:39.032Z"
   },
   {
    "duration": 20,
    "start_time": "2022-03-06T21:10:40.491Z"
   },
   {
    "duration": 4,
    "start_time": "2022-03-06T21:10:41.913Z"
   },
   {
    "duration": 23,
    "start_time": "2022-03-06T21:10:43.730Z"
   },
   {
    "duration": 18,
    "start_time": "2022-03-06T21:10:46.209Z"
   },
   {
    "duration": 24,
    "start_time": "2022-03-06T21:10:48.066Z"
   },
   {
    "duration": 54,
    "start_time": "2022-03-06T21:10:50.071Z"
   },
   {
    "duration": 63,
    "start_time": "2022-03-06T21:10:52.656Z"
   },
   {
    "duration": 53,
    "start_time": "2022-03-06T21:10:53.791Z"
   },
   {
    "duration": 40,
    "start_time": "2022-03-06T21:10:55.929Z"
   },
   {
    "duration": 3,
    "start_time": "2022-03-06T21:10:58.138Z"
   },
   {
    "duration": 11,
    "start_time": "2022-03-06T21:10:59.692Z"
   },
   {
    "duration": 42,
    "start_time": "2022-03-06T21:11:00.759Z"
   },
   {
    "duration": 10,
    "start_time": "2022-03-06T21:11:05.126Z"
   },
   {
    "duration": 14,
    "start_time": "2022-03-06T21:11:07.490Z"
   },
   {
    "duration": 3,
    "start_time": "2022-03-06T21:11:31.347Z"
   },
   {
    "duration": 17,
    "start_time": "2022-03-06T21:11:33.521Z"
   },
   {
    "duration": 16,
    "start_time": "2022-03-06T21:11:34.279Z"
   },
   {
    "duration": 16,
    "start_time": "2022-03-06T21:11:34.913Z"
   },
   {
    "duration": 15,
    "start_time": "2022-03-06T21:11:35.985Z"
   },
   {
    "duration": 16,
    "start_time": "2022-03-06T21:11:36.440Z"
   },
   {
    "duration": 17,
    "start_time": "2022-03-06T21:11:36.896Z"
   },
   {
    "duration": 11,
    "start_time": "2022-03-06T21:11:39.287Z"
   },
   {
    "duration": 15,
    "start_time": "2022-03-06T21:11:42.736Z"
   },
   {
    "duration": 11,
    "start_time": "2022-03-06T21:11:43.269Z"
   },
   {
    "duration": 4,
    "start_time": "2022-03-06T21:11:45.219Z"
   },
   {
    "duration": 21,
    "start_time": "2022-03-06T21:11:46.999Z"
   },
   {
    "duration": 14,
    "start_time": "2022-03-06T21:11:47.472Z"
   },
   {
    "duration": 18,
    "start_time": "2022-03-06T21:11:48.287Z"
   },
   {
    "duration": 13,
    "start_time": "2022-03-06T21:11:48.928Z"
   },
   {
    "duration": 7,
    "start_time": "2022-03-06T21:11:54.934Z"
   },
   {
    "duration": 3,
    "start_time": "2022-03-06T21:11:56.136Z"
   },
   {
    "duration": 8,
    "start_time": "2022-03-06T21:12:42.319Z"
   },
   {
    "duration": 5,
    "start_time": "2022-03-06T21:12:43.190Z"
   },
   {
    "duration": 6,
    "start_time": "2022-03-06T21:12:45.125Z"
   },
   {
    "duration": 5,
    "start_time": "2022-03-06T21:12:46.988Z"
   }
  ],
  "colab": {
   "collapsed_sections": [
    "E0vqbgi9ay0H",
    "VUC88oWjTJw2"
   ],
   "name": "yandex_music_project_2021.2.ipynb",
   "provenance": []
  },
  "kernelspec": {
   "display_name": "Python 3 (ipykernel)",
   "language": "python",
   "name": "python3"
  },
  "language_info": {
   "codemirror_mode": {
    "name": "ipython",
    "version": 3
   },
   "file_extension": ".py",
   "mimetype": "text/x-python",
   "name": "python",
   "nbconvert_exporter": "python",
   "pygments_lexer": "ipython3",
   "version": "3.9.7"
  },
  "toc": {
   "base_numbering": 1,
   "nav_menu": {},
   "number_sections": true,
   "sideBar": true,
   "skip_h1_title": true,
   "title_cell": "Table of Contents",
   "title_sidebar": "Contents",
   "toc_cell": false,
   "toc_position": {
    "height": "calc(100% - 180px)",
    "left": "10px",
    "top": "150px",
    "width": "255.198px"
   },
   "toc_section_display": true,
   "toc_window_display": true
  }
 },
 "nbformat": 4,
 "nbformat_minor": 1
}
